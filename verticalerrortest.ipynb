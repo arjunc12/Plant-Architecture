{
 "cells": [
  {
   "cell_type": "code",
   "execution_count": 87,
   "id": "8c220827-85ff-425d-8373-6e8c22176109",
   "metadata": {},
   "outputs": [
    {
     "name": "stdout",
     "output_type": "stream",
     "text": [
      "False\n"
     ]
    },
    {
     "ename": "ZeroDivisionError",
     "evalue": "float division by zero",
     "output_type": "error",
     "traceback": [
      "\u001b[1;31m---------------------------------------------------------------------------\u001b[0m",
      "\u001b[1;31mZeroDivisionError\u001b[0m                         Traceback (most recent call last)",
      "Cell \u001b[1;32mIn[87], line 7\u001b[0m\n\u001b[0;32m      5\u001b[0m \u001b[38;5;28mbool\u001b[39m \u001b[38;5;241m=\u001b[39m math\u001b[38;5;241m.\u001b[39misclose(\u001b[38;5;241m7.069259\u001b[39m, \u001b[38;5;241m7.069259000000001\u001b[39m,  rel_tol\u001b[38;5;241m=\u001b[39m\u001b[38;5;241m1e-16\u001b[39m, abs_tol\u001b[38;5;241m=\u001b[39m\u001b[38;5;241m0.0\u001b[39m)\n\u001b[0;32m      6\u001b[0m \u001b[38;5;28mbool\u001b[39m\n\u001b[1;32m----> 7\u001b[0m test \u001b[38;5;241m=\u001b[39m curve_length(\u001b[38;5;241m1\u001b[39m, \u001b[38;5;241m7.069259\u001b[39m, \u001b[38;5;241m5\u001b[39m, \u001b[38;5;241m7.069259\u001b[39m, \u001b[38;5;241m3\u001b[39m)\n\u001b[0;32m      8\u001b[0m test\n",
      "Cell \u001b[1;32mIn[70], line 51\u001b[0m, in \u001b[0;36mcurve_length\u001b[1;34m(G, x0, y0, p, q)\u001b[0m\n\u001b[0;32m     50\u001b[0m \u001b[38;5;28;01mdef\u001b[39;00m \u001b[38;5;21mcurve_length\u001b[39m(G, x0, y0, p, q):\n\u001b[1;32m---> 51\u001b[0m     b, c \u001b[38;5;241m=\u001b[39m calc_coeff(G, x0, y0, p, q)\n\u001b[0;32m     52\u001b[0m     \u001b[38;5;28;01mdef\u001b[39;00m \u001b[38;5;21mdifferential\u001b[39m(x):\n\u001b[0;32m     53\u001b[0m         \u001b[38;5;28;01mreturn\u001b[39;00m pylab\u001b[38;5;241m.\u001b[39msqrt(\u001b[38;5;241m1\u001b[39m \u001b[38;5;241m+\u001b[39m (\u001b[38;5;241m2\u001b[39m\u001b[38;5;241m*\u001b[39mG\u001b[38;5;241m*\u001b[39mx \u001b[38;5;241m+\u001b[39m b)\u001b[38;5;241m*\u001b[39m\u001b[38;5;241m*\u001b[39m\u001b[38;5;241m2\u001b[39m)\n",
      "Cell \u001b[1;32mIn[70], line 20\u001b[0m, in \u001b[0;36mcalc_coeff\u001b[1;34m(G, x, y, p, q)\u001b[0m\n\u001b[0;32m     19\u001b[0m \u001b[38;5;28;01mdef\u001b[39;00m \u001b[38;5;21mcalc_coeff\u001b[39m(G, x, y, p, q):\n\u001b[1;32m---> 20\u001b[0m     b \u001b[38;5;241m=\u001b[39m ((q \u001b[38;5;241m-\u001b[39m y \u001b[38;5;241m-\u001b[39m G\u001b[38;5;241m*\u001b[39m(p\u001b[38;5;241m*\u001b[39mp \u001b[38;5;241m-\u001b[39m x\u001b[38;5;241m*\u001b[39mx))\u001b[38;5;241m/\u001b[39m(p\u001b[38;5;241m-\u001b[39mx))\n\u001b[0;32m     21\u001b[0m     c \u001b[38;5;241m=\u001b[39m (q \u001b[38;5;241m-\u001b[39m G\u001b[38;5;241m*\u001b[39mp\u001b[38;5;241m*\u001b[39mp \u001b[38;5;241m-\u001b[39m b\u001b[38;5;241m*\u001b[39mp)\n\u001b[0;32m     23\u001b[0m     \u001b[38;5;66;03m# assert (G * x * x) + (b * x) + c == y\u001b[39;00m\n\u001b[0;32m     24\u001b[0m     \u001b[38;5;66;03m# assert (G * p * p) + (b * p) + c == q\u001b[39;00m\n",
      "\u001b[1;31mZeroDivisionError\u001b[0m: float division by zero"
     ]
    }
   ],
   "source": [
    "7.069259\n",
    "7.069259000000001\n",
    "otherbool = (7.069259 == 7.069259000000001)\n",
    "print(otherbool)\n",
    "bool = math.isclose(7.069259, 7.069259000000001,  rel_tol=1e-16, abs_tol=0.0)\n",
    "bool\n",
    "test = curve_length(1, 7.069259, 5, 7.069259, 3)\n",
    "test"
   ]
  },
  {
   "cell_type": "code",
   "execution_count": 104,
   "id": "890141a1-a90f-4b44-b17e-5f7a7583daec",
   "metadata": {},
   "outputs": [
    {
     "data": {
      "image/png": "[encoded data removed]",
      "text/plain": [
       "<Figure size 640x480 with 1 Axes>"
      ]
     },
     "metadata": {},
     "output_type": "display_data"
    }
   ],
   "source": [
    "G = rar.read_arbor_full('001_1_c_day5.csv')\n",
    "coords = {}\n",
    "for coordinate in list(G.nodes):\n",
    "    coords[coordinate] = coordinate\n",
    "nx.draw_networkx(G, pos = coords, with_labels = False, node_size = 2)"
   ]
  },
  {
   "cell_type": "code",
   "execution_count": 5,
   "id": "b1eb9f13-6f66-4ee7-adcb-5f1ab1cb6ed4",
   "metadata": {},
   "outputs": [],
   "source": [
    "import math\n",
    "import point_similarity as ps\n",
    "import scipy.integrate as integrate\n",
    "import pylab\n",
    "import mpmath\n",
    "#from scipy.misc import derivative\n",
    "import plotly\n",
    "from plotly import graph_objs as go\n",
    "import sys\n",
    "import read_arbor_reconstruction as rar\n",
    "import networkx as nx\n",
    "import pareto_functions as pf\n",
    "from constants import *\n",
    "import os\n",
    "import pickle\n",
    "import argparse\n",
    "import pandas as pd\n",
    "## returns the coefficients of the quadratic equation involving gravity\n",
    "def calc_coeff(G, x, y, p, q):\n",
    "    b = ((q - y - G*(p*p - x*x))/(p-x))\n",
    "    c = (q - G*p*p - b*p)\n",
    "\n",
    "    # assert (G * x * x) + (b * x) + c == y\n",
    "    # assert (G * p * p) + (b * p) + c == q\n",
    "\n",
    "    return b, c\n",
    "\n",
    "## checks if a line has a positive slope given two points\n",
    "def positive_slope(x0, y0, x1, y1):\n",
    "    if x0 == x1 or y0 == y1:\n",
    "        return False\n",
    "    slope = (y1 - y0)/(x1 - x0)\n",
    "    if slope >= 0:\n",
    "        return True\n",
    "    return False\n",
    "\n",
    "## simply just a distance function\n",
    "def length_func(x0, y0, x1, y1):\n",
    "    length = pylab.sqrt((x1 - x0)**2 + (y1 - y0)**2)\n",
    "    return length\n",
    "\n",
    "## a way to calculate theta based on two points\n",
    "def get_theta(x0, y0, x1, y1):\n",
    "    if x1 == x0 or y1 == y0:\n",
    "        return 0\n",
    "    theta = pylab.arctan((abs(y1 - y0))/(abs(x1 - x0)))\n",
    "    return theta\n",
    "\n",
    "## Returns the length of a curve (in this case a lateral root when gravity is not 0)\n",
    "def curve_length(G, x0, y0, p, q):\n",
    "    b, c = calc_coeff(G, x0, y0, p, q)\n",
    "    def differential(x):\n",
    "        return pylab.sqrt(1 + (2*G*x + b)**2)\n",
    "    curve, tolerance = integrate.quad(differential, min(x0, p), max(x0, p))\n",
    "    return curve\n",
    "\n",
    "## Returns the distance from a point to the base of the plant\n",
    "def distance_from_base(root_distance, x, y, x1, y1):\n",
    "    pair1 = [x, y]\n",
    "    pair2 = [x1, y1]\n",
    "    distance = math.dist(pair1, pair2)\n",
    "    if(x,y) == (x1, y1):\n",
    "        assert distance == 0\n",
    "    return distance + root_distance\n",
    "\n",
    "## Returns the total cost along with the wiring and delay used to calculate it\n",
    "def total_cost(alpha, G, root_distance, x0, y0, x1, y1, p, q):\n",
    "    curve = curve_length(G, x1, y1, p, q)\n",
    "    to_root = distance_from_base(root_distance, x0, y0, x1, y1)\n",
    "    wiring = curve\n",
    "    delay = (curve + to_root)\n",
    "    cost = (alpha * wiring) +  ((1 - alpha) * delay)\n",
    "    #print(\"curve = \", curve, \"to root = \" , to_root, \"wiring = \", wiring, \"delay = \", delay, \"total cost = \", cost)\n",
    "    #cost = curve + (1 - alpha) * distance_from_base(root_distance, x0, y0, x1, y1)\n",
    "    return cost, wiring, delay\n",
    "\n",
    "def find_best_cost(alpha, G, root_distance, x0, y0, x1, y1, p, q):\n",
    "    results = []\n",
    "    min_t = 0\n",
    "    delta = 0.01\n",
    "    max_t = 1\n",
    "    best_t = math.inf\n",
    "    best_cost = math.inf\n",
    "    best_wiring = math.inf\n",
    "    best_delay = math.inf\n",
    "    l = length_func(x0, y0, x1, y1)\n",
    "    theta = get_theta(x0, y0, x1, y1)\n",
    "    x_opt = None\n",
    "    y_opt = None\n",
    "    best_x = None\n",
    "    best_y = None\n",
    "    for t in pylab.arange(min_t, max_t + delta, delta):\n",
    "        is_positive = positive_slope(x0, y0, x1, y1)\n",
    "        new_x = None\n",
    "        new_y = None\n",
    "        if is_positive:\n",
    "            new_x = x0 + t*l*math.cos(theta)\n",
    "            new_y = y0 + t*l*math.sin(theta)\n",
    "        else:\n",
    "            new_x = x0 - (t*l*math.cos(theta))\n",
    "            new_y = y0 + (t*l*math.sin(theta))\n",
    "        x_curr = pylab.linspace(min(p, new_x), max(p, new_x))\n",
    "        cost, wiring, delay = total_cost(alpha, G, root_distance, x0, y0, new_x, new_y, p, q)\n",
    "        if cost <= best_cost:\n",
    "            best_cost = cost\n",
    "            best_wiring = wiring\n",
    "            best_delay = delay\n",
    "            best_t = t\n",
    "            b, c = calc_coeff(G, new_x, new_y, p, q)\n",
    "            best_x = new_x\n",
    "            best_y = new_y\n",
    "            #x_opt = x_curr\n",
    "            #y_opt = G * x_opt ** 2 + b * x_opt + c\n",
    "        '''\n",
    "        if t % 0.2 == 0:\n",
    "            b, c = calc_coeff(G, new_x, new_y, p, q)\n",
    "            y_inter =  G * x_curr ** 2 + b * x_curr + c\n",
    "            intermediate_line = go.Scatter(x = x_curr,y = y_inter, mode = \"lines\", name = str(cost))\n",
    "            fig.add_trace(intermediate_line)\n",
    "           '''\n",
    "        results.append(cost)\n",
    "    ##opt_line = go.Scatter(x = x_opt, y = y_opt, mode = \"lines\", name = \"Optimal: \" + str(best_cost))\n",
    "    ##fig.add_trace(opt_line)\n",
    "    return best_cost, best_wiring, best_delay, best_t, best_x, best_y, p, q\n",
    "\n",
    "def arbor_best_cost(fname, alpha, G, root_distance):\n",
    "    arbor = rar.read_arbor_full(fname)\n",
    "    main_root = []\n",
    "    lat_tips = []\n",
    "    line_segments = {}\n",
    "    point_drawing = go.Figure()\n",
    "    for node in arbor.nodes():\n",
    "        if arbor.nodes[node][\"label\"] == (\"main root\") or arbor.nodes[node][\"label\"] == (\"main root base\"):\n",
    "            main_root.append(node)\n",
    "        if arbor.nodes[node][\"label\"] == (\"lateral root tip\"):\n",
    "            lat_tips.append(node)\n",
    "    for i in range(1, len(main_root)):\n",
    "        line_segments[i] = main_root[i - 1], main_root[i]\n",
    "\n",
    "    # for each lateral root tip iterate through every line segment to find lowest costing point on main root\n",
    "    final = []\n",
    "    for tip in lat_tips:\n",
    "        curr_dist = 0\n",
    "        results = []\n",
    "        firstTime = True\n",
    "        p = tip[0]\n",
    "        q = tip[1]\n",
    "        for seg in line_segments:\n",
    "            x0 = line_segments[seg][0][0]\n",
    "            y0 = line_segments[seg][0][1]\n",
    "            x1 = line_segments[seg][1][0]\n",
    "            y1 = line_segments[seg][1][1]\n",
    "            if firstTime == True:\n",
    "                result = find_best_cost(alpha, G, root_distance, x0, y0, x1, y1, p, q)\n",
    "                curr_dist += length_func(x0, y0, x1, y1)\n",
    "                firstTime = False\n",
    "            else:\n",
    "                result = find_best_cost(alpha, G, root_distance + curr_dist, x0, y0, x1, y1, p, q)\n",
    "                curr_dist += length_func(x0, y0, x1, y1)\n",
    "            results.append(result)\n",
    "        final.append(min(results))\n",
    "\n",
    "    return final\n",
    "\n",
    "\n",
    "def get_last_day_files():\n",
    "    files_by_genotype = {}\n",
    "\n",
    "    for file_name in os.listdir(RECONSTRUCTIONS_DIR):\n",
    "        if not file_name.endswith(\".csv\"):\n",
    "            continue\n",
    "        parts = file_name.split('_')\n",
    "\n",
    "        genotype = parts[0]\n",
    "        replicate = parts[1]\n",
    "        condition = parts[2]\n",
    "        hormone = None\n",
    "        if len(parts) >= 3:\n",
    "            hormone = parts[3]\n",
    "        day = parts[-1].replace('.csv', '')\n",
    "        day = int(day.strip('day'))\n",
    "\n",
    "        key = (genotype, replicate, condition)\n",
    "        if key not in files_by_genotype:\n",
    "            files_by_genotype[key] = {}\n",
    "\n",
    "        files_by_genotype[key][day] = file_name\n",
    "\n",
    "    last_day_files = {}\n",
    "    for key, day_files in files_by_genotype.items():\n",
    "        last_day = max(day_files.keys())\n",
    "        if last_day not in [5, 9]:\n",
    "            continue\n",
    "        last_day_files[key] = day_files[last_day]\n",
    "    return last_day_files\n",
    "\n",
    "def is_between(a, x, b):\n",
    "        return a < x < b or b < x < a\n",
    "\n",
    "\n",
    "def get_closest_main_seg(lat_tips, line_segments):\n",
    "    closest_segs = []\n",
    "    for tip in lat_tips: \n",
    "        best_distance = math.inf\n",
    "        best_seg = None\n",
    "        for num, seg in line_segments.items():\n",
    "            d = math.inf\n",
    "            x0, y0 = seg[0]\n",
    "            x1, y1 = seg[1]\n",
    "\n",
    "            A = (x0 - tip[0]) * (x1 - x0) + (y0 - tip[1]) * (y1 - y0)\n",
    "            B = (x1 - x0)**2 + (y1 - y0)**2\n",
    "            t = A/B\n",
    "            if (0 <= t <= 1): \n",
    "                c = abs(((x1 - x0) * (y0 - tip[1])) - ((y1 - y0) * (x0 - tip[0])))\n",
    "                d = c/math.sqrt(B)\n",
    "            else: \n",
    "                d1 = math.sqrt((x1-tip[0])**2 + (y1 - tip[1])**2)\n",
    "                d2 = math.sqrt((x0-tip[0])**2 + (y0 - tip[1])**2)\n",
    "                d = min(d1, d2)\n",
    "            if d < best_distance:\n",
    "                best_distance = d\n",
    "                best_seg = seg\n",
    "        closest_segs += best_seg\n",
    "    return closest_segs\n",
    "\n",
    "\n",
    "# this code returns segments on the main root that don't have a y coordinate higher than the closest main root segment\n",
    "def valid_segments(tip_number, line_segments, closest_segs):\n",
    "    valid_segs = []\n",
    "    for seg in line_segments:\n",
    "        y = seg[1]\n",
    "        closest = closest_segs[tip_number]\n",
    "        closest_y = closest[1]\n",
    "        if y < closest_y:\n",
    "            valid_segs += seg\n",
    "        else:\n",
    "            break\n",
    "    return valid_segs\n",
    "        "
   ]
  },
  {
   "cell_type": "code",
   "execution_count": 2,
   "id": "0f09464e-b73e-4c1c-ad77-b0e0196fb4a6",
   "metadata": {},
   "outputs": [
    {
     "name": "stderr",
     "output_type": "stream",
     "text": [
      "\n",
      "KeyboardInterrupt\n",
      "\n"
     ]
    }
   ],
   "source": [
    "import math\n",
    "import point_similarity as ps\n",
    "import scipy.integrate as integrate\n",
    "import pylab\n",
    "import mpmath\n",
    "#from scipy.misc import derivative\n",
    "import plotly\n",
    "from plotly import graph_objs as go\n",
    "import sys\n",
    "import read_arbor_reconstruction as rar\n",
    "import networkx as nx\n",
    "import pareto_functions as pf\n",
    "from constants import *\n",
    "import os\n",
    "import pickle\n",
    "import argparse\n",
    "import pandas as pd\n",
    "## returns the coefficients of the quadratic equation involving gravity\n",
    "def calc_coeff(G, x, y, p, q):\n",
    "    b = ((q - y - G*(p*p - x*x))/(p-x))\n",
    "    c = (q - G*p*p - b*p)\n",
    "\n",
    "    # assert (G * x * x) + (b * x) + c == y\n",
    "    # assert (G * p * p) + (b * p) + c == q\n",
    "\n",
    "    return b, c\n",
    "\n",
    "## checks if a line has a positive slope given two points\n",
    "def positive_slope(x0, y0, x1, y1):\n",
    "    if x0 == x1 or y0 == y1:\n",
    "        return False\n",
    "    slope = (y1 - y0)/(x1 - x0)\n",
    "    if slope >= 0:\n",
    "        return True\n",
    "    return False\n",
    "\n",
    "## simply just a distance function\n",
    "def length_func(x0, y0, x1, y1):\n",
    "    length = pylab.sqrt((x1 - x0)**2 + (y1 - y0)**2)\n",
    "    return length\n",
    "\n",
    "## a way to calculate theta based on two points\n",
    "def get_theta(x0, y0, x1, y1):\n",
    "    if x1 == x0 or y1 == y0:\n",
    "        return 0\n",
    "    theta = pylab.arctan((abs(y1 - y0))/(abs(x1 - x0)))\n",
    "    return theta\n",
    "\n",
    "## Returns the length of a curve (in this case a lateral root when gravity is not 0)\n",
    "def curve_length(G, x0, y0, p, q):\n",
    "    b, c = calc_coeff(G, x0, y0, p, q)\n",
    "    def differential(x):\n",
    "        return pylab.sqrt(1 + (2*G*x + b)**2)\n",
    "    curve, tolerance = integrate.quad(differential, min(x0, p), max(x0, p))\n",
    "    return curve\n",
    "\n",
    "## Returns the distance from a point to the base of the plant\n",
    "def distance_from_base(root_distance, x, y, x1, y1):\n",
    "    pair1 = [x, y]\n",
    "    pair2 = [x1, y1]\n",
    "    distance = math.dist(pair1, pair2)\n",
    "    if(x,y) == (x1, y1):\n",
    "        assert distance == 0\n",
    "    return distance + root_distance\n",
    "\n",
    "## Returns the total cost along with the wiring and delay used to calculate it\n",
    "def total_cost(alpha, G, root_distance, x0, y0, x1, y1, p, q):\n",
    "    curve = curve_length(G, x1, y1, p, q)\n",
    "    to_root = distance_from_base(root_distance, x0, y0, x1, y1)\n",
    "    wiring = curve\n",
    "    delay = (curve + to_root)\n",
    "    cost = (alpha * wiring) +  ((1 - alpha) * delay)\n",
    "    #print(\"curve = \", curve, \"to root = \" , to_root, \"wiring = \", wiring, \"delay = \", delay, \"total cost = \", cost)\n",
    "    #cost = curve + (1 - alpha) * distance_from_base(root_distance, x0, y0, x1, y1)\n",
    "    return cost, wiring, delay\n",
    "\n",
    "def find_best_cost(alpha, G, root_distance, x0, y0, x1, y1, p, q):\n",
    "    results = []\n",
    "    min_t = 0\n",
    "    delta = 0.01\n",
    "    max_t = 1\n",
    "    best_t = math.inf\n",
    "    best_cost = math.inf\n",
    "    best_wiring = math.inf\n",
    "    best_delay = math.inf\n",
    "    l = length_func(x0, y0, x1, y1)\n",
    "    theta = get_theta(x0, y0, x1, y1)\n",
    "    x_opt = None\n",
    "    y_opt = None\n",
    "    best_x = None\n",
    "    best_y = None\n",
    "    for t in pylab.arange(min_t, max_t + delta, delta):\n",
    "        is_positive = positive_slope(x0, y0, x1, y1)\n",
    "        new_x = None\n",
    "        new_y = None\n",
    "        if is_positive:\n",
    "            new_x = x0 + t*l*math.cos(theta)\n",
    "            new_y = y0 + t*l*math.sin(theta)\n",
    "        else:\n",
    "            new_x = x0 - (t*l*math.cos(theta))\n",
    "            new_y = y0 + (t*l*math.sin(theta))\n",
    "        x_curr = pylab.linspace(min(p, new_x), max(p, new_x))\n",
    "        cost, wiring, delay = total_cost(alpha, G, root_distance, x0, y0, new_x, new_y, p, q)\n",
    "        if cost <= best_cost:\n",
    "            best_cost = cost\n",
    "            best_wiring = wiring\n",
    "            best_delay = delay\n",
    "            best_t = t\n",
    "            b, c = calc_coeff(G, new_x, new_y, p, q)\n",
    "            best_x = new_x\n",
    "            best_y = new_y\n",
    "            #x_opt = x_curr\n",
    "            #y_opt = G * x_opt ** 2 + b * x_opt + c\n",
    "        '''\n",
    "        if t % 0.2 == 0:\n",
    "            b, c = calc_coeff(G, new_x, new_y, p, q)\n",
    "            y_inter =  G * x_curr ** 2 + b * x_curr + c\n",
    "            intermediate_line = go.Scatter(x = x_curr,y = y_inter, mode = \"lines\", name = str(cost))\n",
    "            fig.add_trace(intermediate_line)\n",
    "           '''\n",
    "        results.append(cost)\n",
    "    ##opt_line = go.Scatter(x = x_opt, y = y_opt, mode = \"lines\", name = \"Optimal: \" + str(best_cost))\n",
    "    ##fig.add_trace(opt_line)\n",
    "    return best_cost, best_wiring, best_delay, best_t, best_x, best_y, p, q\n",
    "\n",
    "def arbor_best_cost(fname, alpha, G, root_distance):\n",
    "    arbor = rar.read_arbor_full(fname)\n",
    "    main_root = []\n",
    "    lat_tips = []\n",
    "    line_segments = {}\n",
    "    point_drawing = go.Figure()\n",
    "    for node in arbor.nodes():\n",
    "        if arbor.nodes[node][\"label\"] == (\"main root\") or arbor.nodes[node][\"label\"] == (\"main root base\"):\n",
    "            main_root.append(node)\n",
    "        if arbor.nodes[node][\"label\"] == (\"lateral root tip\"):\n",
    "            lat_tips.append(node)\n",
    "    for i in range(1, len(main_root)):\n",
    "        line_segments[i] = main_root[i - 1], main_root[i]\n",
    "\n",
    "    # for each lateral root tip iterate through every line segment to find lowest costing point on main root\n",
    "    final = []\n",
    "    for tip in lat_tips:\n",
    "        curr_dist = 0\n",
    "        results = []\n",
    "        firstTime = True\n",
    "        p = tip[0]\n",
    "        q = tip[1]\n",
    "        for seg in line_segments:\n",
    "            x0 = line_segments[seg][0][0]\n",
    "            y0 = line_segments[seg][0][1]\n",
    "            x1 = line_segments[seg][1][0]\n",
    "            y1 = line_segments[seg][1][1]\n",
    "            if firstTime == True:\n",
    "                result = find_best_cost(alpha, G, root_distance, x0, y0, x1, y1, p, q)\n",
    "                curr_dist += length_func(x0, y0, x1, y1)\n",
    "                firstTime = False\n",
    "            else:\n",
    "                result = find_best_cost(alpha, G, root_distance + curr_dist, x0, y0, x1, y1, p, q)\n",
    "                curr_dist += length_func(x0, y0, x1, y1)\n",
    "            results.append(result)\n",
    "        final.append(min(results))\n",
    "\n",
    "    return final\n",
    "\n",
    "\n",
    "def get_last_day_files():\n",
    "    files_by_genotype = {}\n",
    "\n",
    "    for file_name in os.listdir(RECONSTRUCTIONS_DIR):\n",
    "        if not file_name.endswith(\".csv\"):\n",
    "            continue\n",
    "        parts = file_name.split('_')\n",
    "\n",
    "        genotype = parts[0]\n",
    "        replicate = parts[1]\n",
    "        condition = parts[2]\n",
    "        hormone = None\n",
    "        if len(parts) >= 3:\n",
    "            hormone = parts[3]\n",
    "        day = parts[-1].replace('.csv', '')\n",
    "        day = int(day.strip('day'))\n",
    "\n",
    "        key = (genotype, replicate, condition)\n",
    "        if key not in files_by_genotype:\n",
    "            files_by_genotype[key] = {}\n",
    "\n",
    "        files_by_genotype[key][day] = file_name\n",
    "\n",
    "    last_day_files = {}\n",
    "    for key, day_files in files_by_genotype.items():\n",
    "        last_day = max(day_files.keys())\n",
    "        if last_day not in [5, 9]:\n",
    "            continue\n",
    "        last_day_files[key] = day_files[last_day]\n",
    "    return last_day_files\n",
    "\n",
    "def is_between(a, x, b):\n",
    "        return a < x < b or b < x < a\n",
    "\n",
    "\n",
    "last_day = get_last_day_files()\n",
    "count = 0\n",
    "for key,arbor in last_day.items():\n",
    "    #print(arbor)\n",
    "    arbor_test = rar.read_arbor_full(arbor)\n",
    "    main_root = []\n",
    "    lat_tips = []\n",
    "    line_segments = {}\n",
    "    #point_drawing = go.Figure()\n",
    "    for node in arbor_test.nodes():\n",
    "        if arbor_test.nodes[node][\"label\"] == (\"main root\") or arbor_test.nodes[node][\"label\"] == (\"main root base\"):\n",
    "            main_root.append(node)\n",
    "        if arbor_test.nodes[node][\"label\"] == (\"lateral root tip\"):\n",
    "            lat_tips.append(node)\n",
    "    for i in range(1, len(main_root)):\n",
    "        line_segments[i] = main_root[i - 1], main_root[i]\n",
    "\n",
    "\n",
    "    ## This code returns the closest main root segment for each lateral root tip\n",
    "    closest_segs = []\n",
    "    for tip in lat_tips: \n",
    "        best_distance = math.inf\n",
    "        best_seg = None\n",
    "        for num, seg in line_segments.items():\n",
    "            d = math.inf\n",
    "            x0, y0 = seg[0]\n",
    "            x1, y1 = seg[1]\n",
    "\n",
    "            A = (x0 - tip[0]) * (x1 - x0) + (y0 - tip[1]) * (y1 - y0)\n",
    "            B = (x1 - x0)**2 + (y1 - y0)**2\n",
    "            t = A/B\n",
    "            if (0 <= t <= 1): \n",
    "                c = abs(((x1 - x0) * (y0 - tip[1])) - ((y1 - y0) * (x0 - tip[0])))\n",
    "                d = c/math.sqrt(B)\n",
    "            else: \n",
    "                d1 = math.sqrt((x1-tip[0])**2 + (y1 - tip[1])**2)\n",
    "                d2 = math.sqrt((x0-tip[0])**2 + (y0 - tip[1])**2)\n",
    "                d = min(d1, d2)\n",
    "            if d < best_distance:\n",
    "                best_distance = d\n",
    "                best_seg = seg\n",
    "            \n",
    "\n",
    "\n",
    "        closest_segs += best_seg\n",
    "        #print(\"Tip \" + str(tip) + \" closest segment is \" + str(best_seg) + \" with distance: \" + str(best_distance))\n",
    "    #print(closest_segs)\n",
    "\n",
    "# created helper function based on code above\n",
    "def get_closest_main_seg(lat_tips, line_segments):\n",
    "    closest_segs = []\n",
    "    for tip in lat_tips: \n",
    "        best_distance = math.inf\n",
    "        best_seg = None\n",
    "        for num, seg in line_segments.items():\n",
    "            d = math.inf\n",
    "            x0, y0 = seg[0]\n",
    "            x1, y1 = seg[1]\n",
    "\n",
    "            A = (x0 - tip[0]) * (x1 - x0) + (y0 - tip[1]) * (y1 - y0)\n",
    "            B = (x1 - x0)**2 + (y1 - y0)**2\n",
    "            t = A/B\n",
    "            if (0 <= t <= 1): \n",
    "                c = abs(((x1 - x0) * (y0 - tip[1])) - ((y1 - y0) * (x0 - tip[0])))\n",
    "                d = c/math.sqrt(B)\n",
    "            else: \n",
    "                d1 = math.sqrt((x1-tip[0])**2 + (y1 - tip[1])**2)\n",
    "                d2 = math.sqrt((x0-tip[0])**2 + (y0 - tip[1])**2)\n",
    "                d = min(d1, d2)\n",
    "            if d < best_distance:\n",
    "                best_distance = d\n",
    "                best_seg = seg\n",
    "        closest_segs += best_seg\n",
    "    return closest_segs\n",
    "\n",
    "\n",
    "# this code returns segments on the main root that don't have a y coordinate higher than the closest main root segment\n",
    "def valid_segments(tip_number, line_segments, closest_segs):\n",
    "    valid_segs = []\n",
    "    for seg in line_segments:\n",
    "        y = seg[1]\n",
    "        closest = closest_segs[tip_number]\n",
    "        closest_y = closest[1]\n",
    "        if y < closest_y:\n",
    "            valid_segs += seg\n",
    "        else:\n",
    "            break\n",
    "    return valid_segs\n",
    "        \n",
    "\n",
    "def modified_arbor_best_cost(fname, alpha, G, root_distance):\n",
    "    final = []\n",
    "    arbor = rar.read_arbor_full(fname)\n",
    "    main_root = []\n",
    "    lat_tips = []\n",
    "    line_segments = {}\n",
    "    #point_drawing = go.Figure()\n",
    "    for node in arbor.nodes():\n",
    "        if arbor.nodes[node][\"label\"] == (\"main root\") or arbor.nodes[node][\"label\"] == (\"main root base\"):\n",
    "            main_root.append(node)\n",
    "        if arbor.nodes[node][\"label\"] == (\"lateral root tip\"):\n",
    "            lat_tips.append(node)\n",
    "    for i in range(1, len(main_root)):\n",
    "        line_segments[i] = main_root[i - 1], main_root[i]\n",
    "\n",
    "    closest_segs = get_closest_main_seg(lat_tips, line_segments)\n",
    "    tip_number = 0\n",
    "    for tip in lat_tips: \n",
    "        curr_dist = 0\n",
    "        results = []\n",
    "        valid_segs = valid_segments(tip_number, line_segments, closest_segs)\n",
    "        for seg in valid_segs: \n",
    "            x0, y0 = seg[0]\n",
    "            x1, y1 = seg[1]\n",
    "            # if the tip is in between a segment, brute force the segment\n",
    "            if is_between(x0, tip[0], x1):\n",
    "                if firstTime == True:\n",
    "                    result = find_best_cost(alpha, G, root_distance, x0, y0, x1, y1, p, q)\n",
    "                    curr_dist += length_func(x0, y0, x1, y1)\n",
    "                    firstTime = False\n",
    "                else:\n",
    "                    result = find_best_cost(alpha, G, root_distance + curr_dist, x0, y0, x1, y1, p, q)\n",
    "                    curr_dist += length_func(x0, y0, x1, y1)\n",
    "                results.append(result)\n",
    "            # if the tip is not in between a segment, use Dr. Richard's equation\n",
    "            else:\n",
    "                l = math.sqrt((x1 - x0)**2 + (y1 - y0)**2)\n",
    "                theta = math.atan2(y1 - y0, x1 - x0)\n",
    "\n",
    "                # Recalculate A1–E1 based on current l, theta, G, p, q\n",
    "                A1 = G * (l * math.cos(theta))**2\n",
    "                B1 = -l * math.sin(theta)\n",
    "                C1 = q - G * p**2\n",
    "                D1 = -l * math.cos(theta)\n",
    "                E1 = p\n",
    "            \n",
    "                # Define b(t), b'(t), cost'(t)\n",
    "                def b(t): return (A1*t**2 + B1*t + C1) / (D1*t + E1)\n",
    "                def bprime(t):\n",
    "                    numerator = (D1*t + E1)*(2*A1*t + B1) - D1*(A1*t**2 + B1*t + C1)\n",
    "                    denominator = (D1*t + E1)**2\n",
    "                    return numerator / denominator\n",
    "                def costprime(t):\n",
    "                    b_val = b(t)\n",
    "                    bp = bprime(t)\n",
    "                    term1 = (bp / (2 * G)) * (math.sqrt(1 + (2 * G * p + b_val)**2) -\n",
    "                                               math.sqrt(1 + (2 * G * t * l * math.cos(theta) + b_val)**2))\n",
    "                    term2 = (1 - alpha) * l\n",
    "                    term3 = math.sqrt(1 + (2 * G * t * l * math.cos(theta) + b_val)**2) * l * math.cos(theta)\n",
    "                    return term1 + term2 - term3\n",
    "            \n",
    "                # Find root(s) of costprime in [0, 1]\n",
    "                roots = find_multiple_roots(costprime, [0, 1], num_guesses=200)\n",
    "                valid_roots = [r for r in roots if 0 <= r <= 1]\n",
    "            \n",
    "                # Define the full cost function if not already\n",
    "                def cost(t):\n",
    "                    b_val = b(t)\n",
    "                    return ((1 - alpha) * l * t + alpha / (2 * G) *\n",
    "                            (math.sqrt(1 + (2 * G * p + b_val)**2) -\n",
    "                             math.sqrt(1 + (2 * G * t * l * math.cos(theta) + b_val)**2)))\n",
    "            \n",
    "                # Get cost at valid root(s)\n",
    "                if valid_roots:\n",
    "                    min_root = min(valid_roots, key=lambda t: cost(t))\n",
    "                    result = cost(min_root)\n",
    "                    results.append(result)\n",
    "                \n",
    "        final.append(min(results))\n",
    "        tip_number += 1\n",
    "\n",
    "    return final\n",
    "\n",
    "\n",
    "    # THIS IS FOR WHEN YOU WANT TO COUNT HOW MANY TIMES A TIP APPEARS IN BETWEEN A ROOT SEGMENT'S X COORDINATE\n",
    "   # for num, seg in line_segments.items():\n",
    "      #  x0, y0 = seg[0]\n",
    "      #  x1, y1 = seg[1]\n",
    "      #  min_t = 0\n",
    "      #  delta = 0.01\n",
    "      #  max_t = 1\n",
    "      #  l = length_func(x0, y0, x1, y1)\n",
    "       # theta = get_theta(x0, y0, x1, y1)\n",
    "      #  for tip in lat_tips:\n",
    "         #   if (x0 <= tip[0] <= x1):\n",
    "          #      count += 1\n",
    "            #    print(count)\n",
    "            \n",
    "      #  for t in pylab.arange(min_t, max_t + delta, delta):\n",
    "            #for tip in lat_tips:\n",
    "               # if is_between(x0, tip[0], x1):\n",
    "                   # count += 1\n",
    "                  #  print(count)\n",
    "\n",
    "                \n",
    "                #is_positive = positive_slope(x0, y0, x1, y1)\n",
    "                #new_x = None\n",
    "               # new_y = None\n",
    "              #  if is_positive:\n",
    "                 #   new_x = x0 + t*l*math.cos(theta)\n",
    "                   # new_y = y0 + t*l*math.sin(theta)\n",
    "               # else:\n",
    "                 #   new_x = x0 - (t*l*math.cos(theta))\n",
    "                   # new_y = y0 + (t*l*math.sin(theta))\n",
    "                #if(math.isclose(tip[0], new_x, rel_tol=1e-9, abs_tol=0.0)):\n",
    "                   # print(tip[0])\n",
    "                   # print(new_x)\n",
    "                  #  raise Exception(\"X-coordinates are the same. Vertical line test failed.\")\n",
    "                \n",
    "                "
   ]
  },
  {
   "cell_type": "code",
   "execution_count": 116,
   "id": "0df51fad-8ab6-484c-820b-e86d8470f062",
   "metadata": {
    "scrolled": true
   },
   "outputs": [
    {
     "name": "stdout",
     "output_type": "stream",
     "text": [
      "[((6.216466, 4.535322), (6.226423, 4.737842)), ((6.226423, 4.737842), (6.245008, 4.85934)), ((6.245008, 4.85934), (6.174974, 4.974765)), ((6.174974, 4.974765), (6.142084, 5.053255)), ((6.142084, 5.053255), (6.123158, 5.175507)), ((6.123158, 5.175507), (6.10373, 5.301015)), ((6.10373, 5.301015), (6.091752, 5.378411)), ((6.091752, 5.378411), (6.094696, 5.510375)), ((6.094696, 5.510375), (6.036667, 5.66764)), ((6.036667, 5.66764), (5.991576, 5.735586)), ((5.991576, 5.735586), (5.893041, 5.858559)), ((5.893041, 5.858559), (5.840053, 5.944022)), ((5.840053, 5.944022), (5.777653, 6.036696)), ((5.777653, 6.036696), (5.746139, 6.086179)), ((5.746139, 6.086179), (5.687519, 6.231828)), ((5.687519, 6.231828), (5.659779, 6.292732)), ((5.659779, 6.292732), (5.63137, 6.340664)), ((5.63137, 6.340664), (5.592516, 6.406215)), ((5.592516, 6.406215), (5.553662, 6.471765)), ((5.553662, 6.471765), (5.481818, 6.560254)), ((5.481818, 6.560254), (5.43335, 6.615202)), ((5.43335, 6.615202), (5.393803, 6.678135)), ((5.393803, 6.678135), (5.358522, 6.745531)), ((5.358522, 6.745531), (5.344361, 6.785489)), ((5.344361, 6.785489), (5.294842, 6.919923)), ((5.294842, 6.919923), (5.2756, 7.006803)), ((5.2756, 7.006803), (5.258248, 7.043624)), ((5.258248, 7.043624), (5.228629, 7.120522)), ((5.228629, 7.120522), (5.197806, 7.183892))]\n"
     ]
    },
    {
     "name": "stderr",
     "output_type": "stream",
     "text": [
      "C:\\Users\\agarz\\AppData\\Local\\Temp\\ipykernel_6264\\2249154271.py:208: DeprecationWarning:\n",
      "\n",
      "Conversion of an array with ndim > 0 to a scalar is deprecated, and will error in future. Ensure you extract a single element from your array before performing this operation. (Deprecated NumPy 1.25.)\n",
      "\n"
     ]
    },
    {
     "name": "stdout",
     "output_type": "stream",
     "text": [
      "[((6.216466, 4.535322), (6.226423, 4.737842)), ((6.226423, 4.737842), (6.245008, 4.85934)), ((6.245008, 4.85934), (6.174974, 4.974765)), ((6.174974, 4.974765), (6.142084, 5.053255)), ((6.142084, 5.053255), (6.123158, 5.175507)), ((6.123158, 5.175507), (6.10373, 5.301015)), ((6.10373, 5.301015), (6.091752, 5.378411)), ((6.091752, 5.378411), (6.094696, 5.510375)), ((6.094696, 5.510375), (6.036667, 5.66764))]\n",
      "[((6.216466, 4.535322), (6.226423, 4.737842)), ((6.226423, 4.737842), (6.245008, 4.85934))]\n"
     ]
    },
    {
     "name": "stderr",
     "output_type": "stream",
     "text": [
      "C:\\Users\\agarz\\AppData\\Local\\Temp\\ipykernel_6264\\2249154271.py:245: RuntimeWarning:\n",
      "\n",
      "The iteration is not making good progress, as measured by the \n",
      "  improvement from the last ten iterations.\n",
      "\n"
     ]
    },
    {
     "name": "stdout",
     "output_type": "stream",
     "text": [
      "[((6.216466, 4.535322), (6.226423, 4.737842)), ((6.226423, 4.737842), (6.245008, 4.85934)), ((6.245008, 4.85934), (6.174974, 4.974765)), ((6.174974, 4.974765), (6.142084, 5.053255)), ((6.142084, 5.053255), (6.123158, 5.175507)), ((6.123158, 5.175507), (6.10373, 5.301015)), ((6.10373, 5.301015), (6.091752, 5.378411)), ((6.091752, 5.378411), (6.094696, 5.510375)), ((6.094696, 5.510375), (6.036667, 5.66764)), ((6.036667, 5.66764), (5.991576, 5.735586)), ((5.991576, 5.735586), (5.893041, 5.858559)), ((5.893041, 5.858559), (5.840053, 5.944022)), ((5.840053, 5.944022), (5.777653, 6.036696)), ((5.777653, 6.036696), (5.746139, 6.086179)), ((5.746139, 6.086179), (5.687519, 6.231828)), ((5.687519, 6.231828), (5.659779, 6.292732)), ((5.659779, 6.292732), (5.63137, 6.340664)), ((5.63137, 6.340664), (5.592516, 6.406215)), ((5.592516, 6.406215), (5.553662, 6.471765)), ((5.553662, 6.471765), (5.481818, 6.560254)), ((5.481818, 6.560254), (5.43335, 6.615202)), ((5.43335, 6.615202), (5.393803, 6.678135))]\n"
     ]
    },
    {
     "name": "stderr",
     "output_type": "stream",
     "text": [
      "C:\\Users\\agarz\\AppData\\Local\\Temp\\ipykernel_6264\\2249154271.py:245: RuntimeWarning:\n",
      "\n",
      "The iteration is not making good progress, as measured by the \n",
      "  improvement from the last five Jacobian evaluations.\n",
      "\n"
     ]
    },
    {
     "name": "stdout",
     "output_type": "stream",
     "text": [
      "[((6.216466, 4.535322), (6.226423, 4.737842)), ((6.226423, 4.737842), (6.245008, 4.85934)), ((6.245008, 4.85934), (6.174974, 4.974765)), ((6.174974, 4.974765), (6.142084, 5.053255)), ((6.142084, 5.053255), (6.123158, 5.175507)), ((6.123158, 5.175507), (6.10373, 5.301015)), ((6.10373, 5.301015), (6.091752, 5.378411)), ((6.091752, 5.378411), (6.094696, 5.510375)), ((6.094696, 5.510375), (6.036667, 5.66764)), ((6.036667, 5.66764), (5.991576, 5.735586)), ((5.991576, 5.735586), (5.893041, 5.858559)), ((5.893041, 5.858559), (5.840053, 5.944022)), ((5.840053, 5.944022), (5.777653, 6.036696)), ((5.777653, 6.036696), (5.746139, 6.086179)), ((5.746139, 6.086179), (5.687519, 6.231828))]\n",
      "[((6.216466, 4.535322), (6.226423, 4.737842)), ((6.226423, 4.737842), (6.245008, 4.85934)), ((6.245008, 4.85934), (6.174974, 4.974765)), ((6.174974, 4.974765), (6.142084, 5.053255)), ((6.142084, 5.053255), (6.123158, 5.175507)), ((6.123158, 5.175507), (6.10373, 5.301015)), ((6.10373, 5.301015), (6.091752, 5.378411)), ((6.091752, 5.378411), (6.094696, 5.510375))]\n",
      "[((6.216466, 4.535322), (6.226423, 4.737842)), ((6.226423, 4.737842), (6.245008, 4.85934)), ((6.245008, 4.85934), (6.174974, 4.974765)), ((6.174974, 4.974765), (6.142084, 5.053255)), ((6.142084, 5.053255), (6.123158, 5.175507)), ((6.123158, 5.175507), (6.10373, 5.301015)), ((6.10373, 5.301015), (6.091752, 5.378411)), ((6.091752, 5.378411), (6.094696, 5.510375)), ((6.094696, 5.510375), (6.036667, 5.66764))]\n",
      "[((6.216466, 4.535322), (6.226423, 4.737842)), ((6.226423, 4.737842), (6.245008, 4.85934)), ((6.245008, 4.85934), (6.174974, 4.974765)), ((6.174974, 4.974765), (6.142084, 5.053255)), ((6.142084, 5.053255), (6.123158, 5.175507)), ((6.123158, 5.175507), (6.10373, 5.301015)), ((6.10373, 5.301015), (6.091752, 5.378411)), ((6.091752, 5.378411), (6.094696, 5.510375)), ((6.094696, 5.510375), (6.036667, 5.66764)), ((6.036667, 5.66764), (5.991576, 5.735586)), ((5.991576, 5.735586), (5.893041, 5.858559)), ((5.893041, 5.858559), (5.840053, 5.944022)), ((5.840053, 5.944022), (5.777653, 6.036696)), ((5.777653, 6.036696), (5.746139, 6.086179)), ((5.746139, 6.086179), (5.687519, 6.231828)), ((5.687519, 6.231828), (5.659779, 6.292732)), ((5.659779, 6.292732), (5.63137, 6.340664)), ((5.63137, 6.340664), (5.592516, 6.406215)), ((5.592516, 6.406215), (5.553662, 6.471765)), ((5.553662, 6.471765), (5.481818, 6.560254)), ((5.481818, 6.560254), (5.43335, 6.615202))]\n",
      "[((6.216466, 4.535322), (6.226423, 4.737842)), ((6.226423, 4.737842), (6.245008, 4.85934)), ((6.245008, 4.85934), (6.174974, 4.974765)), ((6.174974, 4.974765), (6.142084, 5.053255)), ((6.142084, 5.053255), (6.123158, 5.175507)), ((6.123158, 5.175507), (6.10373, 5.301015)), ((6.10373, 5.301015), (6.091752, 5.378411)), ((6.091752, 5.378411), (6.094696, 5.510375)), ((6.094696, 5.510375), (6.036667, 5.66764)), ((6.036667, 5.66764), (5.991576, 5.735586)), ((5.991576, 5.735586), (5.893041, 5.858559)), ((5.893041, 5.858559), (5.840053, 5.944022)), ((5.840053, 5.944022), (5.777653, 6.036696)), ((5.777653, 6.036696), (5.746139, 6.086179)), ((5.746139, 6.086179), (5.687519, 6.231828)), ((5.687519, 6.231828), (5.659779, 6.292732)), ((5.659779, 6.292732), (5.63137, 6.340664)), ((5.63137, 6.340664), (5.592516, 6.406215)), ((5.592516, 6.406215), (5.553662, 6.471765)), ((5.553662, 6.471765), (5.481818, 6.560254)), ((5.481818, 6.560254), (5.43335, 6.615202))]\n",
      "[((6.216466, 4.535322), (6.226423, 4.737842)), ((6.226423, 4.737842), (6.245008, 4.85934)), ((6.245008, 4.85934), (6.174974, 4.974765)), ((6.174974, 4.974765), (6.142084, 5.053255)), ((6.142084, 5.053255), (6.123158, 5.175507))]\n",
      "[((6.216466, 4.535322), (6.226423, 4.737842)), ((6.226423, 4.737842), (6.245008, 4.85934)), ((6.245008, 4.85934), (6.174974, 4.974765)), ((6.174974, 4.974765), (6.142084, 5.053255)), ((6.142084, 5.053255), (6.123158, 5.175507)), ((6.123158, 5.175507), (6.10373, 5.301015)), ((6.10373, 5.301015), (6.091752, 5.378411)), ((6.091752, 5.378411), (6.094696, 5.510375)), ((6.094696, 5.510375), (6.036667, 5.66764)), ((6.036667, 5.66764), (5.991576, 5.735586)), ((5.991576, 5.735586), (5.893041, 5.858559)), ((5.893041, 5.858559), (5.840053, 5.944022)), ((5.840053, 5.944022), (5.777653, 6.036696)), ((5.777653, 6.036696), (5.746139, 6.086179)), ((5.746139, 6.086179), (5.687519, 6.231828)), ((5.687519, 6.231828), (5.659779, 6.292732)), ((5.659779, 6.292732), (5.63137, 6.340664)), ((5.63137, 6.340664), (5.592516, 6.406215)), ((5.592516, 6.406215), (5.553662, 6.471765)), ((5.553662, 6.471765), (5.481818, 6.560254)), ((5.481818, 6.560254), (5.43335, 6.615202)), ((5.43335, 6.615202), (5.393803, 6.678135))]\n",
      "[((6.216466, 4.535322), (6.226423, 4.737842)), ((6.226423, 4.737842), (6.245008, 4.85934)), ((6.245008, 4.85934), (6.174974, 4.974765)), ((6.174974, 4.974765), (6.142084, 5.053255)), ((6.142084, 5.053255), (6.123158, 5.175507)), ((6.123158, 5.175507), (6.10373, 5.301015)), ((6.10373, 5.301015), (6.091752, 5.378411)), ((6.091752, 5.378411), (6.094696, 5.510375)), ((6.094696, 5.510375), (6.036667, 5.66764)), ((6.036667, 5.66764), (5.991576, 5.735586)), ((5.991576, 5.735586), (5.893041, 5.858559)), ((5.893041, 5.858559), (5.840053, 5.944022)), ((5.840053, 5.944022), (5.777653, 6.036696)), ((5.777653, 6.036696), (5.746139, 6.086179)), ((5.746139, 6.086179), (5.687519, 6.231828)), ((5.687519, 6.231828), (5.659779, 6.292732)), ((5.659779, 6.292732), (5.63137, 6.340664)), ((5.63137, 6.340664), (5.592516, 6.406215)), ((5.592516, 6.406215), (5.553662, 6.471765)), ((5.553662, 6.471765), (5.481818, 6.560254)), ((5.481818, 6.560254), (5.43335, 6.615202)), ((5.43335, 6.615202), (5.393803, 6.678135)), ((5.393803, 6.678135), (5.358522, 6.745531)), ((5.358522, 6.745531), (5.344361, 6.785489)), ((5.344361, 6.785489), (5.294842, 6.919923)), ((5.294842, 6.919923), (5.2756, 7.006803))]\n"
     ]
    },
    {
     "data": {
      "application/vnd.plotly.v1+json": {
       "config": {
        "plotlyServerURL": "https://plot.ly"
       },
       "data": [
        {
         "name": "(2.662271, 6.436248)",
         "type": "scatter",
         "x": [
          2.662271
         ],
         "y": [
          6.436248
         ]
        },
        {
         "name": "(11.814909, 8.299881)",
         "type": "scatter",
         "x": [
          11.814909
         ],
         "y": [
          8.299881
         ]
        },
        {
         "name": "(9.306211, 5.495822)",
         "type": "scatter",
         "x": [
          9.306211
         ],
         "y": [
          5.495822
         ]
        },
        {
         "name": "(3.110509, 5.305435)",
         "type": "scatter",
         "x": [
          3.110509
         ],
         "y": [
          5.305435
         ]
        },
        {
         "name": "(4.376073, 5.368352)",
         "type": "scatter",
         "x": [
          4.376073
         ],
         "y": [
          5.368352
         ]
        },
        {
         "name": "(7.288801, 5.578745)",
         "type": "scatter",
         "x": [
          7.288801
         ],
         "y": [
          5.578745
         ]
        },
        {
         "name": "(8.13391, 6.960544)",
         "type": "scatter",
         "x": [
          8.13391
         ],
         "y": [
          6.960544
         ]
        },
        {
         "name": "(4.87216, 6.078595)",
         "type": "scatter",
         "x": [
          4.87216
         ],
         "y": [
          6.078595
         ]
        },
        {
         "name": "(5.660226, 6.698943)",
         "type": "scatter",
         "x": [
          5.660226
         ],
         "y": [
          6.698943
         ]
        },
        {
         "name": "(5.644691, 4.889521)",
         "type": "scatter",
         "x": [
          5.644691
         ],
         "y": [
          4.889521
         ]
        },
        {
         "name": "(5.810638, 6.906727)",
         "type": "scatter",
         "x": [
          5.810638
         ],
         "y": [
          6.906727
         ]
        },
        {
         "name": "(4.746343, 6.792254)",
         "type": "scatter",
         "x": [
          4.746343
         ],
         "y": [
          6.792254
         ]
        },
        {
         "name": "segment",
         "type": "scatter",
         "x": [
          6.216466,
          6.226423
         ],
         "y": [
          4.535322,
          4.737842
         ]
        },
        {
         "name": "segment",
         "type": "scatter",
         "x": [
          6.226423,
          6.245008
         ],
         "y": [
          4.737842,
          4.85934
         ]
        },
        {
         "name": "segment",
         "type": "scatter",
         "x": [
          6.245008,
          6.174974
         ],
         "y": [
          4.85934,
          4.974765
         ]
        },
        {
         "name": "segment",
         "type": "scatter",
         "x": [
          6.174974,
          6.142084
         ],
         "y": [
          4.974765,
          5.053255
         ]
        },
        {
         "name": "segment",
         "type": "scatter",
         "x": [
          6.142084,
          6.123158
         ],
         "y": [
          5.053255,
          5.175507
         ]
        },
        {
         "name": "segment",
         "type": "scatter",
         "x": [
          6.123158,
          6.10373
         ],
         "y": [
          5.175507,
          5.301015
         ]
        },
        {
         "name": "segment",
         "type": "scatter",
         "x": [
          6.10373,
          6.091752
         ],
         "y": [
          5.301015,
          5.378411
         ]
        },
        {
         "name": "segment",
         "type": "scatter",
         "x": [
          6.091752,
          6.094696
         ],
         "y": [
          5.378411,
          5.510375
         ]
        },
        {
         "name": "segment",
         "type": "scatter",
         "x": [
          6.094696,
          6.036667
         ],
         "y": [
          5.510375,
          5.66764
         ]
        },
        {
         "name": "segment",
         "type": "scatter",
         "x": [
          6.036667,
          5.991576
         ],
         "y": [
          5.66764,
          5.735586
         ]
        },
        {
         "name": "segment",
         "type": "scatter",
         "x": [
          5.991576,
          5.893041
         ],
         "y": [
          5.735586,
          5.858559
         ]
        },
        {
         "name": "segment",
         "type": "scatter",
         "x": [
          5.893041,
          5.840053
         ],
         "y": [
          5.858559,
          5.944022
         ]
        },
        {
         "name": "segment",
         "type": "scatter",
         "x": [
          5.840053,
          5.777653
         ],
         "y": [
          5.944022,
          6.036696
         ]
        },
        {
         "name": "segment",
         "type": "scatter",
         "x": [
          5.777653,
          5.746139
         ],
         "y": [
          6.036696,
          6.086179
         ]
        },
        {
         "name": "segment",
         "type": "scatter",
         "x": [
          5.746139,
          5.687519
         ],
         "y": [
          6.086179,
          6.231828
         ]
        },
        {
         "name": "segment",
         "type": "scatter",
         "x": [
          5.687519,
          5.659779
         ],
         "y": [
          6.231828,
          6.292732
         ]
        },
        {
         "name": "segment",
         "type": "scatter",
         "x": [
          5.659779,
          5.63137
         ],
         "y": [
          6.292732,
          6.340664
         ]
        },
        {
         "name": "segment",
         "type": "scatter",
         "x": [
          5.63137,
          5.592516
         ],
         "y": [
          6.340664,
          6.406215
         ]
        },
        {
         "name": "segment",
         "type": "scatter",
         "x": [
          5.592516,
          5.553662
         ],
         "y": [
          6.406215,
          6.471765
         ]
        },
        {
         "name": "segment",
         "type": "scatter",
         "x": [
          5.553662,
          5.481818
         ],
         "y": [
          6.471765,
          6.560254
         ]
        },
        {
         "name": "segment",
         "type": "scatter",
         "x": [
          5.481818,
          5.43335
         ],
         "y": [
          6.560254,
          6.615202
         ]
        },
        {
         "name": "segment",
         "type": "scatter",
         "x": [
          5.43335,
          5.393803
         ],
         "y": [
          6.615202,
          6.678135
         ]
        },
        {
         "name": "segment",
         "type": "scatter",
         "x": [
          5.393803,
          5.358522
         ],
         "y": [
          6.678135,
          6.745531
         ]
        },
        {
         "name": "segment",
         "type": "scatter",
         "x": [
          5.358522,
          5.344361
         ],
         "y": [
          6.745531,
          6.785489
         ]
        },
        {
         "name": "segment",
         "type": "scatter",
         "x": [
          5.344361,
          5.294842
         ],
         "y": [
          6.785489,
          6.919923
         ]
        },
        {
         "name": "segment",
         "type": "scatter",
         "x": [
          5.294842,
          5.2756
         ],
         "y": [
          6.919923,
          7.006803
         ]
        },
        {
         "name": "segment",
         "type": "scatter",
         "x": [
          5.2756,
          5.258248
         ],
         "y": [
          7.006803,
          7.043624
         ]
        },
        {
         "name": "segment",
         "type": "scatter",
         "x": [
          5.258248,
          5.228629
         ],
         "y": [
          7.043624,
          7.120522
         ]
        },
        {
         "name": "segment",
         "type": "scatter",
         "x": [
          5.228629,
          5.197806
         ],
         "y": [
          7.120522,
          7.183892
         ]
        },
        {
         "name": "segment",
         "type": "scatter",
         "x": [
          5.197806,
          5.174153
         ],
         "y": [
          7.183892,
          7.280427
         ]
        },
        {
         "name": "segment",
         "type": "scatter",
         "x": [
          5.174153,
          5.156019
         ],
         "y": [
          7.280427,
          7.354437
         ]
        },
        {
         "name": "segment",
         "type": "scatter",
         "x": [
          5.156019,
          5.140079
         ],
         "y": [
          7.354437,
          7.432066
         ]
        },
        {
         "name": "segment",
         "type": "scatter",
         "x": [
          5.140079,
          5.119891
         ],
         "y": [
          7.432066,
          7.485739
         ]
        },
        {
         "name": "segment",
         "type": "scatter",
         "x": [
          5.119891,
          5.098308
         ],
         "y": [
          7.485739,
          7.568629
         ]
        },
        {
         "name": "segment",
         "type": "scatter",
         "x": [
          5.098308,
          5.073782
         ],
         "y": [
          7.568629,
          7.674698
         ]
        },
        {
         "name": "segment",
         "type": "scatter",
         "x": [
          5.073782,
          5.041459
         ],
         "y": [
          7.674698,
          7.821471
         ]
        },
        {
         "name": "segment",
         "type": "scatter",
         "x": [
          5.041459,
          5.017788
         ],
         "y": [
          7.821471,
          7.928956
         ]
        },
        {
         "name": "segment",
         "type": "scatter",
         "x": [
          5.017788,
          4.992062
         ],
         "y": [
          7.928956,
          8.035933
         ]
        },
        {
         "name": "segment",
         "type": "scatter",
         "x": [
          4.992062,
          4.949973
         ],
         "y": [
          8.035933,
          8.138556
         ]
        },
        {
         "name": "segment",
         "type": "scatter",
         "x": [
          4.949973,
          4.925734
         ],
         "y": [
          8.138556,
          8.208805
         ]
        },
        {
         "name": "segment",
         "type": "scatter",
         "x": [
          4.925734,
          4.907672
         ],
         "y": [
          8.208805,
          8.319531
         ]
        },
        {
         "name": "segment",
         "type": "scatter",
         "x": [
          4.907672,
          4.860704
         ],
         "y": [
          8.319531,
          8.456305
         ]
        },
        {
         "name": "segment",
         "type": "scatter",
         "x": [
          4.860704,
          4.842548
         ],
         "y": [
          8.456305,
          8.490737
         ]
        },
        {
         "name": "segment",
         "type": "scatter",
         "x": [
          4.842548,
          4.833205
         ],
         "y": [
          8.490737,
          8.521294
         ]
        },
        {
         "name": "segment",
         "type": "scatter",
         "x": [
          4.833205,
          4.786455
         ],
         "y": [
          8.521294,
          8.759745
         ]
        },
        {
         "name": "segment",
         "type": "scatter",
         "x": [
          4.786455,
          4.773995
         ],
         "y": [
          8.759745,
          8.792185
         ]
        },
        {
         "name": "segment",
         "type": "scatter",
         "x": [
          4.773995,
          4.752749
         ],
         "y": [
          8.792185,
          8.847504
         ]
        },
        {
         "name": "segment",
         "type": "scatter",
         "x": [
          4.752749,
          4.731504
         ],
         "y": [
          8.847504,
          8.902822
         ]
        },
        {
         "name": "segment",
         "type": "scatter",
         "x": [
          4.731504,
          4.712126
         ],
         "y": [
          8.902822,
          8.936584
         ]
        },
        {
         "name": "segment",
         "type": "scatter",
         "x": [
          4.712126,
          4.684841
         ],
         "y": [
          8.936584,
          8.996154
         ]
        },
        {
         "name": "segment",
         "type": "scatter",
         "x": [
          4.684841,
          4.665143
         ],
         "y": [
          8.996154,
          9.024782
         ]
        },
        {
         "name": "segment",
         "type": "scatter",
         "x": [
          4.665143,
          4.632325
         ],
         "y": [
          9.024782,
          9.077767
         ]
        },
        {
         "name": "segment",
         "type": "scatter",
         "x": [
          4.632325,
          4.601123
         ],
         "y": [
          9.077767,
          9.128143
         ]
        },
        {
         "name": "segment",
         "type": "scatter",
         "x": [
          4.601123,
          4.567984
         ],
         "y": [
          9.128143,
          9.170279
         ]
        },
        {
         "name": "segment",
         "type": "scatter",
         "x": [
          4.567984,
          4.533863
         ],
         "y": [
          9.170279,
          9.237874
         ]
        },
        {
         "name": "segment",
         "type": "scatter",
         "x": [
          4.533863,
          4.478833
         ],
         "y": [
          9.237874,
          9.303662
         ]
        },
        {
         "name": "segment",
         "type": "scatter",
         "x": [
          4.478833,
          4.441566
         ],
         "y": [
          9.303662,
          9.357551
         ]
        },
        {
         "name": "segment",
         "type": "scatter",
         "x": [
          4.441566,
          4.421099
         ],
         "y": [
          9.357551,
          9.38715
         ]
        },
        {
         "name": "4.235696187041828",
         "type": "scatter",
         "x": [
          2.662271,
          2.734805591836735,
          2.8073401836734693,
          2.879874775510204,
          2.952409367346939,
          3.0249439591836733,
          3.097478551020408,
          3.170013142857143,
          3.2425477346938774,
          3.315082326530612,
          3.387616918367347,
          3.4601515102040814,
          3.5326861020408162,
          3.605220693877551,
          3.6777552857142854,
          3.7502898775510207,
          3.822824469387755,
          3.8953590612244895,
          3.9678936530612248,
          4.040428244897959,
          4.1129628367346935,
          4.185497428571429,
          4.258032020408163,
          4.330566612244898,
          4.403101204081633,
          4.475635795918367,
          4.548170387755102,
          4.620704979591837,
          4.693239571428571,
          4.765774163265306,
          4.838308755102041,
          4.910843346938775,
          4.98337793877551,
          5.055912530612245,
          5.128447122448979,
          5.200981714285714,
          5.273516306122449,
          5.346050897959183,
          5.418585489795918,
          5.491120081632653,
          5.563654673469388,
          5.636189265306122,
          5.708723857142857,
          5.781258448979592,
          5.853793040816326,
          5.926327632653061,
          5.9988622244897964,
          6.07139681632653,
          6.143931408163265,
          6.216466
         ],
         "y": [
          6.436248,
          6.3469454285126865,
          6.2597473638305425,
          6.174653805953566,
          6.091664754881759,
          6.01078021061512,
          5.932000173153649,
          5.855324642497347,
          5.780753618646214,
          5.708287101600251,
          5.637925091359455,
          5.569667587923828,
          5.503514591293369,
          5.439466101468081,
          5.37752211844796,
          5.317682642233008,
          5.259947672823223,
          5.20431721021861,
          5.150791254419163,
          5.099369805424887,
          5.050052863235779,
          5.002840427851837,
          4.957732499273067,
          4.914729077499463,
          4.87383016253103,
          4.835035754367763,
          4.798345853009668,
          4.763760458456739,
          4.73127957070898,
          4.70090318976639,
          4.672631315628968,
          4.646463948296716,
          4.62240108776963,
          4.600442734047714,
          4.580588887130967,
          4.562839547019388,
          4.547194713712978,
          4.533654387211738,
          4.522218567515666,
          4.512887254624761,
          4.505660448539027,
          4.5005381492584595,
          4.497520356783062,
          4.496607071112833,
          4.497798292247772,
          4.501094020187882,
          4.506494254933158,
          4.513998996483604,
          4.523608244839217,
          4.535322000000001
         ]
        },
        {
         "name": "7.434959374984519",
         "type": "scatter",
         "x": [
          6.216466,
          6.33071993877551,
          6.44497387755102,
          6.55922781632653,
          6.67348175510204,
          6.787735693877551,
          6.901989632653061,
          7.016243571428571,
          7.130497510204082,
          7.244751448979591,
          7.359005387755102,
          7.473259326530612,
          7.587513265306122,
          7.701767204081632,
          7.816021142857142,
          7.930275081632653,
          8.044529020408163,
          8.158782959183673,
          8.273036897959184,
          8.387290836734694,
          8.501544775510204,
          8.615798714285713,
          8.730052653061225,
          8.844306591836734,
          8.958560530612244,
          9.072814469387755,
          9.187068408163265,
          9.301322346938775,
          9.415576285714286,
          9.529830224489796,
          9.644084163265306,
          9.758338102040817,
          9.872592040816325,
          9.986845979591838,
          10.101099918367346,
          10.215353857142857,
          10.329607795918367,
          10.443861734693877,
          10.558115673469388,
          10.672369612244898,
          10.786623551020408,
          10.900877489795917,
          11.01513142857143,
          11.129385367346938,
          11.24363930612245,
          11.357893244897959,
          11.472147183673469,
          11.58640112244898,
          11.70065506122449,
          11.814909
         ],
         "y": [
          4.535322000000001,
          4.486831694446984,
          4.443562973904257,
          4.405515838371814,
          4.372690287849661,
          4.345086322337798,
          4.322703941836217,
          4.305543146344924,
          4.293603935863917,
          4.286886310393202,
          4.285390269932769,
          4.289115814482624,
          4.298062944042769,
          4.3122316586132,
          4.331621958193917,
          4.356233842784926,
          4.386067312386219,
          4.421122366997798,
          4.461399006619665,
          4.506897231251816,
          4.557617040894259,
          4.613558435546988,
          4.674721415210005,
          4.741105979883306,
          4.812712129566897,
          4.889539864260776,
          4.971589183964941,
          5.058860088679392,
          5.151352578404129,
          5.249066653139156,
          5.352002312884469,
          5.460159557640068,
          5.573538387405957,
          5.692138802182139,
          5.815960801968597,
          5.945004386765344,
          6.079269556572385,
          6.218756311389708,
          6.3634646512173205,
          6.513394576055216,
          6.668546085903401,
          6.828919180761876,
          6.9945138606306365,
          7.165330125509687,
          7.341367975399017,
          7.5226274102986395,
          7.709108430208548,
          7.900811035128747,
          8.097735225059228,
          8.299881
         ]
        },
        {
         "name": "3.4018402596334143",
         "type": "scatter",
         "x": [
          6.216466,
          6.279522020408163,
          6.342578040816326,
          6.4056340612244895,
          6.468690081632652,
          6.531746102040816,
          6.5948021224489795,
          6.657858142857142,
          6.720914163265306,
          6.783970183673469,
          6.847026204081632,
          6.910082224489796,
          6.973138244897958,
          7.036194265306122,
          7.099250285714286,
          7.162306306122448,
          7.225362326530612,
          7.288418346938775,
          7.351474367346938,
          7.414530387755102,
          7.477586408163265,
          7.540642428571428,
          7.603698448979591,
          7.6667544693877545,
          7.729810489795918,
          7.792866510204081,
          7.855922530612244,
          7.918978551020407,
          7.982034571428571,
          8.045090591836734,
          8.108146612244898,
          8.17120263265306,
          8.234258653061223,
          8.297314673469387,
          8.36037069387755,
          8.423426714285714,
          8.486482734693876,
          8.54953875510204,
          8.612594775510203,
          8.675650795918367,
          8.73870681632653,
          8.801762836734692,
          8.864818857142856,
          8.92787487755102,
          8.990930897959183,
          9.053986918367347,
          9.117042938775509,
          9.180098959183672,
          9.243154979591836,
          9.306211
         ],
         "y": [
          4.535321999999997,
          4.516753848403063,
          4.499776121490013,
          4.48438881926085,
          4.470591941715574,
          4.458385488854182,
          4.4477694606766764,
          4.4387438571830575,
          4.431308678373327,
          4.425463924247479,
          4.421209594805518,
          4.418545690047441,
          4.417472209973253,
          4.417989154582948,
          4.420096523876529,
          4.4237943178539965,
          4.429082536515349,
          4.435961179860591,
          4.444430247889715,
          4.454489740602725,
          4.466139657999623,
          4.479380000080406,
          4.494210766845075,
          4.510631958293629,
          4.528643574426074,
          4.548245615242401,
          4.569438080742611,
          4.592220970926709,
          4.616594285794694,
          4.642558025346563,
          4.670112189582319,
          4.69925677850196,
          4.729991792105489,
          4.7623172303929024,
          4.796233093364199,
          4.831739381019386,
          4.868836093358457,
          4.907523230381415,
          4.947800792088257,
          4.98966877847899,
          5.033127189553603,
          5.078176025312102,
          5.124815285754488,
          5.173044970880763,
          5.222865080690919,
          5.2742756151849655,
          5.3272765743628945,
          5.38186795822471,
          5.438049766770412,
          5.495822
         ]
        },
        {
         "name": "3.37595256015761",
         "type": "scatter",
         "x": [
          3.110509,
          3.17389587755102,
          3.237282755102041,
          3.300669632653061,
          3.3640565102040814,
          3.427443387755102,
          3.4908302653061223,
          3.554217142857143,
          3.617604020408163,
          3.680990897959184,
          3.744377775510204,
          3.8077646530612244,
          3.871151530612245,
          3.9345384081632653,
          3.9979252857142855,
          4.061312163265306,
          4.124699040816326,
          4.188085918367347,
          4.251472795918367,
          4.314859673469387,
          4.378246551020408,
          4.4416334285714285,
          4.505020306122448,
          4.568407183673469,
          4.63179406122449,
          4.69518093877551,
          4.758567816326531,
          4.821954693877551,
          4.8853415714285715,
          4.948728448979592,
          5.012115326530612,
          5.075502204081633,
          5.138889081632653,
          5.202275959183673,
          5.265662836734694,
          5.3290497142857145,
          5.392436591836734,
          5.455823469387755,
          5.519210346938776,
          5.5825972244897955,
          5.645984102040816,
          5.709370979591837,
          5.772757857142857,
          5.836144734693877,
          5.899531612244898,
          5.962918489795918,
          6.0263053673469384,
          6.089692244897959,
          6.153079122448979,
          6.216466
         ],
         "y": [
          5.305434999999999,
          5.25114660420485,
          5.19846536690797,
          5.147391288109356,
          5.09792436780901,
          5.050064606006931,
          5.003812002703119,
          4.959166557897574,
          4.916128271590297,
          4.874697143781287,
          4.834873174470543,
          4.796656363658068,
          4.760046711343859,
          4.725044217527918,
          4.691648882210243,
          4.6598607053908365,
          4.629679687069698,
          4.601105827246824,
          4.574139125922219,
          4.548779583095882,
          4.525027198767811,
          4.502881972938008,
          4.482343905606472,
          4.463412996773202,
          4.446089246438199,
          4.430372654601464,
          4.416263221262997,
          4.403760946422797,
          4.392865830080863,
          4.383577872237198,
          4.3758970728918,
          4.369823432044668,
          4.365356949695804,
          4.362497625845207,
          4.361245460492877,
          4.361600453638815,
          4.36356260528302,
          4.367131915425491,
          4.372308384066231,
          4.379092011205238,
          4.38748279684251,
          4.397480740978051,
          4.4090858436118605,
          4.422298104743934,
          4.437117524374277,
          4.453544102502888,
          4.471577839129764,
          4.4912187342549075,
          4.512466787878319,
          4.535321999999997
         ]
        },
        {
         "name": "2.0514716619768647",
         "type": "scatter",
         "x": [
          4.376073,
          4.413632040816326,
          4.451191081632653,
          4.488750122448979,
          4.526309163265306,
          4.563868204081633,
          4.601427244897959,
          4.638986285714285,
          4.676545326530612,
          4.7141043673469385,
          4.751663408163265,
          4.789222448979592,
          4.826781489795918,
          4.864340530612244,
          4.901899571428571,
          4.939458612244898,
          4.977017653061225,
          5.014576693877551,
          5.052135734693877,
          5.089694775510203,
          5.12725381632653,
          5.164812857142857,
          5.202371897959184,
          5.23993093877551,
          5.277489979591836,
          5.315049020408163,
          5.3526080612244895,
          5.390167102040816,
          5.427726142857143,
          5.465285183673469,
          5.502844224489795,
          5.540403265306122,
          5.577962306122449,
          5.615521346938775,
          5.653080387755102,
          5.690639428571428,
          5.728198469387754,
          5.7657575102040814,
          5.803316551020408,
          5.840875591836735,
          5.878434632653061,
          5.915993673469387,
          5.953552714285713,
          5.9911117551020405,
          6.028670795918367,
          6.066229836734694,
          6.10378887755102,
          6.141347918367346,
          6.1789069591836725,
          6.216466
         ],
         "y": [
          5.368352,
          5.337808844903495,
          5.3078299624258065,
          5.278415352566935,
          5.24956501532688,
          5.221278950705641,
          5.1935571587032205,
          5.166399639319617,
          5.13980639255483,
          5.11377741840886,
          5.088312716881707,
          5.063412287973372,
          5.039076131683853,
          5.015304248013152,
          4.992096636961265,
          4.969453298528197,
          4.947374232713947,
          4.925859439518513,
          4.904908918941897,
          4.884522670984097,
          4.864700695645115,
          4.845442992924949,
          4.826749562823598,
          4.808620405341067,
          4.791055520477352,
          4.774054908232454,
          4.757618568606373,
          4.74174650159911,
          4.726438707210663,
          4.711695185441032,
          4.69751593629022,
          4.683900959758223,
          4.670850255845044,
          4.6583638245506815,
          4.6464416658751375,
          4.635083779818411,
          4.624290166380499,
          4.614060825561404,
          4.604395757361129,
          4.595294961779667,
          4.586758438817023,
          4.578786188473197,
          4.571378210748188,
          4.564534505641998,
          4.558255073154623,
          4.552539913286065,
          4.547389026036324,
          4.5428024114054,
          4.538780069393292,
          4.535322000000001
         ]
        },
        {
         "name": "1.4673424711242775",
         "type": "scatter",
         "x": [
          6.245008,
          6.266309897959184,
          6.287611795918368,
          6.308913693877551,
          6.330215591836735,
          6.351517489795919,
          6.3728193877551025,
          6.394121285714286,
          6.41542318367347,
          6.4367250816326536,
          6.458026979591837,
          6.479328877551021,
          6.500630775510205,
          6.521932673469388,
          6.543234571428572,
          6.564536469387756,
          6.585838367346939,
          6.607140265306123,
          6.628442163265307,
          6.6497440612244905,
          6.671045959183674,
          6.692347857142858,
          6.7136497551020415,
          6.734951653061225,
          6.756253551020409,
          6.777555448979593,
          6.798857346938776,
          6.82015924489796,
          6.841461142857144,
          6.8627630408163265,
          6.88406493877551,
          6.905366836734694,
          6.926668734693878,
          6.947970632653061,
          6.969272530612245,
          6.990574428571429,
          7.011876326530612,
          7.033178224489796,
          7.05448012244898,
          7.075782020408163,
          7.097083918367347,
          7.118385816326531,
          7.1396877142857145,
          7.160989612244898,
          7.182291510204082,
          7.2035934081632655,
          7.224895306122449,
          7.246197204081633,
          7.267499102040817,
          7.288801
         ],
         "y": [
          4.859340000000001,
          4.869665534469909,
          4.880172577282484,
          4.890861128437723,
          4.901731187935628,
          4.912782755776197,
          4.924015831959432,
          4.9354304164853335,
          4.947026509353899,
          4.958804110565129,
          4.970763220119027,
          4.982903838015588,
          4.995225964254816,
          5.007729598836709,
          5.020414741761266,
          5.033281393028492,
          5.04632955263838,
          5.059559220590934,
          5.072970396886156,
          5.086563081524039,
          5.100337274504589,
          5.114292975827807,
          5.128430185493688,
          5.142748903502232,
          5.1572491298534455,
          5.171930864547322,
          5.186794107583866,
          5.201838858963075,
          5.217065118684948,
          5.232472886749488,
          5.248062163156693,
          5.263832947906561,
          5.279785240999097,
          5.2959190424342975,
          5.312234352212164,
          5.328731170332695,
          5.345409496795892,
          5.362269331601754,
          5.379310674750283,
          5.396533526241475,
          5.413937886075335,
          5.431523754251858,
          5.449291130771044,
          5.4672400156329,
          5.48537040883742,
          5.503682310384605,
          5.522175720274456,
          5.5408506385069725,
          5.5597070650821525,
          5.578745000000001
         ]
        },
        {
         "name": "3.034478103834143",
         "type": "scatter",
         "x": [
          6.245008,
          6.283557020408163,
          6.322106040816327,
          6.36065506122449,
          6.399204081632654,
          6.4377531020408165,
          6.47630212244898,
          6.514851142857143,
          6.553400163265306,
          6.59194918367347,
          6.630498204081633,
          6.6690472244897965,
          6.707596244897959,
          6.746145265306123,
          6.784694285714286,
          6.82324330612245,
          6.861792326530613,
          6.9003413469387755,
          6.938890367346939,
          6.977439387755102,
          7.015988408163266,
          7.054537428571429,
          7.093086448979593,
          7.1316354693877555,
          7.170184489795918,
          7.208733510204082,
          7.247282530612245,
          7.285831551020408,
          7.324380571428572,
          7.3629295918367355,
          7.401478612244898,
          7.440027632653061,
          7.478576653061225,
          7.517125673469388,
          7.555674693877551,
          7.5942237142857145,
          7.632772734693878,
          7.671321755102041,
          7.709870775510204,
          7.748419795918368,
          7.786968816326531,
          7.825517836734694,
          7.864066857142857,
          7.902615877551021,
          7.941164897959184,
          7.979713918367347,
          8.01826293877551,
          8.056811959183674,
          8.095360979591836,
          8.13391
         ],
         "y": [
          4.8593399999999995,
          4.887955855331197,
          4.917166121452164,
          4.946970798362903,
          4.977369886063416,
          5.008363384553697,
          5.0399512938337505,
          5.072133613903578,
          5.104910344763173,
          5.1382814864125415,
          5.172247038851683,
          5.206807002080595,
          5.24196137609928,
          5.277710160907734,
          5.31405335650596,
          5.35099096289396,
          5.388522980071729,
          5.426649408039269,
          5.465370246796583,
          5.504685496343669,
          5.544595156680526,
          5.585099227807152,
          5.626197709723552,
          5.667890602429724,
          5.710177905925667,
          5.7530596202113795,
          5.7965357452868655,
          5.840606281152123,
          5.885271227807152,
          5.930530585251953,
          5.976384353486525,
          6.0228325325108685,
          6.069875122324985,
          6.11751212292887,
          6.16574353432253,
          6.21456935650596,
          6.263989589479163,
          6.3140042332421356,
          6.36461328779488,
          6.415816753137397,
          6.467614629269686,
          6.520006916191743,
          6.572993613903575,
          6.626574722405179,
          6.680750241696554,
          6.735520171777699,
          6.790884512648619,
          6.8468432643093085,
          6.903396426759768,
          6.960543999999999
         ]
        },
        {
         "name": "1.8868821469047503",
         "type": "scatter",
         "x": [
          4.87216,
          4.8906394489795915,
          4.909118897959184,
          4.927598346938775,
          4.9460777959183675,
          4.964557244897959,
          4.983036693877551,
          5.001516142857143,
          5.019995591836735,
          5.038475040816326,
          5.056954489795919,
          5.07543393877551,
          5.093913387755102,
          5.112392836734694,
          5.130872285714286,
          5.1493517346938775,
          5.167831183673469,
          5.186310632653061,
          5.204790081632653,
          5.223269530612245,
          5.241748979591836,
          5.260228428571429,
          5.27870787755102,
          5.297187326530612,
          5.315666775510204,
          5.334146224489796,
          5.352625673469388,
          5.37110512244898,
          5.389584571428571,
          5.408064020408164,
          5.426543469387755,
          5.445022918367346,
          5.463502367346939,
          5.481981816326531,
          5.5004612653061224,
          5.518940714285714,
          5.537420163265306,
          5.555899612244898,
          5.57437906122449,
          5.592858510204081,
          5.611337959183674,
          5.629817408163265,
          5.648296857142857,
          5.666776306122449,
          5.685255755102041,
          5.7037352040816325,
          5.722214653061224,
          5.740694102040816,
          5.7591735510204085,
          5.777653
         ],
         "y": [
          6.078594999999999,
          6.074461614035287,
          6.070464824084413,
          6.066604630147374,
          6.062881032224169,
          6.059294030314802,
          6.05584362441927,
          6.052529814537574,
          6.049352600669712,
          6.046311982815689,
          6.0434079609755,
          6.040640535149145,
          6.038009705336628,
          6.035515471537947,
          6.0331578337531,
          6.030936791982089,
          6.028852346224915,
          6.026904496481576,
          6.025093242752074,
          6.023418585036405,
          6.021880523334573,
          6.020479057646578,
          6.019214187972417,
          6.018085914312092,
          6.017094236665604,
          6.0162391550329515,
          6.015520669414133,
          6.014938779809151,
          6.014493486218006,
          6.014184788640695,
          6.014012687077221,
          6.013977181527583,
          6.014078271991781,
          6.014315958469812,
          6.014690240961681,
          6.015201119467386,
          6.015848593986925,
          6.016632664520301,
          6.0175533310675124,
          6.01861059362856,
          6.019804452203442,
          6.021134906792161,
          6.022601957394716,
          6.024205604011106,
          6.025945846641331,
          6.027822685285393,
          6.029836119943291,
          6.0319861506150225,
          6.034272777300593,
          6.036695999999998
         ]
        },
        {
         "name": "1.5208679277095147",
         "type": "scatter",
         "x": [
          5.553662,
          5.555836775510204,
          5.5580115510204084,
          5.560186326530612,
          5.562361102040817,
          5.5645358775510205,
          5.566710653061224,
          5.568885428571429,
          5.571060204081633,
          5.573234979591836,
          5.575409755102041,
          5.577584530612245,
          5.579759306122449,
          5.581934081632653,
          5.584108857142857,
          5.586283632653061,
          5.588458408163265,
          5.59063318367347,
          5.5928079591836735,
          5.594982734693877,
          5.597157510204082,
          5.5993322857142855,
          5.60150706122449,
          5.603681836734694,
          5.605856612244898,
          5.608031387755102,
          5.610206163265306,
          5.61238093877551,
          5.614555714285714,
          5.616730489795918,
          5.618905265306123,
          5.621080040816326,
          5.62325481632653,
          5.625429591836735,
          5.6276043673469385,
          5.629779142857143,
          5.631953918367347,
          5.6341286938775506,
          5.636303469387755,
          5.638478244897959,
          5.640653020408163,
          5.642827795918367,
          5.645002571428571,
          5.647177346938776,
          5.649352122448979,
          5.651526897959183,
          5.653701673469388,
          5.655876448979591,
          5.658051224489796,
          5.660226
         ],
         "y": [
          6.4717649999999995,
          6.476355881088494,
          6.480948654036399,
          6.48554331884371,
          6.4901398755104305,
          6.4947383240365575,
          6.499338664422092,
          6.503940896667037,
          6.508545020771387,
          6.513151036735145,
          6.517758944558313,
          6.522368744240888,
          6.526980435782872,
          6.5315940191842605,
          6.5362094944450595,
          6.540826861565267,
          6.545446120544882,
          6.550067271383904,
          6.554690314082334,
          6.559315248640171,
          6.56394207505742,
          6.5685707933340725,
          6.573201403470135,
          6.577833905465605,
          6.582468299320482,
          6.587104585034768,
          6.591742762608461,
          6.596382832041562,
          6.601024793334073,
          6.605668646485989,
          6.610314391497315,
          6.614962028368049,
          6.619611557098189,
          6.6242629776877395,
          6.6289162901366945,
          6.633571494445061,
          6.638228590612833,
          6.642887578640013,
          6.647548458526602,
          6.652211230272598,
          6.656875893878002,
          6.661542449342815,
          6.666210896667035,
          6.670881235850664,
          6.6755534668936996,
          6.680227589796143,
          6.684903604557996,
          6.689581511179255,
          6.694261309659924,
          6.698942999999999
         ]
        },
        {
         "name": "0.6733606747624491",
         "type": "scatter",
         "x": [
          5.644691,
          5.65635987755102,
          5.668028755102041,
          5.6796976326530615,
          5.691366510204081,
          5.703035387755102,
          5.714704265306122,
          5.726373142857143,
          5.738042020408163,
          5.749710897959184,
          5.761379775510204,
          5.773048653061224,
          5.7847175306122445,
          5.796386408163265,
          5.8080552857142855,
          5.819724163265306,
          5.831393040816327,
          5.843061918367347,
          5.854730795918367,
          5.866399673469387,
          5.878068551020408,
          5.889737428571428,
          5.901406306122449,
          5.913075183673469,
          5.92474406122449,
          5.93641293877551,
          5.94808181632653,
          5.959750693877551,
          5.971419571428571,
          5.983088448979592,
          5.994757326530612,
          6.006426204081633,
          6.018095081632652,
          6.029763959183673,
          6.0414328367346934,
          6.053101714285714,
          6.0647705918367345,
          6.076439469387755,
          6.088108346938776,
          6.099777224489795,
          6.111446102040816,
          6.123114979591836,
          6.134783857142857,
          6.146452734693877,
          6.158121612244898,
          6.169790489795918,
          6.181459367346939,
          6.1931282448979585,
          6.204797122448979,
          6.216466
         ],
         "y": [
          4.8895209999999985,
          4.880985287027901,
          4.872504039137127,
          4.864077256327674,
          4.855704938599542,
          4.847387085952725,
          4.839123698387233,
          4.830914775903059,
          4.822760318500208,
          4.814660326178675,
          4.806614798938462,
          4.798623736779568,
          4.790687139701998,
          4.782805007705747,
          4.774977340790816,
          4.767204138957201,
          4.759485402204913,
          4.751821130533942,
          4.744211323944294,
          4.736655982435959,
          4.729155106008951,
          4.721708694663263,
          4.714316748398893,
          4.706979267215846,
          4.699696251114119,
          4.692467700093708,
          4.685293614154622,
          4.678173993296854,
          4.671108837520407,
          4.664098146825278,
          4.657141921211471,
          4.650240160678987,
          4.6433928652278205,
          4.636600034857974,
          4.629861669569447,
          4.623177769362243,
          4.616548334236358,
          4.609973364191793,
          4.60345285922855,
          4.596986819346624,
          4.59057524454602,
          4.584218134826738,
          4.577915490188776,
          4.5716673106321295,
          4.5654735961568065,
          4.559334346762805,
          4.553249562450123,
          4.547219243218759,
          4.541243389068718,
          4.535321999999997
         ]
        },
        {
         "name": "1.770197711335325",
         "type": "scatter",
         "x": [
          5.592516,
          5.596967469387755,
          5.6014189387755104,
          5.605870408163265,
          5.61032187755102,
          5.614773346938775,
          5.619224816326531,
          5.623676285714286,
          5.6281277551020406,
          5.632579224489795,
          5.637030693877551,
          5.641482163265306,
          5.645933632653061,
          5.650385102040816,
          5.6548365714285715,
          5.659288040816326,
          5.663739510204081,
          5.668190979591837,
          5.672642448979592,
          5.677093918367347,
          5.681545387755102,
          5.685996857142857,
          5.690448326530612,
          5.694899795918367,
          5.699351265306122,
          5.703802734693878,
          5.708254204081633,
          5.7127056734693875,
          5.717157142857142,
          5.721608612244898,
          5.726060081632653,
          5.730511551020408,
          5.734963020408163,
          5.7394144897959185,
          5.743865959183673,
          5.748317428571428,
          5.752768897959184,
          5.757220367346939,
          5.761671836734694,
          5.766123306122449,
          5.770574775510204,
          5.775026244897959,
          5.779477714285714,
          5.783929183673469,
          5.788380653061225,
          5.79283212244898,
          5.7972835918367345,
          5.801735061224489,
          5.806186530612245,
          5.810638
         ],
         "y": [
          6.406215,
          6.416239301047027,
          6.42627152832594,
          6.436311681836736,
          6.446359761579416,
          6.456415767553979,
          6.466479699760429,
          6.47655155819876,
          6.486631342868975,
          6.496719053771075,
          6.506814690905061,
          6.516918254270928,
          6.527029743868681,
          6.537149159698316,
          6.547276501759837,
          6.557411770053242,
          6.56755496457853,
          6.577706085335704,
          6.58786513232476,
          6.5980321055457,
          6.608207004998524,
          6.618389830683234,
          6.628580582599826,
          6.638779260748302,
          6.648985865128663,
          6.65920039574091,
          6.669422852585037,
          6.67965323566105,
          6.689891544968946,
          6.700137780508728,
          6.710391942280395,
          6.720654030283942,
          6.730924044519375,
          6.741201984986694,
          6.751487851685895,
          6.761781644616979,
          6.7720833637799505,
          6.782393009174803,
          6.792710580801541,
          6.803036078660161,
          6.813369502750668,
          6.823710853073058,
          6.834060129627331,
          6.844417332413487,
          6.854782461431531,
          6.865155516681456,
          6.875536498163266,
          6.885925405876959,
          6.896322239822538,
          6.906727
         ]
        },
        {
         "name": "2.0860496473324974",
         "type": "scatter",
         "x": [
          4.746343,
          4.759556469387755,
          4.772769938775511,
          4.785983408163266,
          4.7991968775510205,
          4.812410346938776,
          4.825623816326531,
          4.838837285714286,
          4.8520507551020415,
          4.865264224489796,
          4.878477693877551,
          4.891691163265307,
          4.904904632653062,
          4.9181181020408165,
          4.931331571428572,
          4.944545040816327,
          4.957758510204082,
          4.9709719795918375,
          4.984185448979592,
          4.997398918367347,
          5.010612387755103,
          5.023825857142858,
          5.037039326530612,
          5.050252795918368,
          5.063466265306123,
          5.076679734693878,
          5.089893204081633,
          5.103106673469388,
          5.116320142857143,
          5.129533612244898,
          5.1427470816326535,
          5.155960551020408,
          5.169174020408163,
          5.182387489795919,
          5.195600959183674,
          5.208814428571428,
          5.222027897959184,
          5.235241367346939,
          5.248454836734694,
          5.261668306122449,
          5.274881775510204,
          5.288095244897959,
          5.301308714285715,
          5.3145221836734695,
          5.327735653061224,
          5.34094912244898,
          5.354162591836735,
          5.36737606122449,
          5.380589530612245,
          5.393803
         ],
         "y": [
          6.792254,
          6.788248921393019,
          6.784313681095344,
          6.780448279106973,
          6.776652715427907,
          6.772926990058142,
          6.769271102997685,
          6.765685054246531,
          6.762168843804683,
          6.758722471672138,
          6.7553459378488965,
          6.752039242334961,
          6.74880238513033,
          6.745635366235003,
          6.742538185648981,
          6.739510843372262,
          6.736553339404849,
          6.7336656737467395,
          6.7308478463979355,
          6.728099857358435,
          6.7254217066282385,
          6.722813394207348,
          6.720274920095761,
          6.717806284293479,
          6.715407486800501,
          6.713078527616827,
          6.710819406742458,
          6.708630124177393,
          6.706510679921634,
          6.704461073975178,
          6.702481306338026,
          6.70057137701018,
          6.698731285991638,
          6.696961033282401,
          6.695260618882467,
          6.693630042791837,
          6.692069305010513,
          6.690578405538494,
          6.6891573443757775,
          6.687806121522367,
          6.686524736978259,
          6.685313190743457,
          6.68417148281796,
          6.683099613201767,
          6.68209758189488,
          6.681165388897293,
          6.680303034209014,
          6.679510517830039,
          6.678787839760368,
          6.678135000000002
         ]
        }
       ],
       "layout": {
        "autosize": true,
        "template": {
         "data": {
          "bar": [
           {
            "error_x": {
             "color": "#2a3f5f"
            },
            "error_y": {
             "color": "#2a3f5f"
            },
            "marker": {
             "line": {
              "color": "#E5ECF6",
              "width": 0.5
             },
             "pattern": {
              "fillmode": "overlay",
              "size": 10,
              "solidity": 0.2
             }
            },
            "type": "bar"
           }
          ],
          "barpolar": [
           {
            "marker": {
             "line": {
              "color": "#E5ECF6",
              "width": 0.5
             },
             "pattern": {
              "fillmode": "overlay",
              "size": 10,
              "solidity": 0.2
             }
            },
            "type": "barpolar"
           }
          ],
          "carpet": [
           {
            "aaxis": {
             "endlinecolor": "#2a3f5f",
             "gridcolor": "white",
             "linecolor": "white",
             "minorgridcolor": "white",
             "startlinecolor": "#2a3f5f"
            },
            "baxis": {
             "endlinecolor": "#2a3f5f",
             "gridcolor": "white",
             "linecolor": "white",
             "minorgridcolor": "white",
             "startlinecolor": "#2a3f5f"
            },
            "type": "carpet"
           }
          ],
          "choropleth": [
           {
            "colorbar": {
             "outlinewidth": 0,
             "ticks": ""
            },
            "type": "choropleth"
           }
          ],
          "contour": [
           {
            "colorbar": {
             "outlinewidth": 0,
             "ticks": ""
            },
            "colorscale": [
             [
              0,
              "#0d0887"
             ],
             [
              0.1111111111111111,
              "#46039f"
             ],
             [
              0.2222222222222222,
              "#7201a8"
             ],
             [
              0.3333333333333333,
              "#9c179e"
             ],
             [
              0.4444444444444444,
              "#bd3786"
             ],
             [
              0.5555555555555556,
              "#d8576b"
             ],
             [
              0.6666666666666666,
              "#ed7953"
             ],
             [
              0.7777777777777778,
              "#fb9f3a"
             ],
             [
              0.8888888888888888,
              "#fdca26"
             ],
             [
              1,
              "#f0f921"
             ]
            ],
            "type": "contour"
           }
          ],
          "contourcarpet": [
           {
            "colorbar": {
             "outlinewidth": 0,
             "ticks": ""
            },
            "type": "contourcarpet"
           }
          ],
          "heatmap": [
           {
            "colorbar": {
             "outlinewidth": 0,
             "ticks": ""
            },
            "colorscale": [
             [
              0,
              "#0d0887"
             ],
             [
              0.1111111111111111,
              "#46039f"
             ],
             [
              0.2222222222222222,
              "#7201a8"
             ],
             [
              0.3333333333333333,
              "#9c179e"
             ],
             [
              0.4444444444444444,
              "#bd3786"
             ],
             [
              0.5555555555555556,
              "#d8576b"
             ],
             [
              0.6666666666666666,
              "#ed7953"
             ],
             [
              0.7777777777777778,
              "#fb9f3a"
             ],
             [
              0.8888888888888888,
              "#fdca26"
             ],
             [
              1,
              "#f0f921"
             ]
            ],
            "type": "heatmap"
           }
          ],
          "heatmapgl": [
           {
            "colorbar": {
             "outlinewidth": 0,
             "ticks": ""
            },
            "colorscale": [
             [
              0,
              "#0d0887"
             ],
             [
              0.1111111111111111,
              "#46039f"
             ],
             [
              0.2222222222222222,
              "#7201a8"
             ],
             [
              0.3333333333333333,
              "#9c179e"
             ],
             [
              0.4444444444444444,
              "#bd3786"
             ],
             [
              0.5555555555555556,
              "#d8576b"
             ],
             [
              0.6666666666666666,
              "#ed7953"
             ],
             [
              0.7777777777777778,
              "#fb9f3a"
             ],
             [
              0.8888888888888888,
              "#fdca26"
             ],
             [
              1,
              "#f0f921"
             ]
            ],
            "type": "heatmapgl"
           }
          ],
          "histogram": [
           {
            "marker": {
             "pattern": {
              "fillmode": "overlay",
              "size": 10,
              "solidity": 0.2
             }
            },
            "type": "histogram"
           }
          ],
          "histogram2d": [
           {
            "colorbar": {
             "outlinewidth": 0,
             "ticks": ""
            },
            "colorscale": [
             [
              0,
              "#0d0887"
             ],
             [
              0.1111111111111111,
              "#46039f"
             ],
             [
              0.2222222222222222,
              "#7201a8"
             ],
             [
              0.3333333333333333,
              "#9c179e"
             ],
             [
              0.4444444444444444,
              "#bd3786"
             ],
             [
              0.5555555555555556,
              "#d8576b"
             ],
             [
              0.6666666666666666,
              "#ed7953"
             ],
             [
              0.7777777777777778,
              "#fb9f3a"
             ],
             [
              0.8888888888888888,
              "#fdca26"
             ],
             [
              1,
              "#f0f921"
             ]
            ],
            "type": "histogram2d"
           }
          ],
          "histogram2dcontour": [
           {
            "colorbar": {
             "outlinewidth": 0,
             "ticks": ""
            },
            "colorscale": [
             [
              0,
              "#0d0887"
             ],
             [
              0.1111111111111111,
              "#46039f"
             ],
             [
              0.2222222222222222,
              "#7201a8"
             ],
             [
              0.3333333333333333,
              "#9c179e"
             ],
             [
              0.4444444444444444,
              "#bd3786"
             ],
             [
              0.5555555555555556,
              "#d8576b"
             ],
             [
              0.6666666666666666,
              "#ed7953"
             ],
             [
              0.7777777777777778,
              "#fb9f3a"
             ],
             [
              0.8888888888888888,
              "#fdca26"
             ],
             [
              1,
              "#f0f921"
             ]
            ],
            "type": "histogram2dcontour"
           }
          ],
          "mesh3d": [
           {
            "colorbar": {
             "outlinewidth": 0,
             "ticks": ""
            },
            "type": "mesh3d"
           }
          ],
          "parcoords": [
           {
            "line": {
             "colorbar": {
              "outlinewidth": 0,
              "ticks": ""
             }
            },
            "type": "parcoords"
           }
          ],
          "pie": [
           {
            "automargin": true,
            "type": "pie"
           }
          ],
          "scatter": [
           {
            "fillpattern": {
             "fillmode": "overlay",
             "size": 10,
             "solidity": 0.2
            },
            "type": "scatter"
           }
          ],
          "scatter3d": [
           {
            "line": {
             "colorbar": {
              "outlinewidth": 0,
              "ticks": ""
             }
            },
            "marker": {
             "colorbar": {
              "outlinewidth": 0,
              "ticks": ""
             }
            },
            "type": "scatter3d"
           }
          ],
          "scattercarpet": [
           {
            "marker": {
             "colorbar": {
              "outlinewidth": 0,
              "ticks": ""
             }
            },
            "type": "scattercarpet"
           }
          ],
          "scattergeo": [
           {
            "marker": {
             "colorbar": {
              "outlinewidth": 0,
              "ticks": ""
             }
            },
            "type": "scattergeo"
           }
          ],
          "scattergl": [
           {
            "marker": {
             "colorbar": {
              "outlinewidth": 0,
              "ticks": ""
             }
            },
            "type": "scattergl"
           }
          ],
          "scattermapbox": [
           {
            "marker": {
             "colorbar": {
              "outlinewidth": 0,
              "ticks": ""
             }
            },
            "type": "scattermapbox"
           }
          ],
          "scatterpolar": [
           {
            "marker": {
             "colorbar": {
              "outlinewidth": 0,
              "ticks": ""
             }
            },
            "type": "scatterpolar"
           }
          ],
          "scatterpolargl": [
           {
            "marker": {
             "colorbar": {
              "outlinewidth": 0,
              "ticks": ""
             }
            },
            "type": "scatterpolargl"
           }
          ],
          "scatterternary": [
           {
            "marker": {
             "colorbar": {
              "outlinewidth": 0,
              "ticks": ""
             }
            },
            "type": "scatterternary"
           }
          ],
          "surface": [
           {
            "colorbar": {
             "outlinewidth": 0,
             "ticks": ""
            },
            "colorscale": [
             [
              0,
              "#0d0887"
             ],
             [
              0.1111111111111111,
              "#46039f"
             ],
             [
              0.2222222222222222,
              "#7201a8"
             ],
             [
              0.3333333333333333,
              "#9c179e"
             ],
             [
              0.4444444444444444,
              "#bd3786"
             ],
             [
              0.5555555555555556,
              "#d8576b"
             ],
             [
              0.6666666666666666,
              "#ed7953"
             ],
             [
              0.7777777777777778,
              "#fb9f3a"
             ],
             [
              0.8888888888888888,
              "#fdca26"
             ],
             [
              1,
              "#f0f921"
             ]
            ],
            "type": "surface"
           }
          ],
          "table": [
           {
            "cells": {
             "fill": {
              "color": "#EBF0F8"
             },
             "line": {
              "color": "white"
             }
            },
            "header": {
             "fill": {
              "color": "#C8D4E3"
             },
             "line": {
              "color": "white"
             }
            },
            "type": "table"
           }
          ]
         },
         "layout": {
          "annotationdefaults": {
           "arrowcolor": "#2a3f5f",
           "arrowhead": 0,
           "arrowwidth": 1
          },
          "autotypenumbers": "strict",
          "coloraxis": {
           "colorbar": {
            "outlinewidth": 0,
            "ticks": ""
           }
          },
          "colorscale": {
           "diverging": [
            [
             0,
             "#8e0152"
            ],
            [
             0.1,
             "#c51b7d"
            ],
            [
             0.2,
             "#de77ae"
            ],
            [
             0.3,
             "#f1b6da"
            ],
            [
             0.4,
             "#fde0ef"
            ],
            [
             0.5,
             "#f7f7f7"
            ],
            [
             0.6,
             "#e6f5d0"
            ],
            [
             0.7,
             "#b8e186"
            ],
            [
             0.8,
             "#7fbc41"
            ],
            [
             0.9,
             "#4d9221"
            ],
            [
             1,
             "#276419"
            ]
           ],
           "sequential": [
            [
             0,
             "#0d0887"
            ],
            [
             0.1111111111111111,
             "#46039f"
            ],
            [
             0.2222222222222222,
             "#7201a8"
            ],
            [
             0.3333333333333333,
             "#9c179e"
            ],
            [
             0.4444444444444444,
             "#bd3786"
            ],
            [
             0.5555555555555556,
             "#d8576b"
            ],
            [
             0.6666666666666666,
             "#ed7953"
            ],
            [
             0.7777777777777778,
             "#fb9f3a"
            ],
            [
             0.8888888888888888,
             "#fdca26"
            ],
            [
             1,
             "#f0f921"
            ]
           ],
           "sequentialminus": [
            [
             0,
             "#0d0887"
            ],
            [
             0.1111111111111111,
             "#46039f"
            ],
            [
             0.2222222222222222,
             "#7201a8"
            ],
            [
             0.3333333333333333,
             "#9c179e"
            ],
            [
             0.4444444444444444,
             "#bd3786"
            ],
            [
             0.5555555555555556,
             "#d8576b"
            ],
            [
             0.6666666666666666,
             "#ed7953"
            ],
            [
             0.7777777777777778,
             "#fb9f3a"
            ],
            [
             0.8888888888888888,
             "#fdca26"
            ],
            [
             1,
             "#f0f921"
            ]
           ]
          },
          "colorway": [
           "#636efa",
           "#EF553B",
           "#00cc96",
           "#ab63fa",
           "#FFA15A",
           "#19d3f3",
           "#FF6692",
           "#B6E880",
           "#FF97FF",
           "#FECB52"
          ],
          "font": {
           "color": "#2a3f5f"
          },
          "geo": {
           "bgcolor": "white",
           "lakecolor": "white",
           "landcolor": "#E5ECF6",
           "showlakes": true,
           "showland": true,
           "subunitcolor": "white"
          },
          "hoverlabel": {
           "align": "left"
          },
          "hovermode": "closest",
          "mapbox": {
           "style": "light"
          },
          "paper_bgcolor": "white",
          "plot_bgcolor": "#E5ECF6",
          "polar": {
           "angularaxis": {
            "gridcolor": "white",
            "linecolor": "white",
            "ticks": ""
           },
           "bgcolor": "#E5ECF6",
           "radialaxis": {
            "gridcolor": "white",
            "linecolor": "white",
            "ticks": ""
           }
          },
          "scene": {
           "xaxis": {
            "backgroundcolor": "#E5ECF6",
            "gridcolor": "white",
            "gridwidth": 2,
            "linecolor": "white",
            "showbackground": true,
            "ticks": "",
            "zerolinecolor": "white"
           },
           "yaxis": {
            "backgroundcolor": "#E5ECF6",
            "gridcolor": "white",
            "gridwidth": 2,
            "linecolor": "white",
            "showbackground": true,
            "ticks": "",
            "zerolinecolor": "white"
           },
           "zaxis": {
            "backgroundcolor": "#E5ECF6",
            "gridcolor": "white",
            "gridwidth": 2,
            "linecolor": "white",
            "showbackground": true,
            "ticks": "",
            "zerolinecolor": "white"
           }
          },
          "shapedefaults": {
           "line": {
            "color": "#2a3f5f"
           }
          },
          "ternary": {
           "aaxis": {
            "gridcolor": "white",
            "linecolor": "white",
            "ticks": ""
           },
           "baxis": {
            "gridcolor": "white",
            "linecolor": "white",
            "ticks": ""
           },
           "bgcolor": "#E5ECF6",
           "caxis": {
            "gridcolor": "white",
            "linecolor": "white",
            "ticks": ""
           }
          },
          "title": {
           "x": 0.05
          },
          "xaxis": {
           "automargin": true,
           "gridcolor": "white",
           "linecolor": "white",
           "ticks": "",
           "title": {
            "standoff": 15
           },
           "zerolinecolor": "white",
           "zerolinewidth": 2
          },
          "yaxis": {
           "automargin": true,
           "gridcolor": "white",
           "linecolor": "white",
           "ticks": "",
           "title": {
            "standoff": 15
           },
           "zerolinecolor": "white",
           "zerolinewidth": 2
          }
         }
        },
        "xaxis": {
         "autorange": true,
         "range": [
          2.107866265655106,
          12.369313734344894
         ],
         "type": "linear"
        },
        "yaxis": {
         "autorange": true,
         "range": [
          3.995242797132737,
          9.79819225313338
         ],
         "type": "linear"
        }
       }
      },
      "image/png": "[encoded data removed]",
      "text/html": [
       "<div>                            <div id=\"b0b5abff-8c3e-43f4-b082-9a7d665256c1\" class=\"plotly-graph-div\" style=\"height:525px; width:100%;\"></div>            <script type=\"text/javascript\">                require([\"plotly\"], function(Plotly) {                    window.PLOTLYENV=window.PLOTLYENV || {};                                    if (document.getElementById(\"b0b5abff-8c3e-43f4-b082-9a7d665256c1\")) {                    Plotly.newPlot(                        \"b0b5abff-8c3e-43f4-b082-9a7d665256c1\",                        [{\"name\":\"(2.662271, 6.436248)\",\"x\":[2.662271],\"y\":[6.436248],\"type\":\"scatter\"},{\"name\":\"(11.814909, 8.299881)\",\"x\":[11.814909],\"y\":[8.299881],\"type\":\"scatter\"},{\"name\":\"(9.306211, 5.495822)\",\"x\":[9.306211],\"y\":[5.495822],\"type\":\"scatter\"},{\"name\":\"(3.110509, 5.305435)\",\"x\":[3.110509],\"y\":[5.305435],\"type\":\"scatter\"},{\"name\":\"(4.376073, 5.368352)\",\"x\":[4.376073],\"y\":[5.368352],\"type\":\"scatter\"},{\"name\":\"(7.288801, 5.578745)\",\"x\":[7.288801],\"y\":[5.578745],\"type\":\"scatter\"},{\"name\":\"(8.13391, 6.960544)\",\"x\":[8.13391],\"y\":[6.960544],\"type\":\"scatter\"},{\"name\":\"(4.87216, 6.078595)\",\"x\":[4.87216],\"y\":[6.078595],\"type\":\"scatter\"},{\"name\":\"(5.660226, 6.698943)\",\"x\":[5.660226],\"y\":[6.698943],\"type\":\"scatter\"},{\"name\":\"(5.644691, 4.889521)\",\"x\":[5.644691],\"y\":[4.889521],\"type\":\"scatter\"},{\"name\":\"(5.810638, 6.906727)\",\"x\":[5.810638],\"y\":[6.906727],\"type\":\"scatter\"},{\"name\":\"(4.746343, 6.792254)\",\"x\":[4.746343],\"y\":[6.792254],\"type\":\"scatter\"},{\"name\":\"segment\",\"x\":[6.216466,6.226423],\"y\":[4.535322,4.737842],\"type\":\"scatter\"},{\"name\":\"segment\",\"x\":[6.226423,6.245008],\"y\":[4.737842,4.85934],\"type\":\"scatter\"},{\"name\":\"segment\",\"x\":[6.245008,6.174974],\"y\":[4.85934,4.974765],\"type\":\"scatter\"},{\"name\":\"segment\",\"x\":[6.174974,6.142084],\"y\":[4.974765,5.053255],\"type\":\"scatter\"},{\"name\":\"segment\",\"x\":[6.142084,6.123158],\"y\":[5.053255,5.175507],\"type\":\"scatter\"},{\"name\":\"segment\",\"x\":[6.123158,6.10373],\"y\":[5.175507,5.301015],\"type\":\"scatter\"},{\"name\":\"segment\",\"x\":[6.10373,6.091752],\"y\":[5.301015,5.378411],\"type\":\"scatter\"},{\"name\":\"segment\",\"x\":[6.091752,6.094696],\"y\":[5.378411,5.510375],\"type\":\"scatter\"},{\"name\":\"segment\",\"x\":[6.094696,6.036667],\"y\":[5.510375,5.66764],\"type\":\"scatter\"},{\"name\":\"segment\",\"x\":[6.036667,5.991576],\"y\":[5.66764,5.735586],\"type\":\"scatter\"},{\"name\":\"segment\",\"x\":[5.991576,5.893041],\"y\":[5.735586,5.858559],\"type\":\"scatter\"},{\"name\":\"segment\",\"x\":[5.893041,5.840053],\"y\":[5.858559,5.944022],\"type\":\"scatter\"},{\"name\":\"segment\",\"x\":[5.840053,5.777653],\"y\":[5.944022,6.036696],\"type\":\"scatter\"},{\"name\":\"segment\",\"x\":[5.777653,5.746139],\"y\":[6.036696,6.086179],\"type\":\"scatter\"},{\"name\":\"segment\",\"x\":[5.746139,5.687519],\"y\":[6.086179,6.231828],\"type\":\"scatter\"},{\"name\":\"segment\",\"x\":[5.687519,5.659779],\"y\":[6.231828,6.292732],\"type\":\"scatter\"},{\"name\":\"segment\",\"x\":[5.659779,5.63137],\"y\":[6.292732,6.340664],\"type\":\"scatter\"},{\"name\":\"segment\",\"x\":[5.63137,5.592516],\"y\":[6.340664,6.406215],\"type\":\"scatter\"},{\"name\":\"segment\",\"x\":[5.592516,5.553662],\"y\":[6.406215,6.471765],\"type\":\"scatter\"},{\"name\":\"segment\",\"x\":[5.553662,5.481818],\"y\":[6.471765,6.560254],\"type\":\"scatter\"},{\"name\":\"segment\",\"x\":[5.481818,5.43335],\"y\":[6.560254,6.615202],\"type\":\"scatter\"},{\"name\":\"segment\",\"x\":[5.43335,5.393803],\"y\":[6.615202,6.678135],\"type\":\"scatter\"},{\"name\":\"segment\",\"x\":[5.393803,5.358522],\"y\":[6.678135,6.745531],\"type\":\"scatter\"},{\"name\":\"segment\",\"x\":[5.358522,5.344361],\"y\":[6.745531,6.785489],\"type\":\"scatter\"},{\"name\":\"segment\",\"x\":[5.344361,5.294842],\"y\":[6.785489,6.919923],\"type\":\"scatter\"},{\"name\":\"segment\",\"x\":[5.294842,5.2756],\"y\":[6.919923,7.006803],\"type\":\"scatter\"},{\"name\":\"segment\",\"x\":[5.2756,5.258248],\"y\":[7.006803,7.043624],\"type\":\"scatter\"},{\"name\":\"segment\",\"x\":[5.258248,5.228629],\"y\":[7.043624,7.120522],\"type\":\"scatter\"},{\"name\":\"segment\",\"x\":[5.228629,5.197806],\"y\":[7.120522,7.183892],\"type\":\"scatter\"},{\"name\":\"segment\",\"x\":[5.197806,5.174153],\"y\":[7.183892,7.280427],\"type\":\"scatter\"},{\"name\":\"segment\",\"x\":[5.174153,5.156019],\"y\":[7.280427,7.354437],\"type\":\"scatter\"},{\"name\":\"segment\",\"x\":[5.156019,5.140079],\"y\":[7.354437,7.432066],\"type\":\"scatter\"},{\"name\":\"segment\",\"x\":[5.140079,5.119891],\"y\":[7.432066,7.485739],\"type\":\"scatter\"},{\"name\":\"segment\",\"x\":[5.119891,5.098308],\"y\":[7.485739,7.568629],\"type\":\"scatter\"},{\"name\":\"segment\",\"x\":[5.098308,5.073782],\"y\":[7.568629,7.674698],\"type\":\"scatter\"},{\"name\":\"segment\",\"x\":[5.073782,5.041459],\"y\":[7.674698,7.821471],\"type\":\"scatter\"},{\"name\":\"segment\",\"x\":[5.041459,5.017788],\"y\":[7.821471,7.928956],\"type\":\"scatter\"},{\"name\":\"segment\",\"x\":[5.017788,4.992062],\"y\":[7.928956,8.035933],\"type\":\"scatter\"},{\"name\":\"segment\",\"x\":[4.992062,4.949973],\"y\":[8.035933,8.138556],\"type\":\"scatter\"},{\"name\":\"segment\",\"x\":[4.949973,4.925734],\"y\":[8.138556,8.208805],\"type\":\"scatter\"},{\"name\":\"segment\",\"x\":[4.925734,4.907672],\"y\":[8.208805,8.319531],\"type\":\"scatter\"},{\"name\":\"segment\",\"x\":[4.907672,4.860704],\"y\":[8.319531,8.456305],\"type\":\"scatter\"},{\"name\":\"segment\",\"x\":[4.860704,4.842548],\"y\":[8.456305,8.490737],\"type\":\"scatter\"},{\"name\":\"segment\",\"x\":[4.842548,4.833205],\"y\":[8.490737,8.521294],\"type\":\"scatter\"},{\"name\":\"segment\",\"x\":[4.833205,4.786455],\"y\":[8.521294,8.759745],\"type\":\"scatter\"},{\"name\":\"segment\",\"x\":[4.786455,4.773995],\"y\":[8.759745,8.792185],\"type\":\"scatter\"},{\"name\":\"segment\",\"x\":[4.773995,4.752749],\"y\":[8.792185,8.847504],\"type\":\"scatter\"},{\"name\":\"segment\",\"x\":[4.752749,4.731504],\"y\":[8.847504,8.902822],\"type\":\"scatter\"},{\"name\":\"segment\",\"x\":[4.731504,4.712126],\"y\":[8.902822,8.936584],\"type\":\"scatter\"},{\"name\":\"segment\",\"x\":[4.712126,4.684841],\"y\":[8.936584,8.996154],\"type\":\"scatter\"},{\"name\":\"segment\",\"x\":[4.684841,4.665143],\"y\":[8.996154,9.024782],\"type\":\"scatter\"},{\"name\":\"segment\",\"x\":[4.665143,4.632325],\"y\":[9.024782,9.077767],\"type\":\"scatter\"},{\"name\":\"segment\",\"x\":[4.632325,4.601123],\"y\":[9.077767,9.128143],\"type\":\"scatter\"},{\"name\":\"segment\",\"x\":[4.601123,4.567984],\"y\":[9.128143,9.170279],\"type\":\"scatter\"},{\"name\":\"segment\",\"x\":[4.567984,4.533863],\"y\":[9.170279,9.237874],\"type\":\"scatter\"},{\"name\":\"segment\",\"x\":[4.533863,4.478833],\"y\":[9.237874,9.303662],\"type\":\"scatter\"},{\"name\":\"segment\",\"x\":[4.478833,4.441566],\"y\":[9.303662,9.357551],\"type\":\"scatter\"},{\"name\":\"segment\",\"x\":[4.441566,4.421099],\"y\":[9.357551,9.38715],\"type\":\"scatter\"},{\"name\":\"4.235696187041828\",\"x\":[2.662271,2.734805591836735,2.8073401836734693,2.879874775510204,2.952409367346939,3.0249439591836733,3.097478551020408,3.170013142857143,3.2425477346938774,3.315082326530612,3.387616918367347,3.4601515102040814,3.5326861020408162,3.605220693877551,3.6777552857142854,3.7502898775510207,3.822824469387755,3.8953590612244895,3.9678936530612248,4.040428244897959,4.1129628367346935,4.185497428571429,4.258032020408163,4.330566612244898,4.403101204081633,4.475635795918367,4.548170387755102,4.620704979591837,4.693239571428571,4.765774163265306,4.838308755102041,4.910843346938775,4.98337793877551,5.055912530612245,5.128447122448979,5.200981714285714,5.273516306122449,5.346050897959183,5.418585489795918,5.491120081632653,5.563654673469388,5.636189265306122,5.708723857142857,5.781258448979592,5.853793040816326,5.926327632653061,5.9988622244897964,6.07139681632653,6.143931408163265,6.216466],\"y\":[6.436248,6.3469454285126865,6.2597473638305425,6.174653805953566,6.091664754881759,6.01078021061512,5.932000173153649,5.855324642497347,5.780753618646214,5.708287101600251,5.637925091359455,5.569667587923828,5.503514591293369,5.439466101468081,5.37752211844796,5.317682642233008,5.259947672823223,5.20431721021861,5.150791254419163,5.099369805424887,5.050052863235779,5.002840427851837,4.957732499273067,4.914729077499463,4.87383016253103,4.835035754367763,4.798345853009668,4.763760458456739,4.73127957070898,4.70090318976639,4.672631315628968,4.646463948296716,4.62240108776963,4.600442734047714,4.580588887130967,4.562839547019388,4.547194713712978,4.533654387211738,4.522218567515666,4.512887254624761,4.505660448539027,4.5005381492584595,4.497520356783062,4.496607071112833,4.497798292247772,4.501094020187882,4.506494254933158,4.513998996483604,4.523608244839217,4.535322000000001],\"type\":\"scatter\"},{\"name\":\"7.434959374984519\",\"x\":[6.216466,6.33071993877551,6.44497387755102,6.55922781632653,6.67348175510204,6.787735693877551,6.901989632653061,7.016243571428571,7.130497510204082,7.244751448979591,7.359005387755102,7.473259326530612,7.587513265306122,7.701767204081632,7.816021142857142,7.930275081632653,8.044529020408163,8.158782959183673,8.273036897959184,8.387290836734694,8.501544775510204,8.615798714285713,8.730052653061225,8.844306591836734,8.958560530612244,9.072814469387755,9.187068408163265,9.301322346938775,9.415576285714286,9.529830224489796,9.644084163265306,9.758338102040817,9.872592040816325,9.986845979591838,10.101099918367346,10.215353857142857,10.329607795918367,10.443861734693877,10.558115673469388,10.672369612244898,10.786623551020408,10.900877489795917,11.01513142857143,11.129385367346938,11.24363930612245,11.357893244897959,11.472147183673469,11.58640112244898,11.70065506122449,11.814909],\"y\":[4.535322000000001,4.486831694446984,4.443562973904257,4.405515838371814,4.372690287849661,4.345086322337798,4.322703941836217,4.305543146344924,4.293603935863917,4.286886310393202,4.285390269932769,4.289115814482624,4.298062944042769,4.3122316586132,4.331621958193917,4.356233842784926,4.386067312386219,4.421122366997798,4.461399006619665,4.506897231251816,4.557617040894259,4.613558435546988,4.674721415210005,4.741105979883306,4.812712129566897,4.889539864260776,4.971589183964941,5.058860088679392,5.151352578404129,5.249066653139156,5.352002312884469,5.460159557640068,5.573538387405957,5.692138802182139,5.815960801968597,5.945004386765344,6.079269556572385,6.218756311389708,6.3634646512173205,6.513394576055216,6.668546085903401,6.828919180761876,6.9945138606306365,7.165330125509687,7.341367975399017,7.5226274102986395,7.709108430208548,7.900811035128747,8.097735225059228,8.299881],\"type\":\"scatter\"},{\"name\":\"3.4018402596334143\",\"x\":[6.216466,6.279522020408163,6.342578040816326,6.4056340612244895,6.468690081632652,6.531746102040816,6.5948021224489795,6.657858142857142,6.720914163265306,6.783970183673469,6.847026204081632,6.910082224489796,6.973138244897958,7.036194265306122,7.099250285714286,7.162306306122448,7.225362326530612,7.288418346938775,7.351474367346938,7.414530387755102,7.477586408163265,7.540642428571428,7.603698448979591,7.6667544693877545,7.729810489795918,7.792866510204081,7.855922530612244,7.918978551020407,7.982034571428571,8.045090591836734,8.108146612244898,8.17120263265306,8.234258653061223,8.297314673469387,8.36037069387755,8.423426714285714,8.486482734693876,8.54953875510204,8.612594775510203,8.675650795918367,8.73870681632653,8.801762836734692,8.864818857142856,8.92787487755102,8.990930897959183,9.053986918367347,9.117042938775509,9.180098959183672,9.243154979591836,9.306211],\"y\":[4.535321999999997,4.516753848403063,4.499776121490013,4.48438881926085,4.470591941715574,4.458385488854182,4.4477694606766764,4.4387438571830575,4.431308678373327,4.425463924247479,4.421209594805518,4.418545690047441,4.417472209973253,4.417989154582948,4.420096523876529,4.4237943178539965,4.429082536515349,4.435961179860591,4.444430247889715,4.454489740602725,4.466139657999623,4.479380000080406,4.494210766845075,4.510631958293629,4.528643574426074,4.548245615242401,4.569438080742611,4.592220970926709,4.616594285794694,4.642558025346563,4.670112189582319,4.69925677850196,4.729991792105489,4.7623172303929024,4.796233093364199,4.831739381019386,4.868836093358457,4.907523230381415,4.947800792088257,4.98966877847899,5.033127189553603,5.078176025312102,5.124815285754488,5.173044970880763,5.222865080690919,5.2742756151849655,5.3272765743628945,5.38186795822471,5.438049766770412,5.495822],\"type\":\"scatter\"},{\"name\":\"3.37595256015761\",\"x\":[3.110509,3.17389587755102,3.237282755102041,3.300669632653061,3.3640565102040814,3.427443387755102,3.4908302653061223,3.554217142857143,3.617604020408163,3.680990897959184,3.744377775510204,3.8077646530612244,3.871151530612245,3.9345384081632653,3.9979252857142855,4.061312163265306,4.124699040816326,4.188085918367347,4.251472795918367,4.314859673469387,4.378246551020408,4.4416334285714285,4.505020306122448,4.568407183673469,4.63179406122449,4.69518093877551,4.758567816326531,4.821954693877551,4.8853415714285715,4.948728448979592,5.012115326530612,5.075502204081633,5.138889081632653,5.202275959183673,5.265662836734694,5.3290497142857145,5.392436591836734,5.455823469387755,5.519210346938776,5.5825972244897955,5.645984102040816,5.709370979591837,5.772757857142857,5.836144734693877,5.899531612244898,5.962918489795918,6.0263053673469384,6.089692244897959,6.153079122448979,6.216466],\"y\":[5.305434999999999,5.25114660420485,5.19846536690797,5.147391288109356,5.09792436780901,5.050064606006931,5.003812002703119,4.959166557897574,4.916128271590297,4.874697143781287,4.834873174470543,4.796656363658068,4.760046711343859,4.725044217527918,4.691648882210243,4.6598607053908365,4.629679687069698,4.601105827246824,4.574139125922219,4.548779583095882,4.525027198767811,4.502881972938008,4.482343905606472,4.463412996773202,4.446089246438199,4.430372654601464,4.416263221262997,4.403760946422797,4.392865830080863,4.383577872237198,4.3758970728918,4.369823432044668,4.365356949695804,4.362497625845207,4.361245460492877,4.361600453638815,4.36356260528302,4.367131915425491,4.372308384066231,4.379092011205238,4.38748279684251,4.397480740978051,4.4090858436118605,4.422298104743934,4.437117524374277,4.453544102502888,4.471577839129764,4.4912187342549075,4.512466787878319,4.535321999999997],\"type\":\"scatter\"},{\"name\":\"2.0514716619768647\",\"x\":[4.376073,4.413632040816326,4.451191081632653,4.488750122448979,4.526309163265306,4.563868204081633,4.601427244897959,4.638986285714285,4.676545326530612,4.7141043673469385,4.751663408163265,4.789222448979592,4.826781489795918,4.864340530612244,4.901899571428571,4.939458612244898,4.977017653061225,5.014576693877551,5.052135734693877,5.089694775510203,5.12725381632653,5.164812857142857,5.202371897959184,5.23993093877551,5.277489979591836,5.315049020408163,5.3526080612244895,5.390167102040816,5.427726142857143,5.465285183673469,5.502844224489795,5.540403265306122,5.577962306122449,5.615521346938775,5.653080387755102,5.690639428571428,5.728198469387754,5.7657575102040814,5.803316551020408,5.840875591836735,5.878434632653061,5.915993673469387,5.953552714285713,5.9911117551020405,6.028670795918367,6.066229836734694,6.10378887755102,6.141347918367346,6.1789069591836725,6.216466],\"y\":[5.368352,5.337808844903495,5.3078299624258065,5.278415352566935,5.24956501532688,5.221278950705641,5.1935571587032205,5.166399639319617,5.13980639255483,5.11377741840886,5.088312716881707,5.063412287973372,5.039076131683853,5.015304248013152,4.992096636961265,4.969453298528197,4.947374232713947,4.925859439518513,4.904908918941897,4.884522670984097,4.864700695645115,4.845442992924949,4.826749562823598,4.808620405341067,4.791055520477352,4.774054908232454,4.757618568606373,4.74174650159911,4.726438707210663,4.711695185441032,4.69751593629022,4.683900959758223,4.670850255845044,4.6583638245506815,4.6464416658751375,4.635083779818411,4.624290166380499,4.614060825561404,4.604395757361129,4.595294961779667,4.586758438817023,4.578786188473197,4.571378210748188,4.564534505641998,4.558255073154623,4.552539913286065,4.547389026036324,4.5428024114054,4.538780069393292,4.535322000000001],\"type\":\"scatter\"},{\"name\":\"1.4673424711242775\",\"x\":[6.245008,6.266309897959184,6.287611795918368,6.308913693877551,6.330215591836735,6.351517489795919,6.3728193877551025,6.394121285714286,6.41542318367347,6.4367250816326536,6.458026979591837,6.479328877551021,6.500630775510205,6.521932673469388,6.543234571428572,6.564536469387756,6.585838367346939,6.607140265306123,6.628442163265307,6.6497440612244905,6.671045959183674,6.692347857142858,6.7136497551020415,6.734951653061225,6.756253551020409,6.777555448979593,6.798857346938776,6.82015924489796,6.841461142857144,6.8627630408163265,6.88406493877551,6.905366836734694,6.926668734693878,6.947970632653061,6.969272530612245,6.990574428571429,7.011876326530612,7.033178224489796,7.05448012244898,7.075782020408163,7.097083918367347,7.118385816326531,7.1396877142857145,7.160989612244898,7.182291510204082,7.2035934081632655,7.224895306122449,7.246197204081633,7.267499102040817,7.288801],\"y\":[4.859340000000001,4.869665534469909,4.880172577282484,4.890861128437723,4.901731187935628,4.912782755776197,4.924015831959432,4.9354304164853335,4.947026509353899,4.958804110565129,4.970763220119027,4.982903838015588,4.995225964254816,5.007729598836709,5.020414741761266,5.033281393028492,5.04632955263838,5.059559220590934,5.072970396886156,5.086563081524039,5.100337274504589,5.114292975827807,5.128430185493688,5.142748903502232,5.1572491298534455,5.171930864547322,5.186794107583866,5.201838858963075,5.217065118684948,5.232472886749488,5.248062163156693,5.263832947906561,5.279785240999097,5.2959190424342975,5.312234352212164,5.328731170332695,5.345409496795892,5.362269331601754,5.379310674750283,5.396533526241475,5.413937886075335,5.431523754251858,5.449291130771044,5.4672400156329,5.48537040883742,5.503682310384605,5.522175720274456,5.5408506385069725,5.5597070650821525,5.578745000000001],\"type\":\"scatter\"},{\"name\":\"3.034478103834143\",\"x\":[6.245008,6.283557020408163,6.322106040816327,6.36065506122449,6.399204081632654,6.4377531020408165,6.47630212244898,6.514851142857143,6.553400163265306,6.59194918367347,6.630498204081633,6.6690472244897965,6.707596244897959,6.746145265306123,6.784694285714286,6.82324330612245,6.861792326530613,6.9003413469387755,6.938890367346939,6.977439387755102,7.015988408163266,7.054537428571429,7.093086448979593,7.1316354693877555,7.170184489795918,7.208733510204082,7.247282530612245,7.285831551020408,7.324380571428572,7.3629295918367355,7.401478612244898,7.440027632653061,7.478576653061225,7.517125673469388,7.555674693877551,7.5942237142857145,7.632772734693878,7.671321755102041,7.709870775510204,7.748419795918368,7.786968816326531,7.825517836734694,7.864066857142857,7.902615877551021,7.941164897959184,7.979713918367347,8.01826293877551,8.056811959183674,8.095360979591836,8.13391],\"y\":[4.8593399999999995,4.887955855331197,4.917166121452164,4.946970798362903,4.977369886063416,5.008363384553697,5.0399512938337505,5.072133613903578,5.104910344763173,5.1382814864125415,5.172247038851683,5.206807002080595,5.24196137609928,5.277710160907734,5.31405335650596,5.35099096289396,5.388522980071729,5.426649408039269,5.465370246796583,5.504685496343669,5.544595156680526,5.585099227807152,5.626197709723552,5.667890602429724,5.710177905925667,5.7530596202113795,5.7965357452868655,5.840606281152123,5.885271227807152,5.930530585251953,5.976384353486525,6.0228325325108685,6.069875122324985,6.11751212292887,6.16574353432253,6.21456935650596,6.263989589479163,6.3140042332421356,6.36461328779488,6.415816753137397,6.467614629269686,6.520006916191743,6.572993613903575,6.626574722405179,6.680750241696554,6.735520171777699,6.790884512648619,6.8468432643093085,6.903396426759768,6.960543999999999],\"type\":\"scatter\"},{\"name\":\"1.8868821469047503\",\"x\":[4.87216,4.8906394489795915,4.909118897959184,4.927598346938775,4.9460777959183675,4.964557244897959,4.983036693877551,5.001516142857143,5.019995591836735,5.038475040816326,5.056954489795919,5.07543393877551,5.093913387755102,5.112392836734694,5.130872285714286,5.1493517346938775,5.167831183673469,5.186310632653061,5.204790081632653,5.223269530612245,5.241748979591836,5.260228428571429,5.27870787755102,5.297187326530612,5.315666775510204,5.334146224489796,5.352625673469388,5.37110512244898,5.389584571428571,5.408064020408164,5.426543469387755,5.445022918367346,5.463502367346939,5.481981816326531,5.5004612653061224,5.518940714285714,5.537420163265306,5.555899612244898,5.57437906122449,5.592858510204081,5.611337959183674,5.629817408163265,5.648296857142857,5.666776306122449,5.685255755102041,5.7037352040816325,5.722214653061224,5.740694102040816,5.7591735510204085,5.777653],\"y\":[6.078594999999999,6.074461614035287,6.070464824084413,6.066604630147374,6.062881032224169,6.059294030314802,6.05584362441927,6.052529814537574,6.049352600669712,6.046311982815689,6.0434079609755,6.040640535149145,6.038009705336628,6.035515471537947,6.0331578337531,6.030936791982089,6.028852346224915,6.026904496481576,6.025093242752074,6.023418585036405,6.021880523334573,6.020479057646578,6.019214187972417,6.018085914312092,6.017094236665604,6.0162391550329515,6.015520669414133,6.014938779809151,6.014493486218006,6.014184788640695,6.014012687077221,6.013977181527583,6.014078271991781,6.014315958469812,6.014690240961681,6.015201119467386,6.015848593986925,6.016632664520301,6.0175533310675124,6.01861059362856,6.019804452203442,6.021134906792161,6.022601957394716,6.024205604011106,6.025945846641331,6.027822685285393,6.029836119943291,6.0319861506150225,6.034272777300593,6.036695999999998],\"type\":\"scatter\"},{\"name\":\"1.5208679277095147\",\"x\":[5.553662,5.555836775510204,5.5580115510204084,5.560186326530612,5.562361102040817,5.5645358775510205,5.566710653061224,5.568885428571429,5.571060204081633,5.573234979591836,5.575409755102041,5.577584530612245,5.579759306122449,5.581934081632653,5.584108857142857,5.586283632653061,5.588458408163265,5.59063318367347,5.5928079591836735,5.594982734693877,5.597157510204082,5.5993322857142855,5.60150706122449,5.603681836734694,5.605856612244898,5.608031387755102,5.610206163265306,5.61238093877551,5.614555714285714,5.616730489795918,5.618905265306123,5.621080040816326,5.62325481632653,5.625429591836735,5.6276043673469385,5.629779142857143,5.631953918367347,5.6341286938775506,5.636303469387755,5.638478244897959,5.640653020408163,5.642827795918367,5.645002571428571,5.647177346938776,5.649352122448979,5.651526897959183,5.653701673469388,5.655876448979591,5.658051224489796,5.660226],\"y\":[6.4717649999999995,6.476355881088494,6.480948654036399,6.48554331884371,6.4901398755104305,6.4947383240365575,6.499338664422092,6.503940896667037,6.508545020771387,6.513151036735145,6.517758944558313,6.522368744240888,6.526980435782872,6.5315940191842605,6.5362094944450595,6.540826861565267,6.545446120544882,6.550067271383904,6.554690314082334,6.559315248640171,6.56394207505742,6.5685707933340725,6.573201403470135,6.577833905465605,6.582468299320482,6.587104585034768,6.591742762608461,6.596382832041562,6.601024793334073,6.605668646485989,6.610314391497315,6.614962028368049,6.619611557098189,6.6242629776877395,6.6289162901366945,6.633571494445061,6.638228590612833,6.642887578640013,6.647548458526602,6.652211230272598,6.656875893878002,6.661542449342815,6.666210896667035,6.670881235850664,6.6755534668936996,6.680227589796143,6.684903604557996,6.689581511179255,6.694261309659924,6.698942999999999],\"type\":\"scatter\"},{\"name\":\"0.6733606747624491\",\"x\":[5.644691,5.65635987755102,5.668028755102041,5.6796976326530615,5.691366510204081,5.703035387755102,5.714704265306122,5.726373142857143,5.738042020408163,5.749710897959184,5.761379775510204,5.773048653061224,5.7847175306122445,5.796386408163265,5.8080552857142855,5.819724163265306,5.831393040816327,5.843061918367347,5.854730795918367,5.866399673469387,5.878068551020408,5.889737428571428,5.901406306122449,5.913075183673469,5.92474406122449,5.93641293877551,5.94808181632653,5.959750693877551,5.971419571428571,5.983088448979592,5.994757326530612,6.006426204081633,6.018095081632652,6.029763959183673,6.0414328367346934,6.053101714285714,6.0647705918367345,6.076439469387755,6.088108346938776,6.099777224489795,6.111446102040816,6.123114979591836,6.134783857142857,6.146452734693877,6.158121612244898,6.169790489795918,6.181459367346939,6.1931282448979585,6.204797122448979,6.216466],\"y\":[4.8895209999999985,4.880985287027901,4.872504039137127,4.864077256327674,4.855704938599542,4.847387085952725,4.839123698387233,4.830914775903059,4.822760318500208,4.814660326178675,4.806614798938462,4.798623736779568,4.790687139701998,4.782805007705747,4.774977340790816,4.767204138957201,4.759485402204913,4.751821130533942,4.744211323944294,4.736655982435959,4.729155106008951,4.721708694663263,4.714316748398893,4.706979267215846,4.699696251114119,4.692467700093708,4.685293614154622,4.678173993296854,4.671108837520407,4.664098146825278,4.657141921211471,4.650240160678987,4.6433928652278205,4.636600034857974,4.629861669569447,4.623177769362243,4.616548334236358,4.609973364191793,4.60345285922855,4.596986819346624,4.59057524454602,4.584218134826738,4.577915490188776,4.5716673106321295,4.5654735961568065,4.559334346762805,4.553249562450123,4.547219243218759,4.541243389068718,4.535321999999997],\"type\":\"scatter\"},{\"name\":\"1.770197711335325\",\"x\":[5.592516,5.596967469387755,5.6014189387755104,5.605870408163265,5.61032187755102,5.614773346938775,5.619224816326531,5.623676285714286,5.6281277551020406,5.632579224489795,5.637030693877551,5.641482163265306,5.645933632653061,5.650385102040816,5.6548365714285715,5.659288040816326,5.663739510204081,5.668190979591837,5.672642448979592,5.677093918367347,5.681545387755102,5.685996857142857,5.690448326530612,5.694899795918367,5.699351265306122,5.703802734693878,5.708254204081633,5.7127056734693875,5.717157142857142,5.721608612244898,5.726060081632653,5.730511551020408,5.734963020408163,5.7394144897959185,5.743865959183673,5.748317428571428,5.752768897959184,5.757220367346939,5.761671836734694,5.766123306122449,5.770574775510204,5.775026244897959,5.779477714285714,5.783929183673469,5.788380653061225,5.79283212244898,5.7972835918367345,5.801735061224489,5.806186530612245,5.810638],\"y\":[6.406215,6.416239301047027,6.42627152832594,6.436311681836736,6.446359761579416,6.456415767553979,6.466479699760429,6.47655155819876,6.486631342868975,6.496719053771075,6.506814690905061,6.516918254270928,6.527029743868681,6.537149159698316,6.547276501759837,6.557411770053242,6.56755496457853,6.577706085335704,6.58786513232476,6.5980321055457,6.608207004998524,6.618389830683234,6.628580582599826,6.638779260748302,6.648985865128663,6.65920039574091,6.669422852585037,6.67965323566105,6.689891544968946,6.700137780508728,6.710391942280395,6.720654030283942,6.730924044519375,6.741201984986694,6.751487851685895,6.761781644616979,6.7720833637799505,6.782393009174803,6.792710580801541,6.803036078660161,6.813369502750668,6.823710853073058,6.834060129627331,6.844417332413487,6.854782461431531,6.865155516681456,6.875536498163266,6.885925405876959,6.896322239822538,6.906727],\"type\":\"scatter\"},{\"name\":\"2.0860496473324974\",\"x\":[4.746343,4.759556469387755,4.772769938775511,4.785983408163266,4.7991968775510205,4.812410346938776,4.825623816326531,4.838837285714286,4.8520507551020415,4.865264224489796,4.878477693877551,4.891691163265307,4.904904632653062,4.9181181020408165,4.931331571428572,4.944545040816327,4.957758510204082,4.9709719795918375,4.984185448979592,4.997398918367347,5.010612387755103,5.023825857142858,5.037039326530612,5.050252795918368,5.063466265306123,5.076679734693878,5.089893204081633,5.103106673469388,5.116320142857143,5.129533612244898,5.1427470816326535,5.155960551020408,5.169174020408163,5.182387489795919,5.195600959183674,5.208814428571428,5.222027897959184,5.235241367346939,5.248454836734694,5.261668306122449,5.274881775510204,5.288095244897959,5.301308714285715,5.3145221836734695,5.327735653061224,5.34094912244898,5.354162591836735,5.36737606122449,5.380589530612245,5.393803],\"y\":[6.792254,6.788248921393019,6.784313681095344,6.780448279106973,6.776652715427907,6.772926990058142,6.769271102997685,6.765685054246531,6.762168843804683,6.758722471672138,6.7553459378488965,6.752039242334961,6.74880238513033,6.745635366235003,6.742538185648981,6.739510843372262,6.736553339404849,6.7336656737467395,6.7308478463979355,6.728099857358435,6.7254217066282385,6.722813394207348,6.720274920095761,6.717806284293479,6.715407486800501,6.713078527616827,6.710819406742458,6.708630124177393,6.706510679921634,6.704461073975178,6.702481306338026,6.70057137701018,6.698731285991638,6.696961033282401,6.695260618882467,6.693630042791837,6.692069305010513,6.690578405538494,6.6891573443757775,6.687806121522367,6.686524736978259,6.685313190743457,6.68417148281796,6.683099613201767,6.68209758189488,6.681165388897293,6.680303034209014,6.679510517830039,6.678787839760368,6.678135000000002],\"type\":\"scatter\"}],                        {\"template\":{\"data\":{\"histogram2dcontour\":[{\"type\":\"histogram2dcontour\",\"colorbar\":{\"outlinewidth\":0,\"ticks\":\"\"},\"colorscale\":[[0.0,\"#0d0887\"],[0.1111111111111111,\"#46039f\"],[0.2222222222222222,\"#7201a8\"],[0.3333333333333333,\"#9c179e\"],[0.4444444444444444,\"#bd3786\"],[0.5555555555555556,\"#d8576b\"],[0.6666666666666666,\"#ed7953\"],[0.7777777777777778,\"#fb9f3a\"],[0.8888888888888888,\"#fdca26\"],[1.0,\"#f0f921\"]]}],\"choropleth\":[{\"type\":\"choropleth\",\"colorbar\":{\"outlinewidth\":0,\"ticks\":\"\"}}],\"histogram2d\":[{\"type\":\"histogram2d\",\"colorbar\":{\"outlinewidth\":0,\"ticks\":\"\"},\"colorscale\":[[0.0,\"#0d0887\"],[0.1111111111111111,\"#46039f\"],[0.2222222222222222,\"#7201a8\"],[0.3333333333333333,\"#9c179e\"],[0.4444444444444444,\"#bd3786\"],[0.5555555555555556,\"#d8576b\"],[0.6666666666666666,\"#ed7953\"],[0.7777777777777778,\"#fb9f3a\"],[0.8888888888888888,\"#fdca26\"],[1.0,\"#f0f921\"]]}],\"heatmap\":[{\"type\":\"heatmap\",\"colorbar\":{\"outlinewidth\":0,\"ticks\":\"\"},\"colorscale\":[[0.0,\"#0d0887\"],[0.1111111111111111,\"#46039f\"],[0.2222222222222222,\"#7201a8\"],[0.3333333333333333,\"#9c179e\"],[0.4444444444444444,\"#bd3786\"],[0.5555555555555556,\"#d8576b\"],[0.6666666666666666,\"#ed7953\"],[0.7777777777777778,\"#fb9f3a\"],[0.8888888888888888,\"#fdca26\"],[1.0,\"#f0f921\"]]}],\"heatmapgl\":[{\"type\":\"heatmapgl\",\"colorbar\":{\"outlinewidth\":0,\"ticks\":\"\"},\"colorscale\":[[0.0,\"#0d0887\"],[0.1111111111111111,\"#46039f\"],[0.2222222222222222,\"#7201a8\"],[0.3333333333333333,\"#9c179e\"],[0.4444444444444444,\"#bd3786\"],[0.5555555555555556,\"#d8576b\"],[0.6666666666666666,\"#ed7953\"],[0.7777777777777778,\"#fb9f3a\"],[0.8888888888888888,\"#fdca26\"],[1.0,\"#f0f921\"]]}],\"contourcarpet\":[{\"type\":\"contourcarpet\",\"colorbar\":{\"outlinewidth\":0,\"ticks\":\"\"}}],\"contour\":[{\"type\":\"contour\",\"colorbar\":{\"outlinewidth\":0,\"ticks\":\"\"},\"colorscale\":[[0.0,\"#0d0887\"],[0.1111111111111111,\"#46039f\"],[0.2222222222222222,\"#7201a8\"],[0.3333333333333333,\"#9c179e\"],[0.4444444444444444,\"#bd3786\"],[0.5555555555555556,\"#d8576b\"],[0.6666666666666666,\"#ed7953\"],[0.7777777777777778,\"#fb9f3a\"],[0.8888888888888888,\"#fdca26\"],[1.0,\"#f0f921\"]]}],\"surface\":[{\"type\":\"surface\",\"colorbar\":{\"outlinewidth\":0,\"ticks\":\"\"},\"colorscale\":[[0.0,\"#0d0887\"],[0.1111111111111111,\"#46039f\"],[0.2222222222222222,\"#7201a8\"],[0.3333333333333333,\"#9c179e\"],[0.4444444444444444,\"#bd3786\"],[0.5555555555555556,\"#d8576b\"],[0.6666666666666666,\"#ed7953\"],[0.7777777777777778,\"#fb9f3a\"],[0.8888888888888888,\"#fdca26\"],[1.0,\"#f0f921\"]]}],\"mesh3d\":[{\"type\":\"mesh3d\",\"colorbar\":{\"outlinewidth\":0,\"ticks\":\"\"}}],\"scatter\":[{\"fillpattern\":{\"fillmode\":\"overlay\",\"size\":10,\"solidity\":0.2},\"type\":\"scatter\"}],\"parcoords\":[{\"type\":\"parcoords\",\"line\":{\"colorbar\":{\"outlinewidth\":0,\"ticks\":\"\"}}}],\"scatterpolargl\":[{\"type\":\"scatterpolargl\",\"marker\":{\"colorbar\":{\"outlinewidth\":0,\"ticks\":\"\"}}}],\"bar\":[{\"error_x\":{\"color\":\"#2a3f5f\"},\"error_y\":{\"color\":\"#2a3f5f\"},\"marker\":{\"line\":{\"color\":\"#E5ECF6\",\"width\":0.5},\"pattern\":{\"fillmode\":\"overlay\",\"size\":10,\"solidity\":0.2}},\"type\":\"bar\"}],\"scattergeo\":[{\"type\":\"scattergeo\",\"marker\":{\"colorbar\":{\"outlinewidth\":0,\"ticks\":\"\"}}}],\"scatterpolar\":[{\"type\":\"scatterpolar\",\"marker\":{\"colorbar\":{\"outlinewidth\":0,\"ticks\":\"\"}}}],\"histogram\":[{\"marker\":{\"pattern\":{\"fillmode\":\"overlay\",\"size\":10,\"solidity\":0.2}},\"type\":\"histogram\"}],\"scattergl\":[{\"type\":\"scattergl\",\"marker\":{\"colorbar\":{\"outlinewidth\":0,\"ticks\":\"\"}}}],\"scatter3d\":[{\"type\":\"scatter3d\",\"line\":{\"colorbar\":{\"outlinewidth\":0,\"ticks\":\"\"}},\"marker\":{\"colorbar\":{\"outlinewidth\":0,\"ticks\":\"\"}}}],\"scattermapbox\":[{\"type\":\"scattermapbox\",\"marker\":{\"colorbar\":{\"outlinewidth\":0,\"ticks\":\"\"}}}],\"scatterternary\":[{\"type\":\"scatterternary\",\"marker\":{\"colorbar\":{\"outlinewidth\":0,\"ticks\":\"\"}}}],\"scattercarpet\":[{\"type\":\"scattercarpet\",\"marker\":{\"colorbar\":{\"outlinewidth\":0,\"ticks\":\"\"}}}],\"carpet\":[{\"aaxis\":{\"endlinecolor\":\"#2a3f5f\",\"gridcolor\":\"white\",\"linecolor\":\"white\",\"minorgridcolor\":\"white\",\"startlinecolor\":\"#2a3f5f\"},\"baxis\":{\"endlinecolor\":\"#2a3f5f\",\"gridcolor\":\"white\",\"linecolor\":\"white\",\"minorgridcolor\":\"white\",\"startlinecolor\":\"#2a3f5f\"},\"type\":\"carpet\"}],\"table\":[{\"cells\":{\"fill\":{\"color\":\"#EBF0F8\"},\"line\":{\"color\":\"white\"}},\"header\":{\"fill\":{\"color\":\"#C8D4E3\"},\"line\":{\"color\":\"white\"}},\"type\":\"table\"}],\"barpolar\":[{\"marker\":{\"line\":{\"color\":\"#E5ECF6\",\"width\":0.5},\"pattern\":{\"fillmode\":\"overlay\",\"size\":10,\"solidity\":0.2}},\"type\":\"barpolar\"}],\"pie\":[{\"automargin\":true,\"type\":\"pie\"}]},\"layout\":{\"autotypenumbers\":\"strict\",\"colorway\":[\"#636efa\",\"#EF553B\",\"#00cc96\",\"#ab63fa\",\"#FFA15A\",\"#19d3f3\",\"#FF6692\",\"#B6E880\",\"#FF97FF\",\"#FECB52\"],\"font\":{\"color\":\"#2a3f5f\"},\"hovermode\":\"closest\",\"hoverlabel\":{\"align\":\"left\"},\"paper_bgcolor\":\"white\",\"plot_bgcolor\":\"#E5ECF6\",\"polar\":{\"bgcolor\":\"#E5ECF6\",\"angularaxis\":{\"gridcolor\":\"white\",\"linecolor\":\"white\",\"ticks\":\"\"},\"radialaxis\":{\"gridcolor\":\"white\",\"linecolor\":\"white\",\"ticks\":\"\"}},\"ternary\":{\"bgcolor\":\"#E5ECF6\",\"aaxis\":{\"gridcolor\":\"white\",\"linecolor\":\"white\",\"ticks\":\"\"},\"baxis\":{\"gridcolor\":\"white\",\"linecolor\":\"white\",\"ticks\":\"\"},\"caxis\":{\"gridcolor\":\"white\",\"linecolor\":\"white\",\"ticks\":\"\"}},\"coloraxis\":{\"colorbar\":{\"outlinewidth\":0,\"ticks\":\"\"}},\"colorscale\":{\"sequential\":[[0.0,\"#0d0887\"],[0.1111111111111111,\"#46039f\"],[0.2222222222222222,\"#7201a8\"],[0.3333333333333333,\"#9c179e\"],[0.4444444444444444,\"#bd3786\"],[0.5555555555555556,\"#d8576b\"],[0.6666666666666666,\"#ed7953\"],[0.7777777777777778,\"#fb9f3a\"],[0.8888888888888888,\"#fdca26\"],[1.0,\"#f0f921\"]],\"sequentialminus\":[[0.0,\"#0d0887\"],[0.1111111111111111,\"#46039f\"],[0.2222222222222222,\"#7201a8\"],[0.3333333333333333,\"#9c179e\"],[0.4444444444444444,\"#bd3786\"],[0.5555555555555556,\"#d8576b\"],[0.6666666666666666,\"#ed7953\"],[0.7777777777777778,\"#fb9f3a\"],[0.8888888888888888,\"#fdca26\"],[1.0,\"#f0f921\"]],\"diverging\":[[0,\"#8e0152\"],[0.1,\"#c51b7d\"],[0.2,\"#de77ae\"],[0.3,\"#f1b6da\"],[0.4,\"#fde0ef\"],[0.5,\"#f7f7f7\"],[0.6,\"#e6f5d0\"],[0.7,\"#b8e186\"],[0.8,\"#7fbc41\"],[0.9,\"#4d9221\"],[1,\"#276419\"]]},\"xaxis\":{\"gridcolor\":\"white\",\"linecolor\":\"white\",\"ticks\":\"\",\"title\":{\"standoff\":15},\"zerolinecolor\":\"white\",\"automargin\":true,\"zerolinewidth\":2},\"yaxis\":{\"gridcolor\":\"white\",\"linecolor\":\"white\",\"ticks\":\"\",\"title\":{\"standoff\":15},\"zerolinecolor\":\"white\",\"automargin\":true,\"zerolinewidth\":2},\"scene\":{\"xaxis\":{\"backgroundcolor\":\"#E5ECF6\",\"gridcolor\":\"white\",\"linecolor\":\"white\",\"showbackground\":true,\"ticks\":\"\",\"zerolinecolor\":\"white\",\"gridwidth\":2},\"yaxis\":{\"backgroundcolor\":\"#E5ECF6\",\"gridcolor\":\"white\",\"linecolor\":\"white\",\"showbackground\":true,\"ticks\":\"\",\"zerolinecolor\":\"white\",\"gridwidth\":2},\"zaxis\":{\"backgroundcolor\":\"#E5ECF6\",\"gridcolor\":\"white\",\"linecolor\":\"white\",\"showbackground\":true,\"ticks\":\"\",\"zerolinecolor\":\"white\",\"gridwidth\":2}},\"shapedefaults\":{\"line\":{\"color\":\"#2a3f5f\"}},\"annotationdefaults\":{\"arrowcolor\":\"#2a3f5f\",\"arrowhead\":0,\"arrowwidth\":1},\"geo\":{\"bgcolor\":\"white\",\"landcolor\":\"#E5ECF6\",\"subunitcolor\":\"white\",\"showland\":true,\"showlakes\":true,\"lakecolor\":\"white\"},\"title\":{\"x\":0.05},\"mapbox\":{\"style\":\"light\"}}}},                        {\"responsive\": true}                    ).then(function(){\n",
       "                            \n",
       "var gd = document.getElementById('b0b5abff-8c3e-43f4-b082-9a7d665256c1');\n",
       "var x = new MutationObserver(function (mutations, observer) {{\n",
       "        var display = window.getComputedStyle(gd).display;\n",
       "        if (!display || display === 'none') {{\n",
       "            console.log([gd, 'removed!']);\n",
       "            Plotly.purge(gd);\n",
       "            observer.disconnect();\n",
       "        }}\n",
       "}});\n",
       "\n",
       "// Listen for the removal of the full notebook cells\n",
       "var notebookContainer = gd.closest('#notebook-container');\n",
       "if (notebookContainer) {{\n",
       "    x.observe(notebookContainer, {childList: true});\n",
       "}}\n",
       "\n",
       "// Listen for the clearing of the current output cell\n",
       "var outputEl = gd.closest('.output');\n",
       "if (outputEl) {{\n",
       "    x.observe(outputEl, {childList: true});\n",
       "}}\n",
       "\n",
       "                        })                };                });            </script>        </div>"
      ]
     },
     "metadata": {},
     "output_type": "display_data"
    }
   ],
   "source": [
    "def total_cost(alpha, G, root_distance, x0, y0, x1, y1, p, q):\n",
    "    curve = curve_length(G, x1, y1, p, q)\n",
    "    to_root = distance_from_base(root_distance, x0, y0, x1, y1)\n",
    "    wiring = curve\n",
    "    delay = (curve + to_root)\n",
    "    cost = (alpha * wiring) +  ((1 - alpha) * delay)\n",
    "    #print(\"curve = \", curve, \"to root = \" , to_root, \"wiring = \", wiring, \"delay = \", delay, \"total cost = \", cost)\n",
    "    #cost = curve + (1 - alpha) * distance_from_base(root_distance, x0, y0, x1, y1)\n",
    "    return cost, wiring, delay\n",
    "\n",
    "def is_between(a, x, b):\n",
    "        return a < x < b or b < x < a\n",
    "\n",
    "def valid_segments(tip_number, line_segments, closest_segs):\n",
    "    valid_segs = []\n",
    "    for num, seg in line_segments.items():\n",
    "        x, y = seg[1]\n",
    "        closest = closest_segs[tip_number]\n",
    "        closest_y = closest[1][1]\n",
    "        if y < closest_y:\n",
    "            valid_segs.append(seg)\n",
    "        else:\n",
    "            break\n",
    "    return valid_segs\n",
    "\n",
    "\n",
    "# created helper function based on code above\n",
    "def get_closest_main_seg(lat_tips, line_segments):\n",
    "    closest_segs = []\n",
    "    for tip in lat_tips: \n",
    "        best_distance = math.inf\n",
    "        best_seg = None\n",
    "        for num, seg in line_segments.items():\n",
    "            d = math.inf\n",
    "            x0, y0 = seg[0]\n",
    "            x1, y1 = seg[1]\n",
    "\n",
    "            A = (x0 - tip[0]) * (x1 - x0) + (y0 - tip[1]) * (y1 - y0)\n",
    "            B = (x1 - x0)**2 + (y1 - y0)**2\n",
    "            t = A/B\n",
    "            if (0 <= t <= 1): \n",
    "                c = abs(((x1 - x0) * (y0 - tip[1])) - ((y1 - y0) * (x0 - tip[0])))\n",
    "                d = c/math.sqrt(B)\n",
    "            else: \n",
    "                d1 = math.sqrt((x1-tip[0])**2 + (y1 - tip[1])**2)\n",
    "                d2 = math.sqrt((x0-tip[0])**2 + (y0 - tip[1])**2)\n",
    "                d = min(d1, d2)\n",
    "            if d < best_distance:\n",
    "                best_distance = d\n",
    "                best_seg = seg\n",
    "        closest_segs.append(best_seg)\n",
    "    return closest_segs\n",
    "\n",
    "def get_closest_and_valid_segments(lat_tips, line_segments):\n",
    "    all_closest = []\n",
    "    all_valid_segs = []\n",
    "    \n",
    "    for tip in lat_tips: \n",
    "        best_distance = math.inf\n",
    "        best_seg = None\n",
    "        best_seg_num = None\n",
    "        tip_x, tip_y = tip\n",
    "\n",
    "        for num, seg in line_segments.items():\n",
    "            x0, y0 = seg[0]\n",
    "            x1, y1 = seg[1]\n",
    "\n",
    "            A = (x0 - tip_x) * (x1 - x0) + (y0 - tip_y) * (y1 - y0)\n",
    "            B = (x1 - x0)**2 + (y1 - y0)**2\n",
    "            t = A / B if B != 0 else -1\n",
    "\n",
    "            if 0 <= t <= 1:\n",
    "                c = abs(((x1 - x0) * (y0 - tip_y)) - ((y1 - y0) * (x0 - tip_x)))\n",
    "                d = c / math.sqrt(B)\n",
    "            else:\n",
    "                d1 = math.sqrt((x1 - tip_x) ** 2 + (y1 - tip_y) ** 2)\n",
    "                d2 = math.sqrt((x0 - tip_x) ** 2 + (y0 - tip_y) ** 2)\n",
    "                d = min(d1, d2)\n",
    "\n",
    "            if d < best_distance:\n",
    "                best_distance = d\n",
    "                best_seg = seg\n",
    "                best_seg_num = num\n",
    "\n",
    "        all_closest.append(best_seg)\n",
    "\n",
    "        # Collect valid segments (those before the closest one)\n",
    "        valid = []\n",
    "        for num, seg in line_segments.items():\n",
    "            if seg[1][1] <= best_seg[1][1]:\n",
    "                valid.append(seg)\n",
    "            else:\n",
    "                break\n",
    "        all_valid_segs.append(valid)\n",
    "\n",
    "    return all_closest, all_valid_segs\n",
    "    \n",
    "def find_best_cost(alpha, G, root_distance, x0, y0, x1, y1, p, q):\n",
    "    results = []\n",
    "    min_t = 0\n",
    "    delta = 0.01\n",
    "    max_t = 1\n",
    "    best_t = math.inf\n",
    "    best_cost = math.inf\n",
    "    best_wiring = math.inf\n",
    "    best_delay = math.inf\n",
    "    l = length_func(x0, y0, x1, y1)\n",
    "    theta = get_theta(x0, y0, x1, y1)\n",
    "    x_opt = None\n",
    "    y_opt = None\n",
    "    best_x = None\n",
    "    best_y = None\n",
    "    for t in pylab.arange(min_t, max_t + delta, delta):\n",
    "        is_positive = positive_slope(x0, y0, x1, y1)\n",
    "        new_x = None\n",
    "        new_y = None\n",
    "        if is_positive:\n",
    "            new_x = x0 + t*l*math.cos(theta)\n",
    "            new_y = y0 + t*l*math.sin(theta)\n",
    "        else:\n",
    "            new_x = x0 - (t*l*math.cos(theta))\n",
    "            new_y = y0 + (t*l*math.sin(theta))\n",
    "        x_curr = pylab.linspace(min(p, new_x), max(p, new_x))\n",
    "        cost, wiring, delay = total_cost(alpha, G, root_distance, x0, y0, new_x, new_y, p, q)\n",
    "        if cost <= best_cost:\n",
    "            best_cost = cost\n",
    "            best_wiring = wiring\n",
    "            best_delay = delay\n",
    "            best_t = t\n",
    "            b, c = calc_coeff(G, new_x, new_y, p, q)\n",
    "            best_x = new_x\n",
    "            best_y = new_y\n",
    "            #x_opt = x_curr\n",
    "            #y_opt = G * x_opt ** 2 + b * x_opt + c\n",
    "        '''\n",
    "        if t % 0.2 == 0:\n",
    "            b, c = calc_coeff(G, new_x, new_y, p, q)\n",
    "            y_inter =  G * x_curr ** 2 + b * x_curr + c\n",
    "            intermediate_line = go.Scatter(x = x_curr,y = y_inter, mode = \"lines\", name = str(cost))\n",
    "            fig.add_trace(intermediate_line)\n",
    "           '''\n",
    "        results.append(cost)\n",
    "    return best_cost, best_wiring, best_delay, best_t, best_x, best_y, p, q\n",
    "\n",
    "def modified_arbor_best_cost(fname, alpha, G, root_distance):\n",
    "    final = []\n",
    "    arbor = rar.read_arbor_full(fname)\n",
    "    point_drawing = go.Figure()\n",
    "    main_root = []\n",
    "    lat_tips = []\n",
    "    line_segments = {}\n",
    "    #point_drawing = go.Figure()\n",
    "    for node in arbor.nodes():\n",
    "        if arbor.nodes[node][\"label\"] == (\"main root\") or arbor.nodes[node][\"label\"] == (\"main root base\"):\n",
    "            main_root.append(node)\n",
    "        if arbor.nodes[node][\"label\"] == (\"lateral root tip\"):\n",
    "            lat_tips.append(node)\n",
    "    for i in range(1, len(main_root)):\n",
    "        line_segments[i] = main_root[i - 1], main_root[i]\n",
    "\n",
    "    #closest_segs = get_closest_main_seg(lat_tips, line_segments)\n",
    "    tip_number = 0\n",
    "    #closest_segs = []\n",
    "    valid_segs = []\n",
    "    closest_segs, all_valid_segs = get_closest_and_valid_segments(lat_tips, line_segments)\n",
    "    for tip in lat_tips: \n",
    "        #print(\"Lateral root #: \" + str(tip_number + 1))\n",
    "        curr_dist = 0\n",
    "        results = []\n",
    "        valid_segs = all_valid_segs[tip_number]\n",
    "        print(valid_segs)\n",
    "        firstTime = True\n",
    "        for seg in valid_segs: \n",
    "                \n",
    "            x0, y0 = seg[0]\n",
    "            x0_temp, y0_temp = seg[0]\n",
    "            x0 -= x0\n",
    "            y0 -= y0\n",
    "            #print(\"Point 1: \" + str(x0) + \", \" + str(y0))\n",
    "            x1, y1 = seg[1]\n",
    "            x1 -= x0_temp\n",
    "            y1 -= y0_temp\n",
    "            #print(\"Point 2: \" + str(x1) + \", \" + str(y1))\n",
    "            p, q = tip\n",
    "            p -= x0_temp\n",
    "            q -= y0_temp\n",
    "            #print(\"Tip: \" + str(p) + \", \" + str(q))\n",
    "            # if the tip is in between a segment, brute force the segment\n",
    "            if is_between(x0, tip[0], x1):\n",
    "                if firstTime == True:\n",
    "                    result = find_best_cost(alpha, G, root_distance, x0, y0, x1, y1, p, q)\n",
    "                    curr_dist += length_func(x0, y0, x1, y1)\n",
    "                    firstTime = False\n",
    "                else:\n",
    "                    result = find_best_cost(alpha, G, root_distance + curr_dist, x0, y0, x1, y1, p, q)\n",
    "                    curr_dist += length_func(x0, y0, x1, y1)\n",
    "                results.append(result)\n",
    "                \n",
    "            # if the tip is not in between a segment, use Dr. Richard's equation\n",
    "            else:\n",
    "                result = 0\n",
    "                import math\n",
    "                def cos(t):\n",
    "                    return math.cos(t)\n",
    "                def sin(t):\n",
    "                    return math.sin(t)\n",
    "                def sqrt(t):\n",
    "                    return math.sqrt(t)\n",
    "                \n",
    "                l = math.sqrt((x1 - x0)**2 + (y1 - y0)**2)\n",
    "                #print(\"Length is \" + str(l))\n",
    "                #theta = (math.pi)/3\n",
    "                theta = get_theta(x0, y0, x1, y1)\n",
    "                #print(\"Theta is \" + str(theta))\n",
    "                # Recalculate A1–E1 based on current l, theta, G, p, q\n",
    "                A1=G*(l*cos(theta))**2\n",
    "                B1=-l*sin(theta)\n",
    "                C1=q-G*p**2\n",
    "                D1=-l*cos(theta)\n",
    "                E1=p\n",
    "                #print(A1, B1, C1, D1, E1)\n",
    "                # Define b(t), b'(t), cost'(t)\n",
    "                def b(t): \n",
    "                    return (A1*t**2+B1*t+C1)/(D1*t+E1)\n",
    "                def bprime(t):\n",
    "                    return ((D1*t+E1)*(2*A1*t+B1)-D1*(A1*t**2+B1*t+C1))/(D1*t+E1)**2\n",
    "                def costprime(t):\n",
    "                    return (bprime(t)/(2*G))*(sqrt(1+(2*G*p+b(t))**2)-sqrt(1+(2*G*t*l*cos(theta)+b(t))**2))+(1-alpha)*l-sqrt(1+(2*G*t*l*cos(theta)+b(t))**2)*l*cos(theta)\n",
    "                    \n",
    "\n",
    "                import numpy as np\n",
    "                import matplotlib.pyplot as plt\n",
    "                \n",
    "                #ts = np.linspace(0, 1, 100)\n",
    "                #vals = [costprime(t) for t in ts]\n",
    "                #plt.plot(ts, vals, label='costprime(t)')\n",
    "                #plt.axhline(0, color='gray', linestyle='--')\n",
    "                #plt.legend()\n",
    "                #plt.show()\n",
    "                def find_multiple_roots(func, x_range, num_guesses=100):\n",
    "                    roots = []\n",
    "                    guesses = np.linspace(x_range[0], x_range[1], num_guesses)\n",
    "                    for guess in guesses:\n",
    "                        try:\n",
    "                            root = fsolve(func, guess)[0]\n",
    "                            if not any(np.isclose(root, r) for r in roots):\n",
    "                                roots.append(root)\n",
    "                        except:\n",
    "                            pass\n",
    "                    return sorted(roots)\n",
    "                import numpy as np\n",
    "                from scipy.optimize import fsolve\n",
    "                def f(x):\n",
    "                    return costprime(x)\n",
    "                # Find root(s) of costprime in [0, 1]\n",
    "                roots = find_multiple_roots(f, [0, 1], num_guesses=10)\n",
    "                #print(\"roots of costprime(x) =\",roots)\n",
    "                valid_roots = [r for r in roots if 0 <= r <= 1]\n",
    "                #print(valid_roots)\n",
    "            \n",
    "                # Define the full cost function if not already\n",
    "                def cost(t):\n",
    "                    if is_positive:\n",
    "                        end_segx = x0 + t*l*math.cos(theta)\n",
    "                        end_segy = y0 + t*l*math.sin(theta)\n",
    "                    else:\n",
    "                        end_segx = x0 - (t*l*math.cos(theta))\n",
    "                        end_segy = y0 + (t*l*math.sin(theta))\n",
    "                    return total_cost(alpha, G, root_distance + curr_dist, x0, y0, end_segx, end_segy, p, q)[0]\n",
    "\n",
    "                # reshift the points\n",
    "                x0, y0 = seg[0]\n",
    "                #print(\"Point 1: \" + str(x0) + \", \" + str(y0))\n",
    "                x1, y1 = seg[1]\n",
    "                is_positive = positive_slope(x0, y0, x1, y1)\n",
    "                #print(\"Point 2: \" + str(x1) + \", \" + str(y1))\n",
    "                p, q = tip\n",
    "                \n",
    "                # Get cost at valid root(s)\n",
    "                if valid_roots:\n",
    "                    #print(valid_roots)\n",
    "                    min_root = min(valid_roots, key=lambda t: cost(t))\n",
    "                    best_t = min_root\n",
    "                    if is_positive:\n",
    "                        best_x = x0 + best_t*l*math.cos(theta)\n",
    "                        best_y = y0 + best_t*l*math.sin(theta)\n",
    "                    else:\n",
    "                        best_x = x0 - (best_t*l*math.cos(theta))\n",
    "                        best_y = y0 + (best_t*l*math.sin(theta))\n",
    "                    curve = curve_length(G, best_x, best_y, p, q)\n",
    "                    to_root = distance_from_base(root_distance, x0, y0, best_x, best_y)\n",
    "                    wiring = curve\n",
    "                    delay = (curve + to_root)\n",
    "                    result = (cost(min_root), wiring, delay, best_t, best_x, best_y, p, q)\n",
    "                    curr_dist += length_func(x0, y0, x1, y1)\n",
    "                else: \n",
    "                    # No root in [0,1], so check endpoints\n",
    "                    cost_0 = cost(0)\n",
    "                    cost_1 = cost(1)\n",
    "                    if cost_0 < cost_1:\n",
    "                        best_t = 0.0\n",
    "                        best_x = x0\n",
    "                        best_y = y0\n",
    "                    else:\n",
    "                        best_t = 1.0\n",
    "                        best_x = x1\n",
    "                        best_y = y1\n",
    "                    #print(result)\n",
    "                    curve = curve_length(G, best_x, best_y, p, q)\n",
    "                    to_root = distance_from_base(root_distance, x0, y0, best_x, best_y)\n",
    "                    wiring = curve\n",
    "                    delay = (curve + to_root)\n",
    "                    result = (min(cost_0, cost_1), wiring, delay, best_t, best_x, best_y, p, q)\n",
    "                    curr_dist += length_func(x0, y0, x1, y1)\n",
    "                    \n",
    "                results.append(result)\n",
    "        if results:\n",
    "            final.append(min(results))\n",
    "        else:\n",
    "            print(f\"Warning: No valid results for lateral tip #{tip_number} at {tip}\")\n",
    "            final.append(float('inf'))  # or some sentinel value       \n",
    "        #final.append(min(results))\n",
    "        tip_number += 1\n",
    "    pq_drawings = get_tip_drawings(lat_tips)\n",
    "    for p_and_q in pq_drawings:\n",
    "        point_drawing.add_trace(p_and_q)\n",
    "    \n",
    "    segment_drawings = get_line_segment_drawings(line_segments)\n",
    "    for line in segment_drawings:\n",
    "        point_drawing.add_trace(line)\n",
    "\n",
    "    opt_lines = get_opt_to_pq_drawings(G, final)\n",
    "    for opt in opt_lines:\n",
    "        point_drawing.add_trace(opt)\n",
    "    point_drawing.show()\n",
    "    \n",
    "    return final\n",
    "\n",
    "def graph_opt_lines(graph, final):\n",
    "    for result in final:\n",
    "        x0 = result[2]\n",
    "        y0 = result[3]\n",
    "        p = result[4]\n",
    "        q = result[5]\n",
    "        first_point = x0, y0\n",
    "        second_point = p, q\n",
    "        G = graph.graph['Gravity']\n",
    "        b, c = calc_coeff(G, x0, y0, p, q)\n",
    "        graph.add_node(first_point, pos=first_point)\n",
    "        graph.add_node(second_point, pos=second_point)\n",
    "        graph.add_edge(first_point, second_point, b = b, c = c)\n",
    "    return graph\n",
    "    \n",
    "def get_line_segment_drawings(line_segments):\n",
    "    segment_drawings = []\n",
    "    for seg in line_segments:\n",
    "        x0 = line_segments[seg][0][0]\n",
    "        y0 = line_segments[seg][0][1] \n",
    "        x1 = line_segments[seg][1][0]\n",
    "        y1 = line_segments[seg][1][1]\n",
    "\n",
    "        xpoints = [x0, x1]\n",
    "        ypoints = [y0, y1]\n",
    "\n",
    "        segment = go.Scatter(x= xpoints, y=ypoints, name=\"segment\")\n",
    "        segment_drawings.append(segment)\n",
    "    return segment_drawings\n",
    "\n",
    "def get_tip_drawings(lat_tips):\n",
    "    pq_drawings = []\n",
    "    for tip in lat_tips:\n",
    "        p = tip[0]\n",
    "        q = tip[1]\n",
    "        pq = go.Scatter(x = [p], y= [q], name= str(tip))\n",
    "        pq_drawings.append(pq)\n",
    "    return pq_drawings\n",
    "    \n",
    "def get_line_segments(arbor):\n",
    "    line_segments = {}\n",
    "    main_root = []\n",
    "    for node in arbor.nodes():\n",
    "        if arbor.nodes[node][\"label\"] == (\"main root\") or arbor.nodes[node][\"label\"] == (\"main root base\"):\n",
    "            main_root.append(node)\n",
    "    for i in range(1, len(main_root)):\n",
    "        line_segments[i] = main_root[i - 1], main_root[i]\n",
    "    return line_segments\n",
    "\n",
    "def create_graphs(fname, alpha):\n",
    "    G = rar.read_arbor_full(fname)\n",
    "    G_opt = pf.opt_arbor(G, alpha)\n",
    "    return G, G_opt\n",
    "\n",
    "def get_opt_to_pq_drawings(gravity, final):\n",
    "    drawings = []\n",
    "    for result in final:\n",
    "        if gravity == 0:\n",
    "            x0 = result[4]\n",
    "            y0 = result[5]\n",
    "            p = result[6]\n",
    "            q = result[7]\n",
    "            xcoords = [p, x0]\n",
    "            ycoords = [q, y0]\n",
    "        \n",
    "            line = go.Scatter(x=xcoords, y=ycoords, name = str(result[0]))\n",
    "            drawings.append(line)\n",
    "        else: \n",
    "            x0 = result[4]\n",
    "            y0 = result[5]\n",
    "            p = result[6]\n",
    "            q = result[7]\n",
    "            b, c = calc_coeff(gravity, x0, y0, p, q)\n",
    "            x_opt = pylab.linspace(min(p, x0), max(p, x0))\n",
    "            y_opt = gravity * x_opt ** 2 + b * x_opt + c\n",
    "            line = go.Scatter(x=x_opt, y=y_opt, name = str(result[0]))\n",
    "            drawings.append(line)\n",
    "    return drawings\n",
    "    \n",
    "def graph_main_root(graph, line_segments):\n",
    "     for seg in line_segments:\n",
    "        x0 = line_segments[seg][0][0]\n",
    "        y0 = line_segments[seg][0][1]\n",
    "        x1 = line_segments[seg][1][0]\n",
    "        y1 = line_segments[seg][1][1]\n",
    "        first_point = x0, y0\n",
    "        second_point = x1, y1\n",
    "\n",
    "\n",
    "        graph.add_node(first_point, pos=first_point)\n",
    "        graph.add_node(second_point, pos=second_point)\n",
    "        graph.add_edge(first_point, second_point)\n",
    "working = modified_arbor_best_cost('002_3_C_day5.csv', 0.4, 0.2, 0.0)"
   ]
  },
  {
   "cell_type": "code",
   "execution_count": 117,
   "id": "449900cc-f8ae-4ead-a59b-8e086bbb5055",
   "metadata": {},
   "outputs": [
    {
     "name": "stdout",
     "output_type": "stream",
     "text": [
      "32.9386422242997 32.93909872679719\n"
     ]
    }
   ],
   "source": [
    "working\n",
    "sum = 0\n",
    "for calc in working:\n",
    "    sum += calc[0]\n",
    "\n",
    "\n",
    "old_sum = 0\n",
    "for cost in old_method:\n",
    "    old_sum += cost[0]\n",
    "print(old_sum, sum)"
   ]
  },
  {
   "cell_type": "code",
   "execution_count": null,
   "id": "4a2bd5aa-cd21-41f0-9246-c15a6e6d4ba1",
   "metadata": {},
   "outputs": [],
   "source": [
    "testing_graph = nx.Graph(G = 0.1)\n",
    "graph_opt_lines(mygraph, working)\n",
    "list(mygraph.edges(data = True))"
   ]
  },
  {
   "cell_type": "code",
   "execution_count": 97,
   "id": "61ccf1eb-3659-4095-96be-60b319ccaba8",
   "metadata": {},
   "outputs": [
    {
     "name": "stdout",
     "output_type": "stream",
     "text": [
      "1\n",
      "2\n",
      "3\n",
      "4\n",
      "5\n",
      "6\n",
      "7\n",
      "8\n",
      "9\n",
      "10\n",
      "11\n",
      "12\n"
     ]
    },
    {
     "data": {
      "application/vnd.plotly.v1+json": {
       "config": {
        "plotlyServerURL": "https://plot.ly"
       },
       "data": [
        {
         "name": "(2.662271, 6.436248)",
         "type": "scatter",
         "visible": true,
         "x": [
          2.662271
         ],
         "y": [
          6.436248
         ]
        },
        {
         "name": "(11.814909, 8.299881)",
         "type": "scatter",
         "visible": true,
         "x": [
          11.814909
         ],
         "y": [
          8.299881
         ]
        },
        {
         "name": "(9.306211, 5.495822)",
         "type": "scatter",
         "visible": true,
         "x": [
          9.306211
         ],
         "y": [
          5.495822
         ]
        },
        {
         "name": "(3.110509, 5.305435)",
         "type": "scatter",
         "visible": true,
         "x": [
          3.110509
         ],
         "y": [
          5.305435
         ]
        },
        {
         "name": "(4.376073, 5.368352)",
         "type": "scatter",
         "visible": true,
         "x": [
          4.376073
         ],
         "y": [
          5.368352
         ]
        },
        {
         "name": "(7.288801, 5.578745)",
         "type": "scatter",
         "visible": true,
         "x": [
          7.288801
         ],
         "y": [
          5.578745
         ]
        },
        {
         "name": "(8.13391, 6.960544)",
         "type": "scatter",
         "visible": true,
         "x": [
          8.13391
         ],
         "y": [
          6.960544
         ]
        },
        {
         "name": "(4.87216, 6.078595)",
         "type": "scatter",
         "visible": true,
         "x": [
          4.87216
         ],
         "y": [
          6.078595
         ]
        },
        {
         "name": "(5.660226, 6.698943)",
         "type": "scatter",
         "visible": true,
         "x": [
          5.660226
         ],
         "y": [
          6.698943
         ]
        },
        {
         "name": "(5.644691, 4.889521)",
         "type": "scatter",
         "visible": true,
         "x": [
          5.644691
         ],
         "y": [
          4.889521
         ]
        },
        {
         "name": "(5.810638, 6.906727)",
         "type": "scatter",
         "visible": true,
         "x": [
          5.810638
         ],
         "y": [
          6.906727
         ]
        },
        {
         "name": "(4.746343, 6.792254)",
         "type": "scatter",
         "visible": true,
         "x": [
          4.746343
         ],
         "y": [
          6.792254
         ]
        },
        {
         "name": "segment",
         "type": "scatter",
         "visible": true,
         "x": [
          6.216466,
          6.226423
         ],
         "y": [
          4.535322,
          4.737842
         ]
        },
        {
         "name": "segment",
         "type": "scatter",
         "visible": true,
         "x": [
          6.226423,
          6.245008
         ],
         "y": [
          4.737842,
          4.85934
         ]
        },
        {
         "name": "segment",
         "type": "scatter",
         "visible": true,
         "x": [
          6.245008,
          6.174974
         ],
         "y": [
          4.85934,
          4.974765
         ]
        },
        {
         "name": "segment",
         "type": "scatter",
         "visible": true,
         "x": [
          6.174974,
          6.142084
         ],
         "y": [
          4.974765,
          5.053255
         ]
        },
        {
         "name": "segment",
         "type": "scatter",
         "visible": true,
         "x": [
          6.142084,
          6.123158
         ],
         "y": [
          5.053255,
          5.175507
         ]
        },
        {
         "name": "segment",
         "type": "scatter",
         "visible": true,
         "x": [
          6.123158,
          6.10373
         ],
         "y": [
          5.175507,
          5.301015
         ]
        },
        {
         "name": "segment",
         "type": "scatter",
         "visible": true,
         "x": [
          6.10373,
          6.091752
         ],
         "y": [
          5.301015,
          5.378411
         ]
        },
        {
         "name": "segment",
         "type": "scatter",
         "visible": true,
         "x": [
          6.091752,
          6.094696
         ],
         "y": [
          5.378411,
          5.510375
         ]
        },
        {
         "name": "segment",
         "type": "scatter",
         "visible": true,
         "x": [
          6.094696,
          6.036667
         ],
         "y": [
          5.510375,
          5.66764
         ]
        },
        {
         "name": "segment",
         "type": "scatter",
         "visible": true,
         "x": [
          6.036667,
          5.991576
         ],
         "y": [
          5.66764,
          5.735586
         ]
        },
        {
         "name": "segment",
         "type": "scatter",
         "visible": true,
         "x": [
          5.991576,
          5.893041
         ],
         "y": [
          5.735586,
          5.858559
         ]
        },
        {
         "name": "segment",
         "type": "scatter",
         "visible": true,
         "x": [
          5.893041,
          5.840053
         ],
         "y": [
          5.858559,
          5.944022
         ]
        },
        {
         "name": "segment",
         "type": "scatter",
         "visible": true,
         "x": [
          5.840053,
          5.777653
         ],
         "y": [
          5.944022,
          6.036696
         ]
        },
        {
         "name": "segment",
         "type": "scatter",
         "visible": true,
         "x": [
          5.777653,
          5.746139
         ],
         "y": [
          6.036696,
          6.086179
         ]
        },
        {
         "name": "segment",
         "type": "scatter",
         "visible": true,
         "x": [
          5.746139,
          5.687519
         ],
         "y": [
          6.086179,
          6.231828
         ]
        },
        {
         "name": "segment",
         "type": "scatter",
         "visible": true,
         "x": [
          5.687519,
          5.659779
         ],
         "y": [
          6.231828,
          6.292732
         ]
        },
        {
         "name": "segment",
         "type": "scatter",
         "visible": true,
         "x": [
          5.659779,
          5.63137
         ],
         "y": [
          6.292732,
          6.340664
         ]
        },
        {
         "name": "segment",
         "type": "scatter",
         "visible": true,
         "x": [
          5.63137,
          5.592516
         ],
         "y": [
          6.340664,
          6.406215
         ]
        },
        {
         "name": "segment",
         "type": "scatter",
         "visible": true,
         "x": [
          5.592516,
          5.553662
         ],
         "y": [
          6.406215,
          6.471765
         ]
        },
        {
         "name": "segment",
         "type": "scatter",
         "visible": true,
         "x": [
          5.553662,
          5.481818
         ],
         "y": [
          6.471765,
          6.560254
         ]
        },
        {
         "name": "segment",
         "type": "scatter",
         "visible": true,
         "x": [
          5.481818,
          5.43335
         ],
         "y": [
          6.560254,
          6.615202
         ]
        },
        {
         "name": "segment",
         "type": "scatter",
         "visible": true,
         "x": [
          5.43335,
          5.393803
         ],
         "y": [
          6.615202,
          6.678135
         ]
        },
        {
         "name": "segment",
         "type": "scatter",
         "visible": true,
         "x": [
          5.393803,
          5.358522
         ],
         "y": [
          6.678135,
          6.745531
         ]
        },
        {
         "name": "segment",
         "type": "scatter",
         "visible": true,
         "x": [
          5.358522,
          5.344361
         ],
         "y": [
          6.745531,
          6.785489
         ]
        },
        {
         "name": "segment",
         "type": "scatter",
         "visible": true,
         "x": [
          5.344361,
          5.294842
         ],
         "y": [
          6.785489,
          6.919923
         ]
        },
        {
         "name": "segment",
         "type": "scatter",
         "visible": true,
         "x": [
          5.294842,
          5.2756
         ],
         "y": [
          6.919923,
          7.006803
         ]
        },
        {
         "name": "segment",
         "type": "scatter",
         "visible": true,
         "x": [
          5.2756,
          5.258248
         ],
         "y": [
          7.006803,
          7.043624
         ]
        },
        {
         "name": "segment",
         "type": "scatter",
         "visible": true,
         "x": [
          5.258248,
          5.228629
         ],
         "y": [
          7.043624,
          7.120522
         ]
        },
        {
         "name": "segment",
         "type": "scatter",
         "visible": true,
         "x": [
          5.228629,
          5.197806
         ],
         "y": [
          7.120522,
          7.183892
         ]
        },
        {
         "name": "segment",
         "type": "scatter",
         "visible": true,
         "x": [
          5.197806,
          5.174153
         ],
         "y": [
          7.183892,
          7.280427
         ]
        },
        {
         "name": "segment",
         "type": "scatter",
         "visible": true,
         "x": [
          5.174153,
          5.156019
         ],
         "y": [
          7.280427,
          7.354437
         ]
        },
        {
         "name": "segment",
         "type": "scatter",
         "visible": true,
         "x": [
          5.156019,
          5.140079
         ],
         "y": [
          7.354437,
          7.432066
         ]
        },
        {
         "name": "segment",
         "type": "scatter",
         "visible": true,
         "x": [
          5.140079,
          5.119891
         ],
         "y": [
          7.432066,
          7.485739
         ]
        },
        {
         "name": "segment",
         "type": "scatter",
         "visible": true,
         "x": [
          5.119891,
          5.098308
         ],
         "y": [
          7.485739,
          7.568629
         ]
        },
        {
         "name": "segment",
         "type": "scatter",
         "visible": true,
         "x": [
          5.098308,
          5.073782
         ],
         "y": [
          7.568629,
          7.674698
         ]
        },
        {
         "name": "segment",
         "type": "scatter",
         "visible": true,
         "x": [
          5.073782,
          5.041459
         ],
         "y": [
          7.674698,
          7.821471
         ]
        },
        {
         "name": "segment",
         "type": "scatter",
         "visible": true,
         "x": [
          5.041459,
          5.017788
         ],
         "y": [
          7.821471,
          7.928956
         ]
        },
        {
         "name": "segment",
         "type": "scatter",
         "visible": true,
         "x": [
          5.017788,
          4.992062
         ],
         "y": [
          7.928956,
          8.035933
         ]
        },
        {
         "name": "segment",
         "type": "scatter",
         "visible": true,
         "x": [
          4.992062,
          4.949973
         ],
         "y": [
          8.035933,
          8.138556
         ]
        },
        {
         "name": "segment",
         "type": "scatter",
         "visible": true,
         "x": [
          4.949973,
          4.925734
         ],
         "y": [
          8.138556,
          8.208805
         ]
        },
        {
         "name": "segment",
         "type": "scatter",
         "visible": true,
         "x": [
          4.925734,
          4.907672
         ],
         "y": [
          8.208805,
          8.319531
         ]
        },
        {
         "name": "segment",
         "type": "scatter",
         "visible": true,
         "x": [
          4.907672,
          4.860704
         ],
         "y": [
          8.319531,
          8.456305
         ]
        },
        {
         "name": "segment",
         "type": "scatter",
         "visible": true,
         "x": [
          4.860704,
          4.842548
         ],
         "y": [
          8.456305,
          8.490737
         ]
        },
        {
         "name": "segment",
         "type": "scatter",
         "visible": true,
         "x": [
          4.842548,
          4.833205
         ],
         "y": [
          8.490737,
          8.521294
         ]
        },
        {
         "name": "segment",
         "type": "scatter",
         "visible": true,
         "x": [
          4.833205,
          4.786455
         ],
         "y": [
          8.521294,
          8.759745
         ]
        },
        {
         "name": "segment",
         "type": "scatter",
         "visible": true,
         "x": [
          4.786455,
          4.773995
         ],
         "y": [
          8.759745,
          8.792185
         ]
        },
        {
         "name": "segment",
         "type": "scatter",
         "visible": true,
         "x": [
          4.773995,
          4.752749
         ],
         "y": [
          8.792185,
          8.847504
         ]
        },
        {
         "name": "segment",
         "type": "scatter",
         "visible": true,
         "x": [
          4.752749,
          4.731504
         ],
         "y": [
          8.847504,
          8.902822
         ]
        },
        {
         "name": "segment",
         "type": "scatter",
         "visible": true,
         "x": [
          4.731504,
          4.712126
         ],
         "y": [
          8.902822,
          8.936584
         ]
        },
        {
         "name": "segment",
         "type": "scatter",
         "visible": true,
         "x": [
          4.712126,
          4.684841
         ],
         "y": [
          8.936584,
          8.996154
         ]
        },
        {
         "name": "segment",
         "type": "scatter",
         "visible": true,
         "x": [
          4.684841,
          4.665143
         ],
         "y": [
          8.996154,
          9.024782
         ]
        },
        {
         "name": "segment",
         "type": "scatter",
         "visible": true,
         "x": [
          4.665143,
          4.632325
         ],
         "y": [
          9.024782,
          9.077767
         ]
        },
        {
         "name": "segment",
         "type": "scatter",
         "visible": true,
         "x": [
          4.632325,
          4.601123
         ],
         "y": [
          9.077767,
          9.128143
         ]
        },
        {
         "name": "segment",
         "type": "scatter",
         "visible": true,
         "x": [
          4.601123,
          4.567984
         ],
         "y": [
          9.128143,
          9.170279
         ]
        },
        {
         "name": "segment",
         "type": "scatter",
         "visible": true,
         "x": [
          4.567984,
          4.533863
         ],
         "y": [
          9.170279,
          9.237874
         ]
        },
        {
         "name": "segment",
         "type": "scatter",
         "visible": true,
         "x": [
          4.533863,
          4.478833
         ],
         "y": [
          9.237874,
          9.303662
         ]
        },
        {
         "name": "segment",
         "type": "scatter",
         "visible": true,
         "x": [
          4.478833,
          4.441566
         ],
         "y": [
          9.303662,
          9.357551
         ]
        },
        {
         "name": "segment",
         "type": "scatter",
         "visible": true,
         "x": [
          4.441566,
          4.421099
         ],
         "y": [
          9.357551,
          9.38715
         ]
        },
        {
         "name": "4.235696187041828",
         "type": "scatter",
         "visible": true,
         "x": [
          2.662271,
          2.734805591836735,
          2.8073401836734693,
          2.879874775510204,
          2.952409367346939,
          3.0249439591836733,
          3.097478551020408,
          3.170013142857143,
          3.2425477346938774,
          3.315082326530612,
          3.387616918367347,
          3.4601515102040814,
          3.5326861020408162,
          3.605220693877551,
          3.6777552857142854,
          3.7502898775510207,
          3.822824469387755,
          3.8953590612244895,
          3.9678936530612248,
          4.040428244897959,
          4.1129628367346935,
          4.185497428571429,
          4.258032020408163,
          4.330566612244898,
          4.403101204081633,
          4.475635795918367,
          4.548170387755102,
          4.620704979591837,
          4.693239571428571,
          4.765774163265306,
          4.838308755102041,
          4.910843346938775,
          4.98337793877551,
          5.055912530612245,
          5.128447122448979,
          5.200981714285714,
          5.273516306122449,
          5.346050897959183,
          5.418585489795918,
          5.491120081632653,
          5.563654673469388,
          5.636189265306122,
          5.708723857142857,
          5.781258448979592,
          5.853793040816326,
          5.926327632653061,
          5.9988622244897964,
          6.07139681632653,
          6.143931408163265,
          6.216466
         ],
         "y": [
          6.436248,
          6.3469454285126865,
          6.2597473638305425,
          6.174653805953566,
          6.091664754881759,
          6.01078021061512,
          5.932000173153649,
          5.855324642497347,
          5.780753618646214,
          5.708287101600251,
          5.637925091359455,
          5.569667587923828,
          5.503514591293369,
          5.439466101468081,
          5.37752211844796,
          5.317682642233008,
          5.259947672823223,
          5.20431721021861,
          5.150791254419163,
          5.099369805424887,
          5.050052863235779,
          5.002840427851837,
          4.957732499273067,
          4.914729077499463,
          4.87383016253103,
          4.835035754367763,
          4.798345853009668,
          4.763760458456739,
          4.73127957070898,
          4.70090318976639,
          4.672631315628968,
          4.646463948296716,
          4.62240108776963,
          4.600442734047714,
          4.580588887130967,
          4.562839547019388,
          4.547194713712978,
          4.533654387211738,
          4.522218567515666,
          4.512887254624761,
          4.505660448539027,
          4.5005381492584595,
          4.497520356783062,
          4.496607071112833,
          4.497798292247772,
          4.501094020187882,
          4.506494254933158,
          4.513998996483604,
          4.523608244839217,
          4.535322000000001
         ]
        },
        {
         "name": "7.434959374984519",
         "type": "scatter",
         "visible": true,
         "x": [
          6.216466,
          6.33071993877551,
          6.44497387755102,
          6.55922781632653,
          6.67348175510204,
          6.787735693877551,
          6.901989632653061,
          7.016243571428571,
          7.130497510204082,
          7.244751448979591,
          7.359005387755102,
          7.473259326530612,
          7.587513265306122,
          7.701767204081632,
          7.816021142857142,
          7.930275081632653,
          8.044529020408163,
          8.158782959183673,
          8.273036897959184,
          8.387290836734694,
          8.501544775510204,
          8.615798714285713,
          8.730052653061225,
          8.844306591836734,
          8.958560530612244,
          9.072814469387755,
          9.187068408163265,
          9.301322346938775,
          9.415576285714286,
          9.529830224489796,
          9.644084163265306,
          9.758338102040817,
          9.872592040816325,
          9.986845979591838,
          10.101099918367346,
          10.215353857142857,
          10.329607795918367,
          10.443861734693877,
          10.558115673469388,
          10.672369612244898,
          10.786623551020408,
          10.900877489795917,
          11.01513142857143,
          11.129385367346938,
          11.24363930612245,
          11.357893244897959,
          11.472147183673469,
          11.58640112244898,
          11.70065506122449,
          11.814909
         ],
         "y": [
          4.535322000000001,
          4.486831694446984,
          4.443562973904257,
          4.405515838371814,
          4.372690287849661,
          4.345086322337798,
          4.322703941836217,
          4.305543146344924,
          4.293603935863917,
          4.286886310393202,
          4.285390269932769,
          4.289115814482624,
          4.298062944042769,
          4.3122316586132,
          4.331621958193917,
          4.356233842784926,
          4.386067312386219,
          4.421122366997798,
          4.461399006619665,
          4.506897231251816,
          4.557617040894259,
          4.613558435546988,
          4.674721415210005,
          4.741105979883306,
          4.812712129566897,
          4.889539864260776,
          4.971589183964941,
          5.058860088679392,
          5.151352578404129,
          5.249066653139156,
          5.352002312884469,
          5.460159557640068,
          5.573538387405957,
          5.692138802182139,
          5.815960801968597,
          5.945004386765344,
          6.079269556572385,
          6.218756311389708,
          6.3634646512173205,
          6.513394576055216,
          6.668546085903401,
          6.828919180761876,
          6.9945138606306365,
          7.165330125509687,
          7.341367975399017,
          7.5226274102986395,
          7.709108430208548,
          7.900811035128747,
          8.097735225059228,
          8.299881
         ]
        },
        {
         "name": "3.4018402596334143",
         "type": "scatter",
         "visible": true,
         "x": [
          6.216466,
          6.279522020408163,
          6.342578040816326,
          6.4056340612244895,
          6.468690081632652,
          6.531746102040816,
          6.5948021224489795,
          6.657858142857142,
          6.720914163265306,
          6.783970183673469,
          6.847026204081632,
          6.910082224489796,
          6.973138244897958,
          7.036194265306122,
          7.099250285714286,
          7.162306306122448,
          7.225362326530612,
          7.288418346938775,
          7.351474367346938,
          7.414530387755102,
          7.477586408163265,
          7.540642428571428,
          7.603698448979591,
          7.6667544693877545,
          7.729810489795918,
          7.792866510204081,
          7.855922530612244,
          7.918978551020407,
          7.982034571428571,
          8.045090591836734,
          8.108146612244898,
          8.17120263265306,
          8.234258653061223,
          8.297314673469387,
          8.36037069387755,
          8.423426714285714,
          8.486482734693876,
          8.54953875510204,
          8.612594775510203,
          8.675650795918367,
          8.73870681632653,
          8.801762836734692,
          8.864818857142856,
          8.92787487755102,
          8.990930897959183,
          9.053986918367347,
          9.117042938775509,
          9.180098959183672,
          9.243154979591836,
          9.306211
         ],
         "y": [
          4.535321999999997,
          4.516753848403063,
          4.499776121490013,
          4.48438881926085,
          4.470591941715574,
          4.458385488854182,
          4.4477694606766764,
          4.4387438571830575,
          4.431308678373327,
          4.425463924247479,
          4.421209594805518,
          4.418545690047441,
          4.417472209973253,
          4.417989154582948,
          4.420096523876529,
          4.4237943178539965,
          4.429082536515349,
          4.435961179860591,
          4.444430247889715,
          4.454489740602725,
          4.466139657999623,
          4.479380000080406,
          4.494210766845075,
          4.510631958293629,
          4.528643574426074,
          4.548245615242401,
          4.569438080742611,
          4.592220970926709,
          4.616594285794694,
          4.642558025346563,
          4.670112189582319,
          4.69925677850196,
          4.729991792105489,
          4.7623172303929024,
          4.796233093364199,
          4.831739381019386,
          4.868836093358457,
          4.907523230381415,
          4.947800792088257,
          4.98966877847899,
          5.033127189553603,
          5.078176025312102,
          5.124815285754488,
          5.173044970880763,
          5.222865080690919,
          5.2742756151849655,
          5.3272765743628945,
          5.38186795822471,
          5.438049766770412,
          5.495822
         ]
        },
        {
         "name": "3.37595256015761",
         "type": "scatter",
         "visible": true,
         "x": [
          3.110509,
          3.17389587755102,
          3.237282755102041,
          3.300669632653061,
          3.3640565102040814,
          3.427443387755102,
          3.4908302653061223,
          3.554217142857143,
          3.617604020408163,
          3.680990897959184,
          3.744377775510204,
          3.8077646530612244,
          3.871151530612245,
          3.9345384081632653,
          3.9979252857142855,
          4.061312163265306,
          4.124699040816326,
          4.188085918367347,
          4.251472795918367,
          4.314859673469387,
          4.378246551020408,
          4.4416334285714285,
          4.505020306122448,
          4.568407183673469,
          4.63179406122449,
          4.69518093877551,
          4.758567816326531,
          4.821954693877551,
          4.8853415714285715,
          4.948728448979592,
          5.012115326530612,
          5.075502204081633,
          5.138889081632653,
          5.202275959183673,
          5.265662836734694,
          5.3290497142857145,
          5.392436591836734,
          5.455823469387755,
          5.519210346938776,
          5.5825972244897955,
          5.645984102040816,
          5.709370979591837,
          5.772757857142857,
          5.836144734693877,
          5.899531612244898,
          5.962918489795918,
          6.0263053673469384,
          6.089692244897959,
          6.153079122448979,
          6.216466
         ],
         "y": [
          5.305434999999999,
          5.25114660420485,
          5.19846536690797,
          5.147391288109356,
          5.09792436780901,
          5.050064606006931,
          5.003812002703119,
          4.959166557897574,
          4.916128271590297,
          4.874697143781287,
          4.834873174470543,
          4.796656363658068,
          4.760046711343859,
          4.725044217527918,
          4.691648882210243,
          4.6598607053908365,
          4.629679687069698,
          4.601105827246824,
          4.574139125922219,
          4.548779583095882,
          4.525027198767811,
          4.502881972938008,
          4.482343905606472,
          4.463412996773202,
          4.446089246438199,
          4.430372654601464,
          4.416263221262997,
          4.403760946422797,
          4.392865830080863,
          4.383577872237198,
          4.3758970728918,
          4.369823432044668,
          4.365356949695804,
          4.362497625845207,
          4.361245460492877,
          4.361600453638815,
          4.36356260528302,
          4.367131915425491,
          4.372308384066231,
          4.379092011205238,
          4.38748279684251,
          4.397480740978051,
          4.4090858436118605,
          4.422298104743934,
          4.437117524374277,
          4.453544102502888,
          4.471577839129764,
          4.4912187342549075,
          4.512466787878319,
          4.535321999999997
         ]
        },
        {
         "name": "2.0514716619768647",
         "type": "scatter",
         "visible": true,
         "x": [
          4.376073,
          4.413632040816326,
          4.451191081632653,
          4.488750122448979,
          4.526309163265306,
          4.563868204081633,
          4.601427244897959,
          4.638986285714285,
          4.676545326530612,
          4.7141043673469385,
          4.751663408163265,
          4.789222448979592,
          4.826781489795918,
          4.864340530612244,
          4.901899571428571,
          4.939458612244898,
          4.977017653061225,
          5.014576693877551,
          5.052135734693877,
          5.089694775510203,
          5.12725381632653,
          5.164812857142857,
          5.202371897959184,
          5.23993093877551,
          5.277489979591836,
          5.315049020408163,
          5.3526080612244895,
          5.390167102040816,
          5.427726142857143,
          5.465285183673469,
          5.502844224489795,
          5.540403265306122,
          5.577962306122449,
          5.615521346938775,
          5.653080387755102,
          5.690639428571428,
          5.728198469387754,
          5.7657575102040814,
          5.803316551020408,
          5.840875591836735,
          5.878434632653061,
          5.915993673469387,
          5.953552714285713,
          5.9911117551020405,
          6.028670795918367,
          6.066229836734694,
          6.10378887755102,
          6.141347918367346,
          6.1789069591836725,
          6.216466
         ],
         "y": [
          5.368352,
          5.337808844903495,
          5.3078299624258065,
          5.278415352566935,
          5.24956501532688,
          5.221278950705641,
          5.1935571587032205,
          5.166399639319617,
          5.13980639255483,
          5.11377741840886,
          5.088312716881707,
          5.063412287973372,
          5.039076131683853,
          5.015304248013152,
          4.992096636961265,
          4.969453298528197,
          4.947374232713947,
          4.925859439518513,
          4.904908918941897,
          4.884522670984097,
          4.864700695645115,
          4.845442992924949,
          4.826749562823598,
          4.808620405341067,
          4.791055520477352,
          4.774054908232454,
          4.757618568606373,
          4.74174650159911,
          4.726438707210663,
          4.711695185441032,
          4.69751593629022,
          4.683900959758223,
          4.670850255845044,
          4.6583638245506815,
          4.6464416658751375,
          4.635083779818411,
          4.624290166380499,
          4.614060825561404,
          4.604395757361129,
          4.595294961779667,
          4.586758438817023,
          4.578786188473197,
          4.571378210748188,
          4.564534505641998,
          4.558255073154623,
          4.552539913286065,
          4.547389026036324,
          4.5428024114054,
          4.538780069393292,
          4.535322000000001
         ]
        },
        {
         "name": "1.4673424711242775",
         "type": "scatter",
         "visible": true,
         "x": [
          6.245008,
          6.266309897959184,
          6.287611795918368,
          6.308913693877551,
          6.330215591836735,
          6.351517489795919,
          6.3728193877551025,
          6.394121285714286,
          6.41542318367347,
          6.4367250816326536,
          6.458026979591837,
          6.479328877551021,
          6.500630775510205,
          6.521932673469388,
          6.543234571428572,
          6.564536469387756,
          6.585838367346939,
          6.607140265306123,
          6.628442163265307,
          6.6497440612244905,
          6.671045959183674,
          6.692347857142858,
          6.7136497551020415,
          6.734951653061225,
          6.756253551020409,
          6.777555448979593,
          6.798857346938776,
          6.82015924489796,
          6.841461142857144,
          6.8627630408163265,
          6.88406493877551,
          6.905366836734694,
          6.926668734693878,
          6.947970632653061,
          6.969272530612245,
          6.990574428571429,
          7.011876326530612,
          7.033178224489796,
          7.05448012244898,
          7.075782020408163,
          7.097083918367347,
          7.118385816326531,
          7.1396877142857145,
          7.160989612244898,
          7.182291510204082,
          7.2035934081632655,
          7.224895306122449,
          7.246197204081633,
          7.267499102040817,
          7.288801
         ],
         "y": [
          4.859340000000001,
          4.869665534469909,
          4.880172577282484,
          4.890861128437723,
          4.901731187935628,
          4.912782755776197,
          4.924015831959432,
          4.9354304164853335,
          4.947026509353899,
          4.958804110565129,
          4.970763220119027,
          4.982903838015588,
          4.995225964254816,
          5.007729598836709,
          5.020414741761266,
          5.033281393028492,
          5.04632955263838,
          5.059559220590934,
          5.072970396886156,
          5.086563081524039,
          5.100337274504589,
          5.114292975827807,
          5.128430185493688,
          5.142748903502232,
          5.1572491298534455,
          5.171930864547322,
          5.186794107583866,
          5.201838858963075,
          5.217065118684948,
          5.232472886749488,
          5.248062163156693,
          5.263832947906561,
          5.279785240999097,
          5.2959190424342975,
          5.312234352212164,
          5.328731170332695,
          5.345409496795892,
          5.362269331601754,
          5.379310674750283,
          5.396533526241475,
          5.413937886075335,
          5.431523754251858,
          5.449291130771044,
          5.4672400156329,
          5.48537040883742,
          5.503682310384605,
          5.522175720274456,
          5.5408506385069725,
          5.5597070650821525,
          5.578745000000001
         ]
        },
        {
         "name": "3.034478103834143",
         "type": "scatter",
         "visible": true,
         "x": [
          6.245008,
          6.283557020408163,
          6.322106040816327,
          6.36065506122449,
          6.399204081632654,
          6.4377531020408165,
          6.47630212244898,
          6.514851142857143,
          6.553400163265306,
          6.59194918367347,
          6.630498204081633,
          6.6690472244897965,
          6.707596244897959,
          6.746145265306123,
          6.784694285714286,
          6.82324330612245,
          6.861792326530613,
          6.9003413469387755,
          6.938890367346939,
          6.977439387755102,
          7.015988408163266,
          7.054537428571429,
          7.093086448979593,
          7.1316354693877555,
          7.170184489795918,
          7.208733510204082,
          7.247282530612245,
          7.285831551020408,
          7.324380571428572,
          7.3629295918367355,
          7.401478612244898,
          7.440027632653061,
          7.478576653061225,
          7.517125673469388,
          7.555674693877551,
          7.5942237142857145,
          7.632772734693878,
          7.671321755102041,
          7.709870775510204,
          7.748419795918368,
          7.786968816326531,
          7.825517836734694,
          7.864066857142857,
          7.902615877551021,
          7.941164897959184,
          7.979713918367347,
          8.01826293877551,
          8.056811959183674,
          8.095360979591836,
          8.13391
         ],
         "y": [
          4.8593399999999995,
          4.887955855331197,
          4.917166121452164,
          4.946970798362903,
          4.977369886063416,
          5.008363384553697,
          5.0399512938337505,
          5.072133613903578,
          5.104910344763173,
          5.1382814864125415,
          5.172247038851683,
          5.206807002080595,
          5.24196137609928,
          5.277710160907734,
          5.31405335650596,
          5.35099096289396,
          5.388522980071729,
          5.426649408039269,
          5.465370246796583,
          5.504685496343669,
          5.544595156680526,
          5.585099227807152,
          5.626197709723552,
          5.667890602429724,
          5.710177905925667,
          5.7530596202113795,
          5.7965357452868655,
          5.840606281152123,
          5.885271227807152,
          5.930530585251953,
          5.976384353486525,
          6.0228325325108685,
          6.069875122324985,
          6.11751212292887,
          6.16574353432253,
          6.21456935650596,
          6.263989589479163,
          6.3140042332421356,
          6.36461328779488,
          6.415816753137397,
          6.467614629269686,
          6.520006916191743,
          6.572993613903575,
          6.626574722405179,
          6.680750241696554,
          6.735520171777699,
          6.790884512648619,
          6.8468432643093085,
          6.903396426759768,
          6.960543999999999
         ]
        },
        {
         "name": "1.8868821469047503",
         "type": "scatter",
         "visible": true,
         "x": [
          4.87216,
          4.8906394489795915,
          4.909118897959184,
          4.927598346938775,
          4.9460777959183675,
          4.964557244897959,
          4.983036693877551,
          5.001516142857143,
          5.019995591836735,
          5.038475040816326,
          5.056954489795919,
          5.07543393877551,
          5.093913387755102,
          5.112392836734694,
          5.130872285714286,
          5.1493517346938775,
          5.167831183673469,
          5.186310632653061,
          5.204790081632653,
          5.223269530612245,
          5.241748979591836,
          5.260228428571429,
          5.27870787755102,
          5.297187326530612,
          5.315666775510204,
          5.334146224489796,
          5.352625673469388,
          5.37110512244898,
          5.389584571428571,
          5.408064020408164,
          5.426543469387755,
          5.445022918367346,
          5.463502367346939,
          5.481981816326531,
          5.5004612653061224,
          5.518940714285714,
          5.537420163265306,
          5.555899612244898,
          5.57437906122449,
          5.592858510204081,
          5.611337959183674,
          5.629817408163265,
          5.648296857142857,
          5.666776306122449,
          5.685255755102041,
          5.7037352040816325,
          5.722214653061224,
          5.740694102040816,
          5.7591735510204085,
          5.777653
         ],
         "y": [
          6.078594999999999,
          6.074461614035287,
          6.070464824084413,
          6.066604630147374,
          6.062881032224169,
          6.059294030314802,
          6.05584362441927,
          6.052529814537574,
          6.049352600669712,
          6.046311982815689,
          6.0434079609755,
          6.040640535149145,
          6.038009705336628,
          6.035515471537947,
          6.0331578337531,
          6.030936791982089,
          6.028852346224915,
          6.026904496481576,
          6.025093242752074,
          6.023418585036405,
          6.021880523334573,
          6.020479057646578,
          6.019214187972417,
          6.018085914312092,
          6.017094236665604,
          6.0162391550329515,
          6.015520669414133,
          6.014938779809151,
          6.014493486218006,
          6.014184788640695,
          6.014012687077221,
          6.013977181527583,
          6.014078271991781,
          6.014315958469812,
          6.014690240961681,
          6.015201119467386,
          6.015848593986925,
          6.016632664520301,
          6.0175533310675124,
          6.01861059362856,
          6.019804452203442,
          6.021134906792161,
          6.022601957394716,
          6.024205604011106,
          6.025945846641331,
          6.027822685285393,
          6.029836119943291,
          6.0319861506150225,
          6.034272777300593,
          6.036695999999998
         ]
        },
        {
         "name": "1.5205979265596157",
         "type": "scatter",
         "visible": true,
         "x": [
          5.56104426,
          5.563068377142857,
          5.5650924942857145,
          5.567116611428571,
          5.569140728571429,
          5.571164845714286,
          5.5731889628571425,
          5.57521308,
          5.577237197142857,
          5.579261314285715,
          5.581285431428571,
          5.583309548571428,
          5.585333665714286,
          5.587357782857143,
          5.5893819,
          5.591406017142857,
          5.593430134285715,
          5.5954542514285714,
          5.597478368571428,
          5.599502485714286,
          5.601526602857143,
          5.60355072,
          5.605574837142857,
          5.607598954285714,
          5.6096230714285715,
          5.611647188571428,
          5.613671305714286,
          5.615695422857143,
          5.6177195399999995,
          5.619743657142857,
          5.621767774285714,
          5.623791891428572,
          5.625816008571428,
          5.627840125714285,
          5.629864242857143,
          5.63188836,
          5.633912477142857,
          5.635936594285714,
          5.637960711428572,
          5.6399848285714285,
          5.642008945714285,
          5.644033062857143,
          5.64605718,
          5.648081297142857,
          5.650105414285714,
          5.652129531428571,
          5.6541536485714285,
          5.656177765714285,
          5.658201882857143,
          5.660226
         ],
         "y": [
          6.459310499999999,
          6.464161627501675,
          6.469014393823436,
          6.473868798965278,
          6.478724842927205,
          6.483582525709214,
          6.488441847311306,
          6.493302807733484,
          6.49816540697574,
          6.503029645038085,
          6.507895521920509,
          6.512763037623017,
          6.51763219214561,
          6.522502985488285,
          6.527375417651043,
          6.532249488633885,
          6.53712519843681,
          6.542002547059817,
          6.546881534502907,
          6.551762160766083,
          6.556644425849339,
          6.561528329752681,
          6.566413872476104,
          6.571301054019611,
          6.576189874383202,
          6.581080333566875,
          6.5859724315706325,
          6.590866168394472,
          6.595761544038393,
          6.600658558502401,
          6.605557211786489,
          6.610457503890664,
          6.615359434814919,
          6.620263004559257,
          6.62516821312368,
          6.630075060508186,
          6.634983546712775,
          6.639893671737447,
          6.644805435582202,
          6.649718838247041,
          6.654633879731961,
          6.659550560036966,
          6.664468879162054,
          6.669388837107226,
          6.6743104338724795,
          6.679233669457816,
          6.684158543863238,
          6.689085057088741,
          6.694013209134329,
          6.698942999999999
         ]
        },
        {
         "name": "0.6733606747624491",
         "type": "scatter",
         "visible": true,
         "x": [
          5.644691,
          5.65635987755102,
          5.668028755102041,
          5.6796976326530615,
          5.691366510204081,
          5.703035387755102,
          5.714704265306122,
          5.726373142857143,
          5.738042020408163,
          5.749710897959184,
          5.761379775510204,
          5.773048653061224,
          5.7847175306122445,
          5.796386408163265,
          5.8080552857142855,
          5.819724163265306,
          5.831393040816327,
          5.843061918367347,
          5.854730795918367,
          5.866399673469387,
          5.878068551020408,
          5.889737428571428,
          5.901406306122449,
          5.913075183673469,
          5.92474406122449,
          5.93641293877551,
          5.94808181632653,
          5.959750693877551,
          5.971419571428571,
          5.983088448979592,
          5.994757326530612,
          6.006426204081633,
          6.018095081632652,
          6.029763959183673,
          6.0414328367346934,
          6.053101714285714,
          6.0647705918367345,
          6.076439469387755,
          6.088108346938776,
          6.099777224489795,
          6.111446102040816,
          6.123114979591836,
          6.134783857142857,
          6.146452734693877,
          6.158121612244898,
          6.169790489795918,
          6.181459367346939,
          6.1931282448979585,
          6.204797122448979,
          6.216466
         ],
         "y": [
          4.8895209999999985,
          4.880985287027901,
          4.872504039137127,
          4.864077256327674,
          4.855704938599542,
          4.847387085952725,
          4.839123698387233,
          4.830914775903059,
          4.822760318500208,
          4.814660326178675,
          4.806614798938462,
          4.798623736779568,
          4.790687139701998,
          4.782805007705747,
          4.774977340790816,
          4.767204138957201,
          4.759485402204913,
          4.751821130533942,
          4.744211323944294,
          4.736655982435959,
          4.729155106008951,
          4.721708694663263,
          4.714316748398893,
          4.706979267215846,
          4.699696251114119,
          4.692467700093708,
          4.685293614154622,
          4.678173993296854,
          4.671108837520407,
          4.664098146825278,
          4.657141921211471,
          4.650240160678987,
          4.6433928652278205,
          4.636600034857974,
          4.629861669569447,
          4.623177769362243,
          4.616548334236358,
          4.609973364191793,
          4.60345285922855,
          4.596986819346624,
          4.59057524454602,
          4.584218134826738,
          4.577915490188776,
          4.5716673106321295,
          4.5654735961568065,
          4.559334346762805,
          4.553249562450123,
          4.547219243218759,
          4.541243389068718,
          4.535321999999997
         ]
        },
        {
         "name": "1.7701009472777745",
         "type": "scatter",
         "visible": true,
         "x": [
          5.59912118,
          5.6034378497959185,
          5.607754519591837,
          5.6120711893877555,
          5.616387859183673,
          5.620704528979592,
          5.62502119877551,
          5.629337868571429,
          5.633654538367347,
          5.637971208163266,
          5.642287877959184,
          5.646604547755102,
          5.65092121755102,
          5.655237887346939,
          5.659554557142857,
          5.663871226938776,
          5.668187896734694,
          5.672504566530613,
          5.67682123632653,
          5.681137906122449,
          5.685454575918367,
          5.689771245714286,
          5.694087915510204,
          5.698404585306123,
          5.702721255102041,
          5.707037924897959,
          5.711354594693877,
          5.715671264489796,
          5.719987934285714,
          5.724304604081633,
          5.728621273877551,
          5.73293794367347,
          5.737254613469387,
          5.741571283265306,
          5.745887953061224,
          5.750204622857143,
          5.754521292653061,
          5.75883796244898,
          5.763154632244898,
          5.767471302040816,
          5.771787971836734,
          5.776104641632653,
          5.780421311428571,
          5.78473798122449,
          5.789054651020408,
          5.793371320816327,
          5.7976879906122445,
          5.802004660408163,
          5.8063213302040815,
          5.810638
         ],
         "y": [
          6.39507133,
          6.405334399522961,
          6.415604922501172,
          6.425882898934636,
          6.436168328823346,
          6.44646121216731,
          6.456761548966524,
          6.46706933922099,
          6.477384582930707,
          6.487707280095673,
          6.4980374307158915,
          6.508375034791358,
          6.518720092322078,
          6.529072603308048,
          6.539432567749269,
          6.54979998564574,
          6.560174856997465,
          6.570557181804437,
          6.58094696006666,
          6.591344191784135,
          6.601748876956861,
          6.612161015584838,
          6.622580607668065,
          6.633007653206543,
          6.643442152200273,
          6.65388410464925,
          6.6643335105534804,
          6.674790369912962,
          6.6852546827276935,
          6.695726448997679,
          6.706205668722912,
          6.716692341903396,
          6.727186468539129,
          6.737688048630116,
          6.748197082176353,
          6.75871356917784,
          6.7692375096345785,
          6.779768903546569,
          6.79030775091381,
          6.800854051736298,
          6.81140780601404,
          6.821969013747032,
          6.832537674935277,
          6.843113789578771,
          6.8536973576775155,
          6.86428837923151,
          6.8748868542407555,
          6.885492782705253,
          6.896106164625001,
          6.906727
         ]
        },
        {
         "name": "2.0859599100424524",
         "type": "scatter",
         "visible": true,
         "x": [
          4.746343,
          4.759426865714286,
          4.7725107314285715,
          4.7855945971428575,
          4.7986784628571435,
          4.811762328571429,
          4.824846194285715,
          4.837930060000001,
          4.851013925714286,
          4.864097791428572,
          4.877181657142858,
          4.890265522857143,
          4.903349388571429,
          4.916433254285715,
          4.92951712,
          4.942600985714286,
          4.955684851428572,
          4.968768717142857,
          4.981852582857143,
          4.994936448571429,
          5.008020314285714,
          5.02110418,
          5.034188045714286,
          5.047271911428572,
          5.060355777142857,
          5.073439642857143,
          5.086523508571428,
          5.099607374285714,
          5.11269124,
          5.125775105714286,
          5.138858971428571,
          5.151942837142857,
          5.165026702857143,
          5.178110568571428,
          5.191194434285714,
          5.2042783,
          5.2173621657142855,
          5.2304460314285715,
          5.243529897142857,
          5.2566137628571425,
          5.2696976285714285,
          5.2827814942857145,
          5.29586536,
          5.308949225714286,
          5.322033091428572,
          5.335116957142857,
          5.348200822857143,
          5.361284688571429,
          5.374368554285714,
          5.38745242
         ],
         "y": [
          6.792254,
          6.788529217555701,
          6.784872910128213,
          6.781285077717538,
          6.777765720323673,
          6.774314837946622,
          6.770932430586381,
          6.767618498242952,
          6.764373040916336,
          6.761196058606531,
          6.758087551313538,
          6.755047519037357,
          6.7520759617779875,
          6.749172879535429,
          6.746338272309684,
          6.743572140100749,
          6.740874482908627,
          6.7382453007333165,
          6.735684593574817,
          6.73319236143313,
          6.730768604308254,
          6.728413322200192,
          6.726126515108939,
          6.7239081830345,
          6.721758325976872,
          6.719676943936055,
          6.717664036912052,
          6.7157196049048595,
          6.713843647914479,
          6.712036165940909,
          6.710297158984153,
          6.7086266270442065,
          6.707024570121073,
          6.70549098821475,
          6.70402588132524,
          6.702629249452542,
          6.701301092596655,
          6.70004141075758,
          6.698850203935317,
          6.697727472129865,
          6.696673215341225,
          6.695687433569398,
          6.694770126814381,
          6.693921295076178,
          6.6931409383547855,
          6.692429056650204,
          6.691785649962435,
          6.691210718291479,
          6.690704261637333,
          6.6902662799999995
         ]
        }
       ],
       "layout": {
        "autosize": true,
        "template": {
         "data": {
          "bar": [
           {
            "error_x": {
             "color": "#2a3f5f"
            },
            "error_y": {
             "color": "#2a3f5f"
            },
            "marker": {
             "line": {
              "color": "#E5ECF6",
              "width": 0.5
             },
             "pattern": {
              "fillmode": "overlay",
              "size": 10,
              "solidity": 0.2
             }
            },
            "type": "bar"
           }
          ],
          "barpolar": [
           {
            "marker": {
             "line": {
              "color": "#E5ECF6",
              "width": 0.5
             },
             "pattern": {
              "fillmode": "overlay",
              "size": 10,
              "solidity": 0.2
             }
            },
            "type": "barpolar"
           }
          ],
          "carpet": [
           {
            "aaxis": {
             "endlinecolor": "#2a3f5f",
             "gridcolor": "white",
             "linecolor": "white",
             "minorgridcolor": "white",
             "startlinecolor": "#2a3f5f"
            },
            "baxis": {
             "endlinecolor": "#2a3f5f",
             "gridcolor": "white",
             "linecolor": "white",
             "minorgridcolor": "white",
             "startlinecolor": "#2a3f5f"
            },
            "type": "carpet"
           }
          ],
          "choropleth": [
           {
            "colorbar": {
             "outlinewidth": 0,
             "ticks": ""
            },
            "type": "choropleth"
           }
          ],
          "contour": [
           {
            "colorbar": {
             "outlinewidth": 0,
             "ticks": ""
            },
            "colorscale": [
             [
              0,
              "#0d0887"
             ],
             [
              0.1111111111111111,
              "#46039f"
             ],
             [
              0.2222222222222222,
              "#7201a8"
             ],
             [
              0.3333333333333333,
              "#9c179e"
             ],
             [
              0.4444444444444444,
              "#bd3786"
             ],
             [
              0.5555555555555556,
              "#d8576b"
             ],
             [
              0.6666666666666666,
              "#ed7953"
             ],
             [
              0.7777777777777778,
              "#fb9f3a"
             ],
             [
              0.8888888888888888,
              "#fdca26"
             ],
             [
              1,
              "#f0f921"
             ]
            ],
            "type": "contour"
           }
          ],
          "contourcarpet": [
           {
            "colorbar": {
             "outlinewidth": 0,
             "ticks": ""
            },
            "type": "contourcarpet"
           }
          ],
          "heatmap": [
           {
            "colorbar": {
             "outlinewidth": 0,
             "ticks": ""
            },
            "colorscale": [
             [
              0,
              "#0d0887"
             ],
             [
              0.1111111111111111,
              "#46039f"
             ],
             [
              0.2222222222222222,
              "#7201a8"
             ],
             [
              0.3333333333333333,
              "#9c179e"
             ],
             [
              0.4444444444444444,
              "#bd3786"
             ],
             [
              0.5555555555555556,
              "#d8576b"
             ],
             [
              0.6666666666666666,
              "#ed7953"
             ],
             [
              0.7777777777777778,
              "#fb9f3a"
             ],
             [
              0.8888888888888888,
              "#fdca26"
             ],
             [
              1,
              "#f0f921"
             ]
            ],
            "type": "heatmap"
           }
          ],
          "heatmapgl": [
           {
            "colorbar": {
             "outlinewidth": 0,
             "ticks": ""
            },
            "colorscale": [
             [
              0,
              "#0d0887"
             ],
             [
              0.1111111111111111,
              "#46039f"
             ],
             [
              0.2222222222222222,
              "#7201a8"
             ],
             [
              0.3333333333333333,
              "#9c179e"
             ],
             [
              0.4444444444444444,
              "#bd3786"
             ],
             [
              0.5555555555555556,
              "#d8576b"
             ],
             [
              0.6666666666666666,
              "#ed7953"
             ],
             [
              0.7777777777777778,
              "#fb9f3a"
             ],
             [
              0.8888888888888888,
              "#fdca26"
             ],
             [
              1,
              "#f0f921"
             ]
            ],
            "type": "heatmapgl"
           }
          ],
          "histogram": [
           {
            "marker": {
             "pattern": {
              "fillmode": "overlay",
              "size": 10,
              "solidity": 0.2
             }
            },
            "type": "histogram"
           }
          ],
          "histogram2d": [
           {
            "colorbar": {
             "outlinewidth": 0,
             "ticks": ""
            },
            "colorscale": [
             [
              0,
              "#0d0887"
             ],
             [
              0.1111111111111111,
              "#46039f"
             ],
             [
              0.2222222222222222,
              "#7201a8"
             ],
             [
              0.3333333333333333,
              "#9c179e"
             ],
             [
              0.4444444444444444,
              "#bd3786"
             ],
             [
              0.5555555555555556,
              "#d8576b"
             ],
             [
              0.6666666666666666,
              "#ed7953"
             ],
             [
              0.7777777777777778,
              "#fb9f3a"
             ],
             [
              0.8888888888888888,
              "#fdca26"
             ],
             [
              1,
              "#f0f921"
             ]
            ],
            "type": "histogram2d"
           }
          ],
          "histogram2dcontour": [
           {
            "colorbar": {
             "outlinewidth": 0,
             "ticks": ""
            },
            "colorscale": [
             [
              0,
              "#0d0887"
             ],
             [
              0.1111111111111111,
              "#46039f"
             ],
             [
              0.2222222222222222,
              "#7201a8"
             ],
             [
              0.3333333333333333,
              "#9c179e"
             ],
             [
              0.4444444444444444,
              "#bd3786"
             ],
             [
              0.5555555555555556,
              "#d8576b"
             ],
             [
              0.6666666666666666,
              "#ed7953"
             ],
             [
              0.7777777777777778,
              "#fb9f3a"
             ],
             [
              0.8888888888888888,
              "#fdca26"
             ],
             [
              1,
              "#f0f921"
             ]
            ],
            "type": "histogram2dcontour"
           }
          ],
          "mesh3d": [
           {
            "colorbar": {
             "outlinewidth": 0,
             "ticks": ""
            },
            "type": "mesh3d"
           }
          ],
          "parcoords": [
           {
            "line": {
             "colorbar": {
              "outlinewidth": 0,
              "ticks": ""
             }
            },
            "type": "parcoords"
           }
          ],
          "pie": [
           {
            "automargin": true,
            "type": "pie"
           }
          ],
          "scatter": [
           {
            "fillpattern": {
             "fillmode": "overlay",
             "size": 10,
             "solidity": 0.2
            },
            "type": "scatter"
           }
          ],
          "scatter3d": [
           {
            "line": {
             "colorbar": {
              "outlinewidth": 0,
              "ticks": ""
             }
            },
            "marker": {
             "colorbar": {
              "outlinewidth": 0,
              "ticks": ""
             }
            },
            "type": "scatter3d"
           }
          ],
          "scattercarpet": [
           {
            "marker": {
             "colorbar": {
              "outlinewidth": 0,
              "ticks": ""
             }
            },
            "type": "scattercarpet"
           }
          ],
          "scattergeo": [
           {
            "marker": {
             "colorbar": {
              "outlinewidth": 0,
              "ticks": ""
             }
            },
            "type": "scattergeo"
           }
          ],
          "scattergl": [
           {
            "marker": {
             "colorbar": {
              "outlinewidth": 0,
              "ticks": ""
             }
            },
            "type": "scattergl"
           }
          ],
          "scattermapbox": [
           {
            "marker": {
             "colorbar": {
              "outlinewidth": 0,
              "ticks": ""
             }
            },
            "type": "scattermapbox"
           }
          ],
          "scatterpolar": [
           {
            "marker": {
             "colorbar": {
              "outlinewidth": 0,
              "ticks": ""
             }
            },
            "type": "scatterpolar"
           }
          ],
          "scatterpolargl": [
           {
            "marker": {
             "colorbar": {
              "outlinewidth": 0,
              "ticks": ""
             }
            },
            "type": "scatterpolargl"
           }
          ],
          "scatterternary": [
           {
            "marker": {
             "colorbar": {
              "outlinewidth": 0,
              "ticks": ""
             }
            },
            "type": "scatterternary"
           }
          ],
          "surface": [
           {
            "colorbar": {
             "outlinewidth": 0,
             "ticks": ""
            },
            "colorscale": [
             [
              0,
              "#0d0887"
             ],
             [
              0.1111111111111111,
              "#46039f"
             ],
             [
              0.2222222222222222,
              "#7201a8"
             ],
             [
              0.3333333333333333,
              "#9c179e"
             ],
             [
              0.4444444444444444,
              "#bd3786"
             ],
             [
              0.5555555555555556,
              "#d8576b"
             ],
             [
              0.6666666666666666,
              "#ed7953"
             ],
             [
              0.7777777777777778,
              "#fb9f3a"
             ],
             [
              0.8888888888888888,
              "#fdca26"
             ],
             [
              1,
              "#f0f921"
             ]
            ],
            "type": "surface"
           }
          ],
          "table": [
           {
            "cells": {
             "fill": {
              "color": "#EBF0F8"
             },
             "line": {
              "color": "white"
             }
            },
            "header": {
             "fill": {
              "color": "#C8D4E3"
             },
             "line": {
              "color": "white"
             }
            },
            "type": "table"
           }
          ]
         },
         "layout": {
          "annotationdefaults": {
           "arrowcolor": "#2a3f5f",
           "arrowhead": 0,
           "arrowwidth": 1
          },
          "autotypenumbers": "strict",
          "coloraxis": {
           "colorbar": {
            "outlinewidth": 0,
            "ticks": ""
           }
          },
          "colorscale": {
           "diverging": [
            [
             0,
             "#8e0152"
            ],
            [
             0.1,
             "#c51b7d"
            ],
            [
             0.2,
             "#de77ae"
            ],
            [
             0.3,
             "#f1b6da"
            ],
            [
             0.4,
             "#fde0ef"
            ],
            [
             0.5,
             "#f7f7f7"
            ],
            [
             0.6,
             "#e6f5d0"
            ],
            [
             0.7,
             "#b8e186"
            ],
            [
             0.8,
             "#7fbc41"
            ],
            [
             0.9,
             "#4d9221"
            ],
            [
             1,
             "#276419"
            ]
           ],
           "sequential": [
            [
             0,
             "#0d0887"
            ],
            [
             0.1111111111111111,
             "#46039f"
            ],
            [
             0.2222222222222222,
             "#7201a8"
            ],
            [
             0.3333333333333333,
             "#9c179e"
            ],
            [
             0.4444444444444444,
             "#bd3786"
            ],
            [
             0.5555555555555556,
             "#d8576b"
            ],
            [
             0.6666666666666666,
             "#ed7953"
            ],
            [
             0.7777777777777778,
             "#fb9f3a"
            ],
            [
             0.8888888888888888,
             "#fdca26"
            ],
            [
             1,
             "#f0f921"
            ]
           ],
           "sequentialminus": [
            [
             0,
             "#0d0887"
            ],
            [
             0.1111111111111111,
             "#46039f"
            ],
            [
             0.2222222222222222,
             "#7201a8"
            ],
            [
             0.3333333333333333,
             "#9c179e"
            ],
            [
             0.4444444444444444,
             "#bd3786"
            ],
            [
             0.5555555555555556,
             "#d8576b"
            ],
            [
             0.6666666666666666,
             "#ed7953"
            ],
            [
             0.7777777777777778,
             "#fb9f3a"
            ],
            [
             0.8888888888888888,
             "#fdca26"
            ],
            [
             1,
             "#f0f921"
            ]
           ]
          },
          "colorway": [
           "#636efa",
           "#EF553B",
           "#00cc96",
           "#ab63fa",
           "#FFA15A",
           "#19d3f3",
           "#FF6692",
           "#B6E880",
           "#FF97FF",
           "#FECB52"
          ],
          "font": {
           "color": "#2a3f5f"
          },
          "geo": {
           "bgcolor": "white",
           "lakecolor": "white",
           "landcolor": "#E5ECF6",
           "showlakes": true,
           "showland": true,
           "subunitcolor": "white"
          },
          "hoverlabel": {
           "align": "left"
          },
          "hovermode": "closest",
          "mapbox": {
           "style": "light"
          },
          "paper_bgcolor": "white",
          "plot_bgcolor": "#E5ECF6",
          "polar": {
           "angularaxis": {
            "gridcolor": "white",
            "linecolor": "white",
            "ticks": ""
           },
           "bgcolor": "#E5ECF6",
           "radialaxis": {
            "gridcolor": "white",
            "linecolor": "white",
            "ticks": ""
           }
          },
          "scene": {
           "xaxis": {
            "backgroundcolor": "#E5ECF6",
            "gridcolor": "white",
            "gridwidth": 2,
            "linecolor": "white",
            "showbackground": true,
            "ticks": "",
            "zerolinecolor": "white"
           },
           "yaxis": {
            "backgroundcolor": "#E5ECF6",
            "gridcolor": "white",
            "gridwidth": 2,
            "linecolor": "white",
            "showbackground": true,
            "ticks": "",
            "zerolinecolor": "white"
           },
           "zaxis": {
            "backgroundcolor": "#E5ECF6",
            "gridcolor": "white",
            "gridwidth": 2,
            "linecolor": "white",
            "showbackground": true,
            "ticks": "",
            "zerolinecolor": "white"
           }
          },
          "shapedefaults": {
           "line": {
            "color": "#2a3f5f"
           }
          },
          "ternary": {
           "aaxis": {
            "gridcolor": "white",
            "linecolor": "white",
            "ticks": ""
           },
           "baxis": {
            "gridcolor": "white",
            "linecolor": "white",
            "ticks": ""
           },
           "bgcolor": "#E5ECF6",
           "caxis": {
            "gridcolor": "white",
            "linecolor": "white",
            "ticks": ""
           }
          },
          "title": {
           "x": 0.05
          },
          "xaxis": {
           "automargin": true,
           "gridcolor": "white",
           "linecolor": "white",
           "ticks": "",
           "title": {
            "standoff": 15
           },
           "zerolinecolor": "white",
           "zerolinewidth": 2
          },
          "yaxis": {
           "automargin": true,
           "gridcolor": "white",
           "linecolor": "white",
           "ticks": "",
           "title": {
            "standoff": 15
           },
           "zerolinecolor": "white",
           "zerolinewidth": 2
          }
         }
        },
        "xaxis": {
         "autorange": false,
         "range": [
          2.401433289489276,
          6.414321143500414
         ],
         "type": "linear"
        },
        "yaxis": {
         "autorange": false,
         "range": [
          4.145857544298031,
          7.047332272298353
         ],
         "type": "linear"
        }
       }
      },
      "image/png": "[encoded data removed]",
      "text/html": [
       "<div>                            <div id=\"470b3d9b-92df-4edb-9fa2-74f9bd82108f\" class=\"plotly-graph-div\" style=\"height:525px; width:100%;\"></div>            <script type=\"text/javascript\">                require([\"plotly\"], function(Plotly) {                    window.PLOTLYENV=window.PLOTLYENV || {};                                    if (document.getElementById(\"470b3d9b-92df-4edb-9fa2-74f9bd82108f\")) {                    Plotly.newPlot(                        \"470b3d9b-92df-4edb-9fa2-74f9bd82108f\",                        [{\"name\":\"(2.662271, 6.436248)\",\"x\":[2.662271],\"y\":[6.436248],\"type\":\"scatter\"},{\"name\":\"(11.814909, 8.299881)\",\"x\":[11.814909],\"y\":[8.299881],\"type\":\"scatter\"},{\"name\":\"(9.306211, 5.495822)\",\"x\":[9.306211],\"y\":[5.495822],\"type\":\"scatter\"},{\"name\":\"(3.110509, 5.305435)\",\"x\":[3.110509],\"y\":[5.305435],\"type\":\"scatter\"},{\"name\":\"(4.376073, 5.368352)\",\"x\":[4.376073],\"y\":[5.368352],\"type\":\"scatter\"},{\"name\":\"(7.288801, 5.578745)\",\"x\":[7.288801],\"y\":[5.578745],\"type\":\"scatter\"},{\"name\":\"(8.13391, 6.960544)\",\"x\":[8.13391],\"y\":[6.960544],\"type\":\"scatter\"},{\"name\":\"(4.87216, 6.078595)\",\"x\":[4.87216],\"y\":[6.078595],\"type\":\"scatter\"},{\"name\":\"(5.660226, 6.698943)\",\"x\":[5.660226],\"y\":[6.698943],\"type\":\"scatter\"},{\"name\":\"(5.644691, 4.889521)\",\"x\":[5.644691],\"y\":[4.889521],\"type\":\"scatter\"},{\"name\":\"(5.810638, 6.906727)\",\"x\":[5.810638],\"y\":[6.906727],\"type\":\"scatter\"},{\"name\":\"(4.746343, 6.792254)\",\"x\":[4.746343],\"y\":[6.792254],\"type\":\"scatter\"},{\"name\":\"segment\",\"x\":[6.216466,6.226423],\"y\":[4.535322,4.737842],\"type\":\"scatter\"},{\"name\":\"segment\",\"x\":[6.226423,6.245008],\"y\":[4.737842,4.85934],\"type\":\"scatter\"},{\"name\":\"segment\",\"x\":[6.245008,6.174974],\"y\":[4.85934,4.974765],\"type\":\"scatter\"},{\"name\":\"segment\",\"x\":[6.174974,6.142084],\"y\":[4.974765,5.053255],\"type\":\"scatter\"},{\"name\":\"segment\",\"x\":[6.142084,6.123158],\"y\":[5.053255,5.175507],\"type\":\"scatter\"},{\"name\":\"segment\",\"x\":[6.123158,6.10373],\"y\":[5.175507,5.301015],\"type\":\"scatter\"},{\"name\":\"segment\",\"x\":[6.10373,6.091752],\"y\":[5.301015,5.378411],\"type\":\"scatter\"},{\"name\":\"segment\",\"x\":[6.091752,6.094696],\"y\":[5.378411,5.510375],\"type\":\"scatter\"},{\"name\":\"segment\",\"x\":[6.094696,6.036667],\"y\":[5.510375,5.66764],\"type\":\"scatter\"},{\"name\":\"segment\",\"x\":[6.036667,5.991576],\"y\":[5.66764,5.735586],\"type\":\"scatter\"},{\"name\":\"segment\",\"x\":[5.991576,5.893041],\"y\":[5.735586,5.858559],\"type\":\"scatter\"},{\"name\":\"segment\",\"x\":[5.893041,5.840053],\"y\":[5.858559,5.944022],\"type\":\"scatter\"},{\"name\":\"segment\",\"x\":[5.840053,5.777653],\"y\":[5.944022,6.036696],\"type\":\"scatter\"},{\"name\":\"segment\",\"x\":[5.777653,5.746139],\"y\":[6.036696,6.086179],\"type\":\"scatter\"},{\"name\":\"segment\",\"x\":[5.746139,5.687519],\"y\":[6.086179,6.231828],\"type\":\"scatter\"},{\"name\":\"segment\",\"x\":[5.687519,5.659779],\"y\":[6.231828,6.292732],\"type\":\"scatter\"},{\"name\":\"segment\",\"x\":[5.659779,5.63137],\"y\":[6.292732,6.340664],\"type\":\"scatter\"},{\"name\":\"segment\",\"x\":[5.63137,5.592516],\"y\":[6.340664,6.406215],\"type\":\"scatter\"},{\"name\":\"segment\",\"x\":[5.592516,5.553662],\"y\":[6.406215,6.471765],\"type\":\"scatter\"},{\"name\":\"segment\",\"x\":[5.553662,5.481818],\"y\":[6.471765,6.560254],\"type\":\"scatter\"},{\"name\":\"segment\",\"x\":[5.481818,5.43335],\"y\":[6.560254,6.615202],\"type\":\"scatter\"},{\"name\":\"segment\",\"x\":[5.43335,5.393803],\"y\":[6.615202,6.678135],\"type\":\"scatter\"},{\"name\":\"segment\",\"x\":[5.393803,5.358522],\"y\":[6.678135,6.745531],\"type\":\"scatter\"},{\"name\":\"segment\",\"x\":[5.358522,5.344361],\"y\":[6.745531,6.785489],\"type\":\"scatter\"},{\"name\":\"segment\",\"x\":[5.344361,5.294842],\"y\":[6.785489,6.919923],\"type\":\"scatter\"},{\"name\":\"segment\",\"x\":[5.294842,5.2756],\"y\":[6.919923,7.006803],\"type\":\"scatter\"},{\"name\":\"segment\",\"x\":[5.2756,5.258248],\"y\":[7.006803,7.043624],\"type\":\"scatter\"},{\"name\":\"segment\",\"x\":[5.258248,5.228629],\"y\":[7.043624,7.120522],\"type\":\"scatter\"},{\"name\":\"segment\",\"x\":[5.228629,5.197806],\"y\":[7.120522,7.183892],\"type\":\"scatter\"},{\"name\":\"segment\",\"x\":[5.197806,5.174153],\"y\":[7.183892,7.280427],\"type\":\"scatter\"},{\"name\":\"segment\",\"x\":[5.174153,5.156019],\"y\":[7.280427,7.354437],\"type\":\"scatter\"},{\"name\":\"segment\",\"x\":[5.156019,5.140079],\"y\":[7.354437,7.432066],\"type\":\"scatter\"},{\"name\":\"segment\",\"x\":[5.140079,5.119891],\"y\":[7.432066,7.485739],\"type\":\"scatter\"},{\"name\":\"segment\",\"x\":[5.119891,5.098308],\"y\":[7.485739,7.568629],\"type\":\"scatter\"},{\"name\":\"segment\",\"x\":[5.098308,5.073782],\"y\":[7.568629,7.674698],\"type\":\"scatter\"},{\"name\":\"segment\",\"x\":[5.073782,5.041459],\"y\":[7.674698,7.821471],\"type\":\"scatter\"},{\"name\":\"segment\",\"x\":[5.041459,5.017788],\"y\":[7.821471,7.928956],\"type\":\"scatter\"},{\"name\":\"segment\",\"x\":[5.017788,4.992062],\"y\":[7.928956,8.035933],\"type\":\"scatter\"},{\"name\":\"segment\",\"x\":[4.992062,4.949973],\"y\":[8.035933,8.138556],\"type\":\"scatter\"},{\"name\":\"segment\",\"x\":[4.949973,4.925734],\"y\":[8.138556,8.208805],\"type\":\"scatter\"},{\"name\":\"segment\",\"x\":[4.925734,4.907672],\"y\":[8.208805,8.319531],\"type\":\"scatter\"},{\"name\":\"segment\",\"x\":[4.907672,4.860704],\"y\":[8.319531,8.456305],\"type\":\"scatter\"},{\"name\":\"segment\",\"x\":[4.860704,4.842548],\"y\":[8.456305,8.490737],\"type\":\"scatter\"},{\"name\":\"segment\",\"x\":[4.842548,4.833205],\"y\":[8.490737,8.521294],\"type\":\"scatter\"},{\"name\":\"segment\",\"x\":[4.833205,4.786455],\"y\":[8.521294,8.759745],\"type\":\"scatter\"},{\"name\":\"segment\",\"x\":[4.786455,4.773995],\"y\":[8.759745,8.792185],\"type\":\"scatter\"},{\"name\":\"segment\",\"x\":[4.773995,4.752749],\"y\":[8.792185,8.847504],\"type\":\"scatter\"},{\"name\":\"segment\",\"x\":[4.752749,4.731504],\"y\":[8.847504,8.902822],\"type\":\"scatter\"},{\"name\":\"segment\",\"x\":[4.731504,4.712126],\"y\":[8.902822,8.936584],\"type\":\"scatter\"},{\"name\":\"segment\",\"x\":[4.712126,4.684841],\"y\":[8.936584,8.996154],\"type\":\"scatter\"},{\"name\":\"segment\",\"x\":[4.684841,4.665143],\"y\":[8.996154,9.024782],\"type\":\"scatter\"},{\"name\":\"segment\",\"x\":[4.665143,4.632325],\"y\":[9.024782,9.077767],\"type\":\"scatter\"},{\"name\":\"segment\",\"x\":[4.632325,4.601123],\"y\":[9.077767,9.128143],\"type\":\"scatter\"},{\"name\":\"segment\",\"x\":[4.601123,4.567984],\"y\":[9.128143,9.170279],\"type\":\"scatter\"},{\"name\":\"segment\",\"x\":[4.567984,4.533863],\"y\":[9.170279,9.237874],\"type\":\"scatter\"},{\"name\":\"segment\",\"x\":[4.533863,4.478833],\"y\":[9.237874,9.303662],\"type\":\"scatter\"},{\"name\":\"segment\",\"x\":[4.478833,4.441566],\"y\":[9.303662,9.357551],\"type\":\"scatter\"},{\"name\":\"segment\",\"x\":[4.441566,4.421099],\"y\":[9.357551,9.38715],\"type\":\"scatter\"},{\"name\":\"4.235696187041828\",\"x\":[2.662271,2.734805591836735,2.8073401836734693,2.879874775510204,2.952409367346939,3.0249439591836733,3.097478551020408,3.170013142857143,3.2425477346938774,3.315082326530612,3.387616918367347,3.4601515102040814,3.5326861020408162,3.605220693877551,3.6777552857142854,3.7502898775510207,3.822824469387755,3.8953590612244895,3.9678936530612248,4.040428244897959,4.1129628367346935,4.185497428571429,4.258032020408163,4.330566612244898,4.403101204081633,4.475635795918367,4.548170387755102,4.620704979591837,4.693239571428571,4.765774163265306,4.838308755102041,4.910843346938775,4.98337793877551,5.055912530612245,5.128447122448979,5.200981714285714,5.273516306122449,5.346050897959183,5.418585489795918,5.491120081632653,5.563654673469388,5.636189265306122,5.708723857142857,5.781258448979592,5.853793040816326,5.926327632653061,5.9988622244897964,6.07139681632653,6.143931408163265,6.216466],\"y\":[6.436248,6.3469454285126865,6.2597473638305425,6.174653805953566,6.091664754881759,6.01078021061512,5.932000173153649,5.855324642497347,5.780753618646214,5.708287101600251,5.637925091359455,5.569667587923828,5.503514591293369,5.439466101468081,5.37752211844796,5.317682642233008,5.259947672823223,5.20431721021861,5.150791254419163,5.099369805424887,5.050052863235779,5.002840427851837,4.957732499273067,4.914729077499463,4.87383016253103,4.835035754367763,4.798345853009668,4.763760458456739,4.73127957070898,4.70090318976639,4.672631315628968,4.646463948296716,4.62240108776963,4.600442734047714,4.580588887130967,4.562839547019388,4.547194713712978,4.533654387211738,4.522218567515666,4.512887254624761,4.505660448539027,4.5005381492584595,4.497520356783062,4.496607071112833,4.497798292247772,4.501094020187882,4.506494254933158,4.513998996483604,4.523608244839217,4.535322000000001],\"type\":\"scatter\"},{\"name\":\"7.434959374984519\",\"x\":[6.216466,6.33071993877551,6.44497387755102,6.55922781632653,6.67348175510204,6.787735693877551,6.901989632653061,7.016243571428571,7.130497510204082,7.244751448979591,7.359005387755102,7.473259326530612,7.587513265306122,7.701767204081632,7.816021142857142,7.930275081632653,8.044529020408163,8.158782959183673,8.273036897959184,8.387290836734694,8.501544775510204,8.615798714285713,8.730052653061225,8.844306591836734,8.958560530612244,9.072814469387755,9.187068408163265,9.301322346938775,9.415576285714286,9.529830224489796,9.644084163265306,9.758338102040817,9.872592040816325,9.986845979591838,10.101099918367346,10.215353857142857,10.329607795918367,10.443861734693877,10.558115673469388,10.672369612244898,10.786623551020408,10.900877489795917,11.01513142857143,11.129385367346938,11.24363930612245,11.357893244897959,11.472147183673469,11.58640112244898,11.70065506122449,11.814909],\"y\":[4.535322000000001,4.486831694446984,4.443562973904257,4.405515838371814,4.372690287849661,4.345086322337798,4.322703941836217,4.305543146344924,4.293603935863917,4.286886310393202,4.285390269932769,4.289115814482624,4.298062944042769,4.3122316586132,4.331621958193917,4.356233842784926,4.386067312386219,4.421122366997798,4.461399006619665,4.506897231251816,4.557617040894259,4.613558435546988,4.674721415210005,4.741105979883306,4.812712129566897,4.889539864260776,4.971589183964941,5.058860088679392,5.151352578404129,5.249066653139156,5.352002312884469,5.460159557640068,5.573538387405957,5.692138802182139,5.815960801968597,5.945004386765344,6.079269556572385,6.218756311389708,6.3634646512173205,6.513394576055216,6.668546085903401,6.828919180761876,6.9945138606306365,7.165330125509687,7.341367975399017,7.5226274102986395,7.709108430208548,7.900811035128747,8.097735225059228,8.299881],\"type\":\"scatter\"},{\"name\":\"3.4018402596334143\",\"x\":[6.216466,6.279522020408163,6.342578040816326,6.4056340612244895,6.468690081632652,6.531746102040816,6.5948021224489795,6.657858142857142,6.720914163265306,6.783970183673469,6.847026204081632,6.910082224489796,6.973138244897958,7.036194265306122,7.099250285714286,7.162306306122448,7.225362326530612,7.288418346938775,7.351474367346938,7.414530387755102,7.477586408163265,7.540642428571428,7.603698448979591,7.6667544693877545,7.729810489795918,7.792866510204081,7.855922530612244,7.918978551020407,7.982034571428571,8.045090591836734,8.108146612244898,8.17120263265306,8.234258653061223,8.297314673469387,8.36037069387755,8.423426714285714,8.486482734693876,8.54953875510204,8.612594775510203,8.675650795918367,8.73870681632653,8.801762836734692,8.864818857142856,8.92787487755102,8.990930897959183,9.053986918367347,9.117042938775509,9.180098959183672,9.243154979591836,9.306211],\"y\":[4.535321999999997,4.516753848403063,4.499776121490013,4.48438881926085,4.470591941715574,4.458385488854182,4.4477694606766764,4.4387438571830575,4.431308678373327,4.425463924247479,4.421209594805518,4.418545690047441,4.417472209973253,4.417989154582948,4.420096523876529,4.4237943178539965,4.429082536515349,4.435961179860591,4.444430247889715,4.454489740602725,4.466139657999623,4.479380000080406,4.494210766845075,4.510631958293629,4.528643574426074,4.548245615242401,4.569438080742611,4.592220970926709,4.616594285794694,4.642558025346563,4.670112189582319,4.69925677850196,4.729991792105489,4.7623172303929024,4.796233093364199,4.831739381019386,4.868836093358457,4.907523230381415,4.947800792088257,4.98966877847899,5.033127189553603,5.078176025312102,5.124815285754488,5.173044970880763,5.222865080690919,5.2742756151849655,5.3272765743628945,5.38186795822471,5.438049766770412,5.495822],\"type\":\"scatter\"},{\"name\":\"3.37595256015761\",\"x\":[3.110509,3.17389587755102,3.237282755102041,3.300669632653061,3.3640565102040814,3.427443387755102,3.4908302653061223,3.554217142857143,3.617604020408163,3.680990897959184,3.744377775510204,3.8077646530612244,3.871151530612245,3.9345384081632653,3.9979252857142855,4.061312163265306,4.124699040816326,4.188085918367347,4.251472795918367,4.314859673469387,4.378246551020408,4.4416334285714285,4.505020306122448,4.568407183673469,4.63179406122449,4.69518093877551,4.758567816326531,4.821954693877551,4.8853415714285715,4.948728448979592,5.012115326530612,5.075502204081633,5.138889081632653,5.202275959183673,5.265662836734694,5.3290497142857145,5.392436591836734,5.455823469387755,5.519210346938776,5.5825972244897955,5.645984102040816,5.709370979591837,5.772757857142857,5.836144734693877,5.899531612244898,5.962918489795918,6.0263053673469384,6.089692244897959,6.153079122448979,6.216466],\"y\":[5.305434999999999,5.25114660420485,5.19846536690797,5.147391288109356,5.09792436780901,5.050064606006931,5.003812002703119,4.959166557897574,4.916128271590297,4.874697143781287,4.834873174470543,4.796656363658068,4.760046711343859,4.725044217527918,4.691648882210243,4.6598607053908365,4.629679687069698,4.601105827246824,4.574139125922219,4.548779583095882,4.525027198767811,4.502881972938008,4.482343905606472,4.463412996773202,4.446089246438199,4.430372654601464,4.416263221262997,4.403760946422797,4.392865830080863,4.383577872237198,4.3758970728918,4.369823432044668,4.365356949695804,4.362497625845207,4.361245460492877,4.361600453638815,4.36356260528302,4.367131915425491,4.372308384066231,4.379092011205238,4.38748279684251,4.397480740978051,4.4090858436118605,4.422298104743934,4.437117524374277,4.453544102502888,4.471577839129764,4.4912187342549075,4.512466787878319,4.535321999999997],\"type\":\"scatter\"},{\"name\":\"2.0514716619768647\",\"x\":[4.376073,4.413632040816326,4.451191081632653,4.488750122448979,4.526309163265306,4.563868204081633,4.601427244897959,4.638986285714285,4.676545326530612,4.7141043673469385,4.751663408163265,4.789222448979592,4.826781489795918,4.864340530612244,4.901899571428571,4.939458612244898,4.977017653061225,5.014576693877551,5.052135734693877,5.089694775510203,5.12725381632653,5.164812857142857,5.202371897959184,5.23993093877551,5.277489979591836,5.315049020408163,5.3526080612244895,5.390167102040816,5.427726142857143,5.465285183673469,5.502844224489795,5.540403265306122,5.577962306122449,5.615521346938775,5.653080387755102,5.690639428571428,5.728198469387754,5.7657575102040814,5.803316551020408,5.840875591836735,5.878434632653061,5.915993673469387,5.953552714285713,5.9911117551020405,6.028670795918367,6.066229836734694,6.10378887755102,6.141347918367346,6.1789069591836725,6.216466],\"y\":[5.368352,5.337808844903495,5.3078299624258065,5.278415352566935,5.24956501532688,5.221278950705641,5.1935571587032205,5.166399639319617,5.13980639255483,5.11377741840886,5.088312716881707,5.063412287973372,5.039076131683853,5.015304248013152,4.992096636961265,4.969453298528197,4.947374232713947,4.925859439518513,4.904908918941897,4.884522670984097,4.864700695645115,4.845442992924949,4.826749562823598,4.808620405341067,4.791055520477352,4.774054908232454,4.757618568606373,4.74174650159911,4.726438707210663,4.711695185441032,4.69751593629022,4.683900959758223,4.670850255845044,4.6583638245506815,4.6464416658751375,4.635083779818411,4.624290166380499,4.614060825561404,4.604395757361129,4.595294961779667,4.586758438817023,4.578786188473197,4.571378210748188,4.564534505641998,4.558255073154623,4.552539913286065,4.547389026036324,4.5428024114054,4.538780069393292,4.535322000000001],\"type\":\"scatter\"},{\"name\":\"1.4673424711242775\",\"x\":[6.245008,6.266309897959184,6.287611795918368,6.308913693877551,6.330215591836735,6.351517489795919,6.3728193877551025,6.394121285714286,6.41542318367347,6.4367250816326536,6.458026979591837,6.479328877551021,6.500630775510205,6.521932673469388,6.543234571428572,6.564536469387756,6.585838367346939,6.607140265306123,6.628442163265307,6.6497440612244905,6.671045959183674,6.692347857142858,6.7136497551020415,6.734951653061225,6.756253551020409,6.777555448979593,6.798857346938776,6.82015924489796,6.841461142857144,6.8627630408163265,6.88406493877551,6.905366836734694,6.926668734693878,6.947970632653061,6.969272530612245,6.990574428571429,7.011876326530612,7.033178224489796,7.05448012244898,7.075782020408163,7.097083918367347,7.118385816326531,7.1396877142857145,7.160989612244898,7.182291510204082,7.2035934081632655,7.224895306122449,7.246197204081633,7.267499102040817,7.288801],\"y\":[4.859340000000001,4.869665534469909,4.880172577282484,4.890861128437723,4.901731187935628,4.912782755776197,4.924015831959432,4.9354304164853335,4.947026509353899,4.958804110565129,4.970763220119027,4.982903838015588,4.995225964254816,5.007729598836709,5.020414741761266,5.033281393028492,5.04632955263838,5.059559220590934,5.072970396886156,5.086563081524039,5.100337274504589,5.114292975827807,5.128430185493688,5.142748903502232,5.1572491298534455,5.171930864547322,5.186794107583866,5.201838858963075,5.217065118684948,5.232472886749488,5.248062163156693,5.263832947906561,5.279785240999097,5.2959190424342975,5.312234352212164,5.328731170332695,5.345409496795892,5.362269331601754,5.379310674750283,5.396533526241475,5.413937886075335,5.431523754251858,5.449291130771044,5.4672400156329,5.48537040883742,5.503682310384605,5.522175720274456,5.5408506385069725,5.5597070650821525,5.578745000000001],\"type\":\"scatter\"},{\"name\":\"3.034478103834143\",\"x\":[6.245008,6.283557020408163,6.322106040816327,6.36065506122449,6.399204081632654,6.4377531020408165,6.47630212244898,6.514851142857143,6.553400163265306,6.59194918367347,6.630498204081633,6.6690472244897965,6.707596244897959,6.746145265306123,6.784694285714286,6.82324330612245,6.861792326530613,6.9003413469387755,6.938890367346939,6.977439387755102,7.015988408163266,7.054537428571429,7.093086448979593,7.1316354693877555,7.170184489795918,7.208733510204082,7.247282530612245,7.285831551020408,7.324380571428572,7.3629295918367355,7.401478612244898,7.440027632653061,7.478576653061225,7.517125673469388,7.555674693877551,7.5942237142857145,7.632772734693878,7.671321755102041,7.709870775510204,7.748419795918368,7.786968816326531,7.825517836734694,7.864066857142857,7.902615877551021,7.941164897959184,7.979713918367347,8.01826293877551,8.056811959183674,8.095360979591836,8.13391],\"y\":[4.8593399999999995,4.887955855331197,4.917166121452164,4.946970798362903,4.977369886063416,5.008363384553697,5.0399512938337505,5.072133613903578,5.104910344763173,5.1382814864125415,5.172247038851683,5.206807002080595,5.24196137609928,5.277710160907734,5.31405335650596,5.35099096289396,5.388522980071729,5.426649408039269,5.465370246796583,5.504685496343669,5.544595156680526,5.585099227807152,5.626197709723552,5.667890602429724,5.710177905925667,5.7530596202113795,5.7965357452868655,5.840606281152123,5.885271227807152,5.930530585251953,5.976384353486525,6.0228325325108685,6.069875122324985,6.11751212292887,6.16574353432253,6.21456935650596,6.263989589479163,6.3140042332421356,6.36461328779488,6.415816753137397,6.467614629269686,6.520006916191743,6.572993613903575,6.626574722405179,6.680750241696554,6.735520171777699,6.790884512648619,6.8468432643093085,6.903396426759768,6.960543999999999],\"type\":\"scatter\"},{\"name\":\"1.8868821469047503\",\"x\":[4.87216,4.8906394489795915,4.909118897959184,4.927598346938775,4.9460777959183675,4.964557244897959,4.983036693877551,5.001516142857143,5.019995591836735,5.038475040816326,5.056954489795919,5.07543393877551,5.093913387755102,5.112392836734694,5.130872285714286,5.1493517346938775,5.167831183673469,5.186310632653061,5.204790081632653,5.223269530612245,5.241748979591836,5.260228428571429,5.27870787755102,5.297187326530612,5.315666775510204,5.334146224489796,5.352625673469388,5.37110512244898,5.389584571428571,5.408064020408164,5.426543469387755,5.445022918367346,5.463502367346939,5.481981816326531,5.5004612653061224,5.518940714285714,5.537420163265306,5.555899612244898,5.57437906122449,5.592858510204081,5.611337959183674,5.629817408163265,5.648296857142857,5.666776306122449,5.685255755102041,5.7037352040816325,5.722214653061224,5.740694102040816,5.7591735510204085,5.777653],\"y\":[6.078594999999999,6.074461614035287,6.070464824084413,6.066604630147374,6.062881032224169,6.059294030314802,6.05584362441927,6.052529814537574,6.049352600669712,6.046311982815689,6.0434079609755,6.040640535149145,6.038009705336628,6.035515471537947,6.0331578337531,6.030936791982089,6.028852346224915,6.026904496481576,6.025093242752074,6.023418585036405,6.021880523334573,6.020479057646578,6.019214187972417,6.018085914312092,6.017094236665604,6.0162391550329515,6.015520669414133,6.014938779809151,6.014493486218006,6.014184788640695,6.014012687077221,6.013977181527583,6.014078271991781,6.014315958469812,6.014690240961681,6.015201119467386,6.015848593986925,6.016632664520301,6.0175533310675124,6.01861059362856,6.019804452203442,6.021134906792161,6.022601957394716,6.024205604011106,6.025945846641331,6.027822685285393,6.029836119943291,6.0319861506150225,6.034272777300593,6.036695999999998],\"type\":\"scatter\"},{\"name\":\"1.5205979265596157\",\"x\":[5.56104426,5.563068377142857,5.5650924942857145,5.567116611428571,5.569140728571429,5.571164845714286,5.5731889628571425,5.57521308,5.577237197142857,5.579261314285715,5.581285431428571,5.583309548571428,5.585333665714286,5.587357782857143,5.5893819,5.591406017142857,5.593430134285715,5.5954542514285714,5.597478368571428,5.599502485714286,5.601526602857143,5.60355072,5.605574837142857,5.607598954285714,5.6096230714285715,5.611647188571428,5.613671305714286,5.615695422857143,5.6177195399999995,5.619743657142857,5.621767774285714,5.623791891428572,5.625816008571428,5.627840125714285,5.629864242857143,5.63188836,5.633912477142857,5.635936594285714,5.637960711428572,5.6399848285714285,5.642008945714285,5.644033062857143,5.64605718,5.648081297142857,5.650105414285714,5.652129531428571,5.6541536485714285,5.656177765714285,5.658201882857143,5.660226],\"y\":[6.459310499999999,6.464161627501675,6.469014393823436,6.473868798965278,6.478724842927205,6.483582525709214,6.488441847311306,6.493302807733484,6.49816540697574,6.503029645038085,6.507895521920509,6.512763037623017,6.51763219214561,6.522502985488285,6.527375417651043,6.532249488633885,6.53712519843681,6.542002547059817,6.546881534502907,6.551762160766083,6.556644425849339,6.561528329752681,6.566413872476104,6.571301054019611,6.576189874383202,6.581080333566875,6.5859724315706325,6.590866168394472,6.595761544038393,6.600658558502401,6.605557211786489,6.610457503890664,6.615359434814919,6.620263004559257,6.62516821312368,6.630075060508186,6.634983546712775,6.639893671737447,6.644805435582202,6.649718838247041,6.654633879731961,6.659550560036966,6.664468879162054,6.669388837107226,6.6743104338724795,6.679233669457816,6.684158543863238,6.689085057088741,6.694013209134329,6.698942999999999],\"type\":\"scatter\"},{\"name\":\"0.6733606747624491\",\"x\":[5.644691,5.65635987755102,5.668028755102041,5.6796976326530615,5.691366510204081,5.703035387755102,5.714704265306122,5.726373142857143,5.738042020408163,5.749710897959184,5.761379775510204,5.773048653061224,5.7847175306122445,5.796386408163265,5.8080552857142855,5.819724163265306,5.831393040816327,5.843061918367347,5.854730795918367,5.866399673469387,5.878068551020408,5.889737428571428,5.901406306122449,5.913075183673469,5.92474406122449,5.93641293877551,5.94808181632653,5.959750693877551,5.971419571428571,5.983088448979592,5.994757326530612,6.006426204081633,6.018095081632652,6.029763959183673,6.0414328367346934,6.053101714285714,6.0647705918367345,6.076439469387755,6.088108346938776,6.099777224489795,6.111446102040816,6.123114979591836,6.134783857142857,6.146452734693877,6.158121612244898,6.169790489795918,6.181459367346939,6.1931282448979585,6.204797122448979,6.216466],\"y\":[4.8895209999999985,4.880985287027901,4.872504039137127,4.864077256327674,4.855704938599542,4.847387085952725,4.839123698387233,4.830914775903059,4.822760318500208,4.814660326178675,4.806614798938462,4.798623736779568,4.790687139701998,4.782805007705747,4.774977340790816,4.767204138957201,4.759485402204913,4.751821130533942,4.744211323944294,4.736655982435959,4.729155106008951,4.721708694663263,4.714316748398893,4.706979267215846,4.699696251114119,4.692467700093708,4.685293614154622,4.678173993296854,4.671108837520407,4.664098146825278,4.657141921211471,4.650240160678987,4.6433928652278205,4.636600034857974,4.629861669569447,4.623177769362243,4.616548334236358,4.609973364191793,4.60345285922855,4.596986819346624,4.59057524454602,4.584218134826738,4.577915490188776,4.5716673106321295,4.5654735961568065,4.559334346762805,4.553249562450123,4.547219243218759,4.541243389068718,4.535321999999997],\"type\":\"scatter\"},{\"name\":\"1.7701009472777745\",\"x\":[5.59912118,5.6034378497959185,5.607754519591837,5.6120711893877555,5.616387859183673,5.620704528979592,5.62502119877551,5.629337868571429,5.633654538367347,5.637971208163266,5.642287877959184,5.646604547755102,5.65092121755102,5.655237887346939,5.659554557142857,5.663871226938776,5.668187896734694,5.672504566530613,5.67682123632653,5.681137906122449,5.685454575918367,5.689771245714286,5.694087915510204,5.698404585306123,5.702721255102041,5.707037924897959,5.711354594693877,5.715671264489796,5.719987934285714,5.724304604081633,5.728621273877551,5.73293794367347,5.737254613469387,5.741571283265306,5.745887953061224,5.750204622857143,5.754521292653061,5.75883796244898,5.763154632244898,5.767471302040816,5.771787971836734,5.776104641632653,5.780421311428571,5.78473798122449,5.789054651020408,5.793371320816327,5.7976879906122445,5.802004660408163,5.8063213302040815,5.810638],\"y\":[6.39507133,6.405334399522961,6.415604922501172,6.425882898934636,6.436168328823346,6.44646121216731,6.456761548966524,6.46706933922099,6.477384582930707,6.487707280095673,6.4980374307158915,6.508375034791358,6.518720092322078,6.529072603308048,6.539432567749269,6.54979998564574,6.560174856997465,6.570557181804437,6.58094696006666,6.591344191784135,6.601748876956861,6.612161015584838,6.622580607668065,6.633007653206543,6.643442152200273,6.65388410464925,6.6643335105534804,6.674790369912962,6.6852546827276935,6.695726448997679,6.706205668722912,6.716692341903396,6.727186468539129,6.737688048630116,6.748197082176353,6.75871356917784,6.7692375096345785,6.779768903546569,6.79030775091381,6.800854051736298,6.81140780601404,6.821969013747032,6.832537674935277,6.843113789578771,6.8536973576775155,6.86428837923151,6.8748868542407555,6.885492782705253,6.896106164625001,6.906727],\"type\":\"scatter\"},{\"name\":\"2.0859599100424524\",\"x\":[4.746343,4.759426865714286,4.7725107314285715,4.7855945971428575,4.7986784628571435,4.811762328571429,4.824846194285715,4.837930060000001,4.851013925714286,4.864097791428572,4.877181657142858,4.890265522857143,4.903349388571429,4.916433254285715,4.92951712,4.942600985714286,4.955684851428572,4.968768717142857,4.981852582857143,4.994936448571429,5.008020314285714,5.02110418,5.034188045714286,5.047271911428572,5.060355777142857,5.073439642857143,5.086523508571428,5.099607374285714,5.11269124,5.125775105714286,5.138858971428571,5.151942837142857,5.165026702857143,5.178110568571428,5.191194434285714,5.2042783,5.2173621657142855,5.2304460314285715,5.243529897142857,5.2566137628571425,5.2696976285714285,5.2827814942857145,5.29586536,5.308949225714286,5.322033091428572,5.335116957142857,5.348200822857143,5.361284688571429,5.374368554285714,5.38745242],\"y\":[6.792254,6.788529217555701,6.784872910128213,6.781285077717538,6.777765720323673,6.774314837946622,6.770932430586381,6.767618498242952,6.764373040916336,6.761196058606531,6.758087551313538,6.755047519037357,6.7520759617779875,6.749172879535429,6.746338272309684,6.743572140100749,6.740874482908627,6.7382453007333165,6.735684593574817,6.73319236143313,6.730768604308254,6.728413322200192,6.726126515108939,6.7239081830345,6.721758325976872,6.719676943936055,6.717664036912052,6.7157196049048595,6.713843647914479,6.712036165940909,6.710297158984153,6.7086266270442065,6.707024570121073,6.70549098821475,6.70402588132524,6.702629249452542,6.701301092596655,6.70004141075758,6.698850203935317,6.697727472129865,6.696673215341225,6.695687433569398,6.694770126814381,6.693921295076178,6.6931409383547855,6.692429056650204,6.691785649962435,6.691210718291479,6.690704261637333,6.6902662799999995],\"type\":\"scatter\"}],                        {\"template\":{\"data\":{\"histogram2dcontour\":[{\"type\":\"histogram2dcontour\",\"colorbar\":{\"outlinewidth\":0,\"ticks\":\"\"},\"colorscale\":[[0.0,\"#0d0887\"],[0.1111111111111111,\"#46039f\"],[0.2222222222222222,\"#7201a8\"],[0.3333333333333333,\"#9c179e\"],[0.4444444444444444,\"#bd3786\"],[0.5555555555555556,\"#d8576b\"],[0.6666666666666666,\"#ed7953\"],[0.7777777777777778,\"#fb9f3a\"],[0.8888888888888888,\"#fdca26\"],[1.0,\"#f0f921\"]]}],\"choropleth\":[{\"type\":\"choropleth\",\"colorbar\":{\"outlinewidth\":0,\"ticks\":\"\"}}],\"histogram2d\":[{\"type\":\"histogram2d\",\"colorbar\":{\"outlinewidth\":0,\"ticks\":\"\"},\"colorscale\":[[0.0,\"#0d0887\"],[0.1111111111111111,\"#46039f\"],[0.2222222222222222,\"#7201a8\"],[0.3333333333333333,\"#9c179e\"],[0.4444444444444444,\"#bd3786\"],[0.5555555555555556,\"#d8576b\"],[0.6666666666666666,\"#ed7953\"],[0.7777777777777778,\"#fb9f3a\"],[0.8888888888888888,\"#fdca26\"],[1.0,\"#f0f921\"]]}],\"heatmap\":[{\"type\":\"heatmap\",\"colorbar\":{\"outlinewidth\":0,\"ticks\":\"\"},\"colorscale\":[[0.0,\"#0d0887\"],[0.1111111111111111,\"#46039f\"],[0.2222222222222222,\"#7201a8\"],[0.3333333333333333,\"#9c179e\"],[0.4444444444444444,\"#bd3786\"],[0.5555555555555556,\"#d8576b\"],[0.6666666666666666,\"#ed7953\"],[0.7777777777777778,\"#fb9f3a\"],[0.8888888888888888,\"#fdca26\"],[1.0,\"#f0f921\"]]}],\"heatmapgl\":[{\"type\":\"heatmapgl\",\"colorbar\":{\"outlinewidth\":0,\"ticks\":\"\"},\"colorscale\":[[0.0,\"#0d0887\"],[0.1111111111111111,\"#46039f\"],[0.2222222222222222,\"#7201a8\"],[0.3333333333333333,\"#9c179e\"],[0.4444444444444444,\"#bd3786\"],[0.5555555555555556,\"#d8576b\"],[0.6666666666666666,\"#ed7953\"],[0.7777777777777778,\"#fb9f3a\"],[0.8888888888888888,\"#fdca26\"],[1.0,\"#f0f921\"]]}],\"contourcarpet\":[{\"type\":\"contourcarpet\",\"colorbar\":{\"outlinewidth\":0,\"ticks\":\"\"}}],\"contour\":[{\"type\":\"contour\",\"colorbar\":{\"outlinewidth\":0,\"ticks\":\"\"},\"colorscale\":[[0.0,\"#0d0887\"],[0.1111111111111111,\"#46039f\"],[0.2222222222222222,\"#7201a8\"],[0.3333333333333333,\"#9c179e\"],[0.4444444444444444,\"#bd3786\"],[0.5555555555555556,\"#d8576b\"],[0.6666666666666666,\"#ed7953\"],[0.7777777777777778,\"#fb9f3a\"],[0.8888888888888888,\"#fdca26\"],[1.0,\"#f0f921\"]]}],\"surface\":[{\"type\":\"surface\",\"colorbar\":{\"outlinewidth\":0,\"ticks\":\"\"},\"colorscale\":[[0.0,\"#0d0887\"],[0.1111111111111111,\"#46039f\"],[0.2222222222222222,\"#7201a8\"],[0.3333333333333333,\"#9c179e\"],[0.4444444444444444,\"#bd3786\"],[0.5555555555555556,\"#d8576b\"],[0.6666666666666666,\"#ed7953\"],[0.7777777777777778,\"#fb9f3a\"],[0.8888888888888888,\"#fdca26\"],[1.0,\"#f0f921\"]]}],\"mesh3d\":[{\"type\":\"mesh3d\",\"colorbar\":{\"outlinewidth\":0,\"ticks\":\"\"}}],\"scatter\":[{\"fillpattern\":{\"fillmode\":\"overlay\",\"size\":10,\"solidity\":0.2},\"type\":\"scatter\"}],\"parcoords\":[{\"type\":\"parcoords\",\"line\":{\"colorbar\":{\"outlinewidth\":0,\"ticks\":\"\"}}}],\"scatterpolargl\":[{\"type\":\"scatterpolargl\",\"marker\":{\"colorbar\":{\"outlinewidth\":0,\"ticks\":\"\"}}}],\"bar\":[{\"error_x\":{\"color\":\"#2a3f5f\"},\"error_y\":{\"color\":\"#2a3f5f\"},\"marker\":{\"line\":{\"color\":\"#E5ECF6\",\"width\":0.5},\"pattern\":{\"fillmode\":\"overlay\",\"size\":10,\"solidity\":0.2}},\"type\":\"bar\"}],\"scattergeo\":[{\"type\":\"scattergeo\",\"marker\":{\"colorbar\":{\"outlinewidth\":0,\"ticks\":\"\"}}}],\"scatterpolar\":[{\"type\":\"scatterpolar\",\"marker\":{\"colorbar\":{\"outlinewidth\":0,\"ticks\":\"\"}}}],\"histogram\":[{\"marker\":{\"pattern\":{\"fillmode\":\"overlay\",\"size\":10,\"solidity\":0.2}},\"type\":\"histogram\"}],\"scattergl\":[{\"type\":\"scattergl\",\"marker\":{\"colorbar\":{\"outlinewidth\":0,\"ticks\":\"\"}}}],\"scatter3d\":[{\"type\":\"scatter3d\",\"line\":{\"colorbar\":{\"outlinewidth\":0,\"ticks\":\"\"}},\"marker\":{\"colorbar\":{\"outlinewidth\":0,\"ticks\":\"\"}}}],\"scattermapbox\":[{\"type\":\"scattermapbox\",\"marker\":{\"colorbar\":{\"outlinewidth\":0,\"ticks\":\"\"}}}],\"scatterternary\":[{\"type\":\"scatterternary\",\"marker\":{\"colorbar\":{\"outlinewidth\":0,\"ticks\":\"\"}}}],\"scattercarpet\":[{\"type\":\"scattercarpet\",\"marker\":{\"colorbar\":{\"outlinewidth\":0,\"ticks\":\"\"}}}],\"carpet\":[{\"aaxis\":{\"endlinecolor\":\"#2a3f5f\",\"gridcolor\":\"white\",\"linecolor\":\"white\",\"minorgridcolor\":\"white\",\"startlinecolor\":\"#2a3f5f\"},\"baxis\":{\"endlinecolor\":\"#2a3f5f\",\"gridcolor\":\"white\",\"linecolor\":\"white\",\"minorgridcolor\":\"white\",\"startlinecolor\":\"#2a3f5f\"},\"type\":\"carpet\"}],\"table\":[{\"cells\":{\"fill\":{\"color\":\"#EBF0F8\"},\"line\":{\"color\":\"white\"}},\"header\":{\"fill\":{\"color\":\"#C8D4E3\"},\"line\":{\"color\":\"white\"}},\"type\":\"table\"}],\"barpolar\":[{\"marker\":{\"line\":{\"color\":\"#E5ECF6\",\"width\":0.5},\"pattern\":{\"fillmode\":\"overlay\",\"size\":10,\"solidity\":0.2}},\"type\":\"barpolar\"}],\"pie\":[{\"automargin\":true,\"type\":\"pie\"}]},\"layout\":{\"autotypenumbers\":\"strict\",\"colorway\":[\"#636efa\",\"#EF553B\",\"#00cc96\",\"#ab63fa\",\"#FFA15A\",\"#19d3f3\",\"#FF6692\",\"#B6E880\",\"#FF97FF\",\"#FECB52\"],\"font\":{\"color\":\"#2a3f5f\"},\"hovermode\":\"closest\",\"hoverlabel\":{\"align\":\"left\"},\"paper_bgcolor\":\"white\",\"plot_bgcolor\":\"#E5ECF6\",\"polar\":{\"bgcolor\":\"#E5ECF6\",\"angularaxis\":{\"gridcolor\":\"white\",\"linecolor\":\"white\",\"ticks\":\"\"},\"radialaxis\":{\"gridcolor\":\"white\",\"linecolor\":\"white\",\"ticks\":\"\"}},\"ternary\":{\"bgcolor\":\"#E5ECF6\",\"aaxis\":{\"gridcolor\":\"white\",\"linecolor\":\"white\",\"ticks\":\"\"},\"baxis\":{\"gridcolor\":\"white\",\"linecolor\":\"white\",\"ticks\":\"\"},\"caxis\":{\"gridcolor\":\"white\",\"linecolor\":\"white\",\"ticks\":\"\"}},\"coloraxis\":{\"colorbar\":{\"outlinewidth\":0,\"ticks\":\"\"}},\"colorscale\":{\"sequential\":[[0.0,\"#0d0887\"],[0.1111111111111111,\"#46039f\"],[0.2222222222222222,\"#7201a8\"],[0.3333333333333333,\"#9c179e\"],[0.4444444444444444,\"#bd3786\"],[0.5555555555555556,\"#d8576b\"],[0.6666666666666666,\"#ed7953\"],[0.7777777777777778,\"#fb9f3a\"],[0.8888888888888888,\"#fdca26\"],[1.0,\"#f0f921\"]],\"sequentialminus\":[[0.0,\"#0d0887\"],[0.1111111111111111,\"#46039f\"],[0.2222222222222222,\"#7201a8\"],[0.3333333333333333,\"#9c179e\"],[0.4444444444444444,\"#bd3786\"],[0.5555555555555556,\"#d8576b\"],[0.6666666666666666,\"#ed7953\"],[0.7777777777777778,\"#fb9f3a\"],[0.8888888888888888,\"#fdca26\"],[1.0,\"#f0f921\"]],\"diverging\":[[0,\"#8e0152\"],[0.1,\"#c51b7d\"],[0.2,\"#de77ae\"],[0.3,\"#f1b6da\"],[0.4,\"#fde0ef\"],[0.5,\"#f7f7f7\"],[0.6,\"#e6f5d0\"],[0.7,\"#b8e186\"],[0.8,\"#7fbc41\"],[0.9,\"#4d9221\"],[1,\"#276419\"]]},\"xaxis\":{\"gridcolor\":\"white\",\"linecolor\":\"white\",\"ticks\":\"\",\"title\":{\"standoff\":15},\"zerolinecolor\":\"white\",\"automargin\":true,\"zerolinewidth\":2},\"yaxis\":{\"gridcolor\":\"white\",\"linecolor\":\"white\",\"ticks\":\"\",\"title\":{\"standoff\":15},\"zerolinecolor\":\"white\",\"automargin\":true,\"zerolinewidth\":2},\"scene\":{\"xaxis\":{\"backgroundcolor\":\"#E5ECF6\",\"gridcolor\":\"white\",\"linecolor\":\"white\",\"showbackground\":true,\"ticks\":\"\",\"zerolinecolor\":\"white\",\"gridwidth\":2},\"yaxis\":{\"backgroundcolor\":\"#E5ECF6\",\"gridcolor\":\"white\",\"linecolor\":\"white\",\"showbackground\":true,\"ticks\":\"\",\"zerolinecolor\":\"white\",\"gridwidth\":2},\"zaxis\":{\"backgroundcolor\":\"#E5ECF6\",\"gridcolor\":\"white\",\"linecolor\":\"white\",\"showbackground\":true,\"ticks\":\"\",\"zerolinecolor\":\"white\",\"gridwidth\":2}},\"shapedefaults\":{\"line\":{\"color\":\"#2a3f5f\"}},\"annotationdefaults\":{\"arrowcolor\":\"#2a3f5f\",\"arrowhead\":0,\"arrowwidth\":1},\"geo\":{\"bgcolor\":\"white\",\"landcolor\":\"#E5ECF6\",\"subunitcolor\":\"white\",\"showland\":true,\"showlakes\":true,\"lakecolor\":\"white\"},\"title\":{\"x\":0.05},\"mapbox\":{\"style\":\"light\"}}}},                        {\"responsive\": true}                    ).then(function(){\n",
       "                            \n",
       "var gd = document.getElementById('470b3d9b-92df-4edb-9fa2-74f9bd82108f');\n",
       "var x = new MutationObserver(function (mutations, observer) {{\n",
       "        var display = window.getComputedStyle(gd).display;\n",
       "        if (!display || display === 'none') {{\n",
       "            console.log([gd, 'removed!']);\n",
       "            Plotly.purge(gd);\n",
       "            observer.disconnect();\n",
       "        }}\n",
       "}});\n",
       "\n",
       "// Listen for the removal of the full notebook cells\n",
       "var notebookContainer = gd.closest('#notebook-container');\n",
       "if (notebookContainer) {{\n",
       "    x.observe(notebookContainer, {childList: true});\n",
       "}}\n",
       "\n",
       "// Listen for the clearing of the current output cell\n",
       "var outputEl = gd.closest('.output');\n",
       "if (outputEl) {{\n",
       "    x.observe(outputEl, {childList: true});\n",
       "}}\n",
       "\n",
       "                        })                };                });            </script>        </div>"
      ]
     },
     "metadata": {},
     "output_type": "display_data"
    }
   ],
   "source": [
    "def arbor_best_cost(fname, alpha, G, root_distance):\n",
    "    arbor = rar.read_arbor_full(fname)\n",
    "    main_root = []\n",
    "    lat_tips = []\n",
    "    line_segments = {}\n",
    "    point_drawing = go.Figure()\n",
    "    for node in arbor.nodes():\n",
    "        if arbor.nodes[node][\"label\"] == (\"main root\") or arbor.nodes[node][\"label\"] == (\"main root base\"):\n",
    "            main_root.append(node)\n",
    "        if arbor.nodes[node][\"label\"] == (\"lateral root tip\"):\n",
    "            lat_tips.append(node)\n",
    "    for i in range(1, len(main_root)):\n",
    "        line_segments[i] = main_root[i - 1], main_root[i]\n",
    "\n",
    "    # for each lateral root tip iterate through every line segment to find lowest costing point on main root\n",
    "    final = []\n",
    "    count = 1\n",
    "    for tip in lat_tips:\n",
    "        print(count)\n",
    "        curr_dist = 0\n",
    "        results = []\n",
    "        firstTime = True\n",
    "        p = tip[0]\n",
    "        q = tip[1]\n",
    "        for seg in line_segments:\n",
    "            x0 = line_segments[seg][0][0]\n",
    "            y0 = line_segments[seg][0][1]\n",
    "            x1 = line_segments[seg][1][0]\n",
    "            y1 = line_segments[seg][1][1]\n",
    "            if firstTime == True:\n",
    "                result = find_best_cost(alpha, G, root_distance, x0, y0, x1, y1, p, q)\n",
    "                curr_dist += length_func(x0, y0, x1, y1)\n",
    "                firstTime = False\n",
    "            else:\n",
    "                result = find_best_cost(alpha, G, root_distance + curr_dist, x0, y0, x1, y1, p, q)\n",
    "                curr_dist += length_func(x0, y0, x1, y1)\n",
    "            results.append(result)\n",
    "        final.append(min(results))\n",
    "        count += 1\n",
    "    pq_drawings = get_tip_drawings(lat_tips)\n",
    "    for p_and_q in pq_drawings:\n",
    "        point_drawing.add_trace(p_and_q)\n",
    "    \n",
    "    segment_drawings = get_line_segment_drawings(line_segments)\n",
    "    for line in segment_drawings:\n",
    "        point_drawing.add_trace(line)\n",
    "\n",
    "    opt_lines = get_opt_to_pq_drawings(G, final)\n",
    "    for opt in opt_lines:\n",
    "        point_drawing.add_trace(opt)\n",
    "    point_drawing.show()\n",
    "    return final\n",
    "\n",
    "old_method = arbor_best_cost('002_3_C_day5.csv', 0.4, 0.2, 0.0)"
   ]
  },
  {
   "cell_type": "code",
   "execution_count": 93,
   "id": "1acb3efc-e973-4656-aff0-912bc1debe10",
   "metadata": {},
   "outputs": [
    {
     "data": {
      "image/png": "[encoded data removed]",
      "text/plain": [
       "<Figure size 640x480 with 1 Axes>"
      ]
     },
     "metadata": {},
     "output_type": "display_data"
    }
   ],
   "source": [
    "coords = {}\n",
    "for coordinate in list(G.nodes):\n",
    "    coords[coordinate] = coordinate\n",
    "nx.draw_networkx(G, pos = coords, with_labels = False, node_size = 2)"
   ]
  },
  {
   "cell_type": "code",
   "execution_count": 99,
   "id": "f81a2d53-4884-44ee-b407-fa36af7e1297",
   "metadata": {},
   "outputs": [
    {
     "name": "stdout",
     "output_type": "stream",
     "text": [
      "([6.44464172727684, 6.460594736785058, 6.476610284749883, 6.487475307750821, 6.510190495727064, 6.518825220789836, 6.520007006239526, 6.521766966811838, 6.5316256563413715, 6.5487937367264415, 6.559728862469433, 6.565325030939841, 6.565146216933902, 6.561017636123532, 6.55008934464812, 6.535722201873948, 6.521266770049958, 6.49841308561587, 6.480105624903483, 6.4525581871579085, 6.413917822883635, 6.382266225886305, 6.349304797482725, 6.324392617688385, 6.302149241633545, 6.278435844898096, 6.251747156579301, 6.230962165392036, 6.207601995070553, 6.174205183093564, 6.09192725335461, 6.042318893860317, 6.000114293861047, 5.946308833862368, 5.878732719425681, 5.819917838445847, 5.75509259401783, 5.706137125918644, 5.652676231716615, 5.599567755266649, 5.555044813113865, 5.510150122880491, 5.479521623081899, 5.443142295172121, 5.404136482865619, 5.363926034614819, 5.338255587762459, 5.316873081565888, 5.271996843651111, 5.255470619143432, 5.236567349728162, 5.220387870308512, 5.1929143752748725, 5.089620534023275, 5.054741753358822, 5.020761988077801, 4.982141807694566, 4.944075087703734, 4.908842916508314, 4.864866089702856, 4.835949448768274, 4.810124188357991, 4.783001869871148, 4.760006861809869, 4.7350169900511, 4.713941942449072, 4.702890238183721, 4.685846226388898, 4.661534417623548, 4.641414343735999, 4.631362984847379, 4.6216310488602055, 4.61114892875116, 4.59924963416332, 4.5871481074668985, 4.555894774454283, 4.547711918451959, 4.537418591111821, 4.52889350047836, 4.520408275468821, 4.51267191456348, 4.507528868922354, 4.502880519066076, 4.499428581138407, 4.497884491436976, 4.496913313398396, 4.496624860588719, 4.497448946158712, 4.502104142420185, 4.506495925224091, 4.516720608515865, 4.526678274115569], [6.396599, 6.321469, 6.246345, 6.195558, 6.134214, 6.102992, 6.06702, 6.013421, 5.957601, 5.888099, 5.831151, 5.769502, 5.707173, 5.643343, 5.573067, 5.504734, 5.443979, 5.375519, 5.328561, 5.275325, 5.214067, 5.168474, 5.123634, 5.091593, 5.053553, 5.012739, 4.973316, 4.946655, 4.926197, 4.902302, 4.831859, 4.798517, 4.775816, 4.746409, 4.715112, 4.690156, 4.667379, 4.649787, 4.631919, 4.612142, 4.595192, 4.577735, 4.566698, 4.547372, 4.5225, 4.499786, 4.487866, 4.483861, 4.477665, 4.466524, 4.47293, 4.478334, 4.465603, 4.433502, 4.431595, 4.428172, 4.427667, 4.428684, 4.432556, 4.441577, 4.449898, 4.463395, 4.479895, 4.493133, 4.508193, 4.520158, 4.526664, 4.529863, 4.532419, 4.518929, 4.515792, 4.517157, 4.52382, 4.52996, 4.534957, 4.554144, 4.557282, 4.565793, 4.575112, 4.585713, 4.595558, 4.605981, 4.617839, 4.628492, 4.635584, 4.639858, 4.641827, 4.639139, 4.64029, 4.665803, 4.689963, 4.676047])\n",
      "([8.265845849098685, 8.226392319149479, 8.193618505108542, 8.148948480721153, 8.116570725357377, 8.062834633056095, 8.018752883626618, 7.979564908834092, 7.938331905294682, 7.892521196663267, 7.851658290775163, 7.80885693757989, 7.758653475917566, 7.720020035104994, 7.679446949370291, 7.637008775617886, 7.592781168742615, 7.544074314791377, 7.500355562724685, 7.454965124986625, 7.407984608704158, 7.356572143963316, 7.30447511276088, 7.265910198304258, 7.21353957895089, 7.174632741085038, 7.12204783064978, 7.080503754201253, 7.032107474529212, 6.996462782398275, 6.947782536192456, 6.911796582512846, 6.865662919348868, 6.821645657401277, 6.782125201760138, 6.741201893924526, 6.69640528345046, 6.656098483345424, 6.618620102568471, 6.569447742860213, 6.522267655426106, 6.479642992528657, 6.45141220871421, 6.395570423276606, 6.344317933887428, 6.274700422936654, 6.248087762652194, 6.195336997674133, 6.168757826836043, 5.83416840214467, 5.803355174954781, 5.762497325871344, 5.717691905995604, 5.637594314329419, 5.577755851789021, 5.501622420497128, 5.441847903892683, 5.389915660247311, 5.328008350824614, 5.27016696866648, 5.212782515957283, 5.153819619751253, 5.102575527780036, 5.040804257128471, 4.97572830103265, 4.9079143411281265, 4.842638258156178, 4.7803149009547035, 4.725071890619141, 4.65754159330362, 4.578000095278506, 4.558323830515077, 4.534858492489041, 4.4919755763270715, 4.462960649620113, 4.4355642018853825, 4.402528612472411, 4.384125616697709, 4.363115677341657, 4.344594901778086, 4.3285915635891765, 4.321784846639428, 4.312271736719852, 4.301501527354166, 4.29348910673971, 4.287820946335513, 4.285390275906391, 4.285766455939914, 4.294751711112568, 4.296940402552883, 4.300070187499786, 4.304310465631511, 4.308678360942723, 4.3132538676339784, 4.320256283431563, 4.326064377444064, 4.333601338438768, 4.339332434035487, 4.344100068514141, 4.353536309377608, 4.362732045283746, 4.372465318795717, 4.38357262084844, 4.395006101270706, 4.406619349179724, 4.416553946847504, 4.427256590650293, 4.453667541599021, 4.472288459196815, 4.490067452584242, 4.506437648941898], [8.26273, 8.215343, 8.172654, 8.126883, 8.091157, 8.045027, 7.999311, 7.95554, 7.912479, 7.867598, 7.824576, 7.782306, 7.735658, 7.692154, 7.649376, 7.607362, 7.566151, 7.52333, 7.482163, 7.44184, 7.402396, 7.361531, 7.317228, 7.277926, 7.23415, 7.195242, 7.152001, 7.111178, 7.066234, 7.026453, 6.982022, 6.942623, 6.901211, 6.8589, 6.818195, 6.778354, 6.73705, 6.69726, 6.662236, 6.62445, 6.585646, 6.548129, 6.524569, 6.48916, 6.45041, 6.387568, 6.372359, 6.345452, 6.330833, 6.160232, 6.123541, 6.088147, 6.051001, 5.996578, 5.956815, 5.913851, 5.868665, 5.82845, 5.791787, 5.756533, 5.723934, 5.692846, 5.664959, 5.638061, 5.601347, 5.561196, 5.525023, 5.490719, 5.464668, 5.438958, 5.437161, 5.425496, 5.412932, 5.397234, 5.38724, 5.378561, 5.366964, 5.36241, 5.36612, 5.366839, 5.364562, 5.362023, 5.348396, 5.329599, 5.310891, 5.288106, 5.259102, 5.242025, 5.231591, 5.221005, 5.206524, 5.192169, 5.178312, 5.167464, 5.155789, 5.141501, 5.127356, 5.114478, 5.108631, 5.102115, 5.092759, 5.082758, 5.07126, 5.056283, 5.037938, 5.019453, 5.00301, 4.970781, 4.942895, 4.91306, 4.884163])\n",
      "([5.474106191582635, 5.437861846378869, 5.397671747119773, 5.356279147551408, 5.308529850127428, 5.260534653720146, 5.204947637721816, 5.167882882602237, 5.125003470539605, 5.091633084968949, 5.058876034392707, 5.026768539551096, 4.994470572600385, 4.9663014429338705, 4.927173402936219, 4.902054926375431, 4.866285335331199, 4.844786500162998, 4.81912440633079, 4.801266396183356, 4.781025156520748, 4.764794748106546, 4.712231441726338, 4.6971744865841405, 4.679538010419156, 4.665470281710514, 4.642804399323245, 4.620062434077905, 4.6009191287045805, 4.57635603142843, 4.556053187518348, 4.539286162807871, 4.524506756193746, 4.513219613294982, 4.500390737603249, 4.485590917895141, 4.477299774404898, 4.471648822628902, 4.461381216386668, 4.454148585347744, 4.447534196965426, 4.436223224493952, 4.429187417436465, 4.42473170983649, 4.421656184465311, 4.4191040007982245, 4.417778663182581, 4.417448005673355, 4.418088709927456, 4.419201474199545, 4.422865168935319, 4.426087592809415, 4.43390798574468, 4.439643359641352, 4.443889702773021, 4.45803301609361, 4.4627384710942675, 4.467562693333756, 4.47628195230193, 4.515764467169678], [5.486183, 5.469871, 5.453245, 5.439048, 5.424106, 5.410268, 5.393738, 5.380252, 5.358507, 5.338504, 5.313204, 5.284201, 5.250433, 5.221824, 5.180837, 5.164693, 5.143306, 5.128024, 5.113143, 5.098993, 5.078591, 5.061826, 5.026237, 5.011925, 4.996609, 4.985328, 4.971634, 4.953862, 4.939496, 4.919915, 4.901161, 4.880339, 4.857658, 4.836508, 4.804348, 4.766197, 4.753652, 4.745723, 4.739052, 4.732693, 4.727816, 4.721032, 4.711735, 4.711075, 4.711819, 4.716245, 4.72318, 4.728668, 4.743263, 4.752672, 4.75918, 4.757091, 4.747769, 4.75627, 4.758901, 4.784178, 4.78386, 4.783551, 4.788123, 4.868367])\n",
      "([5.266492166903884, 5.209089948638853, 5.150386112423584, 5.077962179249429, 5.008333696852196, 4.949476031809711, 4.883721155926716, 4.833096263459478, 4.78322022957691, 4.73488687864591, 4.6910723798082925, 4.630435217111041, 4.611700208385043, 4.589049796663701, 4.567396472264116, 4.547918099465251, 4.5272265409440315, 4.509747947616998, 4.492295383334441, 4.478310865979468, 4.4620924001869575, 4.449326529349983, 4.436128680861554, 4.425250032208196, 4.412923797558303, 4.385791367777067, 4.3819026872434055, 4.3757323326797115, 4.368934512229637, 4.364520930902408, 4.36168168156519, 4.36135380247755, 4.363274391395371, 4.367365586002593, 4.383025307354888, 4.392306346095489, 4.406011711077839, 4.417245210294765, 4.431829145823781, 4.4525412248025384, 4.468595149176659, 4.499175675740397], [5.297486, 5.28774, 5.27902, 5.27581, 5.270439, 5.258114, 5.233518, 5.211723, 5.199956, 5.190014, 5.170183, 5.134927, 5.127602, 5.120279, 5.114442, 5.110345, 5.104064, 5.102467, 5.099188, 5.097676, 5.090196, 5.087676, 5.079818, 5.074149, 5.061397, 5.046989, 5.038158, 5.030416, 5.022555, 5.01244, 5.012864, 5.01628, 5.022199, 5.025163, 5.049296, 5.045268, 5.038448, 5.035736, 5.042253, 5.058527, 5.06699, 5.065788])\n",
      "([5.332859829913168, 5.279071010220303, 5.2134516188998665, 5.163239590629703, 5.082933928209344, 5.036942827694994, 4.980497727049213, 4.928825301210762, 4.904255860013755, 4.866435749362551, 4.8264373390937445, 4.792855442026979, 4.728827375955165, 4.69735214540515, 4.674715034770758, 4.651846344224213, 4.631806525364047, 4.612673162450813, 4.582601034052724, 4.571097992798174, 4.553373553589047, 4.5507573936479275], [5.360281, 5.347702, 5.34126, 5.33781, 5.319225, 5.321218, 5.316041, 5.305674, 5.299244, 5.288924, 5.273951, 5.265966, 5.242111, 5.22662, 5.228125, 5.224863, 5.223177, 5.226119, 5.23425, 5.218214, 5.192449, 5.191215])\n",
      "([5.5629027122823, 5.524143773039691, 5.50239087830729, 5.259747493536453, 5.239702670846578, 5.228217642728412, 5.211677703832738, 5.198339246968457, 4.996961434895518, 4.946808085802612, 4.912772561381118, 4.870408812694106], [5.534342, 5.467161, 5.439526, 5.353479, 5.308104, 5.28183, 5.233472, 5.203302, 4.929847, 4.878944, 4.867132, 4.81044])\n",
      "([6.912250710879743, 6.846892941515501, 6.727133349040065, 6.630678740263077, 6.537909731677406, 6.413463652075805, 6.330727384614702, 6.229838961651774, 6.136495584003972, 6.080567259145823, 6.006663216904183, 5.920873931287746, 5.812420322955747, 5.742577884597978, 5.6529526802230965, 5.610178331633364, 5.552150302492343, 5.507139086173588, 5.440914373755893, 5.420125966213302, 5.381040903811897, 5.34733564189955, 5.3099184499234475, 5.272820308724501, 5.236060660917692, 5.199663252344182, 5.16589057317203, 5.121359155989486, 5.06185146807154, 5.0257517075875455, 4.987338700246042, 4.933973565822258, 4.895640564816399, 4.856285268047115, 4.822618454762266, 4.795707833661545, 4.771253195109342, 4.74126868558589, 4.719537760791895], [6.950602, 6.927807, 6.891397, 6.857581, 6.824424, 6.78117, 6.751742, 6.724938, 6.693375, 6.669982, 6.628806, 6.584124, 6.526028, 6.492366, 6.456651, 6.432375, 6.388255, 6.359091, 6.321094, 6.302774, 6.277751, 6.253315, 6.230499, 6.208233, 6.186519, 6.165364, 6.146062, 6.125364, 6.083551, 6.066291, 6.056745, 6.039612, 6.003476, 5.969874, 5.943367, 5.908361, 5.871935, 5.813929, 5.774419])\n",
      "([6.068276779840751, 6.059108805558244, 6.049564152214935, 6.040721066554813, 6.034365860577333, 6.030382198687631, 6.026207926035849, 6.022248499237563, 6.015207221093739, 6.013998704611646, 6.016960273914709], [6.092409, 6.10433, 6.121758, 6.143533, 6.164232, 6.178906, 6.190775, 6.202368, 6.244304, 6.277101, 6.360853])\n",
      "([6.713275629127773, 6.7568847262601635, 6.8087097011993585, 7.013683245586073, 7.026604031384373, 6.991246212800862], [6.633495, 6.54759, 6.498167, 6.223609, 6.153596, 6.038742])\n",
      "([4.838012711342129, 4.571000545450305], [4.867369, 4.873067])\n",
      "([6.870839756581683, 6.830675635754779, 6.76276796123818, 6.728011857007995, 6.689251829324594, 6.651931600320351, 6.607207499968848, 6.48875461282313, 6.331098393442004], [6.884087, 6.855294, 6.81533, 6.788202, 6.749005, 6.71117, 6.670082, 6.595202, 6.503003])\n",
      "([6.778051353081803, 6.758942324680829, 6.74214074179959, 6.724976579325587, 6.714873431086552, 6.705173797606095, 6.6972800691425425, 6.6929453048379575], [6.78508, 6.778902, 6.772724, 6.765286, 6.753973, 6.735339, 6.716941, 6.703827])\n"
     ]
    },
    {
     "data": {
      "text/plain": [
       "141.1971852925509"
      ]
     },
     "execution_count": 99,
     "metadata": {},
     "output_type": "execute_result"
    }
   ],
   "source": [
    "dist = 0\n",
    "for thing in old_method:\n",
    "    main_root = thing[4], thing[5]\n",
    "    lateral_tip = thing[6], thing[7]\n",
    "    print(modified_fill_lateral_root(0.2, G, G_opt, main_root, lateral_tip))\n",
    "    dist += modified_calculate_distance(0.2, G, G_opt, main_root, lateral_tip)\n",
    "dist"
   ]
  },
  {
   "cell_type": "code",
   "execution_count": 71,
   "id": "08c6a093-8b35-4865-af2f-c2192af6ed02",
   "metadata": {},
   "outputs": [],
   "source": [
    "def modified_calculate_distance(gravity, G, G_opt, main_root, lateral_tip):\n",
    "    opt_y_coords, actual_y_coords = modified_fill_lateral_root(gravity, G, G_opt, main_root, lateral_tip)\n",
    "    distances = []\n",
    "\n",
    "    for x in range(len(opt_y_coords)):\n",
    "        diff_square = (opt_y_coords[x] - actual_y_coords[x]) ** 2\n",
    "        distances.append(diff_square)\n",
    "    return math.fsum(distances)\n",
    "\n",
    "def modified_fill_lateral_root(gravity, G, G_opt, main_root, lateral_tip) :\n",
    "\n",
    "    ## This method uses the lateral tip and main root to fill in points of the lateral root\n",
    "    ## in order to perform distance calculation\n",
    "\n",
    "    # get coefficients\n",
    "    if gravity == 0:\n",
    "        m, y_int = modified_line_equation(gravity, main_root, lateral_tip)\n",
    "    else:\n",
    "        b, c = modified_line_equation(gravity, main_root, lateral_tip)\n",
    "\n",
    "\n",
    "    observed = {}\n",
    "    optimal = {}\n",
    "    observed, optimal = ps.create_dict(G, G_opt)\n",
    "    backwards = {}\n",
    "\n",
    "    ## reverses observed dictionary\n",
    "    for node in reversed(observed):\n",
    "        backwards[node] = observed[node]\n",
    "\n",
    "    tip_found = False\n",
    "    encountered_observed = []\n",
    "    index = len(G.nodes) - 2\n",
    "\n",
    "    ## loop backwards\n",
    "    for node in backwards :\n",
    "        if G.nodes[node]['label'] == \"lateral root tip\" and tip_found:\n",
    "            break\n",
    "        if lateral_tip == node:\n",
    "            tip_found = True\n",
    "           # print(\"tip was found\")\n",
    "            continue\n",
    "        if tip_found == True and (list(G.nodes(data = True))[index][1][\"label\"] == \"lateral root\"):\n",
    "           # print(\"not a tip\")\n",
    "            encountered_observed.append(node)\n",
    "        index -= 1\n",
    "\n",
    "    ## need to calculate points based on observed x-coordinates and line equation\n",
    "    x_coords = []\n",
    "    y_coords = []\n",
    "    count = -1\n",
    "    for point in encountered_observed:\n",
    "        for coords in point:\n",
    "          count += 1\n",
    "          if count % 2 == 0 :\n",
    "              x_coords.append(coords)\n",
    "          else :\n",
    "              y_coords.append(coords)\n",
    "    added_nodes = []\n",
    "    if gravity == 0:\n",
    "        for x in x_coords:\n",
    "            added_nodes.append(m * x + y_int)\n",
    "    else:\n",
    "        for x in x_coords:\n",
    "            added_nodes.append(gravity*x*x + b*x + c)\n",
    "    return added_nodes, y_coords\n",
    "\n",
    "def modified_line_equation(G, main_root, lateral_tip):\n",
    "    x, y = main_root\n",
    "    p, q = lateral_tip\n",
    "    if G == 0:\n",
    "        m = (q - y) / (p - x)\n",
    "        y_int = y - m * x\n",
    "        return m, y_int\n",
    "    else:\n",
    "        b, c = calc_coeff(G, x, y, p, q)\n",
    "        return b, c\n"
   ]
  },
  {
   "cell_type": "code",
   "execution_count": 106,
   "id": "3b3c4d95-98c7-4daf-8914-7ebcd5be1033",
   "metadata": {},
   "outputs": [
    {
     "name": "stdout",
     "output_type": "stream",
     "text": [
      "([6.43791719023307, 6.441129444887746, 6.444406236078674, 6.446658536771731, 6.451442958017686, 6.453288208448239, 6.453541885903031, 6.45392017440113, 6.456050291865502, 6.459804264556813, 6.462224573894509, 6.46347192201853, 6.463431974547888, 6.4625113106068595, 6.460089843218165, 6.45694091860838, 6.453812600289405, 6.448949624974944, 6.445128241685622, 6.439504732839991, 6.431878560808592, 6.425865322770443, 6.419833012776433, 6.415433118613153, 6.41162302631921, 6.407686621905624, 6.403414389119156, 6.400205505525271, 6.396725228627346, 6.391986872992294, 6.381554892072636, 6.376163036072652, 6.372137741921652, 6.367791746404608, 6.363652662603082, 6.361324492214806, 6.360232993249168, 6.360504213353028, 6.361952545863175, 6.364663421403482, 6.367980500180417, 6.372355456862447, 6.375969046972517, 6.380961956183016, 6.387208651666526, 6.394678377973882, 6.400027118563507, 6.404845430746063, 6.416092252927532, 6.420641772510681, 6.426129061316566, 6.431074278939034, 6.440019781586805, 6.480537722752475, 6.497015583192168, 6.51463622473193, 6.536738683786721, 6.560937120719518, 6.585740249564394, 6.6204248212458285, 6.645819981209701, 6.670492187656403, 6.698697693567271, 6.724700593589736, 6.755452148715103, 6.783702694258526, 6.799475209221404, 6.82525004420952, 6.865506179158153, 6.902522191746644, 6.922503967995417, 6.942938039442001, 6.966292399073771, 6.994740326748548, 7.026150980471727, 7.1231423913656045, 7.1538881210782606, 7.197307170743206, 7.238672130754784, 7.286941359009173, 7.340695899165193, 7.385226112527672, 7.437085453099218, 7.491878535850319, 7.52910618261177, 7.568735982950666, 7.597264833814666, 7.673650297303016, 7.779008707650357, 7.839902186643153, 7.944783895016352, 8.025300746144257], [6.396599, 6.321469, 6.246345, 6.195558, 6.134214, 6.102992, 6.06702, 6.013421, 5.957601, 5.888099, 5.831151, 5.769502, 5.707173, 5.643343, 5.573067, 5.504734, 5.443979, 5.375519, 5.328561, 5.275325, 5.214067, 5.168474, 5.123634, 5.091593, 5.053553, 5.012739, 4.973316, 4.946655, 4.926197, 4.902302, 4.831859, 4.798517, 4.775816, 4.746409, 4.715112, 4.690156, 4.667379, 4.649787, 4.631919, 4.612142, 4.595192, 4.577735, 4.566698, 4.547372, 4.5225, 4.499786, 4.487866, 4.483861, 4.477665, 4.466524, 4.47293, 4.478334, 4.465603, 4.433502, 4.431595, 4.428172, 4.427667, 4.428684, 4.432556, 4.441577, 4.449898, 4.463395, 4.479895, 4.493133, 4.508193, 4.520158, 4.526664, 4.529863, 4.532419, 4.518929, 4.515792, 4.517157, 4.52382, 4.52996, 4.534957, 4.554144, 4.557282, 4.565793, 4.575112, 4.585713, 4.595558, 4.605981, 4.617839, 4.628492, 4.635584, 4.639858, 4.641827, 4.639139, 4.64029, 4.665803, 4.689963, 4.676047])\n",
      "([8.268898923012689, 8.233000895912891, 8.203194171779135, 8.162588335475569, 8.133171092884126, 8.084376193452709, 8.044374192645598, 8.008833319336624, 7.9714586876855975, 7.929960333665164, 7.892967189337995, 7.854243018078314, 7.808853537872768, 7.7739483700128815, 7.737313383874383, 7.699019607167386, 7.659139165592439, 7.615253511904523, 7.575892993974847, 7.535058906508933, 7.492828846185663, 7.4466561120697214, 7.399913510307268, 7.365342039630345, 7.318436056830183, 7.283620678095094, 7.236609648818732, 7.199505780065962, 7.156323884986968, 7.124549114834878, 7.081195385350405, 7.049178331508248, 7.0081727480946405, 6.969091224807524, 6.934038889580776, 6.897779732861693, 6.8581335002293216, 6.8225019200775066, 6.7894064777977405, 6.746038359386063, 6.704486374368887, 6.66699765170004, 6.642195961411542, 6.593203540040051, 6.5483177171861335, 6.487476510394739, 6.464259255872356, 6.41830748373253, 6.395189650422942, 6.10646242662601, 6.0801120260590515, 6.045242257212163, 6.007099474939956, 5.939177603643305, 5.888672416291577, 5.824732030504929, 5.774800597249026, 5.731628615970717, 5.680437865488294, 5.632900607789928, 5.586042458364105, 5.538240478745561, 5.497008069360152, 5.4477322319990265, 5.396386285530454, 5.343587764071643, 5.293559244280253, 5.246651889078674, 5.205907290222402, 5.157400954417071, 5.102644346359471, 5.089604089824325, 5.074373645466929, 5.047610805569704, 5.030474505238546, 5.015222335960411, 4.998417350761256, 4.9900643774560045, 4.981754404242448, 4.975946749091074, 4.972652039612514, 4.971961255984091, 4.972049640020748, 4.974522892721296, 4.979691371183041, 4.988428098608923, 5.000196981068207, 5.012468310523619, 5.048397680909819, 5.0544088106237215, 5.062426690107914, 5.0725252703763335, 5.082277753697083, 5.091977810944396, 5.106069255185334, 5.117232901563272, 5.131179200260803, 5.141454935621276, 5.149822508714067, 5.165977052200406, 5.181285833905253, 5.197105844676534, 5.21475739590548, 5.232551446981919, 5.250294263735736, 5.26524320484635, 5.2811398601659345, 5.319586005383492, 5.346132049640261, 5.371117176554961, 5.393850510253564], [8.26273, 8.215343, 8.172654, 8.126883, 8.091157, 8.045027, 7.999311, 7.95554, 7.912479, 7.867598, 7.824576, 7.782306, 7.735658, 7.692154, 7.649376, 7.607362, 7.566151, 7.52333, 7.482163, 7.44184, 7.402396, 7.361531, 7.317228, 7.277926, 7.23415, 7.195242, 7.152001, 7.111178, 7.066234, 7.026453, 6.982022, 6.942623, 6.901211, 6.8589, 6.818195, 6.778354, 6.73705, 6.69726, 6.662236, 6.62445, 6.585646, 6.548129, 6.524569, 6.48916, 6.45041, 6.387568, 6.372359, 6.345452, 6.330833, 6.160232, 6.123541, 6.088147, 6.051001, 5.996578, 5.956815, 5.913851, 5.868665, 5.82845, 5.791787, 5.756533, 5.723934, 5.692846, 5.664959, 5.638061, 5.601347, 5.561196, 5.525023, 5.490719, 5.464668, 5.438958, 5.437161, 5.425496, 5.412932, 5.397234, 5.38724, 5.378561, 5.366964, 5.36241, 5.36612, 5.366839, 5.364562, 5.362023, 5.348396, 5.329599, 5.310891, 5.288106, 5.259102, 5.242025, 5.231591, 5.221005, 5.206524, 5.192169, 5.178312, 5.167464, 5.155789, 5.141501, 5.127356, 5.114478, 5.108631, 5.102115, 5.092759, 5.082758, 5.07126, 5.056283, 5.037938, 5.019453, 5.00301, 4.970781, 4.942895, 4.91306, 4.884163])\n",
      "([5.475674612013165, 5.442084347341343, 5.404892995327803, 5.366653855910137, 5.322629949130462, 5.278481350716817, 5.2274889342340956, 5.193578506938971, 5.15444711178244, 5.124072870436075, 5.094329918256459, 5.065252406915626, 5.0360840724593885, 5.01071679483991, 4.9756028138708395, 4.953142889699041, 4.92128110102032, 4.902206279350397, 4.879518904875113, 4.8637874296158525, 4.846017258066759, 4.831818407636494, 4.786183275967126, 4.773222887596441, 4.758115279965969, 4.746126364088903, 4.726938051372345, 4.707866012395048, 4.691975015236496, 4.671844863180764, 4.6554724478979885, 4.6421744496089286, 4.630656762132622, 4.622015490237182, 4.6123912007036285, 4.601614383738205, 4.595770213728713, 4.591885645487929, 4.585081726136304, 4.580539751415353, 4.576629701898698, 4.570755840160105, 4.5679994668123225, 4.566976944033218, 4.566957031910695, 4.5680129694425595, 4.570046797401968, 4.572374892514139, 4.5768493798879355, 4.580433812970755, 4.588832470138241, 4.594942445528831, 4.608038161413512, 4.616860585046467, 4.6231408222068, 4.643081998310441, 4.649482620854171, 4.655955623462839, 4.667464854022002, 4.717543334056309], [5.486183, 5.469871, 5.453245, 5.439048, 5.424106, 5.410268, 5.393738, 5.380252, 5.358507, 5.338504, 5.313204, 5.284201, 5.250433, 5.221824, 5.180837, 5.164693, 5.143306, 5.128024, 5.113143, 5.098993, 5.078591, 5.061826, 5.026237, 5.011925, 4.996609, 4.985328, 4.971634, 4.953862, 4.939496, 4.919915, 4.901161, 4.880339, 4.857658, 4.836508, 4.804348, 4.766197, 4.753652, 4.745723, 4.739052, 4.732693, 4.727816, 4.721032, 4.711735, 4.711075, 4.711819, 4.716245, 4.72318, 4.728668, 4.743263, 4.752672, 4.75918, 4.757091, 4.747769, 4.75627, 4.758901, 4.784178, 4.78386, 4.783551, 4.788123, 4.868367])\n",
      "([5.310340946041169, 5.319329757719081, 5.330890689609862, 5.3488604364717975, 5.37055339440072, 5.392802122148279, 5.422620114225449, 5.44975470477533, 5.480684848975166, 5.51535602253413, 5.551563269800885, 5.611034264154375, 5.632097072881594, 5.659605759765237, 5.688292631229764, 5.716408942371907, 5.749083937654724, 5.7793394828425715, 5.812444043761259, 5.841455114713146, 5.878457937543556, 5.910674882691115, 5.947559626478951, 5.98139263213871, 6.024608055271438, 6.150348828359039, 6.174453716661068, 6.218788191833418, 6.282536953940756, 6.343667022333291, 6.417576210352621, 6.493926072900052, 6.56656853102717, 6.641897770453921, 6.807325893537323, 6.878597395667577, 6.968765509816947, 7.03423715392461, 7.111660869935541, 7.211330385458359, 7.282566678400473, 7.407856229314003], [5.297486, 5.28774, 5.27902, 5.27581, 5.270439, 5.258114, 5.233518, 5.211723, 5.199956, 5.190014, 5.170183, 5.134927, 5.127602, 5.120279, 5.114442, 5.110345, 5.104064, 5.102467, 5.099188, 5.097676, 5.090196, 5.087676, 5.079818, 5.074149, 5.061397, 5.046989, 5.038158, 5.030416, 5.022555, 5.01244, 5.012864, 5.01628, 5.022199, 5.025163, 5.049296, 5.045268, 5.038448, 5.035736, 5.042253, 5.058527, 5.06699, 5.065788])\n",
      "([5.379658509012575, 5.39880265399521, 5.425783856438058, 5.449458731739271, 5.493665113958109, 5.523058740264662, 5.563941102321879, 5.606825326770577, 5.629345778342651, 5.667112745187231, 5.711786850652583, 5.753766335757807, 5.8483940464557564, 5.904190841897123, 5.949412940127289, 6.000593890202819, 6.051221564970262, 6.106154972894964, 6.211701692846287, 6.261592274606482, 6.356798783474625, 6.373730341110248], [5.360281, 5.347702, 5.34126, 5.33781, 5.319225, 5.321218, 5.316041, 5.305674, 5.299244, 5.288924, 5.273951, 5.265966, 5.242111, 5.22662, 5.228125, 5.224863, 5.223177, 5.226119, 5.23425, 5.218214, 5.192449, 5.191215])\n",
      "([5.571603097261784, 5.554427616443608, 5.544980618532907, 5.45079492068672, 5.444110631593105, 5.440371068151796, 5.435105476368198, 5.430965495628907, 5.382660327395826, 5.376019218697433, 5.373189055420452, 5.371924703235723], [5.534342, 5.467161, 5.439526, 5.353479, 5.308104, 5.28183, 5.233472, 5.203302, 4.929847, 4.878944, 4.867132, 4.81044])\n",
      "([6.924332972752811, 6.875498392482816, 6.786550609333336, 6.715443509512607, 6.64752943963725, 6.557208047617124, 6.4976890248760455, 6.425726019385337, 6.359787290334369, 6.3205937333498134, 6.269186454405903, 6.210092100498393, 6.136348547704053, 6.089474285012026, 6.030091112022232, 6.002075311268852, 5.96442751525044, 5.935524496665746, 5.89350662375006, 5.880447894279506, 5.856073867286812, 5.835248927555584, 5.8123512365142584, 5.789889150174151, 5.767880255196033, 5.746344585512659, 5.726602177746907, 5.700945072445219, 5.66737434453897, 5.647439573987706, 5.626613217499786, 5.598394406596466, 5.578681822936249, 5.558973657378688, 5.542576126778408, 5.529799710519553, 5.51846184271416, 5.504939275796199, 5.495417931333722], [6.950602, 6.927807, 6.891397, 6.857581, 6.824424, 6.78117, 6.751742, 6.724938, 6.693375, 6.669982, 6.628806, 6.584124, 6.526028, 6.492366, 6.456651, 6.432375, 6.388255, 6.359091, 6.321094, 6.302774, 6.277751, 6.253315, 6.230499, 6.208233, 6.186519, 6.165364, 6.146062, 6.125364, 6.083551, 6.066291, 6.056745, 6.039612, 6.003476, 5.969874, 5.943367, 5.908361, 5.871935, 5.813929, 5.774419])\n",
      "([6.110680770718912, 6.142721312311453, 6.180824621095908, 6.222256856109714, 6.257440600671064, 6.282902338820548, 6.31374339468687, 6.34911464774751, 6.453886549613816, 6.512913854524459, 6.63541576024353], [6.092409, 6.10433, 6.121758, 6.143533, 6.164232, 6.178906, 6.190775, 6.202368, 6.244304, 6.277101, 6.360853])\n",
      "([6.7037314728030974, 6.718357558916548, 6.735848888012373, 6.806173715156771, 6.810666885958634, 6.798388041545031], [6.633495, 6.54759, 6.498167, 6.223609, 6.153596, 6.038742])\n",
      "([4.902768218686909, 5.026005043634623], [4.867369, 4.873067])\n",
      "([6.894388426067226, 6.880645983381416, 6.857572407440766, 6.8458423141871965, 6.832824831211992, 6.820355078534971, 6.805495104651877, 6.766584712619368, 6.715825063462174], [6.884087, 6.855294, 6.81533, 6.788202, 6.749005, 6.71117, 6.670082, 6.595202, 6.503003])\n",
      "([6.799088192471022, 6.811145399204495, 6.825509641094886, 6.845860026515772, 6.862237590780369, 6.883496548849564, 6.908912380507387, 6.930612264325658], [6.78508, 6.778902, 6.772724, 6.765286, 6.753973, 6.735339, 6.716941, 6.703827])\n"
     ]
    },
    {
     "data": {
      "text/plain": [
       "439.19467814757775"
      ]
     },
     "execution_count": 106,
     "metadata": {},
     "output_type": "execute_result"
    }
   ],
   "source": [
    "G = rar.read_arbor_full('002_3_C_day5.csv')\n",
    "G_opt = nx.Graph(Gravity = 0.2)\n",
    "point_dist = 0\n",
    "for sub in working:\n",
    "    main_root = sub[4], sub[5]\n",
    "    lateral_tip = sub[6], sub[7]\n",
    "    print(modified_fill_lateral_root(0.2, G, G_opt, main_root, lateral_tip))\n",
    "    point_dist += modified_calculate_distance(0.2, G, G_opt, main_root, lateral_tip)\n",
    "point_dist"
   ]
  },
  {
   "cell_type": "code",
   "execution_count": null,
   "id": "6b22a3e8-a16e-4c84-903f-65e67acfc150",
   "metadata": {},
   "outputs": [],
   "source": []
  }
 ],
 "metadata": {
  "kernelspec": {
   "display_name": "Python 3 (ipykernel)",
   "language": "python",
   "name": "python3"
  },
  "language_info": {
   "codemirror_mode": {
    "name": "ipython",
    "version": 3
   },
   "file_extension": ".py",
   "mimetype": "text/x-python",
   "name": "python",
   "nbconvert_exporter": "python",
   "pygments_lexer": "ipython3",
   "version": "3.12.3"
  }
 },
 "nbformat": 4,
 "nbformat_minor": 5
}
