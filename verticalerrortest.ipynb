{
 "cells": [
  {
   "cell_type": "code",
   "execution_count": 87,
   "id": "8c220827-85ff-425d-8373-6e8c22176109",
   "metadata": {},
   "outputs": [
    {
     "name": "stdout",
     "output_type": "stream",
     "text": [
      "False\n"
     ]
    },
    {
     "ename": "ZeroDivisionError",
     "evalue": "float division by zero",
     "output_type": "error",
     "traceback": [
      "\u001b[1;31m---------------------------------------------------------------------------\u001b[0m",
      "\u001b[1;31mZeroDivisionError\u001b[0m                         Traceback (most recent call last)",
      "Cell \u001b[1;32mIn[87], line 7\u001b[0m\n\u001b[0;32m      5\u001b[0m \u001b[38;5;28mbool\u001b[39m \u001b[38;5;241m=\u001b[39m math\u001b[38;5;241m.\u001b[39misclose(\u001b[38;5;241m7.069259\u001b[39m, \u001b[38;5;241m7.069259000000001\u001b[39m,  rel_tol\u001b[38;5;241m=\u001b[39m\u001b[38;5;241m1e-16\u001b[39m, abs_tol\u001b[38;5;241m=\u001b[39m\u001b[38;5;241m0.0\u001b[39m)\n\u001b[0;32m      6\u001b[0m \u001b[38;5;28mbool\u001b[39m\n\u001b[1;32m----> 7\u001b[0m test \u001b[38;5;241m=\u001b[39m curve_length(\u001b[38;5;241m1\u001b[39m, \u001b[38;5;241m7.069259\u001b[39m, \u001b[38;5;241m5\u001b[39m, \u001b[38;5;241m7.069259\u001b[39m, \u001b[38;5;241m3\u001b[39m)\n\u001b[0;32m      8\u001b[0m test\n",
      "Cell \u001b[1;32mIn[70], line 51\u001b[0m, in \u001b[0;36mcurve_length\u001b[1;34m(G, x0, y0, p, q)\u001b[0m\n\u001b[0;32m     50\u001b[0m \u001b[38;5;28;01mdef\u001b[39;00m \u001b[38;5;21mcurve_length\u001b[39m(G, x0, y0, p, q):\n\u001b[1;32m---> 51\u001b[0m     b, c \u001b[38;5;241m=\u001b[39m calc_coeff(G, x0, y0, p, q)\n\u001b[0;32m     52\u001b[0m     \u001b[38;5;28;01mdef\u001b[39;00m \u001b[38;5;21mdifferential\u001b[39m(x):\n\u001b[0;32m     53\u001b[0m         \u001b[38;5;28;01mreturn\u001b[39;00m pylab\u001b[38;5;241m.\u001b[39msqrt(\u001b[38;5;241m1\u001b[39m \u001b[38;5;241m+\u001b[39m (\u001b[38;5;241m2\u001b[39m\u001b[38;5;241m*\u001b[39mG\u001b[38;5;241m*\u001b[39mx \u001b[38;5;241m+\u001b[39m b)\u001b[38;5;241m*\u001b[39m\u001b[38;5;241m*\u001b[39m\u001b[38;5;241m2\u001b[39m)\n",
      "Cell \u001b[1;32mIn[70], line 20\u001b[0m, in \u001b[0;36mcalc_coeff\u001b[1;34m(G, x, y, p, q)\u001b[0m\n\u001b[0;32m     19\u001b[0m \u001b[38;5;28;01mdef\u001b[39;00m \u001b[38;5;21mcalc_coeff\u001b[39m(G, x, y, p, q):\n\u001b[1;32m---> 20\u001b[0m     b \u001b[38;5;241m=\u001b[39m ((q \u001b[38;5;241m-\u001b[39m y \u001b[38;5;241m-\u001b[39m G\u001b[38;5;241m*\u001b[39m(p\u001b[38;5;241m*\u001b[39mp \u001b[38;5;241m-\u001b[39m x\u001b[38;5;241m*\u001b[39mx))\u001b[38;5;241m/\u001b[39m(p\u001b[38;5;241m-\u001b[39mx))\n\u001b[0;32m     21\u001b[0m     c \u001b[38;5;241m=\u001b[39m (q \u001b[38;5;241m-\u001b[39m G\u001b[38;5;241m*\u001b[39mp\u001b[38;5;241m*\u001b[39mp \u001b[38;5;241m-\u001b[39m b\u001b[38;5;241m*\u001b[39mp)\n\u001b[0;32m     23\u001b[0m     \u001b[38;5;66;03m# assert (G * x * x) + (b * x) + c == y\u001b[39;00m\n\u001b[0;32m     24\u001b[0m     \u001b[38;5;66;03m# assert (G * p * p) + (b * p) + c == q\u001b[39;00m\n",
      "\u001b[1;31mZeroDivisionError\u001b[0m: float division by zero"
     ]
    }
   ],
   "source": [
    "7.069259\n",
    "7.069259000000001\n",
    "otherbool = (7.069259 == 7.069259000000001)\n",
    "print(otherbool)\n",
    "bool = math.isclose(7.069259, 7.069259000000001,  rel_tol=1e-16, abs_tol=0.0)\n",
    "bool\n",
    "test = curve_length(1, 7.069259, 5, 7.069259, 3)\n",
    "test"
   ]
  },
  {
   "cell_type": "code",
   "execution_count": 104,
   "id": "890141a1-a90f-4b44-b17e-5f7a7583daec",
   "metadata": {},
   "outputs": [
    {
     "data": {
      "image/png": "[encoded data removed]",
      "text/plain": [
       "<Figure size 640x480 with 1 Axes>"
      ]
     },
     "metadata": {},
     "output_type": "display_data"
    }
   ],
   "source": [
    "G = rar.read_arbor_full('001_1_c_day5.csv')\n",
    "coords = {}\n",
    "for coordinate in list(G.nodes):\n",
    "    coords[coordinate] = coordinate\n",
    "nx.draw_networkx(G, pos = coords, with_labels = False, node_size = 2)"
   ]
  },
  {
   "cell_type": "code",
   "execution_count": 5,
   "id": "b1eb9f13-6f66-4ee7-adcb-5f1ab1cb6ed4",
   "metadata": {},
   "outputs": [],
   "source": [
    "import math\n",
    "import point_similarity as ps\n",
    "import scipy.integrate as integrate\n",
    "import pylab\n",
    "import mpmath\n",
    "#from scipy.misc import derivative\n",
    "import plotly\n",
    "from plotly import graph_objs as go\n",
    "import sys\n",
    "import read_arbor_reconstruction as rar\n",
    "import networkx as nx\n",
    "import pareto_functions as pf\n",
    "from constants import *\n",
    "import os\n",
    "import pickle\n",
    "import argparse\n",
    "import pandas as pd\n",
    "## returns the coefficients of the quadratic equation involving gravity\n",
    "def calc_coeff(G, x, y, p, q):\n",
    "    b = ((q - y - G*(p*p - x*x))/(p-x))\n",
    "    c = (q - G*p*p - b*p)\n",
    "\n",
    "    # assert (G * x * x) + (b * x) + c == y\n",
    "    # assert (G * p * p) + (b * p) + c == q\n",
    "\n",
    "    return b, c\n",
    "\n",
    "## checks if a line has a positive slope given two points\n",
    "def positive_slope(x0, y0, x1, y1):\n",
    "    if x0 == x1 or y0 == y1:\n",
    "        return False\n",
    "    slope = (y1 - y0)/(x1 - x0)\n",
    "    if slope >= 0:\n",
    "        return True\n",
    "    return False\n",
    "\n",
    "## simply just a distance function\n",
    "def length_func(x0, y0, x1, y1):\n",
    "    length = pylab.sqrt((x1 - x0)**2 + (y1 - y0)**2)\n",
    "    return length\n",
    "\n",
    "## a way to calculate theta based on two points\n",
    "def get_theta(x0, y0, x1, y1):\n",
    "    if x1 == x0 or y1 == y0:\n",
    "        return 0\n",
    "    theta = pylab.arctan((abs(y1 - y0))/(abs(x1 - x0)))\n",
    "    return theta\n",
    "\n",
    "## Returns the length of a curve (in this case a lateral root when gravity is not 0)\n",
    "def curve_length(G, x0, y0, p, q):\n",
    "    b, c = calc_coeff(G, x0, y0, p, q)\n",
    "    def differential(x):\n",
    "        return pylab.sqrt(1 + (2*G*x + b)**2)\n",
    "    curve, tolerance = integrate.quad(differential, min(x0, p), max(x0, p))\n",
    "    return curve\n",
    "\n",
    "## Returns the distance from a point to the base of the plant\n",
    "def distance_from_base(root_distance, x, y, x1, y1):\n",
    "    pair1 = [x, y]\n",
    "    pair2 = [x1, y1]\n",
    "    distance = math.dist(pair1, pair2)\n",
    "    if(x,y) == (x1, y1):\n",
    "        assert distance == 0\n",
    "    return distance + root_distance\n",
    "\n",
    "## Returns the total cost along with the wiring and delay used to calculate it\n",
    "def total_cost(alpha, G, root_distance, x0, y0, x1, y1, p, q):\n",
    "    curve = curve_length(G, x1, y1, p, q)\n",
    "    to_root = distance_from_base(root_distance, x0, y0, x1, y1)\n",
    "    wiring = curve\n",
    "    delay = (curve + to_root)\n",
    "    cost = (alpha * wiring) +  ((1 - alpha) * delay)\n",
    "    #print(\"curve = \", curve, \"to root = \" , to_root, \"wiring = \", wiring, \"delay = \", delay, \"total cost = \", cost)\n",
    "    #cost = curve + (1 - alpha) * distance_from_base(root_distance, x0, y0, x1, y1)\n",
    "    return cost, wiring, delay\n",
    "\n",
    "def find_best_cost(alpha, G, root_distance, x0, y0, x1, y1, p, q):\n",
    "    results = []\n",
    "    min_t = 0\n",
    "    delta = 0.01\n",
    "    max_t = 1\n",
    "    best_t = math.inf\n",
    "    best_cost = math.inf\n",
    "    best_wiring = math.inf\n",
    "    best_delay = math.inf\n",
    "    l = length_func(x0, y0, x1, y1)\n",
    "    theta = get_theta(x0, y0, x1, y1)\n",
    "    x_opt = None\n",
    "    y_opt = None\n",
    "    best_x = None\n",
    "    best_y = None\n",
    "    for t in pylab.arange(min_t, max_t + delta, delta):\n",
    "        is_positive = positive_slope(x0, y0, x1, y1)\n",
    "        new_x = None\n",
    "        new_y = None\n",
    "        if is_positive:\n",
    "            new_x = x0 + t*l*math.cos(theta)\n",
    "            new_y = y0 + t*l*math.sin(theta)\n",
    "        else:\n",
    "            new_x = x0 - (t*l*math.cos(theta))\n",
    "            new_y = y0 + (t*l*math.sin(theta))\n",
    "        x_curr = pylab.linspace(min(p, new_x), max(p, new_x))\n",
    "        cost, wiring, delay = total_cost(alpha, G, root_distance, x0, y0, new_x, new_y, p, q)\n",
    "        if cost <= best_cost:\n",
    "            best_cost = cost\n",
    "            best_wiring = wiring\n",
    "            best_delay = delay\n",
    "            best_t = t\n",
    "            b, c = calc_coeff(G, new_x, new_y, p, q)\n",
    "            best_x = new_x\n",
    "            best_y = new_y\n",
    "            #x_opt = x_curr\n",
    "            #y_opt = G * x_opt ** 2 + b * x_opt + c\n",
    "        '''\n",
    "        if t % 0.2 == 0:\n",
    "            b, c = calc_coeff(G, new_x, new_y, p, q)\n",
    "            y_inter =  G * x_curr ** 2 + b * x_curr + c\n",
    "            intermediate_line = go.Scatter(x = x_curr,y = y_inter, mode = \"lines\", name = str(cost))\n",
    "            fig.add_trace(intermediate_line)\n",
    "           '''\n",
    "        results.append(cost)\n",
    "    ##opt_line = go.Scatter(x = x_opt, y = y_opt, mode = \"lines\", name = \"Optimal: \" + str(best_cost))\n",
    "    ##fig.add_trace(opt_line)\n",
    "    return best_cost, best_wiring, best_delay, best_t, best_x, best_y, p, q\n",
    "\n",
    "def arbor_best_cost(fname, alpha, G, root_distance):\n",
    "    arbor = rar.read_arbor_full(fname)\n",
    "    main_root = []\n",
    "    lat_tips = []\n",
    "    line_segments = {}\n",
    "    point_drawing = go.Figure()\n",
    "    for node in arbor.nodes():\n",
    "        if arbor.nodes[node][\"label\"] == (\"main root\") or arbor.nodes[node][\"label\"] == (\"main root base\"):\n",
    "            main_root.append(node)\n",
    "        if arbor.nodes[node][\"label\"] == (\"lateral root tip\"):\n",
    "            lat_tips.append(node)\n",
    "    for i in range(1, len(main_root)):\n",
    "        line_segments[i] = main_root[i - 1], main_root[i]\n",
    "\n",
    "    # for each lateral root tip iterate through every line segment to find lowest costing point on main root\n",
    "    final = []\n",
    "    for tip in lat_tips:\n",
    "        curr_dist = 0\n",
    "        results = []\n",
    "        firstTime = True\n",
    "        p = tip[0]\n",
    "        q = tip[1]\n",
    "        for seg in line_segments:\n",
    "            x0 = line_segments[seg][0][0]\n",
    "            y0 = line_segments[seg][0][1]\n",
    "            x1 = line_segments[seg][1][0]\n",
    "            y1 = line_segments[seg][1][1]\n",
    "            if firstTime == True:\n",
    "                result = find_best_cost(alpha, G, root_distance, x0, y0, x1, y1, p, q)\n",
    "                curr_dist += length_func(x0, y0, x1, y1)\n",
    "                firstTime = False\n",
    "            else:\n",
    "                result = find_best_cost(alpha, G, root_distance + curr_dist, x0, y0, x1, y1, p, q)\n",
    "                curr_dist += length_func(x0, y0, x1, y1)\n",
    "            results.append(result)\n",
    "        final.append(min(results))\n",
    "\n",
    "    return final\n",
    "\n",
    "\n",
    "def get_last_day_files():\n",
    "    files_by_genotype = {}\n",
    "\n",
    "    for file_name in os.listdir(RECONSTRUCTIONS_DIR):\n",
    "        if not file_name.endswith(\".csv\"):\n",
    "            continue\n",
    "        parts = file_name.split('_')\n",
    "\n",
    "        genotype = parts[0]\n",
    "        replicate = parts[1]\n",
    "        condition = parts[2]\n",
    "        hormone = None\n",
    "        if len(parts) >= 3:\n",
    "            hormone = parts[3]\n",
    "        day = parts[-1].replace('.csv', '')\n",
    "        day = int(day.strip('day'))\n",
    "\n",
    "        key = (genotype, replicate, condition)\n",
    "        if key not in files_by_genotype:\n",
    "            files_by_genotype[key] = {}\n",
    "\n",
    "        files_by_genotype[key][day] = file_name\n",
    "\n",
    "    last_day_files = {}\n",
    "    for key, day_files in files_by_genotype.items():\n",
    "        last_day = max(day_files.keys())\n",
    "        if last_day not in [5, 9]:\n",
    "            continue\n",
    "        last_day_files[key] = day_files[last_day]\n",
    "    return last_day_files\n",
    "\n",
    "def is_between(a, x, b):\n",
    "        return a < x < b or b < x < a\n",
    "\n",
    "\n",
    "def get_closest_main_seg(lat_tips, line_segments):\n",
    "    closest_segs = []\n",
    "    for tip in lat_tips: \n",
    "        best_distance = math.inf\n",
    "        best_seg = None\n",
    "        for num, seg in line_segments.items():\n",
    "            d = math.inf\n",
    "            x0, y0 = seg[0]\n",
    "            x1, y1 = seg[1]\n",
    "\n",
    "            A = (x0 - tip[0]) * (x1 - x0) + (y0 - tip[1]) * (y1 - y0)\n",
    "            B = (x1 - x0)**2 + (y1 - y0)**2\n",
    "            t = A/B\n",
    "            if (0 <= t <= 1): \n",
    "                c = abs(((x1 - x0) * (y0 - tip[1])) - ((y1 - y0) * (x0 - tip[0])))\n",
    "                d = c/math.sqrt(B)\n",
    "            else: \n",
    "                d1 = math.sqrt((x1-tip[0])**2 + (y1 - tip[1])**2)\n",
    "                d2 = math.sqrt((x0-tip[0])**2 + (y0 - tip[1])**2)\n",
    "                d = min(d1, d2)\n",
    "            if d < best_distance:\n",
    "                best_distance = d\n",
    "                best_seg = seg\n",
    "        closest_segs += best_seg\n",
    "    return closest_segs\n",
    "\n",
    "\n",
    "# this code returns segments on the main root that don't have a y coordinate higher than the closest main root segment\n",
    "def valid_segments(tip_number, line_segments, closest_segs):\n",
    "    valid_segs = []\n",
    "    for seg in line_segments:\n",
    "        y = seg[1]\n",
    "        closest = closest_segs[tip_number]\n",
    "        closest_y = closest[1]\n",
    "        if y < closest_y:\n",
    "            valid_segs += seg\n",
    "        else:\n",
    "            break\n",
    "    return valid_segs\n",
    "        "
   ]
  },
  {
   "cell_type": "code",
   "execution_count": 2,
   "id": "0f09464e-b73e-4c1c-ad77-b0e0196fb4a6",
   "metadata": {},
   "outputs": [
    {
     "name": "stderr",
     "output_type": "stream",
     "text": [
      "\n",
      "KeyboardInterrupt\n",
      "\n"
     ]
    }
   ],
   "source": [
    "import math\n",
    "import point_similarity as ps\n",
    "import scipy.integrate as integrate\n",
    "import pylab\n",
    "import mpmath\n",
    "#from scipy.misc import derivative\n",
    "import plotly\n",
    "from plotly import graph_objs as go\n",
    "import sys\n",
    "import read_arbor_reconstruction as rar\n",
    "import networkx as nx\n",
    "import pareto_functions as pf\n",
    "from constants import *\n",
    "import os\n",
    "import pickle\n",
    "import argparse\n",
    "import pandas as pd\n",
    "## returns the coefficients of the quadratic equation involving gravity\n",
    "def calc_coeff(G, x, y, p, q):\n",
    "    b = ((q - y - G*(p*p - x*x))/(p-x))\n",
    "    c = (q - G*p*p - b*p)\n",
    "\n",
    "    # assert (G * x * x) + (b * x) + c == y\n",
    "    # assert (G * p * p) + (b * p) + c == q\n",
    "\n",
    "    return b, c\n",
    "\n",
    "## checks if a line has a positive slope given two points\n",
    "def positive_slope(x0, y0, x1, y1):\n",
    "    if x0 == x1 or y0 == y1:\n",
    "        return False\n",
    "    slope = (y1 - y0)/(x1 - x0)\n",
    "    if slope >= 0:\n",
    "        return True\n",
    "    return False\n",
    "\n",
    "## simply just a distance function\n",
    "def length_func(x0, y0, x1, y1):\n",
    "    length = pylab.sqrt((x1 - x0)**2 + (y1 - y0)**2)\n",
    "    return length\n",
    "\n",
    "## a way to calculate theta based on two points\n",
    "def get_theta(x0, y0, x1, y1):\n",
    "    if x1 == x0 or y1 == y0:\n",
    "        return 0\n",
    "    theta = pylab.arctan((abs(y1 - y0))/(abs(x1 - x0)))\n",
    "    return theta\n",
    "\n",
    "## Returns the length of a curve (in this case a lateral root when gravity is not 0)\n",
    "def curve_length(G, x0, y0, p, q):\n",
    "    b, c = calc_coeff(G, x0, y0, p, q)\n",
    "    def differential(x):\n",
    "        return pylab.sqrt(1 + (2*G*x + b)**2)\n",
    "    curve, tolerance = integrate.quad(differential, min(x0, p), max(x0, p))\n",
    "    return curve\n",
    "\n",
    "## Returns the distance from a point to the base of the plant\n",
    "def distance_from_base(root_distance, x, y, x1, y1):\n",
    "    pair1 = [x, y]\n",
    "    pair2 = [x1, y1]\n",
    "    distance = math.dist(pair1, pair2)\n",
    "    if(x,y) == (x1, y1):\n",
    "        assert distance == 0\n",
    "    return distance + root_distance\n",
    "\n",
    "## Returns the total cost along with the wiring and delay used to calculate it\n",
    "def total_cost(alpha, G, root_distance, x0, y0, x1, y1, p, q):\n",
    "    curve = curve_length(G, x1, y1, p, q)\n",
    "    to_root = distance_from_base(root_distance, x0, y0, x1, y1)\n",
    "    wiring = curve\n",
    "    delay = (curve + to_root)\n",
    "    cost = (alpha * wiring) +  ((1 - alpha) * delay)\n",
    "    #print(\"curve = \", curve, \"to root = \" , to_root, \"wiring = \", wiring, \"delay = \", delay, \"total cost = \", cost)\n",
    "    #cost = curve + (1 - alpha) * distance_from_base(root_distance, x0, y0, x1, y1)\n",
    "    return cost, wiring, delay\n",
    "\n",
    "def find_best_cost(alpha, G, root_distance, x0, y0, x1, y1, p, q):\n",
    "    results = []\n",
    "    min_t = 0\n",
    "    delta = 0.01\n",
    "    max_t = 1\n",
    "    best_t = math.inf\n",
    "    best_cost = math.inf\n",
    "    best_wiring = math.inf\n",
    "    best_delay = math.inf\n",
    "    l = length_func(x0, y0, x1, y1)\n",
    "    theta = get_theta(x0, y0, x1, y1)\n",
    "    x_opt = None\n",
    "    y_opt = None\n",
    "    best_x = None\n",
    "    best_y = None\n",
    "    for t in pylab.arange(min_t, max_t + delta, delta):\n",
    "        is_positive = positive_slope(x0, y0, x1, y1)\n",
    "        new_x = None\n",
    "        new_y = None\n",
    "        if is_positive:\n",
    "            new_x = x0 + t*l*math.cos(theta)\n",
    "            new_y = y0 + t*l*math.sin(theta)\n",
    "        else:\n",
    "            new_x = x0 - (t*l*math.cos(theta))\n",
    "            new_y = y0 + (t*l*math.sin(theta))\n",
    "        x_curr = pylab.linspace(min(p, new_x), max(p, new_x))\n",
    "        cost, wiring, delay = total_cost(alpha, G, root_distance, x0, y0, new_x, new_y, p, q)\n",
    "        if cost <= best_cost:\n",
    "            best_cost = cost\n",
    "            best_wiring = wiring\n",
    "            best_delay = delay\n",
    "            best_t = t\n",
    "            b, c = calc_coeff(G, new_x, new_y, p, q)\n",
    "            best_x = new_x\n",
    "            best_y = new_y\n",
    "            #x_opt = x_curr\n",
    "            #y_opt = G * x_opt ** 2 + b * x_opt + c\n",
    "        '''\n",
    "        if t % 0.2 == 0:\n",
    "            b, c = calc_coeff(G, new_x, new_y, p, q)\n",
    "            y_inter =  G * x_curr ** 2 + b * x_curr + c\n",
    "            intermediate_line = go.Scatter(x = x_curr,y = y_inter, mode = \"lines\", name = str(cost))\n",
    "            fig.add_trace(intermediate_line)\n",
    "           '''\n",
    "        results.append(cost)\n",
    "    ##opt_line = go.Scatter(x = x_opt, y = y_opt, mode = \"lines\", name = \"Optimal: \" + str(best_cost))\n",
    "    ##fig.add_trace(opt_line)\n",
    "    return best_cost, best_wiring, best_delay, best_t, best_x, best_y, p, q\n",
    "\n",
    "def arbor_best_cost(fname, alpha, G, root_distance):\n",
    "    arbor = rar.read_arbor_full(fname)\n",
    "    main_root = []\n",
    "    lat_tips = []\n",
    "    line_segments = {}\n",
    "    point_drawing = go.Figure()\n",
    "    for node in arbor.nodes():\n",
    "        if arbor.nodes[node][\"label\"] == (\"main root\") or arbor.nodes[node][\"label\"] == (\"main root base\"):\n",
    "            main_root.append(node)\n",
    "        if arbor.nodes[node][\"label\"] == (\"lateral root tip\"):\n",
    "            lat_tips.append(node)\n",
    "    for i in range(1, len(main_root)):\n",
    "        line_segments[i] = main_root[i - 1], main_root[i]\n",
    "\n",
    "    # for each lateral root tip iterate through every line segment to find lowest costing point on main root\n",
    "    final = []\n",
    "    for tip in lat_tips:\n",
    "        curr_dist = 0\n",
    "        results = []\n",
    "        firstTime = True\n",
    "        p = tip[0]\n",
    "        q = tip[1]\n",
    "        for seg in line_segments:\n",
    "            x0 = line_segments[seg][0][0]\n",
    "            y0 = line_segments[seg][0][1]\n",
    "            x1 = line_segments[seg][1][0]\n",
    "            y1 = line_segments[seg][1][1]\n",
    "            if firstTime == True:\n",
    "                result = find_best_cost(alpha, G, root_distance, x0, y0, x1, y1, p, q)\n",
    "                curr_dist += length_func(x0, y0, x1, y1)\n",
    "                firstTime = False\n",
    "            else:\n",
    "                result = find_best_cost(alpha, G, root_distance + curr_dist, x0, y0, x1, y1, p, q)\n",
    "                curr_dist += length_func(x0, y0, x1, y1)\n",
    "            results.append(result)\n",
    "        final.append(min(results))\n",
    "\n",
    "    return final\n",
    "\n",
    "\n",
    "def get_last_day_files():\n",
    "    files_by_genotype = {}\n",
    "\n",
    "    for file_name in os.listdir(RECONSTRUCTIONS_DIR):\n",
    "        if not file_name.endswith(\".csv\"):\n",
    "            continue\n",
    "        parts = file_name.split('_')\n",
    "\n",
    "        genotype = parts[0]\n",
    "        replicate = parts[1]\n",
    "        condition = parts[2]\n",
    "        hormone = None\n",
    "        if len(parts) >= 3:\n",
    "            hormone = parts[3]\n",
    "        day = parts[-1].replace('.csv', '')\n",
    "        day = int(day.strip('day'))\n",
    "\n",
    "        key = (genotype, replicate, condition)\n",
    "        if key not in files_by_genotype:\n",
    "            files_by_genotype[key] = {}\n",
    "\n",
    "        files_by_genotype[key][day] = file_name\n",
    "\n",
    "    last_day_files = {}\n",
    "    for key, day_files in files_by_genotype.items():\n",
    "        last_day = max(day_files.keys())\n",
    "        if last_day not in [5, 9]:\n",
    "            continue\n",
    "        last_day_files[key] = day_files[last_day]\n",
    "    return last_day_files\n",
    "\n",
    "def is_between(a, x, b):\n",
    "        return a < x < b or b < x < a\n",
    "\n",
    "\n",
    "last_day = get_last_day_files()\n",
    "count = 0\n",
    "for key,arbor in last_day.items():\n",
    "    #print(arbor)\n",
    "    arbor_test = rar.read_arbor_full(arbor)\n",
    "    main_root = []\n",
    "    lat_tips = []\n",
    "    line_segments = {}\n",
    "    #point_drawing = go.Figure()\n",
    "    for node in arbor_test.nodes():\n",
    "        if arbor_test.nodes[node][\"label\"] == (\"main root\") or arbor_test.nodes[node][\"label\"] == (\"main root base\"):\n",
    "            main_root.append(node)\n",
    "        if arbor_test.nodes[node][\"label\"] == (\"lateral root tip\"):\n",
    "            lat_tips.append(node)\n",
    "    for i in range(1, len(main_root)):\n",
    "        line_segments[i] = main_root[i - 1], main_root[i]\n",
    "\n",
    "\n",
    "    ## This code returns the closest main root segment for each lateral root tip\n",
    "    closest_segs = []\n",
    "    for tip in lat_tips: \n",
    "        best_distance = math.inf\n",
    "        best_seg = None\n",
    "        for num, seg in line_segments.items():\n",
    "            d = math.inf\n",
    "            x0, y0 = seg[0]\n",
    "            x1, y1 = seg[1]\n",
    "\n",
    "            A = (x0 - tip[0]) * (x1 - x0) + (y0 - tip[1]) * (y1 - y0)\n",
    "            B = (x1 - x0)**2 + (y1 - y0)**2\n",
    "            t = A/B\n",
    "            if (0 <= t <= 1): \n",
    "                c = abs(((x1 - x0) * (y0 - tip[1])) - ((y1 - y0) * (x0 - tip[0])))\n",
    "                d = c/math.sqrt(B)\n",
    "            else: \n",
    "                d1 = math.sqrt((x1-tip[0])**2 + (y1 - tip[1])**2)\n",
    "                d2 = math.sqrt((x0-tip[0])**2 + (y0 - tip[1])**2)\n",
    "                d = min(d1, d2)\n",
    "            if d < best_distance:\n",
    "                best_distance = d\n",
    "                best_seg = seg\n",
    "            \n",
    "\n",
    "\n",
    "        closest_segs += best_seg\n",
    "        #print(\"Tip \" + str(tip) + \" closest segment is \" + str(best_seg) + \" with distance: \" + str(best_distance))\n",
    "    #print(closest_segs)\n",
    "\n",
    "# created helper function based on code above\n",
    "def get_closest_main_seg(lat_tips, line_segments):\n",
    "    closest_segs = []\n",
    "    for tip in lat_tips: \n",
    "        best_distance = math.inf\n",
    "        best_seg = None\n",
    "        for num, seg in line_segments.items():\n",
    "            d = math.inf\n",
    "            x0, y0 = seg[0]\n",
    "            x1, y1 = seg[1]\n",
    "\n",
    "            A = (x0 - tip[0]) * (x1 - x0) + (y0 - tip[1]) * (y1 - y0)\n",
    "            B = (x1 - x0)**2 + (y1 - y0)**2\n",
    "            t = A/B\n",
    "            if (0 <= t <= 1): \n",
    "                c = abs(((x1 - x0) * (y0 - tip[1])) - ((y1 - y0) * (x0 - tip[0])))\n",
    "                d = c/math.sqrt(B)\n",
    "            else: \n",
    "                d1 = math.sqrt((x1-tip[0])**2 + (y1 - tip[1])**2)\n",
    "                d2 = math.sqrt((x0-tip[0])**2 + (y0 - tip[1])**2)\n",
    "                d = min(d1, d2)\n",
    "            if d < best_distance:\n",
    "                best_distance = d\n",
    "                best_seg = seg\n",
    "        closest_segs += best_seg\n",
    "    return closest_segs\n",
    "\n",
    "\n",
    "# this code returns segments on the main root that don't have a y coordinate higher than the closest main root segment\n",
    "def valid_segments(tip_number, line_segments, closest_segs):\n",
    "    valid_segs = []\n",
    "    for seg in line_segments:\n",
    "        y = seg[1]\n",
    "        closest = closest_segs[tip_number]\n",
    "        closest_y = closest[1]\n",
    "        if y < closest_y:\n",
    "            valid_segs += seg\n",
    "        else:\n",
    "            break\n",
    "    return valid_segs\n",
    "        \n",
    "\n",
    "def modified_arbor_best_cost(fname, alpha, G, root_distance):\n",
    "    final = []\n",
    "    arbor = rar.read_arbor_full(fname)\n",
    "    main_root = []\n",
    "    lat_tips = []\n",
    "    line_segments = {}\n",
    "    #point_drawing = go.Figure()\n",
    "    for node in arbor.nodes():\n",
    "        if arbor.nodes[node][\"label\"] == (\"main root\") or arbor.nodes[node][\"label\"] == (\"main root base\"):\n",
    "            main_root.append(node)\n",
    "        if arbor.nodes[node][\"label\"] == (\"lateral root tip\"):\n",
    "            lat_tips.append(node)\n",
    "    for i in range(1, len(main_root)):\n",
    "        line_segments[i] = main_root[i - 1], main_root[i]\n",
    "\n",
    "    closest_segs = get_closest_main_seg(lat_tips, line_segments)\n",
    "    tip_number = 0\n",
    "    for tip in lat_tips: \n",
    "        curr_dist = 0\n",
    "        results = []\n",
    "        valid_segs = valid_segments(tip_number, line_segments, closest_segs)\n",
    "        for seg in valid_segs: \n",
    "            x0, y0 = seg[0]\n",
    "            x1, y1 = seg[1]\n",
    "            # if the tip is in between a segment, brute force the segment\n",
    "            if is_between(x0, tip[0], x1):\n",
    "                if firstTime == True:\n",
    "                    result = find_best_cost(alpha, G, root_distance, x0, y0, x1, y1, p, q)\n",
    "                    curr_dist += length_func(x0, y0, x1, y1)\n",
    "                    firstTime = False\n",
    "                else:\n",
    "                    result = find_best_cost(alpha, G, root_distance + curr_dist, x0, y0, x1, y1, p, q)\n",
    "                    curr_dist += length_func(x0, y0, x1, y1)\n",
    "                results.append(result)\n",
    "            # if the tip is not in between a segment, use Dr. Richard's equation\n",
    "            else:\n",
    "                l = math.sqrt((x1 - x0)**2 + (y1 - y0)**2)\n",
    "                theta = math.atan2(y1 - y0, x1 - x0)\n",
    "\n",
    "                # Recalculate A1–E1 based on current l, theta, G, p, q\n",
    "                A1 = G * (l * math.cos(theta))**2\n",
    "                B1 = -l * math.sin(theta)\n",
    "                C1 = q - G * p**2\n",
    "                D1 = -l * math.cos(theta)\n",
    "                E1 = p\n",
    "            \n",
    "                # Define b(t), b'(t), cost'(t)\n",
    "                def b(t): return (A1*t**2 + B1*t + C1) / (D1*t + E1)\n",
    "                def bprime(t):\n",
    "                    numerator = (D1*t + E1)*(2*A1*t + B1) - D1*(A1*t**2 + B1*t + C1)\n",
    "                    denominator = (D1*t + E1)**2\n",
    "                    return numerator / denominator\n",
    "                def costprime(t):\n",
    "                    b_val = b(t)\n",
    "                    bp = bprime(t)\n",
    "                    term1 = (bp / (2 * G)) * (math.sqrt(1 + (2 * G * p + b_val)**2) -\n",
    "                                               math.sqrt(1 + (2 * G * t * l * math.cos(theta) + b_val)**2))\n",
    "                    term2 = (1 - alpha) * l\n",
    "                    term3 = math.sqrt(1 + (2 * G * t * l * math.cos(theta) + b_val)**2) * l * math.cos(theta)\n",
    "                    return term1 + term2 - term3\n",
    "            \n",
    "                # Find root(s) of costprime in [0, 1]\n",
    "                roots = find_multiple_roots(costprime, [0, 1], num_guesses=200)\n",
    "                valid_roots = [r for r in roots if 0 <= r <= 1]\n",
    "            \n",
    "                # Define the full cost function if not already\n",
    "                def cost(t):\n",
    "                    b_val = b(t)\n",
    "                    return ((1 - alpha) * l * t + alpha / (2 * G) *\n",
    "                            (math.sqrt(1 + (2 * G * p + b_val)**2) -\n",
    "                             math.sqrt(1 + (2 * G * t * l * math.cos(theta) + b_val)**2)))\n",
    "            \n",
    "                # Get cost at valid root(s)\n",
    "                if valid_roots:\n",
    "                    min_root = min(valid_roots, key=lambda t: cost(t))\n",
    "                    result = cost(min_root)\n",
    "                    results.append(result)\n",
    "                \n",
    "        final.append(min(results))\n",
    "        tip_number += 1\n",
    "\n",
    "    return final\n",
    "\n",
    "\n",
    "    # THIS IS FOR WHEN YOU WANT TO COUNT HOW MANY TIMES A TIP APPEARS IN BETWEEN A ROOT SEGMENT'S X COORDINATE\n",
    "   # for num, seg in line_segments.items():\n",
    "      #  x0, y0 = seg[0]\n",
    "      #  x1, y1 = seg[1]\n",
    "      #  min_t = 0\n",
    "      #  delta = 0.01\n",
    "      #  max_t = 1\n",
    "      #  l = length_func(x0, y0, x1, y1)\n",
    "       # theta = get_theta(x0, y0, x1, y1)\n",
    "      #  for tip in lat_tips:\n",
    "         #   if (x0 <= tip[0] <= x1):\n",
    "          #      count += 1\n",
    "            #    print(count)\n",
    "            \n",
    "      #  for t in pylab.arange(min_t, max_t + delta, delta):\n",
    "            #for tip in lat_tips:\n",
    "               # if is_between(x0, tip[0], x1):\n",
    "                   # count += 1\n",
    "                  #  print(count)\n",
    "\n",
    "                \n",
    "                #is_positive = positive_slope(x0, y0, x1, y1)\n",
    "                #new_x = None\n",
    "               # new_y = None\n",
    "              #  if is_positive:\n",
    "                 #   new_x = x0 + t*l*math.cos(theta)\n",
    "                   # new_y = y0 + t*l*math.sin(theta)\n",
    "               # else:\n",
    "                 #   new_x = x0 - (t*l*math.cos(theta))\n",
    "                   # new_y = y0 + (t*l*math.sin(theta))\n",
    "                #if(math.isclose(tip[0], new_x, rel_tol=1e-9, abs_tol=0.0)):\n",
    "                   # print(tip[0])\n",
    "                   # print(new_x)\n",
    "                  #  raise Exception(\"X-coordinates are the same. Vertical line test failed.\")\n",
    "                \n",
    "                "
   ]
  },
  {
   "cell_type": "code",
   "execution_count": 187,
   "id": "0df51fad-8ab6-484c-820b-e86d8470f062",
   "metadata": {
    "scrolled": true
   },
   "outputs": [
    {
     "name": "stderr",
     "output_type": "stream",
     "text": [
      "C:\\Users\\agarz\\AppData\\Local\\Temp\\ipykernel_6264\\446570012.py:208: DeprecationWarning:\n",
      "\n",
      "Conversion of an array with ndim > 0 to a scalar is deprecated, and will error in future. Ensure you extract a single element from your array before performing this operation. (Deprecated NumPy 1.25.)\n",
      "\n"
     ]
    },
    {
     "data": {
      "application/vnd.plotly.v1+json": {
       "config": {
        "plotlyServerURL": "https://plot.ly"
       },
       "data": [
        {
         "name": "(7.827378, 12.582341)",
         "type": "scatter",
         "x": [
          7.827378
         ],
         "y": [
          12.582341
         ]
        },
        {
         "name": "(7.617385, 7.18424)",
         "type": "scatter",
         "x": [
          7.617385
         ],
         "y": [
          7.18424
         ]
        },
        {
         "name": "(5.535518, 6.349078)",
         "type": "scatter",
         "x": [
          5.535518
         ],
         "y": [
          6.349078
         ]
        },
        {
         "name": "(5.343878, 6.119988)",
         "type": "scatter",
         "x": [
          5.343878
         ],
         "y": [
          6.119988
         ]
        },
        {
         "name": "(6.391666, 6.058862)",
         "type": "scatter",
         "x": [
          6.391666
         ],
         "y": [
          6.058862
         ]
        },
        {
         "name": "(7.53362, 6.88126)",
         "type": "scatter",
         "x": [
          7.53362
         ],
         "y": [
          6.88126
         ]
        },
        {
         "name": "(7.539437, 7.578526)",
         "type": "scatter",
         "x": [
          7.539437
         ],
         "y": [
          7.578526
         ]
        },
        {
         "name": "(4.677197, 7.999759)",
         "type": "scatter",
         "x": [
          4.677197
         ],
         "y": [
          7.999759
         ]
        },
        {
         "name": "(6.145733, 7.578887)",
         "type": "scatter",
         "x": [
          6.145733
         ],
         "y": [
          7.578887
         ]
        },
        {
         "name": "(5.393347, 7.856946)",
         "type": "scatter",
         "x": [
          5.393347
         ],
         "y": [
          7.856946
         ]
        },
        {
         "name": "(5.39032, 4.484458)",
         "type": "scatter",
         "x": [
          5.39032
         ],
         "y": [
          4.484458
         ]
        },
        {
         "name": "(5.731754, 8.384566)",
         "type": "scatter",
         "x": [
          5.731754
         ],
         "y": [
          8.384566
         ]
        },
        {
         "name": "(5.8203, 8.091556)",
         "type": "scatter",
         "x": [
          5.8203
         ],
         "y": [
          8.091556
         ]
        },
        {
         "name": "(5.772144, 7.158828)",
         "type": "scatter",
         "x": [
          5.772144
         ],
         "y": [
          7.158828
         ]
        },
        {
         "name": "(7.329193, 6.62412)",
         "type": "scatter",
         "x": [
          7.329193
         ],
         "y": [
          6.62412
         ]
        },
        {
         "name": "segment",
         "type": "scatter",
         "x": [
          6.210627,
          6.387186
         ],
         "y": [
          5.84202,
          5.61058
         ]
        },
        {
         "name": "segment",
         "type": "scatter",
         "x": [
          6.387186,
          6.513627
         ],
         "y": [
          5.61058,
          5.481816
         ]
        },
        {
         "name": "segment",
         "type": "scatter",
         "x": [
          6.513627,
          6.619522
         ],
         "y": [
          5.481816,
          5.425722
         ]
        },
        {
         "name": "segment",
         "type": "scatter",
         "x": [
          6.619522,
          6.77916
         ],
         "y": [
          5.425722,
          5.315806
         ]
        },
        {
         "name": "segment",
         "type": "scatter",
         "x": [
          6.77916,
          6.942117
         ],
         "y": [
          5.315806,
          5.393663
         ]
        },
        {
         "name": "segment",
         "type": "scatter",
         "x": [
          6.942117,
          7.024619
         ],
         "y": [
          5.393663,
          5.440061
         ]
        },
        {
         "name": "segment",
         "type": "scatter",
         "x": [
          7.024619,
          7.0759
         ],
         "y": [
          5.440061,
          5.481004
         ]
        },
        {
         "name": "segment",
         "type": "scatter",
         "x": [
          7.0759,
          7.149278
         ],
         "y": [
          5.481004,
          5.572028
         ]
        },
        {
         "name": "segment",
         "type": "scatter",
         "x": [
          7.149278,
          7.17598
         ],
         "y": [
          5.572028,
          5.626449
         ]
        },
        {
         "name": "segment",
         "type": "scatter",
         "x": [
          7.17598,
          7.204685
         ],
         "y": [
          5.626449,
          5.69936
         ]
        },
        {
         "name": "segment",
         "type": "scatter",
         "x": [
          7.204685,
          7.222515
         ],
         "y": [
          5.69936,
          5.767746
         ]
        },
        {
         "name": "segment",
         "type": "scatter",
         "x": [
          7.222515,
          7.241431
         ],
         "y": [
          5.767746,
          5.865452
         ]
        },
        {
         "name": "segment",
         "type": "scatter",
         "x": [
          7.241431,
          7.24807
         ],
         "y": [
          5.865452,
          5.944257
         ]
        },
        {
         "name": "segment",
         "type": "scatter",
         "x": [
          7.24807,
          7.247583
         ],
         "y": [
          5.944257,
          6.038704
         ]
        },
        {
         "name": "segment",
         "type": "scatter",
         "x": [
          7.247583,
          7.242427
         ],
         "y": [
          6.038704,
          6.116526
         ]
        },
        {
         "name": "segment",
         "type": "scatter",
         "x": [
          7.242427,
          7.227814
         ],
         "y": [
          6.116526,
          6.209839
         ]
        },
        {
         "name": "segment",
         "type": "scatter",
         "x": [
          7.227814,
          7.202784
         ],
         "y": [
          6.209839,
          6.31496
         ]
        },
        {
         "name": "segment",
         "type": "scatter",
         "x": [
          7.202784,
          7.174911
         ],
         "y": [
          6.31496,
          6.404784
         ]
        },
        {
         "name": "segment",
         "type": "scatter",
         "x": [
          7.174911,
          7.14766
         ],
         "y": [
          6.404784,
          6.48893
         ]
        },
        {
         "name": "segment",
         "type": "scatter",
         "x": [
          7.14766,
          7.107704
         ],
         "y": [
          6.48893,
          6.584835
         ]
        },
        {
         "name": "segment",
         "type": "scatter",
         "x": [
          7.107704,
          7.057647
         ],
         "y": [
          6.584835,
          6.682975
         ]
        },
        {
         "name": "segment",
         "type": "scatter",
         "x": [
          7.057647,
          7.003918
         ],
         "y": [
          6.682975,
          6.779002
         ]
        },
        {
         "name": "segment",
         "type": "scatter",
         "x": [
          7.003918,
          6.944713
         ],
         "y": [
          6.779002,
          6.871815
         ]
        },
        {
         "name": "segment",
         "type": "scatter",
         "x": [
          6.944713,
          6.883763
         ],
         "y": [
          6.871815,
          6.963429
         ]
        },
        {
         "name": "segment",
         "type": "scatter",
         "x": [
          6.883763,
          6.811454
         ],
         "y": [
          6.963429,
          7.05688
         ]
        },
        {
         "name": "segment",
         "type": "scatter",
         "x": [
          6.811454,
          6.716757
         ],
         "y": [
          7.05688,
          7.213503
         ]
        },
        {
         "name": "segment",
         "type": "scatter",
         "x": [
          6.716757,
          6.562666
         ],
         "y": [
          7.213503,
          7.294124
         ]
        },
        {
         "name": "segment",
         "type": "scatter",
         "x": [
          6.562666,
          6.494453
         ],
         "y": [
          7.294124,
          7.380493
         ]
        },
        {
         "name": "segment",
         "type": "scatter",
         "x": [
          6.494453,
          6.360039
         ],
         "y": [
          7.380493,
          7.621048
         ]
        },
        {
         "name": "segment",
         "type": "scatter",
         "x": [
          6.360039,
          6.330406
         ],
         "y": [
          7.621048,
          7.750745
         ]
        },
        {
         "name": "segment",
         "type": "scatter",
         "x": [
          6.330406,
          6.301199
         ],
         "y": [
          7.750745,
          7.906112
         ]
        },
        {
         "name": "segment",
         "type": "scatter",
         "x": [
          6.301199,
          6.292881
         ],
         "y": [
          7.906112,
          8.047263
         ]
        },
        {
         "name": "segment",
         "type": "scatter",
         "x": [
          6.292881,
          6.270141
         ],
         "y": [
          8.047263,
          8.220375
         ]
        },
        {
         "name": "segment",
         "type": "scatter",
         "x": [
          6.270141,
          6.301787
         ],
         "y": [
          8.220375,
          8.446331
         ]
        },
        {
         "name": "segment",
         "type": "scatter",
         "x": [
          6.301787,
          6.291999
         ],
         "y": [
          8.446331,
          8.549057
         ]
        },
        {
         "name": "segment",
         "type": "scatter",
         "x": [
          6.291999,
          6.28144
         ],
         "y": [
          8.549057,
          8.681929
         ]
        },
        {
         "name": "segment",
         "type": "scatter",
         "x": [
          6.28144,
          6.264832
         ],
         "y": [
          8.681929,
          8.859714
         ]
        },
        {
         "name": "segment",
         "type": "scatter",
         "x": [
          6.264832,
          6.253135
         ],
         "y": [
          8.859714,
          9.006348
         ]
        },
        {
         "name": "segment",
         "type": "scatter",
         "x": [
          6.253135,
          6.236992
         ],
         "y": [
          9.006348,
          9.156949
         ]
        },
        {
         "name": "segment",
         "type": "scatter",
         "x": [
          6.236992,
          6.220652
         ],
         "y": [
          9.156949,
          9.32795
         ]
        },
        {
         "name": "segment",
         "type": "scatter",
         "x": [
          6.220652,
          6.206001
         ],
         "y": [
          9.32795,
          9.482903
         ]
        },
        {
         "name": "segment",
         "type": "scatter",
         "x": [
          6.206001,
          6.190286
         ],
         "y": [
          9.482903,
          9.604396
         ]
        },
        {
         "name": "segment",
         "type": "scatter",
         "x": [
          6.190286,
          6.179167
         ],
         "y": [
          9.604396,
          9.737047
         ]
        },
        {
         "name": "segment",
         "type": "scatter",
         "x": [
          6.179167,
          6.154072
         ],
         "y": [
          9.737047,
          9.860493
         ]
        },
        {
         "name": "segment",
         "type": "scatter",
         "x": [
          6.154072,
          6.134397
         ],
         "y": [
          9.860493,
          10.005919
         ]
        },
        {
         "name": "segment",
         "type": "scatter",
         "x": [
          6.134397,
          6.112254
         ],
         "y": [
          10.005919,
          10.14982
         ]
        },
        {
         "name": "segment",
         "type": "scatter",
         "x": [
          6.112254,
          6.095885
         ],
         "y": [
          10.14982,
          10.270052
         ]
        },
        {
         "name": "segment",
         "type": "scatter",
         "x": [
          6.095885,
          6.077444
         ],
         "y": [
          10.270052,
          10.344019
         ]
        },
        {
         "name": "segment",
         "type": "scatter",
         "x": [
          6.077444,
          6.05959
         ],
         "y": [
          10.344019,
          10.414488
         ]
        },
        {
         "name": "segment",
         "type": "scatter",
         "x": [
          6.05959,
          6.041704
         ],
         "y": [
          10.414488,
          10.480247
         ]
        },
        {
         "name": "segment",
         "type": "scatter",
         "x": [
          6.041704,
          6.015795
         ],
         "y": [
          10.480247,
          10.560593
         ]
        },
        {
         "name": "segment",
         "type": "scatter",
         "x": [
          6.015795,
          5.982568
         ],
         "y": [
          10.560593,
          10.684158
         ]
        },
        {
         "name": "segment",
         "type": "scatter",
         "x": [
          5.982568,
          5.953505
         ],
         "y": [
          10.684158,
          10.808405
         ]
        },
        {
         "name": "segment",
         "type": "scatter",
         "x": [
          5.953505,
          5.924823
         ],
         "y": [
          10.808405,
          10.962632
         ]
        },
        {
         "name": "segment",
         "type": "scatter",
         "x": [
          5.924823,
          5.915433
         ],
         "y": [
          10.962632,
          11.139027
         ]
        },
        {
         "name": "segment",
         "type": "scatter",
         "x": [
          5.915433,
          5.89504
         ],
         "y": [
          11.139027,
          11.298153
         ]
        },
        {
         "name": "segment",
         "type": "scatter",
         "x": [
          5.89504,
          5.877228
         ],
         "y": [
          11.298153,
          11.43714
         ]
        },
        {
         "name": "segment",
         "type": "scatter",
         "x": [
          5.877228,
          5.860985
         ],
         "y": [
          11.43714,
          11.579376
         ]
        },
        {
         "name": "segment",
         "type": "scatter",
         "x": [
          5.860985,
          5.857053
         ],
         "y": [
          11.579376,
          11.696053
         ]
        },
        {
         "name": "segment",
         "type": "scatter",
         "x": [
          5.857053,
          5.859259
         ],
         "y": [
          11.696053,
          11.818261
         ]
        },
        {
         "name": "segment",
         "type": "scatter",
         "x": [
          5.859259,
          5.858721
         ],
         "y": [
          11.818261,
          11.903377
         ]
        },
        {
         "name": "segment",
         "type": "scatter",
         "x": [
          5.858721,
          5.850055
         ],
         "y": [
          11.903377,
          11.962169
         ]
        },
        {
         "name": "segment",
         "type": "scatter",
         "x": [
          5.850055,
          5.841136
         ],
         "y": [
          11.962169,
          12.018175
         ]
        },
        {
         "name": "6.931867212464743",
         "type": "scatter",
         "x": [
          6.210627,
          6.243621918367347,
          6.276616836734694,
          6.309611755102041,
          6.342606673469388,
          6.375601591836735,
          6.408596510204082,
          6.441591428571428,
          6.474586346938775,
          6.507581265306122,
          6.540576183673469,
          6.573571102040816,
          6.606566020408163,
          6.63956093877551,
          6.672555857142857,
          6.705550775510204,
          6.738545693877551,
          6.771540612244898,
          6.804535530612245,
          6.837530448979592,
          6.870525367346939,
          6.903520285714285,
          6.9365152040816325,
          6.9695101224489795,
          7.0025050408163265,
          7.0354999591836735,
          7.068494877551021,
          7.101489795918368,
          7.134484714285715,
          7.167479632653062,
          7.200474551020409,
          7.233469469387755,
          7.266464387755102,
          7.299459306122449,
          7.332454224489796,
          7.365449142857143,
          7.39844406122449,
          7.431438979591837,
          7.464433897959184,
          7.497428816326531,
          7.530423734693878,
          7.563418653061225,
          7.596413571428572,
          7.629408489795919,
          7.662403408163266,
          7.695398326530613,
          7.72839324489796,
          7.761388163265306,
          7.794383081632653,
          7.827378
         ],
         "y": [
          5.8420200000000015,
          5.990028751954018,
          6.137602038052815,
          6.28473985829638,
          6.4314422126847255,
          6.577709101217845,
          6.723540523895725,
          6.868936480718386,
          7.013896971685821,
          7.1584219967980225,
          7.302511556055006,
          7.446165649456763,
          7.58938427700328,
          7.732167438694578,
          7.87451513453065,
          8.016427364511497,
          8.15790412863711,
          8.298945426907498,
          8.43955125932266,
          8.579721625882595,
          8.719456526587305,
          8.858755961436781,
          8.99761993043104,
          9.136048433570057,
          9.274041470853856,
          9.411599042282429,
          9.548721147855769,
          9.68540778757389,
          9.821658961436778,
          9.957474669444448,
          10.092854911596884,
          10.22779968789408,
          10.362308998336065,
          10.496382842922824,
          10.63002122165435,
          10.763224134530649,
          10.895991581551723,
          11.02832356271757,
          11.160220078028185,
          11.291681127483574,
          11.422706711083745,
          11.553296828828675,
          11.683451480718386,
          11.813170666752871,
          11.942454386932123,
          12.071302641256157,
          12.199715429724957,
          12.327692752338525,
          12.455234609096873,
          12.582340999999996
         ]
        },
        {
         "name": "1.9514454718959997",
         "type": "scatter",
         "x": [
          6.210627,
          6.239336346938775,
          6.268045693877551,
          6.296755040816326,
          6.325464387755102,
          6.354173734693878,
          6.382883081632652,
          6.411592428571428,
          6.440301775510203,
          6.469011122448979,
          6.497720469387755,
          6.52642981632653,
          6.555139163265306,
          6.583848510204081,
          6.612557857142857,
          6.6412672040816325,
          6.669976551020408,
          6.698685897959184,
          6.727395244897959,
          6.756104591836735,
          6.7848139387755095,
          6.813523285714285,
          6.842232632653061,
          6.870941979591836,
          6.899651326530612,
          6.928360673469387,
          6.957070020408163,
          6.985779367346939,
          7.014488714285714,
          7.04319806122449,
          7.0719074081632645,
          7.10061675510204,
          7.129326102040816,
          7.158035448979591,
          7.186744795918367,
          7.215454142857142,
          7.244163489795918,
          7.2728728367346935,
          7.301582183673469,
          7.330291530612245,
          7.35900087755102,
          7.387710224489796,
          7.4164195714285714,
          7.445128918367347,
          7.473838265306123,
          7.502547612244897,
          7.531256959183673,
          7.5599663061224485,
          7.588675653061224,
          7.617385
         ],
         "y": [
          5.842020000000003,
          5.8773248202738095,
          5.912299949906956,
          5.946945388899444,
          5.981261137251273,
          6.015247194962441,
          6.048903562032946,
          6.082230238462792,
          6.11522722425198,
          6.147894519400506,
          6.18023212390837,
          6.212240037775576,
          6.24391826100212,
          6.275266793588004,
          6.306285635533225,
          6.3369747868377875,
          6.367334247501692,
          6.397364017524934,
          6.427064096907516,
          6.456434485649439,
          6.485475183750697,
          6.514186191211298,
          6.54256750803124,
          6.570619134210521,
          6.598341069749143,
          6.6257333146471,
          6.6527958689043984,
          6.679528732521039,
          6.705931905497014,
          6.732005387832331,
          6.757749179526986,
          6.7831632805809825,
          6.808247690994321,
          6.833002410766998,
          6.857427439899013,
          6.881522778390366,
          6.905288426241064,
          6.928724383451101,
          6.951830650020472,
          6.974607225949189,
          6.99705411123724,
          7.019171305884633,
          7.040958809891361,
          7.0624166232574375,
          7.083544745982845,
          7.104343178067598,
          7.124811919511689,
          7.144950970315119,
          7.16476033047789,
          7.184239999999999
         ]
        },
        {
         "name": "0.8453723052320031",
         "type": "scatter",
         "x": [
          5.535518,
          5.549295734693877,
          5.563073469387755,
          5.576851204081632,
          5.5906289387755095,
          5.604406673469388,
          5.618184408163265,
          5.631962142857143,
          5.64573987755102,
          5.659517612244898,
          5.673295346938775,
          5.6870730816326525,
          5.70085081632653,
          5.714628551020408,
          5.728406285714286,
          5.742184020408163,
          5.7559617551020406,
          5.769739489795918,
          5.783517224489795,
          5.797294959183673,
          5.81107269387755,
          5.824850428571429,
          5.838628163265306,
          5.8524058979591835,
          5.866183632653061,
          5.879961367346938,
          5.893739102040816,
          5.907516836734693,
          5.921294571428571,
          5.935072306122449,
          5.9488500408163265,
          5.962627775510204,
          5.976405510204081,
          5.990183244897959,
          6.003960979591836,
          6.017738714285714,
          6.031516448979591,
          6.0452941836734695,
          6.059071918367347,
          6.072849653061224,
          6.086627387755102,
          6.100405122448979,
          6.114182857142857,
          6.127960591836734,
          6.141738326530612,
          6.155516061224489,
          6.169293795918367,
          6.183071530612245,
          6.196849265306122,
          6.210627
         ],
         "y": [
          6.349078000000001,
          6.340552206894653,
          6.331950483399986,
          6.323272829516002,
          6.3145192452427,
          6.305689730580078,
          6.296784285528139,
          6.2878029100868815,
          6.278745604256308,
          6.269612368036415,
          6.260403201427206,
          6.251118104428677,
          6.24175707704083,
          6.232320119263667,
          6.2228072310971845,
          6.2132184125413845,
          6.203553663596266,
          6.193812984261831,
          6.1839963745380775,
          6.174103834425006,
          6.164135363922616,
          6.154090963030906,
          6.143970631749881,
          6.1337743700795375,
          6.1235021780198755,
          6.113154055570897,
          6.102730002732598,
          6.092230019504983,
          6.08165410588805,
          6.071002261881799,
          6.060274487486229,
          6.049470782701341,
          6.0385911475271365,
          6.027635581963614,
          6.016604086010773,
          6.005496659668615,
          5.994313302937136,
          5.98305401581634,
          5.971718798306227,
          5.960307650406796,
          5.948820572118048,
          5.937257563439982,
          5.925618624372597,
          5.913903754915895,
          5.9021129550698745,
          5.890246224834534,
          5.878303564209878,
          5.866284973195904,
          5.8541904517926096,
          5.84202
         ]
        },
        {
         "name": "0.9139706950562552",
         "type": "scatter",
         "x": [
          5.343878,
          5.361566755102041,
          5.379255510204081,
          5.396944265306122,
          5.414633020408163,
          5.4323217755102045,
          5.450010530612245,
          5.467699285714286,
          5.485388040816327,
          5.503076795918368,
          5.520765551020408,
          5.538454306122449,
          5.55614306122449,
          5.573831816326531,
          5.591520571428571,
          5.609209326530612,
          5.626898081632653,
          5.644586836734694,
          5.6622755918367345,
          5.6799643469387755,
          5.6976531020408165,
          5.715341857142857,
          5.733030612244898,
          5.750719367346939,
          5.76840812244898,
          5.78609687755102,
          5.803785632653061,
          5.821474387755102,
          5.839163142857143,
          5.856851897959183,
          5.874540653061224,
          5.892229408163265,
          5.909918163265306,
          5.9276069183673465,
          5.945295673469388,
          5.962984428571429,
          5.980673183673469,
          5.99836193877551,
          6.016050693877551,
          6.033739448979592,
          6.051428204081632,
          6.069116959183673,
          6.086805714285714,
          6.104494469387755,
          6.122183224489795,
          6.139871979591836,
          6.157560734693877,
          6.1752494897959185,
          6.192938244897959,
          6.210627
         ],
         "y": [
          6.119988,
          6.117318947421246,
          6.114524738019668,
          6.111605371795264,
          6.108560848748037,
          6.105391168877987,
          6.102096332185113,
          6.098676338669413,
          6.095131188330891,
          6.091460881169544,
          6.087665417185372,
          6.083744796378378,
          6.07969901874856,
          6.075528084295916,
          6.071231993020449,
          6.06681074492216,
          6.062264340001043,
          6.057592778257105,
          6.052796059690342,
          6.047874184300757,
          6.0428271520883445,
          6.037654963053111,
          6.032357617195053,
          6.026935114514169,
          6.021387455010463,
          6.015714638683932,
          6.009916665534576,
          6.003993535562399,
          5.997945248767397,
          5.99177180514957,
          5.985473204708919,
          5.979049447445446,
          5.972500533359146,
          5.965826462450023,
          5.959027234718077,
          5.952102850163307,
          5.945053308785712,
          5.937878610585294,
          5.930578755562052,
          5.923153743715983,
          5.915603575047093,
          5.907928249555381,
          5.90012776724084,
          5.892202128103478,
          5.884151332143293,
          5.875975379360282,
          5.867674269754447,
          5.8592480033257885,
          5.850696580074308,
          5.84202
         ]
        },
        {
         "name": "0.2824915156890422",
         "type": "scatter",
         "x": [
          6.210627,
          6.214321673469388,
          6.218016346938775,
          6.221711020408163,
          6.22540569387755,
          6.2291003673469385,
          6.232795040816327,
          6.236489714285714,
          6.240184387755102,
          6.243879061224489,
          6.247573734693877,
          6.2512684081632655,
          6.254963081632653,
          6.258657755102041,
          6.262352428571428,
          6.266047102040816,
          6.269741775510203,
          6.2734364489795915,
          6.27713112244898,
          6.280825795918367,
          6.284520469387755,
          6.288215142857142,
          6.29190981632653,
          6.2956044897959185,
          6.299299163265306,
          6.302993836734694,
          6.306688510204081,
          6.310383183673469,
          6.314077857142857,
          6.3177725306122445,
          6.321467204081633,
          6.32516187755102,
          6.328856551020408,
          6.332551224489796,
          6.336245897959183,
          6.3399405714285715,
          6.343635244897959,
          6.347329918367347,
          6.351024591836735,
          6.354719265306122,
          6.35841393877551,
          6.3621086122448975,
          6.365803285714286,
          6.369497959183673,
          6.373192632653061,
          6.376887306122449,
          6.380581979591836,
          6.3842766530612245,
          6.387971326530612,
          6.391666
         ],
         "y": [
          5.84202,
          5.846576392814411,
          5.851127325384002,
          5.8556727977087775,
          5.8602128097887345,
          5.8647473616238734,
          5.869276453214193,
          5.873800084559697,
          5.878318255660382,
          5.882830966516247,
          5.887338217127294,
          5.891840007493524,
          5.896336337614935,
          5.900827207491528,
          5.905312617123304,
          5.909792566510262,
          5.914267055652401,
          5.918736084549721,
          5.923199653202223,
          5.9276577616099075,
          5.932110409772772,
          5.936557597690822,
          5.940999325364054,
          5.945435592792464,
          5.949866399976058,
          5.9542917469148335,
          5.9587116336087895,
          5.963126060057933,
          5.967535026262253,
          5.971938532221754,
          5.97633657793644,
          5.980729163406306,
          5.985116288631353,
          5.989497953611583,
          5.993874158346998,
          5.998244902837591,
          6.002610187083366,
          6.006970011084324,
          6.011324374840463,
          6.015673278351782,
          6.020016721618285,
          6.024354704639974,
          6.028687227416841,
          6.033014289948888,
          6.037335892236118,
          6.041652034278529,
          6.045962716076124,
          6.050267937628901,
          6.054567698936859,
          6.0588619999999995
         ]
        },
        {
         "name": "1.6899093872312554",
         "type": "scatter",
         "x": [
          6.210627,
          6.237626857142857,
          6.264626714285714,
          6.291626571428571,
          6.318626428571428,
          6.345626285714285,
          6.3726261428571425,
          6.399626,
          6.426625857142857,
          6.453625714285714,
          6.480625571428571,
          6.507625428571428,
          6.534625285714285,
          6.561625142857142,
          6.5886249999999995,
          6.615624857142857,
          6.642624714285714,
          6.669624571428571,
          6.696624428571428,
          6.723624285714285,
          6.750624142857142,
          6.777623999999999,
          6.804623857142857,
          6.831623714285714,
          6.858623571428572,
          6.885623428571428,
          6.912623285714286,
          6.939623142857142,
          6.966623,
          6.993622857142857,
          7.0206227142857145,
          7.047622571428572,
          7.074622428571429,
          7.101622285714286,
          7.128622142857143,
          7.155622,
          7.182621857142857,
          7.209621714285714,
          7.2366215714285715,
          7.263621428571429,
          7.290621285714286,
          7.317621142857143,
          7.344621,
          7.371620857142857,
          7.398620714285714,
          7.4256205714285715,
          7.452620428571429,
          7.479620285714286,
          7.506620142857143,
          7.53362
         ],
         "y": [
          5.84202,
          5.87022730553489,
          5.898143014155487,
          5.925767125861787,
          5.953099640653797,
          5.9801405585315095,
          6.0068898794949295,
          6.03334760354406,
          6.059513730678892,
          6.08538826089943,
          6.110971194205677,
          6.136262530597625,
          6.161262270075284,
          6.185970412638646,
          6.210386958287716,
          6.234511907022492,
          6.258345258842972,
          6.281887013749161,
          6.305137171741054,
          6.328095732818653,
          6.35076269698196,
          6.373138064230972,
          6.395221834565691,
          6.417014007986115,
          6.438514584492246,
          6.459723564084081,
          6.480640946761625,
          6.501266732524872,
          6.521600921373828,
          6.54164351330849,
          6.561394508328856,
          6.58085390643493,
          6.600021707626709,
          6.618897911904195,
          6.63748251926739,
          6.655775529716289,
          6.673776943250893,
          6.691486759871202,
          6.70890497957722,
          6.726031602368941,
          6.742866628246368,
          6.759410057209504,
          6.775661889258345,
          6.791622124392891,
          6.807290762613144,
          6.822667803919103,
          6.837753248310769,
          6.85254709578814,
          6.867049346351216,
          6.881260000000001
         ]
        },
        {
         "name": "2.1901332856365894",
         "type": "scatter",
         "x": [
          6.210627,
          6.2377455714285714,
          6.264864142857142,
          6.291982714285714,
          6.319101285714286,
          6.346219857142857,
          6.3733384285714285,
          6.400456999999999,
          6.427575571428571,
          6.454694142857143,
          6.481812714285714,
          6.508931285714286,
          6.536049857142857,
          6.563168428571428,
          6.590287,
          6.617405571428572,
          6.644524142857143,
          6.671642714285714,
          6.698761285714285,
          6.725879857142857,
          6.752998428571429,
          6.780117,
          6.8072355714285715,
          6.834354142857142,
          6.861472714285714,
          6.888591285714286,
          6.915709857142858,
          6.942828428571429,
          6.969947,
          6.997065571428571,
          7.024184142857143,
          7.051302714285715,
          7.078421285714286,
          7.105539857142857,
          7.132658428571428,
          7.159777,
          7.186895571428572,
          7.214014142857144,
          7.2411327142857145,
          7.268251285714286,
          7.295369857142857,
          7.322488428571429,
          7.349607000000001,
          7.3767255714285715,
          7.403844142857143,
          7.430962714285714,
          7.458081285714286,
          7.485199857142858,
          7.5123184285714295,
          7.539437
         ],
         "y": [
          5.8420200000000015,
          5.884518900355918,
          5.926723633945308,
          5.9686342007681645,
          6.010250600824492,
          6.051572834114285,
          6.092600900637553,
          6.133334800394284,
          6.173774533384492,
          6.213920099608163,
          6.253771499065309,
          6.293328731755917,
          6.332591797679999,
          6.371560696837552,
          6.410235429228575,
          6.448615994853064,
          6.486702393711024,
          6.5244946258024505,
          6.561992691127347,
          6.5991965896857145,
          6.636106321477552,
          6.67272188650286,
          6.709043284761631,
          6.745070516253879,
          6.78080358097959,
          6.816242478938779,
          6.851387210131431,
          6.886237774557554,
          6.920794172217143,
          6.955056403110202,
          6.989024467236735,
          7.022698364596735,
          7.056078095190205,
          7.089163659017146,
          7.1219550560775495,
          7.154452286371427,
          7.186655349898775,
          7.218564246659593,
          7.250178976653881,
          7.2814995398816365,
          7.312525936342855,
          7.34325816603755,
          7.373696228965716,
          7.403840125127349,
          7.433689854522452,
          7.463245417151018,
          7.492506813013062,
          7.521474042108572,
          7.550147104437553,
          7.578526
         ]
        },
        {
         "name": "2.65051531389284",
         "type": "scatter",
         "x": [
          4.677197,
          4.712094734693877,
          4.746992469387755,
          4.781890204081632,
          4.8167879387755095,
          4.851685673469388,
          4.886583408163265,
          4.921481142857142,
          4.95637887755102,
          4.9912766122448975,
          5.026174346938775,
          5.061072081632653,
          5.09596981632653,
          5.130867551020408,
          5.1657652857142855,
          5.200663020408163,
          5.235560755102041,
          5.270458489795918,
          5.305356224489795,
          5.3402539591836735,
          5.375151693877551,
          5.410049428571428,
          5.444947163265306,
          5.479844897959183,
          5.514742632653061,
          5.549640367346939,
          5.584538102040816,
          5.619435836734693,
          5.654333571428571,
          5.689231306122449,
          5.724129040816326,
          5.759026775510204,
          5.793924510204081,
          5.8288222448979585,
          5.863719979591837,
          5.898617714285714,
          5.933515448979591,
          5.968413183673469,
          6.0033109183673465,
          6.038208653061224,
          6.073106387755102,
          6.108004122448979,
          6.142901857142856,
          6.1777995918367345,
          6.212697326530612,
          6.247595061224489,
          6.282492795918367,
          6.317390530612244,
          6.352288265306122,
          6.387186
         ],
         "y": [
          7.999758999999999,
          7.962691623010896,
          7.925137105267085,
          7.887095446768569,
          7.84856664751535,
          7.809550707507421,
          7.770047626744789,
          7.730057405227452,
          7.6895800429554075,
          7.648615539928658,
          7.6071638961472035,
          7.565225111611042,
          7.522799186320175,
          7.479886120274602,
          7.436485913474325,
          7.392598565919342,
          7.348224077609651,
          7.303362448545256,
          7.258013678726156,
          7.212177768152349,
          7.165854716823837,
          7.1190445247406196,
          7.071747191902695,
          7.023962718310066,
          6.975691103962731,
          6.9269323488606895,
          6.877686453003943,
          6.827953416392492,
          6.7777332390263325,
          6.7270259209054695,
          6.675831462029901,
          6.624149862399625,
          6.571981122014645,
          6.5193252408749585,
          6.466182218980565,
          6.412552056331468,
          6.358434752927666,
          6.303830308769156,
          6.248738723855941,
          6.193159998188021,
          6.1370941317653935,
          6.080541124588061,
          6.023500976656024,
          5.96597368796928,
          5.90795925852783,
          5.849457688331676,
          5.790468977380814,
          5.7309931256752495,
          5.671030133214977,
          5.610579999999998
         ]
        },
        {
         "name": "1.7380788840713275",
         "type": "scatter",
         "x": [
          6.145733,
          6.147057367346939,
          6.148381734693878,
          6.149706102040816,
          6.151030469387755,
          6.152354836734694,
          6.153679204081633,
          6.155003571428571,
          6.15632793877551,
          6.157652306122449,
          6.158976673469388,
          6.160301040816327,
          6.161625408163265,
          6.162949775510204,
          6.164274142857143,
          6.165598510204082,
          6.16692287755102,
          6.168247244897959,
          6.169571612244898,
          6.170895979591837,
          6.172220346938776,
          6.173544714285714,
          6.174869081632653,
          6.176193448979592,
          6.177517816326531,
          6.178842183673469,
          6.180166551020408,
          6.181490918367347,
          6.182815285714286,
          6.184139653061224,
          6.185464020408163,
          6.186788387755102,
          6.188112755102041,
          6.18943712244898,
          6.190761489795918,
          6.192085857142857,
          6.193410224489796,
          6.194734591836735,
          6.196058959183673,
          6.197383326530612,
          6.198707693877551,
          6.20003206122449,
          6.201356428571429,
          6.202680795918367,
          6.204005163265306,
          6.205329530612245,
          6.206653897959184,
          6.207978265306122,
          6.209302632653061,
          6.210627
         ],
         "y": [
          7.578887000000009,
          7.5434575726030175,
          7.5080274436264745,
          7.472596613070408,
          7.437165080934818,
          7.40173284721962,
          7.366299911924926,
          7.330866275050681,
          7.295431936596856,
          7.259996896563479,
          7.224561154950607,
          7.189124711758126,
          7.15368756698615,
          7.118249720634594,
          7.082811172703487,
          7.047371923192827,
          7.011931972102644,
          6.976491319432938,
          6.941049965183623,
          6.9056079093548135,
          6.870165151946395,
          6.834721692958482,
          6.799277532390988,
          6.763832670243971,
          6.728387106517403,
          6.692940841211282,
          6.657493874325638,
          6.622046205860386,
          6.58659783581561,
          6.551148764191339,
          6.51569899098746,
          6.480248516204028,
          6.444797339841102,
          6.4093454618985675,
          6.373892882376538,
          6.338439601274928,
          6.302985618593766,
          6.267530934333081,
          6.232075548492844,
          6.196619461073055,
          6.161162672073715,
          6.125705181494794,
          6.090246989336379,
          6.054788095598411,
          6.019328500280864,
          5.983868203383793,
          5.9484072049071415,
          5.912945504850995,
          5.877483103215269,
          5.842019999999991
         ]
        },
        {
         "name": "2.174560970602045",
         "type": "scatter",
         "x": [
          5.393347,
          5.4100261836734695,
          5.426705367346939,
          5.443384551020409,
          5.460063734693878,
          5.476742918367347,
          5.4934221020408165,
          5.510101285714286,
          5.526780469387755,
          5.543459653061225,
          5.560138836734694,
          5.576818020408163,
          5.593497204081633,
          5.610176387755102,
          5.626855571428572,
          5.643534755102041,
          5.66021393877551,
          5.67689312244898,
          5.693572306122449,
          5.710251489795919,
          5.726930673469388,
          5.743609857142857,
          5.7602890408163265,
          5.776968224489796,
          5.793647408163265,
          5.810326591836735,
          5.827005775510204,
          5.8436849591836735,
          5.860364142857143,
          5.877043326530612,
          5.893722510204082,
          5.910401693877551,
          5.92708087755102,
          5.94376006122449,
          5.960439244897959,
          5.977118428571428,
          5.993797612244898,
          6.010476795918367,
          6.027155979591837,
          6.043835163265306,
          6.060514346938775,
          6.077193530612245,
          6.093872714285714,
          6.1105518979591835,
          6.127231081632653,
          6.143910265306122,
          6.160589448979591,
          6.177268632653061,
          6.1939478163265305,
          6.210627
         ],
         "y": [
          7.856945999999998,
          7.818495734837416,
          7.779934191607629,
          7.741261370310635,
          7.702477270946437,
          7.663581893515033,
          7.6245752380164244,
          7.585457304450611,
          7.546228092817592,
          7.506887603117366,
          7.467435835349936,
          7.4278727895153,
          7.38819846561346,
          7.348412863644414,
          7.30851598360816,
          7.268507825504704,
          7.228388389334041,
          7.188157675096175,
          7.1478156827911015,
          7.107362412418823,
          7.066797863979339,
          7.02612203747265,
          6.985334932898757,
          6.944436550257658,
          6.903426889549355,
          6.862305950773842,
          6.821073733931126,
          6.779730239021205,
          6.73827546604408,
          6.696709414999749,
          6.65503208588821,
          6.613243478709468,
          6.571343593463521,
          6.529332430150369,
          6.487209988770011,
          6.444976269322449,
          6.402631271807678,
          6.3601749962257035,
          6.317607442576525,
          6.27492861086014,
          6.232138501076552,
          6.189237113225753,
          6.146224447307754,
          6.103100503322548,
          6.059865281270136,
          6.016518781150518,
          5.973061002963698,
          5.929491946709668,
          5.885811612388435,
          5.842019999999998
         ]
        },
        {
         "name": "1.5058912324755958",
         "type": "scatter",
         "x": [
          5.39032,
          5.410664204081633,
          5.431008408163265,
          5.451352612244898,
          5.4716968163265305,
          5.4920410204081636,
          5.512385224489796,
          5.532729428571429,
          5.553073632653061,
          5.573417836734694,
          5.593762040816326,
          5.614106244897959,
          5.6344504489795915,
          5.6547946530612245,
          5.675138857142857,
          5.69548306122449,
          5.715827265306123,
          5.736171469387755,
          5.756515673469388,
          5.77685987755102,
          5.797204081632653,
          5.8175482857142855,
          5.837892489795919,
          5.858236693877551,
          5.878580897959184,
          5.898925102040816,
          5.919269306122449,
          5.939613510204081,
          5.959957714285714,
          5.9803019183673465,
          6.0006461224489795,
          6.020990326530612,
          6.041334530612245,
          6.061678734693878,
          6.08202293877551,
          6.102367142857143,
          6.122711346938775,
          6.143055551020408,
          6.1633997551020405,
          6.183743959183674,
          6.204088163265306,
          6.224432367346939,
          6.244776571428571,
          6.265120775510204,
          6.285464979591836,
          6.305809183673469,
          6.326153387755102,
          6.346497591836735,
          6.366841795918367,
          6.387186
         ],
         "y": [
          4.484458,
          4.511413393373919,
          4.538203232091952,
          4.564827516154098,
          4.59128624556036,
          4.617579420310733,
          4.64370704040522,
          4.66966910584382,
          4.695465616626539,
          4.721096572753368,
          4.7465619742243135,
          4.771861821039369,
          4.796996113198539,
          4.8219648507018285,
          4.8467680335492265,
          4.871405661740738,
          4.8958777352763665,
          4.9201842541561085,
          4.944325218379966,
          4.9683006279479365,
          4.992110482860017,
          5.015754783116211,
          5.039233528716526,
          5.062546719660951,
          5.085694355949489,
          5.108676437582144,
          5.131492964558909,
          5.154143936879789,
          5.176629354544787,
          5.198949217553894,
          5.221103525907115,
          5.243092279604454,
          5.264915478645905,
          5.28657312303147,
          5.30806521276115,
          5.32939174783494,
          5.350552728252847,
          5.371548154014871,
          5.392378025121001,
          5.41304234157125,
          5.433541103365613,
          5.453874310504091,
          5.4740419629866786,
          5.494044060813383,
          5.513880603984202,
          5.533551592499133,
          5.553057026358182,
          5.572396905561341,
          5.591571230108611,
          5.610580000000002
         ]
        },
        {
         "name": "2.5872540534753368",
         "type": "scatter",
         "x": [
          5.731754,
          5.741526918367346,
          5.7512998367346935,
          5.76107275510204,
          5.770845673469387,
          5.780618591836734,
          5.790391510204081,
          5.800164428571428,
          5.809937346938775,
          5.819710265306122,
          5.829483183673469,
          5.839256102040816,
          5.849029020408163,
          5.8588019387755095,
          5.868574857142857,
          5.878347775510203,
          5.888120693877551,
          5.897893612244897,
          5.907666530612245,
          5.917439448979591,
          5.927212367346939,
          5.936985285714285,
          5.9467582040816325,
          5.956531122448979,
          5.966304040816326,
          5.976076959183673,
          5.98584987755102,
          5.995622795918367,
          6.005395714285714,
          6.015168632653061,
          6.024941551020408,
          6.034714469387755,
          6.044487387755102,
          6.0542603061224485,
          6.064033224489796,
          6.073806142857142,
          6.08357906122449,
          6.093351979591836,
          6.103124897959184,
          6.11289781632653,
          6.122670734693878,
          6.132443653061224,
          6.1422165714285715,
          6.151989489795918,
          6.161762408163265,
          6.171535326530612,
          6.181308244897959,
          6.191081163265306,
          6.200854081632652,
          6.210627
         ],
         "y": [
          8.384566,
          8.333594201483233,
          8.2825841989931,
          8.2315359925296,
          8.180449582092727,
          8.129324967682496,
          8.078162149298898,
          8.026961126941938,
          7.975721900611603,
          7.9244444703079076,
          7.873128836030848,
          7.82177499778042,
          7.77038295555662,
          7.718952709359467,
          7.667484259188939,
          7.615977605045046,
          7.5644327469277854,
          7.5128496848371675,
          7.4612284187731746,
          7.409568948735824,
          7.357871274725099,
          7.306135396741016,
          7.254361314783559,
          7.20254902885274,
          7.150698538948554,
          7.098809845071006,
          7.046882947220084,
          6.994917845395804,
          6.942914539598156,
          6.890873029827141,
          6.838793316082757,
          6.786675398365013,
          6.7345192766739,
          6.682324951009424,
          6.630092421371575,
          6.577821687760366,
          6.525512750175793,
          6.473165608617851,
          6.420780263086538,
          6.368356713581864,
          6.315894960103826,
          6.26339500265242,
          6.2108568412276455,
          6.158280475829514,
          6.105665906458007,
          6.05301313311314,
          6.000322155794898,
          5.947592974503301,
          5.894825589238337,
          5.842019999999998
         ]
        },
        {
         "name": "2.283150548881022",
         "type": "scatter",
         "x": [
          5.8203,
          5.828265857142857,
          5.836231714285714,
          5.844197571428571,
          5.852163428571428,
          5.860129285714286,
          5.868095142857142,
          5.876061,
          5.884026857142857,
          5.891992714285714,
          5.899958571428571,
          5.9079244285714285,
          5.915890285714285,
          5.923856142857143,
          5.9318219999999995,
          5.939787857142857,
          5.947753714285714,
          5.955719571428571,
          5.963685428571428,
          5.971651285714286,
          5.979617142857142,
          5.987583,
          5.995548857142857,
          6.003514714285714,
          6.011480571428571,
          6.019446428571428,
          6.027412285714285,
          6.035378142857143,
          6.043343999999999,
          6.051309857142857,
          6.059275714285714,
          6.067241571428571,
          6.075207428571428,
          6.0831732857142855,
          6.091139142857142,
          6.099105,
          6.1070708571428565,
          6.115036714285714,
          6.123002571428571,
          6.130968428571428,
          6.138934285714285,
          6.146900142857143,
          6.154865999999999,
          6.162831857142857,
          6.1707977142857136,
          6.178763571428571,
          6.186729428571428,
          6.194695285714285,
          6.202661142857142,
          6.210627
         ],
         "y": [
          8.091555999999997,
          8.04625626888901,
          8.000931155826013,
          7.955580660811005,
          7.910204783843998,
          7.864803524924973,
          7.819376884053948,
          7.77392486123091,
          7.728447456455868,
          7.682944669728812,
          7.637416501049753,
          7.59186295041868,
          7.546284017835607,
          7.50067970330052,
          7.455050006813426,
          7.409394928374322,
          7.363714467983215,
          7.318008625640097,
          7.272277401344972,
          7.226520795097834,
          7.180738806898695,
          7.134931436747539,
          7.089098684644384,
          7.043240550589211,
          6.997357034582038,
          6.951448136622854,
          6.905513856711664,
          6.859554194848464,
          6.813569151033256,
          6.7675587252660385,
          6.721522917546814,
          6.675461727875582,
          6.629375156252344,
          6.583263202677088,
          6.537125867149836,
          6.490963149670566,
          6.444775050239297,
          6.39856156885601,
          6.352322705520724,
          6.306058460233423,
          6.259768832994119,
          6.213453823802805,
          6.167113432659484,
          6.120747659564152,
          6.074356504516814,
          6.027939967517469,
          5.981498048566117,
          5.935030747662747,
          5.888538064807381,
          5.842019999999998
         ]
        },
        {
         "name": "1.3879120533188511",
         "type": "scatter",
         "x": [
          5.772144,
          5.781092632653061,
          5.790041265306122,
          5.798989897959183,
          5.807938530612245,
          5.816887163265306,
          5.825835795918367,
          5.834784428571428,
          5.84373306122449,
          5.8526816938775506,
          5.861630326530612,
          5.870578959183673,
          5.879527591836735,
          5.8884762244897955,
          5.897424857142857,
          5.906373489795918,
          5.91532212244898,
          5.92427075510204,
          5.933219387755102,
          5.942168020408163,
          5.9511166530612245,
          5.960065285714285,
          5.969013918367347,
          5.977962551020408,
          5.986911183673469,
          5.99585981632653,
          6.004808448979592,
          6.013757081632653,
          6.022705714285714,
          6.031654346938775,
          6.040602979591837,
          6.049551612244898,
          6.058500244897959,
          6.06744887755102,
          6.076397510204082,
          6.0853461428571425,
          6.094294775510204,
          6.103243408163265,
          6.112192040816327,
          6.121140673469387,
          6.130089306122449,
          6.13903793877551,
          6.1479865714285715,
          6.156935204081632,
          6.165883836734694,
          6.174832469387755,
          6.183781102040816,
          6.192729734693877,
          6.201678367346938,
          6.210627
         ],
         "y": [
          7.1588280000000015,
          7.1327231163999905,
          7.106586201589437,
          7.0804172555683405,
          7.054216278336696,
          7.027983269894511,
          7.0017182302417815,
          6.975421159378509,
          6.949092057304689,
          6.92273092402033,
          6.896337759525425,
          6.869912563819977,
          6.8434553369039826,
          6.816966078777449,
          6.790444789440368,
          6.763891468892746,
          6.737306117134576,
          6.710688734165867,
          6.684039319986612,
          6.657357874596814,
          6.63064439799647,
          6.603898890185587,
          6.5771213511641555,
          6.550311780932182,
          6.523470179489664,
          6.496596546836603,
          6.469690882972996,
          6.442753187898848,
          6.415783461614156,
          6.388781704118919,
          6.361747915413138,
          6.334682095496817,
          6.307584244369949,
          6.280454362032538,
          6.253292448484581,
          6.226098503726082,
          6.19887252775704,
          6.171614520577453,
          6.144324482187322,
          6.117002412586649,
          6.089648311775431,
          6.06226217975367,
          6.0348440165213635,
          6.007393822078516,
          5.979911596425122,
          5.9523973395611876,
          5.924851051486703,
          5.897272732201682,
          5.869662381706114,
          5.8420200000000015
         ]
        },
        {
         "name": "1.3700220324374233",
         "type": "scatter",
         "x": [
          6.210627,
          6.23345487755102,
          6.25628275510204,
          6.279110632653061,
          6.3019385102040815,
          6.324766387755102,
          6.347594265306122,
          6.370422142857143,
          6.393250020408163,
          6.416077897959183,
          6.438905775510204,
          6.461733653061224,
          6.484561530612245,
          6.507389408163265,
          6.5302172857142855,
          6.553045163265306,
          6.575873040816326,
          6.598700918367347,
          6.621528795918367,
          6.644356673469388,
          6.667184551020408,
          6.690012428571428,
          6.712840306122449,
          6.73566818367347,
          6.7584960612244895,
          6.78132393877551,
          6.804151816326531,
          6.826979693877551,
          6.849807571428571,
          6.872635448979592,
          6.895463326530612,
          6.9182912040816325,
          6.941119081632653,
          6.963946959183674,
          6.986774836734694,
          7.009602714285714,
          7.032430591836735,
          7.055258469387756,
          7.078086346938775,
          7.100914224489796,
          7.123742102040817,
          7.1465699795918365,
          7.169397857142857,
          7.192225734693878,
          7.215053612244898,
          7.237881489795918,
          7.260709367346939,
          7.283537244897959,
          7.306365122448979,
          7.329193
         ],
         "y": [
          5.842019999999996,
          5.862983899627244,
          5.883739354457095,
          5.904286364489554,
          5.924624929724615,
          5.9447550501622874,
          5.9646767258025655,
          5.984389956645449,
          6.003894742690939,
          6.023191083939034,
          6.042278980389739,
          6.061158432043044,
          6.07982943889896,
          6.09829200095748,
          6.116546118218608,
          6.134591790682343,
          6.152429018348682,
          6.170057801217629,
          6.1874781392891816,
          6.204690032563336,
          6.221693481040102,
          6.238488484719474,
          6.255075043601451,
          6.271453157686036,
          6.287622826973225,
          6.303584051463021,
          6.31933683115542,
          6.334881166050428,
          6.350217056148043,
          6.365344501448265,
          6.380263501951092,
          6.394974057656526,
          6.4094761685645665,
          6.423769834675214,
          6.437855055988464,
          6.45173183250432,
          6.465400164222787,
          6.478860051143858,
          6.492111493267535,
          6.505154490593819,
          6.517989043122709,
          6.530615150854205,
          6.5430328137883045,
          6.5552420319250135,
          6.567242805264327,
          6.579035133806249,
          6.590619017550777,
          6.601994456497911,
          6.613161450647651,
          6.624119999999998
         ]
        }
       ],
       "layout": {
        "autosize": true,
        "template": {
         "data": {
          "bar": [
           {
            "error_x": {
             "color": "#2a3f5f"
            },
            "error_y": {
             "color": "#2a3f5f"
            },
            "marker": {
             "line": {
              "color": "#E5ECF6",
              "width": 0.5
             },
             "pattern": {
              "fillmode": "overlay",
              "size": 10,
              "solidity": 0.2
             }
            },
            "type": "bar"
           }
          ],
          "barpolar": [
           {
            "marker": {
             "line": {
              "color": "#E5ECF6",
              "width": 0.5
             },
             "pattern": {
              "fillmode": "overlay",
              "size": 10,
              "solidity": 0.2
             }
            },
            "type": "barpolar"
           }
          ],
          "carpet": [
           {
            "aaxis": {
             "endlinecolor": "#2a3f5f",
             "gridcolor": "white",
             "linecolor": "white",
             "minorgridcolor": "white",
             "startlinecolor": "#2a3f5f"
            },
            "baxis": {
             "endlinecolor": "#2a3f5f",
             "gridcolor": "white",
             "linecolor": "white",
             "minorgridcolor": "white",
             "startlinecolor": "#2a3f5f"
            },
            "type": "carpet"
           }
          ],
          "choropleth": [
           {
            "colorbar": {
             "outlinewidth": 0,
             "ticks": ""
            },
            "type": "choropleth"
           }
          ],
          "contour": [
           {
            "colorbar": {
             "outlinewidth": 0,
             "ticks": ""
            },
            "colorscale": [
             [
              0,
              "#0d0887"
             ],
             [
              0.1111111111111111,
              "#46039f"
             ],
             [
              0.2222222222222222,
              "#7201a8"
             ],
             [
              0.3333333333333333,
              "#9c179e"
             ],
             [
              0.4444444444444444,
              "#bd3786"
             ],
             [
              0.5555555555555556,
              "#d8576b"
             ],
             [
              0.6666666666666666,
              "#ed7953"
             ],
             [
              0.7777777777777778,
              "#fb9f3a"
             ],
             [
              0.8888888888888888,
              "#fdca26"
             ],
             [
              1,
              "#f0f921"
             ]
            ],
            "type": "contour"
           }
          ],
          "contourcarpet": [
           {
            "colorbar": {
             "outlinewidth": 0,
             "ticks": ""
            },
            "type": "contourcarpet"
           }
          ],
          "heatmap": [
           {
            "colorbar": {
             "outlinewidth": 0,
             "ticks": ""
            },
            "colorscale": [
             [
              0,
              "#0d0887"
             ],
             [
              0.1111111111111111,
              "#46039f"
             ],
             [
              0.2222222222222222,
              "#7201a8"
             ],
             [
              0.3333333333333333,
              "#9c179e"
             ],
             [
              0.4444444444444444,
              "#bd3786"
             ],
             [
              0.5555555555555556,
              "#d8576b"
             ],
             [
              0.6666666666666666,
              "#ed7953"
             ],
             [
              0.7777777777777778,
              "#fb9f3a"
             ],
             [
              0.8888888888888888,
              "#fdca26"
             ],
             [
              1,
              "#f0f921"
             ]
            ],
            "type": "heatmap"
           }
          ],
          "heatmapgl": [
           {
            "colorbar": {
             "outlinewidth": 0,
             "ticks": ""
            },
            "colorscale": [
             [
              0,
              "#0d0887"
             ],
             [
              0.1111111111111111,
              "#46039f"
             ],
             [
              0.2222222222222222,
              "#7201a8"
             ],
             [
              0.3333333333333333,
              "#9c179e"
             ],
             [
              0.4444444444444444,
              "#bd3786"
             ],
             [
              0.5555555555555556,
              "#d8576b"
             ],
             [
              0.6666666666666666,
              "#ed7953"
             ],
             [
              0.7777777777777778,
              "#fb9f3a"
             ],
             [
              0.8888888888888888,
              "#fdca26"
             ],
             [
              1,
              "#f0f921"
             ]
            ],
            "type": "heatmapgl"
           }
          ],
          "histogram": [
           {
            "marker": {
             "pattern": {
              "fillmode": "overlay",
              "size": 10,
              "solidity": 0.2
             }
            },
            "type": "histogram"
           }
          ],
          "histogram2d": [
           {
            "colorbar": {
             "outlinewidth": 0,
             "ticks": ""
            },
            "colorscale": [
             [
              0,
              "#0d0887"
             ],
             [
              0.1111111111111111,
              "#46039f"
             ],
             [
              0.2222222222222222,
              "#7201a8"
             ],
             [
              0.3333333333333333,
              "#9c179e"
             ],
             [
              0.4444444444444444,
              "#bd3786"
             ],
             [
              0.5555555555555556,
              "#d8576b"
             ],
             [
              0.6666666666666666,
              "#ed7953"
             ],
             [
              0.7777777777777778,
              "#fb9f3a"
             ],
             [
              0.8888888888888888,
              "#fdca26"
             ],
             [
              1,
              "#f0f921"
             ]
            ],
            "type": "histogram2d"
           }
          ],
          "histogram2dcontour": [
           {
            "colorbar": {
             "outlinewidth": 0,
             "ticks": ""
            },
            "colorscale": [
             [
              0,
              "#0d0887"
             ],
             [
              0.1111111111111111,
              "#46039f"
             ],
             [
              0.2222222222222222,
              "#7201a8"
             ],
             [
              0.3333333333333333,
              "#9c179e"
             ],
             [
              0.4444444444444444,
              "#bd3786"
             ],
             [
              0.5555555555555556,
              "#d8576b"
             ],
             [
              0.6666666666666666,
              "#ed7953"
             ],
             [
              0.7777777777777778,
              "#fb9f3a"
             ],
             [
              0.8888888888888888,
              "#fdca26"
             ],
             [
              1,
              "#f0f921"
             ]
            ],
            "type": "histogram2dcontour"
           }
          ],
          "mesh3d": [
           {
            "colorbar": {
             "outlinewidth": 0,
             "ticks": ""
            },
            "type": "mesh3d"
           }
          ],
          "parcoords": [
           {
            "line": {
             "colorbar": {
              "outlinewidth": 0,
              "ticks": ""
             }
            },
            "type": "parcoords"
           }
          ],
          "pie": [
           {
            "automargin": true,
            "type": "pie"
           }
          ],
          "scatter": [
           {
            "fillpattern": {
             "fillmode": "overlay",
             "size": 10,
             "solidity": 0.2
            },
            "type": "scatter"
           }
          ],
          "scatter3d": [
           {
            "line": {
             "colorbar": {
              "outlinewidth": 0,
              "ticks": ""
             }
            },
            "marker": {
             "colorbar": {
              "outlinewidth": 0,
              "ticks": ""
             }
            },
            "type": "scatter3d"
           }
          ],
          "scattercarpet": [
           {
            "marker": {
             "colorbar": {
              "outlinewidth": 0,
              "ticks": ""
             }
            },
            "type": "scattercarpet"
           }
          ],
          "scattergeo": [
           {
            "marker": {
             "colorbar": {
              "outlinewidth": 0,
              "ticks": ""
             }
            },
            "type": "scattergeo"
           }
          ],
          "scattergl": [
           {
            "marker": {
             "colorbar": {
              "outlinewidth": 0,
              "ticks": ""
             }
            },
            "type": "scattergl"
           }
          ],
          "scattermapbox": [
           {
            "marker": {
             "colorbar": {
              "outlinewidth": 0,
              "ticks": ""
             }
            },
            "type": "scattermapbox"
           }
          ],
          "scatterpolar": [
           {
            "marker": {
             "colorbar": {
              "outlinewidth": 0,
              "ticks": ""
             }
            },
            "type": "scatterpolar"
           }
          ],
          "scatterpolargl": [
           {
            "marker": {
             "colorbar": {
              "outlinewidth": 0,
              "ticks": ""
             }
            },
            "type": "scatterpolargl"
           }
          ],
          "scatterternary": [
           {
            "marker": {
             "colorbar": {
              "outlinewidth": 0,
              "ticks": ""
             }
            },
            "type": "scatterternary"
           }
          ],
          "surface": [
           {
            "colorbar": {
             "outlinewidth": 0,
             "ticks": ""
            },
            "colorscale": [
             [
              0,
              "#0d0887"
             ],
             [
              0.1111111111111111,
              "#46039f"
             ],
             [
              0.2222222222222222,
              "#7201a8"
             ],
             [
              0.3333333333333333,
              "#9c179e"
             ],
             [
              0.4444444444444444,
              "#bd3786"
             ],
             [
              0.5555555555555556,
              "#d8576b"
             ],
             [
              0.6666666666666666,
              "#ed7953"
             ],
             [
              0.7777777777777778,
              "#fb9f3a"
             ],
             [
              0.8888888888888888,
              "#fdca26"
             ],
             [
              1,
              "#f0f921"
             ]
            ],
            "type": "surface"
           }
          ],
          "table": [
           {
            "cells": {
             "fill": {
              "color": "#EBF0F8"
             },
             "line": {
              "color": "white"
             }
            },
            "header": {
             "fill": {
              "color": "#C8D4E3"
             },
             "line": {
              "color": "white"
             }
            },
            "type": "table"
           }
          ]
         },
         "layout": {
          "annotationdefaults": {
           "arrowcolor": "#2a3f5f",
           "arrowhead": 0,
           "arrowwidth": 1
          },
          "autotypenumbers": "strict",
          "coloraxis": {
           "colorbar": {
            "outlinewidth": 0,
            "ticks": ""
           }
          },
          "colorscale": {
           "diverging": [
            [
             0,
             "#8e0152"
            ],
            [
             0.1,
             "#c51b7d"
            ],
            [
             0.2,
             "#de77ae"
            ],
            [
             0.3,
             "#f1b6da"
            ],
            [
             0.4,
             "#fde0ef"
            ],
            [
             0.5,
             "#f7f7f7"
            ],
            [
             0.6,
             "#e6f5d0"
            ],
            [
             0.7,
             "#b8e186"
            ],
            [
             0.8,
             "#7fbc41"
            ],
            [
             0.9,
             "#4d9221"
            ],
            [
             1,
             "#276419"
            ]
           ],
           "sequential": [
            [
             0,
             "#0d0887"
            ],
            [
             0.1111111111111111,
             "#46039f"
            ],
            [
             0.2222222222222222,
             "#7201a8"
            ],
            [
             0.3333333333333333,
             "#9c179e"
            ],
            [
             0.4444444444444444,
             "#bd3786"
            ],
            [
             0.5555555555555556,
             "#d8576b"
            ],
            [
             0.6666666666666666,
             "#ed7953"
            ],
            [
             0.7777777777777778,
             "#fb9f3a"
            ],
            [
             0.8888888888888888,
             "#fdca26"
            ],
            [
             1,
             "#f0f921"
            ]
           ],
           "sequentialminus": [
            [
             0,
             "#0d0887"
            ],
            [
             0.1111111111111111,
             "#46039f"
            ],
            [
             0.2222222222222222,
             "#7201a8"
            ],
            [
             0.3333333333333333,
             "#9c179e"
            ],
            [
             0.4444444444444444,
             "#bd3786"
            ],
            [
             0.5555555555555556,
             "#d8576b"
            ],
            [
             0.6666666666666666,
             "#ed7953"
            ],
            [
             0.7777777777777778,
             "#fb9f3a"
            ],
            [
             0.8888888888888888,
             "#fdca26"
            ],
            [
             1,
             "#f0f921"
            ]
           ]
          },
          "colorway": [
           "#636efa",
           "#EF553B",
           "#00cc96",
           "#ab63fa",
           "#FFA15A",
           "#19d3f3",
           "#FF6692",
           "#B6E880",
           "#FF97FF",
           "#FECB52"
          ],
          "font": {
           "color": "#2a3f5f"
          },
          "geo": {
           "bgcolor": "white",
           "lakecolor": "white",
           "landcolor": "#E5ECF6",
           "showlakes": true,
           "showland": true,
           "subunitcolor": "white"
          },
          "hoverlabel": {
           "align": "left"
          },
          "hovermode": "closest",
          "mapbox": {
           "style": "light"
          },
          "paper_bgcolor": "white",
          "plot_bgcolor": "#E5ECF6",
          "polar": {
           "angularaxis": {
            "gridcolor": "white",
            "linecolor": "white",
            "ticks": ""
           },
           "bgcolor": "#E5ECF6",
           "radialaxis": {
            "gridcolor": "white",
            "linecolor": "white",
            "ticks": ""
           }
          },
          "scene": {
           "xaxis": {
            "backgroundcolor": "#E5ECF6",
            "gridcolor": "white",
            "gridwidth": 2,
            "linecolor": "white",
            "showbackground": true,
            "ticks": "",
            "zerolinecolor": "white"
           },
           "yaxis": {
            "backgroundcolor": "#E5ECF6",
            "gridcolor": "white",
            "gridwidth": 2,
            "linecolor": "white",
            "showbackground": true,
            "ticks": "",
            "zerolinecolor": "white"
           },
           "zaxis": {
            "backgroundcolor": "#E5ECF6",
            "gridcolor": "white",
            "gridwidth": 2,
            "linecolor": "white",
            "showbackground": true,
            "ticks": "",
            "zerolinecolor": "white"
           }
          },
          "shapedefaults": {
           "line": {
            "color": "#2a3f5f"
           }
          },
          "ternary": {
           "aaxis": {
            "gridcolor": "white",
            "linecolor": "white",
            "ticks": ""
           },
           "baxis": {
            "gridcolor": "white",
            "linecolor": "white",
            "ticks": ""
           },
           "bgcolor": "#E5ECF6",
           "caxis": {
            "gridcolor": "white",
            "linecolor": "white",
            "ticks": ""
           }
          },
          "title": {
           "x": 0.05
          },
          "xaxis": {
           "automargin": true,
           "gridcolor": "white",
           "linecolor": "white",
           "ticks": "",
           "title": {
            "standoff": 15
           },
           "zerolinecolor": "white",
           "zerolinewidth": 2
          },
          "yaxis": {
           "automargin": true,
           "gridcolor": "white",
           "linecolor": "white",
           "ticks": "",
           "title": {
            "standoff": 15
           },
           "zerolinecolor": "white",
           "zerolinewidth": 2
          }
         }
        },
        "xaxis": {
         "autorange": true,
         "range": [
          4.486380400409441,
          8.01819459959056
         ],
         "type": "linear"
        },
        "yaxis": {
         "autorange": true,
         "range": [
          3.8161861019417476,
          13.250612898058252
         ],
         "type": "linear"
        }
       }
      },
      "image/png": "[encoded data removed]",
      "text/html": [
       "<div>                            <div id=\"6e3724e3-f14b-49a3-8072-d5584bea37ab\" class=\"plotly-graph-div\" style=\"height:525px; width:100%;\"></div>            <script type=\"text/javascript\">                require([\"plotly\"], function(Plotly) {                    window.PLOTLYENV=window.PLOTLYENV || {};                                    if (document.getElementById(\"6e3724e3-f14b-49a3-8072-d5584bea37ab\")) {                    Plotly.newPlot(                        \"6e3724e3-f14b-49a3-8072-d5584bea37ab\",                        [{\"name\":\"(7.827378, 12.582341)\",\"x\":[7.827378],\"y\":[12.582341],\"type\":\"scatter\"},{\"name\":\"(7.617385, 7.18424)\",\"x\":[7.617385],\"y\":[7.18424],\"type\":\"scatter\"},{\"name\":\"(5.535518, 6.349078)\",\"x\":[5.535518],\"y\":[6.349078],\"type\":\"scatter\"},{\"name\":\"(5.343878, 6.119988)\",\"x\":[5.343878],\"y\":[6.119988],\"type\":\"scatter\"},{\"name\":\"(6.391666, 6.058862)\",\"x\":[6.391666],\"y\":[6.058862],\"type\":\"scatter\"},{\"name\":\"(7.53362, 6.88126)\",\"x\":[7.53362],\"y\":[6.88126],\"type\":\"scatter\"},{\"name\":\"(7.539437, 7.578526)\",\"x\":[7.539437],\"y\":[7.578526],\"type\":\"scatter\"},{\"name\":\"(4.677197, 7.999759)\",\"x\":[4.677197],\"y\":[7.999759],\"type\":\"scatter\"},{\"name\":\"(6.145733, 7.578887)\",\"x\":[6.145733],\"y\":[7.578887],\"type\":\"scatter\"},{\"name\":\"(5.393347, 7.856946)\",\"x\":[5.393347],\"y\":[7.856946],\"type\":\"scatter\"},{\"name\":\"(5.39032, 4.484458)\",\"x\":[5.39032],\"y\":[4.484458],\"type\":\"scatter\"},{\"name\":\"(5.731754, 8.384566)\",\"x\":[5.731754],\"y\":[8.384566],\"type\":\"scatter\"},{\"name\":\"(5.8203, 8.091556)\",\"x\":[5.8203],\"y\":[8.091556],\"type\":\"scatter\"},{\"name\":\"(5.772144, 7.158828)\",\"x\":[5.772144],\"y\":[7.158828],\"type\":\"scatter\"},{\"name\":\"(7.329193, 6.62412)\",\"x\":[7.329193],\"y\":[6.62412],\"type\":\"scatter\"},{\"name\":\"segment\",\"x\":[6.210627,6.387186],\"y\":[5.84202,5.61058],\"type\":\"scatter\"},{\"name\":\"segment\",\"x\":[6.387186,6.513627],\"y\":[5.61058,5.481816],\"type\":\"scatter\"},{\"name\":\"segment\",\"x\":[6.513627,6.619522],\"y\":[5.481816,5.425722],\"type\":\"scatter\"},{\"name\":\"segment\",\"x\":[6.619522,6.77916],\"y\":[5.425722,5.315806],\"type\":\"scatter\"},{\"name\":\"segment\",\"x\":[6.77916,6.942117],\"y\":[5.315806,5.393663],\"type\":\"scatter\"},{\"name\":\"segment\",\"x\":[6.942117,7.024619],\"y\":[5.393663,5.440061],\"type\":\"scatter\"},{\"name\":\"segment\",\"x\":[7.024619,7.0759],\"y\":[5.440061,5.481004],\"type\":\"scatter\"},{\"name\":\"segment\",\"x\":[7.0759,7.149278],\"y\":[5.481004,5.572028],\"type\":\"scatter\"},{\"name\":\"segment\",\"x\":[7.149278,7.17598],\"y\":[5.572028,5.626449],\"type\":\"scatter\"},{\"name\":\"segment\",\"x\":[7.17598,7.204685],\"y\":[5.626449,5.69936],\"type\":\"scatter\"},{\"name\":\"segment\",\"x\":[7.204685,7.222515],\"y\":[5.69936,5.767746],\"type\":\"scatter\"},{\"name\":\"segment\",\"x\":[7.222515,7.241431],\"y\":[5.767746,5.865452],\"type\":\"scatter\"},{\"name\":\"segment\",\"x\":[7.241431,7.24807],\"y\":[5.865452,5.944257],\"type\":\"scatter\"},{\"name\":\"segment\",\"x\":[7.24807,7.247583],\"y\":[5.944257,6.038704],\"type\":\"scatter\"},{\"name\":\"segment\",\"x\":[7.247583,7.242427],\"y\":[6.038704,6.116526],\"type\":\"scatter\"},{\"name\":\"segment\",\"x\":[7.242427,7.227814],\"y\":[6.116526,6.209839],\"type\":\"scatter\"},{\"name\":\"segment\",\"x\":[7.227814,7.202784],\"y\":[6.209839,6.31496],\"type\":\"scatter\"},{\"name\":\"segment\",\"x\":[7.202784,7.174911],\"y\":[6.31496,6.404784],\"type\":\"scatter\"},{\"name\":\"segment\",\"x\":[7.174911,7.14766],\"y\":[6.404784,6.48893],\"type\":\"scatter\"},{\"name\":\"segment\",\"x\":[7.14766,7.107704],\"y\":[6.48893,6.584835],\"type\":\"scatter\"},{\"name\":\"segment\",\"x\":[7.107704,7.057647],\"y\":[6.584835,6.682975],\"type\":\"scatter\"},{\"name\":\"segment\",\"x\":[7.057647,7.003918],\"y\":[6.682975,6.779002],\"type\":\"scatter\"},{\"name\":\"segment\",\"x\":[7.003918,6.944713],\"y\":[6.779002,6.871815],\"type\":\"scatter\"},{\"name\":\"segment\",\"x\":[6.944713,6.883763],\"y\":[6.871815,6.963429],\"type\":\"scatter\"},{\"name\":\"segment\",\"x\":[6.883763,6.811454],\"y\":[6.963429,7.05688],\"type\":\"scatter\"},{\"name\":\"segment\",\"x\":[6.811454,6.716757],\"y\":[7.05688,7.213503],\"type\":\"scatter\"},{\"name\":\"segment\",\"x\":[6.716757,6.562666],\"y\":[7.213503,7.294124],\"type\":\"scatter\"},{\"name\":\"segment\",\"x\":[6.562666,6.494453],\"y\":[7.294124,7.380493],\"type\":\"scatter\"},{\"name\":\"segment\",\"x\":[6.494453,6.360039],\"y\":[7.380493,7.621048],\"type\":\"scatter\"},{\"name\":\"segment\",\"x\":[6.360039,6.330406],\"y\":[7.621048,7.750745],\"type\":\"scatter\"},{\"name\":\"segment\",\"x\":[6.330406,6.301199],\"y\":[7.750745,7.906112],\"type\":\"scatter\"},{\"name\":\"segment\",\"x\":[6.301199,6.292881],\"y\":[7.906112,8.047263],\"type\":\"scatter\"},{\"name\":\"segment\",\"x\":[6.292881,6.270141],\"y\":[8.047263,8.220375],\"type\":\"scatter\"},{\"name\":\"segment\",\"x\":[6.270141,6.301787],\"y\":[8.220375,8.446331],\"type\":\"scatter\"},{\"name\":\"segment\",\"x\":[6.301787,6.291999],\"y\":[8.446331,8.549057],\"type\":\"scatter\"},{\"name\":\"segment\",\"x\":[6.291999,6.28144],\"y\":[8.549057,8.681929],\"type\":\"scatter\"},{\"name\":\"segment\",\"x\":[6.28144,6.264832],\"y\":[8.681929,8.859714],\"type\":\"scatter\"},{\"name\":\"segment\",\"x\":[6.264832,6.253135],\"y\":[8.859714,9.006348],\"type\":\"scatter\"},{\"name\":\"segment\",\"x\":[6.253135,6.236992],\"y\":[9.006348,9.156949],\"type\":\"scatter\"},{\"name\":\"segment\",\"x\":[6.236992,6.220652],\"y\":[9.156949,9.32795],\"type\":\"scatter\"},{\"name\":\"segment\",\"x\":[6.220652,6.206001],\"y\":[9.32795,9.482903],\"type\":\"scatter\"},{\"name\":\"segment\",\"x\":[6.206001,6.190286],\"y\":[9.482903,9.604396],\"type\":\"scatter\"},{\"name\":\"segment\",\"x\":[6.190286,6.179167],\"y\":[9.604396,9.737047],\"type\":\"scatter\"},{\"name\":\"segment\",\"x\":[6.179167,6.154072],\"y\":[9.737047,9.860493],\"type\":\"scatter\"},{\"name\":\"segment\",\"x\":[6.154072,6.134397],\"y\":[9.860493,10.005919],\"type\":\"scatter\"},{\"name\":\"segment\",\"x\":[6.134397,6.112254],\"y\":[10.005919,10.14982],\"type\":\"scatter\"},{\"name\":\"segment\",\"x\":[6.112254,6.095885],\"y\":[10.14982,10.270052],\"type\":\"scatter\"},{\"name\":\"segment\",\"x\":[6.095885,6.077444],\"y\":[10.270052,10.344019],\"type\":\"scatter\"},{\"name\":\"segment\",\"x\":[6.077444,6.05959],\"y\":[10.344019,10.414488],\"type\":\"scatter\"},{\"name\":\"segment\",\"x\":[6.05959,6.041704],\"y\":[10.414488,10.480247],\"type\":\"scatter\"},{\"name\":\"segment\",\"x\":[6.041704,6.015795],\"y\":[10.480247,10.560593],\"type\":\"scatter\"},{\"name\":\"segment\",\"x\":[6.015795,5.982568],\"y\":[10.560593,10.684158],\"type\":\"scatter\"},{\"name\":\"segment\",\"x\":[5.982568,5.953505],\"y\":[10.684158,10.808405],\"type\":\"scatter\"},{\"name\":\"segment\",\"x\":[5.953505,5.924823],\"y\":[10.808405,10.962632],\"type\":\"scatter\"},{\"name\":\"segment\",\"x\":[5.924823,5.915433],\"y\":[10.962632,11.139027],\"type\":\"scatter\"},{\"name\":\"segment\",\"x\":[5.915433,5.89504],\"y\":[11.139027,11.298153],\"type\":\"scatter\"},{\"name\":\"segment\",\"x\":[5.89504,5.877228],\"y\":[11.298153,11.43714],\"type\":\"scatter\"},{\"name\":\"segment\",\"x\":[5.877228,5.860985],\"y\":[11.43714,11.579376],\"type\":\"scatter\"},{\"name\":\"segment\",\"x\":[5.860985,5.857053],\"y\":[11.579376,11.696053],\"type\":\"scatter\"},{\"name\":\"segment\",\"x\":[5.857053,5.859259],\"y\":[11.696053,11.818261],\"type\":\"scatter\"},{\"name\":\"segment\",\"x\":[5.859259,5.858721],\"y\":[11.818261,11.903377],\"type\":\"scatter\"},{\"name\":\"segment\",\"x\":[5.858721,5.850055],\"y\":[11.903377,11.962169],\"type\":\"scatter\"},{\"name\":\"segment\",\"x\":[5.850055,5.841136],\"y\":[11.962169,12.018175],\"type\":\"scatter\"},{\"name\":\"6.931867212464743\",\"x\":[6.210627,6.243621918367347,6.276616836734694,6.309611755102041,6.342606673469388,6.375601591836735,6.408596510204082,6.441591428571428,6.474586346938775,6.507581265306122,6.540576183673469,6.573571102040816,6.606566020408163,6.63956093877551,6.672555857142857,6.705550775510204,6.738545693877551,6.771540612244898,6.804535530612245,6.837530448979592,6.870525367346939,6.903520285714285,6.9365152040816325,6.9695101224489795,7.0025050408163265,7.0354999591836735,7.068494877551021,7.101489795918368,7.134484714285715,7.167479632653062,7.200474551020409,7.233469469387755,7.266464387755102,7.299459306122449,7.332454224489796,7.365449142857143,7.39844406122449,7.431438979591837,7.464433897959184,7.497428816326531,7.530423734693878,7.563418653061225,7.596413571428572,7.629408489795919,7.662403408163266,7.695398326530613,7.72839324489796,7.761388163265306,7.794383081632653,7.827378],\"y\":[5.8420200000000015,5.990028751954018,6.137602038052815,6.28473985829638,6.4314422126847255,6.577709101217845,6.723540523895725,6.868936480718386,7.013896971685821,7.1584219967980225,7.302511556055006,7.446165649456763,7.58938427700328,7.732167438694578,7.87451513453065,8.016427364511497,8.15790412863711,8.298945426907498,8.43955125932266,8.579721625882595,8.719456526587305,8.858755961436781,8.99761993043104,9.136048433570057,9.274041470853856,9.411599042282429,9.548721147855769,9.68540778757389,9.821658961436778,9.957474669444448,10.092854911596884,10.22779968789408,10.362308998336065,10.496382842922824,10.63002122165435,10.763224134530649,10.895991581551723,11.02832356271757,11.160220078028185,11.291681127483574,11.422706711083745,11.553296828828675,11.683451480718386,11.813170666752871,11.942454386932123,12.071302641256157,12.199715429724957,12.327692752338525,12.455234609096873,12.582340999999996],\"type\":\"scatter\"},{\"name\":\"1.9514454718959997\",\"x\":[6.210627,6.239336346938775,6.268045693877551,6.296755040816326,6.325464387755102,6.354173734693878,6.382883081632652,6.411592428571428,6.440301775510203,6.469011122448979,6.497720469387755,6.52642981632653,6.555139163265306,6.583848510204081,6.612557857142857,6.6412672040816325,6.669976551020408,6.698685897959184,6.727395244897959,6.756104591836735,6.7848139387755095,6.813523285714285,6.842232632653061,6.870941979591836,6.899651326530612,6.928360673469387,6.957070020408163,6.985779367346939,7.014488714285714,7.04319806122449,7.0719074081632645,7.10061675510204,7.129326102040816,7.158035448979591,7.186744795918367,7.215454142857142,7.244163489795918,7.2728728367346935,7.301582183673469,7.330291530612245,7.35900087755102,7.387710224489796,7.4164195714285714,7.445128918367347,7.473838265306123,7.502547612244897,7.531256959183673,7.5599663061224485,7.588675653061224,7.617385],\"y\":[5.842020000000003,5.8773248202738095,5.912299949906956,5.946945388899444,5.981261137251273,6.015247194962441,6.048903562032946,6.082230238462792,6.11522722425198,6.147894519400506,6.18023212390837,6.212240037775576,6.24391826100212,6.275266793588004,6.306285635533225,6.3369747868377875,6.367334247501692,6.397364017524934,6.427064096907516,6.456434485649439,6.485475183750697,6.514186191211298,6.54256750803124,6.570619134210521,6.598341069749143,6.6257333146471,6.6527958689043984,6.679528732521039,6.705931905497014,6.732005387832331,6.757749179526986,6.7831632805809825,6.808247690994321,6.833002410766998,6.857427439899013,6.881522778390366,6.905288426241064,6.928724383451101,6.951830650020472,6.974607225949189,6.99705411123724,7.019171305884633,7.040958809891361,7.0624166232574375,7.083544745982845,7.104343178067598,7.124811919511689,7.144950970315119,7.16476033047789,7.184239999999999],\"type\":\"scatter\"},{\"name\":\"0.8453723052320031\",\"x\":[5.535518,5.549295734693877,5.563073469387755,5.576851204081632,5.5906289387755095,5.604406673469388,5.618184408163265,5.631962142857143,5.64573987755102,5.659517612244898,5.673295346938775,5.6870730816326525,5.70085081632653,5.714628551020408,5.728406285714286,5.742184020408163,5.7559617551020406,5.769739489795918,5.783517224489795,5.797294959183673,5.81107269387755,5.824850428571429,5.838628163265306,5.8524058979591835,5.866183632653061,5.879961367346938,5.893739102040816,5.907516836734693,5.921294571428571,5.935072306122449,5.9488500408163265,5.962627775510204,5.976405510204081,5.990183244897959,6.003960979591836,6.017738714285714,6.031516448979591,6.0452941836734695,6.059071918367347,6.072849653061224,6.086627387755102,6.100405122448979,6.114182857142857,6.127960591836734,6.141738326530612,6.155516061224489,6.169293795918367,6.183071530612245,6.196849265306122,6.210627],\"y\":[6.349078000000001,6.340552206894653,6.331950483399986,6.323272829516002,6.3145192452427,6.305689730580078,6.296784285528139,6.2878029100868815,6.278745604256308,6.269612368036415,6.260403201427206,6.251118104428677,6.24175707704083,6.232320119263667,6.2228072310971845,6.2132184125413845,6.203553663596266,6.193812984261831,6.1839963745380775,6.174103834425006,6.164135363922616,6.154090963030906,6.143970631749881,6.1337743700795375,6.1235021780198755,6.113154055570897,6.102730002732598,6.092230019504983,6.08165410588805,6.071002261881799,6.060274487486229,6.049470782701341,6.0385911475271365,6.027635581963614,6.016604086010773,6.005496659668615,5.994313302937136,5.98305401581634,5.971718798306227,5.960307650406796,5.948820572118048,5.937257563439982,5.925618624372597,5.913903754915895,5.9021129550698745,5.890246224834534,5.878303564209878,5.866284973195904,5.8541904517926096,5.84202],\"type\":\"scatter\"},{\"name\":\"0.9139706950562552\",\"x\":[5.343878,5.361566755102041,5.379255510204081,5.396944265306122,5.414633020408163,5.4323217755102045,5.450010530612245,5.467699285714286,5.485388040816327,5.503076795918368,5.520765551020408,5.538454306122449,5.55614306122449,5.573831816326531,5.591520571428571,5.609209326530612,5.626898081632653,5.644586836734694,5.6622755918367345,5.6799643469387755,5.6976531020408165,5.715341857142857,5.733030612244898,5.750719367346939,5.76840812244898,5.78609687755102,5.803785632653061,5.821474387755102,5.839163142857143,5.856851897959183,5.874540653061224,5.892229408163265,5.909918163265306,5.9276069183673465,5.945295673469388,5.962984428571429,5.980673183673469,5.99836193877551,6.016050693877551,6.033739448979592,6.051428204081632,6.069116959183673,6.086805714285714,6.104494469387755,6.122183224489795,6.139871979591836,6.157560734693877,6.1752494897959185,6.192938244897959,6.210627],\"y\":[6.119988,6.117318947421246,6.114524738019668,6.111605371795264,6.108560848748037,6.105391168877987,6.102096332185113,6.098676338669413,6.095131188330891,6.091460881169544,6.087665417185372,6.083744796378378,6.07969901874856,6.075528084295916,6.071231993020449,6.06681074492216,6.062264340001043,6.057592778257105,6.052796059690342,6.047874184300757,6.0428271520883445,6.037654963053111,6.032357617195053,6.026935114514169,6.021387455010463,6.015714638683932,6.009916665534576,6.003993535562399,5.997945248767397,5.99177180514957,5.985473204708919,5.979049447445446,5.972500533359146,5.965826462450023,5.959027234718077,5.952102850163307,5.945053308785712,5.937878610585294,5.930578755562052,5.923153743715983,5.915603575047093,5.907928249555381,5.90012776724084,5.892202128103478,5.884151332143293,5.875975379360282,5.867674269754447,5.8592480033257885,5.850696580074308,5.84202],\"type\":\"scatter\"},{\"name\":\"0.2824915156890422\",\"x\":[6.210627,6.214321673469388,6.218016346938775,6.221711020408163,6.22540569387755,6.2291003673469385,6.232795040816327,6.236489714285714,6.240184387755102,6.243879061224489,6.247573734693877,6.2512684081632655,6.254963081632653,6.258657755102041,6.262352428571428,6.266047102040816,6.269741775510203,6.2734364489795915,6.27713112244898,6.280825795918367,6.284520469387755,6.288215142857142,6.29190981632653,6.2956044897959185,6.299299163265306,6.302993836734694,6.306688510204081,6.310383183673469,6.314077857142857,6.3177725306122445,6.321467204081633,6.32516187755102,6.328856551020408,6.332551224489796,6.336245897959183,6.3399405714285715,6.343635244897959,6.347329918367347,6.351024591836735,6.354719265306122,6.35841393877551,6.3621086122448975,6.365803285714286,6.369497959183673,6.373192632653061,6.376887306122449,6.380581979591836,6.3842766530612245,6.387971326530612,6.391666],\"y\":[5.84202,5.846576392814411,5.851127325384002,5.8556727977087775,5.8602128097887345,5.8647473616238734,5.869276453214193,5.873800084559697,5.878318255660382,5.882830966516247,5.887338217127294,5.891840007493524,5.896336337614935,5.900827207491528,5.905312617123304,5.909792566510262,5.914267055652401,5.918736084549721,5.923199653202223,5.9276577616099075,5.932110409772772,5.936557597690822,5.940999325364054,5.945435592792464,5.949866399976058,5.9542917469148335,5.9587116336087895,5.963126060057933,5.967535026262253,5.971938532221754,5.97633657793644,5.980729163406306,5.985116288631353,5.989497953611583,5.993874158346998,5.998244902837591,6.002610187083366,6.006970011084324,6.011324374840463,6.015673278351782,6.020016721618285,6.024354704639974,6.028687227416841,6.033014289948888,6.037335892236118,6.041652034278529,6.045962716076124,6.050267937628901,6.054567698936859,6.0588619999999995],\"type\":\"scatter\"},{\"name\":\"1.6899093872312554\",\"x\":[6.210627,6.237626857142857,6.264626714285714,6.291626571428571,6.318626428571428,6.345626285714285,6.3726261428571425,6.399626,6.426625857142857,6.453625714285714,6.480625571428571,6.507625428571428,6.534625285714285,6.561625142857142,6.5886249999999995,6.615624857142857,6.642624714285714,6.669624571428571,6.696624428571428,6.723624285714285,6.750624142857142,6.777623999999999,6.804623857142857,6.831623714285714,6.858623571428572,6.885623428571428,6.912623285714286,6.939623142857142,6.966623,6.993622857142857,7.0206227142857145,7.047622571428572,7.074622428571429,7.101622285714286,7.128622142857143,7.155622,7.182621857142857,7.209621714285714,7.2366215714285715,7.263621428571429,7.290621285714286,7.317621142857143,7.344621,7.371620857142857,7.398620714285714,7.4256205714285715,7.452620428571429,7.479620285714286,7.506620142857143,7.53362],\"y\":[5.84202,5.87022730553489,5.898143014155487,5.925767125861787,5.953099640653797,5.9801405585315095,6.0068898794949295,6.03334760354406,6.059513730678892,6.08538826089943,6.110971194205677,6.136262530597625,6.161262270075284,6.185970412638646,6.210386958287716,6.234511907022492,6.258345258842972,6.281887013749161,6.305137171741054,6.328095732818653,6.35076269698196,6.373138064230972,6.395221834565691,6.417014007986115,6.438514584492246,6.459723564084081,6.480640946761625,6.501266732524872,6.521600921373828,6.54164351330849,6.561394508328856,6.58085390643493,6.600021707626709,6.618897911904195,6.63748251926739,6.655775529716289,6.673776943250893,6.691486759871202,6.70890497957722,6.726031602368941,6.742866628246368,6.759410057209504,6.775661889258345,6.791622124392891,6.807290762613144,6.822667803919103,6.837753248310769,6.85254709578814,6.867049346351216,6.881260000000001],\"type\":\"scatter\"},{\"name\":\"2.1901332856365894\",\"x\":[6.210627,6.2377455714285714,6.264864142857142,6.291982714285714,6.319101285714286,6.346219857142857,6.3733384285714285,6.400456999999999,6.427575571428571,6.454694142857143,6.481812714285714,6.508931285714286,6.536049857142857,6.563168428571428,6.590287,6.617405571428572,6.644524142857143,6.671642714285714,6.698761285714285,6.725879857142857,6.752998428571429,6.780117,6.8072355714285715,6.834354142857142,6.861472714285714,6.888591285714286,6.915709857142858,6.942828428571429,6.969947,6.997065571428571,7.024184142857143,7.051302714285715,7.078421285714286,7.105539857142857,7.132658428571428,7.159777,7.186895571428572,7.214014142857144,7.2411327142857145,7.268251285714286,7.295369857142857,7.322488428571429,7.349607000000001,7.3767255714285715,7.403844142857143,7.430962714285714,7.458081285714286,7.485199857142858,7.5123184285714295,7.539437],\"y\":[5.8420200000000015,5.884518900355918,5.926723633945308,5.9686342007681645,6.010250600824492,6.051572834114285,6.092600900637553,6.133334800394284,6.173774533384492,6.213920099608163,6.253771499065309,6.293328731755917,6.332591797679999,6.371560696837552,6.410235429228575,6.448615994853064,6.486702393711024,6.5244946258024505,6.561992691127347,6.5991965896857145,6.636106321477552,6.67272188650286,6.709043284761631,6.745070516253879,6.78080358097959,6.816242478938779,6.851387210131431,6.886237774557554,6.920794172217143,6.955056403110202,6.989024467236735,7.022698364596735,7.056078095190205,7.089163659017146,7.1219550560775495,7.154452286371427,7.186655349898775,7.218564246659593,7.250178976653881,7.2814995398816365,7.312525936342855,7.34325816603755,7.373696228965716,7.403840125127349,7.433689854522452,7.463245417151018,7.492506813013062,7.521474042108572,7.550147104437553,7.578526],\"type\":\"scatter\"},{\"name\":\"2.65051531389284\",\"x\":[4.677197,4.712094734693877,4.746992469387755,4.781890204081632,4.8167879387755095,4.851685673469388,4.886583408163265,4.921481142857142,4.95637887755102,4.9912766122448975,5.026174346938775,5.061072081632653,5.09596981632653,5.130867551020408,5.1657652857142855,5.200663020408163,5.235560755102041,5.270458489795918,5.305356224489795,5.3402539591836735,5.375151693877551,5.410049428571428,5.444947163265306,5.479844897959183,5.514742632653061,5.549640367346939,5.584538102040816,5.619435836734693,5.654333571428571,5.689231306122449,5.724129040816326,5.759026775510204,5.793924510204081,5.8288222448979585,5.863719979591837,5.898617714285714,5.933515448979591,5.968413183673469,6.0033109183673465,6.038208653061224,6.073106387755102,6.108004122448979,6.142901857142856,6.1777995918367345,6.212697326530612,6.247595061224489,6.282492795918367,6.317390530612244,6.352288265306122,6.387186],\"y\":[7.999758999999999,7.962691623010896,7.925137105267085,7.887095446768569,7.84856664751535,7.809550707507421,7.770047626744789,7.730057405227452,7.6895800429554075,7.648615539928658,7.6071638961472035,7.565225111611042,7.522799186320175,7.479886120274602,7.436485913474325,7.392598565919342,7.348224077609651,7.303362448545256,7.258013678726156,7.212177768152349,7.165854716823837,7.1190445247406196,7.071747191902695,7.023962718310066,6.975691103962731,6.9269323488606895,6.877686453003943,6.827953416392492,6.7777332390263325,6.7270259209054695,6.675831462029901,6.624149862399625,6.571981122014645,6.5193252408749585,6.466182218980565,6.412552056331468,6.358434752927666,6.303830308769156,6.248738723855941,6.193159998188021,6.1370941317653935,6.080541124588061,6.023500976656024,5.96597368796928,5.90795925852783,5.849457688331676,5.790468977380814,5.7309931256752495,5.671030133214977,5.610579999999998],\"type\":\"scatter\"},{\"name\":\"1.7380788840713275\",\"x\":[6.145733,6.147057367346939,6.148381734693878,6.149706102040816,6.151030469387755,6.152354836734694,6.153679204081633,6.155003571428571,6.15632793877551,6.157652306122449,6.158976673469388,6.160301040816327,6.161625408163265,6.162949775510204,6.164274142857143,6.165598510204082,6.16692287755102,6.168247244897959,6.169571612244898,6.170895979591837,6.172220346938776,6.173544714285714,6.174869081632653,6.176193448979592,6.177517816326531,6.178842183673469,6.180166551020408,6.181490918367347,6.182815285714286,6.184139653061224,6.185464020408163,6.186788387755102,6.188112755102041,6.18943712244898,6.190761489795918,6.192085857142857,6.193410224489796,6.194734591836735,6.196058959183673,6.197383326530612,6.198707693877551,6.20003206122449,6.201356428571429,6.202680795918367,6.204005163265306,6.205329530612245,6.206653897959184,6.207978265306122,6.209302632653061,6.210627],\"y\":[7.578887000000009,7.5434575726030175,7.5080274436264745,7.472596613070408,7.437165080934818,7.40173284721962,7.366299911924926,7.330866275050681,7.295431936596856,7.259996896563479,7.224561154950607,7.189124711758126,7.15368756698615,7.118249720634594,7.082811172703487,7.047371923192827,7.011931972102644,6.976491319432938,6.941049965183623,6.9056079093548135,6.870165151946395,6.834721692958482,6.799277532390988,6.763832670243971,6.728387106517403,6.692940841211282,6.657493874325638,6.622046205860386,6.58659783581561,6.551148764191339,6.51569899098746,6.480248516204028,6.444797339841102,6.4093454618985675,6.373892882376538,6.338439601274928,6.302985618593766,6.267530934333081,6.232075548492844,6.196619461073055,6.161162672073715,6.125705181494794,6.090246989336379,6.054788095598411,6.019328500280864,5.983868203383793,5.9484072049071415,5.912945504850995,5.877483103215269,5.842019999999991],\"type\":\"scatter\"},{\"name\":\"2.174560970602045\",\"x\":[5.393347,5.4100261836734695,5.426705367346939,5.443384551020409,5.460063734693878,5.476742918367347,5.4934221020408165,5.510101285714286,5.526780469387755,5.543459653061225,5.560138836734694,5.576818020408163,5.593497204081633,5.610176387755102,5.626855571428572,5.643534755102041,5.66021393877551,5.67689312244898,5.693572306122449,5.710251489795919,5.726930673469388,5.743609857142857,5.7602890408163265,5.776968224489796,5.793647408163265,5.810326591836735,5.827005775510204,5.8436849591836735,5.860364142857143,5.877043326530612,5.893722510204082,5.910401693877551,5.92708087755102,5.94376006122449,5.960439244897959,5.977118428571428,5.993797612244898,6.010476795918367,6.027155979591837,6.043835163265306,6.060514346938775,6.077193530612245,6.093872714285714,6.1105518979591835,6.127231081632653,6.143910265306122,6.160589448979591,6.177268632653061,6.1939478163265305,6.210627],\"y\":[7.856945999999998,7.818495734837416,7.779934191607629,7.741261370310635,7.702477270946437,7.663581893515033,7.6245752380164244,7.585457304450611,7.546228092817592,7.506887603117366,7.467435835349936,7.4278727895153,7.38819846561346,7.348412863644414,7.30851598360816,7.268507825504704,7.228388389334041,7.188157675096175,7.1478156827911015,7.107362412418823,7.066797863979339,7.02612203747265,6.985334932898757,6.944436550257658,6.903426889549355,6.862305950773842,6.821073733931126,6.779730239021205,6.73827546604408,6.696709414999749,6.65503208588821,6.613243478709468,6.571343593463521,6.529332430150369,6.487209988770011,6.444976269322449,6.402631271807678,6.3601749962257035,6.317607442576525,6.27492861086014,6.232138501076552,6.189237113225753,6.146224447307754,6.103100503322548,6.059865281270136,6.016518781150518,5.973061002963698,5.929491946709668,5.885811612388435,5.842019999999998],\"type\":\"scatter\"},{\"name\":\"1.5058912324755958\",\"x\":[5.39032,5.410664204081633,5.431008408163265,5.451352612244898,5.4716968163265305,5.4920410204081636,5.512385224489796,5.532729428571429,5.553073632653061,5.573417836734694,5.593762040816326,5.614106244897959,5.6344504489795915,5.6547946530612245,5.675138857142857,5.69548306122449,5.715827265306123,5.736171469387755,5.756515673469388,5.77685987755102,5.797204081632653,5.8175482857142855,5.837892489795919,5.858236693877551,5.878580897959184,5.898925102040816,5.919269306122449,5.939613510204081,5.959957714285714,5.9803019183673465,6.0006461224489795,6.020990326530612,6.041334530612245,6.061678734693878,6.08202293877551,6.102367142857143,6.122711346938775,6.143055551020408,6.1633997551020405,6.183743959183674,6.204088163265306,6.224432367346939,6.244776571428571,6.265120775510204,6.285464979591836,6.305809183673469,6.326153387755102,6.346497591836735,6.366841795918367,6.387186],\"y\":[4.484458,4.511413393373919,4.538203232091952,4.564827516154098,4.59128624556036,4.617579420310733,4.64370704040522,4.66966910584382,4.695465616626539,4.721096572753368,4.7465619742243135,4.771861821039369,4.796996113198539,4.8219648507018285,4.8467680335492265,4.871405661740738,4.8958777352763665,4.9201842541561085,4.944325218379966,4.9683006279479365,4.992110482860017,5.015754783116211,5.039233528716526,5.062546719660951,5.085694355949489,5.108676437582144,5.131492964558909,5.154143936879789,5.176629354544787,5.198949217553894,5.221103525907115,5.243092279604454,5.264915478645905,5.28657312303147,5.30806521276115,5.32939174783494,5.350552728252847,5.371548154014871,5.392378025121001,5.41304234157125,5.433541103365613,5.453874310504091,5.4740419629866786,5.494044060813383,5.513880603984202,5.533551592499133,5.553057026358182,5.572396905561341,5.591571230108611,5.610580000000002],\"type\":\"scatter\"},{\"name\":\"2.5872540534753368\",\"x\":[5.731754,5.741526918367346,5.7512998367346935,5.76107275510204,5.770845673469387,5.780618591836734,5.790391510204081,5.800164428571428,5.809937346938775,5.819710265306122,5.829483183673469,5.839256102040816,5.849029020408163,5.8588019387755095,5.868574857142857,5.878347775510203,5.888120693877551,5.897893612244897,5.907666530612245,5.917439448979591,5.927212367346939,5.936985285714285,5.9467582040816325,5.956531122448979,5.966304040816326,5.976076959183673,5.98584987755102,5.995622795918367,6.005395714285714,6.015168632653061,6.024941551020408,6.034714469387755,6.044487387755102,6.0542603061224485,6.064033224489796,6.073806142857142,6.08357906122449,6.093351979591836,6.103124897959184,6.11289781632653,6.122670734693878,6.132443653061224,6.1422165714285715,6.151989489795918,6.161762408163265,6.171535326530612,6.181308244897959,6.191081163265306,6.200854081632652,6.210627],\"y\":[8.384566,8.333594201483233,8.2825841989931,8.2315359925296,8.180449582092727,8.129324967682496,8.078162149298898,8.026961126941938,7.975721900611603,7.9244444703079076,7.873128836030848,7.82177499778042,7.77038295555662,7.718952709359467,7.667484259188939,7.615977605045046,7.5644327469277854,7.5128496848371675,7.4612284187731746,7.409568948735824,7.357871274725099,7.306135396741016,7.254361314783559,7.20254902885274,7.150698538948554,7.098809845071006,7.046882947220084,6.994917845395804,6.942914539598156,6.890873029827141,6.838793316082757,6.786675398365013,6.7345192766739,6.682324951009424,6.630092421371575,6.577821687760366,6.525512750175793,6.473165608617851,6.420780263086538,6.368356713581864,6.315894960103826,6.26339500265242,6.2108568412276455,6.158280475829514,6.105665906458007,6.05301313311314,6.000322155794898,5.947592974503301,5.894825589238337,5.842019999999998],\"type\":\"scatter\"},{\"name\":\"2.283150548881022\",\"x\":[5.8203,5.828265857142857,5.836231714285714,5.844197571428571,5.852163428571428,5.860129285714286,5.868095142857142,5.876061,5.884026857142857,5.891992714285714,5.899958571428571,5.9079244285714285,5.915890285714285,5.923856142857143,5.9318219999999995,5.939787857142857,5.947753714285714,5.955719571428571,5.963685428571428,5.971651285714286,5.979617142857142,5.987583,5.995548857142857,6.003514714285714,6.011480571428571,6.019446428571428,6.027412285714285,6.035378142857143,6.043343999999999,6.051309857142857,6.059275714285714,6.067241571428571,6.075207428571428,6.0831732857142855,6.091139142857142,6.099105,6.1070708571428565,6.115036714285714,6.123002571428571,6.130968428571428,6.138934285714285,6.146900142857143,6.154865999999999,6.162831857142857,6.1707977142857136,6.178763571428571,6.186729428571428,6.194695285714285,6.202661142857142,6.210627],\"y\":[8.091555999999997,8.04625626888901,8.000931155826013,7.955580660811005,7.910204783843998,7.864803524924973,7.819376884053948,7.77392486123091,7.728447456455868,7.682944669728812,7.637416501049753,7.59186295041868,7.546284017835607,7.50067970330052,7.455050006813426,7.409394928374322,7.363714467983215,7.318008625640097,7.272277401344972,7.226520795097834,7.180738806898695,7.134931436747539,7.089098684644384,7.043240550589211,6.997357034582038,6.951448136622854,6.905513856711664,6.859554194848464,6.813569151033256,6.7675587252660385,6.721522917546814,6.675461727875582,6.629375156252344,6.583263202677088,6.537125867149836,6.490963149670566,6.444775050239297,6.39856156885601,6.352322705520724,6.306058460233423,6.259768832994119,6.213453823802805,6.167113432659484,6.120747659564152,6.074356504516814,6.027939967517469,5.981498048566117,5.935030747662747,5.888538064807381,5.842019999999998],\"type\":\"scatter\"},{\"name\":\"1.3879120533188511\",\"x\":[5.772144,5.781092632653061,5.790041265306122,5.798989897959183,5.807938530612245,5.816887163265306,5.825835795918367,5.834784428571428,5.84373306122449,5.8526816938775506,5.861630326530612,5.870578959183673,5.879527591836735,5.8884762244897955,5.897424857142857,5.906373489795918,5.91532212244898,5.92427075510204,5.933219387755102,5.942168020408163,5.9511166530612245,5.960065285714285,5.969013918367347,5.977962551020408,5.986911183673469,5.99585981632653,6.004808448979592,6.013757081632653,6.022705714285714,6.031654346938775,6.040602979591837,6.049551612244898,6.058500244897959,6.06744887755102,6.076397510204082,6.0853461428571425,6.094294775510204,6.103243408163265,6.112192040816327,6.121140673469387,6.130089306122449,6.13903793877551,6.1479865714285715,6.156935204081632,6.165883836734694,6.174832469387755,6.183781102040816,6.192729734693877,6.201678367346938,6.210627],\"y\":[7.1588280000000015,7.1327231163999905,7.106586201589437,7.0804172555683405,7.054216278336696,7.027983269894511,7.0017182302417815,6.975421159378509,6.949092057304689,6.92273092402033,6.896337759525425,6.869912563819977,6.8434553369039826,6.816966078777449,6.790444789440368,6.763891468892746,6.737306117134576,6.710688734165867,6.684039319986612,6.657357874596814,6.63064439799647,6.603898890185587,6.5771213511641555,6.550311780932182,6.523470179489664,6.496596546836603,6.469690882972996,6.442753187898848,6.415783461614156,6.388781704118919,6.361747915413138,6.334682095496817,6.307584244369949,6.280454362032538,6.253292448484581,6.226098503726082,6.19887252775704,6.171614520577453,6.144324482187322,6.117002412586649,6.089648311775431,6.06226217975367,6.0348440165213635,6.007393822078516,5.979911596425122,5.9523973395611876,5.924851051486703,5.897272732201682,5.869662381706114,5.8420200000000015],\"type\":\"scatter\"},{\"name\":\"1.3700220324374233\",\"x\":[6.210627,6.23345487755102,6.25628275510204,6.279110632653061,6.3019385102040815,6.324766387755102,6.347594265306122,6.370422142857143,6.393250020408163,6.416077897959183,6.438905775510204,6.461733653061224,6.484561530612245,6.507389408163265,6.5302172857142855,6.553045163265306,6.575873040816326,6.598700918367347,6.621528795918367,6.644356673469388,6.667184551020408,6.690012428571428,6.712840306122449,6.73566818367347,6.7584960612244895,6.78132393877551,6.804151816326531,6.826979693877551,6.849807571428571,6.872635448979592,6.895463326530612,6.9182912040816325,6.941119081632653,6.963946959183674,6.986774836734694,7.009602714285714,7.032430591836735,7.055258469387756,7.078086346938775,7.100914224489796,7.123742102040817,7.1465699795918365,7.169397857142857,7.192225734693878,7.215053612244898,7.237881489795918,7.260709367346939,7.283537244897959,7.306365122448979,7.329193],\"y\":[5.842019999999996,5.862983899627244,5.883739354457095,5.904286364489554,5.924624929724615,5.9447550501622874,5.9646767258025655,5.984389956645449,6.003894742690939,6.023191083939034,6.042278980389739,6.061158432043044,6.07982943889896,6.09829200095748,6.116546118218608,6.134591790682343,6.152429018348682,6.170057801217629,6.1874781392891816,6.204690032563336,6.221693481040102,6.238488484719474,6.255075043601451,6.271453157686036,6.287622826973225,6.303584051463021,6.31933683115542,6.334881166050428,6.350217056148043,6.365344501448265,6.380263501951092,6.394974057656526,6.4094761685645665,6.423769834675214,6.437855055988464,6.45173183250432,6.465400164222787,6.478860051143858,6.492111493267535,6.505154490593819,6.517989043122709,6.530615150854205,6.5430328137883045,6.5552420319250135,6.567242805264327,6.579035133806249,6.590619017550777,6.601994456497911,6.613161450647651,6.624119999999998],\"type\":\"scatter\"}],                        {\"template\":{\"data\":{\"histogram2dcontour\":[{\"type\":\"histogram2dcontour\",\"colorbar\":{\"outlinewidth\":0,\"ticks\":\"\"},\"colorscale\":[[0.0,\"#0d0887\"],[0.1111111111111111,\"#46039f\"],[0.2222222222222222,\"#7201a8\"],[0.3333333333333333,\"#9c179e\"],[0.4444444444444444,\"#bd3786\"],[0.5555555555555556,\"#d8576b\"],[0.6666666666666666,\"#ed7953\"],[0.7777777777777778,\"#fb9f3a\"],[0.8888888888888888,\"#fdca26\"],[1.0,\"#f0f921\"]]}],\"choropleth\":[{\"type\":\"choropleth\",\"colorbar\":{\"outlinewidth\":0,\"ticks\":\"\"}}],\"histogram2d\":[{\"type\":\"histogram2d\",\"colorbar\":{\"outlinewidth\":0,\"ticks\":\"\"},\"colorscale\":[[0.0,\"#0d0887\"],[0.1111111111111111,\"#46039f\"],[0.2222222222222222,\"#7201a8\"],[0.3333333333333333,\"#9c179e\"],[0.4444444444444444,\"#bd3786\"],[0.5555555555555556,\"#d8576b\"],[0.6666666666666666,\"#ed7953\"],[0.7777777777777778,\"#fb9f3a\"],[0.8888888888888888,\"#fdca26\"],[1.0,\"#f0f921\"]]}],\"heatmap\":[{\"type\":\"heatmap\",\"colorbar\":{\"outlinewidth\":0,\"ticks\":\"\"},\"colorscale\":[[0.0,\"#0d0887\"],[0.1111111111111111,\"#46039f\"],[0.2222222222222222,\"#7201a8\"],[0.3333333333333333,\"#9c179e\"],[0.4444444444444444,\"#bd3786\"],[0.5555555555555556,\"#d8576b\"],[0.6666666666666666,\"#ed7953\"],[0.7777777777777778,\"#fb9f3a\"],[0.8888888888888888,\"#fdca26\"],[1.0,\"#f0f921\"]]}],\"heatmapgl\":[{\"type\":\"heatmapgl\",\"colorbar\":{\"outlinewidth\":0,\"ticks\":\"\"},\"colorscale\":[[0.0,\"#0d0887\"],[0.1111111111111111,\"#46039f\"],[0.2222222222222222,\"#7201a8\"],[0.3333333333333333,\"#9c179e\"],[0.4444444444444444,\"#bd3786\"],[0.5555555555555556,\"#d8576b\"],[0.6666666666666666,\"#ed7953\"],[0.7777777777777778,\"#fb9f3a\"],[0.8888888888888888,\"#fdca26\"],[1.0,\"#f0f921\"]]}],\"contourcarpet\":[{\"type\":\"contourcarpet\",\"colorbar\":{\"outlinewidth\":0,\"ticks\":\"\"}}],\"contour\":[{\"type\":\"contour\",\"colorbar\":{\"outlinewidth\":0,\"ticks\":\"\"},\"colorscale\":[[0.0,\"#0d0887\"],[0.1111111111111111,\"#46039f\"],[0.2222222222222222,\"#7201a8\"],[0.3333333333333333,\"#9c179e\"],[0.4444444444444444,\"#bd3786\"],[0.5555555555555556,\"#d8576b\"],[0.6666666666666666,\"#ed7953\"],[0.7777777777777778,\"#fb9f3a\"],[0.8888888888888888,\"#fdca26\"],[1.0,\"#f0f921\"]]}],\"surface\":[{\"type\":\"surface\",\"colorbar\":{\"outlinewidth\":0,\"ticks\":\"\"},\"colorscale\":[[0.0,\"#0d0887\"],[0.1111111111111111,\"#46039f\"],[0.2222222222222222,\"#7201a8\"],[0.3333333333333333,\"#9c179e\"],[0.4444444444444444,\"#bd3786\"],[0.5555555555555556,\"#d8576b\"],[0.6666666666666666,\"#ed7953\"],[0.7777777777777778,\"#fb9f3a\"],[0.8888888888888888,\"#fdca26\"],[1.0,\"#f0f921\"]]}],\"mesh3d\":[{\"type\":\"mesh3d\",\"colorbar\":{\"outlinewidth\":0,\"ticks\":\"\"}}],\"scatter\":[{\"fillpattern\":{\"fillmode\":\"overlay\",\"size\":10,\"solidity\":0.2},\"type\":\"scatter\"}],\"parcoords\":[{\"type\":\"parcoords\",\"line\":{\"colorbar\":{\"outlinewidth\":0,\"ticks\":\"\"}}}],\"scatterpolargl\":[{\"type\":\"scatterpolargl\",\"marker\":{\"colorbar\":{\"outlinewidth\":0,\"ticks\":\"\"}}}],\"bar\":[{\"error_x\":{\"color\":\"#2a3f5f\"},\"error_y\":{\"color\":\"#2a3f5f\"},\"marker\":{\"line\":{\"color\":\"#E5ECF6\",\"width\":0.5},\"pattern\":{\"fillmode\":\"overlay\",\"size\":10,\"solidity\":0.2}},\"type\":\"bar\"}],\"scattergeo\":[{\"type\":\"scattergeo\",\"marker\":{\"colorbar\":{\"outlinewidth\":0,\"ticks\":\"\"}}}],\"scatterpolar\":[{\"type\":\"scatterpolar\",\"marker\":{\"colorbar\":{\"outlinewidth\":0,\"ticks\":\"\"}}}],\"histogram\":[{\"marker\":{\"pattern\":{\"fillmode\":\"overlay\",\"size\":10,\"solidity\":0.2}},\"type\":\"histogram\"}],\"scattergl\":[{\"type\":\"scattergl\",\"marker\":{\"colorbar\":{\"outlinewidth\":0,\"ticks\":\"\"}}}],\"scatter3d\":[{\"type\":\"scatter3d\",\"line\":{\"colorbar\":{\"outlinewidth\":0,\"ticks\":\"\"}},\"marker\":{\"colorbar\":{\"outlinewidth\":0,\"ticks\":\"\"}}}],\"scattermapbox\":[{\"type\":\"scattermapbox\",\"marker\":{\"colorbar\":{\"outlinewidth\":0,\"ticks\":\"\"}}}],\"scatterternary\":[{\"type\":\"scatterternary\",\"marker\":{\"colorbar\":{\"outlinewidth\":0,\"ticks\":\"\"}}}],\"scattercarpet\":[{\"type\":\"scattercarpet\",\"marker\":{\"colorbar\":{\"outlinewidth\":0,\"ticks\":\"\"}}}],\"carpet\":[{\"aaxis\":{\"endlinecolor\":\"#2a3f5f\",\"gridcolor\":\"white\",\"linecolor\":\"white\",\"minorgridcolor\":\"white\",\"startlinecolor\":\"#2a3f5f\"},\"baxis\":{\"endlinecolor\":\"#2a3f5f\",\"gridcolor\":\"white\",\"linecolor\":\"white\",\"minorgridcolor\":\"white\",\"startlinecolor\":\"#2a3f5f\"},\"type\":\"carpet\"}],\"table\":[{\"cells\":{\"fill\":{\"color\":\"#EBF0F8\"},\"line\":{\"color\":\"white\"}},\"header\":{\"fill\":{\"color\":\"#C8D4E3\"},\"line\":{\"color\":\"white\"}},\"type\":\"table\"}],\"barpolar\":[{\"marker\":{\"line\":{\"color\":\"#E5ECF6\",\"width\":0.5},\"pattern\":{\"fillmode\":\"overlay\",\"size\":10,\"solidity\":0.2}},\"type\":\"barpolar\"}],\"pie\":[{\"automargin\":true,\"type\":\"pie\"}]},\"layout\":{\"autotypenumbers\":\"strict\",\"colorway\":[\"#636efa\",\"#EF553B\",\"#00cc96\",\"#ab63fa\",\"#FFA15A\",\"#19d3f3\",\"#FF6692\",\"#B6E880\",\"#FF97FF\",\"#FECB52\"],\"font\":{\"color\":\"#2a3f5f\"},\"hovermode\":\"closest\",\"hoverlabel\":{\"align\":\"left\"},\"paper_bgcolor\":\"white\",\"plot_bgcolor\":\"#E5ECF6\",\"polar\":{\"bgcolor\":\"#E5ECF6\",\"angularaxis\":{\"gridcolor\":\"white\",\"linecolor\":\"white\",\"ticks\":\"\"},\"radialaxis\":{\"gridcolor\":\"white\",\"linecolor\":\"white\",\"ticks\":\"\"}},\"ternary\":{\"bgcolor\":\"#E5ECF6\",\"aaxis\":{\"gridcolor\":\"white\",\"linecolor\":\"white\",\"ticks\":\"\"},\"baxis\":{\"gridcolor\":\"white\",\"linecolor\":\"white\",\"ticks\":\"\"},\"caxis\":{\"gridcolor\":\"white\",\"linecolor\":\"white\",\"ticks\":\"\"}},\"coloraxis\":{\"colorbar\":{\"outlinewidth\":0,\"ticks\":\"\"}},\"colorscale\":{\"sequential\":[[0.0,\"#0d0887\"],[0.1111111111111111,\"#46039f\"],[0.2222222222222222,\"#7201a8\"],[0.3333333333333333,\"#9c179e\"],[0.4444444444444444,\"#bd3786\"],[0.5555555555555556,\"#d8576b\"],[0.6666666666666666,\"#ed7953\"],[0.7777777777777778,\"#fb9f3a\"],[0.8888888888888888,\"#fdca26\"],[1.0,\"#f0f921\"]],\"sequentialminus\":[[0.0,\"#0d0887\"],[0.1111111111111111,\"#46039f\"],[0.2222222222222222,\"#7201a8\"],[0.3333333333333333,\"#9c179e\"],[0.4444444444444444,\"#bd3786\"],[0.5555555555555556,\"#d8576b\"],[0.6666666666666666,\"#ed7953\"],[0.7777777777777778,\"#fb9f3a\"],[0.8888888888888888,\"#fdca26\"],[1.0,\"#f0f921\"]],\"diverging\":[[0,\"#8e0152\"],[0.1,\"#c51b7d\"],[0.2,\"#de77ae\"],[0.3,\"#f1b6da\"],[0.4,\"#fde0ef\"],[0.5,\"#f7f7f7\"],[0.6,\"#e6f5d0\"],[0.7,\"#b8e186\"],[0.8,\"#7fbc41\"],[0.9,\"#4d9221\"],[1,\"#276419\"]]},\"xaxis\":{\"gridcolor\":\"white\",\"linecolor\":\"white\",\"ticks\":\"\",\"title\":{\"standoff\":15},\"zerolinecolor\":\"white\",\"automargin\":true,\"zerolinewidth\":2},\"yaxis\":{\"gridcolor\":\"white\",\"linecolor\":\"white\",\"ticks\":\"\",\"title\":{\"standoff\":15},\"zerolinecolor\":\"white\",\"automargin\":true,\"zerolinewidth\":2},\"scene\":{\"xaxis\":{\"backgroundcolor\":\"#E5ECF6\",\"gridcolor\":\"white\",\"linecolor\":\"white\",\"showbackground\":true,\"ticks\":\"\",\"zerolinecolor\":\"white\",\"gridwidth\":2},\"yaxis\":{\"backgroundcolor\":\"#E5ECF6\",\"gridcolor\":\"white\",\"linecolor\":\"white\",\"showbackground\":true,\"ticks\":\"\",\"zerolinecolor\":\"white\",\"gridwidth\":2},\"zaxis\":{\"backgroundcolor\":\"#E5ECF6\",\"gridcolor\":\"white\",\"linecolor\":\"white\",\"showbackground\":true,\"ticks\":\"\",\"zerolinecolor\":\"white\",\"gridwidth\":2}},\"shapedefaults\":{\"line\":{\"color\":\"#2a3f5f\"}},\"annotationdefaults\":{\"arrowcolor\":\"#2a3f5f\",\"arrowhead\":0,\"arrowwidth\":1},\"geo\":{\"bgcolor\":\"white\",\"landcolor\":\"#E5ECF6\",\"subunitcolor\":\"white\",\"showland\":true,\"showlakes\":true,\"lakecolor\":\"white\"},\"title\":{\"x\":0.05},\"mapbox\":{\"style\":\"light\"}}}},                        {\"responsive\": true}                    ).then(function(){\n",
       "                            \n",
       "var gd = document.getElementById('6e3724e3-f14b-49a3-8072-d5584bea37ab');\n",
       "var x = new MutationObserver(function (mutations, observer) {{\n",
       "        var display = window.getComputedStyle(gd).display;\n",
       "        if (!display || display === 'none') {{\n",
       "            console.log([gd, 'removed!']);\n",
       "            Plotly.purge(gd);\n",
       "            observer.disconnect();\n",
       "        }}\n",
       "}});\n",
       "\n",
       "// Listen for the removal of the full notebook cells\n",
       "var notebookContainer = gd.closest('#notebook-container');\n",
       "if (notebookContainer) {{\n",
       "    x.observe(notebookContainer, {childList: true});\n",
       "}}\n",
       "\n",
       "// Listen for the clearing of the current output cell\n",
       "var outputEl = gd.closest('.output');\n",
       "if (outputEl) {{\n",
       "    x.observe(outputEl, {childList: true});\n",
       "}}\n",
       "\n",
       "                        })                };                });            </script>        </div>"
      ]
     },
     "metadata": {},
     "output_type": "display_data"
    }
   ],
   "source": [
    "def total_cost(alpha, G, root_distance, x0, y0, x1, y1, p, q):\n",
    "    curve = curve_length(G, x1, y1, p, q)\n",
    "    to_root = distance_from_base(root_distance, x0, y0, x1, y1)\n",
    "    wiring = curve\n",
    "    delay = (curve + to_root)\n",
    "    cost = (alpha * wiring) +  ((1 - alpha) * delay)\n",
    "    #print(\"curve = \", curve, \"to root = \" , to_root, \"wiring = \", wiring, \"delay = \", delay, \"total cost = \", cost)\n",
    "    #cost = curve + (1 - alpha) * distance_from_base(root_distance, x0, y0, x1, y1)\n",
    "    return cost, wiring, delay\n",
    "\n",
    "def is_between(a, x, b):\n",
    "        return a < x < b or b < x < a\n",
    "\n",
    "def valid_segments(tip_number, line_segments, closest_segs):\n",
    "    valid_segs = []\n",
    "    for num, seg in line_segments.items():\n",
    "        x, y = seg[1]\n",
    "        closest = closest_segs[tip_number]\n",
    "        closest_y = closest[1][1]\n",
    "        if y < closest_y:\n",
    "            valid_segs.append(seg)\n",
    "        else:\n",
    "            break\n",
    "    return valid_segs\n",
    "\n",
    "\n",
    "# created helper function based on code above\n",
    "def get_closest_main_seg(lat_tips, line_segments):\n",
    "    closest_segs = []\n",
    "    for tip in lat_tips: \n",
    "        best_distance = math.inf\n",
    "        best_seg = None\n",
    "        for num, seg in line_segments.items():\n",
    "            d = math.inf\n",
    "            x0, y0 = seg[0]\n",
    "            x1, y1 = seg[1]\n",
    "\n",
    "            A = (x0 - tip[0]) * (x1 - x0) + (y0 - tip[1]) * (y1 - y0)\n",
    "            B = (x1 - x0)**2 + (y1 - y0)**2\n",
    "            t = A/B\n",
    "            if (0 <= t <= 1): \n",
    "                c = abs(((x1 - x0) * (y0 - tip[1])) - ((y1 - y0) * (x0 - tip[0])))\n",
    "                d = c/math.sqrt(B)\n",
    "            else: \n",
    "                d1 = math.sqrt((x1-tip[0])**2 + (y1 - tip[1])**2)\n",
    "                d2 = math.sqrt((x0-tip[0])**2 + (y0 - tip[1])**2)\n",
    "                d = min(d1, d2)\n",
    "            if d < best_distance:\n",
    "                best_distance = d\n",
    "                best_seg = seg\n",
    "        closest_segs.append(best_seg)\n",
    "    return closest_segs\n",
    "\n",
    "def get_closest_and_valid_segments(lat_tips, line_segments):\n",
    "    all_closest = []\n",
    "    all_valid_segs = []\n",
    "    \n",
    "    for tip in lat_tips: \n",
    "        best_distance = math.inf\n",
    "        best_seg = None\n",
    "        best_seg_num = None\n",
    "        tip_x, tip_y = tip\n",
    "\n",
    "        for num, seg in line_segments.items():\n",
    "            x0, y0 = seg[0]\n",
    "            x1, y1 = seg[1]\n",
    "\n",
    "            A = (x0 - tip_x) * (x1 - x0) + (y0 - tip_y) * (y1 - y0)\n",
    "            B = (x1 - x0)**2 + (y1 - y0)**2\n",
    "            t = A / B if B != 0 else -1\n",
    "\n",
    "            if 0 <= t <= 1:\n",
    "                c = abs(((x1 - x0) * (y0 - tip_y)) - ((y1 - y0) * (x0 - tip_x)))\n",
    "                d = c / math.sqrt(B)\n",
    "            else:\n",
    "                d1 = math.sqrt((x1 - tip_x) ** 2 + (y1 - tip_y) ** 2)\n",
    "                d2 = math.sqrt((x0 - tip_x) ** 2 + (y0 - tip_y) ** 2)\n",
    "                d = min(d1, d2)\n",
    "\n",
    "            if d < best_distance:\n",
    "                best_distance = d\n",
    "                best_seg = seg\n",
    "                best_seg_num = num\n",
    "\n",
    "        all_closest.append(best_seg)\n",
    "\n",
    "        # Collect valid segments\n",
    "        valid = []\n",
    "        for num, seg in line_segments.items():\n",
    "            if seg[1][1] <= best_seg[1][1]:\n",
    "                valid.append(seg)\n",
    "            else:\n",
    "                continue\n",
    "        all_valid_segs.append(valid)\n",
    "\n",
    "    return all_closest, all_valid_segs\n",
    "    \n",
    "def find_best_cost(alpha, G, root_distance, x0, y0, x1, y1, p, q):\n",
    "    results = []\n",
    "    min_t = 0\n",
    "    delta = 0.01\n",
    "    max_t = 1\n",
    "    best_t = math.inf\n",
    "    best_cost = math.inf\n",
    "    best_wiring = math.inf\n",
    "    best_delay = math.inf\n",
    "    l = length_func(x0, y0, x1, y1)\n",
    "    theta = get_theta(x0, y0, x1, y1)\n",
    "    x_opt = None\n",
    "    y_opt = None\n",
    "    best_x = None\n",
    "    best_y = None\n",
    "    for t in pylab.arange(min_t, max_t + delta, delta):\n",
    "        is_positive = positive_slope(x0, y0, x1, y1)\n",
    "        new_x = None\n",
    "        new_y = None\n",
    "        if is_positive:\n",
    "            new_x = x0 + t*l*math.cos(theta)\n",
    "            new_y = y0 + t*l*math.sin(theta)\n",
    "        else:\n",
    "            new_x = x0 - (t*l*math.cos(theta))\n",
    "            new_y = y0 + (t*l*math.sin(theta))\n",
    "        x_curr = pylab.linspace(min(p, new_x), max(p, new_x))\n",
    "        cost, wiring, delay = total_cost(alpha, G, root_distance, x0, y0, new_x, new_y, p, q)\n",
    "        if cost <= best_cost:\n",
    "            best_cost = cost\n",
    "            best_wiring = wiring\n",
    "            best_delay = delay\n",
    "            best_t = t\n",
    "            b, c = calc_coeff(G, new_x, new_y, p, q)\n",
    "            best_x = new_x\n",
    "            best_y = new_y\n",
    "            #x_opt = x_curr\n",
    "            #y_opt = G * x_opt ** 2 + b * x_opt + c\n",
    "        '''\n",
    "        if t % 0.2 == 0:\n",
    "            b, c = calc_coeff(G, new_x, new_y, p, q)\n",
    "            y_inter =  G * x_curr ** 2 + b * x_curr + c\n",
    "            intermediate_line = go.Scatter(x = x_curr,y = y_inter, mode = \"lines\", name = str(cost))\n",
    "            fig.add_trace(intermediate_line)\n",
    "           '''\n",
    "        results.append(cost)\n",
    "    return best_cost, best_wiring, best_delay, best_t, best_x, best_y, p, q\n",
    "\n",
    "def modified_arbor_best_cost(fname, alpha, G, root_distance):\n",
    "    final = []\n",
    "    arbor = rar.read_arbor_full(fname)\n",
    "    point_drawing = go.Figure()\n",
    "    main_root = []\n",
    "    lat_tips = []\n",
    "    line_segments = {}\n",
    "    #point_drawing = go.Figure()\n",
    "    for node in arbor.nodes():\n",
    "        if arbor.nodes[node][\"label\"] == (\"main root\") or arbor.nodes[node][\"label\"] == (\"main root base\"):\n",
    "            main_root.append(node)\n",
    "        if arbor.nodes[node][\"label\"] == (\"lateral root tip\"):\n",
    "            lat_tips.append(node)\n",
    "    for i in range(1, len(main_root)):\n",
    "        line_segments[i] = main_root[i - 1], main_root[i]\n",
    "\n",
    "    #closest_segs = get_closest_main_seg(lat_tips, line_segments)\n",
    "    tip_number = 0\n",
    "    #closest_segs = []\n",
    "    valid_segs = []\n",
    "    closest_segs, all_valid_segs = get_closest_and_valid_segments(lat_tips, line_segments)\n",
    "    for tip in lat_tips: \n",
    "        #print(\"Lateral root #: \" + str(tip_number))\n",
    "        curr_dist = 0\n",
    "        results = []\n",
    "        valid_segs = all_valid_segs[tip_number]\n",
    "        #print(valid_segs)\n",
    "        firstTime = True\n",
    "        for seg in valid_segs: \n",
    "                \n",
    "            x0, y0 = seg[0]\n",
    "            x0_temp, y0_temp = seg[0]\n",
    "            x0 -= x0\n",
    "            y0 -= y0\n",
    "            #print(\"Point 1: \" + str(x0) + \", \" + str(y0))\n",
    "            x1, y1 = seg[1]\n",
    "            x1 -= x0_temp\n",
    "            y1 -= y0_temp\n",
    "            #print(\"Point 2: \" + str(x1) + \", \" + str(y1))\n",
    "            p, q = tip\n",
    "            p -= x0_temp\n",
    "            q -= y0_temp\n",
    "            #print(\"Tip: \" + str(p) + \", \" + str(q))\n",
    "            # if the tip is in between a segment, brute force the segment\n",
    "            if is_between(x0, tip[0], x1):\n",
    "                if firstTime == True:\n",
    "                    result = find_best_cost(alpha, G, root_distance, x0, y0, x1, y1, p, q)\n",
    "                    curr_dist += length_func(x0, y0, x1, y1)\n",
    "                    firstTime = False\n",
    "                else:\n",
    "                    result = find_best_cost(alpha, G, root_distance + curr_dist, x0, y0, x1, y1, p, q)\n",
    "                    curr_dist += length_func(x0, y0, x1, y1)\n",
    "                results.append(result)\n",
    "                \n",
    "            # if the tip is not in between a segment, use Dr. Richard's equation\n",
    "            else:\n",
    "                result = 0\n",
    "                import math\n",
    "                def cos(t):\n",
    "                    return math.cos(t)\n",
    "                def sin(t):\n",
    "                    return math.sin(t)\n",
    "                def sqrt(t):\n",
    "                    return math.sqrt(t)\n",
    "                \n",
    "                l = math.sqrt((x1 - x0)**2 + (y1 - y0)**2)\n",
    "                #print(\"Length is \" + str(l))\n",
    "                #theta = (math.pi)/3\n",
    "                theta = get_theta(x0, y0, x1, y1)\n",
    "                #print(\"Theta is \" + str(theta))\n",
    "                # Recalculate A1–E1 based on current l, theta, G, p, q\n",
    "                A1=G*(l*cos(theta))**2\n",
    "                B1=-l*sin(theta)\n",
    "                C1=q-G*p**2\n",
    "                D1=-l*cos(theta)\n",
    "                E1=p\n",
    "                #print(A1, B1, C1, D1, E1)\n",
    "                # Define b(t), b'(t), cost'(t)\n",
    "                def b(t): \n",
    "                    return (A1*t**2+B1*t+C1)/(D1*t+E1)\n",
    "                def bprime(t):\n",
    "                    return ((D1*t+E1)*(2*A1*t+B1)-D1*(A1*t**2+B1*t+C1))/(D1*t+E1)**2\n",
    "                def costprime(t):\n",
    "                    return (bprime(t)/(2*G))*(sqrt(1+(2*G*p+b(t))**2)-sqrt(1+(2*G*t*l*cos(theta)+b(t))**2))+(1-alpha)*l-sqrt(1+(2*G*t*l*cos(theta)+b(t))**2)*l*cos(theta)\n",
    "                    \n",
    "\n",
    "                import numpy as np\n",
    "                import matplotlib.pyplot as plt\n",
    "                \n",
    "                #ts = np.linspace(0, 1, 100)\n",
    "                #vals = [costprime(t) for t in ts]\n",
    "                #plt.plot(ts, vals, label='costprime(t)')\n",
    "                #plt.axhline(0, color='gray', linestyle='--')\n",
    "                #plt.legend()\n",
    "                #plt.show()\n",
    "                def find_multiple_roots(func, x_range, num_guesses=100):\n",
    "                    roots = []\n",
    "                    guesses = np.linspace(x_range[0], x_range[1], num_guesses)\n",
    "                    for guess in guesses:\n",
    "                        try:\n",
    "                            root = fsolve(func, guess)[0]\n",
    "                            if not any(np.isclose(root, r) for r in roots):\n",
    "                                roots.append(root)\n",
    "                        except:\n",
    "                            pass\n",
    "                    return sorted(roots)\n",
    "                import numpy as np\n",
    "                from scipy.optimize import fsolve\n",
    "                def f(x):\n",
    "                    return costprime(x)\n",
    "                # Find root(s) of costprime in [0, 1]\n",
    "                roots = find_multiple_roots(f, [0, 1], num_guesses=1)\n",
    "                #print(\"roots of costprime(x) =\",roots)\n",
    "                valid_roots = [r for r in roots if 0 <= r <= 1]\n",
    "                #print(valid_roots)\n",
    "            \n",
    "                # Define the full cost function if not already\n",
    "                def cost(t):\n",
    "                    if is_positive:\n",
    "                        end_segx = x0 + t*l*math.cos(theta)\n",
    "                        end_segy = y0 + t*l*math.sin(theta)\n",
    "                    else:\n",
    "                        end_segx = x0 - (t*l*math.cos(theta))\n",
    "                        end_segy = y0 + (t*l*math.sin(theta))\n",
    "                    return total_cost(alpha, G, root_distance + curr_dist, x0, y0, end_segx, end_segy, p, q)[0]\n",
    "\n",
    "                # reshift the points\n",
    "                x0, y0 = seg[0]\n",
    "                #print(\"Point 1: \" + str(x0) + \", \" + str(y0))\n",
    "                x1, y1 = seg[1]\n",
    "                is_positive = positive_slope(x0, y0, x1, y1)\n",
    "                #print(\"Point 2: \" + str(x1) + \", \" + str(y1))\n",
    "                p, q = tip\n",
    "                \n",
    "                # Get cost at valid root(s)\n",
    "                if valid_roots:\n",
    "                    #print(valid_roots)\n",
    "                    min_root = min(valid_roots, key=lambda t: cost(t))\n",
    "                    best_t = min_root\n",
    "                    if is_positive:\n",
    "                        best_x = x0 + best_t*l*math.cos(theta)\n",
    "                        best_y = y0 + best_t*l*math.sin(theta)\n",
    "                    else:\n",
    "                        best_x = x0 - (best_t*l*math.cos(theta))\n",
    "                        best_y = y0 + (best_t*l*math.sin(theta))\n",
    "                    curve = curve_length(G, best_x, best_y, p, q)\n",
    "                    to_root = distance_from_base(root_distance, x0, y0, best_x, best_y)\n",
    "                    wiring = curve\n",
    "                    delay = (curve + to_root)\n",
    "                    result = (cost(min_root), wiring, delay, best_t, best_x, best_y, p, q)\n",
    "                    curr_dist += length_func(x0, y0, x1, y1)\n",
    "                else: \n",
    "                    # No root in [0,1], so check endpoints\n",
    "                    cost_0 = cost(0)\n",
    "                    cost_1 = cost(1)\n",
    "                    #print(cost_0, cost_1)\n",
    "\n",
    "                    if cost_0 < cost_1:\n",
    "                        best_t = 0.0\n",
    "                        best_x = x0\n",
    "                        best_y = y0\n",
    "                    else:\n",
    "                        best_t = 1.0\n",
    "                        best_x = x1\n",
    "                        best_y = y1\n",
    "                    #print(result)\n",
    "                    \n",
    "                    curve = curve_length(G, best_x, best_y, p, q)\n",
    "                    to_root = distance_from_base(root_distance, x0, y0, best_x, best_y)\n",
    "                    wiring = curve\n",
    "                    delay = (curve + to_root)\n",
    "                    result = (min(cost_0, cost_1), wiring, delay, best_t, best_x, best_y, p, q)\n",
    "                    curr_dist += length_func(x0, y0, x1, y1)\n",
    "                    \n",
    "                results.append(result)\n",
    "        if results:\n",
    "            final.append(min(results))\n",
    "        else:\n",
    "            \n",
    "            print(f\"Warning: No valid results for lateral tip #{tip_number} at {tip}\")\n",
    "            #final.append(float('inf'))  # or some sentinel value       \n",
    "        #final.append(min(results))\n",
    "        tip_number += 1\n",
    "    pq_drawings = get_tip_drawings(lat_tips)\n",
    "    for p_and_q in pq_drawings:\n",
    "        point_drawing.add_trace(p_and_q)\n",
    "    \n",
    "    segment_drawings = get_line_segment_drawings(line_segments)\n",
    "    for line in segment_drawings:\n",
    "        point_drawing.add_trace(line)\n",
    "\n",
    "    opt_lines = get_opt_to_pq_drawings(G, final)\n",
    "    for opt in opt_lines:\n",
    "        point_drawing.add_trace(opt)\n",
    "    point_drawing.show()\n",
    "    \n",
    "    return final\n",
    "\n",
    "def graph_opt_lines(graph, final):\n",
    "    for result in final:\n",
    "        x0 = result[2]\n",
    "        y0 = result[3]\n",
    "        p = result[4]\n",
    "        q = result[5]\n",
    "        first_point = x0, y0\n",
    "        second_point = p, q\n",
    "        G = graph.graph['Gravity']\n",
    "        b, c = calc_coeff(G, x0, y0, p, q)\n",
    "        graph.add_node(first_point, pos=first_point)\n",
    "        graph.add_node(second_point, pos=second_point)\n",
    "        graph.add_edge(first_point, second_point, b = b, c = c)\n",
    "    return graph\n",
    "    \n",
    "def get_line_segment_drawings(line_segments):\n",
    "    segment_drawings = []\n",
    "    for seg in line_segments:\n",
    "        x0 = line_segments[seg][0][0]\n",
    "        y0 = line_segments[seg][0][1] \n",
    "        x1 = line_segments[seg][1][0]\n",
    "        y1 = line_segments[seg][1][1]\n",
    "\n",
    "        xpoints = [x0, x1]\n",
    "        ypoints = [y0, y1]\n",
    "\n",
    "        segment = go.Scatter(x= xpoints, y=ypoints, name=\"segment\")\n",
    "        segment_drawings.append(segment)\n",
    "    return segment_drawings\n",
    "\n",
    "def get_tip_drawings(lat_tips):\n",
    "    pq_drawings = []\n",
    "    for tip in lat_tips:\n",
    "        p = tip[0]\n",
    "        q = tip[1]\n",
    "        pq = go.Scatter(x = [p], y= [q], name= str(tip))\n",
    "        pq_drawings.append(pq)\n",
    "    return pq_drawings\n",
    "    \n",
    "def get_line_segments(arbor):\n",
    "    line_segments = {}\n",
    "    main_root = []\n",
    "    for node in arbor.nodes():\n",
    "        if arbor.nodes[node][\"label\"] == (\"main root\") or arbor.nodes[node][\"label\"] == (\"main root base\"):\n",
    "            main_root.append(node)\n",
    "    for i in range(1, len(main_root)):\n",
    "        line_segments[i] = main_root[i - 1], main_root[i]\n",
    "    return line_segments\n",
    "\n",
    "def create_graphs(fname, alpha):\n",
    "    G = rar.read_arbor_full(fname)\n",
    "    G_opt = pf.opt_arbor(G, alpha)\n",
    "    return G, G_opt\n",
    "\n",
    "def get_opt_to_pq_drawings(gravity, final):\n",
    "    drawings = []\n",
    "    for result in final:\n",
    "        if gravity == 0:\n",
    "            x0 = result[4]\n",
    "            y0 = result[5]\n",
    "            p = result[6]\n",
    "            q = result[7]\n",
    "            xcoords = [p, x0]\n",
    "            ycoords = [q, y0]\n",
    "        \n",
    "            line = go.Scatter(x=xcoords, y=ycoords, name = str(result[0]))\n",
    "            drawings.append(line)\n",
    "        else: \n",
    "            x0 = result[4]\n",
    "            y0 = result[5]\n",
    "            p = result[6]\n",
    "            q = result[7]\n",
    "            b, c = calc_coeff(gravity, x0, y0, p, q)\n",
    "            x_opt = pylab.linspace(min(p, x0), max(p, x0))\n",
    "            y_opt = gravity * x_opt ** 2 + b * x_opt + c\n",
    "            line = go.Scatter(x=x_opt, y=y_opt, name = str(result[0]))\n",
    "            drawings.append(line)\n",
    "    return drawings\n",
    "    \n",
    "def graph_main_root(graph, line_segments):\n",
    "     for seg in line_segments:\n",
    "        x0 = line_segments[seg][0][0]\n",
    "        y0 = line_segments[seg][0][1]\n",
    "        x1 = line_segments[seg][1][0]\n",
    "        y1 = line_segments[seg][1][1]\n",
    "        first_point = x0, y0\n",
    "        second_point = x1, y1\n",
    "\n",
    "\n",
    "        graph.add_node(first_point, pos=first_point)\n",
    "        graph.add_node(second_point, pos=second_point)\n",
    "        graph.add_edge(first_point, second_point)\n",
    "working = modified_arbor_best_cost('048_4_C_day5.csv', 0.0, -0.2, 0.0)"
   ]
  },
  {
   "cell_type": "code",
   "execution_count": 185,
   "id": "01160756-a6c8-4761-85ad-5a6dd638e003",
   "metadata": {},
   "outputs": [
    {
     "data": {
      "text/plain": [
       "[[((6.210627, 5.84202), (6.387186, 5.61058)),\n",
       "  ((6.387186, 5.61058), (6.513627, 5.481816)),\n",
       "  ((6.513627, 5.481816), (6.619522, 5.425722)),\n",
       "  ((6.619522, 5.425722), (6.77916, 5.315806)),\n",
       "  ((6.77916, 5.315806), (6.942117, 5.393663)),\n",
       "  ((6.942117, 5.393663), (7.024619, 5.440061)),\n",
       "  ((7.024619, 5.440061), (7.0759, 5.481004)),\n",
       "  ((7.0759, 5.481004), (7.149278, 5.572028)),\n",
       "  ((7.149278, 5.572028), (7.17598, 5.626449)),\n",
       "  ((7.17598, 5.626449), (7.204685, 5.69936)),\n",
       "  ((7.204685, 5.69936), (7.222515, 5.767746)),\n",
       "  ((7.222515, 5.767746), (7.241431, 5.865452)),\n",
       "  ((7.241431, 5.865452), (7.24807, 5.944257)),\n",
       "  ((7.24807, 5.944257), (7.247583, 6.038704)),\n",
       "  ((7.247583, 6.038704), (7.242427, 6.116526)),\n",
       "  ((7.242427, 6.116526), (7.227814, 6.209839)),\n",
       "  ((7.227814, 6.209839), (7.202784, 6.31496)),\n",
       "  ((7.202784, 6.31496), (7.174911, 6.404784)),\n",
       "  ((7.174911, 6.404784), (7.14766, 6.48893)),\n",
       "  ((7.14766, 6.48893), (7.107704, 6.584835)),\n",
       "  ((7.107704, 6.584835), (7.057647, 6.682975)),\n",
       "  ((7.057647, 6.682975), (7.003918, 6.779002)),\n",
       "  ((7.003918, 6.779002), (6.944713, 6.871815)),\n",
       "  ((6.944713, 6.871815), (6.883763, 6.963429)),\n",
       "  ((6.883763, 6.963429), (6.811454, 7.05688)),\n",
       "  ((6.811454, 7.05688), (6.716757, 7.213503)),\n",
       "  ((6.716757, 7.213503), (6.562666, 7.294124)),\n",
       "  ((6.562666, 7.294124), (6.494453, 7.380493)),\n",
       "  ((6.494453, 7.380493), (6.360039, 7.621048)),\n",
       "  ((6.360039, 7.621048), (6.330406, 7.750745)),\n",
       "  ((6.330406, 7.750745), (6.301199, 7.906112)),\n",
       "  ((6.301199, 7.906112), (6.292881, 8.047263)),\n",
       "  ((6.292881, 8.047263), (6.270141, 8.220375)),\n",
       "  ((6.270141, 8.220375), (6.301787, 8.446331)),\n",
       "  ((6.301787, 8.446331), (6.291999, 8.549057)),\n",
       "  ((6.291999, 8.549057), (6.28144, 8.681929)),\n",
       "  ((6.28144, 8.681929), (6.264832, 8.859714)),\n",
       "  ((6.264832, 8.859714), (6.253135, 9.006348)),\n",
       "  ((6.253135, 9.006348), (6.236992, 9.156949)),\n",
       "  ((6.236992, 9.156949), (6.220652, 9.32795)),\n",
       "  ((6.220652, 9.32795), (6.206001, 9.482903)),\n",
       "  ((6.206001, 9.482903), (6.190286, 9.604396)),\n",
       "  ((6.190286, 9.604396), (6.179167, 9.737047)),\n",
       "  ((6.179167, 9.737047), (6.154072, 9.860493)),\n",
       "  ((6.154072, 9.860493), (6.134397, 10.005919)),\n",
       "  ((6.134397, 10.005919), (6.112254, 10.14982)),\n",
       "  ((6.112254, 10.14982), (6.095885, 10.270052)),\n",
       "  ((6.095885, 10.270052), (6.077444, 10.344019)),\n",
       "  ((6.077444, 10.344019), (6.05959, 10.414488)),\n",
       "  ((6.05959, 10.414488), (6.041704, 10.480247)),\n",
       "  ((6.041704, 10.480247), (6.015795, 10.560593)),\n",
       "  ((6.015795, 10.560593), (5.982568, 10.684158)),\n",
       "  ((5.982568, 10.684158), (5.953505, 10.808405)),\n",
       "  ((5.953505, 10.808405), (5.924823, 10.962632)),\n",
       "  ((5.924823, 10.962632), (5.915433, 11.139027)),\n",
       "  ((5.915433, 11.139027), (5.89504, 11.298153)),\n",
       "  ((5.89504, 11.298153), (5.877228, 11.43714)),\n",
       "  ((5.877228, 11.43714), (5.860985, 11.579376)),\n",
       "  ((5.860985, 11.579376), (5.857053, 11.696053)),\n",
       "  ((5.857053, 11.696053), (5.859259, 11.818261)),\n",
       "  ((5.859259, 11.818261), (5.858721, 11.903377)),\n",
       "  ((5.858721, 11.903377), (5.850055, 11.962169)),\n",
       "  ((5.850055, 11.962169), (5.841136, 12.018175))],\n",
       " [((6.210627, 5.84202), (6.387186, 5.61058)),\n",
       "  ((6.387186, 5.61058), (6.513627, 5.481816)),\n",
       "  ((6.513627, 5.481816), (6.619522, 5.425722)),\n",
       "  ((6.619522, 5.425722), (6.77916, 5.315806)),\n",
       "  ((6.77916, 5.315806), (6.942117, 5.393663)),\n",
       "  ((6.942117, 5.393663), (7.024619, 5.440061)),\n",
       "  ((7.024619, 5.440061), (7.0759, 5.481004)),\n",
       "  ((7.0759, 5.481004), (7.149278, 5.572028)),\n",
       "  ((7.149278, 5.572028), (7.17598, 5.626449)),\n",
       "  ((7.17598, 5.626449), (7.204685, 5.69936)),\n",
       "  ((7.204685, 5.69936), (7.222515, 5.767746)),\n",
       "  ((7.222515, 5.767746), (7.241431, 5.865452)),\n",
       "  ((7.241431, 5.865452), (7.24807, 5.944257)),\n",
       "  ((7.24807, 5.944257), (7.247583, 6.038704)),\n",
       "  ((7.247583, 6.038704), (7.242427, 6.116526)),\n",
       "  ((7.242427, 6.116526), (7.227814, 6.209839)),\n",
       "  ((7.227814, 6.209839), (7.202784, 6.31496)),\n",
       "  ((7.202784, 6.31496), (7.174911, 6.404784)),\n",
       "  ((7.174911, 6.404784), (7.14766, 6.48893)),\n",
       "  ((7.14766, 6.48893), (7.107704, 6.584835)),\n",
       "  ((7.107704, 6.584835), (7.057647, 6.682975)),\n",
       "  ((7.057647, 6.682975), (7.003918, 6.779002))],\n",
       " [((6.210627, 5.84202), (6.387186, 5.61058)),\n",
       "  ((6.387186, 5.61058), (6.513627, 5.481816)),\n",
       "  ((6.513627, 5.481816), (6.619522, 5.425722)),\n",
       "  ((6.619522, 5.425722), (6.77916, 5.315806)),\n",
       "  ((6.77916, 5.315806), (6.942117, 5.393663)),\n",
       "  ((6.942117, 5.393663), (7.024619, 5.440061)),\n",
       "  ((7.024619, 5.440061), (7.0759, 5.481004)),\n",
       "  ((7.0759, 5.481004), (7.149278, 5.572028))],\n",
       " [((6.210627, 5.84202), (6.387186, 5.61058)),\n",
       "  ((6.387186, 5.61058), (6.513627, 5.481816)),\n",
       "  ((6.513627, 5.481816), (6.619522, 5.425722)),\n",
       "  ((6.619522, 5.425722), (6.77916, 5.315806)),\n",
       "  ((6.77916, 5.315806), (6.942117, 5.393663)),\n",
       "  ((6.942117, 5.393663), (7.024619, 5.440061)),\n",
       "  ((7.024619, 5.440061), (7.0759, 5.481004)),\n",
       "  ((7.0759, 5.481004), (7.149278, 5.572028))],\n",
       " [((6.210627, 5.84202), (6.387186, 5.61058)),\n",
       "  ((6.387186, 5.61058), (6.513627, 5.481816)),\n",
       "  ((6.513627, 5.481816), (6.619522, 5.425722)),\n",
       "  ((6.619522, 5.425722), (6.77916, 5.315806)),\n",
       "  ((6.77916, 5.315806), (6.942117, 5.393663)),\n",
       "  ((6.942117, 5.393663), (7.024619, 5.440061)),\n",
       "  ((7.024619, 5.440061), (7.0759, 5.481004)),\n",
       "  ((7.0759, 5.481004), (7.149278, 5.572028))],\n",
       " [((6.210627, 5.84202), (6.387186, 5.61058)),\n",
       "  ((6.387186, 5.61058), (6.513627, 5.481816)),\n",
       "  ((6.513627, 5.481816), (6.619522, 5.425722)),\n",
       "  ((6.619522, 5.425722), (6.77916, 5.315806)),\n",
       "  ((6.77916, 5.315806), (6.942117, 5.393663)),\n",
       "  ((6.942117, 5.393663), (7.024619, 5.440061)),\n",
       "  ((7.024619, 5.440061), (7.0759, 5.481004)),\n",
       "  ((7.0759, 5.481004), (7.149278, 5.572028)),\n",
       "  ((7.149278, 5.572028), (7.17598, 5.626449)),\n",
       "  ((7.17598, 5.626449), (7.204685, 5.69936)),\n",
       "  ((7.204685, 5.69936), (7.222515, 5.767746)),\n",
       "  ((7.222515, 5.767746), (7.241431, 5.865452)),\n",
       "  ((7.241431, 5.865452), (7.24807, 5.944257)),\n",
       "  ((7.24807, 5.944257), (7.247583, 6.038704)),\n",
       "  ((7.247583, 6.038704), (7.242427, 6.116526)),\n",
       "  ((7.242427, 6.116526), (7.227814, 6.209839)),\n",
       "  ((7.227814, 6.209839), (7.202784, 6.31496)),\n",
       "  ((7.202784, 6.31496), (7.174911, 6.404784)),\n",
       "  ((7.174911, 6.404784), (7.14766, 6.48893)),\n",
       "  ((7.14766, 6.48893), (7.107704, 6.584835)),\n",
       "  ((7.107704, 6.584835), (7.057647, 6.682975)),\n",
       "  ((7.057647, 6.682975), (7.003918, 6.779002))],\n",
       " [((6.210627, 5.84202), (6.387186, 5.61058)),\n",
       "  ((6.387186, 5.61058), (6.513627, 5.481816)),\n",
       "  ((6.513627, 5.481816), (6.619522, 5.425722)),\n",
       "  ((6.619522, 5.425722), (6.77916, 5.315806)),\n",
       "  ((6.77916, 5.315806), (6.942117, 5.393663)),\n",
       "  ((6.942117, 5.393663), (7.024619, 5.440061)),\n",
       "  ((7.024619, 5.440061), (7.0759, 5.481004)),\n",
       "  ((7.0759, 5.481004), (7.149278, 5.572028)),\n",
       "  ((7.149278, 5.572028), (7.17598, 5.626449)),\n",
       "  ((7.17598, 5.626449), (7.204685, 5.69936)),\n",
       "  ((7.204685, 5.69936), (7.222515, 5.767746)),\n",
       "  ((7.222515, 5.767746), (7.241431, 5.865452)),\n",
       "  ((7.241431, 5.865452), (7.24807, 5.944257)),\n",
       "  ((7.24807, 5.944257), (7.247583, 6.038704)),\n",
       "  ((7.247583, 6.038704), (7.242427, 6.116526)),\n",
       "  ((7.242427, 6.116526), (7.227814, 6.209839)),\n",
       "  ((7.227814, 6.209839), (7.202784, 6.31496)),\n",
       "  ((7.202784, 6.31496), (7.174911, 6.404784)),\n",
       "  ((7.174911, 6.404784), (7.14766, 6.48893)),\n",
       "  ((7.14766, 6.48893), (7.107704, 6.584835)),\n",
       "  ((7.107704, 6.584835), (7.057647, 6.682975)),\n",
       "  ((7.057647, 6.682975), (7.003918, 6.779002)),\n",
       "  ((7.003918, 6.779002), (6.944713, 6.871815)),\n",
       "  ((6.944713, 6.871815), (6.883763, 6.963429)),\n",
       "  ((6.883763, 6.963429), (6.811454, 7.05688))],\n",
       " [((6.210627, 5.84202), (6.387186, 5.61058)),\n",
       "  ((6.387186, 5.61058), (6.513627, 5.481816)),\n",
       "  ((6.513627, 5.481816), (6.619522, 5.425722)),\n",
       "  ((6.619522, 5.425722), (6.77916, 5.315806)),\n",
       "  ((6.77916, 5.315806), (6.942117, 5.393663)),\n",
       "  ((6.942117, 5.393663), (7.024619, 5.440061)),\n",
       "  ((7.024619, 5.440061), (7.0759, 5.481004)),\n",
       "  ((7.0759, 5.481004), (7.149278, 5.572028)),\n",
       "  ((7.149278, 5.572028), (7.17598, 5.626449)),\n",
       "  ((7.17598, 5.626449), (7.204685, 5.69936)),\n",
       "  ((7.204685, 5.69936), (7.222515, 5.767746)),\n",
       "  ((7.222515, 5.767746), (7.241431, 5.865452)),\n",
       "  ((7.241431, 5.865452), (7.24807, 5.944257)),\n",
       "  ((7.24807, 5.944257), (7.247583, 6.038704)),\n",
       "  ((7.247583, 6.038704), (7.242427, 6.116526)),\n",
       "  ((7.242427, 6.116526), (7.227814, 6.209839)),\n",
       "  ((7.227814, 6.209839), (7.202784, 6.31496)),\n",
       "  ((7.202784, 6.31496), (7.174911, 6.404784)),\n",
       "  ((7.174911, 6.404784), (7.14766, 6.48893)),\n",
       "  ((7.14766, 6.48893), (7.107704, 6.584835)),\n",
       "  ((7.107704, 6.584835), (7.057647, 6.682975)),\n",
       "  ((7.057647, 6.682975), (7.003918, 6.779002)),\n",
       "  ((7.003918, 6.779002), (6.944713, 6.871815)),\n",
       "  ((6.944713, 6.871815), (6.883763, 6.963429)),\n",
       "  ((6.883763, 6.963429), (6.811454, 7.05688)),\n",
       "  ((6.811454, 7.05688), (6.716757, 7.213503)),\n",
       "  ((6.716757, 7.213503), (6.562666, 7.294124)),\n",
       "  ((6.562666, 7.294124), (6.494453, 7.380493)),\n",
       "  ((6.494453, 7.380493), (6.360039, 7.621048)),\n",
       "  ((6.360039, 7.621048), (6.330406, 7.750745)),\n",
       "  ((6.330406, 7.750745), (6.301199, 7.906112)),\n",
       "  ((6.301199, 7.906112), (6.292881, 8.047263)),\n",
       "  ((6.292881, 8.047263), (6.270141, 8.220375))],\n",
       " [((6.210627, 5.84202), (6.387186, 5.61058)),\n",
       "  ((6.387186, 5.61058), (6.513627, 5.481816)),\n",
       "  ((6.513627, 5.481816), (6.619522, 5.425722)),\n",
       "  ((6.619522, 5.425722), (6.77916, 5.315806)),\n",
       "  ((6.77916, 5.315806), (6.942117, 5.393663)),\n",
       "  ((6.942117, 5.393663), (7.024619, 5.440061)),\n",
       "  ((7.024619, 5.440061), (7.0759, 5.481004)),\n",
       "  ((7.0759, 5.481004), (7.149278, 5.572028)),\n",
       "  ((7.149278, 5.572028), (7.17598, 5.626449)),\n",
       "  ((7.17598, 5.626449), (7.204685, 5.69936)),\n",
       "  ((7.204685, 5.69936), (7.222515, 5.767746)),\n",
       "  ((7.222515, 5.767746), (7.241431, 5.865452)),\n",
       "  ((7.241431, 5.865452), (7.24807, 5.944257)),\n",
       "  ((7.24807, 5.944257), (7.247583, 6.038704)),\n",
       "  ((7.247583, 6.038704), (7.242427, 6.116526)),\n",
       "  ((7.242427, 6.116526), (7.227814, 6.209839)),\n",
       "  ((7.227814, 6.209839), (7.202784, 6.31496)),\n",
       "  ((7.202784, 6.31496), (7.174911, 6.404784)),\n",
       "  ((7.174911, 6.404784), (7.14766, 6.48893)),\n",
       "  ((7.14766, 6.48893), (7.107704, 6.584835)),\n",
       "  ((7.107704, 6.584835), (7.057647, 6.682975)),\n",
       "  ((7.057647, 6.682975), (7.003918, 6.779002)),\n",
       "  ((7.003918, 6.779002), (6.944713, 6.871815)),\n",
       "  ((6.944713, 6.871815), (6.883763, 6.963429)),\n",
       "  ((6.883763, 6.963429), (6.811454, 7.05688)),\n",
       "  ((6.811454, 7.05688), (6.716757, 7.213503)),\n",
       "  ((6.716757, 7.213503), (6.562666, 7.294124)),\n",
       "  ((6.562666, 7.294124), (6.494453, 7.380493)),\n",
       "  ((6.494453, 7.380493), (6.360039, 7.621048)),\n",
       "  ((6.360039, 7.621048), (6.330406, 7.750745)),\n",
       "  ((6.330406, 7.750745), (6.301199, 7.906112))],\n",
       " [((6.210627, 5.84202), (6.387186, 5.61058)),\n",
       "  ((6.387186, 5.61058), (6.513627, 5.481816)),\n",
       "  ((6.513627, 5.481816), (6.619522, 5.425722)),\n",
       "  ((6.619522, 5.425722), (6.77916, 5.315806)),\n",
       "  ((6.77916, 5.315806), (6.942117, 5.393663)),\n",
       "  ((6.942117, 5.393663), (7.024619, 5.440061)),\n",
       "  ((7.024619, 5.440061), (7.0759, 5.481004)),\n",
       "  ((7.0759, 5.481004), (7.149278, 5.572028)),\n",
       "  ((7.149278, 5.572028), (7.17598, 5.626449)),\n",
       "  ((7.17598, 5.626449), (7.204685, 5.69936)),\n",
       "  ((7.204685, 5.69936), (7.222515, 5.767746)),\n",
       "  ((7.222515, 5.767746), (7.241431, 5.865452)),\n",
       "  ((7.241431, 5.865452), (7.24807, 5.944257)),\n",
       "  ((7.24807, 5.944257), (7.247583, 6.038704)),\n",
       "  ((7.247583, 6.038704), (7.242427, 6.116526)),\n",
       "  ((7.242427, 6.116526), (7.227814, 6.209839)),\n",
       "  ((7.227814, 6.209839), (7.202784, 6.31496)),\n",
       "  ((7.202784, 6.31496), (7.174911, 6.404784)),\n",
       "  ((7.174911, 6.404784), (7.14766, 6.48893)),\n",
       "  ((7.14766, 6.48893), (7.107704, 6.584835)),\n",
       "  ((7.107704, 6.584835), (7.057647, 6.682975)),\n",
       "  ((7.057647, 6.682975), (7.003918, 6.779002)),\n",
       "  ((7.003918, 6.779002), (6.944713, 6.871815)),\n",
       "  ((6.944713, 6.871815), (6.883763, 6.963429)),\n",
       "  ((6.883763, 6.963429), (6.811454, 7.05688)),\n",
       "  ((6.811454, 7.05688), (6.716757, 7.213503)),\n",
       "  ((6.716757, 7.213503), (6.562666, 7.294124)),\n",
       "  ((6.562666, 7.294124), (6.494453, 7.380493)),\n",
       "  ((6.494453, 7.380493), (6.360039, 7.621048)),\n",
       "  ((6.360039, 7.621048), (6.330406, 7.750745)),\n",
       "  ((6.330406, 7.750745), (6.301199, 7.906112))],\n",
       " [((6.387186, 5.61058), (6.513627, 5.481816)),\n",
       "  ((6.513627, 5.481816), (6.619522, 5.425722)),\n",
       "  ((6.619522, 5.425722), (6.77916, 5.315806)),\n",
       "  ((6.77916, 5.315806), (6.942117, 5.393663)),\n",
       "  ((6.942117, 5.393663), (7.024619, 5.440061)),\n",
       "  ((7.024619, 5.440061), (7.0759, 5.481004))],\n",
       " [((6.210627, 5.84202), (6.387186, 5.61058)),\n",
       "  ((6.387186, 5.61058), (6.513627, 5.481816)),\n",
       "  ((6.513627, 5.481816), (6.619522, 5.425722)),\n",
       "  ((6.619522, 5.425722), (6.77916, 5.315806)),\n",
       "  ((6.77916, 5.315806), (6.942117, 5.393663)),\n",
       "  ((6.942117, 5.393663), (7.024619, 5.440061)),\n",
       "  ((7.024619, 5.440061), (7.0759, 5.481004)),\n",
       "  ((7.0759, 5.481004), (7.149278, 5.572028)),\n",
       "  ((7.149278, 5.572028), (7.17598, 5.626449)),\n",
       "  ((7.17598, 5.626449), (7.204685, 5.69936)),\n",
       "  ((7.204685, 5.69936), (7.222515, 5.767746)),\n",
       "  ((7.222515, 5.767746), (7.241431, 5.865452)),\n",
       "  ((7.241431, 5.865452), (7.24807, 5.944257)),\n",
       "  ((7.24807, 5.944257), (7.247583, 6.038704)),\n",
       "  ((7.247583, 6.038704), (7.242427, 6.116526)),\n",
       "  ((7.242427, 6.116526), (7.227814, 6.209839)),\n",
       "  ((7.227814, 6.209839), (7.202784, 6.31496)),\n",
       "  ((7.202784, 6.31496), (7.174911, 6.404784)),\n",
       "  ((7.174911, 6.404784), (7.14766, 6.48893)),\n",
       "  ((7.14766, 6.48893), (7.107704, 6.584835)),\n",
       "  ((7.107704, 6.584835), (7.057647, 6.682975)),\n",
       "  ((7.057647, 6.682975), (7.003918, 6.779002)),\n",
       "  ((7.003918, 6.779002), (6.944713, 6.871815)),\n",
       "  ((6.944713, 6.871815), (6.883763, 6.963429)),\n",
       "  ((6.883763, 6.963429), (6.811454, 7.05688)),\n",
       "  ((6.811454, 7.05688), (6.716757, 7.213503)),\n",
       "  ((6.716757, 7.213503), (6.562666, 7.294124)),\n",
       "  ((6.562666, 7.294124), (6.494453, 7.380493)),\n",
       "  ((6.494453, 7.380493), (6.360039, 7.621048)),\n",
       "  ((6.360039, 7.621048), (6.330406, 7.750745)),\n",
       "  ((6.330406, 7.750745), (6.301199, 7.906112)),\n",
       "  ((6.301199, 7.906112), (6.292881, 8.047263)),\n",
       "  ((6.292881, 8.047263), (6.270141, 8.220375))],\n",
       " [((6.210627, 5.84202), (6.387186, 5.61058)),\n",
       "  ((6.387186, 5.61058), (6.513627, 5.481816)),\n",
       "  ((6.513627, 5.481816), (6.619522, 5.425722)),\n",
       "  ((6.619522, 5.425722), (6.77916, 5.315806)),\n",
       "  ((6.77916, 5.315806), (6.942117, 5.393663)),\n",
       "  ((6.942117, 5.393663), (7.024619, 5.440061)),\n",
       "  ((7.024619, 5.440061), (7.0759, 5.481004)),\n",
       "  ((7.0759, 5.481004), (7.149278, 5.572028)),\n",
       "  ((7.149278, 5.572028), (7.17598, 5.626449)),\n",
       "  ((7.17598, 5.626449), (7.204685, 5.69936)),\n",
       "  ((7.204685, 5.69936), (7.222515, 5.767746)),\n",
       "  ((7.222515, 5.767746), (7.241431, 5.865452)),\n",
       "  ((7.241431, 5.865452), (7.24807, 5.944257)),\n",
       "  ((7.24807, 5.944257), (7.247583, 6.038704)),\n",
       "  ((7.247583, 6.038704), (7.242427, 6.116526)),\n",
       "  ((7.242427, 6.116526), (7.227814, 6.209839)),\n",
       "  ((7.227814, 6.209839), (7.202784, 6.31496)),\n",
       "  ((7.202784, 6.31496), (7.174911, 6.404784)),\n",
       "  ((7.174911, 6.404784), (7.14766, 6.48893)),\n",
       "  ((7.14766, 6.48893), (7.107704, 6.584835)),\n",
       "  ((7.107704, 6.584835), (7.057647, 6.682975)),\n",
       "  ((7.057647, 6.682975), (7.003918, 6.779002)),\n",
       "  ((7.003918, 6.779002), (6.944713, 6.871815)),\n",
       "  ((6.944713, 6.871815), (6.883763, 6.963429)),\n",
       "  ((6.883763, 6.963429), (6.811454, 7.05688)),\n",
       "  ((6.811454, 7.05688), (6.716757, 7.213503)),\n",
       "  ((6.716757, 7.213503), (6.562666, 7.294124)),\n",
       "  ((6.562666, 7.294124), (6.494453, 7.380493)),\n",
       "  ((6.494453, 7.380493), (6.360039, 7.621048)),\n",
       "  ((6.360039, 7.621048), (6.330406, 7.750745)),\n",
       "  ((6.330406, 7.750745), (6.301199, 7.906112)),\n",
       "  ((6.301199, 7.906112), (6.292881, 8.047263)),\n",
       "  ((6.292881, 8.047263), (6.270141, 8.220375)),\n",
       "  ((6.270141, 8.220375), (6.301787, 8.446331))],\n",
       " [((6.210627, 5.84202), (6.387186, 5.61058)),\n",
       "  ((6.387186, 5.61058), (6.513627, 5.481816)),\n",
       "  ((6.513627, 5.481816), (6.619522, 5.425722)),\n",
       "  ((6.619522, 5.425722), (6.77916, 5.315806)),\n",
       "  ((6.77916, 5.315806), (6.942117, 5.393663)),\n",
       "  ((6.942117, 5.393663), (7.024619, 5.440061)),\n",
       "  ((7.024619, 5.440061), (7.0759, 5.481004)),\n",
       "  ((7.0759, 5.481004), (7.149278, 5.572028)),\n",
       "  ((7.149278, 5.572028), (7.17598, 5.626449)),\n",
       "  ((7.17598, 5.626449), (7.204685, 5.69936)),\n",
       "  ((7.204685, 5.69936), (7.222515, 5.767746)),\n",
       "  ((7.222515, 5.767746), (7.241431, 5.865452)),\n",
       "  ((7.241431, 5.865452), (7.24807, 5.944257)),\n",
       "  ((7.24807, 5.944257), (7.247583, 6.038704)),\n",
       "  ((7.247583, 6.038704), (7.242427, 6.116526)),\n",
       "  ((7.242427, 6.116526), (7.227814, 6.209839)),\n",
       "  ((7.227814, 6.209839), (7.202784, 6.31496)),\n",
       "  ((7.202784, 6.31496), (7.174911, 6.404784)),\n",
       "  ((7.174911, 6.404784), (7.14766, 6.48893)),\n",
       "  ((7.14766, 6.48893), (7.107704, 6.584835)),\n",
       "  ((7.107704, 6.584835), (7.057647, 6.682975)),\n",
       "  ((7.057647, 6.682975), (7.003918, 6.779002)),\n",
       "  ((7.003918, 6.779002), (6.944713, 6.871815)),\n",
       "  ((6.944713, 6.871815), (6.883763, 6.963429)),\n",
       "  ((6.883763, 6.963429), (6.811454, 7.05688)),\n",
       "  ((6.811454, 7.05688), (6.716757, 7.213503)),\n",
       "  ((6.716757, 7.213503), (6.562666, 7.294124)),\n",
       "  ((6.562666, 7.294124), (6.494453, 7.380493)),\n",
       "  ((6.494453, 7.380493), (6.360039, 7.621048))],\n",
       " [((6.210627, 5.84202), (6.387186, 5.61058)),\n",
       "  ((6.387186, 5.61058), (6.513627, 5.481816)),\n",
       "  ((6.513627, 5.481816), (6.619522, 5.425722)),\n",
       "  ((6.619522, 5.425722), (6.77916, 5.315806)),\n",
       "  ((6.77916, 5.315806), (6.942117, 5.393663)),\n",
       "  ((6.942117, 5.393663), (7.024619, 5.440061)),\n",
       "  ((7.024619, 5.440061), (7.0759, 5.481004)),\n",
       "  ((7.0759, 5.481004), (7.149278, 5.572028)),\n",
       "  ((7.149278, 5.572028), (7.17598, 5.626449)),\n",
       "  ((7.17598, 5.626449), (7.204685, 5.69936)),\n",
       "  ((7.204685, 5.69936), (7.222515, 5.767746)),\n",
       "  ((7.222515, 5.767746), (7.241431, 5.865452)),\n",
       "  ((7.241431, 5.865452), (7.24807, 5.944257)),\n",
       "  ((7.24807, 5.944257), (7.247583, 6.038704)),\n",
       "  ((7.247583, 6.038704), (7.242427, 6.116526)),\n",
       "  ((7.242427, 6.116526), (7.227814, 6.209839)),\n",
       "  ((7.227814, 6.209839), (7.202784, 6.31496)),\n",
       "  ((7.202784, 6.31496), (7.174911, 6.404784)),\n",
       "  ((7.174911, 6.404784), (7.14766, 6.48893)),\n",
       "  ((7.14766, 6.48893), (7.107704, 6.584835)),\n",
       "  ((7.107704, 6.584835), (7.057647, 6.682975))]]"
      ]
     },
     "execution_count": 185,
     "metadata": {},
     "output_type": "execute_result"
    }
   ],
   "source": [
    "t_arbor = rar.read_arbor_full('048_4_C_day5.csv')\n",
    "t_main_root = []\n",
    "t_lat_tips = []\n",
    "t_line_segments = {}\n",
    "#point_drawing = go.Figure()\n",
    "for node in t_arbor.nodes():\n",
    "    if t_arbor.nodes[node][\"label\"] == (\"main root\") or t_arbor.nodes[node][\"label\"] == (\"main root base\"):\n",
    "        t_main_root.append(node)\n",
    "    if t_arbor.nodes[node][\"label\"] == (\"lateral root tip\"):\n",
    "        t_lat_tips.append(node)\n",
    "for i in range(1, len(t_main_root)):\n",
    "    t_line_segments[i] = t_main_root[i - 1], t_main_root[i]\n",
    "\n",
    "get_closest_and_valid_segments(t_lat_tips, t_line_segments)[1]\n"
   ]
  },
  {
   "cell_type": "code",
   "execution_count": 144,
   "id": "75d22a7f-83d5-4de1-8d14-5d402873360a",
   "metadata": {},
   "outputs": [
    {
     "data": {
      "image/png": "[encoded data removed]",
      "text/plain": [
       "<Figure size 640x480 with 1 Axes>"
      ]
     },
     "metadata": {},
     "output_type": "display_data"
    }
   ],
   "source": [
    "coordinates = {}\n",
    "for coordinate in list(G):\n",
    "    coordinates[coordinate] = coordinate\n",
    "nx.draw_networkx(G, pos = coordinates, with_labels = False, node_size = 2)"
   ]
  },
  {
   "cell_type": "code",
   "execution_count": 117,
   "id": "449900cc-f8ae-4ead-a59b-8e086bbb5055",
   "metadata": {},
   "outputs": [
    {
     "name": "stdout",
     "output_type": "stream",
     "text": [
      "32.9386422242997 32.93909872679719\n"
     ]
    }
   ],
   "source": [
    "working\n",
    "sum = 0\n",
    "for calc in working:\n",
    "    sum += calc[0]\n",
    "\n",
    "\n",
    "old_sum = 0\n",
    "for cost in old_method:\n",
    "    old_sum += cost[0]\n",
    "print(old_sum, sum)"
   ]
  },
  {
   "cell_type": "code",
   "execution_count": null,
   "id": "4a2bd5aa-cd21-41f0-9246-c15a6e6d4ba1",
   "metadata": {},
   "outputs": [],
   "source": [
    "testing_graph = nx.Graph(G = 0.1)\n",
    "graph_opt_lines(mygraph, working)\n",
    "list(mygraph.edges(data = True))"
   ]
  },
  {
   "cell_type": "code",
   "execution_count": 97,
   "id": "61ccf1eb-3659-4095-96be-60b319ccaba8",
   "metadata": {},
   "outputs": [
    {
     "name": "stdout",
     "output_type": "stream",
     "text": [
      "1\n",
      "2\n",
      "3\n",
      "4\n",
      "5\n",
      "6\n",
      "7\n",
      "8\n",
      "9\n",
      "10\n",
      "11\n",
      "12\n"
     ]
    },
    {
     "data": {
      "application/vnd.plotly.v1+json": {
       "config": {
        "plotlyServerURL": "https://plot.ly"
       },
       "data": [
        {
         "name": "(2.662271, 6.436248)",
         "type": "scatter",
         "visible": true,
         "x": [
          2.662271
         ],
         "y": [
          6.436248
         ]
        },
        {
         "name": "(11.814909, 8.299881)",
         "type": "scatter",
         "visible": true,
         "x": [
          11.814909
         ],
         "y": [
          8.299881
         ]
        },
        {
         "name": "(9.306211, 5.495822)",
         "type": "scatter",
         "visible": true,
         "x": [
          9.306211
         ],
         "y": [
          5.495822
         ]
        },
        {
         "name": "(3.110509, 5.305435)",
         "type": "scatter",
         "visible": true,
         "x": [
          3.110509
         ],
         "y": [
          5.305435
         ]
        },
        {
         "name": "(4.376073, 5.368352)",
         "type": "scatter",
         "visible": true,
         "x": [
          4.376073
         ],
         "y": [
          5.368352
         ]
        },
        {
         "name": "(7.288801, 5.578745)",
         "type": "scatter",
         "visible": true,
         "x": [
          7.288801
         ],
         "y": [
          5.578745
         ]
        },
        {
         "name": "(8.13391, 6.960544)",
         "type": "scatter",
         "visible": true,
         "x": [
          8.13391
         ],
         "y": [
          6.960544
         ]
        },
        {
         "name": "(4.87216, 6.078595)",
         "type": "scatter",
         "visible": true,
         "x": [
          4.87216
         ],
         "y": [
          6.078595
         ]
        },
        {
         "name": "(5.660226, 6.698943)",
         "type": "scatter",
         "visible": true,
         "x": [
          5.660226
         ],
         "y": [
          6.698943
         ]
        },
        {
         "name": "(5.644691, 4.889521)",
         "type": "scatter",
         "visible": true,
         "x": [
          5.644691
         ],
         "y": [
          4.889521
         ]
        },
        {
         "name": "(5.810638, 6.906727)",
         "type": "scatter",
         "visible": true,
         "x": [
          5.810638
         ],
         "y": [
          6.906727
         ]
        },
        {
         "name": "(4.746343, 6.792254)",
         "type": "scatter",
         "visible": true,
         "x": [
          4.746343
         ],
         "y": [
          6.792254
         ]
        },
        {
         "name": "segment",
         "type": "scatter",
         "visible": true,
         "x": [
          6.216466,
          6.226423
         ],
         "y": [
          4.535322,
          4.737842
         ]
        },
        {
         "name": "segment",
         "type": "scatter",
         "visible": true,
         "x": [
          6.226423,
          6.245008
         ],
         "y": [
          4.737842,
          4.85934
         ]
        },
        {
         "name": "segment",
         "type": "scatter",
         "visible": true,
         "x": [
          6.245008,
          6.174974
         ],
         "y": [
          4.85934,
          4.974765
         ]
        },
        {
         "name": "segment",
         "type": "scatter",
         "visible": true,
         "x": [
          6.174974,
          6.142084
         ],
         "y": [
          4.974765,
          5.053255
         ]
        },
        {
         "name": "segment",
         "type": "scatter",
         "visible": true,
         "x": [
          6.142084,
          6.123158
         ],
         "y": [
          5.053255,
          5.175507
         ]
        },
        {
         "name": "segment",
         "type": "scatter",
         "visible": true,
         "x": [
          6.123158,
          6.10373
         ],
         "y": [
          5.175507,
          5.301015
         ]
        },
        {
         "name": "segment",
         "type": "scatter",
         "visible": true,
         "x": [
          6.10373,
          6.091752
         ],
         "y": [
          5.301015,
          5.378411
         ]
        },
        {
         "name": "segment",
         "type": "scatter",
         "visible": true,
         "x": [
          6.091752,
          6.094696
         ],
         "y": [
          5.378411,
          5.510375
         ]
        },
        {
         "name": "segment",
         "type": "scatter",
         "visible": true,
         "x": [
          6.094696,
          6.036667
         ],
         "y": [
          5.510375,
          5.66764
         ]
        },
        {
         "name": "segment",
         "type": "scatter",
         "visible": true,
         "x": [
          6.036667,
          5.991576
         ],
         "y": [
          5.66764,
          5.735586
         ]
        },
        {
         "name": "segment",
         "type": "scatter",
         "visible": true,
         "x": [
          5.991576,
          5.893041
         ],
         "y": [
          5.735586,
          5.858559
         ]
        },
        {
         "name": "segment",
         "type": "scatter",
         "visible": true,
         "x": [
          5.893041,
          5.840053
         ],
         "y": [
          5.858559,
          5.944022
         ]
        },
        {
         "name": "segment",
         "type": "scatter",
         "visible": true,
         "x": [
          5.840053,
          5.777653
         ],
         "y": [
          5.944022,
          6.036696
         ]
        },
        {
         "name": "segment",
         "type": "scatter",
         "visible": true,
         "x": [
          5.777653,
          5.746139
         ],
         "y": [
          6.036696,
          6.086179
         ]
        },
        {
         "name": "segment",
         "type": "scatter",
         "visible": true,
         "x": [
          5.746139,
          5.687519
         ],
         "y": [
          6.086179,
          6.231828
         ]
        },
        {
         "name": "segment",
         "type": "scatter",
         "visible": true,
         "x": [
          5.687519,
          5.659779
         ],
         "y": [
          6.231828,
          6.292732
         ]
        },
        {
         "name": "segment",
         "type": "scatter",
         "visible": true,
         "x": [
          5.659779,
          5.63137
         ],
         "y": [
          6.292732,
          6.340664
         ]
        },
        {
         "name": "segment",
         "type": "scatter",
         "visible": true,
         "x": [
          5.63137,
          5.592516
         ],
         "y": [
          6.340664,
          6.406215
         ]
        },
        {
         "name": "segment",
         "type": "scatter",
         "visible": true,
         "x": [
          5.592516,
          5.553662
         ],
         "y": [
          6.406215,
          6.471765
         ]
        },
        {
         "name": "segment",
         "type": "scatter",
         "visible": true,
         "x": [
          5.553662,
          5.481818
         ],
         "y": [
          6.471765,
          6.560254
         ]
        },
        {
         "name": "segment",
         "type": "scatter",
         "visible": true,
         "x": [
          5.481818,
          5.43335
         ],
         "y": [
          6.560254,
          6.615202
         ]
        },
        {
         "name": "segment",
         "type": "scatter",
         "visible": true,
         "x": [
          5.43335,
          5.393803
         ],
         "y": [
          6.615202,
          6.678135
         ]
        },
        {
         "name": "segment",
         "type": "scatter",
         "visible": true,
         "x": [
          5.393803,
          5.358522
         ],
         "y": [
          6.678135,
          6.745531
         ]
        },
        {
         "name": "segment",
         "type": "scatter",
         "visible": true,
         "x": [
          5.358522,
          5.344361
         ],
         "y": [
          6.745531,
          6.785489
         ]
        },
        {
         "name": "segment",
         "type": "scatter",
         "visible": true,
         "x": [
          5.344361,
          5.294842
         ],
         "y": [
          6.785489,
          6.919923
         ]
        },
        {
         "name": "segment",
         "type": "scatter",
         "visible": true,
         "x": [
          5.294842,
          5.2756
         ],
         "y": [
          6.919923,
          7.006803
         ]
        },
        {
         "name": "segment",
         "type": "scatter",
         "visible": true,
         "x": [
          5.2756,
          5.258248
         ],
         "y": [
          7.006803,
          7.043624
         ]
        },
        {
         "name": "segment",
         "type": "scatter",
         "visible": true,
         "x": [
          5.258248,
          5.228629
         ],
         "y": [
          7.043624,
          7.120522
         ]
        },
        {
         "name": "segment",
         "type": "scatter",
         "visible": true,
         "x": [
          5.228629,
          5.197806
         ],
         "y": [
          7.120522,
          7.183892
         ]
        },
        {
         "name": "segment",
         "type": "scatter",
         "visible": true,
         "x": [
          5.197806,
          5.174153
         ],
         "y": [
          7.183892,
          7.280427
         ]
        },
        {
         "name": "segment",
         "type": "scatter",
         "visible": true,
         "x": [
          5.174153,
          5.156019
         ],
         "y": [
          7.280427,
          7.354437
         ]
        },
        {
         "name": "segment",
         "type": "scatter",
         "visible": true,
         "x": [
          5.156019,
          5.140079
         ],
         "y": [
          7.354437,
          7.432066
         ]
        },
        {
         "name": "segment",
         "type": "scatter",
         "visible": true,
         "x": [
          5.140079,
          5.119891
         ],
         "y": [
          7.432066,
          7.485739
         ]
        },
        {
         "name": "segment",
         "type": "scatter",
         "visible": true,
         "x": [
          5.119891,
          5.098308
         ],
         "y": [
          7.485739,
          7.568629
         ]
        },
        {
         "name": "segment",
         "type": "scatter",
         "visible": true,
         "x": [
          5.098308,
          5.073782
         ],
         "y": [
          7.568629,
          7.674698
         ]
        },
        {
         "name": "segment",
         "type": "scatter",
         "visible": true,
         "x": [
          5.073782,
          5.041459
         ],
         "y": [
          7.674698,
          7.821471
         ]
        },
        {
         "name": "segment",
         "type": "scatter",
         "visible": true,
         "x": [
          5.041459,
          5.017788
         ],
         "y": [
          7.821471,
          7.928956
         ]
        },
        {
         "name": "segment",
         "type": "scatter",
         "visible": true,
         "x": [
          5.017788,
          4.992062
         ],
         "y": [
          7.928956,
          8.035933
         ]
        },
        {
         "name": "segment",
         "type": "scatter",
         "visible": true,
         "x": [
          4.992062,
          4.949973
         ],
         "y": [
          8.035933,
          8.138556
         ]
        },
        {
         "name": "segment",
         "type": "scatter",
         "visible": true,
         "x": [
          4.949973,
          4.925734
         ],
         "y": [
          8.138556,
          8.208805
         ]
        },
        {
         "name": "segment",
         "type": "scatter",
         "visible": true,
         "x": [
          4.925734,
          4.907672
         ],
         "y": [
          8.208805,
          8.319531
         ]
        },
        {
         "name": "segment",
         "type": "scatter",
         "visible": true,
         "x": [
          4.907672,
          4.860704
         ],
         "y": [
          8.319531,
          8.456305
         ]
        },
        {
         "name": "segment",
         "type": "scatter",
         "visible": true,
         "x": [
          4.860704,
          4.842548
         ],
         "y": [
          8.456305,
          8.490737
         ]
        },
        {
         "name": "segment",
         "type": "scatter",
         "visible": true,
         "x": [
          4.842548,
          4.833205
         ],
         "y": [
          8.490737,
          8.521294
         ]
        },
        {
         "name": "segment",
         "type": "scatter",
         "visible": true,
         "x": [
          4.833205,
          4.786455
         ],
         "y": [
          8.521294,
          8.759745
         ]
        },
        {
         "name": "segment",
         "type": "scatter",
         "visible": true,
         "x": [
          4.786455,
          4.773995
         ],
         "y": [
          8.759745,
          8.792185
         ]
        },
        {
         "name": "segment",
         "type": "scatter",
         "visible": true,
         "x": [
          4.773995,
          4.752749
         ],
         "y": [
          8.792185,
          8.847504
         ]
        },
        {
         "name": "segment",
         "type": "scatter",
         "visible": true,
         "x": [
          4.752749,
          4.731504
         ],
         "y": [
          8.847504,
          8.902822
         ]
        },
        {
         "name": "segment",
         "type": "scatter",
         "visible": true,
         "x": [
          4.731504,
          4.712126
         ],
         "y": [
          8.902822,
          8.936584
         ]
        },
        {
         "name": "segment",
         "type": "scatter",
         "visible": true,
         "x": [
          4.712126,
          4.684841
         ],
         "y": [
          8.936584,
          8.996154
         ]
        },
        {
         "name": "segment",
         "type": "scatter",
         "visible": true,
         "x": [
          4.684841,
          4.665143
         ],
         "y": [
          8.996154,
          9.024782
         ]
        },
        {
         "name": "segment",
         "type": "scatter",
         "visible": true,
         "x": [
          4.665143,
          4.632325
         ],
         "y": [
          9.024782,
          9.077767
         ]
        },
        {
         "name": "segment",
         "type": "scatter",
         "visible": true,
         "x": [
          4.632325,
          4.601123
         ],
         "y": [
          9.077767,
          9.128143
         ]
        },
        {
         "name": "segment",
         "type": "scatter",
         "visible": true,
         "x": [
          4.601123,
          4.567984
         ],
         "y": [
          9.128143,
          9.170279
         ]
        },
        {
         "name": "segment",
         "type": "scatter",
         "visible": true,
         "x": [
          4.567984,
          4.533863
         ],
         "y": [
          9.170279,
          9.237874
         ]
        },
        {
         "name": "segment",
         "type": "scatter",
         "visible": true,
         "x": [
          4.533863,
          4.478833
         ],
         "y": [
          9.237874,
          9.303662
         ]
        },
        {
         "name": "segment",
         "type": "scatter",
         "visible": true,
         "x": [
          4.478833,
          4.441566
         ],
         "y": [
          9.303662,
          9.357551
         ]
        },
        {
         "name": "segment",
         "type": "scatter",
         "visible": true,
         "x": [
          4.441566,
          4.421099
         ],
         "y": [
          9.357551,
          9.38715
         ]
        },
        {
         "name": "4.235696187041828",
         "type": "scatter",
         "visible": true,
         "x": [
          2.662271,
          2.734805591836735,
          2.8073401836734693,
          2.879874775510204,
          2.952409367346939,
          3.0249439591836733,
          3.097478551020408,
          3.170013142857143,
          3.2425477346938774,
          3.315082326530612,
          3.387616918367347,
          3.4601515102040814,
          3.5326861020408162,
          3.605220693877551,
          3.6777552857142854,
          3.7502898775510207,
          3.822824469387755,
          3.8953590612244895,
          3.9678936530612248,
          4.040428244897959,
          4.1129628367346935,
          4.185497428571429,
          4.258032020408163,
          4.330566612244898,
          4.403101204081633,
          4.475635795918367,
          4.548170387755102,
          4.620704979591837,
          4.693239571428571,
          4.765774163265306,
          4.838308755102041,
          4.910843346938775,
          4.98337793877551,
          5.055912530612245,
          5.128447122448979,
          5.200981714285714,
          5.273516306122449,
          5.346050897959183,
          5.418585489795918,
          5.491120081632653,
          5.563654673469388,
          5.636189265306122,
          5.708723857142857,
          5.781258448979592,
          5.853793040816326,
          5.926327632653061,
          5.9988622244897964,
          6.07139681632653,
          6.143931408163265,
          6.216466
         ],
         "y": [
          6.436248,
          6.3469454285126865,
          6.2597473638305425,
          6.174653805953566,
          6.091664754881759,
          6.01078021061512,
          5.932000173153649,
          5.855324642497347,
          5.780753618646214,
          5.708287101600251,
          5.637925091359455,
          5.569667587923828,
          5.503514591293369,
          5.439466101468081,
          5.37752211844796,
          5.317682642233008,
          5.259947672823223,
          5.20431721021861,
          5.150791254419163,
          5.099369805424887,
          5.050052863235779,
          5.002840427851837,
          4.957732499273067,
          4.914729077499463,
          4.87383016253103,
          4.835035754367763,
          4.798345853009668,
          4.763760458456739,
          4.73127957070898,
          4.70090318976639,
          4.672631315628968,
          4.646463948296716,
          4.62240108776963,
          4.600442734047714,
          4.580588887130967,
          4.562839547019388,
          4.547194713712978,
          4.533654387211738,
          4.522218567515666,
          4.512887254624761,
          4.505660448539027,
          4.5005381492584595,
          4.497520356783062,
          4.496607071112833,
          4.497798292247772,
          4.501094020187882,
          4.506494254933158,
          4.513998996483604,
          4.523608244839217,
          4.535322000000001
         ]
        },
        {
         "name": "7.434959374984519",
         "type": "scatter",
         "visible": true,
         "x": [
          6.216466,
          6.33071993877551,
          6.44497387755102,
          6.55922781632653,
          6.67348175510204,
          6.787735693877551,
          6.901989632653061,
          7.016243571428571,
          7.130497510204082,
          7.244751448979591,
          7.359005387755102,
          7.473259326530612,
          7.587513265306122,
          7.701767204081632,
          7.816021142857142,
          7.930275081632653,
          8.044529020408163,
          8.158782959183673,
          8.273036897959184,
          8.387290836734694,
          8.501544775510204,
          8.615798714285713,
          8.730052653061225,
          8.844306591836734,
          8.958560530612244,
          9.072814469387755,
          9.187068408163265,
          9.301322346938775,
          9.415576285714286,
          9.529830224489796,
          9.644084163265306,
          9.758338102040817,
          9.872592040816325,
          9.986845979591838,
          10.101099918367346,
          10.215353857142857,
          10.329607795918367,
          10.443861734693877,
          10.558115673469388,
          10.672369612244898,
          10.786623551020408,
          10.900877489795917,
          11.01513142857143,
          11.129385367346938,
          11.24363930612245,
          11.357893244897959,
          11.472147183673469,
          11.58640112244898,
          11.70065506122449,
          11.814909
         ],
         "y": [
          4.535322000000001,
          4.486831694446984,
          4.443562973904257,
          4.405515838371814,
          4.372690287849661,
          4.345086322337798,
          4.322703941836217,
          4.305543146344924,
          4.293603935863917,
          4.286886310393202,
          4.285390269932769,
          4.289115814482624,
          4.298062944042769,
          4.3122316586132,
          4.331621958193917,
          4.356233842784926,
          4.386067312386219,
          4.421122366997798,
          4.461399006619665,
          4.506897231251816,
          4.557617040894259,
          4.613558435546988,
          4.674721415210005,
          4.741105979883306,
          4.812712129566897,
          4.889539864260776,
          4.971589183964941,
          5.058860088679392,
          5.151352578404129,
          5.249066653139156,
          5.352002312884469,
          5.460159557640068,
          5.573538387405957,
          5.692138802182139,
          5.815960801968597,
          5.945004386765344,
          6.079269556572385,
          6.218756311389708,
          6.3634646512173205,
          6.513394576055216,
          6.668546085903401,
          6.828919180761876,
          6.9945138606306365,
          7.165330125509687,
          7.341367975399017,
          7.5226274102986395,
          7.709108430208548,
          7.900811035128747,
          8.097735225059228,
          8.299881
         ]
        },
        {
         "name": "3.4018402596334143",
         "type": "scatter",
         "visible": true,
         "x": [
          6.216466,
          6.279522020408163,
          6.342578040816326,
          6.4056340612244895,
          6.468690081632652,
          6.531746102040816,
          6.5948021224489795,
          6.657858142857142,
          6.720914163265306,
          6.783970183673469,
          6.847026204081632,
          6.910082224489796,
          6.973138244897958,
          7.036194265306122,
          7.099250285714286,
          7.162306306122448,
          7.225362326530612,
          7.288418346938775,
          7.351474367346938,
          7.414530387755102,
          7.477586408163265,
          7.540642428571428,
          7.603698448979591,
          7.6667544693877545,
          7.729810489795918,
          7.792866510204081,
          7.855922530612244,
          7.918978551020407,
          7.982034571428571,
          8.045090591836734,
          8.108146612244898,
          8.17120263265306,
          8.234258653061223,
          8.297314673469387,
          8.36037069387755,
          8.423426714285714,
          8.486482734693876,
          8.54953875510204,
          8.612594775510203,
          8.675650795918367,
          8.73870681632653,
          8.801762836734692,
          8.864818857142856,
          8.92787487755102,
          8.990930897959183,
          9.053986918367347,
          9.117042938775509,
          9.180098959183672,
          9.243154979591836,
          9.306211
         ],
         "y": [
          4.535321999999997,
          4.516753848403063,
          4.499776121490013,
          4.48438881926085,
          4.470591941715574,
          4.458385488854182,
          4.4477694606766764,
          4.4387438571830575,
          4.431308678373327,
          4.425463924247479,
          4.421209594805518,
          4.418545690047441,
          4.417472209973253,
          4.417989154582948,
          4.420096523876529,
          4.4237943178539965,
          4.429082536515349,
          4.435961179860591,
          4.444430247889715,
          4.454489740602725,
          4.466139657999623,
          4.479380000080406,
          4.494210766845075,
          4.510631958293629,
          4.528643574426074,
          4.548245615242401,
          4.569438080742611,
          4.592220970926709,
          4.616594285794694,
          4.642558025346563,
          4.670112189582319,
          4.69925677850196,
          4.729991792105489,
          4.7623172303929024,
          4.796233093364199,
          4.831739381019386,
          4.868836093358457,
          4.907523230381415,
          4.947800792088257,
          4.98966877847899,
          5.033127189553603,
          5.078176025312102,
          5.124815285754488,
          5.173044970880763,
          5.222865080690919,
          5.2742756151849655,
          5.3272765743628945,
          5.38186795822471,
          5.438049766770412,
          5.495822
         ]
        },
        {
         "name": "3.37595256015761",
         "type": "scatter",
         "visible": true,
         "x": [
          3.110509,
          3.17389587755102,
          3.237282755102041,
          3.300669632653061,
          3.3640565102040814,
          3.427443387755102,
          3.4908302653061223,
          3.554217142857143,
          3.617604020408163,
          3.680990897959184,
          3.744377775510204,
          3.8077646530612244,
          3.871151530612245,
          3.9345384081632653,
          3.9979252857142855,
          4.061312163265306,
          4.124699040816326,
          4.188085918367347,
          4.251472795918367,
          4.314859673469387,
          4.378246551020408,
          4.4416334285714285,
          4.505020306122448,
          4.568407183673469,
          4.63179406122449,
          4.69518093877551,
          4.758567816326531,
          4.821954693877551,
          4.8853415714285715,
          4.948728448979592,
          5.012115326530612,
          5.075502204081633,
          5.138889081632653,
          5.202275959183673,
          5.265662836734694,
          5.3290497142857145,
          5.392436591836734,
          5.455823469387755,
          5.519210346938776,
          5.5825972244897955,
          5.645984102040816,
          5.709370979591837,
          5.772757857142857,
          5.836144734693877,
          5.899531612244898,
          5.962918489795918,
          6.0263053673469384,
          6.089692244897959,
          6.153079122448979,
          6.216466
         ],
         "y": [
          5.305434999999999,
          5.25114660420485,
          5.19846536690797,
          5.147391288109356,
          5.09792436780901,
          5.050064606006931,
          5.003812002703119,
          4.959166557897574,
          4.916128271590297,
          4.874697143781287,
          4.834873174470543,
          4.796656363658068,
          4.760046711343859,
          4.725044217527918,
          4.691648882210243,
          4.6598607053908365,
          4.629679687069698,
          4.601105827246824,
          4.574139125922219,
          4.548779583095882,
          4.525027198767811,
          4.502881972938008,
          4.482343905606472,
          4.463412996773202,
          4.446089246438199,
          4.430372654601464,
          4.416263221262997,
          4.403760946422797,
          4.392865830080863,
          4.383577872237198,
          4.3758970728918,
          4.369823432044668,
          4.365356949695804,
          4.362497625845207,
          4.361245460492877,
          4.361600453638815,
          4.36356260528302,
          4.367131915425491,
          4.372308384066231,
          4.379092011205238,
          4.38748279684251,
          4.397480740978051,
          4.4090858436118605,
          4.422298104743934,
          4.437117524374277,
          4.453544102502888,
          4.471577839129764,
          4.4912187342549075,
          4.512466787878319,
          4.535321999999997
         ]
        },
        {
         "name": "2.0514716619768647",
         "type": "scatter",
         "visible": true,
         "x": [
          4.376073,
          4.413632040816326,
          4.451191081632653,
          4.488750122448979,
          4.526309163265306,
          4.563868204081633,
          4.601427244897959,
          4.638986285714285,
          4.676545326530612,
          4.7141043673469385,
          4.751663408163265,
          4.789222448979592,
          4.826781489795918,
          4.864340530612244,
          4.901899571428571,
          4.939458612244898,
          4.977017653061225,
          5.014576693877551,
          5.052135734693877,
          5.089694775510203,
          5.12725381632653,
          5.164812857142857,
          5.202371897959184,
          5.23993093877551,
          5.277489979591836,
          5.315049020408163,
          5.3526080612244895,
          5.390167102040816,
          5.427726142857143,
          5.465285183673469,
          5.502844224489795,
          5.540403265306122,
          5.577962306122449,
          5.615521346938775,
          5.653080387755102,
          5.690639428571428,
          5.728198469387754,
          5.7657575102040814,
          5.803316551020408,
          5.840875591836735,
          5.878434632653061,
          5.915993673469387,
          5.953552714285713,
          5.9911117551020405,
          6.028670795918367,
          6.066229836734694,
          6.10378887755102,
          6.141347918367346,
          6.1789069591836725,
          6.216466
         ],
         "y": [
          5.368352,
          5.337808844903495,
          5.3078299624258065,
          5.278415352566935,
          5.24956501532688,
          5.221278950705641,
          5.1935571587032205,
          5.166399639319617,
          5.13980639255483,
          5.11377741840886,
          5.088312716881707,
          5.063412287973372,
          5.039076131683853,
          5.015304248013152,
          4.992096636961265,
          4.969453298528197,
          4.947374232713947,
          4.925859439518513,
          4.904908918941897,
          4.884522670984097,
          4.864700695645115,
          4.845442992924949,
          4.826749562823598,
          4.808620405341067,
          4.791055520477352,
          4.774054908232454,
          4.757618568606373,
          4.74174650159911,
          4.726438707210663,
          4.711695185441032,
          4.69751593629022,
          4.683900959758223,
          4.670850255845044,
          4.6583638245506815,
          4.6464416658751375,
          4.635083779818411,
          4.624290166380499,
          4.614060825561404,
          4.604395757361129,
          4.595294961779667,
          4.586758438817023,
          4.578786188473197,
          4.571378210748188,
          4.564534505641998,
          4.558255073154623,
          4.552539913286065,
          4.547389026036324,
          4.5428024114054,
          4.538780069393292,
          4.535322000000001
         ]
        },
        {
         "name": "1.4673424711242775",
         "type": "scatter",
         "visible": true,
         "x": [
          6.245008,
          6.266309897959184,
          6.287611795918368,
          6.308913693877551,
          6.330215591836735,
          6.351517489795919,
          6.3728193877551025,
          6.394121285714286,
          6.41542318367347,
          6.4367250816326536,
          6.458026979591837,
          6.479328877551021,
          6.500630775510205,
          6.521932673469388,
          6.543234571428572,
          6.564536469387756,
          6.585838367346939,
          6.607140265306123,
          6.628442163265307,
          6.6497440612244905,
          6.671045959183674,
          6.692347857142858,
          6.7136497551020415,
          6.734951653061225,
          6.756253551020409,
          6.777555448979593,
          6.798857346938776,
          6.82015924489796,
          6.841461142857144,
          6.8627630408163265,
          6.88406493877551,
          6.905366836734694,
          6.926668734693878,
          6.947970632653061,
          6.969272530612245,
          6.990574428571429,
          7.011876326530612,
          7.033178224489796,
          7.05448012244898,
          7.075782020408163,
          7.097083918367347,
          7.118385816326531,
          7.1396877142857145,
          7.160989612244898,
          7.182291510204082,
          7.2035934081632655,
          7.224895306122449,
          7.246197204081633,
          7.267499102040817,
          7.288801
         ],
         "y": [
          4.859340000000001,
          4.869665534469909,
          4.880172577282484,
          4.890861128437723,
          4.901731187935628,
          4.912782755776197,
          4.924015831959432,
          4.9354304164853335,
          4.947026509353899,
          4.958804110565129,
          4.970763220119027,
          4.982903838015588,
          4.995225964254816,
          5.007729598836709,
          5.020414741761266,
          5.033281393028492,
          5.04632955263838,
          5.059559220590934,
          5.072970396886156,
          5.086563081524039,
          5.100337274504589,
          5.114292975827807,
          5.128430185493688,
          5.142748903502232,
          5.1572491298534455,
          5.171930864547322,
          5.186794107583866,
          5.201838858963075,
          5.217065118684948,
          5.232472886749488,
          5.248062163156693,
          5.263832947906561,
          5.279785240999097,
          5.2959190424342975,
          5.312234352212164,
          5.328731170332695,
          5.345409496795892,
          5.362269331601754,
          5.379310674750283,
          5.396533526241475,
          5.413937886075335,
          5.431523754251858,
          5.449291130771044,
          5.4672400156329,
          5.48537040883742,
          5.503682310384605,
          5.522175720274456,
          5.5408506385069725,
          5.5597070650821525,
          5.578745000000001
         ]
        },
        {
         "name": "3.034478103834143",
         "type": "scatter",
         "visible": true,
         "x": [
          6.245008,
          6.283557020408163,
          6.322106040816327,
          6.36065506122449,
          6.399204081632654,
          6.4377531020408165,
          6.47630212244898,
          6.514851142857143,
          6.553400163265306,
          6.59194918367347,
          6.630498204081633,
          6.6690472244897965,
          6.707596244897959,
          6.746145265306123,
          6.784694285714286,
          6.82324330612245,
          6.861792326530613,
          6.9003413469387755,
          6.938890367346939,
          6.977439387755102,
          7.015988408163266,
          7.054537428571429,
          7.093086448979593,
          7.1316354693877555,
          7.170184489795918,
          7.208733510204082,
          7.247282530612245,
          7.285831551020408,
          7.324380571428572,
          7.3629295918367355,
          7.401478612244898,
          7.440027632653061,
          7.478576653061225,
          7.517125673469388,
          7.555674693877551,
          7.5942237142857145,
          7.632772734693878,
          7.671321755102041,
          7.709870775510204,
          7.748419795918368,
          7.786968816326531,
          7.825517836734694,
          7.864066857142857,
          7.902615877551021,
          7.941164897959184,
          7.979713918367347,
          8.01826293877551,
          8.056811959183674,
          8.095360979591836,
          8.13391
         ],
         "y": [
          4.8593399999999995,
          4.887955855331197,
          4.917166121452164,
          4.946970798362903,
          4.977369886063416,
          5.008363384553697,
          5.0399512938337505,
          5.072133613903578,
          5.104910344763173,
          5.1382814864125415,
          5.172247038851683,
          5.206807002080595,
          5.24196137609928,
          5.277710160907734,
          5.31405335650596,
          5.35099096289396,
          5.388522980071729,
          5.426649408039269,
          5.465370246796583,
          5.504685496343669,
          5.544595156680526,
          5.585099227807152,
          5.626197709723552,
          5.667890602429724,
          5.710177905925667,
          5.7530596202113795,
          5.7965357452868655,
          5.840606281152123,
          5.885271227807152,
          5.930530585251953,
          5.976384353486525,
          6.0228325325108685,
          6.069875122324985,
          6.11751212292887,
          6.16574353432253,
          6.21456935650596,
          6.263989589479163,
          6.3140042332421356,
          6.36461328779488,
          6.415816753137397,
          6.467614629269686,
          6.520006916191743,
          6.572993613903575,
          6.626574722405179,
          6.680750241696554,
          6.735520171777699,
          6.790884512648619,
          6.8468432643093085,
          6.903396426759768,
          6.960543999999999
         ]
        },
        {
         "name": "1.8868821469047503",
         "type": "scatter",
         "visible": true,
         "x": [
          4.87216,
          4.8906394489795915,
          4.909118897959184,
          4.927598346938775,
          4.9460777959183675,
          4.964557244897959,
          4.983036693877551,
          5.001516142857143,
          5.019995591836735,
          5.038475040816326,
          5.056954489795919,
          5.07543393877551,
          5.093913387755102,
          5.112392836734694,
          5.130872285714286,
          5.1493517346938775,
          5.167831183673469,
          5.186310632653061,
          5.204790081632653,
          5.223269530612245,
          5.241748979591836,
          5.260228428571429,
          5.27870787755102,
          5.297187326530612,
          5.315666775510204,
          5.334146224489796,
          5.352625673469388,
          5.37110512244898,
          5.389584571428571,
          5.408064020408164,
          5.426543469387755,
          5.445022918367346,
          5.463502367346939,
          5.481981816326531,
          5.5004612653061224,
          5.518940714285714,
          5.537420163265306,
          5.555899612244898,
          5.57437906122449,
          5.592858510204081,
          5.611337959183674,
          5.629817408163265,
          5.648296857142857,
          5.666776306122449,
          5.685255755102041,
          5.7037352040816325,
          5.722214653061224,
          5.740694102040816,
          5.7591735510204085,
          5.777653
         ],
         "y": [
          6.078594999999999,
          6.074461614035287,
          6.070464824084413,
          6.066604630147374,
          6.062881032224169,
          6.059294030314802,
          6.05584362441927,
          6.052529814537574,
          6.049352600669712,
          6.046311982815689,
          6.0434079609755,
          6.040640535149145,
          6.038009705336628,
          6.035515471537947,
          6.0331578337531,
          6.030936791982089,
          6.028852346224915,
          6.026904496481576,
          6.025093242752074,
          6.023418585036405,
          6.021880523334573,
          6.020479057646578,
          6.019214187972417,
          6.018085914312092,
          6.017094236665604,
          6.0162391550329515,
          6.015520669414133,
          6.014938779809151,
          6.014493486218006,
          6.014184788640695,
          6.014012687077221,
          6.013977181527583,
          6.014078271991781,
          6.014315958469812,
          6.014690240961681,
          6.015201119467386,
          6.015848593986925,
          6.016632664520301,
          6.0175533310675124,
          6.01861059362856,
          6.019804452203442,
          6.021134906792161,
          6.022601957394716,
          6.024205604011106,
          6.025945846641331,
          6.027822685285393,
          6.029836119943291,
          6.0319861506150225,
          6.034272777300593,
          6.036695999999998
         ]
        },
        {
         "name": "1.5205979265596157",
         "type": "scatter",
         "visible": true,
         "x": [
          5.56104426,
          5.563068377142857,
          5.5650924942857145,
          5.567116611428571,
          5.569140728571429,
          5.571164845714286,
          5.5731889628571425,
          5.57521308,
          5.577237197142857,
          5.579261314285715,
          5.581285431428571,
          5.583309548571428,
          5.585333665714286,
          5.587357782857143,
          5.5893819,
          5.591406017142857,
          5.593430134285715,
          5.5954542514285714,
          5.597478368571428,
          5.599502485714286,
          5.601526602857143,
          5.60355072,
          5.605574837142857,
          5.607598954285714,
          5.6096230714285715,
          5.611647188571428,
          5.613671305714286,
          5.615695422857143,
          5.6177195399999995,
          5.619743657142857,
          5.621767774285714,
          5.623791891428572,
          5.625816008571428,
          5.627840125714285,
          5.629864242857143,
          5.63188836,
          5.633912477142857,
          5.635936594285714,
          5.637960711428572,
          5.6399848285714285,
          5.642008945714285,
          5.644033062857143,
          5.64605718,
          5.648081297142857,
          5.650105414285714,
          5.652129531428571,
          5.6541536485714285,
          5.656177765714285,
          5.658201882857143,
          5.660226
         ],
         "y": [
          6.459310499999999,
          6.464161627501675,
          6.469014393823436,
          6.473868798965278,
          6.478724842927205,
          6.483582525709214,
          6.488441847311306,
          6.493302807733484,
          6.49816540697574,
          6.503029645038085,
          6.507895521920509,
          6.512763037623017,
          6.51763219214561,
          6.522502985488285,
          6.527375417651043,
          6.532249488633885,
          6.53712519843681,
          6.542002547059817,
          6.546881534502907,
          6.551762160766083,
          6.556644425849339,
          6.561528329752681,
          6.566413872476104,
          6.571301054019611,
          6.576189874383202,
          6.581080333566875,
          6.5859724315706325,
          6.590866168394472,
          6.595761544038393,
          6.600658558502401,
          6.605557211786489,
          6.610457503890664,
          6.615359434814919,
          6.620263004559257,
          6.62516821312368,
          6.630075060508186,
          6.634983546712775,
          6.639893671737447,
          6.644805435582202,
          6.649718838247041,
          6.654633879731961,
          6.659550560036966,
          6.664468879162054,
          6.669388837107226,
          6.6743104338724795,
          6.679233669457816,
          6.684158543863238,
          6.689085057088741,
          6.694013209134329,
          6.698942999999999
         ]
        },
        {
         "name": "0.6733606747624491",
         "type": "scatter",
         "visible": true,
         "x": [
          5.644691,
          5.65635987755102,
          5.668028755102041,
          5.6796976326530615,
          5.691366510204081,
          5.703035387755102,
          5.714704265306122,
          5.726373142857143,
          5.738042020408163,
          5.749710897959184,
          5.761379775510204,
          5.773048653061224,
          5.7847175306122445,
          5.796386408163265,
          5.8080552857142855,
          5.819724163265306,
          5.831393040816327,
          5.843061918367347,
          5.854730795918367,
          5.866399673469387,
          5.878068551020408,
          5.889737428571428,
          5.901406306122449,
          5.913075183673469,
          5.92474406122449,
          5.93641293877551,
          5.94808181632653,
          5.959750693877551,
          5.971419571428571,
          5.983088448979592,
          5.994757326530612,
          6.006426204081633,
          6.018095081632652,
          6.029763959183673,
          6.0414328367346934,
          6.053101714285714,
          6.0647705918367345,
          6.076439469387755,
          6.088108346938776,
          6.099777224489795,
          6.111446102040816,
          6.123114979591836,
          6.134783857142857,
          6.146452734693877,
          6.158121612244898,
          6.169790489795918,
          6.181459367346939,
          6.1931282448979585,
          6.204797122448979,
          6.216466
         ],
         "y": [
          4.8895209999999985,
          4.880985287027901,
          4.872504039137127,
          4.864077256327674,
          4.855704938599542,
          4.847387085952725,
          4.839123698387233,
          4.830914775903059,
          4.822760318500208,
          4.814660326178675,
          4.806614798938462,
          4.798623736779568,
          4.790687139701998,
          4.782805007705747,
          4.774977340790816,
          4.767204138957201,
          4.759485402204913,
          4.751821130533942,
          4.744211323944294,
          4.736655982435959,
          4.729155106008951,
          4.721708694663263,
          4.714316748398893,
          4.706979267215846,
          4.699696251114119,
          4.692467700093708,
          4.685293614154622,
          4.678173993296854,
          4.671108837520407,
          4.664098146825278,
          4.657141921211471,
          4.650240160678987,
          4.6433928652278205,
          4.636600034857974,
          4.629861669569447,
          4.623177769362243,
          4.616548334236358,
          4.609973364191793,
          4.60345285922855,
          4.596986819346624,
          4.59057524454602,
          4.584218134826738,
          4.577915490188776,
          4.5716673106321295,
          4.5654735961568065,
          4.559334346762805,
          4.553249562450123,
          4.547219243218759,
          4.541243389068718,
          4.535321999999997
         ]
        },
        {
         "name": "1.7701009472777745",
         "type": "scatter",
         "visible": true,
         "x": [
          5.59912118,
          5.6034378497959185,
          5.607754519591837,
          5.6120711893877555,
          5.616387859183673,
          5.620704528979592,
          5.62502119877551,
          5.629337868571429,
          5.633654538367347,
          5.637971208163266,
          5.642287877959184,
          5.646604547755102,
          5.65092121755102,
          5.655237887346939,
          5.659554557142857,
          5.663871226938776,
          5.668187896734694,
          5.672504566530613,
          5.67682123632653,
          5.681137906122449,
          5.685454575918367,
          5.689771245714286,
          5.694087915510204,
          5.698404585306123,
          5.702721255102041,
          5.707037924897959,
          5.711354594693877,
          5.715671264489796,
          5.719987934285714,
          5.724304604081633,
          5.728621273877551,
          5.73293794367347,
          5.737254613469387,
          5.741571283265306,
          5.745887953061224,
          5.750204622857143,
          5.754521292653061,
          5.75883796244898,
          5.763154632244898,
          5.767471302040816,
          5.771787971836734,
          5.776104641632653,
          5.780421311428571,
          5.78473798122449,
          5.789054651020408,
          5.793371320816327,
          5.7976879906122445,
          5.802004660408163,
          5.8063213302040815,
          5.810638
         ],
         "y": [
          6.39507133,
          6.405334399522961,
          6.415604922501172,
          6.425882898934636,
          6.436168328823346,
          6.44646121216731,
          6.456761548966524,
          6.46706933922099,
          6.477384582930707,
          6.487707280095673,
          6.4980374307158915,
          6.508375034791358,
          6.518720092322078,
          6.529072603308048,
          6.539432567749269,
          6.54979998564574,
          6.560174856997465,
          6.570557181804437,
          6.58094696006666,
          6.591344191784135,
          6.601748876956861,
          6.612161015584838,
          6.622580607668065,
          6.633007653206543,
          6.643442152200273,
          6.65388410464925,
          6.6643335105534804,
          6.674790369912962,
          6.6852546827276935,
          6.695726448997679,
          6.706205668722912,
          6.716692341903396,
          6.727186468539129,
          6.737688048630116,
          6.748197082176353,
          6.75871356917784,
          6.7692375096345785,
          6.779768903546569,
          6.79030775091381,
          6.800854051736298,
          6.81140780601404,
          6.821969013747032,
          6.832537674935277,
          6.843113789578771,
          6.8536973576775155,
          6.86428837923151,
          6.8748868542407555,
          6.885492782705253,
          6.896106164625001,
          6.906727
         ]
        },
        {
         "name": "2.0859599100424524",
         "type": "scatter",
         "visible": true,
         "x": [
          4.746343,
          4.759426865714286,
          4.7725107314285715,
          4.7855945971428575,
          4.7986784628571435,
          4.811762328571429,
          4.824846194285715,
          4.837930060000001,
          4.851013925714286,
          4.864097791428572,
          4.877181657142858,
          4.890265522857143,
          4.903349388571429,
          4.916433254285715,
          4.92951712,
          4.942600985714286,
          4.955684851428572,
          4.968768717142857,
          4.981852582857143,
          4.994936448571429,
          5.008020314285714,
          5.02110418,
          5.034188045714286,
          5.047271911428572,
          5.060355777142857,
          5.073439642857143,
          5.086523508571428,
          5.099607374285714,
          5.11269124,
          5.125775105714286,
          5.138858971428571,
          5.151942837142857,
          5.165026702857143,
          5.178110568571428,
          5.191194434285714,
          5.2042783,
          5.2173621657142855,
          5.2304460314285715,
          5.243529897142857,
          5.2566137628571425,
          5.2696976285714285,
          5.2827814942857145,
          5.29586536,
          5.308949225714286,
          5.322033091428572,
          5.335116957142857,
          5.348200822857143,
          5.361284688571429,
          5.374368554285714,
          5.38745242
         ],
         "y": [
          6.792254,
          6.788529217555701,
          6.784872910128213,
          6.781285077717538,
          6.777765720323673,
          6.774314837946622,
          6.770932430586381,
          6.767618498242952,
          6.764373040916336,
          6.761196058606531,
          6.758087551313538,
          6.755047519037357,
          6.7520759617779875,
          6.749172879535429,
          6.746338272309684,
          6.743572140100749,
          6.740874482908627,
          6.7382453007333165,
          6.735684593574817,
          6.73319236143313,
          6.730768604308254,
          6.728413322200192,
          6.726126515108939,
          6.7239081830345,
          6.721758325976872,
          6.719676943936055,
          6.717664036912052,
          6.7157196049048595,
          6.713843647914479,
          6.712036165940909,
          6.710297158984153,
          6.7086266270442065,
          6.707024570121073,
          6.70549098821475,
          6.70402588132524,
          6.702629249452542,
          6.701301092596655,
          6.70004141075758,
          6.698850203935317,
          6.697727472129865,
          6.696673215341225,
          6.695687433569398,
          6.694770126814381,
          6.693921295076178,
          6.6931409383547855,
          6.692429056650204,
          6.691785649962435,
          6.691210718291479,
          6.690704261637333,
          6.6902662799999995
         ]
        }
       ],
       "layout": {
        "autosize": true,
        "template": {
         "data": {
          "bar": [
           {
            "error_x": {
             "color": "#2a3f5f"
            },
            "error_y": {
             "color": "#2a3f5f"
            },
            "marker": {
             "line": {
              "color": "#E5ECF6",
              "width": 0.5
             },
             "pattern": {
              "fillmode": "overlay",
              "size": 10,
              "solidity": 0.2
             }
            },
            "type": "bar"
           }
          ],
          "barpolar": [
           {
            "marker": {
             "line": {
              "color": "#E5ECF6",
              "width": 0.5
             },
             "pattern": {
              "fillmode": "overlay",
              "size": 10,
              "solidity": 0.2
             }
            },
            "type": "barpolar"
           }
          ],
          "carpet": [
           {
            "aaxis": {
             "endlinecolor": "#2a3f5f",
             "gridcolor": "white",
             "linecolor": "white",
             "minorgridcolor": "white",
             "startlinecolor": "#2a3f5f"
            },
            "baxis": {
             "endlinecolor": "#2a3f5f",
             "gridcolor": "white",
             "linecolor": "white",
             "minorgridcolor": "white",
             "startlinecolor": "#2a3f5f"
            },
            "type": "carpet"
           }
          ],
          "choropleth": [
           {
            "colorbar": {
             "outlinewidth": 0,
             "ticks": ""
            },
            "type": "choropleth"
           }
          ],
          "contour": [
           {
            "colorbar": {
             "outlinewidth": 0,
             "ticks": ""
            },
            "colorscale": [
             [
              0,
              "#0d0887"
             ],
             [
              0.1111111111111111,
              "#46039f"
             ],
             [
              0.2222222222222222,
              "#7201a8"
             ],
             [
              0.3333333333333333,
              "#9c179e"
             ],
             [
              0.4444444444444444,
              "#bd3786"
             ],
             [
              0.5555555555555556,
              "#d8576b"
             ],
             [
              0.6666666666666666,
              "#ed7953"
             ],
             [
              0.7777777777777778,
              "#fb9f3a"
             ],
             [
              0.8888888888888888,
              "#fdca26"
             ],
             [
              1,
              "#f0f921"
             ]
            ],
            "type": "contour"
           }
          ],
          "contourcarpet": [
           {
            "colorbar": {
             "outlinewidth": 0,
             "ticks": ""
            },
            "type": "contourcarpet"
           }
          ],
          "heatmap": [
           {
            "colorbar": {
             "outlinewidth": 0,
             "ticks": ""
            },
            "colorscale": [
             [
              0,
              "#0d0887"
             ],
             [
              0.1111111111111111,
              "#46039f"
             ],
             [
              0.2222222222222222,
              "#7201a8"
             ],
             [
              0.3333333333333333,
              "#9c179e"
             ],
             [
              0.4444444444444444,
              "#bd3786"
             ],
             [
              0.5555555555555556,
              "#d8576b"
             ],
             [
              0.6666666666666666,
              "#ed7953"
             ],
             [
              0.7777777777777778,
              "#fb9f3a"
             ],
             [
              0.8888888888888888,
              "#fdca26"
             ],
             [
              1,
              "#f0f921"
             ]
            ],
            "type": "heatmap"
           }
          ],
          "heatmapgl": [
           {
            "colorbar": {
             "outlinewidth": 0,
             "ticks": ""
            },
            "colorscale": [
             [
              0,
              "#0d0887"
             ],
             [
              0.1111111111111111,
              "#46039f"
             ],
             [
              0.2222222222222222,
              "#7201a8"
             ],
             [
              0.3333333333333333,
              "#9c179e"
             ],
             [
              0.4444444444444444,
              "#bd3786"
             ],
             [
              0.5555555555555556,
              "#d8576b"
             ],
             [
              0.6666666666666666,
              "#ed7953"
             ],
             [
              0.7777777777777778,
              "#fb9f3a"
             ],
             [
              0.8888888888888888,
              "#fdca26"
             ],
             [
              1,
              "#f0f921"
             ]
            ],
            "type": "heatmapgl"
           }
          ],
          "histogram": [
           {
            "marker": {
             "pattern": {
              "fillmode": "overlay",
              "size": 10,
              "solidity": 0.2
             }
            },
            "type": "histogram"
           }
          ],
          "histogram2d": [
           {
            "colorbar": {
             "outlinewidth": 0,
             "ticks": ""
            },
            "colorscale": [
             [
              0,
              "#0d0887"
             ],
             [
              0.1111111111111111,
              "#46039f"
             ],
             [
              0.2222222222222222,
              "#7201a8"
             ],
             [
              0.3333333333333333,
              "#9c179e"
             ],
             [
              0.4444444444444444,
              "#bd3786"
             ],
             [
              0.5555555555555556,
              "#d8576b"
             ],
             [
              0.6666666666666666,
              "#ed7953"
             ],
             [
              0.7777777777777778,
              "#fb9f3a"
             ],
             [
              0.8888888888888888,
              "#fdca26"
             ],
             [
              1,
              "#f0f921"
             ]
            ],
            "type": "histogram2d"
           }
          ],
          "histogram2dcontour": [
           {
            "colorbar": {
             "outlinewidth": 0,
             "ticks": ""
            },
            "colorscale": [
             [
              0,
              "#0d0887"
             ],
             [
              0.1111111111111111,
              "#46039f"
             ],
             [
              0.2222222222222222,
              "#7201a8"
             ],
             [
              0.3333333333333333,
              "#9c179e"
             ],
             [
              0.4444444444444444,
              "#bd3786"
             ],
             [
              0.5555555555555556,
              "#d8576b"
             ],
             [
              0.6666666666666666,
              "#ed7953"
             ],
             [
              0.7777777777777778,
              "#fb9f3a"
             ],
             [
              0.8888888888888888,
              "#fdca26"
             ],
             [
              1,
              "#f0f921"
             ]
            ],
            "type": "histogram2dcontour"
           }
          ],
          "mesh3d": [
           {
            "colorbar": {
             "outlinewidth": 0,
             "ticks": ""
            },
            "type": "mesh3d"
           }
          ],
          "parcoords": [
           {
            "line": {
             "colorbar": {
              "outlinewidth": 0,
              "ticks": ""
             }
            },
            "type": "parcoords"
           }
          ],
          "pie": [
           {
            "automargin": true,
            "type": "pie"
           }
          ],
          "scatter": [
           {
            "fillpattern": {
             "fillmode": "overlay",
             "size": 10,
             "solidity": 0.2
            },
            "type": "scatter"
           }
          ],
          "scatter3d": [
           {
            "line": {
             "colorbar": {
              "outlinewidth": 0,
              "ticks": ""
             }
            },
            "marker": {
             "colorbar": {
              "outlinewidth": 0,
              "ticks": ""
             }
            },
            "type": "scatter3d"
           }
          ],
          "scattercarpet": [
           {
            "marker": {
             "colorbar": {
              "outlinewidth": 0,
              "ticks": ""
             }
            },
            "type": "scattercarpet"
           }
          ],
          "scattergeo": [
           {
            "marker": {
             "colorbar": {
              "outlinewidth": 0,
              "ticks": ""
             }
            },
            "type": "scattergeo"
           }
          ],
          "scattergl": [
           {
            "marker": {
             "colorbar": {
              "outlinewidth": 0,
              "ticks": ""
             }
            },
            "type": "scattergl"
           }
          ],
          "scattermapbox": [
           {
            "marker": {
             "colorbar": {
              "outlinewidth": 0,
              "ticks": ""
             }
            },
            "type": "scattermapbox"
           }
          ],
          "scatterpolar": [
           {
            "marker": {
             "colorbar": {
              "outlinewidth": 0,
              "ticks": ""
             }
            },
            "type": "scatterpolar"
           }
          ],
          "scatterpolargl": [
           {
            "marker": {
             "colorbar": {
              "outlinewidth": 0,
              "ticks": ""
             }
            },
            "type": "scatterpolargl"
           }
          ],
          "scatterternary": [
           {
            "marker": {
             "colorbar": {
              "outlinewidth": 0,
              "ticks": ""
             }
            },
            "type": "scatterternary"
           }
          ],
          "surface": [
           {
            "colorbar": {
             "outlinewidth": 0,
             "ticks": ""
            },
            "colorscale": [
             [
              0,
              "#0d0887"
             ],
             [
              0.1111111111111111,
              "#46039f"
             ],
             [
              0.2222222222222222,
              "#7201a8"
             ],
             [
              0.3333333333333333,
              "#9c179e"
             ],
             [
              0.4444444444444444,
              "#bd3786"
             ],
             [
              0.5555555555555556,
              "#d8576b"
             ],
             [
              0.6666666666666666,
              "#ed7953"
             ],
             [
              0.7777777777777778,
              "#fb9f3a"
             ],
             [
              0.8888888888888888,
              "#fdca26"
             ],
             [
              1,
              "#f0f921"
             ]
            ],
            "type": "surface"
           }
          ],
          "table": [
           {
            "cells": {
             "fill": {
              "color": "#EBF0F8"
             },
             "line": {
              "color": "white"
             }
            },
            "header": {
             "fill": {
              "color": "#C8D4E3"
             },
             "line": {
              "color": "white"
             }
            },
            "type": "table"
           }
          ]
         },
         "layout": {
          "annotationdefaults": {
           "arrowcolor": "#2a3f5f",
           "arrowhead": 0,
           "arrowwidth": 1
          },
          "autotypenumbers": "strict",
          "coloraxis": {
           "colorbar": {
            "outlinewidth": 0,
            "ticks": ""
           }
          },
          "colorscale": {
           "diverging": [
            [
             0,
             "#8e0152"
            ],
            [
             0.1,
             "#c51b7d"
            ],
            [
             0.2,
             "#de77ae"
            ],
            [
             0.3,
             "#f1b6da"
            ],
            [
             0.4,
             "#fde0ef"
            ],
            [
             0.5,
             "#f7f7f7"
            ],
            [
             0.6,
             "#e6f5d0"
            ],
            [
             0.7,
             "#b8e186"
            ],
            [
             0.8,
             "#7fbc41"
            ],
            [
             0.9,
             "#4d9221"
            ],
            [
             1,
             "#276419"
            ]
           ],
           "sequential": [
            [
             0,
             "#0d0887"
            ],
            [
             0.1111111111111111,
             "#46039f"
            ],
            [
             0.2222222222222222,
             "#7201a8"
            ],
            [
             0.3333333333333333,
             "#9c179e"
            ],
            [
             0.4444444444444444,
             "#bd3786"
            ],
            [
             0.5555555555555556,
             "#d8576b"
            ],
            [
             0.6666666666666666,
             "#ed7953"
            ],
            [
             0.7777777777777778,
             "#fb9f3a"
            ],
            [
             0.8888888888888888,
             "#fdca26"
            ],
            [
             1,
             "#f0f921"
            ]
           ],
           "sequentialminus": [
            [
             0,
             "#0d0887"
            ],
            [
             0.1111111111111111,
             "#46039f"
            ],
            [
             0.2222222222222222,
             "#7201a8"
            ],
            [
             0.3333333333333333,
             "#9c179e"
            ],
            [
             0.4444444444444444,
             "#bd3786"
            ],
            [
             0.5555555555555556,
             "#d8576b"
            ],
            [
             0.6666666666666666,
             "#ed7953"
            ],
            [
             0.7777777777777778,
             "#fb9f3a"
            ],
            [
             0.8888888888888888,
             "#fdca26"
            ],
            [
             1,
             "#f0f921"
            ]
           ]
          },
          "colorway": [
           "#636efa",
           "#EF553B",
           "#00cc96",
           "#ab63fa",
           "#FFA15A",
           "#19d3f3",
           "#FF6692",
           "#B6E880",
           "#FF97FF",
           "#FECB52"
          ],
          "font": {
           "color": "#2a3f5f"
          },
          "geo": {
           "bgcolor": "white",
           "lakecolor": "white",
           "landcolor": "#E5ECF6",
           "showlakes": true,
           "showland": true,
           "subunitcolor": "white"
          },
          "hoverlabel": {
           "align": "left"
          },
          "hovermode": "closest",
          "mapbox": {
           "style": "light"
          },
          "paper_bgcolor": "white",
          "plot_bgcolor": "#E5ECF6",
          "polar": {
           "angularaxis": {
            "gridcolor": "white",
            "linecolor": "white",
            "ticks": ""
           },
           "bgcolor": "#E5ECF6",
           "radialaxis": {
            "gridcolor": "white",
            "linecolor": "white",
            "ticks": ""
           }
          },
          "scene": {
           "xaxis": {
            "backgroundcolor": "#E5ECF6",
            "gridcolor": "white",
            "gridwidth": 2,
            "linecolor": "white",
            "showbackground": true,
            "ticks": "",
            "zerolinecolor": "white"
           },
           "yaxis": {
            "backgroundcolor": "#E5ECF6",
            "gridcolor": "white",
            "gridwidth": 2,
            "linecolor": "white",
            "showbackground": true,
            "ticks": "",
            "zerolinecolor": "white"
           },
           "zaxis": {
            "backgroundcolor": "#E5ECF6",
            "gridcolor": "white",
            "gridwidth": 2,
            "linecolor": "white",
            "showbackground": true,
            "ticks": "",
            "zerolinecolor": "white"
           }
          },
          "shapedefaults": {
           "line": {
            "color": "#2a3f5f"
           }
          },
          "ternary": {
           "aaxis": {
            "gridcolor": "white",
            "linecolor": "white",
            "ticks": ""
           },
           "baxis": {
            "gridcolor": "white",
            "linecolor": "white",
            "ticks": ""
           },
           "bgcolor": "#E5ECF6",
           "caxis": {
            "gridcolor": "white",
            "linecolor": "white",
            "ticks": ""
           }
          },
          "title": {
           "x": 0.05
          },
          "xaxis": {
           "automargin": true,
           "gridcolor": "white",
           "linecolor": "white",
           "ticks": "",
           "title": {
            "standoff": 15
           },
           "zerolinecolor": "white",
           "zerolinewidth": 2
          },
          "yaxis": {
           "automargin": true,
           "gridcolor": "white",
           "linecolor": "white",
           "ticks": "",
           "title": {
            "standoff": 15
           },
           "zerolinecolor": "white",
           "zerolinewidth": 2
          }
         }
        },
        "xaxis": {
         "autorange": true,
         "range": [
          2.1086009325749497,
          12.36857906742505
         ],
         "type": "linear"
        },
        "yaxis": {
         "autorange": true,
         "range": [
          3.995242797132737,
          9.79819225313338
         ],
         "type": "linear"
        }
       }
      },
      "image/png": "[encoded data removed]",
      "text/html": [
       "<div>                            <div id=\"470b3d9b-92df-4edb-9fa2-74f9bd82108f\" class=\"plotly-graph-div\" style=\"height:525px; width:100%;\"></div>            <script type=\"text/javascript\">                require([\"plotly\"], function(Plotly) {                    window.PLOTLYENV=window.PLOTLYENV || {};                                    if (document.getElementById(\"470b3d9b-92df-4edb-9fa2-74f9bd82108f\")) {                    Plotly.newPlot(                        \"470b3d9b-92df-4edb-9fa2-74f9bd82108f\",                        [{\"name\":\"(2.662271, 6.436248)\",\"x\":[2.662271],\"y\":[6.436248],\"type\":\"scatter\"},{\"name\":\"(11.814909, 8.299881)\",\"x\":[11.814909],\"y\":[8.299881],\"type\":\"scatter\"},{\"name\":\"(9.306211, 5.495822)\",\"x\":[9.306211],\"y\":[5.495822],\"type\":\"scatter\"},{\"name\":\"(3.110509, 5.305435)\",\"x\":[3.110509],\"y\":[5.305435],\"type\":\"scatter\"},{\"name\":\"(4.376073, 5.368352)\",\"x\":[4.376073],\"y\":[5.368352],\"type\":\"scatter\"},{\"name\":\"(7.288801, 5.578745)\",\"x\":[7.288801],\"y\":[5.578745],\"type\":\"scatter\"},{\"name\":\"(8.13391, 6.960544)\",\"x\":[8.13391],\"y\":[6.960544],\"type\":\"scatter\"},{\"name\":\"(4.87216, 6.078595)\",\"x\":[4.87216],\"y\":[6.078595],\"type\":\"scatter\"},{\"name\":\"(5.660226, 6.698943)\",\"x\":[5.660226],\"y\":[6.698943],\"type\":\"scatter\"},{\"name\":\"(5.644691, 4.889521)\",\"x\":[5.644691],\"y\":[4.889521],\"type\":\"scatter\"},{\"name\":\"(5.810638, 6.906727)\",\"x\":[5.810638],\"y\":[6.906727],\"type\":\"scatter\"},{\"name\":\"(4.746343, 6.792254)\",\"x\":[4.746343],\"y\":[6.792254],\"type\":\"scatter\"},{\"name\":\"segment\",\"x\":[6.216466,6.226423],\"y\":[4.535322,4.737842],\"type\":\"scatter\"},{\"name\":\"segment\",\"x\":[6.226423,6.245008],\"y\":[4.737842,4.85934],\"type\":\"scatter\"},{\"name\":\"segment\",\"x\":[6.245008,6.174974],\"y\":[4.85934,4.974765],\"type\":\"scatter\"},{\"name\":\"segment\",\"x\":[6.174974,6.142084],\"y\":[4.974765,5.053255],\"type\":\"scatter\"},{\"name\":\"segment\",\"x\":[6.142084,6.123158],\"y\":[5.053255,5.175507],\"type\":\"scatter\"},{\"name\":\"segment\",\"x\":[6.123158,6.10373],\"y\":[5.175507,5.301015],\"type\":\"scatter\"},{\"name\":\"segment\",\"x\":[6.10373,6.091752],\"y\":[5.301015,5.378411],\"type\":\"scatter\"},{\"name\":\"segment\",\"x\":[6.091752,6.094696],\"y\":[5.378411,5.510375],\"type\":\"scatter\"},{\"name\":\"segment\",\"x\":[6.094696,6.036667],\"y\":[5.510375,5.66764],\"type\":\"scatter\"},{\"name\":\"segment\",\"x\":[6.036667,5.991576],\"y\":[5.66764,5.735586],\"type\":\"scatter\"},{\"name\":\"segment\",\"x\":[5.991576,5.893041],\"y\":[5.735586,5.858559],\"type\":\"scatter\"},{\"name\":\"segment\",\"x\":[5.893041,5.840053],\"y\":[5.858559,5.944022],\"type\":\"scatter\"},{\"name\":\"segment\",\"x\":[5.840053,5.777653],\"y\":[5.944022,6.036696],\"type\":\"scatter\"},{\"name\":\"segment\",\"x\":[5.777653,5.746139],\"y\":[6.036696,6.086179],\"type\":\"scatter\"},{\"name\":\"segment\",\"x\":[5.746139,5.687519],\"y\":[6.086179,6.231828],\"type\":\"scatter\"},{\"name\":\"segment\",\"x\":[5.687519,5.659779],\"y\":[6.231828,6.292732],\"type\":\"scatter\"},{\"name\":\"segment\",\"x\":[5.659779,5.63137],\"y\":[6.292732,6.340664],\"type\":\"scatter\"},{\"name\":\"segment\",\"x\":[5.63137,5.592516],\"y\":[6.340664,6.406215],\"type\":\"scatter\"},{\"name\":\"segment\",\"x\":[5.592516,5.553662],\"y\":[6.406215,6.471765],\"type\":\"scatter\"},{\"name\":\"segment\",\"x\":[5.553662,5.481818],\"y\":[6.471765,6.560254],\"type\":\"scatter\"},{\"name\":\"segment\",\"x\":[5.481818,5.43335],\"y\":[6.560254,6.615202],\"type\":\"scatter\"},{\"name\":\"segment\",\"x\":[5.43335,5.393803],\"y\":[6.615202,6.678135],\"type\":\"scatter\"},{\"name\":\"segment\",\"x\":[5.393803,5.358522],\"y\":[6.678135,6.745531],\"type\":\"scatter\"},{\"name\":\"segment\",\"x\":[5.358522,5.344361],\"y\":[6.745531,6.785489],\"type\":\"scatter\"},{\"name\":\"segment\",\"x\":[5.344361,5.294842],\"y\":[6.785489,6.919923],\"type\":\"scatter\"},{\"name\":\"segment\",\"x\":[5.294842,5.2756],\"y\":[6.919923,7.006803],\"type\":\"scatter\"},{\"name\":\"segment\",\"x\":[5.2756,5.258248],\"y\":[7.006803,7.043624],\"type\":\"scatter\"},{\"name\":\"segment\",\"x\":[5.258248,5.228629],\"y\":[7.043624,7.120522],\"type\":\"scatter\"},{\"name\":\"segment\",\"x\":[5.228629,5.197806],\"y\":[7.120522,7.183892],\"type\":\"scatter\"},{\"name\":\"segment\",\"x\":[5.197806,5.174153],\"y\":[7.183892,7.280427],\"type\":\"scatter\"},{\"name\":\"segment\",\"x\":[5.174153,5.156019],\"y\":[7.280427,7.354437],\"type\":\"scatter\"},{\"name\":\"segment\",\"x\":[5.156019,5.140079],\"y\":[7.354437,7.432066],\"type\":\"scatter\"},{\"name\":\"segment\",\"x\":[5.140079,5.119891],\"y\":[7.432066,7.485739],\"type\":\"scatter\"},{\"name\":\"segment\",\"x\":[5.119891,5.098308],\"y\":[7.485739,7.568629],\"type\":\"scatter\"},{\"name\":\"segment\",\"x\":[5.098308,5.073782],\"y\":[7.568629,7.674698],\"type\":\"scatter\"},{\"name\":\"segment\",\"x\":[5.073782,5.041459],\"y\":[7.674698,7.821471],\"type\":\"scatter\"},{\"name\":\"segment\",\"x\":[5.041459,5.017788],\"y\":[7.821471,7.928956],\"type\":\"scatter\"},{\"name\":\"segment\",\"x\":[5.017788,4.992062],\"y\":[7.928956,8.035933],\"type\":\"scatter\"},{\"name\":\"segment\",\"x\":[4.992062,4.949973],\"y\":[8.035933,8.138556],\"type\":\"scatter\"},{\"name\":\"segment\",\"x\":[4.949973,4.925734],\"y\":[8.138556,8.208805],\"type\":\"scatter\"},{\"name\":\"segment\",\"x\":[4.925734,4.907672],\"y\":[8.208805,8.319531],\"type\":\"scatter\"},{\"name\":\"segment\",\"x\":[4.907672,4.860704],\"y\":[8.319531,8.456305],\"type\":\"scatter\"},{\"name\":\"segment\",\"x\":[4.860704,4.842548],\"y\":[8.456305,8.490737],\"type\":\"scatter\"},{\"name\":\"segment\",\"x\":[4.842548,4.833205],\"y\":[8.490737,8.521294],\"type\":\"scatter\"},{\"name\":\"segment\",\"x\":[4.833205,4.786455],\"y\":[8.521294,8.759745],\"type\":\"scatter\"},{\"name\":\"segment\",\"x\":[4.786455,4.773995],\"y\":[8.759745,8.792185],\"type\":\"scatter\"},{\"name\":\"segment\",\"x\":[4.773995,4.752749],\"y\":[8.792185,8.847504],\"type\":\"scatter\"},{\"name\":\"segment\",\"x\":[4.752749,4.731504],\"y\":[8.847504,8.902822],\"type\":\"scatter\"},{\"name\":\"segment\",\"x\":[4.731504,4.712126],\"y\":[8.902822,8.936584],\"type\":\"scatter\"},{\"name\":\"segment\",\"x\":[4.712126,4.684841],\"y\":[8.936584,8.996154],\"type\":\"scatter\"},{\"name\":\"segment\",\"x\":[4.684841,4.665143],\"y\":[8.996154,9.024782],\"type\":\"scatter\"},{\"name\":\"segment\",\"x\":[4.665143,4.632325],\"y\":[9.024782,9.077767],\"type\":\"scatter\"},{\"name\":\"segment\",\"x\":[4.632325,4.601123],\"y\":[9.077767,9.128143],\"type\":\"scatter\"},{\"name\":\"segment\",\"x\":[4.601123,4.567984],\"y\":[9.128143,9.170279],\"type\":\"scatter\"},{\"name\":\"segment\",\"x\":[4.567984,4.533863],\"y\":[9.170279,9.237874],\"type\":\"scatter\"},{\"name\":\"segment\",\"x\":[4.533863,4.478833],\"y\":[9.237874,9.303662],\"type\":\"scatter\"},{\"name\":\"segment\",\"x\":[4.478833,4.441566],\"y\":[9.303662,9.357551],\"type\":\"scatter\"},{\"name\":\"segment\",\"x\":[4.441566,4.421099],\"y\":[9.357551,9.38715],\"type\":\"scatter\"},{\"name\":\"4.235696187041828\",\"x\":[2.662271,2.734805591836735,2.8073401836734693,2.879874775510204,2.952409367346939,3.0249439591836733,3.097478551020408,3.170013142857143,3.2425477346938774,3.315082326530612,3.387616918367347,3.4601515102040814,3.5326861020408162,3.605220693877551,3.6777552857142854,3.7502898775510207,3.822824469387755,3.8953590612244895,3.9678936530612248,4.040428244897959,4.1129628367346935,4.185497428571429,4.258032020408163,4.330566612244898,4.403101204081633,4.475635795918367,4.548170387755102,4.620704979591837,4.693239571428571,4.765774163265306,4.838308755102041,4.910843346938775,4.98337793877551,5.055912530612245,5.128447122448979,5.200981714285714,5.273516306122449,5.346050897959183,5.418585489795918,5.491120081632653,5.563654673469388,5.636189265306122,5.708723857142857,5.781258448979592,5.853793040816326,5.926327632653061,5.9988622244897964,6.07139681632653,6.143931408163265,6.216466],\"y\":[6.436248,6.3469454285126865,6.2597473638305425,6.174653805953566,6.091664754881759,6.01078021061512,5.932000173153649,5.855324642497347,5.780753618646214,5.708287101600251,5.637925091359455,5.569667587923828,5.503514591293369,5.439466101468081,5.37752211844796,5.317682642233008,5.259947672823223,5.20431721021861,5.150791254419163,5.099369805424887,5.050052863235779,5.002840427851837,4.957732499273067,4.914729077499463,4.87383016253103,4.835035754367763,4.798345853009668,4.763760458456739,4.73127957070898,4.70090318976639,4.672631315628968,4.646463948296716,4.62240108776963,4.600442734047714,4.580588887130967,4.562839547019388,4.547194713712978,4.533654387211738,4.522218567515666,4.512887254624761,4.505660448539027,4.5005381492584595,4.497520356783062,4.496607071112833,4.497798292247772,4.501094020187882,4.506494254933158,4.513998996483604,4.523608244839217,4.535322000000001],\"type\":\"scatter\"},{\"name\":\"7.434959374984519\",\"x\":[6.216466,6.33071993877551,6.44497387755102,6.55922781632653,6.67348175510204,6.787735693877551,6.901989632653061,7.016243571428571,7.130497510204082,7.244751448979591,7.359005387755102,7.473259326530612,7.587513265306122,7.701767204081632,7.816021142857142,7.930275081632653,8.044529020408163,8.158782959183673,8.273036897959184,8.387290836734694,8.501544775510204,8.615798714285713,8.730052653061225,8.844306591836734,8.958560530612244,9.072814469387755,9.187068408163265,9.301322346938775,9.415576285714286,9.529830224489796,9.644084163265306,9.758338102040817,9.872592040816325,9.986845979591838,10.101099918367346,10.215353857142857,10.329607795918367,10.443861734693877,10.558115673469388,10.672369612244898,10.786623551020408,10.900877489795917,11.01513142857143,11.129385367346938,11.24363930612245,11.357893244897959,11.472147183673469,11.58640112244898,11.70065506122449,11.814909],\"y\":[4.535322000000001,4.486831694446984,4.443562973904257,4.405515838371814,4.372690287849661,4.345086322337798,4.322703941836217,4.305543146344924,4.293603935863917,4.286886310393202,4.285390269932769,4.289115814482624,4.298062944042769,4.3122316586132,4.331621958193917,4.356233842784926,4.386067312386219,4.421122366997798,4.461399006619665,4.506897231251816,4.557617040894259,4.613558435546988,4.674721415210005,4.741105979883306,4.812712129566897,4.889539864260776,4.971589183964941,5.058860088679392,5.151352578404129,5.249066653139156,5.352002312884469,5.460159557640068,5.573538387405957,5.692138802182139,5.815960801968597,5.945004386765344,6.079269556572385,6.218756311389708,6.3634646512173205,6.513394576055216,6.668546085903401,6.828919180761876,6.9945138606306365,7.165330125509687,7.341367975399017,7.5226274102986395,7.709108430208548,7.900811035128747,8.097735225059228,8.299881],\"type\":\"scatter\"},{\"name\":\"3.4018402596334143\",\"x\":[6.216466,6.279522020408163,6.342578040816326,6.4056340612244895,6.468690081632652,6.531746102040816,6.5948021224489795,6.657858142857142,6.720914163265306,6.783970183673469,6.847026204081632,6.910082224489796,6.973138244897958,7.036194265306122,7.099250285714286,7.162306306122448,7.225362326530612,7.288418346938775,7.351474367346938,7.414530387755102,7.477586408163265,7.540642428571428,7.603698448979591,7.6667544693877545,7.729810489795918,7.792866510204081,7.855922530612244,7.918978551020407,7.982034571428571,8.045090591836734,8.108146612244898,8.17120263265306,8.234258653061223,8.297314673469387,8.36037069387755,8.423426714285714,8.486482734693876,8.54953875510204,8.612594775510203,8.675650795918367,8.73870681632653,8.801762836734692,8.864818857142856,8.92787487755102,8.990930897959183,9.053986918367347,9.117042938775509,9.180098959183672,9.243154979591836,9.306211],\"y\":[4.535321999999997,4.516753848403063,4.499776121490013,4.48438881926085,4.470591941715574,4.458385488854182,4.4477694606766764,4.4387438571830575,4.431308678373327,4.425463924247479,4.421209594805518,4.418545690047441,4.417472209973253,4.417989154582948,4.420096523876529,4.4237943178539965,4.429082536515349,4.435961179860591,4.444430247889715,4.454489740602725,4.466139657999623,4.479380000080406,4.494210766845075,4.510631958293629,4.528643574426074,4.548245615242401,4.569438080742611,4.592220970926709,4.616594285794694,4.642558025346563,4.670112189582319,4.69925677850196,4.729991792105489,4.7623172303929024,4.796233093364199,4.831739381019386,4.868836093358457,4.907523230381415,4.947800792088257,4.98966877847899,5.033127189553603,5.078176025312102,5.124815285754488,5.173044970880763,5.222865080690919,5.2742756151849655,5.3272765743628945,5.38186795822471,5.438049766770412,5.495822],\"type\":\"scatter\"},{\"name\":\"3.37595256015761\",\"x\":[3.110509,3.17389587755102,3.237282755102041,3.300669632653061,3.3640565102040814,3.427443387755102,3.4908302653061223,3.554217142857143,3.617604020408163,3.680990897959184,3.744377775510204,3.8077646530612244,3.871151530612245,3.9345384081632653,3.9979252857142855,4.061312163265306,4.124699040816326,4.188085918367347,4.251472795918367,4.314859673469387,4.378246551020408,4.4416334285714285,4.505020306122448,4.568407183673469,4.63179406122449,4.69518093877551,4.758567816326531,4.821954693877551,4.8853415714285715,4.948728448979592,5.012115326530612,5.075502204081633,5.138889081632653,5.202275959183673,5.265662836734694,5.3290497142857145,5.392436591836734,5.455823469387755,5.519210346938776,5.5825972244897955,5.645984102040816,5.709370979591837,5.772757857142857,5.836144734693877,5.899531612244898,5.962918489795918,6.0263053673469384,6.089692244897959,6.153079122448979,6.216466],\"y\":[5.305434999999999,5.25114660420485,5.19846536690797,5.147391288109356,5.09792436780901,5.050064606006931,5.003812002703119,4.959166557897574,4.916128271590297,4.874697143781287,4.834873174470543,4.796656363658068,4.760046711343859,4.725044217527918,4.691648882210243,4.6598607053908365,4.629679687069698,4.601105827246824,4.574139125922219,4.548779583095882,4.525027198767811,4.502881972938008,4.482343905606472,4.463412996773202,4.446089246438199,4.430372654601464,4.416263221262997,4.403760946422797,4.392865830080863,4.383577872237198,4.3758970728918,4.369823432044668,4.365356949695804,4.362497625845207,4.361245460492877,4.361600453638815,4.36356260528302,4.367131915425491,4.372308384066231,4.379092011205238,4.38748279684251,4.397480740978051,4.4090858436118605,4.422298104743934,4.437117524374277,4.453544102502888,4.471577839129764,4.4912187342549075,4.512466787878319,4.535321999999997],\"type\":\"scatter\"},{\"name\":\"2.0514716619768647\",\"x\":[4.376073,4.413632040816326,4.451191081632653,4.488750122448979,4.526309163265306,4.563868204081633,4.601427244897959,4.638986285714285,4.676545326530612,4.7141043673469385,4.751663408163265,4.789222448979592,4.826781489795918,4.864340530612244,4.901899571428571,4.939458612244898,4.977017653061225,5.014576693877551,5.052135734693877,5.089694775510203,5.12725381632653,5.164812857142857,5.202371897959184,5.23993093877551,5.277489979591836,5.315049020408163,5.3526080612244895,5.390167102040816,5.427726142857143,5.465285183673469,5.502844224489795,5.540403265306122,5.577962306122449,5.615521346938775,5.653080387755102,5.690639428571428,5.728198469387754,5.7657575102040814,5.803316551020408,5.840875591836735,5.878434632653061,5.915993673469387,5.953552714285713,5.9911117551020405,6.028670795918367,6.066229836734694,6.10378887755102,6.141347918367346,6.1789069591836725,6.216466],\"y\":[5.368352,5.337808844903495,5.3078299624258065,5.278415352566935,5.24956501532688,5.221278950705641,5.1935571587032205,5.166399639319617,5.13980639255483,5.11377741840886,5.088312716881707,5.063412287973372,5.039076131683853,5.015304248013152,4.992096636961265,4.969453298528197,4.947374232713947,4.925859439518513,4.904908918941897,4.884522670984097,4.864700695645115,4.845442992924949,4.826749562823598,4.808620405341067,4.791055520477352,4.774054908232454,4.757618568606373,4.74174650159911,4.726438707210663,4.711695185441032,4.69751593629022,4.683900959758223,4.670850255845044,4.6583638245506815,4.6464416658751375,4.635083779818411,4.624290166380499,4.614060825561404,4.604395757361129,4.595294961779667,4.586758438817023,4.578786188473197,4.571378210748188,4.564534505641998,4.558255073154623,4.552539913286065,4.547389026036324,4.5428024114054,4.538780069393292,4.535322000000001],\"type\":\"scatter\"},{\"name\":\"1.4673424711242775\",\"x\":[6.245008,6.266309897959184,6.287611795918368,6.308913693877551,6.330215591836735,6.351517489795919,6.3728193877551025,6.394121285714286,6.41542318367347,6.4367250816326536,6.458026979591837,6.479328877551021,6.500630775510205,6.521932673469388,6.543234571428572,6.564536469387756,6.585838367346939,6.607140265306123,6.628442163265307,6.6497440612244905,6.671045959183674,6.692347857142858,6.7136497551020415,6.734951653061225,6.756253551020409,6.777555448979593,6.798857346938776,6.82015924489796,6.841461142857144,6.8627630408163265,6.88406493877551,6.905366836734694,6.926668734693878,6.947970632653061,6.969272530612245,6.990574428571429,7.011876326530612,7.033178224489796,7.05448012244898,7.075782020408163,7.097083918367347,7.118385816326531,7.1396877142857145,7.160989612244898,7.182291510204082,7.2035934081632655,7.224895306122449,7.246197204081633,7.267499102040817,7.288801],\"y\":[4.859340000000001,4.869665534469909,4.880172577282484,4.890861128437723,4.901731187935628,4.912782755776197,4.924015831959432,4.9354304164853335,4.947026509353899,4.958804110565129,4.970763220119027,4.982903838015588,4.995225964254816,5.007729598836709,5.020414741761266,5.033281393028492,5.04632955263838,5.059559220590934,5.072970396886156,5.086563081524039,5.100337274504589,5.114292975827807,5.128430185493688,5.142748903502232,5.1572491298534455,5.171930864547322,5.186794107583866,5.201838858963075,5.217065118684948,5.232472886749488,5.248062163156693,5.263832947906561,5.279785240999097,5.2959190424342975,5.312234352212164,5.328731170332695,5.345409496795892,5.362269331601754,5.379310674750283,5.396533526241475,5.413937886075335,5.431523754251858,5.449291130771044,5.4672400156329,5.48537040883742,5.503682310384605,5.522175720274456,5.5408506385069725,5.5597070650821525,5.578745000000001],\"type\":\"scatter\"},{\"name\":\"3.034478103834143\",\"x\":[6.245008,6.283557020408163,6.322106040816327,6.36065506122449,6.399204081632654,6.4377531020408165,6.47630212244898,6.514851142857143,6.553400163265306,6.59194918367347,6.630498204081633,6.6690472244897965,6.707596244897959,6.746145265306123,6.784694285714286,6.82324330612245,6.861792326530613,6.9003413469387755,6.938890367346939,6.977439387755102,7.015988408163266,7.054537428571429,7.093086448979593,7.1316354693877555,7.170184489795918,7.208733510204082,7.247282530612245,7.285831551020408,7.324380571428572,7.3629295918367355,7.401478612244898,7.440027632653061,7.478576653061225,7.517125673469388,7.555674693877551,7.5942237142857145,7.632772734693878,7.671321755102041,7.709870775510204,7.748419795918368,7.786968816326531,7.825517836734694,7.864066857142857,7.902615877551021,7.941164897959184,7.979713918367347,8.01826293877551,8.056811959183674,8.095360979591836,8.13391],\"y\":[4.8593399999999995,4.887955855331197,4.917166121452164,4.946970798362903,4.977369886063416,5.008363384553697,5.0399512938337505,5.072133613903578,5.104910344763173,5.1382814864125415,5.172247038851683,5.206807002080595,5.24196137609928,5.277710160907734,5.31405335650596,5.35099096289396,5.388522980071729,5.426649408039269,5.465370246796583,5.504685496343669,5.544595156680526,5.585099227807152,5.626197709723552,5.667890602429724,5.710177905925667,5.7530596202113795,5.7965357452868655,5.840606281152123,5.885271227807152,5.930530585251953,5.976384353486525,6.0228325325108685,6.069875122324985,6.11751212292887,6.16574353432253,6.21456935650596,6.263989589479163,6.3140042332421356,6.36461328779488,6.415816753137397,6.467614629269686,6.520006916191743,6.572993613903575,6.626574722405179,6.680750241696554,6.735520171777699,6.790884512648619,6.8468432643093085,6.903396426759768,6.960543999999999],\"type\":\"scatter\"},{\"name\":\"1.8868821469047503\",\"x\":[4.87216,4.8906394489795915,4.909118897959184,4.927598346938775,4.9460777959183675,4.964557244897959,4.983036693877551,5.001516142857143,5.019995591836735,5.038475040816326,5.056954489795919,5.07543393877551,5.093913387755102,5.112392836734694,5.130872285714286,5.1493517346938775,5.167831183673469,5.186310632653061,5.204790081632653,5.223269530612245,5.241748979591836,5.260228428571429,5.27870787755102,5.297187326530612,5.315666775510204,5.334146224489796,5.352625673469388,5.37110512244898,5.389584571428571,5.408064020408164,5.426543469387755,5.445022918367346,5.463502367346939,5.481981816326531,5.5004612653061224,5.518940714285714,5.537420163265306,5.555899612244898,5.57437906122449,5.592858510204081,5.611337959183674,5.629817408163265,5.648296857142857,5.666776306122449,5.685255755102041,5.7037352040816325,5.722214653061224,5.740694102040816,5.7591735510204085,5.777653],\"y\":[6.078594999999999,6.074461614035287,6.070464824084413,6.066604630147374,6.062881032224169,6.059294030314802,6.05584362441927,6.052529814537574,6.049352600669712,6.046311982815689,6.0434079609755,6.040640535149145,6.038009705336628,6.035515471537947,6.0331578337531,6.030936791982089,6.028852346224915,6.026904496481576,6.025093242752074,6.023418585036405,6.021880523334573,6.020479057646578,6.019214187972417,6.018085914312092,6.017094236665604,6.0162391550329515,6.015520669414133,6.014938779809151,6.014493486218006,6.014184788640695,6.014012687077221,6.013977181527583,6.014078271991781,6.014315958469812,6.014690240961681,6.015201119467386,6.015848593986925,6.016632664520301,6.0175533310675124,6.01861059362856,6.019804452203442,6.021134906792161,6.022601957394716,6.024205604011106,6.025945846641331,6.027822685285393,6.029836119943291,6.0319861506150225,6.034272777300593,6.036695999999998],\"type\":\"scatter\"},{\"name\":\"1.5205979265596157\",\"x\":[5.56104426,5.563068377142857,5.5650924942857145,5.567116611428571,5.569140728571429,5.571164845714286,5.5731889628571425,5.57521308,5.577237197142857,5.579261314285715,5.581285431428571,5.583309548571428,5.585333665714286,5.587357782857143,5.5893819,5.591406017142857,5.593430134285715,5.5954542514285714,5.597478368571428,5.599502485714286,5.601526602857143,5.60355072,5.605574837142857,5.607598954285714,5.6096230714285715,5.611647188571428,5.613671305714286,5.615695422857143,5.6177195399999995,5.619743657142857,5.621767774285714,5.623791891428572,5.625816008571428,5.627840125714285,5.629864242857143,5.63188836,5.633912477142857,5.635936594285714,5.637960711428572,5.6399848285714285,5.642008945714285,5.644033062857143,5.64605718,5.648081297142857,5.650105414285714,5.652129531428571,5.6541536485714285,5.656177765714285,5.658201882857143,5.660226],\"y\":[6.459310499999999,6.464161627501675,6.469014393823436,6.473868798965278,6.478724842927205,6.483582525709214,6.488441847311306,6.493302807733484,6.49816540697574,6.503029645038085,6.507895521920509,6.512763037623017,6.51763219214561,6.522502985488285,6.527375417651043,6.532249488633885,6.53712519843681,6.542002547059817,6.546881534502907,6.551762160766083,6.556644425849339,6.561528329752681,6.566413872476104,6.571301054019611,6.576189874383202,6.581080333566875,6.5859724315706325,6.590866168394472,6.595761544038393,6.600658558502401,6.605557211786489,6.610457503890664,6.615359434814919,6.620263004559257,6.62516821312368,6.630075060508186,6.634983546712775,6.639893671737447,6.644805435582202,6.649718838247041,6.654633879731961,6.659550560036966,6.664468879162054,6.669388837107226,6.6743104338724795,6.679233669457816,6.684158543863238,6.689085057088741,6.694013209134329,6.698942999999999],\"type\":\"scatter\"},{\"name\":\"0.6733606747624491\",\"x\":[5.644691,5.65635987755102,5.668028755102041,5.6796976326530615,5.691366510204081,5.703035387755102,5.714704265306122,5.726373142857143,5.738042020408163,5.749710897959184,5.761379775510204,5.773048653061224,5.7847175306122445,5.796386408163265,5.8080552857142855,5.819724163265306,5.831393040816327,5.843061918367347,5.854730795918367,5.866399673469387,5.878068551020408,5.889737428571428,5.901406306122449,5.913075183673469,5.92474406122449,5.93641293877551,5.94808181632653,5.959750693877551,5.971419571428571,5.983088448979592,5.994757326530612,6.006426204081633,6.018095081632652,6.029763959183673,6.0414328367346934,6.053101714285714,6.0647705918367345,6.076439469387755,6.088108346938776,6.099777224489795,6.111446102040816,6.123114979591836,6.134783857142857,6.146452734693877,6.158121612244898,6.169790489795918,6.181459367346939,6.1931282448979585,6.204797122448979,6.216466],\"y\":[4.8895209999999985,4.880985287027901,4.872504039137127,4.864077256327674,4.855704938599542,4.847387085952725,4.839123698387233,4.830914775903059,4.822760318500208,4.814660326178675,4.806614798938462,4.798623736779568,4.790687139701998,4.782805007705747,4.774977340790816,4.767204138957201,4.759485402204913,4.751821130533942,4.744211323944294,4.736655982435959,4.729155106008951,4.721708694663263,4.714316748398893,4.706979267215846,4.699696251114119,4.692467700093708,4.685293614154622,4.678173993296854,4.671108837520407,4.664098146825278,4.657141921211471,4.650240160678987,4.6433928652278205,4.636600034857974,4.629861669569447,4.623177769362243,4.616548334236358,4.609973364191793,4.60345285922855,4.596986819346624,4.59057524454602,4.584218134826738,4.577915490188776,4.5716673106321295,4.5654735961568065,4.559334346762805,4.553249562450123,4.547219243218759,4.541243389068718,4.535321999999997],\"type\":\"scatter\"},{\"name\":\"1.7701009472777745\",\"x\":[5.59912118,5.6034378497959185,5.607754519591837,5.6120711893877555,5.616387859183673,5.620704528979592,5.62502119877551,5.629337868571429,5.633654538367347,5.637971208163266,5.642287877959184,5.646604547755102,5.65092121755102,5.655237887346939,5.659554557142857,5.663871226938776,5.668187896734694,5.672504566530613,5.67682123632653,5.681137906122449,5.685454575918367,5.689771245714286,5.694087915510204,5.698404585306123,5.702721255102041,5.707037924897959,5.711354594693877,5.715671264489796,5.719987934285714,5.724304604081633,5.728621273877551,5.73293794367347,5.737254613469387,5.741571283265306,5.745887953061224,5.750204622857143,5.754521292653061,5.75883796244898,5.763154632244898,5.767471302040816,5.771787971836734,5.776104641632653,5.780421311428571,5.78473798122449,5.789054651020408,5.793371320816327,5.7976879906122445,5.802004660408163,5.8063213302040815,5.810638],\"y\":[6.39507133,6.405334399522961,6.415604922501172,6.425882898934636,6.436168328823346,6.44646121216731,6.456761548966524,6.46706933922099,6.477384582930707,6.487707280095673,6.4980374307158915,6.508375034791358,6.518720092322078,6.529072603308048,6.539432567749269,6.54979998564574,6.560174856997465,6.570557181804437,6.58094696006666,6.591344191784135,6.601748876956861,6.612161015584838,6.622580607668065,6.633007653206543,6.643442152200273,6.65388410464925,6.6643335105534804,6.674790369912962,6.6852546827276935,6.695726448997679,6.706205668722912,6.716692341903396,6.727186468539129,6.737688048630116,6.748197082176353,6.75871356917784,6.7692375096345785,6.779768903546569,6.79030775091381,6.800854051736298,6.81140780601404,6.821969013747032,6.832537674935277,6.843113789578771,6.8536973576775155,6.86428837923151,6.8748868542407555,6.885492782705253,6.896106164625001,6.906727],\"type\":\"scatter\"},{\"name\":\"2.0859599100424524\",\"x\":[4.746343,4.759426865714286,4.7725107314285715,4.7855945971428575,4.7986784628571435,4.811762328571429,4.824846194285715,4.837930060000001,4.851013925714286,4.864097791428572,4.877181657142858,4.890265522857143,4.903349388571429,4.916433254285715,4.92951712,4.942600985714286,4.955684851428572,4.968768717142857,4.981852582857143,4.994936448571429,5.008020314285714,5.02110418,5.034188045714286,5.047271911428572,5.060355777142857,5.073439642857143,5.086523508571428,5.099607374285714,5.11269124,5.125775105714286,5.138858971428571,5.151942837142857,5.165026702857143,5.178110568571428,5.191194434285714,5.2042783,5.2173621657142855,5.2304460314285715,5.243529897142857,5.2566137628571425,5.2696976285714285,5.2827814942857145,5.29586536,5.308949225714286,5.322033091428572,5.335116957142857,5.348200822857143,5.361284688571429,5.374368554285714,5.38745242],\"y\":[6.792254,6.788529217555701,6.784872910128213,6.781285077717538,6.777765720323673,6.774314837946622,6.770932430586381,6.767618498242952,6.764373040916336,6.761196058606531,6.758087551313538,6.755047519037357,6.7520759617779875,6.749172879535429,6.746338272309684,6.743572140100749,6.740874482908627,6.7382453007333165,6.735684593574817,6.73319236143313,6.730768604308254,6.728413322200192,6.726126515108939,6.7239081830345,6.721758325976872,6.719676943936055,6.717664036912052,6.7157196049048595,6.713843647914479,6.712036165940909,6.710297158984153,6.7086266270442065,6.707024570121073,6.70549098821475,6.70402588132524,6.702629249452542,6.701301092596655,6.70004141075758,6.698850203935317,6.697727472129865,6.696673215341225,6.695687433569398,6.694770126814381,6.693921295076178,6.6931409383547855,6.692429056650204,6.691785649962435,6.691210718291479,6.690704261637333,6.6902662799999995],\"type\":\"scatter\"}],                        {\"template\":{\"data\":{\"histogram2dcontour\":[{\"type\":\"histogram2dcontour\",\"colorbar\":{\"outlinewidth\":0,\"ticks\":\"\"},\"colorscale\":[[0.0,\"#0d0887\"],[0.1111111111111111,\"#46039f\"],[0.2222222222222222,\"#7201a8\"],[0.3333333333333333,\"#9c179e\"],[0.4444444444444444,\"#bd3786\"],[0.5555555555555556,\"#d8576b\"],[0.6666666666666666,\"#ed7953\"],[0.7777777777777778,\"#fb9f3a\"],[0.8888888888888888,\"#fdca26\"],[1.0,\"#f0f921\"]]}],\"choropleth\":[{\"type\":\"choropleth\",\"colorbar\":{\"outlinewidth\":0,\"ticks\":\"\"}}],\"histogram2d\":[{\"type\":\"histogram2d\",\"colorbar\":{\"outlinewidth\":0,\"ticks\":\"\"},\"colorscale\":[[0.0,\"#0d0887\"],[0.1111111111111111,\"#46039f\"],[0.2222222222222222,\"#7201a8\"],[0.3333333333333333,\"#9c179e\"],[0.4444444444444444,\"#bd3786\"],[0.5555555555555556,\"#d8576b\"],[0.6666666666666666,\"#ed7953\"],[0.7777777777777778,\"#fb9f3a\"],[0.8888888888888888,\"#fdca26\"],[1.0,\"#f0f921\"]]}],\"heatmap\":[{\"type\":\"heatmap\",\"colorbar\":{\"outlinewidth\":0,\"ticks\":\"\"},\"colorscale\":[[0.0,\"#0d0887\"],[0.1111111111111111,\"#46039f\"],[0.2222222222222222,\"#7201a8\"],[0.3333333333333333,\"#9c179e\"],[0.4444444444444444,\"#bd3786\"],[0.5555555555555556,\"#d8576b\"],[0.6666666666666666,\"#ed7953\"],[0.7777777777777778,\"#fb9f3a\"],[0.8888888888888888,\"#fdca26\"],[1.0,\"#f0f921\"]]}],\"heatmapgl\":[{\"type\":\"heatmapgl\",\"colorbar\":{\"outlinewidth\":0,\"ticks\":\"\"},\"colorscale\":[[0.0,\"#0d0887\"],[0.1111111111111111,\"#46039f\"],[0.2222222222222222,\"#7201a8\"],[0.3333333333333333,\"#9c179e\"],[0.4444444444444444,\"#bd3786\"],[0.5555555555555556,\"#d8576b\"],[0.6666666666666666,\"#ed7953\"],[0.7777777777777778,\"#fb9f3a\"],[0.8888888888888888,\"#fdca26\"],[1.0,\"#f0f921\"]]}],\"contourcarpet\":[{\"type\":\"contourcarpet\",\"colorbar\":{\"outlinewidth\":0,\"ticks\":\"\"}}],\"contour\":[{\"type\":\"contour\",\"colorbar\":{\"outlinewidth\":0,\"ticks\":\"\"},\"colorscale\":[[0.0,\"#0d0887\"],[0.1111111111111111,\"#46039f\"],[0.2222222222222222,\"#7201a8\"],[0.3333333333333333,\"#9c179e\"],[0.4444444444444444,\"#bd3786\"],[0.5555555555555556,\"#d8576b\"],[0.6666666666666666,\"#ed7953\"],[0.7777777777777778,\"#fb9f3a\"],[0.8888888888888888,\"#fdca26\"],[1.0,\"#f0f921\"]]}],\"surface\":[{\"type\":\"surface\",\"colorbar\":{\"outlinewidth\":0,\"ticks\":\"\"},\"colorscale\":[[0.0,\"#0d0887\"],[0.1111111111111111,\"#46039f\"],[0.2222222222222222,\"#7201a8\"],[0.3333333333333333,\"#9c179e\"],[0.4444444444444444,\"#bd3786\"],[0.5555555555555556,\"#d8576b\"],[0.6666666666666666,\"#ed7953\"],[0.7777777777777778,\"#fb9f3a\"],[0.8888888888888888,\"#fdca26\"],[1.0,\"#f0f921\"]]}],\"mesh3d\":[{\"type\":\"mesh3d\",\"colorbar\":{\"outlinewidth\":0,\"ticks\":\"\"}}],\"scatter\":[{\"fillpattern\":{\"fillmode\":\"overlay\",\"size\":10,\"solidity\":0.2},\"type\":\"scatter\"}],\"parcoords\":[{\"type\":\"parcoords\",\"line\":{\"colorbar\":{\"outlinewidth\":0,\"ticks\":\"\"}}}],\"scatterpolargl\":[{\"type\":\"scatterpolargl\",\"marker\":{\"colorbar\":{\"outlinewidth\":0,\"ticks\":\"\"}}}],\"bar\":[{\"error_x\":{\"color\":\"#2a3f5f\"},\"error_y\":{\"color\":\"#2a3f5f\"},\"marker\":{\"line\":{\"color\":\"#E5ECF6\",\"width\":0.5},\"pattern\":{\"fillmode\":\"overlay\",\"size\":10,\"solidity\":0.2}},\"type\":\"bar\"}],\"scattergeo\":[{\"type\":\"scattergeo\",\"marker\":{\"colorbar\":{\"outlinewidth\":0,\"ticks\":\"\"}}}],\"scatterpolar\":[{\"type\":\"scatterpolar\",\"marker\":{\"colorbar\":{\"outlinewidth\":0,\"ticks\":\"\"}}}],\"histogram\":[{\"marker\":{\"pattern\":{\"fillmode\":\"overlay\",\"size\":10,\"solidity\":0.2}},\"type\":\"histogram\"}],\"scattergl\":[{\"type\":\"scattergl\",\"marker\":{\"colorbar\":{\"outlinewidth\":0,\"ticks\":\"\"}}}],\"scatter3d\":[{\"type\":\"scatter3d\",\"line\":{\"colorbar\":{\"outlinewidth\":0,\"ticks\":\"\"}},\"marker\":{\"colorbar\":{\"outlinewidth\":0,\"ticks\":\"\"}}}],\"scattermapbox\":[{\"type\":\"scattermapbox\",\"marker\":{\"colorbar\":{\"outlinewidth\":0,\"ticks\":\"\"}}}],\"scatterternary\":[{\"type\":\"scatterternary\",\"marker\":{\"colorbar\":{\"outlinewidth\":0,\"ticks\":\"\"}}}],\"scattercarpet\":[{\"type\":\"scattercarpet\",\"marker\":{\"colorbar\":{\"outlinewidth\":0,\"ticks\":\"\"}}}],\"carpet\":[{\"aaxis\":{\"endlinecolor\":\"#2a3f5f\",\"gridcolor\":\"white\",\"linecolor\":\"white\",\"minorgridcolor\":\"white\",\"startlinecolor\":\"#2a3f5f\"},\"baxis\":{\"endlinecolor\":\"#2a3f5f\",\"gridcolor\":\"white\",\"linecolor\":\"white\",\"minorgridcolor\":\"white\",\"startlinecolor\":\"#2a3f5f\"},\"type\":\"carpet\"}],\"table\":[{\"cells\":{\"fill\":{\"color\":\"#EBF0F8\"},\"line\":{\"color\":\"white\"}},\"header\":{\"fill\":{\"color\":\"#C8D4E3\"},\"line\":{\"color\":\"white\"}},\"type\":\"table\"}],\"barpolar\":[{\"marker\":{\"line\":{\"color\":\"#E5ECF6\",\"width\":0.5},\"pattern\":{\"fillmode\":\"overlay\",\"size\":10,\"solidity\":0.2}},\"type\":\"barpolar\"}],\"pie\":[{\"automargin\":true,\"type\":\"pie\"}]},\"layout\":{\"autotypenumbers\":\"strict\",\"colorway\":[\"#636efa\",\"#EF553B\",\"#00cc96\",\"#ab63fa\",\"#FFA15A\",\"#19d3f3\",\"#FF6692\",\"#B6E880\",\"#FF97FF\",\"#FECB52\"],\"font\":{\"color\":\"#2a3f5f\"},\"hovermode\":\"closest\",\"hoverlabel\":{\"align\":\"left\"},\"paper_bgcolor\":\"white\",\"plot_bgcolor\":\"#E5ECF6\",\"polar\":{\"bgcolor\":\"#E5ECF6\",\"angularaxis\":{\"gridcolor\":\"white\",\"linecolor\":\"white\",\"ticks\":\"\"},\"radialaxis\":{\"gridcolor\":\"white\",\"linecolor\":\"white\",\"ticks\":\"\"}},\"ternary\":{\"bgcolor\":\"#E5ECF6\",\"aaxis\":{\"gridcolor\":\"white\",\"linecolor\":\"white\",\"ticks\":\"\"},\"baxis\":{\"gridcolor\":\"white\",\"linecolor\":\"white\",\"ticks\":\"\"},\"caxis\":{\"gridcolor\":\"white\",\"linecolor\":\"white\",\"ticks\":\"\"}},\"coloraxis\":{\"colorbar\":{\"outlinewidth\":0,\"ticks\":\"\"}},\"colorscale\":{\"sequential\":[[0.0,\"#0d0887\"],[0.1111111111111111,\"#46039f\"],[0.2222222222222222,\"#7201a8\"],[0.3333333333333333,\"#9c179e\"],[0.4444444444444444,\"#bd3786\"],[0.5555555555555556,\"#d8576b\"],[0.6666666666666666,\"#ed7953\"],[0.7777777777777778,\"#fb9f3a\"],[0.8888888888888888,\"#fdca26\"],[1.0,\"#f0f921\"]],\"sequentialminus\":[[0.0,\"#0d0887\"],[0.1111111111111111,\"#46039f\"],[0.2222222222222222,\"#7201a8\"],[0.3333333333333333,\"#9c179e\"],[0.4444444444444444,\"#bd3786\"],[0.5555555555555556,\"#d8576b\"],[0.6666666666666666,\"#ed7953\"],[0.7777777777777778,\"#fb9f3a\"],[0.8888888888888888,\"#fdca26\"],[1.0,\"#f0f921\"]],\"diverging\":[[0,\"#8e0152\"],[0.1,\"#c51b7d\"],[0.2,\"#de77ae\"],[0.3,\"#f1b6da\"],[0.4,\"#fde0ef\"],[0.5,\"#f7f7f7\"],[0.6,\"#e6f5d0\"],[0.7,\"#b8e186\"],[0.8,\"#7fbc41\"],[0.9,\"#4d9221\"],[1,\"#276419\"]]},\"xaxis\":{\"gridcolor\":\"white\",\"linecolor\":\"white\",\"ticks\":\"\",\"title\":{\"standoff\":15},\"zerolinecolor\":\"white\",\"automargin\":true,\"zerolinewidth\":2},\"yaxis\":{\"gridcolor\":\"white\",\"linecolor\":\"white\",\"ticks\":\"\",\"title\":{\"standoff\":15},\"zerolinecolor\":\"white\",\"automargin\":true,\"zerolinewidth\":2},\"scene\":{\"xaxis\":{\"backgroundcolor\":\"#E5ECF6\",\"gridcolor\":\"white\",\"linecolor\":\"white\",\"showbackground\":true,\"ticks\":\"\",\"zerolinecolor\":\"white\",\"gridwidth\":2},\"yaxis\":{\"backgroundcolor\":\"#E5ECF6\",\"gridcolor\":\"white\",\"linecolor\":\"white\",\"showbackground\":true,\"ticks\":\"\",\"zerolinecolor\":\"white\",\"gridwidth\":2},\"zaxis\":{\"backgroundcolor\":\"#E5ECF6\",\"gridcolor\":\"white\",\"linecolor\":\"white\",\"showbackground\":true,\"ticks\":\"\",\"zerolinecolor\":\"white\",\"gridwidth\":2}},\"shapedefaults\":{\"line\":{\"color\":\"#2a3f5f\"}},\"annotationdefaults\":{\"arrowcolor\":\"#2a3f5f\",\"arrowhead\":0,\"arrowwidth\":1},\"geo\":{\"bgcolor\":\"white\",\"landcolor\":\"#E5ECF6\",\"subunitcolor\":\"white\",\"showland\":true,\"showlakes\":true,\"lakecolor\":\"white\"},\"title\":{\"x\":0.05},\"mapbox\":{\"style\":\"light\"}}}},                        {\"responsive\": true}                    ).then(function(){\n",
       "                            \n",
       "var gd = document.getElementById('470b3d9b-92df-4edb-9fa2-74f9bd82108f');\n",
       "var x = new MutationObserver(function (mutations, observer) {{\n",
       "        var display = window.getComputedStyle(gd).display;\n",
       "        if (!display || display === 'none') {{\n",
       "            console.log([gd, 'removed!']);\n",
       "            Plotly.purge(gd);\n",
       "            observer.disconnect();\n",
       "        }}\n",
       "}});\n",
       "\n",
       "// Listen for the removal of the full notebook cells\n",
       "var notebookContainer = gd.closest('#notebook-container');\n",
       "if (notebookContainer) {{\n",
       "    x.observe(notebookContainer, {childList: true});\n",
       "}}\n",
       "\n",
       "// Listen for the clearing of the current output cell\n",
       "var outputEl = gd.closest('.output');\n",
       "if (outputEl) {{\n",
       "    x.observe(outputEl, {childList: true});\n",
       "}}\n",
       "\n",
       "                        })                };                });            </script>        </div>"
      ]
     },
     "metadata": {},
     "output_type": "display_data"
    }
   ],
   "source": [
    "def arbor_best_cost(fname, alpha, G, root_distance):\n",
    "    arbor = rar.read_arbor_full(fname)\n",
    "    main_root = []\n",
    "    lat_tips = []\n",
    "    line_segments = {}\n",
    "    point_drawing = go.Figure()\n",
    "    for node in arbor.nodes():\n",
    "        if arbor.nodes[node][\"label\"] == (\"main root\") or arbor.nodes[node][\"label\"] == (\"main root base\"):\n",
    "            main_root.append(node)\n",
    "        if arbor.nodes[node][\"label\"] == (\"lateral root tip\"):\n",
    "            lat_tips.append(node)\n",
    "    for i in range(1, len(main_root)):\n",
    "        line_segments[i] = main_root[i - 1], main_root[i]\n",
    "\n",
    "    # for each lateral root tip iterate through every line segment to find lowest costing point on main root\n",
    "    final = []\n",
    "    count = 1\n",
    "    for tip in lat_tips:\n",
    "        print(count)\n",
    "        curr_dist = 0\n",
    "        results = []\n",
    "        firstTime = True\n",
    "        p = tip[0]\n",
    "        q = tip[1]\n",
    "        for seg in line_segments:\n",
    "            x0 = line_segments[seg][0][0]\n",
    "            y0 = line_segments[seg][0][1]\n",
    "            x1 = line_segments[seg][1][0]\n",
    "            y1 = line_segments[seg][1][1]\n",
    "            if firstTime == True:\n",
    "                result = find_best_cost(alpha, G, root_distance, x0, y0, x1, y1, p, q)\n",
    "                curr_dist += length_func(x0, y0, x1, y1)\n",
    "                firstTime = False\n",
    "            else:\n",
    "                result = find_best_cost(alpha, G, root_distance + curr_dist, x0, y0, x1, y1, p, q)\n",
    "                curr_dist += length_func(x0, y0, x1, y1)\n",
    "            results.append(result)\n",
    "        final.append(min(results))\n",
    "        count += 1\n",
    "    pq_drawings = get_tip_drawings(lat_tips)\n",
    "    for p_and_q in pq_drawings:\n",
    "        point_drawing.add_trace(p_and_q)\n",
    "    \n",
    "    segment_drawings = get_line_segment_drawings(line_segments)\n",
    "    for line in segment_drawings:\n",
    "        point_drawing.add_trace(line)\n",
    "\n",
    "    opt_lines = get_opt_to_pq_drawings(G, final)\n",
    "    for opt in opt_lines:\n",
    "        point_drawing.add_trace(opt)\n",
    "    point_drawing.show()\n",
    "    return final\n",
    "\n",
    "old_method = arbor_best_cost('002_3_C_day5.csv', 0.4, 0.2, 0.0)"
   ]
  },
  {
   "cell_type": "code",
   "execution_count": 143,
   "id": "1acb3efc-e973-4656-aff0-912bc1debe10",
   "metadata": {},
   "outputs": [
    {
     "data": {
      "image/png": "[encoded data removed]",
      "text/plain": [
       "<Figure size 640x480 with 1 Axes>"
      ]
     },
     "metadata": {},
     "output_type": "display_data"
    }
   ],
   "source": [
    "def graph_main_root(graph, line_segments):\n",
    "    for seg in line_segments:\n",
    "        x0 = line_segments[seg][0][0]\n",
    "        y0 = line_segments[seg][0][1] \n",
    "        x1 = line_segments[seg][1][0]\n",
    "        y1 = line_segments[seg][1][1]\n",
    "        first_point = x0, y0\n",
    "        second_point = x1, y1\n",
    "        graph.add_node(first_point, pos=first_point)\n",
    "        graph.add_node(second_point, pos=second_point)\n",
    "        graph.add_edge(first_point, second_point)\n",
    "    coords = {node: node for node in graph.nodes}\n",
    "\n",
    "    # Debug: Check for missing positions\n",
    "    for node in graph.nodes:\n",
    "        if node not in coords:\n",
    "            print(f\"Missing position for node: {node}\")\n",
    "\n",
    "    # Draw the full graph\n",
    "    nx.draw_networkx(graph, pos=coords, with_labels=False, node_size=2)\n",
    "\n",
    "G = rar.read_arbor_full('048_4_C_day5.csv')\n",
    "\n",
    "test_line_segments = get_line_segments(G)\n",
    "graph = nx.Graph()\n",
    "\n",
    "graph_main_root(graph, test_line_segments)"
   ]
  },
  {
   "cell_type": "code",
   "execution_count": 99,
   "id": "f81a2d53-4884-44ee-b407-fa36af7e1297",
   "metadata": {},
   "outputs": [
    {
     "name": "stdout",
     "output_type": "stream",
     "text": [
      "([6.44464172727684, 6.460594736785058, 6.476610284749883, 6.487475307750821, 6.510190495727064, 6.518825220789836, 6.520007006239526, 6.521766966811838, 6.5316256563413715, 6.5487937367264415, 6.559728862469433, 6.565325030939841, 6.565146216933902, 6.561017636123532, 6.55008934464812, 6.535722201873948, 6.521266770049958, 6.49841308561587, 6.480105624903483, 6.4525581871579085, 6.413917822883635, 6.382266225886305, 6.349304797482725, 6.324392617688385, 6.302149241633545, 6.278435844898096, 6.251747156579301, 6.230962165392036, 6.207601995070553, 6.174205183093564, 6.09192725335461, 6.042318893860317, 6.000114293861047, 5.946308833862368, 5.878732719425681, 5.819917838445847, 5.75509259401783, 5.706137125918644, 5.652676231716615, 5.599567755266649, 5.555044813113865, 5.510150122880491, 5.479521623081899, 5.443142295172121, 5.404136482865619, 5.363926034614819, 5.338255587762459, 5.316873081565888, 5.271996843651111, 5.255470619143432, 5.236567349728162, 5.220387870308512, 5.1929143752748725, 5.089620534023275, 5.054741753358822, 5.020761988077801, 4.982141807694566, 4.944075087703734, 4.908842916508314, 4.864866089702856, 4.835949448768274, 4.810124188357991, 4.783001869871148, 4.760006861809869, 4.7350169900511, 4.713941942449072, 4.702890238183721, 4.685846226388898, 4.661534417623548, 4.641414343735999, 4.631362984847379, 4.6216310488602055, 4.61114892875116, 4.59924963416332, 4.5871481074668985, 4.555894774454283, 4.547711918451959, 4.537418591111821, 4.52889350047836, 4.520408275468821, 4.51267191456348, 4.507528868922354, 4.502880519066076, 4.499428581138407, 4.497884491436976, 4.496913313398396, 4.496624860588719, 4.497448946158712, 4.502104142420185, 4.506495925224091, 4.516720608515865, 4.526678274115569], [6.396599, 6.321469, 6.246345, 6.195558, 6.134214, 6.102992, 6.06702, 6.013421, 5.957601, 5.888099, 5.831151, 5.769502, 5.707173, 5.643343, 5.573067, 5.504734, 5.443979, 5.375519, 5.328561, 5.275325, 5.214067, 5.168474, 5.123634, 5.091593, 5.053553, 5.012739, 4.973316, 4.946655, 4.926197, 4.902302, 4.831859, 4.798517, 4.775816, 4.746409, 4.715112, 4.690156, 4.667379, 4.649787, 4.631919, 4.612142, 4.595192, 4.577735, 4.566698, 4.547372, 4.5225, 4.499786, 4.487866, 4.483861, 4.477665, 4.466524, 4.47293, 4.478334, 4.465603, 4.433502, 4.431595, 4.428172, 4.427667, 4.428684, 4.432556, 4.441577, 4.449898, 4.463395, 4.479895, 4.493133, 4.508193, 4.520158, 4.526664, 4.529863, 4.532419, 4.518929, 4.515792, 4.517157, 4.52382, 4.52996, 4.534957, 4.554144, 4.557282, 4.565793, 4.575112, 4.585713, 4.595558, 4.605981, 4.617839, 4.628492, 4.635584, 4.639858, 4.641827, 4.639139, 4.64029, 4.665803, 4.689963, 4.676047])\n",
      "([8.265845849098685, 8.226392319149479, 8.193618505108542, 8.148948480721153, 8.116570725357377, 8.062834633056095, 8.018752883626618, 7.979564908834092, 7.938331905294682, 7.892521196663267, 7.851658290775163, 7.80885693757989, 7.758653475917566, 7.720020035104994, 7.679446949370291, 7.637008775617886, 7.592781168742615, 7.544074314791377, 7.500355562724685, 7.454965124986625, 7.407984608704158, 7.356572143963316, 7.30447511276088, 7.265910198304258, 7.21353957895089, 7.174632741085038, 7.12204783064978, 7.080503754201253, 7.032107474529212, 6.996462782398275, 6.947782536192456, 6.911796582512846, 6.865662919348868, 6.821645657401277, 6.782125201760138, 6.741201893924526, 6.69640528345046, 6.656098483345424, 6.618620102568471, 6.569447742860213, 6.522267655426106, 6.479642992528657, 6.45141220871421, 6.395570423276606, 6.344317933887428, 6.274700422936654, 6.248087762652194, 6.195336997674133, 6.168757826836043, 5.83416840214467, 5.803355174954781, 5.762497325871344, 5.717691905995604, 5.637594314329419, 5.577755851789021, 5.501622420497128, 5.441847903892683, 5.389915660247311, 5.328008350824614, 5.27016696866648, 5.212782515957283, 5.153819619751253, 5.102575527780036, 5.040804257128471, 4.97572830103265, 4.9079143411281265, 4.842638258156178, 4.7803149009547035, 4.725071890619141, 4.65754159330362, 4.578000095278506, 4.558323830515077, 4.534858492489041, 4.4919755763270715, 4.462960649620113, 4.4355642018853825, 4.402528612472411, 4.384125616697709, 4.363115677341657, 4.344594901778086, 4.3285915635891765, 4.321784846639428, 4.312271736719852, 4.301501527354166, 4.29348910673971, 4.287820946335513, 4.285390275906391, 4.285766455939914, 4.294751711112568, 4.296940402552883, 4.300070187499786, 4.304310465631511, 4.308678360942723, 4.3132538676339784, 4.320256283431563, 4.326064377444064, 4.333601338438768, 4.339332434035487, 4.344100068514141, 4.353536309377608, 4.362732045283746, 4.372465318795717, 4.38357262084844, 4.395006101270706, 4.406619349179724, 4.416553946847504, 4.427256590650293, 4.453667541599021, 4.472288459196815, 4.490067452584242, 4.506437648941898], [8.26273, 8.215343, 8.172654, 8.126883, 8.091157, 8.045027, 7.999311, 7.95554, 7.912479, 7.867598, 7.824576, 7.782306, 7.735658, 7.692154, 7.649376, 7.607362, 7.566151, 7.52333, 7.482163, 7.44184, 7.402396, 7.361531, 7.317228, 7.277926, 7.23415, 7.195242, 7.152001, 7.111178, 7.066234, 7.026453, 6.982022, 6.942623, 6.901211, 6.8589, 6.818195, 6.778354, 6.73705, 6.69726, 6.662236, 6.62445, 6.585646, 6.548129, 6.524569, 6.48916, 6.45041, 6.387568, 6.372359, 6.345452, 6.330833, 6.160232, 6.123541, 6.088147, 6.051001, 5.996578, 5.956815, 5.913851, 5.868665, 5.82845, 5.791787, 5.756533, 5.723934, 5.692846, 5.664959, 5.638061, 5.601347, 5.561196, 5.525023, 5.490719, 5.464668, 5.438958, 5.437161, 5.425496, 5.412932, 5.397234, 5.38724, 5.378561, 5.366964, 5.36241, 5.36612, 5.366839, 5.364562, 5.362023, 5.348396, 5.329599, 5.310891, 5.288106, 5.259102, 5.242025, 5.231591, 5.221005, 5.206524, 5.192169, 5.178312, 5.167464, 5.155789, 5.141501, 5.127356, 5.114478, 5.108631, 5.102115, 5.092759, 5.082758, 5.07126, 5.056283, 5.037938, 5.019453, 5.00301, 4.970781, 4.942895, 4.91306, 4.884163])\n",
      "([5.474106191582635, 5.437861846378869, 5.397671747119773, 5.356279147551408, 5.308529850127428, 5.260534653720146, 5.204947637721816, 5.167882882602237, 5.125003470539605, 5.091633084968949, 5.058876034392707, 5.026768539551096, 4.994470572600385, 4.9663014429338705, 4.927173402936219, 4.902054926375431, 4.866285335331199, 4.844786500162998, 4.81912440633079, 4.801266396183356, 4.781025156520748, 4.764794748106546, 4.712231441726338, 4.6971744865841405, 4.679538010419156, 4.665470281710514, 4.642804399323245, 4.620062434077905, 4.6009191287045805, 4.57635603142843, 4.556053187518348, 4.539286162807871, 4.524506756193746, 4.513219613294982, 4.500390737603249, 4.485590917895141, 4.477299774404898, 4.471648822628902, 4.461381216386668, 4.454148585347744, 4.447534196965426, 4.436223224493952, 4.429187417436465, 4.42473170983649, 4.421656184465311, 4.4191040007982245, 4.417778663182581, 4.417448005673355, 4.418088709927456, 4.419201474199545, 4.422865168935319, 4.426087592809415, 4.43390798574468, 4.439643359641352, 4.443889702773021, 4.45803301609361, 4.4627384710942675, 4.467562693333756, 4.47628195230193, 4.515764467169678], [5.486183, 5.469871, 5.453245, 5.439048, 5.424106, 5.410268, 5.393738, 5.380252, 5.358507, 5.338504, 5.313204, 5.284201, 5.250433, 5.221824, 5.180837, 5.164693, 5.143306, 5.128024, 5.113143, 5.098993, 5.078591, 5.061826, 5.026237, 5.011925, 4.996609, 4.985328, 4.971634, 4.953862, 4.939496, 4.919915, 4.901161, 4.880339, 4.857658, 4.836508, 4.804348, 4.766197, 4.753652, 4.745723, 4.739052, 4.732693, 4.727816, 4.721032, 4.711735, 4.711075, 4.711819, 4.716245, 4.72318, 4.728668, 4.743263, 4.752672, 4.75918, 4.757091, 4.747769, 4.75627, 4.758901, 4.784178, 4.78386, 4.783551, 4.788123, 4.868367])\n",
      "([5.266492166903884, 5.209089948638853, 5.150386112423584, 5.077962179249429, 5.008333696852196, 4.949476031809711, 4.883721155926716, 4.833096263459478, 4.78322022957691, 4.73488687864591, 4.6910723798082925, 4.630435217111041, 4.611700208385043, 4.589049796663701, 4.567396472264116, 4.547918099465251, 4.5272265409440315, 4.509747947616998, 4.492295383334441, 4.478310865979468, 4.4620924001869575, 4.449326529349983, 4.436128680861554, 4.425250032208196, 4.412923797558303, 4.385791367777067, 4.3819026872434055, 4.3757323326797115, 4.368934512229637, 4.364520930902408, 4.36168168156519, 4.36135380247755, 4.363274391395371, 4.367365586002593, 4.383025307354888, 4.392306346095489, 4.406011711077839, 4.417245210294765, 4.431829145823781, 4.4525412248025384, 4.468595149176659, 4.499175675740397], [5.297486, 5.28774, 5.27902, 5.27581, 5.270439, 5.258114, 5.233518, 5.211723, 5.199956, 5.190014, 5.170183, 5.134927, 5.127602, 5.120279, 5.114442, 5.110345, 5.104064, 5.102467, 5.099188, 5.097676, 5.090196, 5.087676, 5.079818, 5.074149, 5.061397, 5.046989, 5.038158, 5.030416, 5.022555, 5.01244, 5.012864, 5.01628, 5.022199, 5.025163, 5.049296, 5.045268, 5.038448, 5.035736, 5.042253, 5.058527, 5.06699, 5.065788])\n",
      "([5.332859829913168, 5.279071010220303, 5.2134516188998665, 5.163239590629703, 5.082933928209344, 5.036942827694994, 4.980497727049213, 4.928825301210762, 4.904255860013755, 4.866435749362551, 4.8264373390937445, 4.792855442026979, 4.728827375955165, 4.69735214540515, 4.674715034770758, 4.651846344224213, 4.631806525364047, 4.612673162450813, 4.582601034052724, 4.571097992798174, 4.553373553589047, 4.5507573936479275], [5.360281, 5.347702, 5.34126, 5.33781, 5.319225, 5.321218, 5.316041, 5.305674, 5.299244, 5.288924, 5.273951, 5.265966, 5.242111, 5.22662, 5.228125, 5.224863, 5.223177, 5.226119, 5.23425, 5.218214, 5.192449, 5.191215])\n",
      "([5.5629027122823, 5.524143773039691, 5.50239087830729, 5.259747493536453, 5.239702670846578, 5.228217642728412, 5.211677703832738, 5.198339246968457, 4.996961434895518, 4.946808085802612, 4.912772561381118, 4.870408812694106], [5.534342, 5.467161, 5.439526, 5.353479, 5.308104, 5.28183, 5.233472, 5.203302, 4.929847, 4.878944, 4.867132, 4.81044])\n",
      "([6.912250710879743, 6.846892941515501, 6.727133349040065, 6.630678740263077, 6.537909731677406, 6.413463652075805, 6.330727384614702, 6.229838961651774, 6.136495584003972, 6.080567259145823, 6.006663216904183, 5.920873931287746, 5.812420322955747, 5.742577884597978, 5.6529526802230965, 5.610178331633364, 5.552150302492343, 5.507139086173588, 5.440914373755893, 5.420125966213302, 5.381040903811897, 5.34733564189955, 5.3099184499234475, 5.272820308724501, 5.236060660917692, 5.199663252344182, 5.16589057317203, 5.121359155989486, 5.06185146807154, 5.0257517075875455, 4.987338700246042, 4.933973565822258, 4.895640564816399, 4.856285268047115, 4.822618454762266, 4.795707833661545, 4.771253195109342, 4.74126868558589, 4.719537760791895], [6.950602, 6.927807, 6.891397, 6.857581, 6.824424, 6.78117, 6.751742, 6.724938, 6.693375, 6.669982, 6.628806, 6.584124, 6.526028, 6.492366, 6.456651, 6.432375, 6.388255, 6.359091, 6.321094, 6.302774, 6.277751, 6.253315, 6.230499, 6.208233, 6.186519, 6.165364, 6.146062, 6.125364, 6.083551, 6.066291, 6.056745, 6.039612, 6.003476, 5.969874, 5.943367, 5.908361, 5.871935, 5.813929, 5.774419])\n",
      "([6.068276779840751, 6.059108805558244, 6.049564152214935, 6.040721066554813, 6.034365860577333, 6.030382198687631, 6.026207926035849, 6.022248499237563, 6.015207221093739, 6.013998704611646, 6.016960273914709], [6.092409, 6.10433, 6.121758, 6.143533, 6.164232, 6.178906, 6.190775, 6.202368, 6.244304, 6.277101, 6.360853])\n",
      "([6.713275629127773, 6.7568847262601635, 6.8087097011993585, 7.013683245586073, 7.026604031384373, 6.991246212800862], [6.633495, 6.54759, 6.498167, 6.223609, 6.153596, 6.038742])\n",
      "([4.838012711342129, 4.571000545450305], [4.867369, 4.873067])\n",
      "([6.870839756581683, 6.830675635754779, 6.76276796123818, 6.728011857007995, 6.689251829324594, 6.651931600320351, 6.607207499968848, 6.48875461282313, 6.331098393442004], [6.884087, 6.855294, 6.81533, 6.788202, 6.749005, 6.71117, 6.670082, 6.595202, 6.503003])\n",
      "([6.778051353081803, 6.758942324680829, 6.74214074179959, 6.724976579325587, 6.714873431086552, 6.705173797606095, 6.6972800691425425, 6.6929453048379575], [6.78508, 6.778902, 6.772724, 6.765286, 6.753973, 6.735339, 6.716941, 6.703827])\n"
     ]
    },
    {
     "data": {
      "text/plain": [
       "141.1971852925509"
      ]
     },
     "execution_count": 99,
     "metadata": {},
     "output_type": "execute_result"
    }
   ],
   "source": [
    "dist = 0\n",
    "for thing in old_method:\n",
    "    main_root = thing[4], thing[5]\n",
    "    lateral_tip = thing[6], thing[7]\n",
    "    print(modified_fill_lateral_root(0.2, G, G_opt, main_root, lateral_tip))\n",
    "    dist += modified_calculate_distance(0.2, G, G_opt, main_root, lateral_tip)\n",
    "dist"
   ]
  },
  {
   "cell_type": "code",
   "execution_count": 71,
   "id": "08c6a093-8b35-4865-af2f-c2192af6ed02",
   "metadata": {},
   "outputs": [],
   "source": [
    "def modified_calculate_distance(gravity, G, G_opt, main_root, lateral_tip):\n",
    "    opt_y_coords, actual_y_coords = modified_fill_lateral_root(gravity, G, G_opt, main_root, lateral_tip)\n",
    "    distances = []\n",
    "\n",
    "    for x in range(len(opt_y_coords)):\n",
    "        diff_square = (opt_y_coords[x] - actual_y_coords[x]) ** 2\n",
    "        distances.append(diff_square)\n",
    "    return math.fsum(distances)\n",
    "\n",
    "def modified_fill_lateral_root(gravity, G, G_opt, main_root, lateral_tip) :\n",
    "\n",
    "    ## This method uses the lateral tip and main root to fill in points of the lateral root\n",
    "    ## in order to perform distance calculation\n",
    "\n",
    "    # get coefficients\n",
    "    if gravity == 0:\n",
    "        m, y_int = modified_line_equation(gravity, main_root, lateral_tip)\n",
    "    else:\n",
    "        b, c = modified_line_equation(gravity, main_root, lateral_tip)\n",
    "\n",
    "\n",
    "    observed = {}\n",
    "    optimal = {}\n",
    "    observed, optimal = ps.create_dict(G, G_opt)\n",
    "    backwards = {}\n",
    "\n",
    "    ## reverses observed dictionary\n",
    "    for node in reversed(observed):\n",
    "        backwards[node] = observed[node]\n",
    "\n",
    "    tip_found = False\n",
    "    encountered_observed = []\n",
    "    index = len(G.nodes) - 2\n",
    "\n",
    "    ## loop backwards\n",
    "    for node in backwards :\n",
    "        if G.nodes[node]['label'] == \"lateral root tip\" and tip_found:\n",
    "            break\n",
    "        if lateral_tip == node:\n",
    "            tip_found = True\n",
    "           # print(\"tip was found\")\n",
    "            continue\n",
    "        if tip_found == True and (list(G.nodes(data = True))[index][1][\"label\"] == \"lateral root\"):\n",
    "           # print(\"not a tip\")\n",
    "            encountered_observed.append(node)\n",
    "        index -= 1\n",
    "\n",
    "    ## need to calculate points based on observed x-coordinates and line equation\n",
    "    x_coords = []\n",
    "    y_coords = []\n",
    "    count = -1\n",
    "    for point in encountered_observed:\n",
    "        for coords in point:\n",
    "          count += 1\n",
    "          if count % 2 == 0 :\n",
    "              x_coords.append(coords)\n",
    "          else :\n",
    "              y_coords.append(coords)\n",
    "    added_nodes = []\n",
    "    if gravity == 0:\n",
    "        for x in x_coords:\n",
    "            added_nodes.append(m * x + y_int)\n",
    "    else:\n",
    "        for x in x_coords:\n",
    "            added_nodes.append(gravity*x*x + b*x + c)\n",
    "    return added_nodes, y_coords\n",
    "\n",
    "def modified_line_equation(G, main_root, lateral_tip):\n",
    "    x, y = main_root\n",
    "    p, q = lateral_tip\n",
    "    if G == 0:\n",
    "        m = (q - y) / (p - x)\n",
    "        y_int = y - m * x\n",
    "        return m, y_int\n",
    "    else:\n",
    "        b, c = calc_coeff(G, x, y, p, q)\n",
    "        return b, c\n"
   ]
  },
  {
   "cell_type": "code",
   "execution_count": 106,
   "id": "3b3c4d95-98c7-4daf-8914-7ebcd5be1033",
   "metadata": {},
   "outputs": [
    {
     "name": "stdout",
     "output_type": "stream",
     "text": [
      "([6.43791719023307, 6.441129444887746, 6.444406236078674, 6.446658536771731, 6.451442958017686, 6.453288208448239, 6.453541885903031, 6.45392017440113, 6.456050291865502, 6.459804264556813, 6.462224573894509, 6.46347192201853, 6.463431974547888, 6.4625113106068595, 6.460089843218165, 6.45694091860838, 6.453812600289405, 6.448949624974944, 6.445128241685622, 6.439504732839991, 6.431878560808592, 6.425865322770443, 6.419833012776433, 6.415433118613153, 6.41162302631921, 6.407686621905624, 6.403414389119156, 6.400205505525271, 6.396725228627346, 6.391986872992294, 6.381554892072636, 6.376163036072652, 6.372137741921652, 6.367791746404608, 6.363652662603082, 6.361324492214806, 6.360232993249168, 6.360504213353028, 6.361952545863175, 6.364663421403482, 6.367980500180417, 6.372355456862447, 6.375969046972517, 6.380961956183016, 6.387208651666526, 6.394678377973882, 6.400027118563507, 6.404845430746063, 6.416092252927532, 6.420641772510681, 6.426129061316566, 6.431074278939034, 6.440019781586805, 6.480537722752475, 6.497015583192168, 6.51463622473193, 6.536738683786721, 6.560937120719518, 6.585740249564394, 6.6204248212458285, 6.645819981209701, 6.670492187656403, 6.698697693567271, 6.724700593589736, 6.755452148715103, 6.783702694258526, 6.799475209221404, 6.82525004420952, 6.865506179158153, 6.902522191746644, 6.922503967995417, 6.942938039442001, 6.966292399073771, 6.994740326748548, 7.026150980471727, 7.1231423913656045, 7.1538881210782606, 7.197307170743206, 7.238672130754784, 7.286941359009173, 7.340695899165193, 7.385226112527672, 7.437085453099218, 7.491878535850319, 7.52910618261177, 7.568735982950666, 7.597264833814666, 7.673650297303016, 7.779008707650357, 7.839902186643153, 7.944783895016352, 8.025300746144257], [6.396599, 6.321469, 6.246345, 6.195558, 6.134214, 6.102992, 6.06702, 6.013421, 5.957601, 5.888099, 5.831151, 5.769502, 5.707173, 5.643343, 5.573067, 5.504734, 5.443979, 5.375519, 5.328561, 5.275325, 5.214067, 5.168474, 5.123634, 5.091593, 5.053553, 5.012739, 4.973316, 4.946655, 4.926197, 4.902302, 4.831859, 4.798517, 4.775816, 4.746409, 4.715112, 4.690156, 4.667379, 4.649787, 4.631919, 4.612142, 4.595192, 4.577735, 4.566698, 4.547372, 4.5225, 4.499786, 4.487866, 4.483861, 4.477665, 4.466524, 4.47293, 4.478334, 4.465603, 4.433502, 4.431595, 4.428172, 4.427667, 4.428684, 4.432556, 4.441577, 4.449898, 4.463395, 4.479895, 4.493133, 4.508193, 4.520158, 4.526664, 4.529863, 4.532419, 4.518929, 4.515792, 4.517157, 4.52382, 4.52996, 4.534957, 4.554144, 4.557282, 4.565793, 4.575112, 4.585713, 4.595558, 4.605981, 4.617839, 4.628492, 4.635584, 4.639858, 4.641827, 4.639139, 4.64029, 4.665803, 4.689963, 4.676047])\n",
      "([8.268898923012689, 8.233000895912891, 8.203194171779135, 8.162588335475569, 8.133171092884126, 8.084376193452709, 8.044374192645598, 8.008833319336624, 7.9714586876855975, 7.929960333665164, 7.892967189337995, 7.854243018078314, 7.808853537872768, 7.7739483700128815, 7.737313383874383, 7.699019607167386, 7.659139165592439, 7.615253511904523, 7.575892993974847, 7.535058906508933, 7.492828846185663, 7.4466561120697214, 7.399913510307268, 7.365342039630345, 7.318436056830183, 7.283620678095094, 7.236609648818732, 7.199505780065962, 7.156323884986968, 7.124549114834878, 7.081195385350405, 7.049178331508248, 7.0081727480946405, 6.969091224807524, 6.934038889580776, 6.897779732861693, 6.8581335002293216, 6.8225019200775066, 6.7894064777977405, 6.746038359386063, 6.704486374368887, 6.66699765170004, 6.642195961411542, 6.593203540040051, 6.5483177171861335, 6.487476510394739, 6.464259255872356, 6.41830748373253, 6.395189650422942, 6.10646242662601, 6.0801120260590515, 6.045242257212163, 6.007099474939956, 5.939177603643305, 5.888672416291577, 5.824732030504929, 5.774800597249026, 5.731628615970717, 5.680437865488294, 5.632900607789928, 5.586042458364105, 5.538240478745561, 5.497008069360152, 5.4477322319990265, 5.396386285530454, 5.343587764071643, 5.293559244280253, 5.246651889078674, 5.205907290222402, 5.157400954417071, 5.102644346359471, 5.089604089824325, 5.074373645466929, 5.047610805569704, 5.030474505238546, 5.015222335960411, 4.998417350761256, 4.9900643774560045, 4.981754404242448, 4.975946749091074, 4.972652039612514, 4.971961255984091, 4.972049640020748, 4.974522892721296, 4.979691371183041, 4.988428098608923, 5.000196981068207, 5.012468310523619, 5.048397680909819, 5.0544088106237215, 5.062426690107914, 5.0725252703763335, 5.082277753697083, 5.091977810944396, 5.106069255185334, 5.117232901563272, 5.131179200260803, 5.141454935621276, 5.149822508714067, 5.165977052200406, 5.181285833905253, 5.197105844676534, 5.21475739590548, 5.232551446981919, 5.250294263735736, 5.26524320484635, 5.2811398601659345, 5.319586005383492, 5.346132049640261, 5.371117176554961, 5.393850510253564], [8.26273, 8.215343, 8.172654, 8.126883, 8.091157, 8.045027, 7.999311, 7.95554, 7.912479, 7.867598, 7.824576, 7.782306, 7.735658, 7.692154, 7.649376, 7.607362, 7.566151, 7.52333, 7.482163, 7.44184, 7.402396, 7.361531, 7.317228, 7.277926, 7.23415, 7.195242, 7.152001, 7.111178, 7.066234, 7.026453, 6.982022, 6.942623, 6.901211, 6.8589, 6.818195, 6.778354, 6.73705, 6.69726, 6.662236, 6.62445, 6.585646, 6.548129, 6.524569, 6.48916, 6.45041, 6.387568, 6.372359, 6.345452, 6.330833, 6.160232, 6.123541, 6.088147, 6.051001, 5.996578, 5.956815, 5.913851, 5.868665, 5.82845, 5.791787, 5.756533, 5.723934, 5.692846, 5.664959, 5.638061, 5.601347, 5.561196, 5.525023, 5.490719, 5.464668, 5.438958, 5.437161, 5.425496, 5.412932, 5.397234, 5.38724, 5.378561, 5.366964, 5.36241, 5.36612, 5.366839, 5.364562, 5.362023, 5.348396, 5.329599, 5.310891, 5.288106, 5.259102, 5.242025, 5.231591, 5.221005, 5.206524, 5.192169, 5.178312, 5.167464, 5.155789, 5.141501, 5.127356, 5.114478, 5.108631, 5.102115, 5.092759, 5.082758, 5.07126, 5.056283, 5.037938, 5.019453, 5.00301, 4.970781, 4.942895, 4.91306, 4.884163])\n",
      "([5.475674612013165, 5.442084347341343, 5.404892995327803, 5.366653855910137, 5.322629949130462, 5.278481350716817, 5.2274889342340956, 5.193578506938971, 5.15444711178244, 5.124072870436075, 5.094329918256459, 5.065252406915626, 5.0360840724593885, 5.01071679483991, 4.9756028138708395, 4.953142889699041, 4.92128110102032, 4.902206279350397, 4.879518904875113, 4.8637874296158525, 4.846017258066759, 4.831818407636494, 4.786183275967126, 4.773222887596441, 4.758115279965969, 4.746126364088903, 4.726938051372345, 4.707866012395048, 4.691975015236496, 4.671844863180764, 4.6554724478979885, 4.6421744496089286, 4.630656762132622, 4.622015490237182, 4.6123912007036285, 4.601614383738205, 4.595770213728713, 4.591885645487929, 4.585081726136304, 4.580539751415353, 4.576629701898698, 4.570755840160105, 4.5679994668123225, 4.566976944033218, 4.566957031910695, 4.5680129694425595, 4.570046797401968, 4.572374892514139, 4.5768493798879355, 4.580433812970755, 4.588832470138241, 4.594942445528831, 4.608038161413512, 4.616860585046467, 4.6231408222068, 4.643081998310441, 4.649482620854171, 4.655955623462839, 4.667464854022002, 4.717543334056309], [5.486183, 5.469871, 5.453245, 5.439048, 5.424106, 5.410268, 5.393738, 5.380252, 5.358507, 5.338504, 5.313204, 5.284201, 5.250433, 5.221824, 5.180837, 5.164693, 5.143306, 5.128024, 5.113143, 5.098993, 5.078591, 5.061826, 5.026237, 5.011925, 4.996609, 4.985328, 4.971634, 4.953862, 4.939496, 4.919915, 4.901161, 4.880339, 4.857658, 4.836508, 4.804348, 4.766197, 4.753652, 4.745723, 4.739052, 4.732693, 4.727816, 4.721032, 4.711735, 4.711075, 4.711819, 4.716245, 4.72318, 4.728668, 4.743263, 4.752672, 4.75918, 4.757091, 4.747769, 4.75627, 4.758901, 4.784178, 4.78386, 4.783551, 4.788123, 4.868367])\n",
      "([5.310340946041169, 5.319329757719081, 5.330890689609862, 5.3488604364717975, 5.37055339440072, 5.392802122148279, 5.422620114225449, 5.44975470477533, 5.480684848975166, 5.51535602253413, 5.551563269800885, 5.611034264154375, 5.632097072881594, 5.659605759765237, 5.688292631229764, 5.716408942371907, 5.749083937654724, 5.7793394828425715, 5.812444043761259, 5.841455114713146, 5.878457937543556, 5.910674882691115, 5.947559626478951, 5.98139263213871, 6.024608055271438, 6.150348828359039, 6.174453716661068, 6.218788191833418, 6.282536953940756, 6.343667022333291, 6.417576210352621, 6.493926072900052, 6.56656853102717, 6.641897770453921, 6.807325893537323, 6.878597395667577, 6.968765509816947, 7.03423715392461, 7.111660869935541, 7.211330385458359, 7.282566678400473, 7.407856229314003], [5.297486, 5.28774, 5.27902, 5.27581, 5.270439, 5.258114, 5.233518, 5.211723, 5.199956, 5.190014, 5.170183, 5.134927, 5.127602, 5.120279, 5.114442, 5.110345, 5.104064, 5.102467, 5.099188, 5.097676, 5.090196, 5.087676, 5.079818, 5.074149, 5.061397, 5.046989, 5.038158, 5.030416, 5.022555, 5.01244, 5.012864, 5.01628, 5.022199, 5.025163, 5.049296, 5.045268, 5.038448, 5.035736, 5.042253, 5.058527, 5.06699, 5.065788])\n",
      "([5.379658509012575, 5.39880265399521, 5.425783856438058, 5.449458731739271, 5.493665113958109, 5.523058740264662, 5.563941102321879, 5.606825326770577, 5.629345778342651, 5.667112745187231, 5.711786850652583, 5.753766335757807, 5.8483940464557564, 5.904190841897123, 5.949412940127289, 6.000593890202819, 6.051221564970262, 6.106154972894964, 6.211701692846287, 6.261592274606482, 6.356798783474625, 6.373730341110248], [5.360281, 5.347702, 5.34126, 5.33781, 5.319225, 5.321218, 5.316041, 5.305674, 5.299244, 5.288924, 5.273951, 5.265966, 5.242111, 5.22662, 5.228125, 5.224863, 5.223177, 5.226119, 5.23425, 5.218214, 5.192449, 5.191215])\n",
      "([5.571603097261784, 5.554427616443608, 5.544980618532907, 5.45079492068672, 5.444110631593105, 5.440371068151796, 5.435105476368198, 5.430965495628907, 5.382660327395826, 5.376019218697433, 5.373189055420452, 5.371924703235723], [5.534342, 5.467161, 5.439526, 5.353479, 5.308104, 5.28183, 5.233472, 5.203302, 4.929847, 4.878944, 4.867132, 4.81044])\n",
      "([6.924332972752811, 6.875498392482816, 6.786550609333336, 6.715443509512607, 6.64752943963725, 6.557208047617124, 6.4976890248760455, 6.425726019385337, 6.359787290334369, 6.3205937333498134, 6.269186454405903, 6.210092100498393, 6.136348547704053, 6.089474285012026, 6.030091112022232, 6.002075311268852, 5.96442751525044, 5.935524496665746, 5.89350662375006, 5.880447894279506, 5.856073867286812, 5.835248927555584, 5.8123512365142584, 5.789889150174151, 5.767880255196033, 5.746344585512659, 5.726602177746907, 5.700945072445219, 5.66737434453897, 5.647439573987706, 5.626613217499786, 5.598394406596466, 5.578681822936249, 5.558973657378688, 5.542576126778408, 5.529799710519553, 5.51846184271416, 5.504939275796199, 5.495417931333722], [6.950602, 6.927807, 6.891397, 6.857581, 6.824424, 6.78117, 6.751742, 6.724938, 6.693375, 6.669982, 6.628806, 6.584124, 6.526028, 6.492366, 6.456651, 6.432375, 6.388255, 6.359091, 6.321094, 6.302774, 6.277751, 6.253315, 6.230499, 6.208233, 6.186519, 6.165364, 6.146062, 6.125364, 6.083551, 6.066291, 6.056745, 6.039612, 6.003476, 5.969874, 5.943367, 5.908361, 5.871935, 5.813929, 5.774419])\n",
      "([6.110680770718912, 6.142721312311453, 6.180824621095908, 6.222256856109714, 6.257440600671064, 6.282902338820548, 6.31374339468687, 6.34911464774751, 6.453886549613816, 6.512913854524459, 6.63541576024353], [6.092409, 6.10433, 6.121758, 6.143533, 6.164232, 6.178906, 6.190775, 6.202368, 6.244304, 6.277101, 6.360853])\n",
      "([6.7037314728030974, 6.718357558916548, 6.735848888012373, 6.806173715156771, 6.810666885958634, 6.798388041545031], [6.633495, 6.54759, 6.498167, 6.223609, 6.153596, 6.038742])\n",
      "([4.902768218686909, 5.026005043634623], [4.867369, 4.873067])\n",
      "([6.894388426067226, 6.880645983381416, 6.857572407440766, 6.8458423141871965, 6.832824831211992, 6.820355078534971, 6.805495104651877, 6.766584712619368, 6.715825063462174], [6.884087, 6.855294, 6.81533, 6.788202, 6.749005, 6.71117, 6.670082, 6.595202, 6.503003])\n",
      "([6.799088192471022, 6.811145399204495, 6.825509641094886, 6.845860026515772, 6.862237590780369, 6.883496548849564, 6.908912380507387, 6.930612264325658], [6.78508, 6.778902, 6.772724, 6.765286, 6.753973, 6.735339, 6.716941, 6.703827])\n"
     ]
    },
    {
     "data": {
      "text/plain": [
       "439.19467814757775"
      ]
     },
     "execution_count": 106,
     "metadata": {},
     "output_type": "execute_result"
    }
   ],
   "source": [
    "G = rar.read_arbor_full('002_3_C_day5.csv')\n",
    "G_opt = nx.Graph(Gravity = 0.2)\n",
    "point_dist = 0\n",
    "for sub in working:\n",
    "    main_root = sub[4], sub[5]\n",
    "    lateral_tip = sub[6], sub[7]\n",
    "    print(modified_fill_lateral_root(0.2, G, G_opt, main_root, lateral_tip))\n",
    "    point_dist += modified_calculate_distance(0.2, G, G_opt, main_root, lateral_tip)\n",
    "point_dist"
   ]
  },
  {
   "cell_type": "code",
   "execution_count": null,
   "id": "6b22a3e8-a16e-4c84-903f-65e67acfc150",
   "metadata": {},
   "outputs": [],
   "source": []
  }
 ],
 "metadata": {
  "kernelspec": {
   "display_name": "Python 3 (ipykernel)",
   "language": "python",
   "name": "python3"
  },
  "language_info": {
   "codemirror_mode": {
    "name": "ipython",
    "version": 3
   },
   "file_extension": ".py",
   "mimetype": "text/x-python",
   "name": "python",
   "nbconvert_exporter": "python",
   "pygments_lexer": "ipython3",
   "version": "3.12.3"
  }
 },
 "nbformat": 4,
 "nbformat_minor": 5
}
