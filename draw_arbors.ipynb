{
 "cells": [
  {
   "cell_type": "code",
   "execution_count": 166,
   "id": "33e2db3c-6d45-4184-8e17-3d5a07d63c5f",
   "metadata": {},
   "outputs": [],
   "source": [
    "import read_arbor_reconstruction as rar\n",
    "import pareto_functions as pf\n",
    "import plotly\n",
    "import matplotlib\n",
    "import networkx as nx\n",
    "import plotly.graph_objects as go\n",
    "import utils as ut\n",
    "import math\n",
    "import pylab\n",
    "import seaborn as sns\n",
    "import pandas as pd\n",
    "from constants import *\n",
    "import math\n",
    "import point_similarity as ps\n",
    "import scipy.integrate as integrate\n",
    "import mpmath\n",
    "#from scipy.misc import derivative\n",
    "import sys\n",
    "import os\n",
    "import warnings\n",
    "\n",
    "   # Ignore all deprecation warnings\n",
    "warnings.filterwarnings(\"ignore\", category=DeprecationWarning)\n",
    "warnings.filterwarnings(\"ignore\", category=RuntimeWarning)\n",
    "\n",
    "   \n",
    "def is_between(a, x, b):\n",
    "        return a < x < b or b < x < a\n",
    "        \n",
    "## returns the coefficients of the quadratic equation involving gravity\n",
    "def calc_coeff(G, x, y, p, q):\n",
    "    b = ((q - y - G*(p*p - x*x))/(p-x))\n",
    "    c = (q - G*p*p - b*p)\n",
    "\n",
    "    # assert (G * x * x) + (b * x) + c == y\n",
    "    # assert (G * p * p) + (b * p) + c == q\n",
    "\n",
    "    return b, c\n",
    "\n",
    "## checks if a line has a positive slope given two points\n",
    "def positive_slope(x0, y0, x1, y1):\n",
    "    if x0 == x1 or y0 == y1:\n",
    "        return False\n",
    "    slope = (y1 - y0)/(x1 - x0)\n",
    "    if slope >= 0:\n",
    "        return True\n",
    "    return False\n",
    "\n",
    "## simply just a distance function\n",
    "def length_func(x0, y0, x1, y1):\n",
    "    length = pylab.sqrt((x1 - x0)**2 + (y1 - y0)**2)\n",
    "    return length\n",
    "\n",
    "## a way to calculate theta based on two points\n",
    "def get_theta(x0, y0, x1, y1):\n",
    "    if x1 == x0 or y1 == y0:\n",
    "        return 0\n",
    "    theta = pylab.arctan((abs(y1 - y0))/(abs(x1 - x0)))\n",
    "    return theta\n",
    "\n",
    "## Returns the length of a curve (in this case a lateral root when gravity is not 0)\n",
    "def curve_length(G, x0, y0, p, q):\n",
    "    b, c = calc_coeff(G, x0, y0, p, q)\n",
    "    def differential(x):\n",
    "        return pylab.sqrt(1 + (2*G*x + b)**2)\n",
    "    curve, tolerance = integrate.quad(differential, min(x0, p), max(x0, p))\n",
    "    return curve\n",
    "\n",
    "## Returns the distance from a point to the base of the plant\n",
    "def distance_from_base(root_distance, x, y, x1, y1):\n",
    "    pair1 = [x, y]\n",
    "    pair2 = [x1, y1]\n",
    "    distance = math.dist(pair1, pair2)\n",
    "    if(x,y) == (x1, y1):\n",
    "        assert distance == 0\n",
    "    return distance + root_distance\n",
    "\n",
    "## Returns the total cost along with the wiring and delay used to calculate it\n",
    "def total_cost(alpha, G, root_distance, x0, y0, x1, y1, p, q):\n",
    "    curve = curve_length(G, x1, y1, p, q)\n",
    "    to_root = distance_from_base(root_distance, x0, y0, x1, y1)\n",
    "    wiring = curve\n",
    "    delay = (curve + to_root)\n",
    "    cost = (alpha * wiring) +  ((1 - alpha) * delay)\n",
    "    #print(\"curve = \", curve, \"to root = \" , to_root, \"wiring = \", wiring, \"delay = \", delay, \"total cost = \", cost)\n",
    "    #cost = curve + (1 - alpha) * distance_from_base(root_distance, x0, y0, x1, y1)\n",
    "    return cost, wiring, delay\n",
    "\n",
    "def find_best_cost(alpha, G, root_distance, x0, y0, x1, y1, p, q):\n",
    "    results = []\n",
    "    min_t = 0\n",
    "    delta = 0.01\n",
    "    max_t = 1\n",
    "    best_t = math.inf\n",
    "    best_cost = math.inf\n",
    "    best_wiring = math.inf\n",
    "    best_delay = math.inf\n",
    "    l = length_func(x0, y0, x1, y1)\n",
    "    theta = get_theta(x0, y0, x1, y1)\n",
    "    x_opt = None\n",
    "    y_opt = None\n",
    "    best_x = None\n",
    "    best_y = None\n",
    "    for t in pylab.arange(min_t, max_t + delta, delta):\n",
    "        is_positive = positive_slope(x0, y0, x1, y1)\n",
    "        new_x = None\n",
    "        new_y = None\n",
    "        if is_positive:\n",
    "            new_x = x0 + t*l*math.cos(theta)\n",
    "            new_y = y0 + t*l*math.sin(theta)\n",
    "        else:\n",
    "            new_x = x0 - (t*l*math.cos(theta))\n",
    "            new_y = y0 + (t*l*math.sin(theta))\n",
    "        x_curr = pylab.linspace(min(p, new_x), max(p, new_x))\n",
    "        cost, wiring, delay = total_cost(alpha, G, root_distance, x0, y0, new_x, new_y, p, q)\n",
    "        if cost <= best_cost:\n",
    "            best_cost = cost\n",
    "            best_wiring = wiring\n",
    "            best_delay = delay\n",
    "            best_t = t\n",
    "            b, c = calc_coeff(G, new_x, new_y, p, q)\n",
    "            best_x = new_x\n",
    "            best_y = new_y\n",
    "            #x_opt = x_curr\n",
    "            #y_opt = G * x_opt ** 2 + b * x_opt + c\n",
    "        '''\n",
    "        if t % 0.2 == 0:\n",
    "            b, c = calc_coeff(G, new_x, new_y, p, q)\n",
    "            y_inter =  G * x_curr ** 2 + b * x_curr + c\n",
    "            intermediate_line = go.Scatter(x = x_curr,y = y_inter, mode = \"lines\", name = str(cost))\n",
    "            fig.add_trace(intermediate_line)\n",
    "           '''\n",
    "        results.append(cost)\n",
    "    ##opt_line = go.Scatter(x = x_opt, y = y_opt, mode = \"lines\", name = \"Optimal: \" + str(best_cost))\n",
    "    ##fig.add_trace(opt_line)\n",
    "    return best_cost, best_wiring, best_delay, best_t, best_x, best_y, p, q\n",
    "\n",
    "def arbor_best_cost(fname, alpha, G, root_distance):\n",
    "    arbor = rar.read_arbor_full(fname)\n",
    "    main_root = []\n",
    "    lat_tips = []\n",
    "    line_segments = {}\n",
    "    point_drawing = go.Figure()\n",
    "    for node in arbor.nodes():\n",
    "        if arbor.nodes[node][\"label\"] == (\"main root\") or arbor.nodes[node][\"label\"] == (\"main root base\"):\n",
    "            main_root.append(node)\n",
    "        if arbor.nodes[node][\"label\"] == (\"lateral root tip\"):\n",
    "            lat_tips.append(node)\n",
    "    for i in range(1, len(main_root)):\n",
    "        line_segments[i] = main_root[i - 1], main_root[i]\n",
    "\n",
    "    # for each lateral root tip iterate through every line segment to find lowest costing point on main root\n",
    "    final = []\n",
    "    for tip in lat_tips:\n",
    "        curr_dist = 0\n",
    "        results = []\n",
    "        firstTime = True\n",
    "        p = tip[0]\n",
    "        q = tip[1]\n",
    "        for seg in line_segments:\n",
    "            x0 = line_segments[seg][0][0]\n",
    "            y0 = line_segments[seg][0][1]\n",
    "            x1 = line_segments[seg][1][0]\n",
    "            y1 = line_segments[seg][1][1]\n",
    "            if firstTime == True:\n",
    "                result = find_best_cost(alpha, G, root_distance, x0, y0, x1, y1, p, q)\n",
    "                curr_dist += length_func(x0, y0, x1, y1)\n",
    "                firstTime = False\n",
    "            else:\n",
    "                result = find_best_cost(alpha, G, root_distance + curr_dist, x0, y0, x1, y1, p, q)\n",
    "                curr_dist += length_func(x0, y0, x1, y1)\n",
    "            results.append(result)\n",
    "        final.append(min(results))\n",
    "\n",
    "    return final\n",
    "\n",
    "\n",
    "def graph_opt_lines(graph, final):\n",
    "    for result in final:\n",
    "        x0 = result[2]\n",
    "        y0 = result[3]\n",
    "        p = result[4]\n",
    "        q = result[5]\n",
    "        first_point = x0, y0\n",
    "        second_point = p, q\n",
    "        G = graph.graph['Gravity']\n",
    "        b, c = calc_coeff(G, x0, y0, p, q)\n",
    "        graph.add_node(first_point, pos=first_point)\n",
    "        graph.add_node(second_point, pos=second_point)\n",
    "        graph.add_edge(first_point, second_point, b = b, c = c)\n",
    "    return graph\n",
    "\n",
    "def get_line_segments(arbor):\n",
    "    line_segments = {}\n",
    "    main_root = []\n",
    "    for node in arbor.nodes():\n",
    "        if arbor.nodes[node][\"label\"] == (\"main root\") or arbor.nodes[node][\"label\"] == (\"main root base\"):\n",
    "            main_root.append(node)\n",
    "    for i in range(1, len(main_root)):\n",
    "        line_segments[i] = main_root[i - 1], main_root[i]\n",
    "    return line_segments\n",
    "\n",
    "\n",
    "def graph_main_root(graph, line_segments):\n",
    "     for seg in line_segments:\n",
    "        x0 = line_segments[seg][0][0]\n",
    "        y0 = line_segments[seg][0][1]\n",
    "        x1 = line_segments[seg][1][0]\n",
    "        y1 = line_segments[seg][1][1]\n",
    "        first_point = x0, y0\n",
    "        second_point = x1, y1\n",
    "\n",
    "\n",
    "        graph.add_node(first_point, pos=first_point)\n",
    "        graph.add_node(second_point, pos=second_point)\n",
    "        graph.add_edge(first_point, second_point)\n",
    "\n",
    "\n",
    "def modified_line_equation(G, main_root, lateral_tip):\n",
    "    x, y = main_root\n",
    "    p, q = lateral_tip\n",
    "    if G == 0:\n",
    "        m = (q - y) / (p - x)\n",
    "        y_int = y - m * x\n",
    "        return m, y_int\n",
    "    else:\n",
    "        b, c = calc_coeff(G, x, y, p, q)\n",
    "        return b, c\n",
    "\n",
    "def modified_calculate_distance(gravity, G, G_opt, main_root, lateral_tip):\n",
    "    opt_y_coords, actual_y_coords = modified_fill_lateral_root(gravity, G, G_opt, main_root, lateral_tip)\n",
    "    distances = []\n",
    "\n",
    "    for x in range(len(opt_y_coords)):\n",
    "        diff_square = (opt_y_coords[x] - actual_y_coords[x]) ** 2\n",
    "        distances.append(diff_square)\n",
    "\n",
    "    return sum(distances)\n",
    "\n",
    "\n",
    "def modified_fill_lateral_root(gravity, G, G_opt, main_root, lateral_tip) :\n",
    "\n",
    "    ## This method uses the lateral tip and main root to fill in points of the lateral root\n",
    "    ## in order to perform distance calculation\n",
    "\n",
    "    # get coefficients\n",
    "    if gravity == 0:\n",
    "        m, y_int = modified_line_equation(gravity, main_root, lateral_tip)\n",
    "    else:\n",
    "        b, c = modified_line_equation(gravity, main_root, lateral_tip)\n",
    "\n",
    "\n",
    "    observed = {}\n",
    "    optimal = {}\n",
    "    observed, optimal = ps.create_dict(G, G_opt)\n",
    "    backwards = {}\n",
    "\n",
    "    ## reverses observed dictionary\n",
    "    for node in reversed(observed):\n",
    "        backwards[node] = observed[node]\n",
    "\n",
    "    tip_found = False\n",
    "    encountered_observed = []\n",
    "    index = len(G.nodes) - 2\n",
    "\n",
    "    ## loop backwards\n",
    "    for node in backwards :\n",
    "        if G.nodes[node]['label'] == \"lateral root tip\" and tip_found:\n",
    "            break\n",
    "        if lateral_tip == node:\n",
    "            tip_found = True\n",
    "           # print(\"tip was found\")\n",
    "            continue\n",
    "        if tip_found == True and (list(G.nodes(data = True))[index][1][\"label\"] == \"lateral root\"):\n",
    "           # print(\"not a tip\")\n",
    "            encountered_observed.append(node)\n",
    "        index -= 1\n",
    "\n",
    "    ## need to calculate points based on observed x-coordinates and line equation\n",
    "    x_coords = []\n",
    "    y_coords = []\n",
    "    count = -1\n",
    "    for point in encountered_observed:\n",
    "        for coords in point:\n",
    "          count += 1\n",
    "          if count % 2 == 0 :\n",
    "              x_coords.append(coords)\n",
    "          else :\n",
    "              y_coords.append(coords)\n",
    "    added_nodes = []\n",
    "    if gravity == 0:\n",
    "        for x in x_coords:\n",
    "            added_nodes.append(m * x + y_int)\n",
    "    else:\n",
    "        for x in x_coords:\n",
    "            added_nodes.append(gravity*x*x + b*x + c)\n",
    "\n",
    "    return added_nodes, y_coords\n",
    "    \n",
    "def get_closest_and_valid_segments(lat_tips, line_segments):\n",
    "    all_closest = []\n",
    "    all_valid_segs = []\n",
    "    \n",
    "    for tip in lat_tips: \n",
    "        best_distance = math.inf\n",
    "        best_seg = None\n",
    "        best_seg_num = None\n",
    "        tip_x, tip_y = tip\n",
    "\n",
    "        for num, seg in line_segments.items():\n",
    "            x0, y0 = seg[0]\n",
    "            x1, y1 = seg[1]\n",
    "\n",
    "            A = (x0 - tip_x) * (x1 - x0) + (y0 - tip_y) * (y1 - y0)\n",
    "            B = (x1 - x0)**2 + (y1 - y0)**2\n",
    "            t = A / B if B != 0 else -1\n",
    "\n",
    "            if 0 <= t <= 1:\n",
    "                c = abs(((x1 - x0) * (y0 - tip_y)) - ((y1 - y0) * (x0 - tip_x)))\n",
    "                d = c / math.sqrt(B)\n",
    "            else:\n",
    "                d1 = math.sqrt((x1 - tip_x) ** 2 + (y1 - tip_y) ** 2)\n",
    "                d2 = math.sqrt((x0 - tip_x) ** 2 + (y0 - tip_y) ** 2)\n",
    "                d = min(d1, d2)\n",
    "\n",
    "            if d < best_distance:\n",
    "                best_distance = d\n",
    "                best_seg = seg\n",
    "                best_seg_num = num\n",
    "\n",
    "        all_closest.append(best_seg)\n",
    "\n",
    "        # Collect valid segments (those before the closest one)\n",
    "        valid = []\n",
    "        for num, seg in line_segments.items():\n",
    "            if seg[1][1] <= best_seg[1][1]:\n",
    "                valid.append(seg)\n",
    "            else:\n",
    "                continue\n",
    "        all_valid_segs.append(valid)\n",
    "\n",
    "    return all_closest, all_valid_segs\n",
    "    \n",
    "def comparison_arbor_best_cost(fname, alpha, G, root_distance, fig, k):\n",
    "    final = []\n",
    "    arbor = rar.read_arbor_full(fname)\n",
    "    point_drawing = go.Figure()\n",
    "    main_root = []\n",
    "    lat_tips = []\n",
    "    line_segments = {}\n",
    "    #point_drawing = go.Figure()\n",
    "    for node in arbor.nodes():\n",
    "        if arbor.nodes[node][\"label\"] == (\"main root\") or arbor.nodes[node][\"label\"] == (\"main root base\"):\n",
    "            main_root.append(node)\n",
    "        if arbor.nodes[node][\"label\"] == (\"lateral root tip\"):\n",
    "            lat_tips.append(node)\n",
    "    for i in range(1, len(main_root)):\n",
    "        line_segments[i] = main_root[i - 1], main_root[i]\n",
    "\n",
    "    #closest_segs = get_closest_main_seg(lat_tips, line_segments)\n",
    "    tip_number = 0\n",
    "    #closest_segs = []\n",
    "    #valid_segs = []\n",
    "    closest_segs, all_valid_segs = get_closest_and_valid_segments(lat_tips, line_segments)\n",
    "    for tip in lat_tips: \n",
    "        #print(\"Lateral root #: \" + str(tip_number + 1))\n",
    "        curr_dist = 0\n",
    "        results = []\n",
    "        valid_segs = all_valid_segs[tip_number]\n",
    "        firstTime = True\n",
    "        for seg in valid_segs: \n",
    "                \n",
    "            x0, y0 = seg[0]\n",
    "            x0_temp, y0_temp = seg[0]\n",
    "            x0 -= x0\n",
    "            y0 -= y0\n",
    "            #print(\"Point 1: \" + str(x0) + \", \" + str(y0))\n",
    "            x1, y1 = seg[1]\n",
    "            x1 -= x0_temp\n",
    "            y1 -= y0_temp\n",
    "            #print(\"Point 2: \" + str(x1) + \", \" + str(y1))\n",
    "            p, q = tip\n",
    "            p -= x0_temp\n",
    "            q -= y0_temp\n",
    "            #print(\"Tip: \" + str(p) + \", \" + str(q))\n",
    "            # if the tip is in between a segment, brute force the segment\n",
    "            if is_between(x0, tip[0], x1):\n",
    "                if firstTime == True:\n",
    "                    result = find_best_cost(alpha, G, root_distance, x0, y0, x1, y1, p, q)\n",
    "                    curr_dist += length_func(x0, y0, x1, y1)\n",
    "                    firstTime = False\n",
    "                else:\n",
    "                    result = find_best_cost(alpha, G, root_distance + curr_dist, x0, y0, x1, y1, p, q)\n",
    "                    curr_dist += length_func(x0, y0, x1, y1)\n",
    "                results.append(result)\n",
    "                \n",
    "            # if the tip is not in between a segment, use Dr. Richard's equation\n",
    "            else:\n",
    "                result = 0\n",
    "                import math\n",
    "                def cos(t):\n",
    "                    return math.cos(t)\n",
    "                def sin(t):\n",
    "                    return math.sin(t)\n",
    "                def sqrt(t):\n",
    "                    return math.sqrt(t)\n",
    "                \n",
    "                l = math.sqrt((x1 - x0)**2 + (y1 - y0)**2)\n",
    "                #print(\"Length is \" + str(l))\n",
    "                #theta = (math.pi)/3\n",
    "                theta = get_theta(x0, y0, x1, y1)\n",
    "                #print(\"Theta is \" + str(theta))\n",
    "                # Recalculate A1–E1 based on current l, theta, G, p, q\n",
    "                A1=G*(l*cos(theta))**2\n",
    "                B1=-l*sin(theta)\n",
    "                C1=q-G*p**2\n",
    "                D1=-l*cos(theta)\n",
    "                E1=p\n",
    "                #print(A1, B1, C1, D1, E1)\n",
    "                # Define b(t), b'(t), cost'(t)\n",
    "                def b(t): \n",
    "                    return (A1*t**2+B1*t+C1)/(D1*t+E1)\n",
    "                def bprime(t):\n",
    "                    return ((D1*t+E1)*(2*A1*t+B1)-D1*(A1*t**2+B1*t+C1))/(D1*t+E1)**2\n",
    "                def costprime(t):\n",
    "                    return (bprime(t)/(2*G))*(sqrt(1+(2*G*p+b(t))**2)-sqrt(1+(2*G*t*l*cos(theta)+b(t))**2))+(1-alpha)*l-sqrt(1+(2*G*t*l*cos(theta)+b(t))**2)*l*cos(theta)\n",
    "                    \n",
    "\n",
    "                import numpy as np\n",
    "                import matplotlib.pyplot as plt\n",
    "                \n",
    "                #ts = np.linspace(0, 1, 100)\n",
    "                #vals = [costprime(t) for t in ts]\n",
    "                #plt.plot(ts, vals, label='costprime(t)')\n",
    "                #plt.axhline(0, color='gray', linestyle='--')\n",
    "                #plt.legend()\n",
    "                #plt.show()\n",
    "                def find_multiple_roots(func, x_range, num_guesses=100):\n",
    "                    roots = []\n",
    "                    guesses = np.linspace(x_range[0], x_range[1], num_guesses)\n",
    "                    for guess in guesses:\n",
    "                        try:\n",
    "                            root = fsolve(func, guess)[0]\n",
    "                            if not any(np.isclose(root, r) for r in roots):\n",
    "                                roots.append(root)\n",
    "                        except:\n",
    "                            pass\n",
    "                    return sorted(roots)\n",
    "                import numpy as np\n",
    "                from scipy.optimize import fsolve\n",
    "                def f(x):\n",
    "                    return costprime(x)\n",
    "                # Find root(s) of costprime in [0, 1]\n",
    "                roots = find_multiple_roots(f, [0, 1], num_guesses=1)\n",
    "                #print(\"roots of costprime(x) =\",roots)\n",
    "                valid_roots = [r for r in roots if 0 <= r <= 1]\n",
    "                #print(valid_roots)\n",
    "            \n",
    "                # Define the full cost function if not already\n",
    "                def cost(t):\n",
    "                    if is_positive:\n",
    "                        end_segx = x0 + t*l*math.cos(theta)\n",
    "                        end_segy = y0 + t*l*math.sin(theta)\n",
    "                    else:\n",
    "                        end_segx = x0 - (t*l*math.cos(theta))\n",
    "                        end_segy = y0 + (t*l*math.sin(theta))\n",
    "                    return total_cost(alpha, G, root_distance + curr_dist, x0, y0, end_segx, end_segy, p, q)[0]\n",
    "\n",
    "                # reshift the points\n",
    "                x0, y0 = seg[0]\n",
    "                #print(\"Point 1: \" + str(x0) + \", \" + str(y0))\n",
    "                x1, y1 = seg[1]\n",
    "                is_positive = positive_slope(x0, y0, x1, y1)\n",
    "                #print(\"Point 2: \" + str(x1) + \", \" + str(y1))\n",
    "                p, q = tip\n",
    "                \n",
    "                # Get cost at valid root(s)\n",
    "                if valid_roots:\n",
    "                    #print(valid_roots)\n",
    "                    min_root = min(valid_roots, key=lambda t: cost(t))\n",
    "                    best_t = min_root\n",
    "                    if is_positive:\n",
    "                        best_x = x0 + best_t*l*math.cos(theta)\n",
    "                        best_y = y0 + best_t*l*math.sin(theta)\n",
    "                    else:\n",
    "                        best_x = x0 - (best_t*l*math.cos(theta))\n",
    "                        best_y = y0 + (best_t*l*math.sin(theta))\n",
    "                    curve = curve_length(G, best_x, best_y, p, q)\n",
    "                    to_root = distance_from_base(root_distance, x0, y0, best_x, best_y)\n",
    "                    wiring = curve\n",
    "                    delay = (curve + to_root)\n",
    "                    result = (cost(min_root), wiring, delay, best_t, best_x, best_y, p, q)\n",
    "                    curr_dist += length_func(x0, y0, x1, y1)\n",
    "                else: \n",
    "                    # No root in [0,1], so check endpoints\n",
    "                    cost_0 = cost(0)\n",
    "                    cost_1 = cost(1)\n",
    "                    if cost_0 < cost_1:\n",
    "                        best_t = 0.0\n",
    "                        best_x = x0\n",
    "                        best_y = y0\n",
    "                    else:\n",
    "                        best_t = 1.0\n",
    "                        best_x = x1\n",
    "                        best_y = y1\n",
    "                    #print(result)\n",
    "                    curve = curve_length(G, best_x, best_y, p, q)\n",
    "                    to_root = distance_from_base(root_distance, x0, y0, best_x, best_y)\n",
    "                    wiring = curve\n",
    "                    delay = (curve + to_root)\n",
    "                    result = (min(cost_0, cost_1), wiring, delay, best_t, best_x, best_y, p, q)\n",
    "                    curr_dist += length_func(x0, y0, x1, y1)\n",
    "                    \n",
    "                results.append(result)\n",
    "        if results:\n",
    "            final.append(min(results))\n",
    "        else:\n",
    "            print(f\"Warning: No valid results for lateral tip #{tip_number} at {tip}\")\n",
    "            final.append(float('inf'))  # or some sentinel value       \n",
    "        #final.append(min(results))\n",
    "        tip_number += 1\n",
    "        \n",
    "    colors = plotly.colors.qualitative.Plotly\n",
    "    color = colors[k % len(colors)]\n",
    "    legend_group = f\"group_{k}\"\n",
    "    legend_group2 = f\"group{0.5}\"\n",
    "    pq_drawings = get_tip_drawings(lat_tips)\n",
    "    for p_and_q in pq_drawings:\n",
    "        fig.add_trace(p_and_q)\n",
    "    \n",
    "    #segment_drawings = get_line_segment_drawings(line_segments, color = \"grey\")\n",
    "    #for h, line in enumerate(segment_drawings):\n",
    "        #line.legendgroup = legend_group2\n",
    "        #line.showlegend = (k == 0 and h == 0)\n",
    "        #if line.showlegend:\n",
    "         #   line.name = \"Main Root\"\n",
    "        #else: \n",
    "           # line.name = None\n",
    "       # fig.add_trace(line)\n",
    "\n",
    "    opt_lines = get_opt_to_pq_drawings(G, final, color = color, label = str((G, alpha)))\n",
    "    for opt in opt_lines:\n",
    "        opt.legendgroup = legend_group\n",
    "        fig.add_trace(opt)"
   ]
  },
  {
   "cell_type": "code",
   "execution_count": null,
   "id": "0d27872e-ecc7-4947-8df0-5cffb8549144",
   "metadata": {},
   "outputs": [],
   "source": []
  },
  {
   "cell_type": "code",
   "execution_count": 237,
   "id": "d0a4b705-0b1b-4f52-9c22-b674293df9ae",
   "metadata": {},
   "outputs": [],
   "source": [
    "# parameters: (arbor name, list of (G, alpha) tuples but accepts \"opt\")\n",
    "# and then draws that arbor along with the optimal arbor for that G/alpha. \n",
    "\n",
    "def arbor_comparison(fname, combinations):\n",
    "    arbor = rar.read_arbor_full(fname)\n",
    "    fname_base = os.path.splitext(os.path.basename(fname))[0]\n",
    "    fig = go.Figure()\n",
    "    j = 0\n",
    "    ## drawing observed arbor\n",
    "    for start, end in list(arbor.edges()):\n",
    "        x0, y0 = start\n",
    "        x1, y1 = end\n",
    "        fig.add_trace(go.Scatter(x=[x0, x1], y=[y0, y1], \n",
    "                                 mode='lines', name='Observed Arbor' if j == 0 else None,\n",
    "                                 showlegend =(j == 0),\n",
    "                                 legendgroup=\"observed_arbor\",\n",
    "                                 line=dict(color='black')))\n",
    "        j+=1\n",
    "\n",
    "    ## loop through each G, alpha combination and draw optimal arbors\n",
    "    for k, combo in enumerate(combinations):\n",
    "        G = None\n",
    "        alpha = None\n",
    "        if combo == \"opt\":\n",
    "            with open(\"data/results/best_of_best.csv\", 'r') as f:\n",
    "                reader = csv.reader(f)\n",
    "                for row in reader:\n",
    "                    if row[0].strip() == fname_base:\n",
    "                        G = float(row[1].strip())\n",
    "                        alpha = float(row[2].strip())\n",
    "                        break\n",
    "                if G == None:\n",
    "                    print(\"file was not found\")\n",
    "            # look up optimal combo for arbor\n",
    "            # set G and alpha values \n",
    "        else:\n",
    "            G, alpha = combo\n",
    "        comparison_arbor_best_cost(fname, alpha, G, 0, fig, k)\n",
    "    fig.show()\n",
    "    "
   ]
  },
  {
   "cell_type": "code",
   "execution_count": 167,
   "id": "988197f9-912e-49ad-a132-941f044a8bf5",
   "metadata": {},
   "outputs": [],
   "source": [
    "def graph_opt_lines(graph, final):\n",
    "    for result in final:\n",
    "        x0 = result[2]\n",
    "        y0 = result[3]\n",
    "        p = result[4]\n",
    "        q = result[5]\n",
    "        first_point = x0, y0\n",
    "        second_point = p, q\n",
    "        G = graph.graph['Gravity']\n",
    "        b, c = calc_coeff(G, x0, y0, p, q)\n",
    "        graph.add_node(first_point, pos=first_point)\n",
    "        graph.add_node(second_point, pos=second_point)\n",
    "        graph.add_edge(first_point, second_point, b = b, c = c)\n",
    "    return graph\n",
    "    \n",
    "def get_line_segment_drawings(line_segments, color = \"gray\", label = \"Main Root\", show_legend=True):\n",
    "    segment_drawings = []\n",
    "    i = 0\n",
    "    for seg in line_segments:\n",
    "        x0 = line_segments[seg][0][0]\n",
    "        y0 = line_segments[seg][0][1] \n",
    "        x1 = line_segments[seg][1][0]\n",
    "        y1 = line_segments[seg][1][1]\n",
    "\n",
    "        xpoints = [x0, x1]\n",
    "        ypoints = [y0, y1]\n",
    "\n",
    "        segment = go.Scatter(x= xpoints, y=ypoints, mode = 'lines', \n",
    "                             name=label if i == 0  and show_legend else None,\n",
    "                            showlegend = (i == 0 and show_legend), \n",
    "                             line=dict(color = color))\n",
    "        i+=1\n",
    "        segment_drawings.append(segment)\n",
    "    return segment_drawings\n",
    "\n",
    "def get_tip_drawings(lat_tips, color = \"orange\"):\n",
    "    pq_drawings = []\n",
    "    for tip in lat_tips:\n",
    "        p = tip[0]\n",
    "        q = tip[1]\n",
    "        pq = go.Scatter(x = [p], y= [q], line=dict(color = color), showlegend = False)\n",
    "        pq_drawings.append(pq)\n",
    "    return pq_drawings\n",
    "    \n",
    "def get_line_segments(arbor):\n",
    "    line_segments = {}\n",
    "    main_root = []\n",
    "    for node in arbor.nodes():\n",
    "        if arbor.nodes[node][\"label\"] == (\"main root\") or arbor.nodes[node][\"label\"] == (\"main root base\"):\n",
    "            main_root.append(node)\n",
    "    for i in range(1, len(main_root)):\n",
    "        line_segments[i] = main_root[i - 1], main_root[i]\n",
    "    return line_segments\n",
    "\n",
    "def create_graphs(fname, alpha):\n",
    "    G = rar.read_arbor_full(fname)\n",
    "    G_opt = pf.opt_arbor(G, alpha)\n",
    "    return G, G_opt\n",
    "\n",
    "def get_opt_to_pq_drawings(gravity, final, color=\"blue\", label=\"Optimal PQs\", show_legend=True):\n",
    "    drawings = []\n",
    "    i = 0\n",
    "    for result in final:\n",
    "        if gravity == 0:\n",
    "            x0 = result[4]\n",
    "            y0 = result[5]\n",
    "            p = result[6]\n",
    "            q = result[7]\n",
    "            xcoords = [p, x0]\n",
    "            ycoords = [q, y0]\n",
    "        \n",
    "            line = go.Scatter(x=xcoords, y=ycoords, \n",
    "                              mode = 'lines', \n",
    "                              name = label if i == 0 and show_legend else None, \n",
    "                              showlegend = (i == 0 and show_legend), \n",
    "                              line=dict(color = color))\n",
    "            i+=1\n",
    "        else: \n",
    "            x0 = result[4]\n",
    "            y0 = result[5]\n",
    "            p = result[6]\n",
    "            q = result[7]\n",
    "            b, c = calc_coeff(gravity, x0, y0, p, q)\n",
    "            x_opt = pylab.linspace(min(p, x0), max(p, x0))\n",
    "            y_opt = gravity * x_opt ** 2 + b * x_opt + c\n",
    "            line = go.Scatter(x=x_opt, y=y_opt, \n",
    "                              mode = 'lines', \n",
    "                              name = label if i == 0 and show_legend else None, \n",
    "                              showlegend = (i == 0 and show_legend), \n",
    "                              line=dict(color = color))\n",
    "            i+=1\n",
    "        drawings.append(line)\n",
    "        \n",
    "    return drawings\n",
    "    \n",
    "def graph_main_root(graph, line_segments):\n",
    "     for seg in line_segments:\n",
    "        x0 = line_segments[seg][0][0]\n",
    "        y0 = line_segments[seg][0][1]\n",
    "        x1 = line_segments[seg][1][0]\n",
    "        y1 = line_segments[seg][1][1]\n",
    "        first_point = x0, y0\n",
    "        second_point = x1, y1\n",
    "\n",
    "\n",
    "        graph.add_node(first_point, pos=first_point)\n",
    "        graph.add_node(second_point, pos=second_point)\n",
    "        graph.add_edge(first_point, second_point)"
   ]
  },
  {
   "cell_type": "code",
   "execution_count": 238,
   "id": "5f6c86dd-d383-4e35-bc53-2d299197124e",
   "metadata": {},
   "outputs": [
    {
     "data": {
      "application/vnd.plotly.v1+json": {
       "config": {
        "plotlyServerURL": "https://plot.ly"
       },
       "data": [
        {
         "legendgroup": "observed_arbor",
         "line": {
          "color": "black"
         },
         "mode": "lines",
         "name": "Observed Arbor",
         "showlegend": true,
         "type": "scatter",
         "x": [
          6.59943,
          6.580209
         ],
         "y": [
          4.970807,
          5.240603
         ]
        },
        {
         "legendgroup": "observed_arbor",
         "line": {
          "color": "black"
         },
         "mode": "lines",
         "showlegend": false,
         "type": "scatter",
         "x": [
          6.59943,
          6.75415
         ],
         "y": [
          4.970807,
          5.061972
         ]
        },
        {
         "legendgroup": "observed_arbor",
         "line": {
          "color": "black"
         },
         "mode": "lines",
         "showlegend": false,
         "type": "scatter",
         "x": [
          6.580209,
          6.545251
         ],
         "y": [
          5.240603,
          5.359293
         ]
        },
        {
         "legendgroup": "observed_arbor",
         "line": {
          "color": "black"
         },
         "mode": "lines",
         "showlegend": false,
         "type": "scatter",
         "x": [
          6.580209,
          6.585236
         ],
         "y": [
          5.240603,
          5.225407
         ]
        },
        {
         "legendgroup": "observed_arbor",
         "line": {
          "color": "black"
         },
         "mode": "lines",
         "showlegend": false,
         "type": "scatter",
         "x": [
          6.580209,
          6.574815
         ],
         "y": [
          5.240603,
          5.171033
         ]
        },
        {
         "legendgroup": "observed_arbor",
         "line": {
          "color": "black"
         },
         "mode": "lines",
         "showlegend": false,
         "type": "scatter",
         "x": [
          6.545251,
          6.469964
         ],
         "y": [
          5.359293,
          5.573705
         ]
        },
        {
         "legendgroup": "observed_arbor",
         "line": {
          "color": "black"
         },
         "mode": "lines",
         "showlegend": false,
         "type": "scatter",
         "x": [
          6.545251,
          6.570166
         ],
         "y": [
          5.359293,
          5.336647
         ]
        },
        {
         "legendgroup": "observed_arbor",
         "line": {
          "color": "black"
         },
         "mode": "lines",
         "showlegend": false,
         "type": "scatter",
         "x": [
          6.545251,
          6.609631
         ],
         "y": [
          5.359293,
          5.44671
         ]
        },
        {
         "legendgroup": "observed_arbor",
         "line": {
          "color": "black"
         },
         "mode": "lines",
         "showlegend": false,
         "type": "scatter",
         "x": [
          6.545251,
          6.521944
         ],
         "y": [
          5.359293,
          5.341106
         ]
        },
        {
         "legendgroup": "observed_arbor",
         "line": {
          "color": "black"
         },
         "mode": "lines",
         "showlegend": false,
         "type": "scatter",
         "x": [
          6.545251,
          6.468895
         ],
         "y": [
          5.359293,
          5.421427
         ]
        },
        {
         "legendgroup": "observed_arbor",
         "line": {
          "color": "black"
         },
         "mode": "lines",
         "showlegend": false,
         "type": "scatter",
         "x": [
          6.469964,
          6.412194
         ],
         "y": [
          5.573705,
          5.721106
         ]
        },
        {
         "legendgroup": "observed_arbor",
         "line": {
          "color": "black"
         },
         "mode": "lines",
         "showlegend": false,
         "type": "scatter",
         "x": [
          6.469964,
          6.471485
         ],
         "y": [
          5.573705,
          5.505564
         ]
        },
        {
         "legendgroup": "observed_arbor",
         "line": {
          "color": "black"
         },
         "mode": "lines",
         "showlegend": false,
         "type": "scatter",
         "x": [
          6.412194,
          6.374385
         ],
         "y": [
          5.721106,
          5.829156
         ]
        },
        {
         "legendgroup": "observed_arbor",
         "line": {
          "color": "black"
         },
         "mode": "lines",
         "showlegend": false,
         "type": "scatter",
         "x": [
          6.412194,
          6.43287
         ],
         "y": [
          5.721106,
          5.674511
         ]
        },
        {
         "legendgroup": "observed_arbor",
         "line": {
          "color": "black"
         },
         "mode": "lines",
         "showlegend": false,
         "type": "scatter",
         "x": [
          6.374385,
          6.341991
         ],
         "y": [
          5.829156,
          5.934545
         ]
        },
        {
         "legendgroup": "observed_arbor",
         "line": {
          "color": "black"
         },
         "mode": "lines",
         "showlegend": false,
         "type": "scatter",
         "x": [
          6.374385,
          6.395472
         ],
         "y": [
          5.829156,
          5.850314
         ]
        },
        {
         "legendgroup": "observed_arbor",
         "line": {
          "color": "black"
         },
         "mode": "lines",
         "showlegend": false,
         "type": "scatter",
         "x": [
          6.341991,
          6.298894
         ],
         "y": [
          5.934545,
          6.05332
         ]
        },
        {
         "legendgroup": "observed_arbor",
         "line": {
          "color": "black"
         },
         "mode": "lines",
         "showlegend": false,
         "type": "scatter",
         "x": [
          6.341991,
          6.355509
         ],
         "y": [
          5.934545,
          5.945794
         ]
        },
        {
         "legendgroup": "observed_arbor",
         "line": {
          "color": "black"
         },
         "mode": "lines",
         "showlegend": false,
         "type": "scatter",
         "x": [
          6.298894,
          6.274678
         ],
         "y": [
          6.05332,
          6.152486
         ]
        },
        {
         "legendgroup": "observed_arbor",
         "line": {
          "color": "black"
         },
         "mode": "lines",
         "showlegend": false,
         "type": "scatter",
         "x": [
          6.274678,
          6.255685
         ],
         "y": [
          6.152486,
          6.248068
         ]
        },
        {
         "legendgroup": "observed_arbor",
         "line": {
          "color": "black"
         },
         "mode": "lines",
         "showlegend": false,
         "type": "scatter",
         "x": [
          6.255685,
          6.247029
         ],
         "y": [
          6.248068,
          6.335054
         ]
        },
        {
         "legendgroup": "observed_arbor",
         "line": {
          "color": "black"
         },
         "mode": "lines",
         "showlegend": false,
         "type": "scatter",
         "x": [
          6.247029,
          6.247491
         ],
         "y": [
          6.335054,
          6.436426
         ]
        },
        {
         "legendgroup": "observed_arbor",
         "line": {
          "color": "black"
         },
         "mode": "lines",
         "showlegend": false,
         "type": "scatter",
         "x": [
          6.247491,
          6.252254
         ],
         "y": [
          6.436426,
          6.555284
         ]
        },
        {
         "legendgroup": "observed_arbor",
         "line": {
          "color": "black"
         },
         "mode": "lines",
         "showlegend": false,
         "type": "scatter",
         "x": [
          6.252254,
          6.264871
         ],
         "y": [
          6.555284,
          6.6588
         ]
        },
        {
         "legendgroup": "observed_arbor",
         "line": {
          "color": "black"
         },
         "mode": "lines",
         "showlegend": false,
         "type": "scatter",
         "x": [
          6.264871,
          6.294867
         ],
         "y": [
          6.6588,
          6.76606
         ]
        },
        {
         "legendgroup": "observed_arbor",
         "line": {
          "color": "black"
         },
         "mode": "lines",
         "showlegend": false,
         "type": "scatter",
         "x": [
          6.294867,
          6.331164
         ],
         "y": [
          6.76606,
          6.888063
         ]
        },
        {
         "legendgroup": "observed_arbor",
         "line": {
          "color": "black"
         },
         "mode": "lines",
         "showlegend": false,
         "type": "scatter",
         "x": [
          6.294867,
          6.323501
         ],
         "y": [
          6.76606,
          6.726165
         ]
        },
        {
         "legendgroup": "observed_arbor",
         "line": {
          "color": "black"
         },
         "mode": "lines",
         "showlegend": false,
         "type": "scatter",
         "x": [
          6.294867,
          6.316069
         ],
         "y": [
          6.76606,
          6.73862
         ]
        },
        {
         "legendgroup": "observed_arbor",
         "line": {
          "color": "black"
         },
         "mode": "lines",
         "showlegend": false,
         "type": "scatter",
         "x": [
          6.331164,
          6.373338
         ],
         "y": [
          6.888063,
          6.983088
         ]
        },
        {
         "legendgroup": "observed_arbor",
         "line": {
          "color": "black"
         },
         "mode": "lines",
         "showlegend": false,
         "type": "scatter",
         "x": [
          6.331164,
          6.395408
         ],
         "y": [
          6.888063,
          6.843528
         ]
        },
        {
         "legendgroup": "observed_arbor",
         "line": {
          "color": "black"
         },
         "mode": "lines",
         "showlegend": false,
         "type": "scatter",
         "x": [
          6.331164,
          6.293637
         ],
         "y": [
          6.888063,
          6.835186
         ]
        },
        {
         "legendgroup": "observed_arbor",
         "line": {
          "color": "black"
         },
         "mode": "lines",
         "showlegend": false,
         "type": "scatter",
         "x": [
          6.373338,
          6.424831
         ],
         "y": [
          6.983088,
          7.093924
         ]
        },
        {
         "legendgroup": "observed_arbor",
         "line": {
          "color": "black"
         },
         "mode": "lines",
         "showlegend": false,
         "type": "scatter",
         "x": [
          6.424831,
          6.46764
         ],
         "y": [
          7.093924,
          7.186065
         ]
        },
        {
         "legendgroup": "observed_arbor",
         "line": {
          "color": "black"
         },
         "mode": "lines",
         "showlegend": false,
         "type": "scatter",
         "x": [
          6.46764,
          6.515958
         ],
         "y": [
          7.186065,
          7.285043
         ]
        },
        {
         "legendgroup": "observed_arbor",
         "line": {
          "color": "black"
         },
         "mode": "lines",
         "showlegend": false,
         "type": "scatter",
         "x": [
          6.46764,
          6.557433
         ],
         "y": [
          7.186065,
          7.183967
         ]
        },
        {
         "legendgroup": "observed_arbor",
         "line": {
          "color": "black"
         },
         "mode": "lines",
         "showlegend": false,
         "type": "scatter",
         "x": [
          6.515958,
          6.573867
         ],
         "y": [
          7.285043,
          7.389241
         ]
        },
        {
         "legendgroup": "observed_arbor",
         "line": {
          "color": "black"
         },
         "mode": "lines",
         "showlegend": false,
         "type": "scatter",
         "x": [
          6.573867,
          6.629526
         ],
         "y": [
          7.389241,
          7.493733
         ]
        },
        {
         "legendgroup": "observed_arbor",
         "line": {
          "color": "black"
         },
         "mode": "lines",
         "showlegend": false,
         "type": "scatter",
         "x": [
          6.629526,
          6.715141
         ],
         "y": [
          7.493733,
          7.627152
         ]
        },
        {
         "legendgroup": "observed_arbor",
         "line": {
          "color": "black"
         },
         "mode": "lines",
         "showlegend": false,
         "type": "scatter",
         "x": [
          6.629526,
          6.592369
         ],
         "y": [
          7.493733,
          7.507527
         ]
        },
        {
         "legendgroup": "observed_arbor",
         "line": {
          "color": "black"
         },
         "mode": "lines",
         "showlegend": false,
         "type": "scatter",
         "x": [
          6.629526,
          6.73737
         ],
         "y": [
          7.493733,
          7.506947
         ]
        },
        {
         "legendgroup": "observed_arbor",
         "line": {
          "color": "black"
         },
         "mode": "lines",
         "showlegend": false,
         "type": "scatter",
         "x": [
          6.715141,
          6.769199
         ],
         "y": [
          7.627152,
          7.731097
         ]
        },
        {
         "legendgroup": "observed_arbor",
         "line": {
          "color": "black"
         },
         "mode": "lines",
         "showlegend": false,
         "type": "scatter",
         "x": [
          6.769199,
          6.792194
         ],
         "y": [
          7.731097,
          7.832047
         ]
        },
        {
         "legendgroup": "observed_arbor",
         "line": {
          "color": "black"
         },
         "mode": "lines",
         "showlegend": false,
         "type": "scatter",
         "x": [
          6.769199,
          6.831848
         ],
         "y": [
          7.731097,
          7.745255
         ]
        },
        {
         "legendgroup": "observed_arbor",
         "line": {
          "color": "black"
         },
         "mode": "lines",
         "showlegend": false,
         "type": "scatter",
         "x": [
          6.792194,
          6.836556
         ],
         "y": [
          7.832047,
          8.017311
         ]
        },
        {
         "legendgroup": "observed_arbor",
         "line": {
          "color": "black"
         },
         "mode": "lines",
         "showlegend": false,
         "type": "scatter",
         "x": [
          6.836556,
          6.872153
         ],
         "y": [
          8.017311,
          8.183782
         ]
        },
        {
         "legendgroup": "observed_arbor",
         "line": {
          "color": "black"
         },
         "mode": "lines",
         "showlegend": false,
         "type": "scatter",
         "x": [
          6.836556,
          6.787929
         ],
         "y": [
          8.017311,
          7.984837
         ]
        },
        {
         "legendgroup": "observed_arbor",
         "line": {
          "color": "black"
         },
         "mode": "lines",
         "showlegend": false,
         "type": "scatter",
         "x": [
          6.872153,
          6.891629
         ],
         "y": [
          8.183782,
          8.27486
         ]
        },
        {
         "legendgroup": "observed_arbor",
         "line": {
          "color": "black"
         },
         "mode": "lines",
         "showlegend": false,
         "type": "scatter",
         "x": [
          6.891629,
          6.901803
         ],
         "y": [
          8.27486,
          8.329596
         ]
        },
        {
         "legendgroup": "observed_arbor",
         "line": {
          "color": "black"
         },
         "mode": "lines",
         "showlegend": false,
         "type": "scatter",
         "x": [
          6.891629,
          6.829374
         ],
         "y": [
          8.27486,
          8.252129
         ]
        },
        {
         "legendgroup": "observed_arbor",
         "line": {
          "color": "black"
         },
         "mode": "lines",
         "showlegend": false,
         "type": "scatter",
         "x": [
          6.901803,
          6.933577
         ],
         "y": [
          8.329596,
          8.467127
         ]
        },
        {
         "legendgroup": "observed_arbor",
         "line": {
          "color": "black"
         },
         "mode": "lines",
         "showlegend": false,
         "type": "scatter",
         "x": [
          6.933577,
          6.94522
         ],
         "y": [
          8.467127,
          8.583188
         ]
        },
        {
         "legendgroup": "observed_arbor",
         "line": {
          "color": "black"
         },
         "mode": "lines",
         "showlegend": false,
         "type": "scatter",
         "x": [
          6.94522,
          6.97398
         ],
         "y": [
          8.583188,
          8.700806
         ]
        },
        {
         "legendgroup": "observed_arbor",
         "line": {
          "color": "black"
         },
         "mode": "lines",
         "showlegend": false,
         "type": "scatter",
         "x": [
          6.97398,
          7.002137
         ],
         "y": [
          8.700806,
          8.815952
         ]
        },
        {
         "legendgroup": "observed_arbor",
         "line": {
          "color": "black"
         },
         "mode": "lines",
         "showlegend": false,
         "type": "scatter",
         "x": [
          6.97398,
          6.97883
         ],
         "y": [
          8.700806,
          8.728493
         ]
        },
        {
         "legendgroup": "observed_arbor",
         "line": {
          "color": "black"
         },
         "mode": "lines",
         "showlegend": false,
         "type": "scatter",
         "x": [
          7.002137,
          7.044922
         ],
         "y": [
          8.815952,
          8.937892
         ]
        },
        {
         "legendgroup": "observed_arbor",
         "line": {
          "color": "black"
         },
         "mode": "lines",
         "showlegend": false,
         "type": "scatter",
         "x": [
          7.044922,
          7.091109
         ],
         "y": [
          8.937892,
          9.056844
         ]
        },
        {
         "legendgroup": "observed_arbor",
         "line": {
          "color": "black"
         },
         "mode": "lines",
         "showlegend": false,
         "type": "scatter",
         "x": [
          7.091109,
          7.109639
         ],
         "y": [
          9.056844,
          9.162564
         ]
        },
        {
         "legendgroup": "observed_arbor",
         "line": {
          "color": "black"
         },
         "mode": "lines",
         "showlegend": false,
         "type": "scatter",
         "x": [
          7.109639,
          7.173016
         ],
         "y": [
          9.162564,
          9.340207
         ]
        },
        {
         "legendgroup": "observed_arbor",
         "line": {
          "color": "black"
         },
         "mode": "lines",
         "showlegend": false,
         "type": "scatter",
         "x": [
          7.173016,
          7.192662
         ],
         "y": [
          9.340207,
          9.404181
         ]
        },
        {
         "legendgroup": "observed_arbor",
         "line": {
          "color": "black"
         },
         "mode": "lines",
         "showlegend": false,
         "type": "scatter",
         "x": [
          7.192662,
          7.202366
         ],
         "y": [
          9.404181,
          9.466071
         ]
        },
        {
         "legendgroup": "observed_arbor",
         "line": {
          "color": "black"
         },
         "mode": "lines",
         "showlegend": false,
         "type": "scatter",
         "x": [
          7.202366,
          7.257385
         ],
         "y": [
          9.466071,
          9.65101
         ]
        },
        {
         "legendgroup": "observed_arbor",
         "line": {
          "color": "black"
         },
         "mode": "lines",
         "showlegend": false,
         "type": "scatter",
         "x": [
          7.257385,
          7.26974
         ],
         "y": [
          9.65101,
          9.695241
         ]
        },
        {
         "legendgroup": "observed_arbor",
         "line": {
          "color": "black"
         },
         "mode": "lines",
         "showlegend": false,
         "type": "scatter",
         "x": [
          7.26974,
          7.277663
         ],
         "y": [
          9.695241,
          9.737595
         ]
        },
        {
         "legendgroup": "observed_arbor",
         "line": {
          "color": "black"
         },
         "mode": "lines",
         "showlegend": false,
         "type": "scatter",
         "x": [
          7.277663,
          7.288843
         ],
         "y": [
          9.737595,
          9.785263
         ]
        },
        {
         "legendgroup": "observed_arbor",
         "line": {
          "color": "black"
         },
         "mode": "lines",
         "showlegend": false,
         "type": "scatter",
         "x": [
          7.288843,
          7.29498
         ],
         "y": [
          9.785263,
          9.827912
         ]
        },
        {
         "legendgroup": "observed_arbor",
         "line": {
          "color": "black"
         },
         "mode": "lines",
         "showlegend": false,
         "type": "scatter",
         "x": [
          7.29498,
          7.304147
         ],
         "y": [
          9.827912,
          9.876008
         ]
        },
        {
         "legendgroup": "observed_arbor",
         "line": {
          "color": "black"
         },
         "mode": "lines",
         "showlegend": false,
         "type": "scatter",
         "x": [
          7.304147,
          7.311989
         ],
         "y": [
          9.876008,
          9.921259
         ]
        },
        {
         "legendgroup": "observed_arbor",
         "line": {
          "color": "black"
         },
         "mode": "lines",
         "showlegend": false,
         "type": "scatter",
         "x": [
          7.311989,
          7.319071
         ],
         "y": [
          9.921259,
          9.966633
         ]
        },
        {
         "legendgroup": "observed_arbor",
         "line": {
          "color": "black"
         },
         "mode": "lines",
         "showlegend": false,
         "type": "scatter",
         "x": [
          7.319071,
          7.328812
         ],
         "y": [
          9.966633,
          10.014615
         ]
        },
        {
         "legendgroup": "observed_arbor",
         "line": {
          "color": "black"
         },
         "mode": "lines",
         "showlegend": false,
         "type": "scatter",
         "x": [
          7.328812,
          7.333664
         ],
         "y": [
          10.014615,
          10.05743
         ]
        },
        {
         "legendgroup": "observed_arbor",
         "line": {
          "color": "black"
         },
         "mode": "lines",
         "showlegend": false,
         "type": "scatter",
         "x": [
          7.333664,
          7.344693
         ],
         "y": [
          10.05743,
          10.108418
         ]
        },
        {
         "legendgroup": "observed_arbor",
         "line": {
          "color": "black"
         },
         "mode": "lines",
         "showlegend": false,
         "type": "scatter",
         "x": [
          7.344693,
          7.352281
         ],
         "y": [
          10.108418,
          10.147137
         ]
        },
        {
         "legendgroup": "observed_arbor",
         "line": {
          "color": "black"
         },
         "mode": "lines",
         "showlegend": false,
         "type": "scatter",
         "x": [
          7.352281,
          7.356843
         ],
         "y": [
          10.147137,
          10.189984
         ]
        },
        {
         "legendgroup": "observed_arbor",
         "line": {
          "color": "black"
         },
         "mode": "lines",
         "showlegend": false,
         "type": "scatter",
         "x": [
          7.356843,
          7.360938
         ],
         "y": [
          10.189984,
          10.235724
         ]
        },
        {
         "legendgroup": "observed_arbor",
         "line": {
          "color": "black"
         },
         "mode": "lines",
         "showlegend": false,
         "type": "scatter",
         "x": [
          7.360938,
          7.367515
         ],
         "y": [
          10.235724,
          10.284245
         ]
        },
        {
         "legendgroup": "observed_arbor",
         "line": {
          "color": "black"
         },
         "mode": "lines",
         "showlegend": false,
         "type": "scatter",
         "x": [
          7.367515,
          7.368114
         ],
         "y": [
          10.284245,
          10.316678
         ]
        },
        {
         "legendgroup": "observed_arbor",
         "line": {
          "color": "black"
         },
         "mode": "lines",
         "showlegend": false,
         "type": "scatter",
         "x": [
          7.368114,
          7.368194
         ],
         "y": [
          10.316678,
          10.362601
         ]
        },
        {
         "legendgroup": "observed_arbor",
         "line": {
          "color": "black"
         },
         "mode": "lines",
         "showlegend": false,
         "type": "scatter",
         "x": [
          7.368194,
          7.370502
         ],
         "y": [
          10.362601,
          10.411509
         ]
        },
        {
         "legendgroup": "observed_arbor",
         "line": {
          "color": "black"
         },
         "mode": "lines",
         "showlegend": false,
         "type": "scatter",
         "x": [
          7.370502,
          7.37816
         ],
         "y": [
          10.411509,
          10.463111
         ]
        },
        {
         "legendgroup": "observed_arbor",
         "line": {
          "color": "black"
         },
         "mode": "lines",
         "showlegend": false,
         "type": "scatter",
         "x": [
          7.37816,
          7.38414
         ],
         "y": [
          10.463111,
          10.508644
         ]
        },
        {
         "legendgroup": "observed_arbor",
         "line": {
          "color": "black"
         },
         "mode": "lines",
         "showlegend": false,
         "type": "scatter",
         "x": [
          7.38414,
          7.396073
         ],
         "y": [
          10.508644,
          10.55943
         ]
        },
        {
         "legendgroup": "observed_arbor",
         "line": {
          "color": "black"
         },
         "mode": "lines",
         "showlegend": false,
         "type": "scatter",
         "x": [
          7.396073,
          7.387497
         ],
         "y": [
          10.55943,
          10.600176
         ]
        },
        {
         "legendgroup": "observed_arbor",
         "line": {
          "color": "black"
         },
         "mode": "lines",
         "showlegend": false,
         "type": "scatter",
         "x": [
          7.387497,
          7.458849
         ],
         "y": [
          10.600176,
          10.87086
         ]
        },
        {
         "legendgroup": "observed_arbor",
         "line": {
          "color": "black"
         },
         "mode": "lines",
         "showlegend": false,
         "type": "scatter",
         "x": [
          7.458849,
          7.473466
         ],
         "y": [
          10.87086,
          10.917589
         ]
        },
        {
         "legendgroup": "observed_arbor",
         "line": {
          "color": "black"
         },
         "mode": "lines",
         "showlegend": false,
         "type": "scatter",
         "x": [
          7.473466,
          7.478271
         ],
         "y": [
          10.917589,
          10.955581
         ]
        },
        {
         "legendgroup": "observed_arbor",
         "line": {
          "color": "black"
         },
         "mode": "lines",
         "showlegend": false,
         "type": "scatter",
         "x": [
          7.478271,
          7.48996
         ],
         "y": [
          10.955581,
          11.00642
         ]
        },
        {
         "legendgroup": "observed_arbor",
         "line": {
          "color": "black"
         },
         "mode": "lines",
         "showlegend": false,
         "type": "scatter",
         "x": [
          7.48996,
          7.499499
         ],
         "y": [
          11.00642,
          11.051343
         ]
        },
        {
         "legendgroup": "observed_arbor",
         "line": {
          "color": "black"
         },
         "mode": "lines",
         "showlegend": false,
         "type": "scatter",
         "x": [
          7.499499,
          7.511833
         ],
         "y": [
          11.051343,
          11.098726
         ]
        },
        {
         "legendgroup": "observed_arbor",
         "line": {
          "color": "black"
         },
         "mode": "lines",
         "showlegend": false,
         "type": "scatter",
         "x": [
          7.511833,
          7.519003
         ],
         "y": [
          11.098726,
          11.141213
         ]
        },
        {
         "legendgroup": "observed_arbor",
         "line": {
          "color": "black"
         },
         "mode": "lines",
         "showlegend": false,
         "type": "scatter",
         "x": [
          7.519003,
          7.529336
         ],
         "y": [
          11.141213,
          11.189072
         ]
        },
        {
         "legendgroup": "observed_arbor",
         "line": {
          "color": "black"
         },
         "mode": "lines",
         "showlegend": false,
         "type": "scatter",
         "x": [
          7.529336,
          7.531159
         ],
         "y": [
          11.189072,
          11.229529
         ]
        },
        {
         "legendgroup": "observed_arbor",
         "line": {
          "color": "black"
         },
         "mode": "lines",
         "showlegend": false,
         "type": "scatter",
         "x": [
          7.531159,
          7.544955
         ],
         "y": [
          11.229529,
          11.286858
         ]
        },
        {
         "legendgroup": "observed_arbor",
         "line": {
          "color": "black"
         },
         "mode": "lines",
         "showlegend": false,
         "type": "scatter",
         "x": [
          7.544955,
          7.55134
         ],
         "y": [
          11.286858,
          11.329471
         ]
        },
        {
         "legendgroup": "observed_arbor",
         "line": {
          "color": "black"
         },
         "mode": "lines",
         "showlegend": false,
         "type": "scatter",
         "x": [
          7.55134,
          7.564189
         ],
         "y": [
          11.329471,
          11.380029
         ]
        },
        {
         "legendgroup": "observed_arbor",
         "line": {
          "color": "black"
         },
         "mode": "lines",
         "showlegend": false,
         "type": "scatter",
         "x": [
          7.564189,
          7.578393
         ],
         "y": [
          11.380029,
          11.426885
         ]
        },
        {
         "legendgroup": "observed_arbor",
         "line": {
          "color": "black"
         },
         "mode": "lines",
         "showlegend": false,
         "type": "scatter",
         "x": [
          7.578393,
          7.583511
         ],
         "y": [
          11.426885,
          11.467058
         ]
        },
        {
         "legendgroup": "observed_arbor",
         "line": {
          "color": "black"
         },
         "mode": "lines",
         "showlegend": false,
         "type": "scatter",
         "x": [
          7.583511,
          7.589412
         ],
         "y": [
          11.467058,
          11.513371
         ]
        },
        {
         "legendgroup": "observed_arbor",
         "line": {
          "color": "black"
         },
         "mode": "lines",
         "showlegend": false,
         "type": "scatter",
         "x": [
          7.589412,
          7.610983
         ],
         "y": [
          11.513371,
          11.591783
         ]
        },
        {
         "legendgroup": "observed_arbor",
         "line": {
          "color": "black"
         },
         "mode": "lines",
         "showlegend": false,
         "type": "scatter",
         "x": [
          7.610983,
          7.626102
         ],
         "y": [
          11.591783,
          11.638351
         ]
        },
        {
         "legendgroup": "observed_arbor",
         "line": {
          "color": "black"
         },
         "mode": "lines",
         "showlegend": false,
         "type": "scatter",
         "x": [
          7.626102,
          7.629857
         ],
         "y": [
          11.638351,
          11.662106
         ]
        },
        {
         "legendgroup": "observed_arbor",
         "line": {
          "color": "black"
         },
         "mode": "lines",
         "showlegend": false,
         "type": "scatter",
         "x": [
          7.629857,
          7.643114
         ],
         "y": [
          11.662106,
          11.712561
         ]
        },
        {
         "legendgroup": "observed_arbor",
         "line": {
          "color": "black"
         },
         "mode": "lines",
         "showlegend": false,
         "type": "scatter",
         "x": [
          7.643114,
          7.654037
         ],
         "y": [
          11.712561,
          11.757165
         ]
        },
        {
         "legendgroup": "observed_arbor",
         "line": {
          "color": "black"
         },
         "mode": "lines",
         "showlegend": false,
         "type": "scatter",
         "x": [
          7.654037,
          7.664211
         ],
         "y": [
          11.757165,
          11.801949
         ]
        },
        {
         "legendgroup": "observed_arbor",
         "line": {
          "color": "black"
         },
         "mode": "lines",
         "showlegend": false,
         "type": "scatter",
         "x": [
          7.664211,
          7.673634
         ],
         "y": [
          11.801949,
          11.846895
         ]
        },
        {
         "legendgroup": "observed_arbor",
         "line": {
          "color": "black"
         },
         "mode": "lines",
         "showlegend": false,
         "type": "scatter",
         "x": [
          7.673634,
          7.682301
         ],
         "y": [
          11.846895,
          11.891993
         ]
        },
        {
         "legendgroup": "observed_arbor",
         "line": {
          "color": "black"
         },
         "mode": "lines",
         "showlegend": false,
         "type": "scatter",
         "x": [
          7.682301,
          7.693716
         ],
         "y": [
          11.891993,
          11.939606
         ]
        },
        {
         "legendgroup": "observed_arbor",
         "line": {
          "color": "black"
         },
         "mode": "lines",
         "showlegend": false,
         "type": "scatter",
         "x": [
          7.693716,
          7.703673
         ],
         "y": [
          11.939606,
          11.984438
         ]
        },
        {
         "legendgroup": "observed_arbor",
         "line": {
          "color": "black"
         },
         "mode": "lines",
         "showlegend": false,
         "type": "scatter",
         "x": [
          7.703673,
          7.709305
         ],
         "y": [
          11.984438,
          12.027158
         ]
        },
        {
         "legendgroup": "observed_arbor",
         "line": {
          "color": "black"
         },
         "mode": "lines",
         "showlegend": false,
         "type": "scatter",
         "x": [
          7.709305,
          7.717903
         ],
         "y": [
          12.027158,
          12.07536
         ]
        },
        {
         "legendgroup": "observed_arbor",
         "line": {
          "color": "black"
         },
         "mode": "lines",
         "showlegend": false,
         "type": "scatter",
         "x": [
          7.717903,
          7.725208
         ],
         "y": [
          12.07536,
          12.1207
         ]
        },
        {
         "legendgroup": "observed_arbor",
         "line": {
          "color": "black"
         },
         "mode": "lines",
         "showlegend": false,
         "type": "scatter",
         "x": [
          7.725208,
          7.731753
         ],
         "y": [
          12.1207,
          12.166156
         ]
        },
        {
         "legendgroup": "observed_arbor",
         "line": {
          "color": "black"
         },
         "mode": "lines",
         "showlegend": false,
         "type": "scatter",
         "x": [
          7.731753,
          7.744314
         ],
         "y": [
          12.166156,
          12.216787
         ]
        },
        {
         "legendgroup": "observed_arbor",
         "line": {
          "color": "black"
         },
         "mode": "lines",
         "showlegend": false,
         "type": "scatter",
         "x": [
          7.744314,
          7.754624
         ],
         "y": [
          12.216787,
          12.261539
         ]
        },
        {
         "legendgroup": "observed_arbor",
         "line": {
          "color": "black"
         },
         "mode": "lines",
         "showlegend": false,
         "type": "scatter",
         "x": [
          7.754624,
          7.764182
         ],
         "y": [
          12.261539,
          12.306458
         ]
        },
        {
         "legendgroup": "observed_arbor",
         "line": {
          "color": "black"
         },
         "mode": "lines",
         "showlegend": false,
         "type": "scatter",
         "x": [
          7.764182,
          7.776535
         ],
         "y": [
          12.306458,
          12.353835
         ]
        },
        {
         "legendgroup": "observed_arbor",
         "line": {
          "color": "black"
         },
         "mode": "lines",
         "showlegend": false,
         "type": "scatter",
         "x": [
          7.776535,
          7.787377
         ],
         "y": [
          12.353835,
          12.398461
         ]
        },
        {
         "legendgroup": "observed_arbor",
         "line": {
          "color": "black"
         },
         "mode": "lines",
         "showlegend": false,
         "type": "scatter",
         "x": [
          7.787377,
          7.794942
         ],
         "y": [
          12.398461,
          12.432861
         ]
        },
        {
         "legendgroup": "observed_arbor",
         "line": {
          "color": "black"
         },
         "mode": "lines",
         "showlegend": false,
         "type": "scatter",
         "x": [
          7.794942,
          7.793114
         ],
         "y": [
          12.432861,
          12.476584
         ]
        },
        {
         "legendgroup": "observed_arbor",
         "line": {
          "color": "black"
         },
         "mode": "lines",
         "showlegend": false,
         "type": "scatter",
         "x": [
          6.585236,
          6.719047
         ],
         "y": [
          5.225407,
          5.312712
         ]
        },
        {
         "legendgroup": "observed_arbor",
         "line": {
          "color": "black"
         },
         "mode": "lines",
         "showlegend": false,
         "type": "scatter",
         "x": [
          6.719047,
          6.737978
         ],
         "y": [
          5.312712,
          5.338742
         ]
        },
        {
         "legendgroup": "observed_arbor",
         "line": {
          "color": "black"
         },
         "mode": "lines",
         "showlegend": false,
         "type": "scatter",
         "x": [
          6.737978,
          6.758697
         ],
         "y": [
          5.338742,
          5.372319
         ]
        },
        {
         "legendgroup": "observed_arbor",
         "line": {
          "color": "black"
         },
         "mode": "lines",
         "showlegend": false,
         "type": "scatter",
         "x": [
          6.758697,
          6.785047
         ],
         "y": [
          5.372319,
          5.409322
         ]
        },
        {
         "legendgroup": "observed_arbor",
         "line": {
          "color": "black"
         },
         "mode": "lines",
         "showlegend": false,
         "type": "scatter",
         "x": [
          6.785047,
          6.805429
         ],
         "y": [
          5.409322,
          5.443105
         ]
        },
        {
         "legendgroup": "observed_arbor",
         "line": {
          "color": "black"
         },
         "mode": "lines",
         "showlegend": false,
         "type": "scatter",
         "x": [
          6.805429,
          6.835516
         ],
         "y": [
          5.443105,
          5.481386
         ]
        },
        {
         "legendgroup": "observed_arbor",
         "line": {
          "color": "black"
         },
         "mode": "lines",
         "showlegend": false,
         "type": "scatter",
         "x": [
          6.835516,
          6.859575
         ],
         "y": [
          5.481386,
          5.514419
         ]
        },
        {
         "legendgroup": "observed_arbor",
         "line": {
          "color": "black"
         },
         "mode": "lines",
         "showlegend": false,
         "type": "scatter",
         "x": [
          6.859575,
          6.912486
         ],
         "y": [
          5.514419,
          5.559099
         ]
        },
        {
         "legendgroup": "observed_arbor",
         "line": {
          "color": "black"
         },
         "mode": "lines",
         "showlegend": false,
         "type": "scatter",
         "x": [
          6.912486,
          6.954532
         ],
         "y": [
          5.559099,
          5.615945
         ]
        },
        {
         "legendgroup": "observed_arbor",
         "line": {
          "color": "black"
         },
         "mode": "lines",
         "showlegend": false,
         "type": "scatter",
         "x": [
          6.954532,
          6.978461
         ],
         "y": [
          5.615945,
          5.655849
         ]
        },
        {
         "legendgroup": "observed_arbor",
         "line": {
          "color": "black"
         },
         "mode": "lines",
         "showlegend": false,
         "type": "scatter",
         "x": [
          6.978461,
          6.998772
         ],
         "y": [
          5.655849,
          5.68099
         ]
        },
        {
         "legendgroup": "observed_arbor",
         "line": {
          "color": "black"
         },
         "mode": "lines",
         "showlegend": false,
         "type": "scatter",
         "x": [
          6.998772,
          7.01684
         ],
         "y": [
          5.68099,
          5.700971
         ]
        },
        {
         "legendgroup": "observed_arbor",
         "line": {
          "color": "black"
         },
         "mode": "lines",
         "showlegend": false,
         "type": "scatter",
         "x": [
          7.01684,
          7.041271
         ],
         "y": [
          5.700971,
          5.704776
         ]
        },
        {
         "legendgroup": "observed_arbor",
         "line": {
          "color": "black"
         },
         "mode": "lines",
         "showlegend": false,
         "type": "scatter",
         "x": [
          7.041271,
          7.060223
         ],
         "y": [
          5.704776,
          5.721838
         ]
        },
        {
         "legendgroup": "observed_arbor",
         "line": {
          "color": "black"
         },
         "mode": "lines",
         "showlegend": false,
         "type": "scatter",
         "x": [
          7.060223,
          7.087428
         ],
         "y": [
          5.721838,
          5.744279
         ]
        },
        {
         "legendgroup": "observed_arbor",
         "line": {
          "color": "black"
         },
         "mode": "lines",
         "showlegend": false,
         "type": "scatter",
         "x": [
          7.087428,
          7.104955
         ],
         "y": [
          5.744279,
          5.76064
         ]
        },
        {
         "legendgroup": "observed_arbor",
         "line": {
          "color": "black"
         },
         "mode": "lines",
         "showlegend": false,
         "type": "scatter",
         "x": [
          7.104955,
          7.123289
         ],
         "y": [
          5.76064,
          5.783859
         ]
        },
        {
         "legendgroup": "observed_arbor",
         "line": {
          "color": "black"
         },
         "mode": "lines",
         "showlegend": false,
         "type": "scatter",
         "x": [
          7.123289,
          7.149311
         ],
         "y": [
          5.783859,
          5.809523
         ]
        },
        {
         "legendgroup": "observed_arbor",
         "line": {
          "color": "black"
         },
         "mode": "lines",
         "showlegend": false,
         "type": "scatter",
         "x": [
          7.149311,
          7.321192
         ],
         "y": [
          5.809523,
          6.004523
         ]
        },
        {
         "legendgroup": "observed_arbor",
         "line": {
          "color": "black"
         },
         "mode": "lines",
         "showlegend": false,
         "type": "scatter",
         "x": [
          7.321192,
          7.373056
         ],
         "y": [
          6.004523,
          6.049433
         ]
        },
        {
         "legendgroup": "observed_arbor",
         "line": {
          "color": "black"
         },
         "mode": "lines",
         "showlegend": false,
         "type": "scatter",
         "x": [
          7.373056,
          7.397057
         ],
         "y": [
          6.049433,
          6.070218
         ]
        },
        {
         "legendgroup": "observed_arbor",
         "line": {
          "color": "black"
         },
         "mode": "lines",
         "showlegend": false,
         "type": "scatter",
         "x": [
          7.397057,
          7.500263
         ],
         "y": [
          6.070218,
          6.097297
         ]
        },
        {
         "legendgroup": "observed_arbor",
         "line": {
          "color": "black"
         },
         "mode": "lines",
         "showlegend": false,
         "type": "scatter",
         "x": [
          7.500263,
          7.550313
         ],
         "y": [
          6.097297,
          6.144691
         ]
        },
        {
         "legendgroup": "observed_arbor",
         "line": {
          "color": "black"
         },
         "mode": "lines",
         "showlegend": false,
         "type": "scatter",
         "x": [
          7.550313,
          7.601776
         ],
         "y": [
          6.144691,
          6.185158
         ]
        },
        {
         "legendgroup": "observed_arbor",
         "line": {
          "color": "black"
         },
         "mode": "lines",
         "showlegend": false,
         "type": "scatter",
         "x": [
          7.601776,
          7.652526
         ],
         "y": [
          6.185158,
          6.221242
         ]
        },
        {
         "legendgroup": "observed_arbor",
         "line": {
          "color": "black"
         },
         "mode": "lines",
         "showlegend": false,
         "type": "scatter",
         "x": [
          7.652526,
          7.704961
         ],
         "y": [
          6.221242,
          6.254833
         ]
        },
        {
         "legendgroup": "observed_arbor",
         "line": {
          "color": "black"
         },
         "mode": "lines",
         "showlegend": false,
         "type": "scatter",
         "x": [
          7.704961,
          7.750686
         ],
         "y": [
          6.254833,
          6.287663
         ]
        },
        {
         "legendgroup": "observed_arbor",
         "line": {
          "color": "black"
         },
         "mode": "lines",
         "showlegend": false,
         "type": "scatter",
         "x": [
          7.750686,
          7.798785
         ],
         "y": [
          6.287663,
          6.322184
         ]
        },
        {
         "legendgroup": "observed_arbor",
         "line": {
          "color": "black"
         },
         "mode": "lines",
         "showlegend": false,
         "type": "scatter",
         "x": [
          7.798785,
          7.842533
         ],
         "y": [
          6.322184,
          6.34988
         ]
        },
        {
         "legendgroup": "observed_arbor",
         "line": {
          "color": "black"
         },
         "mode": "lines",
         "showlegend": false,
         "type": "scatter",
         "x": [
          7.842533,
          7.947735
         ],
         "y": [
          6.34988,
          6.497203
         ]
        },
        {
         "legendgroup": "observed_arbor",
         "line": {
          "color": "black"
         },
         "mode": "lines",
         "showlegend": false,
         "type": "scatter",
         "x": [
          7.947735,
          7.991165
         ],
         "y": [
          6.497203,
          6.55287
         ]
        },
        {
         "legendgroup": "observed_arbor",
         "line": {
          "color": "black"
         },
         "mode": "lines",
         "showlegend": false,
         "type": "scatter",
         "x": [
          7.991165,
          8.01577
         ],
         "y": [
          6.55287,
          6.596627
         ]
        },
        {
         "legendgroup": "observed_arbor",
         "line": {
          "color": "black"
         },
         "mode": "lines",
         "showlegend": false,
         "type": "scatter",
         "x": [
          8.01577,
          8.02822
         ],
         "y": [
          6.596627,
          6.618766
         ]
        },
        {
         "legendgroup": "observed_arbor",
         "line": {
          "color": "black"
         },
         "mode": "lines",
         "showlegend": false,
         "type": "scatter",
         "x": [
          8.02822,
          8.07434
         ],
         "y": [
          6.618766,
          6.630505
         ]
        },
        {
         "legendgroup": "observed_arbor",
         "line": {
          "color": "black"
         },
         "mode": "lines",
         "showlegend": false,
         "type": "scatter",
         "x": [
          8.07434,
          8.13176
         ],
         "y": [
          6.630505,
          6.645116
         ]
        },
        {
         "legendgroup": "observed_arbor",
         "line": {
          "color": "black"
         },
         "mode": "lines",
         "showlegend": false,
         "type": "scatter",
         "x": [
          8.13176,
          8.175304
         ],
         "y": [
          6.645116,
          6.659281
         ]
        },
        {
         "legendgroup": "observed_arbor",
         "line": {
          "color": "black"
         },
         "mode": "lines",
         "showlegend": false,
         "type": "scatter",
         "x": [
          8.175304,
          8.209781
         ],
         "y": [
          6.659281,
          6.673641
         ]
        },
        {
         "legendgroup": "observed_arbor",
         "line": {
          "color": "black"
         },
         "mode": "lines",
         "showlegend": false,
         "type": "scatter",
         "x": [
          8.209781,
          8.242997
         ],
         "y": [
          6.673641,
          6.690714
         ]
        },
        {
         "legendgroup": "observed_arbor",
         "line": {
          "color": "black"
         },
         "mode": "lines",
         "showlegend": false,
         "type": "scatter",
         "x": [
          8.242997,
          8.274069
         ],
         "y": [
          6.690714,
          6.720837
         ]
        },
        {
         "legendgroup": "observed_arbor",
         "line": {
          "color": "black"
         },
         "mode": "lines",
         "showlegend": false,
         "type": "scatter",
         "x": [
          6.570166,
          6.669973
         ],
         "y": [
          5.336647,
          5.396446
         ]
        },
        {
         "legendgroup": "observed_arbor",
         "line": {
          "color": "black"
         },
         "mode": "lines",
         "showlegend": false,
         "type": "scatter",
         "x": [
          6.669973,
          6.722329
         ],
         "y": [
          5.396446,
          5.445036
         ]
        },
        {
         "legendgroup": "observed_arbor",
         "line": {
          "color": "black"
         },
         "mode": "lines",
         "showlegend": false,
         "type": "scatter",
         "x": [
          6.722329,
          6.76337
         ],
         "y": [
          5.445036,
          5.474958
         ]
        },
        {
         "legendgroup": "observed_arbor",
         "line": {
          "color": "black"
         },
         "mode": "lines",
         "showlegend": false,
         "type": "scatter",
         "x": [
          6.76337,
          6.82494
         ],
         "y": [
          5.474958,
          5.519847
         ]
        },
        {
         "legendgroup": "observed_arbor",
         "line": {
          "color": "black"
         },
         "mode": "lines",
         "showlegend": false,
         "type": "scatter",
         "x": [
          6.82494,
          6.894875
         ],
         "y": [
          5.519847,
          5.563426
         ]
        },
        {
         "legendgroup": "observed_arbor",
         "line": {
          "color": "black"
         },
         "mode": "lines",
         "showlegend": false,
         "type": "scatter",
         "x": [
          6.894875,
          6.982505
         ],
         "y": [
          5.563426,
          5.651537
         ]
        },
        {
         "legendgroup": "observed_arbor",
         "line": {
          "color": "black"
         },
         "mode": "lines",
         "showlegend": false,
         "type": "scatter",
         "x": [
          6.982505,
          7.032765
         ],
         "y": [
          5.651537,
          5.693582
         ]
        },
        {
         "legendgroup": "observed_arbor",
         "line": {
          "color": "black"
         },
         "mode": "lines",
         "showlegend": false,
         "type": "scatter",
         "x": [
          7.032765,
          7.060534
         ],
         "y": [
          5.693582,
          5.722667
         ]
        },
        {
         "legendgroup": "observed_arbor",
         "line": {
          "color": "black"
         },
         "mode": "lines",
         "showlegend": false,
         "type": "scatter",
         "x": [
          7.060534,
          7.095615
         ],
         "y": [
          5.722667,
          5.759411
         ]
        },
        {
         "legendgroup": "observed_arbor",
         "line": {
          "color": "black"
         },
         "mode": "lines",
         "showlegend": false,
         "type": "scatter",
         "x": [
          7.095615,
          7.129233
         ],
         "y": [
          5.759411,
          5.794623
         ]
        },
        {
         "legendgroup": "observed_arbor",
         "line": {
          "color": "black"
         },
         "mode": "lines",
         "showlegend": false,
         "type": "scatter",
         "x": [
          7.129233,
          7.158355
         ],
         "y": [
          5.794623,
          5.833484
         ]
        },
        {
         "legendgroup": "observed_arbor",
         "line": {
          "color": "black"
         },
         "mode": "lines",
         "showlegend": false,
         "type": "scatter",
         "x": [
          7.158355,
          7.37566
         ],
         "y": [
          5.833484,
          5.931583
         ]
        },
        {
         "legendgroup": "observed_arbor",
         "line": {
          "color": "black"
         },
         "mode": "lines",
         "showlegend": false,
         "type": "scatter",
         "x": [
          7.37566,
          7.414242
         ],
         "y": [
          5.931583,
          5.949
         ]
        },
        {
         "legendgroup": "observed_arbor",
         "line": {
          "color": "black"
         },
         "mode": "lines",
         "showlegend": false,
         "type": "scatter",
         "x": [
          7.414242,
          7.448864
         ],
         "y": [
          5.949,
          5.967913
         ]
        },
        {
         "legendgroup": "observed_arbor",
         "line": {
          "color": "black"
         },
         "mode": "lines",
         "showlegend": false,
         "type": "scatter",
         "x": [
          7.448864,
          7.490077
         ],
         "y": [
          5.967913,
          5.987013
         ]
        },
        {
         "legendgroup": "observed_arbor",
         "line": {
          "color": "black"
         },
         "mode": "lines",
         "showlegend": false,
         "type": "scatter",
         "x": [
          7.490077,
          7.524509
         ],
         "y": [
          5.987013,
          6.00627
         ]
        },
        {
         "legendgroup": "observed_arbor",
         "line": {
          "color": "black"
         },
         "mode": "lines",
         "showlegend": false,
         "type": "scatter",
         "x": [
          7.524509,
          7.569602
         ],
         "y": [
          6.00627,
          6.024629
         ]
        },
        {
         "legendgroup": "observed_arbor",
         "line": {
          "color": "black"
         },
         "mode": "lines",
         "showlegend": false,
         "type": "scatter",
         "x": [
          7.569602,
          7.589226
         ],
         "y": [
          6.024629,
          6.035851
         ]
        },
        {
         "legendgroup": "observed_arbor",
         "line": {
          "color": "black"
         },
         "mode": "lines",
         "showlegend": false,
         "type": "scatter",
         "x": [
          7.589226,
          7.61597
         ],
         "y": [
          6.035851,
          6.058042
         ]
        },
        {
         "legendgroup": "observed_arbor",
         "line": {
          "color": "black"
         },
         "mode": "lines",
         "showlegend": false,
         "type": "scatter",
         "x": [
          7.61597,
          7.656978
         ],
         "y": [
          6.058042,
          6.084287
         ]
        },
        {
         "legendgroup": "observed_arbor",
         "line": {
          "color": "black"
         },
         "mode": "lines",
         "showlegend": false,
         "type": "scatter",
         "x": [
          7.656978,
          7.688497
         ],
         "y": [
          6.084287,
          6.108013
         ]
        },
        {
         "legendgroup": "observed_arbor",
         "line": {
          "color": "black"
         },
         "mode": "lines",
         "showlegend": false,
         "type": "scatter",
         "x": [
          7.688497,
          7.72651
         ],
         "y": [
          6.108013,
          6.132878
         ]
        },
        {
         "legendgroup": "observed_arbor",
         "line": {
          "color": "black"
         },
         "mode": "lines",
         "showlegend": false,
         "type": "scatter",
         "x": [
          7.72651,
          7.761937
         ],
         "y": [
          6.132878,
          6.15605
         ]
        },
        {
         "legendgroup": "observed_arbor",
         "line": {
          "color": "black"
         },
         "mode": "lines",
         "showlegend": false,
         "type": "scatter",
         "x": [
          7.761937,
          7.801507
         ],
         "y": [
          6.15605,
          6.178354
         ]
        },
        {
         "legendgroup": "observed_arbor",
         "line": {
          "color": "black"
         },
         "mode": "lines",
         "showlegend": false,
         "type": "scatter",
         "x": [
          7.801507,
          7.834307
         ],
         "y": [
          6.178354,
          6.200277
         ]
        },
        {
         "legendgroup": "observed_arbor",
         "line": {
          "color": "black"
         },
         "mode": "lines",
         "showlegend": false,
         "type": "scatter",
         "x": [
          7.834307,
          7.873653
         ],
         "y": [
          6.200277,
          6.222974
         ]
        },
        {
         "legendgroup": "observed_arbor",
         "line": {
          "color": "black"
         },
         "mode": "lines",
         "showlegend": false,
         "type": "scatter",
         "x": [
          7.873653,
          7.8934
         ],
         "y": [
          6.222974,
          6.237821
         ]
        },
        {
         "legendgroup": "observed_arbor",
         "line": {
          "color": "black"
         },
         "mode": "lines",
         "showlegend": false,
         "type": "scatter",
         "x": [
          7.8934,
          7.913703
         ],
         "y": [
          6.237821,
          6.253084
         ]
        },
        {
         "legendgroup": "observed_arbor",
         "line": {
          "color": "black"
         },
         "mode": "lines",
         "showlegend": false,
         "type": "scatter",
         "x": [
          7.913703,
          8.056676
         ],
         "y": [
          6.253084,
          6.300773
         ]
        },
        {
         "legendgroup": "observed_arbor",
         "line": {
          "color": "black"
         },
         "mode": "lines",
         "showlegend": false,
         "type": "scatter",
         "x": [
          8.056676,
          8.125499
         ],
         "y": [
          6.300773,
          6.343224
         ]
        },
        {
         "legendgroup": "observed_arbor",
         "line": {
          "color": "black"
         },
         "mode": "lines",
         "showlegend": false,
         "type": "scatter",
         "x": [
          8.125499,
          8.194357
         ],
         "y": [
          6.343224,
          6.395433
         ]
        },
        {
         "legendgroup": "observed_arbor",
         "line": {
          "color": "black"
         },
         "mode": "lines",
         "showlegend": false,
         "type": "scatter",
         "x": [
          8.194357,
          8.268572
         ],
         "y": [
          6.395433,
          6.451705
         ]
        },
        {
         "legendgroup": "observed_arbor",
         "line": {
          "color": "black"
         },
         "mode": "lines",
         "showlegend": false,
         "type": "scatter",
         "x": [
          8.268572,
          8.341699
         ],
         "y": [
          6.451705,
          6.509791
         ]
        },
        {
         "legendgroup": "observed_arbor",
         "line": {
          "color": "black"
         },
         "mode": "lines",
         "showlegend": false,
         "type": "scatter",
         "x": [
          8.341699,
          8.406856
         ],
         "y": [
          6.509791,
          6.550952
         ]
        },
        {
         "legendgroup": "observed_arbor",
         "line": {
          "color": "black"
         },
         "mode": "lines",
         "showlegend": false,
         "type": "scatter",
         "x": [
          8.406856,
          8.488368
         ],
         "y": [
          6.550952,
          6.59498
         ]
        },
        {
         "legendgroup": "observed_arbor",
         "line": {
          "color": "black"
         },
         "mode": "lines",
         "showlegend": false,
         "type": "scatter",
         "x": [
          8.488368,
          8.581509
         ],
         "y": [
          6.59498,
          6.635674
         ]
        },
        {
         "legendgroup": "observed_arbor",
         "line": {
          "color": "black"
         },
         "mode": "lines",
         "showlegend": false,
         "type": "scatter",
         "x": [
          8.581509,
          8.665604
         ],
         "y": [
          6.635674,
          6.677006
         ]
        },
        {
         "legendgroup": "observed_arbor",
         "line": {
          "color": "black"
         },
         "mode": "lines",
         "showlegend": false,
         "type": "scatter",
         "x": [
          8.665604,
          8.733991
         ],
         "y": [
          6.677006,
          6.710618
         ]
        },
        {
         "legendgroup": "observed_arbor",
         "line": {
          "color": "black"
         },
         "mode": "lines",
         "showlegend": false,
         "type": "scatter",
         "x": [
          8.733991,
          8.804382
         ],
         "y": [
          6.710618,
          6.743548
         ]
        },
        {
         "legendgroup": "observed_arbor",
         "line": {
          "color": "black"
         },
         "mode": "lines",
         "showlegend": false,
         "type": "scatter",
         "x": [
          8.804382,
          8.866826
         ],
         "y": [
          6.743548,
          6.775095
         ]
        },
        {
         "legendgroup": "observed_arbor",
         "line": {
          "color": "black"
         },
         "mode": "lines",
         "showlegend": false,
         "type": "scatter",
         "x": [
          8.866826,
          8.896933
         ],
         "y": [
          6.775095,
          6.791982
         ]
        },
        {
         "legendgroup": "observed_arbor",
         "line": {
          "color": "black"
         },
         "mode": "lines",
         "showlegend": false,
         "type": "scatter",
         "x": [
          8.896933,
          9.02568
         ],
         "y": [
          6.791982,
          6.875429
         ]
        },
        {
         "legendgroup": "observed_arbor",
         "line": {
          "color": "black"
         },
         "mode": "lines",
         "showlegend": false,
         "type": "scatter",
         "x": [
          9.02568,
          9.097843
         ],
         "y": [
          6.875429,
          6.912371
         ]
        },
        {
         "legendgroup": "observed_arbor",
         "line": {
          "color": "black"
         },
         "mode": "lines",
         "showlegend": false,
         "type": "scatter",
         "x": [
          9.097843,
          9.182241
         ],
         "y": [
          6.912371,
          6.95085
         ]
        },
        {
         "legendgroup": "observed_arbor",
         "line": {
          "color": "black"
         },
         "mode": "lines",
         "showlegend": false,
         "type": "scatter",
         "x": [
          9.182241,
          9.267639
         ],
         "y": [
          6.95085,
          6.987473
         ]
        },
        {
         "legendgroup": "observed_arbor",
         "line": {
          "color": "black"
         },
         "mode": "lines",
         "showlegend": false,
         "type": "scatter",
         "x": [
          9.267639,
          9.352008
         ],
         "y": [
          6.987473,
          7.028233
         ]
        },
        {
         "legendgroup": "observed_arbor",
         "line": {
          "color": "black"
         },
         "mode": "lines",
         "showlegend": false,
         "type": "scatter",
         "x": [
          9.352008,
          9.45827
         ],
         "y": [
          7.028233,
          7.095891
         ]
        },
        {
         "legendgroup": "observed_arbor",
         "line": {
          "color": "black"
         },
         "mode": "lines",
         "showlegend": false,
         "type": "scatter",
         "x": [
          9.45827,
          9.642565
         ],
         "y": [
          7.095891,
          7.15395
         ]
        },
        {
         "legendgroup": "observed_arbor",
         "line": {
          "color": "black"
         },
         "mode": "lines",
         "showlegend": false,
         "type": "scatter",
         "x": [
          9.642565,
          9.764585
         ],
         "y": [
          7.15395,
          7.190189
         ]
        },
        {
         "legendgroup": "observed_arbor",
         "line": {
          "color": "black"
         },
         "mode": "lines",
         "showlegend": false,
         "type": "scatter",
         "x": [
          9.764585,
          9.878204
         ],
         "y": [
          7.190189,
          7.223934
         ]
        },
        {
         "legendgroup": "observed_arbor",
         "line": {
          "color": "black"
         },
         "mode": "lines",
         "showlegend": false,
         "type": "scatter",
         "x": [
          9.878204,
          9.965992
         ],
         "y": [
          7.223934,
          7.258784
         ]
        },
        {
         "legendgroup": "observed_arbor",
         "line": {
          "color": "black"
         },
         "mode": "lines",
         "showlegend": false,
         "type": "scatter",
         "x": [
          9.965992,
          10.036816
         ],
         "y": [
          7.258784,
          7.286899
         ]
        },
        {
         "legendgroup": "observed_arbor",
         "line": {
          "color": "black"
         },
         "mode": "lines",
         "showlegend": false,
         "type": "scatter",
         "x": [
          10.036816,
          10.09586
         ],
         "y": [
          7.286899,
          7.311948
         ]
        },
        {
         "legendgroup": "observed_arbor",
         "line": {
          "color": "black"
         },
         "mode": "lines",
         "showlegend": false,
         "type": "scatter",
         "x": [
          10.09586,
          10.148987
         ],
         "y": [
          7.311948,
          7.339929
         ]
        },
        {
         "legendgroup": "observed_arbor",
         "line": {
          "color": "black"
         },
         "mode": "lines",
         "showlegend": false,
         "type": "scatter",
         "x": [
          6.609631,
          6.643175
         ],
         "y": [
          5.44671,
          5.511134
         ]
        },
        {
         "legendgroup": "observed_arbor",
         "line": {
          "color": "black"
         },
         "mode": "lines",
         "showlegend": false,
         "type": "scatter",
         "x": [
          6.643175,
          6.649155
         ],
         "y": [
          5.511134,
          5.533419
         ]
        },
        {
         "legendgroup": "observed_arbor",
         "line": {
          "color": "black"
         },
         "mode": "lines",
         "showlegend": false,
         "type": "scatter",
         "x": [
          6.649155,
          6.662953
         ],
         "y": [
          5.533419,
          5.539674
         ]
        },
        {
         "legendgroup": "observed_arbor",
         "line": {
          "color": "black"
         },
         "mode": "lines",
         "showlegend": false,
         "type": "scatter",
         "x": [
          6.662953,
          6.715248
         ],
         "y": [
          5.539674,
          5.591262
         ]
        },
        {
         "legendgroup": "observed_arbor",
         "line": {
          "color": "black"
         },
         "mode": "lines",
         "showlegend": false,
         "type": "scatter",
         "x": [
          6.715248,
          6.751799
         ],
         "y": [
          5.591262,
          5.650039
         ]
        },
        {
         "legendgroup": "observed_arbor",
         "line": {
          "color": "black"
         },
         "mode": "lines",
         "showlegend": false,
         "type": "scatter",
         "x": [
          6.751799,
          6.776912
         ],
         "y": [
          5.650039,
          5.698925
         ]
        },
        {
         "legendgroup": "observed_arbor",
         "line": {
          "color": "black"
         },
         "mode": "lines",
         "showlegend": false,
         "type": "scatter",
         "x": [
          6.776912,
          6.800124
         ],
         "y": [
          5.698925,
          5.744111
         ]
        },
        {
         "legendgroup": "observed_arbor",
         "line": {
          "color": "black"
         },
         "mode": "lines",
         "showlegend": false,
         "type": "scatter",
         "x": [
          6.800124,
          6.820597
         ],
         "y": [
          5.744111,
          5.777413
         ]
        },
        {
         "legendgroup": "observed_arbor",
         "line": {
          "color": "black"
         },
         "mode": "lines",
         "showlegend": false,
         "type": "scatter",
         "x": [
          6.820597,
          7.077187
         ],
         "y": [
          5.777413,
          5.968529
         ]
        },
        {
         "legendgroup": "observed_arbor",
         "line": {
          "color": "black"
         },
         "mode": "lines",
         "showlegend": false,
         "type": "scatter",
         "x": [
          7.077187,
          7.118346
         ],
         "y": [
          5.968529,
          6.019734
         ]
        },
        {
         "legendgroup": "observed_arbor",
         "line": {
          "color": "black"
         },
         "mode": "lines",
         "showlegend": false,
         "type": "scatter",
         "x": [
          7.118346,
          7.151266
         ],
         "y": [
          6.019734,
          6.065468
         ]
        },
        {
         "legendgroup": "observed_arbor",
         "line": {
          "color": "black"
         },
         "mode": "lines",
         "showlegend": false,
         "type": "scatter",
         "x": [
          7.151266,
          7.181713
         ],
         "y": [
          6.065468,
          6.112889
         ]
        },
        {
         "legendgroup": "observed_arbor",
         "line": {
          "color": "black"
         },
         "mode": "lines",
         "showlegend": false,
         "type": "scatter",
         "x": [
          7.181713,
          7.215798
         ],
         "y": [
          6.112889,
          6.163209
         ]
        },
        {
         "legendgroup": "observed_arbor",
         "line": {
          "color": "black"
         },
         "mode": "lines",
         "showlegend": false,
         "type": "scatter",
         "x": [
          7.215798,
          7.247258
         ],
         "y": [
          6.163209,
          6.204315
         ]
        },
        {
         "legendgroup": "observed_arbor",
         "line": {
          "color": "black"
         },
         "mode": "lines",
         "showlegend": false,
         "type": "scatter",
         "x": [
          7.247258,
          7.287812
         ],
         "y": [
          6.204315,
          6.247452
         ]
        },
        {
         "legendgroup": "observed_arbor",
         "line": {
          "color": "black"
         },
         "mode": "lines",
         "showlegend": false,
         "type": "scatter",
         "x": [
          7.287812,
          7.32841
         ],
         "y": [
          6.247452,
          6.290636
         ]
        },
        {
         "legendgroup": "observed_arbor",
         "line": {
          "color": "black"
         },
         "mode": "lines",
         "showlegend": false,
         "type": "scatter",
         "x": [
          7.32841,
          7.369004
         ],
         "y": [
          6.290636,
          6.333816
         ]
        },
        {
         "legendgroup": "observed_arbor",
         "line": {
          "color": "black"
         },
         "mode": "lines",
         "showlegend": false,
         "type": "scatter",
         "x": [
          7.369004,
          7.411715
         ],
         "y": [
          6.333816,
          6.377062
         ]
        },
        {
         "legendgroup": "observed_arbor",
         "line": {
          "color": "black"
         },
         "mode": "lines",
         "showlegend": false,
         "type": "scatter",
         "x": [
          7.411715,
          7.440832
         ],
         "y": [
          6.377062,
          6.408674
         ]
        },
        {
         "legendgroup": "observed_arbor",
         "line": {
          "color": "black"
         },
         "mode": "lines",
         "showlegend": false,
         "type": "scatter",
         "x": [
          7.440832,
          7.465355
         ],
         "y": [
          6.408674,
          6.444135
         ]
        },
        {
         "legendgroup": "observed_arbor",
         "line": {
          "color": "black"
         },
         "mode": "lines",
         "showlegend": false,
         "type": "scatter",
         "x": [
          7.465355,
          7.503229
         ],
         "y": [
          6.444135,
          6.493639
         ]
        },
        {
         "legendgroup": "observed_arbor",
         "line": {
          "color": "black"
         },
         "mode": "lines",
         "showlegend": false,
         "type": "scatter",
         "x": [
          7.503229,
          7.555684
         ],
         "y": [
          6.493639,
          6.547915
         ]
        },
        {
         "legendgroup": "observed_arbor",
         "line": {
          "color": "black"
         },
         "mode": "lines",
         "showlegend": false,
         "type": "scatter",
         "x": [
          7.555684,
          7.589156
         ],
         "y": [
          6.547915,
          6.573934
         ]
        },
        {
         "legendgroup": "observed_arbor",
         "line": {
          "color": "black"
         },
         "mode": "lines",
         "showlegend": false,
         "type": "scatter",
         "x": [
          7.589156,
          7.64932
         ],
         "y": [
          6.573934,
          6.620702
         ]
        },
        {
         "legendgroup": "observed_arbor",
         "line": {
          "color": "black"
         },
         "mode": "lines",
         "showlegend": false,
         "type": "scatter",
         "x": [
          7.64932,
          7.708462
         ],
         "y": [
          6.620702,
          6.673745
         ]
        },
        {
         "legendgroup": "observed_arbor",
         "line": {
          "color": "black"
         },
         "mode": "lines",
         "showlegend": false,
         "type": "scatter",
         "x": [
          7.708462,
          7.834613
         ],
         "y": [
          6.673745,
          6.809653
         ]
        },
        {
         "legendgroup": "observed_arbor",
         "line": {
          "color": "black"
         },
         "mode": "lines",
         "showlegend": false,
         "type": "scatter",
         "x": [
          7.834613,
          7.856123
         ],
         "y": [
          6.809653,
          6.828428
         ]
        },
        {
         "legendgroup": "observed_arbor",
         "line": {
          "color": "black"
         },
         "mode": "lines",
         "showlegend": false,
         "type": "scatter",
         "x": [
          7.856123,
          7.87592
         ],
         "y": [
          6.828428,
          6.829783
         ]
        },
        {
         "legendgroup": "observed_arbor",
         "line": {
          "color": "black"
         },
         "mode": "lines",
         "showlegend": false,
         "type": "scatter",
         "x": [
          7.87592,
          7.932409
         ],
         "y": [
          6.829783,
          6.851531
         ]
        },
        {
         "legendgroup": "observed_arbor",
         "line": {
          "color": "black"
         },
         "mode": "lines",
         "showlegend": false,
         "type": "scatter",
         "x": [
          7.932409,
          7.959982
         ],
         "y": [
          6.851531,
          6.858939
         ]
        },
        {
         "legendgroup": "observed_arbor",
         "line": {
          "color": "black"
         },
         "mode": "lines",
         "showlegend": false,
         "type": "scatter",
         "x": [
          7.959982,
          7.995514
         ],
         "y": [
          6.858939,
          6.859187
         ]
        },
        {
         "legendgroup": "observed_arbor",
         "line": {
          "color": "black"
         },
         "mode": "lines",
         "showlegend": false,
         "type": "scatter",
         "x": [
          7.995514,
          8.0179
         ],
         "y": [
          6.859187,
          6.862337
         ]
        },
        {
         "legendgroup": "observed_arbor",
         "line": {
          "color": "black"
         },
         "mode": "lines",
         "showlegend": false,
         "type": "scatter",
         "x": [
          8.0179,
          8.048461
         ],
         "y": [
          6.862337,
          6.871171
         ]
        },
        {
         "legendgroup": "observed_arbor",
         "line": {
          "color": "black"
         },
         "mode": "lines",
         "showlegend": false,
         "type": "scatter",
         "x": [
          8.048461,
          8.097259
         ],
         "y": [
          6.871171,
          6.885278
         ]
        },
        {
         "legendgroup": "observed_arbor",
         "line": {
          "color": "black"
         },
         "mode": "lines",
         "showlegend": false,
         "type": "scatter",
         "x": [
          8.097259,
          8.156045
         ],
         "y": [
          6.885278,
          6.900714
         ]
        },
        {
         "legendgroup": "observed_arbor",
         "line": {
          "color": "black"
         },
         "mode": "lines",
         "showlegend": false,
         "type": "scatter",
         "x": [
          8.156045,
          8.203348
         ],
         "y": [
          6.900714,
          6.914683
         ]
        },
        {
         "legendgroup": "observed_arbor",
         "line": {
          "color": "black"
         },
         "mode": "lines",
         "showlegend": false,
         "type": "scatter",
         "x": [
          8.203348,
          8.268137
         ],
         "y": [
          6.914683,
          6.932255
         ]
        },
        {
         "legendgroup": "observed_arbor",
         "line": {
          "color": "black"
         },
         "mode": "lines",
         "showlegend": false,
         "type": "scatter",
         "x": [
          8.268137,
          8.386637
         ],
         "y": [
          6.932255,
          6.997203
         ]
        },
        {
         "legendgroup": "observed_arbor",
         "line": {
          "color": "black"
         },
         "mode": "lines",
         "showlegend": false,
         "type": "scatter",
         "x": [
          8.386637,
          8.425089
         ],
         "y": [
          6.997203,
          7.0234
         ]
        },
        {
         "legendgroup": "observed_arbor",
         "line": {
          "color": "black"
         },
         "mode": "lines",
         "showlegend": false,
         "type": "scatter",
         "x": [
          8.425089,
          8.475674
         ],
         "y": [
          7.0234,
          7.029318
         ]
        },
        {
         "legendgroup": "observed_arbor",
         "line": {
          "color": "black"
         },
         "mode": "lines",
         "showlegend": false,
         "type": "scatter",
         "x": [
          8.475674,
          8.573792
         ],
         "y": [
          7.029318,
          7.046171
         ]
        },
        {
         "legendgroup": "observed_arbor",
         "line": {
          "color": "black"
         },
         "mode": "lines",
         "showlegend": false,
         "type": "scatter",
         "x": [
          8.573792,
          8.648517
         ],
         "y": [
          7.046171,
          7.059007
         ]
        },
        {
         "legendgroup": "observed_arbor",
         "line": {
          "color": "black"
         },
         "mode": "lines",
         "showlegend": false,
         "type": "scatter",
         "x": [
          8.648517,
          8.713187
         ],
         "y": [
          7.059007,
          7.070115
         ]
        },
        {
         "legendgroup": "observed_arbor",
         "line": {
          "color": "black"
         },
         "mode": "lines",
         "showlegend": false,
         "type": "scatter",
         "x": [
          8.713187,
          8.748651
         ],
         "y": [
          7.070115,
          7.076207
         ]
        },
        {
         "legendgroup": "observed_arbor",
         "line": {
          "color": "black"
         },
         "mode": "lines",
         "showlegend": false,
         "type": "scatter",
         "x": [
          6.471485,
          6.38206
         ],
         "y": [
          5.505564,
          5.499619
         ]
        },
        {
         "legendgroup": "observed_arbor",
         "line": {
          "color": "black"
         },
         "mode": "lines",
         "showlegend": false,
         "type": "scatter",
         "x": [
          6.38206,
          6.241064
         ],
         "y": [
          5.499619,
          5.464654
         ]
        },
        {
         "legendgroup": "observed_arbor",
         "line": {
          "color": "black"
         },
         "mode": "lines",
         "showlegend": false,
         "type": "scatter",
         "x": [
          6.241064,
          6.192747
         ],
         "y": [
          5.464654,
          5.466297
         ]
        },
        {
         "legendgroup": "observed_arbor",
         "line": {
          "color": "black"
         },
         "mode": "lines",
         "showlegend": false,
         "type": "scatter",
         "x": [
          6.192747,
          6.121018
         ],
         "y": [
          5.466297,
          5.464244
         ]
        },
        {
         "legendgroup": "observed_arbor",
         "line": {
          "color": "black"
         },
         "mode": "lines",
         "showlegend": false,
         "type": "scatter",
         "x": [
          6.121018,
          6.063946
         ],
         "y": [
          5.464244,
          5.468959
         ]
        },
        {
         "legendgroup": "observed_arbor",
         "line": {
          "color": "black"
         },
         "mode": "lines",
         "showlegend": false,
         "type": "scatter",
         "x": [
          6.063946,
          6.016987
         ],
         "y": [
          5.468959,
          5.464129
         ]
        },
        {
         "legendgroup": "observed_arbor",
         "line": {
          "color": "black"
         },
         "mode": "lines",
         "showlegend": false,
         "type": "scatter",
         "x": [
          6.016987,
          5.785907
         ],
         "y": [
          5.464129,
          5.418758
         ]
        },
        {
         "legendgroup": "observed_arbor",
         "line": {
          "color": "black"
         },
         "mode": "lines",
         "showlegend": false,
         "type": "scatter",
         "x": [
          5.785907,
          5.699641
         ],
         "y": [
          5.418758,
          5.426225
         ]
        },
        {
         "legendgroup": "observed_arbor",
         "line": {
          "color": "black"
         },
         "mode": "lines",
         "showlegend": false,
         "type": "scatter",
         "x": [
          5.699641,
          5.604626
         ],
         "y": [
          5.426225,
          5.421718
         ]
        },
        {
         "legendgroup": "observed_arbor",
         "line": {
          "color": "black"
         },
         "mode": "lines",
         "showlegend": false,
         "type": "scatter",
         "x": [
          5.604626,
          5.569779
         ],
         "y": [
          5.421718,
          5.423063
         ]
        },
        {
         "legendgroup": "observed_arbor",
         "line": {
          "color": "black"
         },
         "mode": "lines",
         "showlegend": false,
         "type": "scatter",
         "x": [
          5.569779,
          5.496505
         ],
         "y": [
          5.423063,
          5.409999
         ]
        },
        {
         "legendgroup": "observed_arbor",
         "line": {
          "color": "black"
         },
         "mode": "lines",
         "showlegend": false,
         "type": "scatter",
         "x": [
          5.496505,
          5.445801
         ],
         "y": [
          5.409999,
          5.407041
         ]
        },
        {
         "legendgroup": "observed_arbor",
         "line": {
          "color": "black"
         },
         "mode": "lines",
         "showlegend": false,
         "type": "scatter",
         "x": [
          5.445801,
          5.186149
         ],
         "y": [
          5.407041,
          5.3828
         ]
        },
        {
         "legendgroup": "observed_arbor",
         "line": {
          "color": "black"
         },
         "mode": "lines",
         "showlegend": false,
         "type": "scatter",
         "x": [
          5.186149,
          5.123882
         ],
         "y": [
          5.3828,
          5.379992
         ]
        },
        {
         "legendgroup": "observed_arbor",
         "line": {
          "color": "black"
         },
         "mode": "lines",
         "showlegend": false,
         "type": "scatter",
         "x": [
          5.123882,
          5.064679
         ],
         "y": [
          5.379992,
          5.377321
         ]
        },
        {
         "legendgroup": "observed_arbor",
         "line": {
          "color": "black"
         },
         "mode": "lines",
         "showlegend": false,
         "type": "scatter",
         "x": [
          5.064679,
          5.008601
         ],
         "y": [
          5.377321,
          5.371794
         ]
        },
        {
         "legendgroup": "observed_arbor",
         "line": {
          "color": "black"
         },
         "mode": "lines",
         "showlegend": false,
         "type": "scatter",
         "x": [
          5.008601,
          4.951726
         ],
         "y": [
          5.371794,
          5.366188
         ]
        },
        {
         "legendgroup": "observed_arbor",
         "line": {
          "color": "black"
         },
         "mode": "lines",
         "showlegend": false,
         "type": "scatter",
         "x": [
          4.951726,
          4.89158
         ],
         "y": [
          5.366188,
          5.363267
         ]
        },
        {
         "legendgroup": "observed_arbor",
         "line": {
          "color": "black"
         },
         "mode": "lines",
         "showlegend": false,
         "type": "scatter",
         "x": [
          4.89158,
          4.844048
         ],
         "y": [
          5.363267,
          5.363955
         ]
        },
        {
         "legendgroup": "observed_arbor",
         "line": {
          "color": "black"
         },
         "mode": "lines",
         "showlegend": false,
         "type": "scatter",
         "x": [
          4.844048,
          4.781839
         ],
         "y": [
          5.363955,
          5.367849
         ]
        },
        {
         "legendgroup": "observed_arbor",
         "line": {
          "color": "black"
         },
         "mode": "lines",
         "showlegend": false,
         "type": "scatter",
         "x": [
          4.781839,
          4.71849
         ],
         "y": [
          5.367849,
          5.376313
         ]
        },
        {
         "legendgroup": "observed_arbor",
         "line": {
          "color": "black"
         },
         "mode": "lines",
         "showlegend": false,
         "type": "scatter",
         "x": [
          4.71849,
          4.682484
         ],
         "y": [
          5.376313,
          5.376593
         ]
        },
        {
         "legendgroup": "observed_arbor",
         "line": {
          "color": "black"
         },
         "mode": "lines",
         "showlegend": false,
         "type": "scatter",
         "x": [
          4.682484,
          4.624158
         ],
         "y": [
          5.376593,
          5.371758
         ]
        },
        {
         "legendgroup": "observed_arbor",
         "line": {
          "color": "black"
         },
         "mode": "lines",
         "showlegend": false,
         "type": "scatter",
         "x": [
          6.43287,
          6.586821
         ],
         "y": [
          5.674511,
          5.72903
         ]
        },
        {
         "legendgroup": "observed_arbor",
         "line": {
          "color": "black"
         },
         "mode": "lines",
         "showlegend": false,
         "type": "scatter",
         "x": [
          6.586821,
          6.682537
         ],
         "y": [
          5.72903,
          5.787177
         ]
        },
        {
         "legendgroup": "observed_arbor",
         "line": {
          "color": "black"
         },
         "mode": "lines",
         "showlegend": false,
         "type": "scatter",
         "x": [
          6.682537,
          6.72531
         ],
         "y": [
          5.787177,
          5.8201
         ]
        },
        {
         "legendgroup": "observed_arbor",
         "line": {
          "color": "black"
         },
         "mode": "lines",
         "showlegend": false,
         "type": "scatter",
         "x": [
          6.72531,
          6.753902
         ],
         "y": [
          5.8201,
          5.842039
         ]
        },
        {
         "legendgroup": "observed_arbor",
         "line": {
          "color": "black"
         },
         "mode": "lines",
         "showlegend": false,
         "type": "scatter",
         "x": [
          6.753902,
          6.786723
         ],
         "y": [
          5.842039,
          5.855836
         ]
        },
        {
         "legendgroup": "observed_arbor",
         "line": {
          "color": "black"
         },
         "mode": "lines",
         "showlegend": false,
         "type": "scatter",
         "x": [
          6.786723,
          6.841722
         ],
         "y": [
          5.855836,
          5.878895
         ]
        },
        {
         "legendgroup": "observed_arbor",
         "line": {
          "color": "black"
         },
         "mode": "lines",
         "showlegend": false,
         "type": "scatter",
         "x": [
          6.841722,
          6.896742
         ],
         "y": [
          5.878895,
          5.901902
         ]
        },
        {
         "legendgroup": "observed_arbor",
         "line": {
          "color": "black"
         },
         "mode": "lines",
         "showlegend": false,
         "type": "scatter",
         "x": [
          6.896742,
          6.935815
         ],
         "y": [
          5.901902,
          5.913373
         ]
        },
        {
         "legendgroup": "observed_arbor",
         "line": {
          "color": "black"
         },
         "mode": "lines",
         "showlegend": false,
         "type": "scatter",
         "x": [
          6.935815,
          7.134645
         ],
         "y": [
          5.913373,
          5.954287
         ]
        },
        {
         "legendgroup": "observed_arbor",
         "line": {
          "color": "black"
         },
         "mode": "lines",
         "showlegend": false,
         "type": "scatter",
         "x": [
          7.134645,
          7.200007
         ],
         "y": [
          5.954287,
          5.961681
         ]
        },
        {
         "legendgroup": "observed_arbor",
         "line": {
          "color": "black"
         },
         "mode": "lines",
         "showlegend": false,
         "type": "scatter",
         "x": [
          7.200007,
          7.284846
         ],
         "y": [
          5.961681,
          5.989336
         ]
        },
        {
         "legendgroup": "observed_arbor",
         "line": {
          "color": "black"
         },
         "mode": "lines",
         "showlegend": false,
         "type": "scatter",
         "x": [
          7.284846,
          7.341424
         ],
         "y": [
          5.989336,
          6.007836
         ]
        },
        {
         "legendgroup": "observed_arbor",
         "line": {
          "color": "black"
         },
         "mode": "lines",
         "showlegend": false,
         "type": "scatter",
         "x": [
          7.341424,
          7.397985
         ],
         "y": [
          6.007836,
          6.026389
         ]
        },
        {
         "legendgroup": "observed_arbor",
         "line": {
          "color": "black"
         },
         "mode": "lines",
         "showlegend": false,
         "type": "scatter",
         "x": [
          7.397985,
          7.454529
         ],
         "y": [
          6.026389,
          6.044994
         ]
        },
        {
         "legendgroup": "observed_arbor",
         "line": {
          "color": "black"
         },
         "mode": "lines",
         "showlegend": false,
         "type": "scatter",
         "x": [
          7.454529,
          7.505457
         ],
         "y": [
          6.044994,
          6.066479
         ]
        },
        {
         "legendgroup": "observed_arbor",
         "line": {
          "color": "black"
         },
         "mode": "lines",
         "showlegend": false,
         "type": "scatter",
         "x": [
          7.505457,
          7.546462
         ],
         "y": [
          6.066479,
          6.086967
         ]
        },
        {
         "legendgroup": "observed_arbor",
         "line": {
          "color": "black"
         },
         "mode": "lines",
         "showlegend": false,
         "type": "scatter",
         "x": [
          7.546462,
          7.579223
         ],
         "y": [
          6.086967,
          6.094969
         ]
        },
        {
         "legendgroup": "observed_arbor",
         "line": {
          "color": "black"
         },
         "mode": "lines",
         "showlegend": false,
         "type": "scatter",
         "x": [
          7.579223,
          7.801775
         ],
         "y": [
          6.094969,
          6.190308
         ]
        },
        {
         "legendgroup": "observed_arbor",
         "line": {
          "color": "black"
         },
         "mode": "lines",
         "showlegend": false,
         "type": "scatter",
         "x": [
          7.801775,
          8.069708
         ],
         "y": [
          6.190308,
          6.349544
         ]
        },
        {
         "legendgroup": "observed_arbor",
         "line": {
          "color": "black"
         },
         "mode": "lines",
         "showlegend": false,
         "type": "scatter",
         "x": [
          8.069708,
          8.297223
         ],
         "y": [
          6.349544,
          6.399724
         ]
        },
        {
         "legendgroup": "observed_arbor",
         "line": {
          "color": "black"
         },
         "mode": "lines",
         "showlegend": false,
         "type": "scatter",
         "x": [
          8.297223,
          8.355701
         ],
         "y": [
          6.399724,
          6.404949
         ]
        },
        {
         "legendgroup": "observed_arbor",
         "line": {
          "color": "black"
         },
         "mode": "lines",
         "showlegend": false,
         "type": "scatter",
         "x": [
          8.355701,
          8.382466
         ],
         "y": [
          6.404949,
          6.411837
         ]
        },
        {
         "legendgroup": "observed_arbor",
         "line": {
          "color": "black"
         },
         "mode": "lines",
         "showlegend": false,
         "type": "scatter",
         "x": [
          8.382466,
          8.433438
         ],
         "y": [
          6.411837,
          6.423399
         ]
        },
        {
         "legendgroup": "observed_arbor",
         "line": {
          "color": "black"
         },
         "mode": "lines",
         "showlegend": false,
         "type": "scatter",
         "x": [
          8.433438,
          8.458899
         ],
         "y": [
          6.423399,
          6.435293
         ]
        },
        {
         "legendgroup": "observed_arbor",
         "line": {
          "color": "black"
         },
         "mode": "lines",
         "showlegend": false,
         "type": "scatter",
         "x": [
          6.323501,
          6.389922
         ],
         "y": [
          6.726165,
          6.711655
         ]
        },
        {
         "legendgroup": "observed_arbor",
         "line": {
          "color": "black"
         },
         "mode": "lines",
         "showlegend": false,
         "type": "scatter",
         "x": [
          6.389922,
          6.432912
         ],
         "y": [
          6.711655,
          6.708392
         ]
        },
        {
         "legendgroup": "observed_arbor",
         "line": {
          "color": "black"
         },
         "mode": "lines",
         "showlegend": false,
         "type": "scatter",
         "x": [
          6.432912,
          6.477234
         ],
         "y": [
          6.708392,
          6.705026
         ]
        },
        {
         "legendgroup": "observed_arbor",
         "line": {
          "color": "black"
         },
         "mode": "lines",
         "showlegend": false,
         "type": "scatter",
         "x": [
          6.477234,
          6.619101
         ],
         "y": [
          6.705026,
          6.650136
         ]
        },
        {
         "legendgroup": "observed_arbor",
         "line": {
          "color": "black"
         },
         "mode": "lines",
         "showlegend": false,
         "type": "scatter",
         "x": [
          6.619101,
          6.720359
         ],
         "y": [
          6.650136,
          6.657959
         ]
        },
        {
         "legendgroup": "observed_arbor",
         "line": {
          "color": "black"
         },
         "mode": "lines",
         "showlegend": false,
         "type": "scatter",
         "x": [
          6.720359,
          6.802743
         ],
         "y": [
          6.657959,
          6.658314
         ]
        },
        {
         "legendgroup": "observed_arbor",
         "line": {
          "color": "black"
         },
         "mode": "lines",
         "showlegend": false,
         "type": "scatter",
         "x": [
          6.802743,
          6.875916
         ],
         "y": [
          6.658314,
          6.661618
         ]
        },
        {
         "legendgroup": "observed_arbor",
         "line": {
          "color": "black"
         },
         "mode": "lines",
         "showlegend": false,
         "type": "scatter",
         "x": [
          6.875916,
          6.941074
         ],
         "y": [
          6.661618,
          6.675048
         ]
        },
        {
         "legendgroup": "observed_arbor",
         "line": {
          "color": "black"
         },
         "mode": "lines",
         "showlegend": false,
         "type": "scatter",
         "x": [
          6.941074,
          7.011803
         ],
         "y": [
          6.675048,
          6.680456
         ]
        },
        {
         "legendgroup": "observed_arbor",
         "line": {
          "color": "black"
         },
         "mode": "lines",
         "showlegend": false,
         "type": "scatter",
         "x": [
          7.011803,
          7.068787
         ],
         "y": [
          6.680456,
          6.684813
         ]
        },
        {
         "legendgroup": "observed_arbor",
         "line": {
          "color": "black"
         },
         "mode": "lines",
         "showlegend": false,
         "type": "scatter",
         "x": [
          7.068787,
          7.116154
         ],
         "y": [
          6.684813,
          6.695832
         ]
        },
        {
         "legendgroup": "observed_arbor",
         "line": {
          "color": "black"
         },
         "mode": "lines",
         "showlegend": false,
         "type": "scatter",
         "x": [
          7.116154,
          7.244714
         ],
         "y": [
          6.695832,
          6.739197
         ]
        },
        {
         "legendgroup": "observed_arbor",
         "line": {
          "color": "black"
         },
         "mode": "lines",
         "showlegend": false,
         "type": "scatter",
         "x": [
          7.244714,
          7.332492
         ],
         "y": [
          6.739197,
          6.728891
         ]
        },
        {
         "legendgroup": "observed_arbor",
         "line": {
          "color": "black"
         },
         "mode": "lines",
         "showlegend": false,
         "type": "scatter",
         "x": [
          7.332492,
          7.502521
         ],
         "y": [
          6.728891,
          6.711175
         ]
        },
        {
         "legendgroup": "observed_arbor",
         "line": {
          "color": "black"
         },
         "mode": "lines",
         "showlegend": false,
         "type": "scatter",
         "x": [
          7.502521,
          7.785586
         ],
         "y": [
          6.711175,
          6.672185
         ]
        },
        {
         "legendgroup": "observed_arbor",
         "line": {
          "color": "black"
         },
         "mode": "lines",
         "showlegend": false,
         "type": "scatter",
         "x": [
          6.355509,
          6.416111
         ],
         "y": [
          5.945794,
          5.990503
         ]
        },
        {
         "legendgroup": "observed_arbor",
         "line": {
          "color": "black"
         },
         "mode": "lines",
         "showlegend": false,
         "type": "scatter",
         "x": [
          6.416111,
          6.467035
         ],
         "y": [
          5.990503,
          6.01861
         ]
        },
        {
         "legendgroup": "observed_arbor",
         "line": {
          "color": "black"
         },
         "mode": "lines",
         "showlegend": false,
         "type": "scatter",
         "x": [
          6.467035,
          6.509001
         ],
         "y": [
          6.01861,
          6.043329
         ]
        },
        {
         "legendgroup": "observed_arbor",
         "line": {
          "color": "black"
         },
         "mode": "lines",
         "showlegend": false,
         "type": "scatter",
         "x": [
          6.509001,
          6.537506
         ],
         "y": [
          6.043329,
          6.06533
         ]
        },
        {
         "legendgroup": "observed_arbor",
         "line": {
          "color": "black"
         },
         "mode": "lines",
         "showlegend": false,
         "type": "scatter",
         "x": [
          6.537506,
          6.577719
         ],
         "y": [
          6.06533,
          6.096368
         ]
        },
        {
         "legendgroup": "observed_arbor",
         "line": {
          "color": "black"
         },
         "mode": "lines",
         "showlegend": false,
         "type": "scatter",
         "x": [
          6.577719,
          6.623807
         ],
         "y": [
          6.096368,
          6.128161
         ]
        },
        {
         "legendgroup": "observed_arbor",
         "line": {
          "color": "black"
         },
         "mode": "lines",
         "showlegend": false,
         "type": "scatter",
         "x": [
          6.623807,
          6.670127
         ],
         "y": [
          6.128161,
          6.154658
         ]
        },
        {
         "legendgroup": "observed_arbor",
         "line": {
          "color": "black"
         },
         "mode": "lines",
         "showlegend": false,
         "type": "scatter",
         "x": [
          6.670127,
          6.730959
         ],
         "y": [
          6.154658,
          6.187732
         ]
        },
        {
         "legendgroup": "observed_arbor",
         "line": {
          "color": "black"
         },
         "mode": "lines",
         "showlegend": false,
         "type": "scatter",
         "x": [
          6.730959,
          6.771528
         ],
         "y": [
          6.187732,
          6.213197
         ]
        },
        {
         "legendgroup": "observed_arbor",
         "line": {
          "color": "black"
         },
         "mode": "lines",
         "showlegend": false,
         "type": "scatter",
         "x": [
          6.771528,
          6.799941
         ],
         "y": [
          6.213197,
          6.232799
         ]
        },
        {
         "legendgroup": "observed_arbor",
         "line": {
          "color": "black"
         },
         "mode": "lines",
         "showlegend": false,
         "type": "scatter",
         "x": [
          6.799941,
          6.946573
         ],
         "y": [
          6.232799,
          6.258134
         ]
        },
        {
         "legendgroup": "observed_arbor",
         "line": {
          "color": "black"
         },
         "mode": "lines",
         "showlegend": false,
         "type": "scatter",
         "x": [
          6.946573,
          6.971958
         ],
         "y": [
          6.258134,
          6.264039
         ]
        },
        {
         "legendgroup": "observed_arbor",
         "line": {
          "color": "black"
         },
         "mode": "lines",
         "showlegend": false,
         "type": "scatter",
         "x": [
          6.971958,
          7.002087
         ],
         "y": [
          6.264039,
          6.26644
         ]
        },
        {
         "legendgroup": "observed_arbor",
         "line": {
          "color": "black"
         },
         "mode": "lines",
         "showlegend": false,
         "type": "scatter",
         "x": [
          7.002087,
          7.01763
         ],
         "y": [
          6.26644,
          6.293005
         ]
        },
        {
         "legendgroup": "observed_arbor",
         "line": {
          "color": "black"
         },
         "mode": "lines",
         "showlegend": false,
         "type": "scatter",
         "x": [
          7.01763,
          7.065412
         ],
         "y": [
          6.293005,
          6.322753
         ]
        },
        {
         "legendgroup": "observed_arbor",
         "line": {
          "color": "black"
         },
         "mode": "lines",
         "showlegend": false,
         "type": "scatter",
         "x": [
          7.065412,
          7.177811
         ],
         "y": [
          6.322753,
          6.355164
         ]
        },
        {
         "legendgroup": "observed_arbor",
         "line": {
          "color": "black"
         },
         "mode": "lines",
         "showlegend": false,
         "type": "scatter",
         "x": [
          7.177811,
          7.2595
         ],
         "y": [
          6.355164,
          6.374402
         ]
        },
        {
         "legendgroup": "observed_arbor",
         "line": {
          "color": "black"
         },
         "mode": "lines",
         "showlegend": false,
         "type": "scatter",
         "x": [
          7.2595,
          7.307407
         ],
         "y": [
          6.374402,
          6.38876
         ]
        },
        {
         "legendgroup": "observed_arbor",
         "line": {
          "color": "black"
         },
         "mode": "lines",
         "showlegend": false,
         "type": "scatter",
         "x": [
          7.307407,
          7.351938
         ],
         "y": [
          6.38876,
          6.408132
         ]
        },
        {
         "legendgroup": "observed_arbor",
         "line": {
          "color": "black"
         },
         "mode": "lines",
         "showlegend": false,
         "type": "scatter",
         "x": [
          7.351938,
          7.609648
         ],
         "y": [
          6.408132,
          6.479369
         ]
        },
        {
         "legendgroup": "observed_arbor",
         "line": {
          "color": "black"
         },
         "mode": "lines",
         "showlegend": false,
         "type": "scatter",
         "x": [
          7.609648,
          7.677764
         ],
         "y": [
          6.479369,
          6.493738
         ]
        },
        {
         "legendgroup": "observed_arbor",
         "line": {
          "color": "black"
         },
         "mode": "lines",
         "showlegend": false,
         "type": "scatter",
         "x": [
          7.677764,
          7.73429
         ],
         "y": [
          6.493738,
          6.499214
         ]
        },
        {
         "legendgroup": "observed_arbor",
         "line": {
          "color": "black"
         },
         "mode": "lines",
         "showlegend": false,
         "type": "scatter",
         "x": [
          7.73429,
          7.811576
         ],
         "y": [
          6.499214,
          6.50045
         ]
        },
        {
         "legendgroup": "observed_arbor",
         "line": {
          "color": "black"
         },
         "mode": "lines",
         "showlegend": false,
         "type": "scatter",
         "x": [
          7.811576,
          7.894664
         ],
         "y": [
          6.50045,
          6.493483
         ]
        },
        {
         "legendgroup": "observed_arbor",
         "line": {
          "color": "black"
         },
         "mode": "lines",
         "showlegend": false,
         "type": "scatter",
         "x": [
          7.894664,
          8.009473
         ],
         "y": [
          6.493483,
          6.487069
         ]
        },
        {
         "legendgroup": "observed_arbor",
         "line": {
          "color": "black"
         },
         "mode": "lines",
         "showlegend": false,
         "type": "scatter",
         "x": [
          6.395472,
          6.432838
         ],
         "y": [
          5.850314,
          5.894408
         ]
        },
        {
         "legendgroup": "observed_arbor",
         "line": {
          "color": "black"
         },
         "mode": "lines",
         "showlegend": false,
         "type": "scatter",
         "x": [
          6.432838,
          6.458207
         ],
         "y": [
          5.894408,
          5.936734
         ]
        },
        {
         "legendgroup": "observed_arbor",
         "line": {
          "color": "black"
         },
         "mode": "lines",
         "showlegend": false,
         "type": "scatter",
         "x": [
          6.458207,
          6.435015
         ],
         "y": [
          5.936734,
          6.132924
         ]
        },
        {
         "legendgroup": "observed_arbor",
         "line": {
          "color": "black"
         },
         "mode": "lines",
         "showlegend": false,
         "type": "scatter",
         "x": [
          6.435015,
          6.445985
         ],
         "y": [
          6.132924,
          6.238193
         ]
        },
        {
         "legendgroup": "observed_arbor",
         "line": {
          "color": "black"
         },
         "mode": "lines",
         "showlegend": false,
         "type": "scatter",
         "x": [
          6.445985,
          6.449513
         ],
         "y": [
          6.238193,
          6.338064
         ]
        },
        {
         "legendgroup": "observed_arbor",
         "line": {
          "color": "black"
         },
         "mode": "lines",
         "showlegend": false,
         "type": "scatter",
         "x": [
          6.449513,
          6.455646
         ],
         "y": [
          6.338064,
          6.393863
         ]
        },
        {
         "legendgroup": "observed_arbor",
         "line": {
          "color": "black"
         },
         "mode": "lines",
         "showlegend": false,
         "type": "scatter",
         "x": [
          6.521944,
          6.381818
         ],
         "y": [
          5.341106,
          5.337106
         ]
        },
        {
         "legendgroup": "observed_arbor",
         "line": {
          "color": "black"
         },
         "mode": "lines",
         "showlegend": false,
         "type": "scatter",
         "x": [
          6.381818,
          6.327313
         ],
         "y": [
          5.337106,
          5.356081
         ]
        },
        {
         "legendgroup": "observed_arbor",
         "line": {
          "color": "black"
         },
         "mode": "lines",
         "showlegend": false,
         "type": "scatter",
         "x": [
          6.327313,
          6.285537
         ],
         "y": [
          5.356081,
          5.373804
         ]
        },
        {
         "legendgroup": "observed_arbor",
         "line": {
          "color": "black"
         },
         "mode": "lines",
         "showlegend": false,
         "type": "scatter",
         "x": [
          6.285537,
          6.250819
         ],
         "y": [
          5.373804,
          5.391795
         ]
        },
        {
         "legendgroup": "observed_arbor",
         "line": {
          "color": "black"
         },
         "mode": "lines",
         "showlegend": false,
         "type": "scatter",
         "x": [
          6.250819,
          6.231708
         ],
         "y": [
          5.391795,
          5.385034
         ]
        },
        {
         "legendgroup": "observed_arbor",
         "line": {
          "color": "black"
         },
         "mode": "lines",
         "showlegend": false,
         "type": "scatter",
         "x": [
          6.231708,
          6.183337
         ],
         "y": [
          5.385034,
          5.391424
         ]
        },
        {
         "legendgroup": "observed_arbor",
         "line": {
          "color": "black"
         },
         "mode": "lines",
         "showlegend": false,
         "type": "scatter",
         "x": [
          6.183337,
          6.149518
         ],
         "y": [
          5.391424,
          5.399056
         ]
        },
        {
         "legendgroup": "observed_arbor",
         "line": {
          "color": "black"
         },
         "mode": "lines",
         "showlegend": false,
         "type": "scatter",
         "x": [
          6.149518,
          6.056586
         ],
         "y": [
          5.399056,
          5.413557
         ]
        },
        {
         "legendgroup": "observed_arbor",
         "line": {
          "color": "black"
         },
         "mode": "lines",
         "showlegend": false,
         "type": "scatter",
         "x": [
          6.056586,
          5.99344
         ],
         "y": [
          5.413557,
          5.42644
         ]
        },
        {
         "legendgroup": "observed_arbor",
         "line": {
          "color": "black"
         },
         "mode": "lines",
         "showlegend": false,
         "type": "scatter",
         "x": [
          5.99344,
          5.94624
         ],
         "y": [
          5.42644,
          5.427211
         ]
        },
        {
         "legendgroup": "observed_arbor",
         "line": {
          "color": "black"
         },
         "mode": "lines",
         "showlegend": false,
         "type": "scatter",
         "x": [
          5.94624,
          5.752057
         ],
         "y": [
          5.427211,
          5.392792
         ]
        },
        {
         "legendgroup": "observed_arbor",
         "line": {
          "color": "black"
         },
         "mode": "lines",
         "showlegend": false,
         "type": "scatter",
         "x": [
          5.752057,
          5.708988
         ],
         "y": [
          5.392792,
          5.388199
         ]
        },
        {
         "legendgroup": "observed_arbor",
         "line": {
          "color": "black"
         },
         "mode": "lines",
         "showlegend": false,
         "type": "scatter",
         "x": [
          5.708988,
          5.672291
         ],
         "y": [
          5.388199,
          5.381275
         ]
        },
        {
         "legendgroup": "observed_arbor",
         "line": {
          "color": "black"
         },
         "mode": "lines",
         "showlegend": false,
         "type": "scatter",
         "x": [
          5.672291,
          5.644979
         ],
         "y": [
          5.381275,
          5.406259
         ]
        },
        {
         "legendgroup": "observed_arbor",
         "line": {
          "color": "black"
         },
         "mode": "lines",
         "showlegend": false,
         "type": "scatter",
         "x": [
          5.644979,
          5.524896
         ],
         "y": [
          5.406259,
          5.39873
         ]
        },
        {
         "legendgroup": "observed_arbor",
         "line": {
          "color": "black"
         },
         "mode": "lines",
         "showlegend": false,
         "type": "scatter",
         "x": [
          5.524896,
          5.461508
         ],
         "y": [
          5.39873,
          5.400754
         ]
        },
        {
         "legendgroup": "observed_arbor",
         "line": {
          "color": "black"
         },
         "mode": "lines",
         "showlegend": false,
         "type": "scatter",
         "x": [
          5.461508,
          5.4162
         ],
         "y": [
          5.400754,
          5.393607
         ]
        },
        {
         "legendgroup": "observed_arbor",
         "line": {
          "color": "black"
         },
         "mode": "lines",
         "showlegend": false,
         "type": "scatter",
         "x": [
          5.4162,
          5.220518
         ],
         "y": [
          5.393607,
          5.408209
         ]
        },
        {
         "legendgroup": "observed_arbor",
         "line": {
          "color": "black"
         },
         "mode": "lines",
         "showlegend": false,
         "type": "scatter",
         "x": [
          5.220518,
          4.995216
         ],
         "y": [
          5.408209,
          5.392813
         ]
        },
        {
         "legendgroup": "observed_arbor",
         "line": {
          "color": "black"
         },
         "mode": "lines",
         "showlegend": false,
         "type": "scatter",
         "x": [
          6.395408,
          6.445052
         ],
         "y": [
          6.843528,
          6.850138
         ]
        },
        {
         "legendgroup": "observed_arbor",
         "line": {
          "color": "black"
         },
         "mode": "lines",
         "showlegend": false,
         "type": "scatter",
         "x": [
          6.445052,
          6.505121
         ],
         "y": [
          6.850138,
          6.873237
         ]
        },
        {
         "legendgroup": "observed_arbor",
         "line": {
          "color": "black"
         },
         "mode": "lines",
         "showlegend": false,
         "type": "scatter",
         "x": [
          6.505121,
          6.530763
         ],
         "y": [
          6.873237,
          6.881494
         ]
        },
        {
         "legendgroup": "observed_arbor",
         "line": {
          "color": "black"
         },
         "mode": "lines",
         "showlegend": false,
         "type": "scatter",
         "x": [
          6.530763,
          6.615412
         ],
         "y": [
          6.881494,
          6.926705
         ]
        },
        {
         "legendgroup": "observed_arbor",
         "line": {
          "color": "black"
         },
         "mode": "lines",
         "showlegend": false,
         "type": "scatter",
         "x": [
          6.615412,
          6.641077
         ],
         "y": [
          6.926705,
          6.945502
         ]
        },
        {
         "legendgroup": "observed_arbor",
         "line": {
          "color": "black"
         },
         "mode": "lines",
         "showlegend": false,
         "type": "scatter",
         "x": [
          6.641077,
          6.666095
         ],
         "y": [
          6.945502,
          6.940152
         ]
        },
        {
         "legendgroup": "observed_arbor",
         "line": {
          "color": "black"
         },
         "mode": "lines",
         "showlegend": false,
         "type": "scatter",
         "x": [
          6.666095,
          6.730665
         ],
         "y": [
          6.940152,
          6.959422
         ]
        },
        {
         "legendgroup": "observed_arbor",
         "line": {
          "color": "black"
         },
         "mode": "lines",
         "showlegend": false,
         "type": "scatter",
         "x": [
          6.730665,
          6.806824
         ],
         "y": [
          6.959422,
          6.962098
         ]
        },
        {
         "legendgroup": "observed_arbor",
         "line": {
          "color": "black"
         },
         "mode": "lines",
         "showlegend": false,
         "type": "scatter",
         "x": [
          6.806824,
          6.871742
         ],
         "y": [
          6.962098,
          6.945579
         ]
        },
        {
         "legendgroup": "observed_arbor",
         "line": {
          "color": "black"
         },
         "mode": "lines",
         "showlegend": false,
         "type": "scatter",
         "x": [
          6.871742,
          6.913738
         ],
         "y": [
          6.945579,
          6.936437
         ]
        },
        {
         "legendgroup": "observed_arbor",
         "line": {
          "color": "black"
         },
         "mode": "lines",
         "showlegend": false,
         "type": "scatter",
         "x": [
          6.913738,
          6.966696
         ],
         "y": [
          6.936437,
          6.933728
         ]
        },
        {
         "legendgroup": "observed_arbor",
         "line": {
          "color": "black"
         },
         "mode": "lines",
         "showlegend": false,
         "type": "scatter",
         "x": [
          6.293637,
          6.245868
         ],
         "y": [
          6.835186,
          6.867628
         ]
        },
        {
         "legendgroup": "observed_arbor",
         "line": {
          "color": "black"
         },
         "mode": "lines",
         "showlegend": false,
         "type": "scatter",
         "x": [
          6.245868,
          6.16558
         ],
         "y": [
          6.867628,
          6.909529
         ]
        },
        {
         "legendgroup": "observed_arbor",
         "line": {
          "color": "black"
         },
         "mode": "lines",
         "showlegend": false,
         "type": "scatter",
         "x": [
          6.16558,
          6.091855
         ],
         "y": [
          6.909529,
          6.950343
         ]
        },
        {
         "legendgroup": "observed_arbor",
         "line": {
          "color": "black"
         },
         "mode": "lines",
         "showlegend": false,
         "type": "scatter",
         "x": [
          6.091855,
          6.042808
         ],
         "y": [
          6.950343,
          6.972753
         ]
        },
        {
         "legendgroup": "observed_arbor",
         "line": {
          "color": "black"
         },
         "mode": "lines",
         "showlegend": false,
         "type": "scatter",
         "x": [
          6.042808,
          6.004597
         ],
         "y": [
          6.972753,
          6.985278
         ]
        },
        {
         "legendgroup": "observed_arbor",
         "line": {
          "color": "black"
         },
         "mode": "lines",
         "showlegend": false,
         "type": "scatter",
         "x": [
          6.004597,
          5.907025
         ],
         "y": [
          6.985278,
          7.029032
         ]
        },
        {
         "legendgroup": "observed_arbor",
         "line": {
          "color": "black"
         },
         "mode": "lines",
         "showlegend": false,
         "type": "scatter",
         "x": [
          5.907025,
          5.805574
         ],
         "y": [
          7.029032,
          7.036252
         ]
        },
        {
         "legendgroup": "observed_arbor",
         "line": {
          "color": "black"
         },
         "mode": "lines",
         "showlegend": false,
         "type": "scatter",
         "x": [
          5.805574,
          5.735901
         ],
         "y": [
          7.036252,
          7.041212
         ]
        },
        {
         "legendgroup": "observed_arbor",
         "line": {
          "color": "black"
         },
         "mode": "lines",
         "showlegend": false,
         "type": "scatter",
         "x": [
          5.735901,
          5.676182
         ],
         "y": [
          7.041212,
          7.037669
         ]
        },
        {
         "legendgroup": "observed_arbor",
         "line": {
          "color": "black"
         },
         "mode": "lines",
         "showlegend": false,
         "type": "scatter",
         "x": [
          5.676182,
          5.647066
         ],
         "y": [
          7.037669,
          7.068737
         ]
        },
        {
         "legendgroup": "observed_arbor",
         "line": {
          "color": "black"
         },
         "mode": "lines",
         "showlegend": false,
         "type": "scatter",
         "x": [
          5.647066,
          5.605154
         ],
         "y": [
          7.068737,
          7.082501
         ]
        },
        {
         "legendgroup": "observed_arbor",
         "line": {
          "color": "black"
         },
         "mode": "lines",
         "showlegend": false,
         "type": "scatter",
         "x": [
          6.592369,
          6.537003
         ],
         "y": [
          7.507527,
          7.530586
         ]
        },
        {
         "legendgroup": "observed_arbor",
         "line": {
          "color": "black"
         },
         "mode": "lines",
         "showlegend": false,
         "type": "scatter",
         "x": [
          6.537003,
          6.506204
         ],
         "y": [
          7.530586,
          7.538549
         ]
        },
        {
         "legendgroup": "observed_arbor",
         "line": {
          "color": "black"
         },
         "mode": "lines",
         "showlegend": false,
         "type": "scatter",
         "x": [
          6.506204,
          6.458099
         ],
         "y": [
          7.538549,
          7.549441
         ]
        },
        {
         "legendgroup": "observed_arbor",
         "line": {
          "color": "black"
         },
         "mode": "lines",
         "showlegend": false,
         "type": "scatter",
         "x": [
          6.458099,
          6.412876
         ],
         "y": [
          7.549441,
          7.556611
         ]
        },
        {
         "legendgroup": "observed_arbor",
         "line": {
          "color": "black"
         },
         "mode": "lines",
         "showlegend": false,
         "type": "scatter",
         "x": [
          6.412876,
          6.3744
         ],
         "y": [
          7.556611,
          7.561196
         ]
        },
        {
         "legendgroup": "observed_arbor",
         "line": {
          "color": "black"
         },
         "mode": "lines",
         "showlegend": false,
         "type": "scatter",
         "x": [
          6.3744,
          6.327948
         ],
         "y": [
          7.561196,
          7.560806
         ]
        },
        {
         "legendgroup": "observed_arbor",
         "line": {
          "color": "black"
         },
         "mode": "lines",
         "showlegend": false,
         "type": "scatter",
         "x": [
          6.327948,
          6.191866
         ],
         "y": [
          7.560806,
          7.586615
         ]
        },
        {
         "legendgroup": "observed_arbor",
         "line": {
          "color": "black"
         },
         "mode": "lines",
         "showlegend": false,
         "type": "scatter",
         "x": [
          6.191866,
          6.138485
         ],
         "y": [
          7.586615,
          7.599449
         ]
        },
        {
         "legendgroup": "observed_arbor",
         "line": {
          "color": "black"
         },
         "mode": "lines",
         "showlegend": false,
         "type": "scatter",
         "x": [
          6.138485,
          6.098482
         ],
         "y": [
          7.599449,
          7.607527
         ]
        },
        {
         "legendgroup": "observed_arbor",
         "line": {
          "color": "black"
         },
         "mode": "lines",
         "showlegend": false,
         "type": "scatter",
         "x": [
          6.098482,
          6.058209
         ],
         "y": [
          7.607527,
          7.614134
         ]
        },
        {
         "legendgroup": "observed_arbor",
         "line": {
          "color": "black"
         },
         "mode": "lines",
         "showlegend": false,
         "type": "scatter",
         "x": [
          6.058209,
          6.009313
         ],
         "y": [
          7.614134,
          7.620637
         ]
        },
        {
         "legendgroup": "observed_arbor",
         "line": {
          "color": "black"
         },
         "mode": "lines",
         "showlegend": false,
         "type": "scatter",
         "x": [
          6.009313,
          5.957667
         ],
         "y": [
          7.620637,
          7.629017
         ]
        },
        {
         "legendgroup": "observed_arbor",
         "line": {
          "color": "black"
         },
         "mode": "lines",
         "showlegend": false,
         "type": "scatter",
         "x": [
          5.957667,
          5.908758
         ],
         "y": [
          7.629017,
          7.635437
         ]
        },
        {
         "legendgroup": "observed_arbor",
         "line": {
          "color": "black"
         },
         "mode": "lines",
         "showlegend": false,
         "type": "scatter",
         "x": [
          5.908758,
          5.875989
         ],
         "y": [
          7.635437,
          7.641248
         ]
        },
        {
         "legendgroup": "observed_arbor",
         "line": {
          "color": "black"
         },
         "mode": "lines",
         "showlegend": false,
         "type": "scatter",
         "x": [
          6.557433,
          6.590447
         ],
         "y": [
          7.183967,
          7.150862
         ]
        },
        {
         "legendgroup": "observed_arbor",
         "line": {
          "color": "black"
         },
         "mode": "lines",
         "showlegend": false,
         "type": "scatter",
         "x": [
          6.590447,
          6.6142
         ],
         "y": [
          7.150862,
          7.13435
         ]
        },
        {
         "legendgroup": "observed_arbor",
         "line": {
          "color": "black"
         },
         "mode": "lines",
         "showlegend": false,
         "type": "scatter",
         "x": [
          6.6142,
          6.656868
         ],
         "y": [
          7.13435,
          7.118578
         ]
        },
        {
         "legendgroup": "observed_arbor",
         "line": {
          "color": "black"
         },
         "mode": "lines",
         "showlegend": false,
         "type": "scatter",
         "x": [
          6.656868,
          6.680693
         ],
         "y": [
          7.118578,
          7.109772
         ]
        },
        {
         "legendgroup": "observed_arbor",
         "line": {
          "color": "black"
         },
         "mode": "lines",
         "showlegend": false,
         "type": "scatter",
         "x": [
          6.680693,
          6.733785
         ],
         "y": [
          7.109772,
          7.102745
         ]
        },
        {
         "legendgroup": "observed_arbor",
         "line": {
          "color": "black"
         },
         "mode": "lines",
         "showlegend": false,
         "type": "scatter",
         "x": [
          6.733785,
          6.808611
         ],
         "y": [
          7.102745,
          7.059789
         ]
        },
        {
         "legendgroup": "observed_arbor",
         "line": {
          "color": "black"
         },
         "mode": "lines",
         "showlegend": false,
         "type": "scatter",
         "x": [
          6.808611,
          6.868442
         ],
         "y": [
          7.059789,
          7.020034
         ]
        },
        {
         "legendgroup": "observed_arbor",
         "line": {
          "color": "black"
         },
         "mode": "lines",
         "showlegend": false,
         "type": "scatter",
         "x": [
          6.868442,
          7.008813
         ],
         "y": [
          7.020034,
          6.889194
         ]
        },
        {
         "legendgroup": "observed_arbor",
         "line": {
          "color": "black"
         },
         "mode": "lines",
         "showlegend": false,
         "type": "scatter",
         "x": [
          6.831848,
          6.900356
         ],
         "y": [
          7.745255,
          7.746144
         ]
        },
        {
         "legendgroup": "observed_arbor",
         "line": {
          "color": "black"
         },
         "mode": "lines",
         "showlegend": false,
         "type": "scatter",
         "x": [
          6.900356,
          6.995709
         ],
         "y": [
          7.746144,
          7.758375
         ]
        },
        {
         "legendgroup": "observed_arbor",
         "line": {
          "color": "black"
         },
         "mode": "lines",
         "showlegend": false,
         "type": "scatter",
         "x": [
          6.995709,
          7.081379
         ],
         "y": [
          7.758375,
          7.74509
         ]
        },
        {
         "legendgroup": "observed_arbor",
         "line": {
          "color": "black"
         },
         "mode": "lines",
         "showlegend": false,
         "type": "scatter",
         "x": [
          7.081379,
          7.161684
         ],
         "y": [
          7.74509,
          7.72658
         ]
        },
        {
         "legendgroup": "observed_arbor",
         "line": {
          "color": "black"
         },
         "mode": "lines",
         "showlegend": false,
         "type": "scatter",
         "x": [
          7.161684,
          7.238185
         ],
         "y": [
          7.72658,
          7.705875
         ]
        },
        {
         "legendgroup": "observed_arbor",
         "line": {
          "color": "black"
         },
         "mode": "lines",
         "showlegend": false,
         "type": "scatter",
         "x": [
          7.238185,
          7.309637
         ],
         "y": [
          7.705875,
          7.689639
         ]
        },
        {
         "legendgroup": "observed_arbor",
         "line": {
          "color": "black"
         },
         "mode": "lines",
         "showlegend": false,
         "type": "scatter",
         "x": [
          7.309637,
          7.365366
         ],
         "y": [
          7.689639,
          7.676976
         ]
        },
        {
         "legendgroup": "observed_arbor",
         "line": {
          "color": "black"
         },
         "mode": "lines",
         "showlegend": false,
         "type": "scatter",
         "x": [
          6.316069,
          6.401516
         ],
         "y": [
          6.73862,
          6.776808
         ]
        },
        {
         "legendgroup": "observed_arbor",
         "line": {
          "color": "black"
         },
         "mode": "lines",
         "showlegend": false,
         "type": "scatter",
         "x": [
          6.401516,
          6.414413
         ],
         "y": [
          6.776808,
          6.814446
         ]
        },
        {
         "legendgroup": "observed_arbor",
         "line": {
          "color": "black"
         },
         "mode": "lines",
         "showlegend": false,
         "type": "scatter",
         "x": [
          6.414413,
          6.441569
         ],
         "y": [
          6.814446,
          7.051984
         ]
        },
        {
         "legendgroup": "observed_arbor",
         "line": {
          "color": "black"
         },
         "mode": "lines",
         "showlegend": false,
         "type": "scatter",
         "x": [
          6.468895,
          6.342071
         ],
         "y": [
          5.421427,
          5.413311
         ]
        },
        {
         "legendgroup": "observed_arbor",
         "line": {
          "color": "black"
         },
         "mode": "lines",
         "showlegend": false,
         "type": "scatter",
         "x": [
          6.342071,
          6.227042
         ],
         "y": [
          5.413311,
          5.414516
         ]
        },
        {
         "legendgroup": "observed_arbor",
         "line": {
          "color": "black"
         },
         "mode": "lines",
         "showlegend": false,
         "type": "scatter",
         "x": [
          6.227042,
          6.031954
         ],
         "y": [
          5.414516,
          5.396681
         ]
        },
        {
         "legendgroup": "observed_arbor",
         "line": {
          "color": "black"
         },
         "mode": "lines",
         "showlegend": false,
         "type": "scatter",
         "x": [
          6.031954,
          5.894488
         ],
         "y": [
          5.396681,
          5.467156
         ]
        },
        {
         "legendgroup": "observed_arbor",
         "line": {
          "color": "black"
         },
         "mode": "lines",
         "showlegend": false,
         "type": "scatter",
         "x": [
          5.894488,
          5.674871
         ],
         "y": [
          5.467156,
          5.565054
         ]
        },
        {
         "legendgroup": "observed_arbor",
         "line": {
          "color": "black"
         },
         "mode": "lines",
         "showlegend": false,
         "type": "scatter",
         "x": [
          5.674871,
          5.640833
         ],
         "y": [
          5.565054,
          5.573366
         ]
        },
        {
         "legendgroup": "observed_arbor",
         "line": {
          "color": "black"
         },
         "mode": "lines",
         "showlegend": false,
         "type": "scatter",
         "x": [
          5.640833,
          5.608563
         ],
         "y": [
          5.573366,
          5.571712
         ]
        },
        {
         "legendgroup": "observed_arbor",
         "line": {
          "color": "black"
         },
         "mode": "lines",
         "showlegend": false,
         "type": "scatter",
         "x": [
          5.608563,
          5.596135
         ],
         "y": [
          5.571712,
          5.600489
         ]
        },
        {
         "legendgroup": "observed_arbor",
         "line": {
          "color": "black"
         },
         "mode": "lines",
         "showlegend": false,
         "type": "scatter",
         "x": [
          5.596135,
          5.500686
         ],
         "y": [
          5.600489,
          5.636174
         ]
        },
        {
         "legendgroup": "observed_arbor",
         "line": {
          "color": "black"
         },
         "mode": "lines",
         "showlegend": false,
         "type": "scatter",
         "x": [
          5.500686,
          5.413654
         ],
         "y": [
          5.636174,
          5.675888
         ]
        },
        {
         "legendgroup": "observed_arbor",
         "line": {
          "color": "black"
         },
         "mode": "lines",
         "showlegend": false,
         "type": "scatter",
         "x": [
          6.75415,
          6.251796
         ],
         "y": [
          5.061972,
          5.080044
         ]
        },
        {
         "legendgroup": "observed_arbor",
         "line": {
          "color": "black"
         },
         "mode": "lines",
         "showlegend": false,
         "type": "scatter",
         "x": [
          6.251796,
          6.098362
         ],
         "y": [
          5.080044,
          5.063229
         ]
        },
        {
         "legendgroup": "observed_arbor",
         "line": {
          "color": "black"
         },
         "mode": "lines",
         "showlegend": false,
         "type": "scatter",
         "x": [
          6.098362,
          6.059643
         ],
         "y": [
          5.063229,
          5.055965
         ]
        },
        {
         "legendgroup": "observed_arbor",
         "line": {
          "color": "black"
         },
         "mode": "lines",
         "showlegend": false,
         "type": "scatter",
         "x": [
          6.059643,
          6.031195
         ],
         "y": [
          5.055965,
          5.053665
         ]
        },
        {
         "legendgroup": "observed_arbor",
         "line": {
          "color": "black"
         },
         "mode": "lines",
         "showlegend": false,
         "type": "scatter",
         "x": [
          6.031195,
          5.982601
         ],
         "y": [
          5.053665,
          5.055743
         ]
        },
        {
         "legendgroup": "observed_arbor",
         "line": {
          "color": "black"
         },
         "mode": "lines",
         "showlegend": false,
         "type": "scatter",
         "x": [
          5.982601,
          5.944653
         ],
         "y": [
          5.055743,
          5.052871
         ]
        },
        {
         "legendgroup": "observed_arbor",
         "line": {
          "color": "black"
         },
         "mode": "lines",
         "showlegend": false,
         "type": "scatter",
         "x": [
          5.944653,
          5.90134
         ],
         "y": [
          5.052871,
          5.052596
         ]
        },
        {
         "legendgroup": "observed_arbor",
         "line": {
          "color": "black"
         },
         "mode": "lines",
         "showlegend": false,
         "type": "scatter",
         "x": [
          5.90134,
          5.86263
         ],
         "y": [
          5.052596,
          5.050853
         ]
        },
        {
         "legendgroup": "observed_arbor",
         "line": {
          "color": "black"
         },
         "mode": "lines",
         "showlegend": false,
         "type": "scatter",
         "x": [
          5.86263,
          5.829444
         ],
         "y": [
          5.050853,
          5.056851
         ]
        },
        {
         "legendgroup": "observed_arbor",
         "line": {
          "color": "black"
         },
         "mode": "lines",
         "showlegend": false,
         "type": "scatter",
         "x": [
          5.829444,
          5.777917
         ],
         "y": [
          5.056851,
          5.070728
         ]
        },
        {
         "legendgroup": "observed_arbor",
         "line": {
          "color": "black"
         },
         "mode": "lines",
         "showlegend": false,
         "type": "scatter",
         "x": [
          5.777917,
          5.738028
         ],
         "y": [
          5.070728,
          5.083021
         ]
        },
        {
         "legendgroup": "observed_arbor",
         "line": {
          "color": "black"
         },
         "mode": "lines",
         "showlegend": false,
         "type": "scatter",
         "x": [
          5.738028,
          5.710786
         ],
         "y": [
          5.083021,
          5.096115
         ]
        },
        {
         "legendgroup": "observed_arbor",
         "line": {
          "color": "black"
         },
         "mode": "lines",
         "showlegend": false,
         "type": "scatter",
         "x": [
          5.710786,
          5.664298
         ],
         "y": [
          5.096115,
          5.120122
         ]
        },
        {
         "legendgroup": "observed_arbor",
         "line": {
          "color": "black"
         },
         "mode": "lines",
         "showlegend": false,
         "type": "scatter",
         "x": [
          5.664298,
          5.621088
         ],
         "y": [
          5.120122,
          5.137383
         ]
        },
        {
         "legendgroup": "observed_arbor",
         "line": {
          "color": "black"
         },
         "mode": "lines",
         "showlegend": false,
         "type": "scatter",
         "x": [
          5.621088,
          5.576713
         ],
         "y": [
          5.137383,
          5.153496
         ]
        },
        {
         "legendgroup": "observed_arbor",
         "line": {
          "color": "black"
         },
         "mode": "lines",
         "showlegend": false,
         "type": "scatter",
         "x": [
          5.576713,
          5.55015
         ],
         "y": [
          5.153496,
          5.167919
         ]
        },
        {
         "legendgroup": "observed_arbor",
         "line": {
          "color": "black"
         },
         "mode": "lines",
         "showlegend": false,
         "type": "scatter",
         "x": [
          5.55015,
          5.501897
         ],
         "y": [
          5.167919,
          5.204338
         ]
        },
        {
         "legendgroup": "observed_arbor",
         "line": {
          "color": "black"
         },
         "mode": "lines",
         "showlegend": false,
         "type": "scatter",
         "x": [
          5.501897,
          5.441133
         ],
         "y": [
          5.204338,
          5.234073
         ]
        },
        {
         "legendgroup": "observed_arbor",
         "line": {
          "color": "black"
         },
         "mode": "lines",
         "showlegend": false,
         "type": "scatter",
         "x": [
          5.441133,
          5.399382
         ],
         "y": [
          5.234073,
          5.241703
         ]
        },
        {
         "legendgroup": "observed_arbor",
         "line": {
          "color": "black"
         },
         "mode": "lines",
         "showlegend": false,
         "type": "scatter",
         "x": [
          6.97883,
          7.073882
         ],
         "y": [
          8.728493,
          8.74642
         ]
        },
        {
         "legendgroup": "observed_arbor",
         "line": {
          "color": "black"
         },
         "mode": "lines",
         "showlegend": false,
         "type": "scatter",
         "x": [
          7.073882,
          7.146368
         ],
         "y": [
          8.74642,
          8.764373
         ]
        },
        {
         "legendgroup": "observed_arbor",
         "line": {
          "color": "black"
         },
         "mode": "lines",
         "showlegend": false,
         "type": "scatter",
         "x": [
          7.146368,
          7.21574
         ],
         "y": [
          8.764373,
          8.781836
         ]
        },
        {
         "legendgroup": "observed_arbor",
         "line": {
          "color": "black"
         },
         "mode": "lines",
         "showlegend": false,
         "type": "scatter",
         "x": [
          6.829374,
          6.537678
         ],
         "y": [
          8.252129,
          8.380589
         ]
        },
        {
         "legendgroup": "observed_arbor",
         "line": {
          "color": "black"
         },
         "mode": "lines",
         "showlegend": false,
         "type": "scatter",
         "x": [
          6.787929,
          6.734371
         ],
         "y": [
          7.984837,
          7.989159
         ]
        },
        {
         "legendgroup": "observed_arbor",
         "line": {
          "color": "black"
         },
         "mode": "lines",
         "showlegend": false,
         "type": "scatter",
         "x": [
          6.734371,
          6.708973
         ],
         "y": [
          7.989159,
          7.989526
         ]
        },
        {
         "legendgroup": "observed_arbor",
         "line": {
          "color": "black"
         },
         "mode": "lines",
         "showlegend": false,
         "type": "scatter",
         "x": [
          6.708973,
          6.550063
         ],
         "y": [
          7.989526,
          8.024072
         ]
        },
        {
         "legendgroup": "observed_arbor",
         "line": {
          "color": "black"
         },
         "mode": "lines",
         "showlegend": false,
         "type": "scatter",
         "x": [
          6.550063,
          6.481965
         ],
         "y": [
          8.024072,
          8.03525
         ]
        },
        {
         "legendgroup": "observed_arbor",
         "line": {
          "color": "black"
         },
         "mode": "lines",
         "showlegend": false,
         "type": "scatter",
         "x": [
          6.481965,
          6.406987
         ],
         "y": [
          8.03525,
          8.037218
         ]
        },
        {
         "legendgroup": "observed_arbor",
         "line": {
          "color": "black"
         },
         "mode": "lines",
         "showlegend": false,
         "type": "scatter",
         "x": [
          6.406987,
          6.331656
         ],
         "y": [
          8.037218,
          8.0391
         ]
        },
        {
         "legendgroup": "observed_arbor",
         "line": {
          "color": "black"
         },
         "mode": "lines",
         "showlegend": false,
         "type": "scatter",
         "x": [
          6.331656,
          6.286802
         ],
         "y": [
          8.0391,
          8.043899
         ]
        },
        {
         "legendgroup": "observed_arbor",
         "line": {
          "color": "black"
         },
         "mode": "lines",
         "showlegend": false,
         "type": "scatter",
         "x": [
          6.73737,
          6.818215
         ],
         "y": [
          7.506947,
          7.491163
         ]
        },
        {
         "legendgroup": "observed_arbor",
         "line": {
          "color": "black"
         },
         "mode": "lines",
         "showlegend": false,
         "type": "scatter",
         "x": [
          6.818215,
          6.925082
         ],
         "y": [
          7.491163,
          7.486597
         ]
        },
        {
         "legendgroup": "observed_arbor",
         "line": {
          "color": "black"
         },
         "mode": "lines",
         "showlegend": false,
         "type": "scatter",
         "x": [
          6.925082,
          6.984362
         ],
         "y": [
          7.486597,
          7.475761
         ]
        },
        {
         "legendgroup": "observed_arbor",
         "line": {
          "color": "black"
         },
         "mode": "lines",
         "showlegend": false,
         "type": "scatter",
         "x": [
          6.984362,
          7.038749
         ],
         "y": [
          7.475761,
          7.459404
         ]
        },
        {
         "legendgroup": "observed_arbor",
         "line": {
          "color": "black"
         },
         "mode": "lines",
         "showlegend": false,
         "type": "scatter",
         "x": [
          7.038749,
          7.115748
         ],
         "y": [
          7.459404,
          7.429621
         ]
        },
        {
         "legendgroup": "observed_arbor",
         "line": {
          "color": "black"
         },
         "mode": "lines",
         "showlegend": false,
         "type": "scatter",
         "x": [
          7.115748,
          7.150688
         ],
         "y": [
          7.429621,
          7.420919
         ]
        },
        {
         "legendgroup": "observed_arbor",
         "line": {
          "color": "black"
         },
         "mode": "lines",
         "showlegend": false,
         "type": "scatter",
         "x": [
          6.574815,
          6.450144
         ],
         "y": [
          5.171033,
          5.131309
         ]
        },
        {
         "legendgroup": "observed_arbor",
         "line": {
          "color": "black"
         },
         "mode": "lines",
         "showlegend": false,
         "type": "scatter",
         "x": [
          6.450144,
          6.371719
         ],
         "y": [
          5.131309,
          5.107229
         ]
        },
        {
         "legendgroup": "observed_arbor",
         "line": {
          "color": "black"
         },
         "mode": "lines",
         "showlegend": false,
         "type": "scatter",
         "x": [
          6.371719,
          6.072011
         ],
         "y": [
          5.107229,
          5.0927
         ]
        },
        {
         "legendgroup": "observed_arbor",
         "line": {
          "color": "black"
         },
         "mode": "lines",
         "showlegend": false,
         "type": "scatter",
         "x": [
          6.072011,
          6.009795
         ],
         "y": [
          5.0927,
          5.097787
         ]
        },
        {
         "legendgroup": "observed_arbor",
         "line": {
          "color": "black"
         },
         "mode": "lines",
         "showlegend": false,
         "type": "scatter",
         "x": [
          6.009795,
          5.967616
         ],
         "y": [
          5.097787,
          5.101236
         ]
        },
        {
         "legendgroup": "observed_arbor",
         "line": {
          "color": "black"
         },
         "mode": "lines",
         "showlegend": false,
         "type": "scatter",
         "x": [
          5.967616,
          5.925435
         ],
         "y": [
          5.101236,
          5.104685
         ]
        },
        {
         "legendgroup": "observed_arbor",
         "line": {
          "color": "black"
         },
         "mode": "lines",
         "showlegend": false,
         "type": "scatter",
         "x": [
          5.925435,
          5.885243
         ],
         "y": [
          5.104685,
          5.103466
         ]
        },
        {
         "legendgroup": "observed_arbor",
         "line": {
          "color": "black"
         },
         "mode": "lines",
         "showlegend": false,
         "type": "scatter",
         "x": [
          5.885243,
          5.837554
         ],
         "y": [
          5.103466,
          5.099026
         ]
        },
        {
         "legendgroup": "observed_arbor",
         "line": {
          "color": "black"
         },
         "mode": "lines",
         "showlegend": false,
         "type": "scatter",
         "x": [
          5.837554,
          5.76225
         ],
         "y": [
          5.099026,
          5.107048
         ]
        },
        {
         "legendgroup": "observed_arbor",
         "line": {
          "color": "black"
         },
         "mode": "lines",
         "showlegend": false,
         "type": "scatter",
         "x": [
          5.76225,
          5.700656
         ],
         "y": [
          5.107048,
          5.116619
         ]
        },
        {
         "legendgroup": "observed_arbor",
         "line": {
          "color": "black"
         },
         "mode": "lines",
         "showlegend": false,
         "type": "scatter",
         "x": [
          5.700656,
          5.663415
         ],
         "y": [
          5.116619,
          5.119378
         ]
        },
        {
         "legendgroup": "observed_arbor",
         "line": {
          "color": "black"
         },
         "mode": "lines",
         "showlegend": false,
         "type": "scatter",
         "x": [
          5.663415,
          5.632556
         ],
         "y": [
          5.119378,
          5.127667
         ]
        },
        {
         "legendgroup": "observed_arbor",
         "line": {
          "color": "black"
         },
         "mode": "lines",
         "showlegend": false,
         "type": "scatter",
         "x": [
          5.632556,
          5.603796
         ],
         "y": [
          5.127667,
          5.141591
         ]
        },
        {
         "legendgroup": "observed_arbor",
         "line": {
          "color": "black"
         },
         "mode": "lines",
         "showlegend": false,
         "type": "scatter",
         "x": [
          5.603796,
          5.546978
         ],
         "y": [
          5.141591,
          5.177415
         ]
        },
        {
         "legendgroup": "observed_arbor",
         "line": {
          "color": "black"
         },
         "mode": "lines",
         "showlegend": false,
         "type": "scatter",
         "x": [
          5.546978,
          5.496844
         ],
         "y": [
          5.177415,
          5.209024
         ]
        },
        {
         "legendgroup": "observed_arbor",
         "line": {
          "color": "black"
         },
         "mode": "lines",
         "showlegend": false,
         "type": "scatter",
         "x": [
          5.496844,
          5.460648
         ],
         "y": [
          5.209024,
          5.226538
         ]
        },
        {
         "legendgroup": "observed_arbor",
         "line": {
          "color": "black"
         },
         "mode": "lines",
         "showlegend": false,
         "type": "scatter",
         "x": [
          5.460648,
          5.410469
         ],
         "y": [
          5.226538,
          5.243088
         ]
        },
        {
         "line": {
          "color": "orange"
         },
         "showlegend": false,
         "type": "scatter",
         "x": [
          8.274069
         ],
         "y": [
          6.720837
         ]
        },
        {
         "line": {
          "color": "orange"
         },
         "showlegend": false,
         "type": "scatter",
         "x": [
          10.148987
         ],
         "y": [
          7.339929
         ]
        },
        {
         "line": {
          "color": "orange"
         },
         "showlegend": false,
         "type": "scatter",
         "x": [
          8.748651
         ],
         "y": [
          7.076207
         ]
        },
        {
         "line": {
          "color": "orange"
         },
         "showlegend": false,
         "type": "scatter",
         "x": [
          4.624158
         ],
         "y": [
          5.371758
         ]
        },
        {
         "line": {
          "color": "orange"
         },
         "showlegend": false,
         "type": "scatter",
         "x": [
          8.458899
         ],
         "y": [
          6.435293
         ]
        },
        {
         "line": {
          "color": "orange"
         },
         "showlegend": false,
         "type": "scatter",
         "x": [
          7.785586
         ],
         "y": [
          6.672185
         ]
        },
        {
         "line": {
          "color": "orange"
         },
         "showlegend": false,
         "type": "scatter",
         "x": [
          8.009473
         ],
         "y": [
          6.487069
         ]
        },
        {
         "line": {
          "color": "orange"
         },
         "showlegend": false,
         "type": "scatter",
         "x": [
          6.455646
         ],
         "y": [
          6.393863
         ]
        },
        {
         "line": {
          "color": "orange"
         },
         "showlegend": false,
         "type": "scatter",
         "x": [
          4.995216
         ],
         "y": [
          5.392813
         ]
        },
        {
         "line": {
          "color": "orange"
         },
         "showlegend": false,
         "type": "scatter",
         "x": [
          6.966696
         ],
         "y": [
          6.933728
         ]
        },
        {
         "line": {
          "color": "orange"
         },
         "showlegend": false,
         "type": "scatter",
         "x": [
          5.605154
         ],
         "y": [
          7.082501
         ]
        },
        {
         "line": {
          "color": "orange"
         },
         "showlegend": false,
         "type": "scatter",
         "x": [
          5.875989
         ],
         "y": [
          7.641248
         ]
        },
        {
         "line": {
          "color": "orange"
         },
         "showlegend": false,
         "type": "scatter",
         "x": [
          7.008813
         ],
         "y": [
          6.889194
         ]
        },
        {
         "line": {
          "color": "orange"
         },
         "showlegend": false,
         "type": "scatter",
         "x": [
          7.365366
         ],
         "y": [
          7.676976
         ]
        },
        {
         "line": {
          "color": "orange"
         },
         "showlegend": false,
         "type": "scatter",
         "x": [
          6.441569
         ],
         "y": [
          7.051984
         ]
        },
        {
         "line": {
          "color": "orange"
         },
         "showlegend": false,
         "type": "scatter",
         "x": [
          5.413654
         ],
         "y": [
          5.675888
         ]
        },
        {
         "line": {
          "color": "orange"
         },
         "showlegend": false,
         "type": "scatter",
         "x": [
          5.399382
         ],
         "y": [
          5.241703
         ]
        },
        {
         "line": {
          "color": "orange"
         },
         "showlegend": false,
         "type": "scatter",
         "x": [
          7.21574
         ],
         "y": [
          8.781836
         ]
        },
        {
         "line": {
          "color": "orange"
         },
         "showlegend": false,
         "type": "scatter",
         "x": [
          6.537678
         ],
         "y": [
          8.380589
         ]
        },
        {
         "line": {
          "color": "orange"
         },
         "showlegend": false,
         "type": "scatter",
         "x": [
          6.286802
         ],
         "y": [
          8.043899
         ]
        },
        {
         "line": {
          "color": "orange"
         },
         "showlegend": false,
         "type": "scatter",
         "x": [
          7.150688
         ],
         "y": [
          7.420919
         ]
        },
        {
         "line": {
          "color": "orange"
         },
         "showlegend": false,
         "type": "scatter",
         "x": [
          5.410469
         ],
         "y": [
          5.243088
         ]
        },
        {
         "legendgroup": "group_0",
         "line": {
          "color": "#636EFA"
         },
         "mode": "lines",
         "name": "(-0.1, 0.7)",
         "showlegend": true,
         "type": "scatter",
         "x": [
          6.545251,
          6.580533,
          6.6158150000000004,
          6.651097,
          6.6863790000000005,
          6.721661,
          6.756943000000001,
          6.792225,
          6.827507000000001,
          6.862789,
          6.898071000000001,
          6.933353,
          6.968635000000001,
          7.003917,
          7.039199000000001,
          7.0744810000000005,
          7.109763000000001,
          7.1450450000000005,
          7.180327,
          7.215609000000001,
          7.250891,
          7.286173000000001,
          7.321455,
          7.356737000000001,
          7.392019,
          7.427301000000001,
          7.462583,
          7.497865000000001,
          7.5331470000000005,
          7.568429,
          7.6037110000000006,
          7.638993000000001,
          7.674275000000001,
          7.709557,
          7.744839000000001,
          7.780121000000001,
          7.815403000000001,
          7.850685,
          7.885967000000001,
          7.921249,
          7.956531000000001,
          7.9918130000000005,
          8.027095000000001,
          8.062377000000001,
          8.097659,
          8.132941,
          8.168223000000001,
          8.203505,
          8.238787,
          8.274069
         ],
         "y": [
          5.359293000000001,
          5.3930547459601,
          5.426567528015397,
          5.459831346165895,
          5.492846200411593,
          5.525612090752491,
          5.558129017188589,
          5.590396979719888,
          5.622415978346385,
          5.6541860130680845,
          5.6857070838849815,
          5.71697919079708,
          5.748002333804376,
          5.778776512906875,
          5.809301728104574,
          5.839577979397472,
          5.869605266785568,
          5.899383590268869,
          5.928912949847366,
          5.958193345521064,
          5.98722477728996,
          6.016007245154061,
          6.044540749113356,
          6.072825289167856,
          6.100860865317554,
          6.128647477562453,
          6.1561851259025495,
          6.183473810337848,
          6.210513530868344,
          6.237304287494041,
          6.26384608021494,
          6.29013890903104,
          6.3161827739423355,
          6.341977674948836,
          6.367523612050531,
          6.392820585247431,
          6.417868594539531,
          6.442667639926828,
          6.467217721409327,
          6.491518838987023,
          6.515570992659921,
          6.53937418242802,
          6.562928408291317,
          6.5862336702498165,
          6.609289968303511,
          6.6320973024524115,
          6.65465567269651,
          6.676965079035806,
          6.699025521470304,
          6.720837000000001
         ]
        },
        {
         "legendgroup": "group_0",
         "line": {
          "color": "#636EFA"
         },
         "mode": "lines",
         "showlegend": false,
         "type": "scatter",
         "x": [
          6.580209,
          6.6530412040816325,
          6.725873408163265,
          6.798705612244898,
          6.871537816326531,
          6.944370020408163,
          7.017202224489796,
          7.090034428571428,
          7.162866632653062,
          7.235698836734694,
          7.308531040816327,
          7.381363244897959,
          7.454195448979592,
          7.527027653061225,
          7.599859857142857,
          7.67269206122449,
          7.7455242653061225,
          7.818356469387755,
          7.891188673469388,
          7.96402087755102,
          8.036853081632653,
          8.109685285714285,
          8.182517489795918,
          8.255349693877552,
          8.328181897959183,
          8.401014102040817,
          8.47384630612245,
          8.546678510204082,
          8.619510714285713,
          8.692342918367347,
          8.76517512244898,
          8.838007326530612,
          8.910839530612245,
          8.983671734693878,
          9.05650393877551,
          9.129336142857143,
          9.202168346938777,
          9.275000551020408,
          9.34783275510204,
          9.420664959183673,
          9.493497163265307,
          9.566329367346938,
          9.639161571428572,
          9.711993775510205,
          9.784825979591837,
          9.85765818367347,
          9.930490387755102,
          10.003322591836735,
          10.076154795918367,
          10.148987
         ],
         "y": [
          5.240603,
          5.308908131521768,
          5.3761523570532574,
          5.442335676594471,
          5.507458090145404,
          5.571519597706061,
          5.634520199276437,
          5.696459894856542,
          5.757338684446363,
          5.817156568045908,
          5.875913545655177,
          5.933609617274165,
          5.990244782902879,
          6.045819042541314,
          6.100332396189469,
          6.153784843847349,
          6.206176385514951,
          6.257507021192275,
          6.30777675087932,
          6.356985574576088,
          6.405133492282577,
          6.452220503998792,
          6.498246609724731,
          6.543211809460388,
          6.587116103205766,
          6.629959490960868,
          6.671741972725691,
          6.712463548500239,
          6.752124218284507,
          6.790723982078498,
          6.828262839882212,
          6.864740791695645,
          6.900157837518805,
          6.934513977351685,
          6.967809211194288,
          7.000043539046613,
          7.031216960908663,
          7.061329476780433,
          7.090381086661923,
          7.118371790553136,
          7.145301588454073,
          7.171170480364731,
          7.195978466285112,
          7.219725546215214,
          7.24241172015504,
          7.264036988104587,
          7.284601350063857,
          7.30410480603285,
          7.3225473560115635,
          7.339929
         ]
        },
        {
         "legendgroup": "group_0",
         "line": {
          "color": "#636EFA"
         },
         "mode": "lines",
         "showlegend": false,
         "type": "scatter",
         "x": [
          6.545251,
          6.590218346938776,
          6.635185693877552,
          6.680153040816327,
          6.725120387755102,
          6.770087734693878,
          6.815055081632654,
          6.860022428571429,
          6.904989775510204,
          6.94995712244898,
          6.9949244693877555,
          7.039891816326531,
          7.084859163265307,
          7.129826510204082,
          7.174793857142857,
          7.2197612040816335,
          7.264728551020409,
          7.309695897959184,
          7.35466324489796,
          7.399630591836735,
          7.444597938775511,
          7.489565285714286,
          7.534532632653062,
          7.579499979591837,
          7.624467326530612,
          7.669434673469388,
          7.714402020408164,
          7.759369367346939,
          7.804336714285714,
          7.84930406122449,
          7.894271408163266,
          7.939238755102041,
          7.984206102040817,
          8.029173448979591,
          8.074140795918368,
          8.119108142857144,
          8.16407548979592,
          8.209042836734694,
          8.25401018367347,
          8.298977530612245,
          8.34394487755102,
          8.388912224489797,
          8.433879571428571,
          8.478846918367347,
          8.523814265306124,
          8.568781612244898,
          8.613748959183674,
          8.65871630612245,
          8.703683653061224,
          8.748651
         ],
         "y": [
          5.359292999999997,
          5.404037960219906,
          5.448378507981673,
          5.492314643285297,
          5.535846366130778,
          5.5789736765181175,
          5.621696574447313,
          5.664015059918366,
          5.705929132931278,
          5.747438793486047,
          5.788544041582673,
          5.829244877221157,
          5.869541300401497,
          5.909433311123696,
          5.948920909387754,
          5.98800409519367,
          6.026682868541439,
          6.064957229431069,
          6.102827177862558,
          6.140292713835901,
          6.177353837351104,
          6.214010548408162,
          6.250262847007079,
          6.286110733147854,
          6.321554206830488,
          6.356593268054976,
          6.391227916821322,
          6.425458153129529,
          6.459283976979592,
          6.492705388371508,
          6.5257223873052865,
          6.558334973780923,
          6.590543147798417,
          6.622346909357766,
          6.653746258458977,
          6.684741195102042,
          6.715331719286965,
          6.7455178310137445,
          6.775299530282382,
          6.8046768170928775,
          6.833649691445231,
          6.862218153339445,
          6.890382202775509,
          6.918141839753433,
          6.945497064273219,
          6.972447876334858,
          6.998994275938358,
          7.025136263083715,
          7.050873837770929,
          7.076207
         ]
        },
        {
         "legendgroup": "group_0",
         "line": {
          "color": "#636EFA"
         },
         "mode": "lines",
         "showlegend": false,
         "type": "scatter",
         "x": [
          4.624158,
          4.664469673469388,
          4.704781346938776,
          4.745093020408164,
          4.785404693877552,
          4.825716367346939,
          4.866028040816327,
          4.906339714285715,
          4.946651387755102,
          4.98696306122449,
          5.0272747346938775,
          5.067586408163265,
          5.107898081632653,
          5.148209755102041,
          5.188521428571429,
          5.2288331020408165,
          5.269144775510204,
          5.309456448979592,
          5.34976812244898,
          5.390079795918368,
          5.4303914693877555,
          5.470703142857143,
          5.511014816326531,
          5.551326489795919,
          5.591638163265307,
          5.6319498367346945,
          5.672261510204082,
          5.712573183673469,
          5.752884857142857,
          5.793196530612245,
          5.833508204081633,
          5.87381987755102,
          5.914131551020408,
          5.954443224489796,
          5.994754897959184,
          6.035066571428572,
          6.075378244897959,
          6.115689918367347,
          6.156001591836734,
          6.196313265306122,
          6.23662493877551,
          6.2769366122448975,
          6.317248285714285,
          6.357559959183673,
          6.397871632653061,
          6.438183306122449,
          6.4784949795918365,
          6.518806653061224,
          6.559118326530612,
          6.59943
         ],
         "y": [
          5.371757999999999,
          5.371375475416544,
          5.370667944629508,
          5.36963540763889,
          5.3682778644446945,
          5.366595315046917,
          5.364587759445558,
          5.36225519764062,
          5.359597629632101,
          5.356615055420001,
          5.35330747500432,
          5.34967488838506,
          5.345717295562219,
          5.3414346965357975,
          5.3368270913057945,
          5.331894479872212,
          5.326636862235049,
          5.321054238394305,
          5.315146608349981,
          5.308913972102077,
          5.302356329650591,
          5.295473680995526,
          5.2882660261368795,
          5.280733365074653,
          5.272875697808845,
          5.264693024339458,
          5.2561853446664895,
          5.24735265878994,
          5.238194966709811,
          5.228712268426102,
          5.2189045639388105,
          5.20877185324794,
          5.198314136353489,
          5.187531413255457,
          5.1764236839538444,
          5.164990948448652,
          5.153233206739879,
          5.141150458827525,
          5.128742704711591,
          5.116009944392076,
          5.10295217786898,
          5.089569405142305,
          5.075861626212048,
          5.061828841078211,
          5.047471049740794,
          5.032788252199796,
          5.017780448455217,
          5.002447638507059,
          4.986789822355319,
          4.970806999999999
         ]
        },
        {
         "legendgroup": "group_0",
         "line": {
          "color": "#636EFA"
         },
         "mode": "lines",
         "showlegend": false,
         "type": "scatter",
         "x": [
          6.580209,
          6.618549612244898,
          6.656890224489796,
          6.6952308367346935,
          6.733571448979592,
          6.77191206122449,
          6.810252673469388,
          6.848593285714286,
          6.886933897959183,
          6.925274510204082,
          6.96361512244898,
          7.001955734693878,
          7.040296346938776,
          7.078636959183673,
          7.1169775714285715,
          7.15531818367347,
          7.193658795918368,
          7.231999408163265,
          7.270340020408163,
          7.308680632653061,
          7.3470212448979595,
          7.385361857142858,
          7.423702469387756,
          7.462043081632653,
          7.500383693877551,
          7.538724306122449,
          7.5770649183673475,
          7.615405530612245,
          7.653746142857143,
          7.692086755102041,
          7.730427367346939,
          7.768767979591837,
          7.807108591836736,
          7.845449204081633,
          7.883789816326531,
          7.922130428571429,
          7.960471040816327,
          7.9988116530612245,
          8.037152265306123,
          8.07549287755102,
          8.113833489795919,
          8.152174102040817,
          8.190514714285715,
          8.228855326530613,
          8.267195938775512,
          8.305536551020408,
          8.343877163265306,
          8.382217775510204,
          8.420558387755102,
          8.458899
         ],
         "y": [
          5.240603000000004,
          5.272040440798536,
          5.303183881087607,
          5.3340333208672135,
          5.364588760137362,
          5.394850198898045,
          5.424817637149264,
          5.454491074891022,
          5.4838705121233176,
          5.512955948846148,
          5.541747385059519,
          5.570244820763426,
          5.598448255957869,
          5.62635769064285,
          5.653973124818368,
          5.681294558484424,
          5.708321991641018,
          5.735055424288149,
          5.761494856425816,
          5.787640288054019,
          5.813491719172763,
          5.839049149782042,
          5.86431257988186,
          5.889282009472213,
          5.913957438553105,
          5.938338867124534,
          5.962426295186498,
          5.986219722739001,
          6.009719149782043,
          6.032924576315622,
          6.055836002339735,
          6.078453427854388,
          6.100776852859575,
          6.122806277355302,
          6.144541701341566,
          6.165983124818371,
          6.187130547785706,
          6.207983970243582,
          6.228543392191996,
          6.248808813630948,
          6.268780234560435,
          6.28845765498046,
          6.307841074891019,
          6.326930494292123,
          6.34572591318376,
          6.364227331565932,
          6.382434749438644,
          6.400348166801891,
          6.417967583655679,
          6.4352930000000015
         ]
        },
        {
         "legendgroup": "group_0",
         "line": {
          "color": "#636EFA"
         },
         "mode": "lines",
         "showlegend": false,
         "type": "scatter",
         "x": [
          6.469964,
          6.4968134285714285,
          6.523662857142857,
          6.5505122857142855,
          6.577361714285714,
          6.604211142857143,
          6.631060571428572,
          6.65791,
          6.684759428571429,
          6.711608857142857,
          6.738458285714286,
          6.765307714285714,
          6.792157142857143,
          6.819006571428572,
          6.845856,
          6.872705428571429,
          6.899554857142857,
          6.926404285714286,
          6.953253714285714,
          6.980103142857143,
          7.006952571428571,
          7.033802,
          7.060651428571429,
          7.0875008571428575,
          7.114350285714286,
          7.141199714285714,
          7.168049142857143,
          7.194898571428571,
          7.221748,
          7.248597428571429,
          7.275446857142858,
          7.302296285714286,
          7.329145714285715,
          7.355995142857143,
          7.3828445714285715,
          7.409694,
          7.4365434285714285,
          7.463392857142857,
          7.490242285714286,
          7.517091714285715,
          7.543941142857143,
          7.570790571428572,
          7.59764,
          7.624489428571429,
          7.651338857142857,
          7.6781882857142865,
          7.705037714285714,
          7.731887142857143,
          7.758736571428572,
          7.785586
         ],
         "y": [
          5.573704999999999,
          5.599583239893811,
          5.625317301424701,
          5.650907184592667,
          5.676352889397712,
          5.701654415839835,
          5.726811763919034,
          5.751824933635312,
          5.776693924988669,
          5.8014187379791,
          5.82599937260661,
          5.850435828871198,
          5.874728106772864,
          5.898876206311607,
          5.922880127487426,
          5.946739870300323,
          5.970455434750299,
          5.9940268208373535,
          6.017454028561485,
          6.040737057922691,
          6.063875908920977,
          6.08687058155634,
          6.109721075828782,
          6.1324273917382985,
          6.154989529284897,
          6.1774074884685675,
          6.1996812692893215,
          6.221810871747149,
          6.243796295842053,
          6.265637541574037,
          6.287334608943102,
          6.3088874979492395,
          6.330296208592458,
          6.351560740872749,
          6.372681094790119,
          6.393657270344569,
          6.414489267536094,
          6.4351770863647,
          6.455720726830382,
          6.476120188933141,
          6.496375472672977,
          6.516486578049893,
          6.536453505063882,
          6.556276253714955,
          6.5759548240031,
          6.595489215928325,
          6.614879429490628,
          6.634125464690008,
          6.653227321526462,
          6.672184999999999
         ]
        },
        {
         "legendgroup": "group_0",
         "line": {
          "color": "#636EFA"
         },
         "mode": "lines",
         "showlegend": false,
         "type": "scatter",
         "x": [
          6.545251,
          6.575133081632654,
          6.605015163265307,
          6.634897244897959,
          6.664779326530613,
          6.694661408163266,
          6.724543489795919,
          6.7544255714285715,
          6.784307653061225,
          6.814189734693878,
          6.844071816326531,
          6.873953897959184,
          6.903835979591837,
          6.93371806122449,
          6.9636001428571435,
          6.993482224489796,
          7.023364306122449,
          7.053246387755102,
          7.083128469387756,
          7.113010551020408,
          7.142892632653061,
          7.172774714285715,
          7.202656795918368,
          7.23253887755102,
          7.2624209591836735,
          7.292303040816327,
          7.32218512244898,
          7.352067204081632,
          7.381949285714286,
          7.411831367346939,
          7.441713448979592,
          7.471595530612245,
          7.501477612244898,
          7.531359693877551,
          7.561241775510204,
          7.591123857142858,
          7.62100593877551,
          7.650888020408163,
          7.680770102040817,
          7.710652183673469,
          7.740534265306122,
          7.7704163469387755,
          7.800298428571429,
          7.830180510204082,
          7.860062591836734,
          7.889944673469388,
          7.919826755102041,
          7.949708836734693,
          7.979590918367347,
          8.009473
         ],
         "y": [
          5.359292999999997,
          5.3865949429876565,
          5.413718298214773,
          5.440663065681349,
          5.467429245387384,
          5.494016837332879,
          5.520425841517834,
          5.546656257942253,
          5.572708086606127,
          5.598581327509464,
          5.624275980652257,
          5.649792046034513,
          5.67512952365623,
          5.700288413517406,
          5.725268715618039,
          5.750070429958134,
          5.774693556537692,
          5.799138095356705,
          5.823404046415179,
          5.847491409713113,
          5.871400185250508,
          5.895130373027364,
          5.918681973043677,
          5.94205498529945,
          5.965249409794687,
          5.988265246529377,
          6.011102495503533,
          6.033761156717146,
          6.056241230170221,
          6.078542715862753,
          6.100665613794746,
          6.122609923966198,
          6.14437564637711,
          6.165962781027485,
          6.187371327917319,
          6.20860128704661,
          6.229652658415361,
          6.2505254420235765,
          6.271219637871251,
          6.291735245958382,
          6.3120722662849715,
          6.332230698851026,
          6.35221054365654,
          6.372011800701509,
          6.3916344699859415,
          6.411078551509835,
          6.430344045273184,
          6.449430951275998,
          6.4683392695182675,
          6.487069
         ]
        },
        {
         "legendgroup": "group_0",
         "line": {
          "color": "#636EFA"
         },
         "mode": "lines",
         "showlegend": false,
         "type": "scatter",
         "x": [
          6.247029,
          6.251286489795919,
          6.255543979591837,
          6.259801469387756,
          6.264058959183674,
          6.268316448979592,
          6.27257393877551,
          6.276831428571429,
          6.281088918367347,
          6.2853464081632655,
          6.289603897959184,
          6.293861387755102,
          6.298118877551021,
          6.302376367346939,
          6.306633857142858,
          6.310891346938775,
          6.315148836734694,
          6.319406326530612,
          6.323663816326531,
          6.327921306122449,
          6.3321787959183675,
          6.336436285714286,
          6.340693775510204,
          6.344951265306123,
          6.349208755102041,
          6.353466244897959,
          6.357723734693877,
          6.361981224489796,
          6.366238714285714,
          6.370496204081633,
          6.374753693877551,
          6.3790111836734695,
          6.383268673469388,
          6.387526163265306,
          6.391783653061225,
          6.396041142857142,
          6.400298632653061,
          6.404556122448979,
          6.408813612244898,
          6.413071102040816,
          6.417328591836735,
          6.421586081632653,
          6.4258435714285715,
          6.43010106122449,
          6.434358551020408,
          6.438616040816326,
          6.442873530612244,
          6.447131020408163,
          6.451388510204081,
          6.455646
         ],
         "y": [
          6.3350539999999995,
          6.336341189526408,
          6.337624753808944,
          6.338904692847608,
          6.3401810066424,
          6.3414536951933185,
          6.342722758500363,
          6.343988196563538,
          6.3452500093828395,
          6.346508196958269,
          6.347762759289825,
          6.34901369637751,
          6.350261008221321,
          6.351504694821259,
          6.352744756177326,
          6.3539811922895195,
          6.355214003157842,
          6.35644318878229,
          6.357668749162867,
          6.358890684299571,
          6.360108994192403,
          6.361323678841362,
          6.362534738246449,
          6.3637421724076635,
          6.364945981325005,
          6.366146164998473,
          6.367342723428071,
          6.368535656613796,
          6.369724964555648,
          6.370910647253627,
          6.372092704707734,
          6.37327113691797,
          6.37444594388433,
          6.37561712560682,
          6.376784682085439,
          6.377948613320183,
          6.3791089193110535,
          6.3802656000580535,
          6.381418655561182,
          6.382568085820437,
          6.383713890835819,
          6.384856070607329,
          6.385994625134967,
          6.38712955441873,
          6.388260858458623,
          6.389388537254643,
          6.390512590806791,
          6.3916330191150665,
          6.392749822179468,
          6.393862999999999
         ]
        },
        {
         "legendgroup": "group_0",
         "line": {
          "color": "#636EFA"
         },
         "mode": "lines",
         "showlegend": false,
         "type": "scatter",
         "x": [
          4.995216,
          5.02795506122449,
          5.06069412244898,
          5.093433183673469,
          5.126172244897959,
          5.158911306122449,
          5.191650367346939,
          5.2243894285714285,
          5.257128489795918,
          5.289867551020408,
          5.322606612244898,
          5.355345673469388,
          5.388084734693877,
          5.420823795918367,
          5.453562857142857,
          5.486301918367347,
          5.5190409795918365,
          5.551780040816326,
          5.584519102040816,
          5.617258163265307,
          5.6499972244897965,
          5.682736285714286,
          5.715475346938776,
          5.748214408163266,
          5.780953469387756,
          5.813692530612245,
          5.846431591836735,
          5.879170653061225,
          5.911909714285715,
          5.944648775510204,
          5.977387836734694,
          6.010126897959184,
          6.042865959183674,
          6.0756050204081635,
          6.108344081632653,
          6.141083142857143,
          6.173822204081633,
          6.206561265306123,
          6.239300326530612,
          6.272039387755102,
          6.304778448979592,
          6.337517510204082,
          6.3702565714285715,
          6.402995632653061,
          6.435734693877551,
          6.468473755102041,
          6.501212816326531,
          6.53395187755102,
          6.56669093877551,
          6.59943
         ],
         "y": [
          5.392813,
          5.3893454940763945,
          5.385663618926815,
          5.381767374551264,
          5.3776567609497405,
          5.373331778122246,
          5.3687924260687785,
          5.364038704789339,
          5.359070614283928,
          5.353888154552544,
          5.348491325595187,
          5.342880127411858,
          5.337054560002558,
          5.3310146233672855,
          5.3247603175060405,
          5.318291642418824,
          5.311608598105635,
          5.304711184566473,
          5.297599401801341,
          5.290273249810234,
          5.282732728593156,
          5.274977838150106,
          5.267008578481083,
          5.2588249495860895,
          5.250426951465123,
          5.241814584118185,
          5.232987847545274,
          5.223946741746389,
          5.214691266721534,
          5.205221422470707,
          5.1955372089939065,
          5.185638626291135,
          5.175525674362392,
          5.165198353207675,
          5.154656662826987,
          5.143900603220326,
          5.132930174387693,
          5.1217453763290886,
          5.110346209044511,
          5.098732672533963,
          5.086904766797441,
          5.074862491834947,
          5.062605847646482,
          5.050134834232044,
          5.037449451591633,
          5.024549699725251,
          5.011435578632896,
          4.998107088314569,
          4.984564228770271,
          4.970807
         ]
        },
        {
         "legendgroup": "group_0",
         "line": {
          "color": "#636EFA"
         },
         "mode": "lines",
         "showlegend": false,
         "type": "scatter",
         "x": [
          6.385996744976355,
          6.397847750180919,
          6.409698755385484,
          6.421549760590048,
          6.4334007657946115,
          6.4452517709991755,
          6.45710277620374,
          6.468953781408304,
          6.480804786612868,
          6.492655791817432,
          6.504506797021997,
          6.516357802226561,
          6.528208807431125,
          6.540059812635689,
          6.551910817840254,
          6.563761823044818,
          6.5756128282493815,
          6.5874638334539455,
          6.59931483865851,
          6.611165843863074,
          6.623016849067638,
          6.634867854272203,
          6.646718859476767,
          6.658569864681331,
          6.670420869885895,
          6.68227187509046,
          6.694122880295024,
          6.705973885499588,
          6.717824890704152,
          6.729675895908716,
          6.74152690111328,
          6.753377906317844,
          6.765228911522408,
          6.777079916726973,
          6.788930921931537,
          6.800781927136101,
          6.812632932340666,
          6.82448393754523,
          6.836334942749794,
          6.848185947954358,
          6.8600369531589225,
          6.871887958363486,
          6.88373896356805,
          6.895589968772614,
          6.907440973977179,
          6.919291979181743,
          6.931142984386307,
          6.942993989590871,
          6.954844994795436,
          6.966696
         ],
         "y": [
          7.010335289111128,
          7.009446017404557,
          7.008528656433114,
          7.0075832061968,
          7.006609666695614,
          7.005608037929557,
          7.004578319898626,
          7.003520512602824,
          7.002434616042152,
          7.001320630216607,
          7.00017855512619,
          6.999008390770903,
          6.997810137150743,
          6.99658379426571,
          6.995329362115807,
          6.994046840701031,
          6.992736230021385,
          6.991397530076867,
          6.990030740867477,
          6.988635862393214,
          6.98721289465408,
          6.985761837650075,
          6.984282691381198,
          6.982775455847448,
          6.9812401310488275,
          6.9796767169853355,
          6.978085213656972,
          6.976465621063735,
          6.974817939205628,
          6.973142168082649,
          6.9714383076947986,
          6.9697063580420755,
          6.96794631912448,
          6.966158190942015,
          6.964341973494677,
          6.962497666782468,
          6.9606252708053855,
          6.958724785563433,
          6.956796211056608,
          6.954839547284912,
          6.952854794248343,
          6.950841951946903,
          6.948801020380592,
          6.946731999549408,
          6.9446348894533525,
          6.942509690092426,
          6.9403564014666275,
          6.938175023575958,
          6.935965556420416,
          6.933728000000001
         ]
        },
        {
         "legendgroup": "group_0",
         "line": {
          "color": "#636EFA"
         },
         "mode": "lines",
         "showlegend": false,
         "type": "scatter",
         "x": [
          5.605154,
          5.618617612244898,
          5.632081224489796,
          5.645544836734694,
          5.659008448979591,
          5.672472061224489,
          5.6859356734693876,
          5.699399285714286,
          5.712862897959184,
          5.726326510204082,
          5.739790122448979,
          5.753253734693877,
          5.766717346938775,
          5.7801809591836735,
          5.793644571428572,
          5.80710818367347,
          5.820571795918367,
          5.834035408163265,
          5.847499020408163,
          5.860962632653061,
          5.874426244897959,
          5.8878898571428575,
          5.901353469387755,
          5.914817081632653,
          5.928280693877551,
          5.941744306122449,
          5.955207918367347,
          5.968671530612245,
          5.9821351428571425,
          5.995598755102041,
          6.009062367346939,
          6.022525979591837,
          6.035989591836735,
          6.049453204081633,
          6.06291681632653,
          6.0763804285714285,
          6.089844040816327,
          6.103307653061225,
          6.116771265306123,
          6.130234877551021,
          6.143698489795918,
          6.157162102040816,
          6.170625714285714,
          6.1840893265306125,
          6.197552938775511,
          6.211016551020409,
          6.224480163265307,
          6.237943775510204,
          6.251407387755102,
          6.264871
         ],
         "y": [
          7.082501000000001,
          7.074724131318796,
          7.066911008866654,
          7.059061632643577,
          7.051176002649564,
          7.043254118884615,
          7.035295981348728,
          7.0273015900419065,
          7.019270944964148,
          7.011204046115454,
          7.003100893495824,
          6.9949614871052574,
          6.986785826943754,
          6.978573913011315,
          6.970325745307939,
          6.962041323833628,
          6.95372064858838,
          6.945363719572196,
          6.936970536785076,
          6.9285411002270205,
          6.920075409898027,
          6.9115734657980985,
          6.903035267927233,
          6.894460816285433,
          6.8858501108726955,
          6.877203151689022,
          6.868519938734412,
          6.859800472008867,
          6.851044751512385,
          6.842252777244967,
          6.833424549206612,
          6.8245600673973215,
          6.815659331817095,
          6.806722342465932,
          6.797749099343832,
          6.788739602450796,
          6.779693851786825,
          6.770611847351917,
          6.761493589146074,
          6.752339077169293,
          6.743148311421577,
          6.733921291902925,
          6.7246580186133365,
          6.715358491552811,
          6.706022710721349,
          6.696650676118953,
          6.687242387745618,
          6.677797845601349,
          6.668317049686143,
          6.658800000000001
         ]
        },
        {
         "legendgroup": "group_0",
         "line": {
          "color": "#636EFA"
         },
         "mode": "lines",
         "showlegend": false,
         "type": "scatter",
         "x": [
          5.875989,
          5.8871898571428565,
          5.898390714285714,
          5.909591571428571,
          5.920792428571429,
          5.931993285714285,
          5.943194142857142,
          5.954395,
          5.965595857142857,
          5.976796714285714,
          5.987997571428571,
          5.999198428571428,
          6.010399285714286,
          6.021600142857142,
          6.032801,
          6.044001857142857,
          6.0552027142857145,
          6.066403571428571,
          6.077604428571428,
          6.088805285714286,
          6.100006142857143,
          6.111207,
          6.122407857142857,
          6.133608714285714,
          6.1448095714285715,
          6.156010428571428,
          6.167211285714286,
          6.178412142857143,
          6.189613,
          6.200813857142857,
          6.212014714285714,
          6.223215571428572,
          6.2344164285714285,
          6.245617285714285,
          6.256818142857143,
          6.268019,
          6.2792198571428575,
          6.290420714285714,
          6.301621571428571,
          6.312822428571429,
          6.3240232857142855,
          6.335224142857143,
          6.346425,
          6.357625857142858,
          6.3688267142857145,
          6.380027571428571,
          6.391228428571429,
          6.402429285714286,
          6.413630142857143,
          6.424831
         ],
         "y": [
          7.641247999999999,
          7.630680326612506,
          7.6200875613848655,
          7.609469704317077,
          7.598826755409142,
          7.588158714661061,
          7.577465582072833,
          7.566747357644457,
          7.556004041375934,
          7.545235633267264,
          7.534442133318448,
          7.523623541529485,
          7.512779857900375,
          7.501911082431119,
          7.491017215121714,
          7.480098255972163,
          7.469154204982464,
          7.45818506215262,
          7.447190827482628,
          7.436171500972489,
          7.425127082622204,
          7.41405757243177,
          7.402962970401191,
          7.391843276530465,
          7.380698490819591,
          7.369528613268571,
          7.358333643877403,
          7.347113582646089,
          7.335868429574628,
          7.32459818466302,
          7.313302847911265,
          7.301982419319363,
          7.290636898887314,
          7.279266286615118,
          7.267870582502775,
          7.256449786550286,
          7.245003898757648,
          7.2335329191248645,
          7.2220368476519345,
          7.210515684338857,
          7.198969429185633,
          7.187398082192261,
          7.175801643358742,
          7.164180112685076,
          7.1525334901712645,
          7.1408617758173065,
          7.1291649696232,
          7.117443071588947,
          7.105696081714546,
          7.0939239999999995
         ]
        },
        {
         "legendgroup": "group_0",
         "line": {
          "color": "#636EFA"
         },
         "mode": "lines",
         "showlegend": false,
         "type": "scatter",
         "x": [
          6.364440976843855,
          6.377591426296021,
          6.390741875748187,
          6.403892325200354,
          6.417042774652519,
          6.430193224104686,
          6.443343673556853,
          6.456494123009018,
          6.469644572461185,
          6.4827950219133506,
          6.495945471365517,
          6.509095920817684,
          6.522246370269849,
          6.535396819722016,
          6.548547269174182,
          6.561697718626348,
          6.574848168078514,
          6.587998617530681,
          6.601149066982847,
          6.614299516435013,
          6.6274499658871795,
          6.640600415339345,
          6.653750864791512,
          6.666901314243678,
          6.680051763695844,
          6.693202213148011,
          6.706352662600176,
          6.719503112052343,
          6.7326535615045096,
          6.745804010956675,
          6.758954460408842,
          6.7721049098610075,
          6.785255359313174,
          6.79840580876534,
          6.811556258217506,
          6.824706707669673,
          6.837857157121839,
          6.851007606574005,
          6.864158056026172,
          6.877308505478338,
          6.890458954930504,
          6.90360940438267,
          6.9167598538348365,
          6.929910303287002,
          6.943060752739169,
          6.956211202191335,
          6.969361651643501,
          6.982512101095668,
          6.995662550547833,
          7.008813
         ],
         "y": [
          6.9630415347509675,
          6.96236452694484,
          6.961652932274555,
          6.960906750740111,
          6.9601259823415065,
          6.959310627078745,
          6.958460684951824,
          6.957576155960743,
          6.956657040105505,
          6.955703337386107,
          6.9547150478025515,
          6.953692171354837,
          6.952634708042963,
          6.951542657866931,
          6.950416020826738,
          6.949254796922388,
          6.948058986153881,
          6.946828588521211,
          6.945563604024385,
          6.944264032663401,
          6.942929874438257,
          6.941561129348954,
          6.940157797395492,
          6.938719878577872,
          6.937247372896092,
          6.935740280350154,
          6.934198600940056,
          6.9326223346658,
          6.931011481527386,
          6.929366041524813,
          6.92768601465808,
          6.925971400927191,
          6.924222200332141,
          6.922438412872932,
          6.920620038549565,
          6.918767077362039,
          6.9168795293103535,
          6.91495739439451,
          6.9130006726145075,
          6.911009363970346,
          6.908983468462026,
          6.906922986089547,
          6.904827916852909,
          6.902698260752114,
          6.900534017787157,
          6.898335187958043,
          6.896101771264772,
          6.89383376770734,
          6.891531177285749,
          6.889194
         ]
        },
        {
         "legendgroup": "group_0",
         "line": {
          "color": "#636EFA"
         },
         "mode": "lines",
         "showlegend": false,
         "type": "scatter",
         "x": [
          6.769199,
          6.781365673469388,
          6.793532346938776,
          6.805699020408164,
          6.817865693877551,
          6.830032367346939,
          6.842199040816327,
          6.854365714285715,
          6.866532387755102,
          6.8786990612244905,
          6.890865734693878,
          6.9030324081632655,
          6.915199081632653,
          6.927365755102041,
          6.939532428571429,
          6.951699102040816,
          6.963865775510205,
          6.976032448979592,
          6.98819912244898,
          7.000365795918367,
          7.0125324693877555,
          7.024699142857143,
          7.0368658163265305,
          7.049032489795919,
          7.061199163265306,
          7.073365836734694,
          7.085532510204081,
          7.09769918367347,
          7.109865857142857,
          7.122032530612245,
          7.134199204081633,
          7.146365877551021,
          7.158532551020408,
          7.170699224489796,
          7.182865897959184,
          7.195032571428571,
          7.207199244897959,
          7.219365918367347,
          7.231532591836735,
          7.243699265306122,
          7.25586593877551,
          7.268032612244898,
          7.280199285714286,
          7.292365959183673,
          7.304532632653061,
          7.316699306122449,
          7.3288659795918365,
          7.341032653061224,
          7.353199326530612,
          7.365366
         ],
         "y": [
          7.731097000000001,
          7.73070302392381,
          7.730279442258959,
          7.7298262550054435,
          7.729343462163267,
          7.728831063732429,
          7.7282890597129255,
          7.727717450104763,
          7.727116234907938,
          7.726485414122451,
          7.725824987748302,
          7.72513495578549,
          7.724415318234016,
          7.723666075093881,
          7.722887226365082,
          7.722078772047622,
          7.7212407121414985,
          7.720373046646714,
          7.719475775563268,
          7.718548898891159,
          7.717592416630389,
          7.716606328780956,
          7.715590635342861,
          7.714545336316103,
          7.713470431700684,
          7.712365921496602,
          7.711231805703859,
          7.710068084322451,
          7.708874757352383,
          7.707651824793654,
          7.706399286646262,
          7.705117142910207,
          7.70380539358549,
          7.702464038672112,
          7.70109307817007,
          7.699692512079367,
          7.698262340400001,
          7.696802563131975,
          7.695313180275285,
          7.693794191829934,
          7.69224559779592,
          7.690667398173245,
          7.6890595929619066,
          7.687422182161907,
          7.685755165773244,
          7.684058543795919,
          7.682332316229933,
          7.680576483075283,
          7.678791044331973,
          7.676976
         ]
        },
        {
         "legendgroup": "group_0",
         "line": {
          "color": "#636EFA"
         },
         "mode": "lines",
         "showlegend": false,
         "type": "scatter",
         "x": [
          6.407423840596,
          6.408120680583837,
          6.408817520571673,
          6.40951436055951,
          6.410211200547346,
          6.410908040535183,
          6.41160488052302,
          6.412301720510857,
          6.412998560498694,
          6.413695400486531,
          6.414392240474367,
          6.415089080462204,
          6.41578592045004,
          6.416482760437877,
          6.4171796004257144,
          6.417876440413551,
          6.418573280401388,
          6.419270120389224,
          6.419966960377061,
          6.420663800364898,
          6.421360640352734,
          6.4220574803405714,
          6.422754320328408,
          6.423451160316245,
          6.424148000304082,
          6.424844840291918,
          6.425541680279755,
          6.426238520267592,
          6.426935360255428,
          6.4276322002432655,
          6.428329040231102,
          6.429025880218939,
          6.429722720206776,
          6.430419560194612,
          6.431116400182449,
          6.431813240170285,
          6.4325100801581225,
          6.43320692014596,
          6.433903760133796,
          6.434600600121633,
          6.435297440109469,
          6.435994280097306,
          6.436691120085143,
          6.4373879600729795,
          6.438084800060817,
          6.438781640048654,
          6.43947848003649,
          6.440175320024327,
          6.440872160012163,
          6.441569
         ],
         "y": [
          7.056455996199448,
          7.056367061783537,
          7.056278030250433,
          7.056188901600135,
          7.056099675832643,
          7.056010352947957,
          7.055920932946077,
          7.055831415827004,
          7.055741801590738,
          7.055652090237277,
          7.0555622817666235,
          7.055472376178774,
          7.0553823734737335,
          7.055292273651498,
          7.055202076712068,
          7.055111782655446,
          7.055021391481629,
          7.054930903190619,
          7.054840317782414,
          7.054749635257017,
          7.054658855614425,
          7.0545679788546405,
          7.054477004977661,
          7.054385933983488,
          7.054294765872122,
          7.0542035006435615,
          7.054112138297809,
          7.054020678834861,
          7.0539291222547185,
          7.053837468557385,
          7.053745717742855,
          7.053653869811132,
          7.053561924762216,
          7.053469882596106,
          7.053377743312803,
          7.053285506912305,
          7.053193173394614,
          7.053100742759728,
          7.053008215007651,
          7.052915590138378,
          7.052822868151912,
          7.052730049048252,
          7.052637132827398,
          7.052544119489351,
          7.05245100903411,
          7.0523578014616755,
          7.052264496772048,
          7.052171094965224,
          7.052077596041209,
          7.051983999999998
         ]
        },
        {
         "legendgroup": "group_0",
         "line": {
          "color": "#636EFA"
         },
         "mode": "lines",
         "showlegend": false,
         "type": "scatter",
         "x": [
          5.413654,
          5.434032367346939,
          5.4544107346938775,
          5.474789102040816,
          5.495167469387756,
          5.515545836734694,
          5.535924204081633,
          5.556302571428572,
          5.57668093877551,
          5.597059306122449,
          5.617437673469388,
          5.637816040816327,
          5.658194408163266,
          5.6785727755102045,
          5.698951142857143,
          5.719329510204082,
          5.73970787755102,
          5.760086244897959,
          5.780464612244899,
          5.800842979591837,
          5.821221346938776,
          5.841599714285715,
          5.861978081632653,
          5.882356448979592,
          5.9027348163265305,
          5.92311318367347,
          5.943491551020409,
          5.963869918367347,
          5.984248285714286,
          6.004626653061225,
          6.025005020408163,
          6.045383387755102,
          6.0657617551020415,
          6.08614012244898,
          6.106518489795919,
          6.1268968571428575,
          6.147275224489796,
          6.167653591836735,
          6.188031959183673,
          6.208410326530613,
          6.228788693877552,
          6.24916706122449,
          6.269545428571429,
          6.289923795918368,
          6.310302163265306,
          6.330680530612245,
          6.351058897959184,
          6.371437265306123,
          6.391815632653062,
          6.412194
         ],
         "y": [
          5.675887999999999,
          5.6788041500340185,
          5.681637244496892,
          5.68438728338862,
          5.687054266709204,
          5.689638194458642,
          5.692139066636933,
          5.694556883244081,
          5.6968916442800825,
          5.699143349744939,
          5.70131199963865,
          5.703397593961215,
          5.705400132712635,
          5.70731961589291,
          5.709156043502039,
          5.710909415540025,
          5.712579732006862,
          5.714166992902557,
          5.7156711982271045,
          5.717092347980507,
          5.718430442162765,
          5.719685480773876,
          5.720857463813843,
          5.721946391282664,
          5.722952263180341,
          5.723875079506872,
          5.724714840262257,
          5.725471545446497,
          5.7261451950595905,
          5.72673578910154,
          5.727243327572344,
          5.727667810472003,
          5.728009237800515,
          5.728267609557884,
          5.728442925744105,
          5.728535186359182,
          5.7285443914031156,
          5.7284705408759,
          5.7283136347775425,
          5.728073673108037,
          5.727750655867387,
          5.727344583055592,
          5.726855454672652,
          5.726283270718566,
          5.7256280311933345,
          5.724889736096959,
          5.724068385429437,
          5.72316397919077,
          5.722176517380957,
          5.721105999999999
         ]
        },
        {
         "legendgroup": "group_0",
         "line": {
          "color": "#636EFA"
         },
         "mode": "lines",
         "showlegend": false,
         "type": "scatter",
         "x": [
          5.399382,
          5.423872775510204,
          5.4483635510204085,
          5.472854326530612,
          5.497345102040817,
          5.521835877551021,
          5.546326653061224,
          5.570817428571429,
          5.595308204081633,
          5.619798979591836,
          5.644289755102041,
          5.668780530612245,
          5.693271306122449,
          5.717762081632653,
          5.742252857142857,
          5.7667436326530614,
          5.791234408163265,
          5.81572518367347,
          5.8402159591836735,
          5.864706734693877,
          5.889197510204082,
          5.913688285714286,
          5.93817906122449,
          5.962669836734694,
          5.987160612244898,
          6.011651387755102,
          6.036142163265306,
          6.060632938775511,
          6.085123714285714,
          6.109614489795918,
          6.134105265306123,
          6.1585960408163265,
          6.18308681632653,
          6.207577591836735,
          6.232068367346939,
          6.256559142857142,
          6.281049918367347,
          6.305540693877551,
          6.330031469387755,
          6.354522244897959,
          6.379013020408163,
          6.403503795918367,
          6.427994571428571,
          6.452485346938776,
          6.4769761224489795,
          6.501466897959183,
          6.525957673469388,
          6.5504484489795916,
          6.574939224489796,
          6.59943
         ],
         "y": [
          5.241703000000001,
          5.23905354101252,
          5.236284122408021,
          5.233394744186504,
          5.230385406347969,
          5.227256108892416,
          5.224006851819844,
          5.220637635130254,
          5.217148458823646,
          5.2135393229000195,
          5.209810227359375,
          5.205961172201711,
          5.20199215742703,
          5.197903183035331,
          5.193694249026613,
          5.189365355400877,
          5.1849165021581225,
          5.180347689298351,
          5.17565891682156,
          5.170850184727751,
          5.165921493016924,
          5.160872841689079,
          5.155704230744215,
          5.150415660182333,
          5.1450071300034335,
          5.139478640207514,
          5.133830190794577,
          5.128061781764623,
          5.122173413117649,
          5.116165084853659,
          5.110036796972648,
          5.103788549474621,
          5.097420342359575,
          5.09093217562751,
          5.084324049278428,
          5.077595963312326,
          5.070747917729208,
          5.06377991252907,
          5.056691947711915,
          5.049484023277741,
          5.04215613922655,
          5.034708295558339,
          5.027140492273111,
          5.019452729370864,
          5.011645006851599,
          5.003717324715316,
          4.995669682962014,
          4.987502081591694,
          4.979214520604357,
          4.970807000000001
         ]
        },
        {
         "legendgroup": "group_0",
         "line": {
          "color": "#636EFA"
         },
         "mode": "lines",
         "showlegend": false,
         "type": "scatter",
         "x": [
          6.990214812766288,
          6.9948173676077925,
          6.999419922449297,
          7.004022477290801,
          7.008625032132305,
          7.01322758697381,
          7.017830141815314,
          7.022432696656819,
          7.027035251498322,
          7.031637806339827,
          7.036240361181331,
          7.040842916022836,
          7.04544547086434,
          7.050048025705844,
          7.0546505805473485,
          7.059253135388853,
          7.0638556902303575,
          7.068458245071862,
          7.073060799913366,
          7.07766335475487,
          7.082265909596375,
          7.086868464437879,
          7.091471019279384,
          7.096073574120887,
          7.100676128962392,
          7.105278683803896,
          7.109881238645401,
          7.1144837934869045,
          7.119086348328409,
          7.1236889031699135,
          7.128291458011418,
          7.132894012852923,
          7.137496567694426,
          7.142099122535931,
          7.146701677377435,
          7.15130423221894,
          7.155906787060444,
          7.160509341901948,
          7.165111896743452,
          7.169714451584957,
          7.174317006426461,
          7.178919561267966,
          7.18352211610947,
          7.188124670950974,
          7.192727225792479,
          7.197329780633983,
          7.201932335475488,
          7.206534890316991,
          7.211137445158496,
          7.21574
         ],
         "y": [
          8.767197083950242,
          8.767597518192144,
          8.767993715731834,
          8.768385676569306,
          8.768773400704568,
          8.769156888137614,
          8.769536138868446,
          8.769911152897066,
          8.770281930223472,
          8.770648470847664,
          8.77101077476964,
          8.771368841989405,
          8.771722672506955,
          8.77207226632229,
          8.772417623435413,
          8.772758743846323,
          8.773095627555017,
          8.773428274561498,
          8.773756684865765,
          8.77408085846782,
          8.774400795367658,
          8.774716495565283,
          8.775027959060697,
          8.775335185853896,
          8.77563817594488,
          8.77593692933365,
          8.776231446020205,
          8.77652172600455,
          8.77680776928668,
          8.777089575866595,
          8.777367145744297,
          8.777640478919784,
          8.777909575393057,
          8.778174435164118,
          8.778435058232965,
          8.778691444599596,
          8.778943594264016,
          8.77919150722622,
          8.77943518348621,
          8.779674623043988,
          8.779909825899551,
          8.7801407920529,
          8.780367521504036,
          8.780590014252958,
          8.780808270299667,
          8.781022289644161,
          8.781232072286443,
          8.781437618226509,
          8.78163892746436,
          8.781836
         ]
        },
        {
         "legendgroup": "group_0",
         "line": {
          "color": "#636EFA"
         },
         "mode": "lines",
         "showlegend": false,
         "type": "scatter",
         "x": [
          6.537678,
          6.544504020408163,
          6.551330040816326,
          6.55815606122449,
          6.564982081632653,
          6.571808102040816,
          6.578634122448979,
          6.585460142857142,
          6.592286163265306,
          6.599112183673469,
          6.605938204081633,
          6.612764224489796,
          6.619590244897959,
          6.626416265306122,
          6.633242285714285,
          6.640068306122449,
          6.646894326530612,
          6.653720346938775,
          6.660546367346939,
          6.667372387755102,
          6.6741984081632655,
          6.681024428571428,
          6.687850448979591,
          6.694676469387755,
          6.701502489795918,
          6.7083285102040815,
          6.715154530612245,
          6.721980551020408,
          6.728806571428572,
          6.735632591836734,
          6.7424586122448975,
          6.749284632653061,
          6.756110653061224,
          6.762936673469388,
          6.769762693877551,
          6.776588714285714,
          6.783414734693878,
          6.79024075510204,
          6.797066775510204,
          6.803892795918367,
          6.81071881632653,
          6.817544836734694,
          6.824370857142857,
          6.831196877551021,
          6.838022897959184,
          6.844848918367347,
          6.85167493877551,
          6.858500959183673,
          6.865326979591837,
          6.872153
         ],
         "y": [
          8.380589,
          8.376796184474387,
          8.37299405003785,
          8.36918259669039,
          8.365361824432007,
          8.361531733262703,
          8.357692323182476,
          8.353843594191328,
          8.349985546289254,
          8.34611817947626,
          8.342241493752343,
          8.338355489117504,
          8.334460165571741,
          8.330555523115056,
          8.32664156174745,
          8.32271828146892,
          8.318785682279469,
          8.314843764179091,
          8.310892527167795,
          8.306931971245575,
          8.302962096412433,
          8.298982902668367,
          8.294994390013382,
          8.290996558447471,
          8.286989407970637,
          8.282972938582883,
          8.278947150284203,
          8.274912043074604,
          8.270867616954082,
          8.266813871922636,
          8.26275080798027,
          8.25867842512698,
          8.254596723362766,
          8.250505702687631,
          8.246405363101573,
          8.242295704604594,
          8.23817672719669,
          8.234048430877865,
          8.229910815648116,
          8.225763881507447,
          8.221607628455853,
          8.217442056493336,
          8.213267165619898,
          8.209082955835537,
          8.204889427140255,
          8.200686579534048,
          8.196474413016922,
          8.192252927588871,
          8.188022123249898,
          8.183782
         ]
        },
        {
         "legendgroup": "group_0",
         "line": {
          "color": "#636EFA"
         },
         "mode": "lines",
         "showlegend": false,
         "type": "scatter",
         "x": [
          6.286802,
          6.295543612244898,
          6.304285224489796,
          6.313026836734694,
          6.321768448979592,
          6.33051006122449,
          6.339251673469388,
          6.347993285714286,
          6.356734897959184,
          6.365476510204082,
          6.37421812244898,
          6.382959734693878,
          6.391701346938776,
          6.400442959183673,
          6.409184571428571,
          6.417926183673469,
          6.426667795918367,
          6.435409408163265,
          6.444151020408163,
          6.452892632653061,
          6.461634244897959,
          6.470375857142857,
          6.479117469387755,
          6.487859081632653,
          6.496600693877551,
          6.505342306122449,
          6.514083918367347,
          6.522825530612245,
          6.531567142857143,
          6.540308755102041,
          6.549050367346939,
          6.557791979591837,
          6.566533591836735,
          6.575275204081633,
          6.584016816326531,
          6.592758428571429,
          6.601500040816326,
          6.610241653061225,
          6.618983265306122,
          6.62772487755102,
          6.636466489795918,
          6.645208102040816,
          6.653949714285714,
          6.662691326530612,
          6.67143293877551,
          6.680174551020408,
          6.688916163265306,
          6.697657775510204,
          6.706399387755102,
          6.715141
         ],
         "y": [
          8.043899,
          8.035760754949944,
          8.027607226742964,
          8.019438415379053,
          8.011254320858214,
          8.003054943180448,
          7.994840282345756,
          7.986610338354133,
          7.978365111205583,
          7.970104600900105,
          7.9618288074376995,
          7.953537730818365,
          7.945231371042103,
          7.936909728108914,
          7.928572802018795,
          7.920220592771749,
          7.911853100367774,
          7.9034703248068725,
          7.895072266089042,
          7.886658924214283,
          7.878230299182597,
          7.8697863909939825,
          7.86132719964844,
          7.8528527251459685,
          7.844362967486571,
          7.835857926670245,
          7.82733760269699,
          7.818801995566807,
          7.810251105279695,
          7.801684931835657,
          7.793103475234691,
          7.784506735476796,
          7.775894712561973,
          7.767267406490223,
          7.758624817261543,
          7.749966944875937,
          7.741293789333403,
          7.732605350633939,
          7.723901628777549,
          7.71518262376423,
          7.706448335593983,
          7.697698764266807,
          7.688933909782705,
          7.680153772141674,
          7.671358351343715,
          7.662547647388827,
          7.653721660277013,
          7.64488039000827,
          7.636023836582598,
          7.627151999999999
         ]
        },
        {
         "legendgroup": "group_0",
         "line": {
          "color": "#636EFA"
         },
         "mode": "lines",
         "showlegend": false,
         "type": "scatter",
         "x": [
          6.667509337558057,
          6.677370126587484,
          6.687230915616912,
          6.697091704646339,
          6.706952493675766,
          6.716813282705194,
          6.726674071734621,
          6.736534860764049,
          6.7463956497934765,
          6.756256438822904,
          6.766117227852331,
          6.7759780168817585,
          6.785838805911186,
          6.795699594940613,
          6.8055603839700405,
          6.815421172999468,
          6.825281962028895,
          6.8351427510583225,
          6.84500354008775,
          6.854864329117178,
          6.864725118146605,
          6.874585907176033,
          6.88444669620546,
          6.894307485234887,
          6.904168274264315,
          6.914029063293742,
          6.923889852323169,
          6.933750641352597,
          6.943611430382024,
          6.953472219411451,
          6.963333008440879,
          6.973193797470307,
          6.983054586499734,
          6.9929153755291615,
          7.002776164558589,
          7.012636953588016,
          7.0224977426174435,
          7.032358531646871,
          7.042219320676298,
          7.0520801097057255,
          7.061940898735153,
          7.07180168776458,
          7.0816624767940075,
          7.091523265823435,
          7.101384054852863,
          7.11124484388229,
          7.121105632911718,
          7.130966421941145,
          7.140827210970572,
          7.150688
         ],
         "y": [
          7.552924717732388,
          7.55069745226231,
          7.548450739760175,
          7.546184580225983,
          7.543898973659735,
          7.54159392006143,
          7.5392694194310685,
          7.53692547176865,
          7.534562077074175,
          7.532179235347644,
          7.529776946589055,
          7.527355210798412,
          7.5249140279757105,
          7.522453398120954,
          7.519973321234138,
          7.517473797315268,
          7.514954826364341,
          7.512416408381357,
          7.509858543366317,
          7.50728123131922,
          7.504684472240066,
          7.5020682661288545,
          7.499432612985588,
          7.496777512810265,
          7.4941029656028855,
          7.491408971363449,
          7.488695530091956,
          7.485962641788407,
          7.4832103064528,
          7.480438524085137,
          7.4776472946854184,
          7.474836618253642,
          7.4720064947898095,
          7.46915692429392,
          7.466287906765975,
          7.463399442205972,
          7.460491530613913,
          7.457564171989798,
          7.454617366333626,
          7.451651113645398,
          7.448665413925113,
          7.44566026717277,
          7.442635673388373,
          7.439591632571918,
          7.436528144723406,
          7.433445209842838,
          7.430342827930215,
          7.427220998985533,
          7.424079723008796,
          7.4209190000000005
         ]
        },
        {
         "legendgroup": "group_0",
         "line": {
          "color": "#636EFA"
         },
         "mode": "lines",
         "showlegend": false,
         "type": "scatter",
         "x": [
          5.410469,
          5.434733510204081,
          5.458998020408163,
          5.483262530612245,
          5.507527040816327,
          5.531791551020408,
          5.556056061224489,
          5.5803205714285715,
          5.604585081632653,
          5.628849591836735,
          5.653114102040816,
          5.6773786122448975,
          5.70164312244898,
          5.725907632653061,
          5.750172142857143,
          5.774436653061224,
          5.7987011632653065,
          5.822965673469388,
          5.847230183673469,
          5.871494693877551,
          5.8957592040816325,
          5.920023714285714,
          5.944288224489796,
          5.968552734693877,
          5.992817244897959,
          6.017081755102041,
          6.041346265306123,
          6.065610775510204,
          6.089875285714285,
          6.114139795918367,
          6.138404306122449,
          6.162668816326531,
          6.186933326530612,
          6.211197836734693,
          6.2354623469387755,
          6.259726857142857,
          6.283991367346939,
          6.30825587755102,
          6.3325203877551015,
          6.356784897959184,
          6.381049408163265,
          6.405313918367347,
          6.429578428571428,
          6.4538429387755105,
          6.478107448979592,
          6.502371959183673,
          6.526636469387755,
          6.5509009795918365,
          6.575165489795918,
          6.59943
         ],
         "y": [
          5.243088,
          5.240357323884091,
          5.237508894477092,
          5.234542711779005,
          5.231458775789829,
          5.228257086509563,
          5.22493764393821,
          5.221500448075767,
          5.217945498922236,
          5.214272796477616,
          5.2104823407419065,
          5.20657413171511,
          5.202548169397223,
          5.198404453788248,
          5.194142984888183,
          5.189763762697032,
          5.18526678721479,
          5.180652058441459,
          5.17591957637704,
          5.171069341021532,
          5.166101352374935,
          5.161015610437249,
          5.155812115208475,
          5.150490866688611,
          5.14505186487766,
          5.139495109775618,
          5.133820601382489,
          5.12802833969827,
          5.122118324722964,
          5.116090556456568,
          5.1099450348990825,
          5.103681760050509,
          5.097300731910845,
          5.090801950480095,
          5.084185415758255,
          5.077451127745326,
          5.070599086441309,
          5.063629291846202,
          5.0565417439600076,
          5.049336442782723,
          5.04201338831435,
          5.034572580554888,
          5.027014019504339,
          5.0193377051627,
          5.011543637529972,
          5.0036318166061555,
          4.995602242391249,
          4.987454914885255,
          4.979189834088172,
          4.970807
         ]
        },
        {
         "line": {
          "color": "orange"
         },
         "showlegend": false,
         "type": "scatter",
         "x": [
          8.274069
         ],
         "y": [
          6.720837
         ]
        },
        {
         "line": {
          "color": "orange"
         },
         "showlegend": false,
         "type": "scatter",
         "x": [
          10.148987
         ],
         "y": [
          7.339929
         ]
        },
        {
         "line": {
          "color": "orange"
         },
         "showlegend": false,
         "type": "scatter",
         "x": [
          8.748651
         ],
         "y": [
          7.076207
         ]
        },
        {
         "line": {
          "color": "orange"
         },
         "showlegend": false,
         "type": "scatter",
         "x": [
          4.624158
         ],
         "y": [
          5.371758
         ]
        },
        {
         "line": {
          "color": "orange"
         },
         "showlegend": false,
         "type": "scatter",
         "x": [
          8.458899
         ],
         "y": [
          6.435293
         ]
        },
        {
         "line": {
          "color": "orange"
         },
         "showlegend": false,
         "type": "scatter",
         "x": [
          7.785586
         ],
         "y": [
          6.672185
         ]
        },
        {
         "line": {
          "color": "orange"
         },
         "showlegend": false,
         "type": "scatter",
         "x": [
          8.009473
         ],
         "y": [
          6.487069
         ]
        },
        {
         "line": {
          "color": "orange"
         },
         "showlegend": false,
         "type": "scatter",
         "x": [
          6.455646
         ],
         "y": [
          6.393863
         ]
        },
        {
         "line": {
          "color": "orange"
         },
         "showlegend": false,
         "type": "scatter",
         "x": [
          4.995216
         ],
         "y": [
          5.392813
         ]
        },
        {
         "line": {
          "color": "orange"
         },
         "showlegend": false,
         "type": "scatter",
         "x": [
          6.966696
         ],
         "y": [
          6.933728
         ]
        },
        {
         "line": {
          "color": "orange"
         },
         "showlegend": false,
         "type": "scatter",
         "x": [
          5.605154
         ],
         "y": [
          7.082501
         ]
        },
        {
         "line": {
          "color": "orange"
         },
         "showlegend": false,
         "type": "scatter",
         "x": [
          5.875989
         ],
         "y": [
          7.641248
         ]
        },
        {
         "line": {
          "color": "orange"
         },
         "showlegend": false,
         "type": "scatter",
         "x": [
          7.008813
         ],
         "y": [
          6.889194
         ]
        },
        {
         "line": {
          "color": "orange"
         },
         "showlegend": false,
         "type": "scatter",
         "x": [
          7.365366
         ],
         "y": [
          7.676976
         ]
        },
        {
         "line": {
          "color": "orange"
         },
         "showlegend": false,
         "type": "scatter",
         "x": [
          6.441569
         ],
         "y": [
          7.051984
         ]
        },
        {
         "line": {
          "color": "orange"
         },
         "showlegend": false,
         "type": "scatter",
         "x": [
          5.413654
         ],
         "y": [
          5.675888
         ]
        },
        {
         "line": {
          "color": "orange"
         },
         "showlegend": false,
         "type": "scatter",
         "x": [
          5.399382
         ],
         "y": [
          5.241703
         ]
        },
        {
         "line": {
          "color": "orange"
         },
         "showlegend": false,
         "type": "scatter",
         "x": [
          7.21574
         ],
         "y": [
          8.781836
         ]
        },
        {
         "line": {
          "color": "orange"
         },
         "showlegend": false,
         "type": "scatter",
         "x": [
          6.537678
         ],
         "y": [
          8.380589
         ]
        },
        {
         "line": {
          "color": "orange"
         },
         "showlegend": false,
         "type": "scatter",
         "x": [
          6.286802
         ],
         "y": [
          8.043899
         ]
        },
        {
         "line": {
          "color": "orange"
         },
         "showlegend": false,
         "type": "scatter",
         "x": [
          7.150688
         ],
         "y": [
          7.420919
         ]
        },
        {
         "line": {
          "color": "orange"
         },
         "showlegend": false,
         "type": "scatter",
         "x": [
          5.410469
         ],
         "y": [
          5.243088
         ]
        },
        {
         "legendgroup": "group_1",
         "line": {
          "color": "#EF553B"
         },
         "mode": "lines",
         "name": "(0.1, 0.6)",
         "showlegend": true,
         "type": "scatter",
         "x": [
          6.580209,
          6.614777571428571,
          6.6493461428571425,
          6.683914714285715,
          6.718483285714286,
          6.753051857142857,
          6.7876204285714286,
          6.822189,
          6.856757571428572,
          6.891326142857143,
          6.925894714285715,
          6.960463285714286,
          6.995031857142857,
          7.029600428571428,
          7.064169000000001,
          7.098737571428572,
          7.133306142857143,
          7.167874714285714,
          7.202443285714286,
          7.237011857142857,
          7.271580428571429,
          7.3061490000000004,
          7.340717571428572,
          7.375286142857143,
          7.409854714285714,
          7.4444232857142865,
          7.478991857142858,
          7.513560428571429,
          7.548129,
          7.582697571428572,
          7.617266142857144,
          7.651834714285715,
          7.686403285714286,
          7.720971857142858,
          7.755540428571429,
          7.790109000000001,
          7.824677571428572,
          7.859246142857144,
          7.893814714285715,
          7.928383285714286,
          7.962951857142858,
          7.99752042857143,
          8.032089000000001,
          8.066657571428571,
          8.101226142857143,
          8.135794714285716,
          8.170363285714286,
          8.204931857142858,
          8.239500428571429,
          8.274069
         ],
         "y": [
          5.240603,
          5.265075923715919,
          5.28978784465796,
          5.314738762826123,
          5.339928678220409,
          5.365357590840817,
          5.3910255006873475,
          5.41693240776,
          5.443078312058777,
          5.4694632135836745,
          5.496087112334695,
          5.522950008311836,
          5.550051901515102,
          5.57739279194449,
          5.604972679600001,
          5.632791564481634,
          5.660849446589388,
          5.689146325923266,
          5.717682202483266,
          5.7464570762693885,
          5.775470947281634,
          5.804723815520001,
          5.8342156809844905,
          5.863946543675103,
          5.893916403591836,
          5.924125260734694,
          5.954573115103674,
          5.985259966698776,
          6.01618581552,
          6.047350661567347,
          6.078754504840818,
          6.1103973453404095,
          6.142279183066123,
          6.17440001801796,
          6.206759850195919,
          6.239358679600001,
          6.272196506230205,
          6.305273330086531,
          6.33858915116898,
          6.372143969477551,
          6.405937785012246,
          6.439970597773062,
          6.474242407760001,
          6.508753214973061,
          6.543503019412245,
          6.578491821077551,
          6.61371961996898,
          6.64918641608653,
          6.684892209430204,
          6.720837
         ]
        },
        {
         "legendgroup": "group_1",
         "line": {
          "color": "#EF553B"
         },
         "mode": "lines",
         "showlegend": false,
         "type": "scatter",
         "x": [
          6.580209,
          6.6530412040816325,
          6.725873408163265,
          6.798705612244898,
          6.871537816326531,
          6.944370020408163,
          7.017202224489796,
          7.090034428571428,
          7.162866632653062,
          7.235698836734694,
          7.308531040816327,
          7.381363244897959,
          7.454195448979592,
          7.527027653061225,
          7.599859857142857,
          7.67269206122449,
          7.7455242653061225,
          7.818356469387755,
          7.891188673469388,
          7.96402087755102,
          8.036853081632653,
          8.109685285714285,
          8.182517489795918,
          8.255349693877552,
          8.328181897959183,
          8.401014102040817,
          8.47384630612245,
          8.546678510204082,
          8.619510714285713,
          8.692342918367347,
          8.76517512244898,
          8.838007326530612,
          8.910839530612245,
          8.983671734693878,
          9.05650393877551,
          9.129336142857143,
          9.202168346938777,
          9.275000551020408,
          9.34783275510204,
          9.420664959183673,
          9.493497163265307,
          9.566329367346938,
          9.639161571428572,
          9.711993775510205,
          9.784825979591837,
          9.85765818367347,
          9.930490387755102,
          10.003322591836735,
          10.076154795918367,
          10.148987
         ],
         "y": [
          5.240603,
          5.257984643988437,
          5.276427193967152,
          5.295930649936144,
          5.316495011895414,
          5.338120279844961,
          5.360806453784788,
          5.38455353371489,
          5.409361519635271,
          5.43523041154593,
          5.462160209446866,
          5.490150913338081,
          5.519202523219571,
          5.54931503909134,
          5.580488460953387,
          5.612722788805712,
          5.646018022648316,
          5.680374162481196,
          5.7157912083043545,
          5.752269160117789,
          5.789808017921504,
          5.828407781715493,
          5.868068451499762,
          5.908790027274309,
          5.950572509039133,
          5.993415896794236,
          6.037320190539616,
          6.082285390275272,
          6.128311496001208,
          6.175398507717421,
          6.223546425423912,
          6.272755249120681,
          6.323024978807727,
          6.374355614485051,
          6.426747156152651,
          6.480199603810529,
          6.534712957458687,
          6.590287217097121,
          6.646922382725833,
          6.704618454344825,
          6.763375431954092,
          6.823193315553638,
          6.884072105143462,
          6.946011800723564,
          7.009012402293941,
          7.073073909854598,
          7.138196323405531,
          7.204379642946742,
          7.2716238684782315,
          7.339929
         ]
        },
        {
         "legendgroup": "group_1",
         "line": {
          "color": "#EF553B"
         },
         "mode": "lines",
         "showlegend": false,
         "type": "scatter",
         "x": [
          6.580209,
          6.624462918367347,
          6.668716836734694,
          6.712970755102041,
          6.757224673469388,
          6.801478591836735,
          6.845732510204082,
          6.8899864285714285,
          6.9342403469387754,
          6.978494265306122,
          7.022748183673469,
          7.067002102040816,
          7.111256020408163,
          7.15550993877551,
          7.199763857142857,
          7.244017775510204,
          7.288271693877551,
          7.332525612244898,
          7.376779530612245,
          7.421033448979593,
          7.465287367346939,
          7.5095412857142865,
          7.5537952040816325,
          7.59804912244898,
          7.642303040816326,
          7.686556959183674,
          7.73081087755102,
          7.775064795918368,
          7.819318714285715,
          7.863572632653062,
          7.907826551020409,
          7.952080469387756,
          7.996334387755103,
          8.04058830612245,
          8.084842224489796,
          8.129096142857144,
          8.17335006122449,
          8.217603979591837,
          8.261857897959185,
          8.306111816326531,
          8.350365734693877,
          8.394619653061225,
          8.438873571428573,
          8.483127489795919,
          8.527381408163265,
          8.571635326530613,
          8.61588924489796,
          8.660143163265307,
          8.704397081632653,
          8.748651
         ],
         "y": [
          5.240603000000001,
          5.268663941526305,
          5.29711656491078,
          5.325960870153428,
          5.355196857254249,
          5.384824526213244,
          5.4148438770304095,
          5.445254909705748,
          5.476057624239261,
          5.507252020630945,
          5.538838098880803,
          5.5708158589888335,
          5.603185300955037,
          5.635946424779412,
          5.66909923046196,
          5.702643718002682,
          5.736579887401576,
          5.770907738658643,
          5.805627271773882,
          5.840738486747296,
          5.87624138357888,
          5.912135962268639,
          5.9484222228165695,
          5.985100165222673,
          6.022169789486949,
          6.059631095609398,
          6.097484083590019,
          6.135728753428814,
          6.174365105125782,
          6.213393138680922,
          6.252812854094234,
          6.292624251365719,
          6.332827330495379,
          6.373422091483209,
          6.414408534329212,
          6.455786659033389,
          6.497556465595737,
          6.539717954016261,
          6.582271124294957,
          6.625215976431823,
          6.6685525104268635,
          6.712280726280076,
          6.756400623991464,
          6.800912203561022,
          6.845815464988752,
          6.891110408274656,
          6.936797033418735,
          6.982875340420984,
          7.029345329281405,
          7.076207000000001
         ]
        },
        {
         "legendgroup": "group_1",
         "line": {
          "color": "#EF553B"
         },
         "mode": "lines",
         "showlegend": false,
         "type": "scatter",
         "x": [
          4.624158,
          4.664469673469388,
          4.704781346938776,
          4.745093020408164,
          4.785404693877552,
          4.825716367346939,
          4.866028040816327,
          4.906339714285715,
          4.946651387755102,
          4.98696306122449,
          5.0272747346938775,
          5.067586408163265,
          5.107898081632653,
          5.148209755102041,
          5.188521428571429,
          5.2288331020408165,
          5.269144775510204,
          5.309456448979592,
          5.34976812244898,
          5.390079795918368,
          5.4303914693877555,
          5.470703142857143,
          5.511014816326531,
          5.551326489795919,
          5.591638163265307,
          5.6319498367346945,
          5.672261510204082,
          5.712573183673469,
          5.752884857142857,
          5.793196530612245,
          5.833508204081633,
          5.87381987755102,
          5.914131551020408,
          5.954443224489796,
          5.994754897959184,
          6.035066571428572,
          6.075378244897959,
          6.115689918367347,
          6.156001591836734,
          6.196313265306122,
          6.23662493877551,
          6.2769366122448975,
          6.317248285714285,
          6.357559959183673,
          6.397871632653061,
          6.438183306122449,
          6.4784949795918365,
          6.518806653061224,
          6.559118326530612,
          6.59943
         ],
         "y": [
          5.371758000000001,
          5.355775177644681,
          5.340117361492942,
          5.3247845515447825,
          5.309776747800203,
          5.295093950259206,
          5.280736158921788,
          5.266703373787951,
          5.252995594857695,
          5.239612822131019,
          5.226555055607924,
          5.213822295288409,
          5.201414541172475,
          5.18933179326012,
          5.177574051551348,
          5.166141316046154,
          5.155033586744542,
          5.14425086364651,
          5.133793146752058,
          5.123660436061188,
          5.113852731573898,
          5.104370033290188,
          5.095212341210059,
          5.086379655333509,
          5.077871975660542,
          5.069689302191153,
          5.061831634925348,
          5.05429897386312,
          5.047091319004474,
          5.040208670349408,
          5.033651027897923,
          5.027418391650018,
          5.021510761605693,
          5.01592813776495,
          5.010670520127787,
          5.005737908694205,
          5.001130303464203,
          4.996847704437781,
          4.9928901116149405,
          4.989257524995679,
          4.985949944579998,
          4.9829673703678985,
          4.980309802359379,
          4.977977240554442,
          4.975969684953083,
          4.974287135555305,
          4.972929592361108,
          4.971897055370491,
          4.9711895245834565,
          4.970807000000001
         ]
        },
        {
         "legendgroup": "group_1",
         "line": {
          "color": "#EF553B"
         },
         "mode": "lines",
         "showlegend": false,
         "type": "scatter",
         "x": [
          6.580209,
          6.618549612244898,
          6.656890224489796,
          6.6952308367346935,
          6.733571448979592,
          6.77191206122449,
          6.810252673469388,
          6.848593285714286,
          6.886933897959183,
          6.925274510204082,
          6.96361512244898,
          7.001955734693878,
          7.040296346938776,
          7.078636959183673,
          7.1169775714285715,
          7.15531818367347,
          7.193658795918368,
          7.231999408163265,
          7.270340020408163,
          7.308680632653061,
          7.3470212448979595,
          7.385361857142858,
          7.423702469387756,
          7.462043081632653,
          7.500383693877551,
          7.538724306122449,
          7.5770649183673475,
          7.615405530612245,
          7.653746142857143,
          7.692086755102041,
          7.730427367346939,
          7.768767979591837,
          7.807108591836736,
          7.845449204081633,
          7.883789816326531,
          7.922130428571429,
          7.960471040816327,
          7.9988116530612245,
          8.037152265306123,
          8.07549287755102,
          8.113833489795919,
          8.152174102040817,
          8.190514714285715,
          8.228855326530613,
          8.267195938775512,
          8.305536551020408,
          8.343877163265306,
          8.382217775510204,
          8.420558387755102,
          8.458899
         ],
         "y": [
          5.240602999999999,
          5.257928416344323,
          5.275547833198109,
          5.293461250561358,
          5.311668668434069,
          5.330170086816243,
          5.34896550570788,
          5.3680549251089795,
          5.387438345019541,
          5.407115765439567,
          5.427087186369055,
          5.447352607808005,
          5.467912029756418,
          5.4887654522142935,
          5.509912875181633,
          5.531354298658434,
          5.553089722644698,
          5.575119147140425,
          5.597442572145614,
          5.620059997660267,
          5.642971423684381,
          5.666176850217959,
          5.6896762772609994,
          5.713469704813503,
          5.737557132875469,
          5.761938561446898,
          5.786613990527788,
          5.811583420118142,
          5.836846850217959,
          5.8624042808272385,
          5.88825571194598,
          5.914401143574186,
          5.940840575711854,
          5.967574008358983,
          5.994601441515576,
          6.021922875181632,
          6.0495383093571515,
          6.077447744042132,
          6.105651179236577,
          6.134148614940482,
          6.162940051153852,
          6.192025487876685,
          6.22140492510898,
          6.251078362850737,
          6.281045801101958,
          6.31130723986264,
          6.3418626791327855,
          6.372712118912394,
          6.403855559201465,
          6.435292999999999
         ]
        },
        {
         "legendgroup": "group_1",
         "line": {
          "color": "#EF553B"
         },
         "mode": "lines",
         "showlegend": false,
         "type": "scatter",
         "x": [
          6.469964,
          6.4968134285714285,
          6.523662857142857,
          6.5505122857142855,
          6.577361714285714,
          6.604211142857143,
          6.631060571428572,
          6.65791,
          6.684759428571429,
          6.711608857142857,
          6.738458285714286,
          6.765307714285714,
          6.792157142857143,
          6.819006571428572,
          6.845856,
          6.872705428571429,
          6.899554857142857,
          6.926404285714286,
          6.953253714285714,
          6.980103142857143,
          7.006952571428571,
          7.033802,
          7.060651428571429,
          7.0875008571428575,
          7.114350285714286,
          7.141199714285714,
          7.168049142857143,
          7.194898571428571,
          7.221748,
          7.248597428571429,
          7.275446857142858,
          7.302296285714286,
          7.329145714285715,
          7.355995142857143,
          7.3828445714285715,
          7.409694,
          7.4365434285714285,
          7.463392857142857,
          7.490242285714286,
          7.517091714285715,
          7.543941142857143,
          7.570790571428572,
          7.59764,
          7.624489428571429,
          7.651338857142857,
          7.6781882857142865,
          7.705037714285714,
          7.731887142857143,
          7.758736571428572,
          7.785586
         ],
         "y": [
          5.5737049999999995,
          5.592662678473534,
          5.611764535309993,
          5.631010570509371,
          5.650400784071673,
          5.669935175996898,
          5.689613746285045,
          5.709436494936114,
          5.7294034219501055,
          5.749514527327019,
          5.7697698110668565,
          5.790169273169616,
          5.810712913635297,
          5.8314007324639014,
          5.852232729655428,
          5.873208905209878,
          5.8943292591272485,
          5.9155937914075425,
          5.937002502050758,
          5.958555391056898,
          5.980252458425959,
          6.002093704157942,
          6.024079128252849,
          6.046208730710678,
          6.068482511531428,
          6.090900470715102,
          6.113462608261697,
          6.136168924171216,
          6.159019418443657,
          6.1820140910790204,
          6.205152942077306,
          6.228435971438514,
          6.251863179162644,
          6.2754345652496974,
          6.299150129699672,
          6.3230098725125705,
          6.347013793688392,
          6.371161893227134,
          6.3954541711288,
          6.419890627393388,
          6.444471262020897,
          6.46919607501133,
          6.494065066364684,
          6.519078236080962,
          6.5442355841601625,
          6.569537110602286,
          6.594982815407329,
          6.620572698575297,
          6.646306760106187,
          6.672185
         ]
        },
        {
         "legendgroup": "group_1",
         "line": {
          "color": "#EF553B"
         },
         "mode": "lines",
         "showlegend": false,
         "type": "scatter",
         "x": [
          6.580209,
          6.609377653061224,
          6.638546306122449,
          6.667714959183673,
          6.696883612244898,
          6.726052265306122,
          6.755220918367347,
          6.784389571428571,
          6.813558224489796,
          6.84272687755102,
          6.871895530612245,
          6.901064183673469,
          6.930232836734694,
          6.959401489795918,
          6.988570142857143,
          7.017738795918367,
          7.046907448979592,
          7.076076102040816,
          7.10524475510204,
          7.134413408163265,
          7.163582061224489,
          7.192750714285714,
          7.221919367346938,
          7.251088020408163,
          7.280256673469387,
          7.309425326530612,
          7.3385939795918365,
          7.367762632653061,
          7.3969312857142855,
          7.4260999387755104,
          7.4552685918367345,
          7.4844372448979595,
          7.5136058979591835,
          7.542774551020408,
          7.571943204081633,
          7.6011118571428575,
          7.630280510204082,
          7.659449163265306,
          7.688617816326531,
          7.717786469387755,
          7.74695512244898,
          7.776123775510204,
          7.805292428571429,
          7.834461081632653,
          7.863629734693877,
          7.892798387755102,
          7.921967040816327,
          7.951135693877551,
          7.980304346938775,
          8.009473
         ],
         "y": [
          5.240603,
          5.261957192089904,
          5.28348154624409,
          5.3051760624625555,
          5.3270407407453035,
          5.349075581092331,
          5.371280583503642,
          5.393655747979233,
          5.416201074519106,
          5.43891656312326,
          5.461802213791693,
          5.484858026524409,
          5.508084001321407,
          5.531480138182686,
          5.555046437108246,
          5.578782898098086,
          5.602689521152208,
          5.626766306270612,
          5.651013253453296,
          5.675430362700262,
          5.700017634011509,
          5.7247750673870375,
          5.749702662826846,
          5.774800420330937,
          5.800068339899308,
          5.825506421531963,
          5.851114665228897,
          5.876893070990112,
          5.902841638815609,
          5.928960368705387,
          5.955249260659446,
          5.981708314677786,
          6.008337530760407,
          6.03513690890731,
          6.062106449118494,
          6.08924615139396,
          6.116556015733706,
          6.144036042137733,
          6.171686230606043,
          6.199506581138632,
          6.227497093735504,
          6.255657768396656,
          6.28398860512209,
          6.312489603911805,
          6.341160764765801,
          6.370002087684078,
          6.399013572666638,
          6.428195219713477,
          6.457547028824598,
          6.487069
         ]
        },
        {
         "legendgroup": "group_1",
         "line": {
          "color": "#EF553B"
         },
         "mode": "lines",
         "showlegend": false,
         "type": "scatter",
         "x": [
          6.255685,
          6.259765836734694,
          6.263846673469388,
          6.267927510204081,
          6.272008346938775,
          6.276089183673469,
          6.280170020408163,
          6.284250857142857,
          6.28833169387755,
          6.2924125306122445,
          6.2964933673469385,
          6.300574204081633,
          6.304655040816327,
          6.30873587755102,
          6.312816714285714,
          6.316897551020408,
          6.320978387755102,
          6.325059224489796,
          6.329140061224489,
          6.333220897959183,
          6.337301734693877,
          6.341382571428571,
          6.3454634081632655,
          6.349544244897959,
          6.353625081632653,
          6.357705918367347,
          6.361786755102041,
          6.365867591836734,
          6.369948428571428,
          6.374029265306122,
          6.378110102040816,
          6.38219093877551,
          6.386271775510203,
          6.3903526122448975,
          6.3944334489795915,
          6.398514285714286,
          6.40259512244898,
          6.406675959183673,
          6.410756795918367,
          6.414837632653061,
          6.418918469387755,
          6.422999306122449,
          6.427080142857142,
          6.431160979591836,
          6.43524181632653,
          6.439322653061224,
          6.4434034897959185,
          6.447484326530612,
          6.451565163265306,
          6.455646
         ],
         "y": [
          6.248068,
          6.2509634726666805,
          6.253862275979052,
          6.256764409937114,
          6.259669874540867,
          6.262578669790312,
          6.265490795685447,
          6.268406252226274,
          6.27132503941279,
          6.274247157245,
          6.2771726057229,
          6.28010138484649,
          6.283033494615772,
          6.285968935030745,
          6.288907706091408,
          6.291849807797764,
          6.294795240149809,
          6.297744003147546,
          6.300696096790973,
          6.303651521080093,
          6.306610276014903,
          6.309572361595404,
          6.312537777821596,
          6.315506524693479,
          6.318478602211053,
          6.321454010374319,
          6.324432749183275,
          6.327414818637922,
          6.330400218738261,
          6.33338894948429,
          6.336381010876011,
          6.339376402913423,
          6.342375125596526,
          6.345377178925318,
          6.348382562899804,
          6.35139127751998,
          6.354403322785846,
          6.357418698697403,
          6.360437405254652,
          6.363459442457593,
          6.366484810306224,
          6.369513508800546,
          6.3725455379405584,
          6.3755808977262625,
          6.378619588157658,
          6.381661609234745,
          6.384706960957522,
          6.38775564332599,
          6.390807656340149,
          6.393863
         ]
        },
        {
         "legendgroup": "group_1",
         "line": {
          "color": "#EF553B"
         },
         "mode": "lines",
         "showlegend": false,
         "type": "scatter",
         "x": [
          4.995216,
          5.02795506122449,
          5.06069412244898,
          5.093433183673469,
          5.126172244897959,
          5.158911306122449,
          5.191650367346939,
          5.2243894285714285,
          5.257128489795918,
          5.289867551020408,
          5.322606612244898,
          5.355345673469388,
          5.388084734693877,
          5.420823795918367,
          5.453562857142857,
          5.486301918367347,
          5.5190409795918365,
          5.551780040816326,
          5.584519102040816,
          5.617258163265307,
          5.6499972244897965,
          5.682736285714286,
          5.715475346938776,
          5.748214408163266,
          5.780953469387756,
          5.813692530612245,
          5.846431591836735,
          5.879170653061225,
          5.911909714285715,
          5.944648775510204,
          5.977387836734694,
          6.010126897959184,
          6.042865959183674,
          6.0756050204081635,
          6.108344081632653,
          6.141083142857143,
          6.173822204081633,
          6.206561265306123,
          6.239300326530612,
          6.272039387755102,
          6.304778448979592,
          6.337517510204082,
          6.3702565714285715,
          6.402995632653061,
          6.435734693877551,
          6.468473755102041,
          6.501212816326531,
          6.53395187755102,
          6.56669093877551,
          6.59943
         ],
         "y": [
          5.392813,
          5.37905577122973,
          5.36551291168543,
          5.352184421367104,
          5.3390703002747495,
          5.326170548408367,
          5.313485165767957,
          5.3010141523535195,
          5.2887575081650535,
          5.276715233202559,
          5.264887327466038,
          5.253273790955489,
          5.2418746236709115,
          5.230689825612306,
          5.219719396779674,
          5.208963337173014,
          5.198421646792325,
          5.188094325637609,
          5.177981373708866,
          5.168082791006093,
          5.158398577529294,
          5.148928733278465,
          5.139673258253611,
          5.130632152454727,
          5.121805415881815,
          5.113193048534876,
          5.104795050413911,
          5.096611421518917,
          5.088642161849894,
          5.080887271406844,
          5.073346750189767,
          5.06602059819866,
          5.058908815433526,
          5.052011401894365,
          5.045328357581177,
          5.038859682493959,
          5.032605376632715,
          5.026565439997442,
          5.020739872588142,
          5.015128674404812,
          5.009731845447456,
          5.004549385716073,
          4.999581295210661,
          4.994827573931221,
          4.990288221877754,
          4.9859632390502595,
          4.981852625448737,
          4.977956381073185,
          4.974274505923606,
          4.970807000000001
         ]
        },
        {
         "legendgroup": "group_1",
         "line": {
          "color": "#EF553B"
         },
         "mode": "lines",
         "showlegend": false,
         "type": "scatter",
         "x": [
          6.353344955211787,
          6.365862323472771,
          6.3783796917337545,
          6.390897059994739,
          6.403414428255723,
          6.415931796516706,
          6.428449164777691,
          6.440966533038674,
          6.453483901299658,
          6.466001269560643,
          6.478518637821626,
          6.49103600608261,
          6.5035533743435945,
          6.516070742604578,
          6.528588110865562,
          6.541105479126546,
          6.55362284738753,
          6.566140215648514,
          6.578657583909497,
          6.591174952170482,
          6.603692320431466,
          6.616209688692449,
          6.628727056953434,
          6.641244425214418,
          6.653761793475401,
          6.6662791617363855,
          6.678796529997369,
          6.691313898258353,
          6.703831266519337,
          6.716348634780321,
          6.728866003041305,
          6.741383371302289,
          6.753900739563273,
          6.766418107824257,
          6.778935476085241,
          6.7914528443462245,
          6.803970212607209,
          6.816487580868192,
          6.829004949129176,
          6.841522317390161,
          6.854039685651144,
          6.866557053912128,
          6.879074422173113,
          6.891591790434096,
          6.90410915869508,
          6.916626526956064,
          6.929143895217048,
          6.941661263478032,
          6.9541786317390155,
          6.966696
         ],
         "y": [
          6.938040362095127,
          6.937200269066162,
          6.936391512938833,
          6.935614093713139,
          6.9348680113890815,
          6.9341532659666605,
          6.933469857445876,
          6.932817785826727,
          6.932197051109214,
          6.93160765329334,
          6.931049592379101,
          6.930522868366496,
          6.930027481255529,
          6.929563431046198,
          6.929130717738502,
          6.928729341332446,
          6.928359301828022,
          6.928020599225237,
          6.927713233524086,
          6.927437204724572,
          6.927192512826694,
          6.926979157830453,
          6.926797139735847,
          6.92664645854288,
          6.926527114251545,
          6.92643910686185,
          6.92638243637379,
          6.926357102787365,
          6.926363106102577,
          6.926400446319426,
          6.92646912343791,
          6.926569137458032,
          6.926700488379788,
          6.926863176203182,
          6.9270572009282105,
          6.927282562554876,
          6.927539261083178,
          6.927827296513117,
          6.92814666884469,
          6.9284973780779024,
          6.928879424212747,
          6.929292807249232,
          6.929737527187351,
          6.930213584027106,
          6.930720977768497,
          6.931259708411525,
          6.931829775956189,
          6.9324311804024905,
          6.933063921750426,
          6.9337279999999994
         ]
        },
        {
         "legendgroup": "group_1",
         "line": {
          "color": "#EF553B"
         },
         "mode": "lines",
         "showlegend": false,
         "type": "scatter",
         "x": [
          5.605154,
          5.618617612244898,
          5.632081224489796,
          5.645544836734694,
          5.659008448979591,
          5.672472061224489,
          5.6859356734693876,
          5.699399285714286,
          5.712862897959184,
          5.726326510204082,
          5.739790122448979,
          5.753253734693877,
          5.766717346938775,
          5.7801809591836735,
          5.793644571428572,
          5.80710818367347,
          5.820571795918367,
          5.834035408163265,
          5.847499020408163,
          5.860962632653061,
          5.874426244897959,
          5.8878898571428575,
          5.901353469387755,
          5.914817081632653,
          5.928280693877551,
          5.941744306122449,
          5.955207918367347,
          5.968671530612245,
          5.9821351428571425,
          5.995598755102041,
          6.009062367346939,
          6.022525979591837,
          6.035989591836735,
          6.049453204081633,
          6.06291681632653,
          6.0763804285714285,
          6.089844040816327,
          6.103307653061225,
          6.116771265306123,
          6.130234877551021,
          6.143698489795918,
          6.157162102040816,
          6.170625714285714,
          6.1840893265306125,
          6.197552938775511,
          6.211016551020409,
          6.224480163265307,
          6.237943775510204,
          6.251407387755102,
          6.264871
         ],
         "y": [
          7.082500999999999,
          7.072983950313857,
          7.063503154398651,
          7.054058612254382,
          7.044650323881048,
          7.035278289278651,
          7.025942508447189,
          7.016642981386665,
          7.007379708097076,
          6.998152688578423,
          6.988961922830708,
          6.979807410853926,
          6.970689152648083,
          6.961607148213174,
          6.9525613975492035,
          6.943551900656168,
          6.934578657534068,
          6.925641668182907,
          6.9167409326026785,
          6.907876450793388,
          6.899048222755033,
          6.890256248487615,
          6.881500527991134,
          6.872781061265588,
          6.864097848310978,
          6.8554508891273045,
          6.846840183714567,
          6.838265732072767,
          6.8297275342019015,
          6.821225590101973,
          6.8127598997729795,
          6.804330463214924,
          6.795937280427802,
          6.78758035141162,
          6.779259676166372,
          6.770975254692061,
          6.762727086988686,
          6.754515173056246,
          6.7463395128947425,
          6.738200106504177,
          6.730096953884546,
          6.722030055035852,
          6.713999409958093,
          6.706005018651272,
          6.698046881115385,
          6.690124997350436,
          6.682239367356423,
          6.674389991133346,
          6.666576868681204,
          6.658799999999999
         ]
        },
        {
         "legendgroup": "group_1",
         "line": {
          "color": "#EF553B"
         },
         "mode": "lines",
         "showlegend": false,
         "type": "scatter",
         "x": [
          5.875989,
          5.8871898571428565,
          5.898390714285714,
          5.909591571428571,
          5.920792428571429,
          5.931993285714285,
          5.943194142857142,
          5.954395,
          5.965595857142857,
          5.976796714285714,
          5.987997571428571,
          5.999198428571428,
          6.010399285714286,
          6.021600142857142,
          6.032801,
          6.044001857142857,
          6.0552027142857145,
          6.066403571428571,
          6.077604428571428,
          6.088805285714286,
          6.100006142857143,
          6.111207,
          6.122407857142857,
          6.133608714285714,
          6.1448095714285715,
          6.156010428571428,
          6.167211285714286,
          6.178412142857143,
          6.189613,
          6.200813857142857,
          6.212014714285714,
          6.223215571428572,
          6.2344164285714285,
          6.245617285714285,
          6.256818142857143,
          6.268019,
          6.2792198571428575,
          6.290420714285714,
          6.301621571428571,
          6.312822428571429,
          6.3240232857142855,
          6.335224142857143,
          6.346425,
          6.357625857142858,
          6.3688267142857145,
          6.380027571428571,
          6.391228428571429,
          6.402429285714286,
          6.413630142857143,
          6.424831
         ],
         "y": [
          7.641248000000001,
          7.629475918285452,
          7.617728928411051,
          7.6060070303768,
          7.594310224182692,
          7.582638509828733,
          7.570991887314921,
          7.5593703566412564,
          7.5477739178077385,
          7.536202570814366,
          7.524656315661144,
          7.513135152348065,
          7.501639080875133,
          7.49016810124235,
          7.478722213449712,
          7.467301417497223,
          7.45590571338488,
          7.444535101112685,
          7.4331895806806365,
          7.421869152088734,
          7.41057381533698,
          7.399303570425371,
          7.388058417353909,
          7.376838356122596,
          7.365643386731428,
          7.3544735091804085,
          7.343328723469533,
          7.332209029598808,
          7.321114427568229,
          7.310044917377795,
          7.29900049902751,
          7.2879811725173695,
          7.2769869378473775,
          7.266017795017534,
          7.255073744027836,
          7.244154784878285,
          7.233260917568881,
          7.222392142099624,
          7.211548458470514,
          7.2007298666815505,
          7.189936366732734,
          7.179167958624063,
          7.168424642355543,
          7.157706417927166,
          7.147013285338938,
          7.136345244590856,
          7.12570229568292,
          7.115084438615133,
          7.104491673387493,
          7.093923999999998
         ]
        },
        {
         "legendgroup": "group_1",
         "line": {
          "color": "#EF553B"
         },
         "mode": "lines",
         "showlegend": false,
         "type": "scatter",
         "x": [
          6.3058831181606605,
          6.3202286259533,
          6.33457413374594,
          6.348919641538579,
          6.363265149331219,
          6.377610657123858,
          6.391956164916498,
          6.406301672709137,
          6.420647180501777,
          6.434992688294416,
          6.449338196087056,
          6.4636837038796955,
          6.478029211672336,
          6.4923747194649755,
          6.506720227257615,
          6.5210657350502546,
          6.535411242842894,
          6.549756750635534,
          6.564102258428173,
          6.578447766220813,
          6.592793274013452,
          6.607138781806092,
          6.621484289598731,
          6.635829797391371,
          6.6501753051840105,
          6.66452081297665,
          6.6788663207692895,
          6.693211828561929,
          6.707557336354569,
          6.721902844147208,
          6.736248351939848,
          6.750593859732487,
          6.764939367525127,
          6.779284875317766,
          6.793630383110406,
          6.8079758909030454,
          6.822321398695685,
          6.836666906488325,
          6.851012414280964,
          6.8653579220736045,
          6.879703429866244,
          6.894048937658884,
          6.908394445451523,
          6.922739953244163,
          6.937085461036802,
          6.951430968829442,
          6.965776476622081,
          6.980121984414721,
          6.99446749220736,
          7.008813
         ],
         "y": [
          6.803087838773316,
          6.803857298119402,
          6.804667916184253,
          6.805519692967869,
          6.806412628470252,
          6.8073467226914,
          6.808321975631314,
          6.809338387289993,
          6.810395957667439,
          6.81149468676365,
          6.8126345745786265,
          6.81381562111237,
          6.815037826364878,
          6.816301190336152,
          6.817605713026191,
          6.818951394434998,
          6.820338234562569,
          6.821766233408906,
          6.823235390974009,
          6.824745707257876,
          6.826297182260512,
          6.827889815981911,
          6.829523608422076,
          6.831198559581008,
          6.832914669458706,
          6.834671938055169,
          6.836470365370397,
          6.838309951404391,
          6.84019069615715,
          6.8421125996286785,
          6.8440756618189695,
          6.846079882728026,
          6.848125262355849,
          6.8502118007024375,
          6.852339497767793,
          6.854508353551913,
          6.856718368054799,
          6.858969541276451,
          6.8612618732168675,
          6.863595363876051,
          6.8659700132540005,
          6.8683858213507145,
          6.870842788166195,
          6.873340913700442,
          6.875880197953454,
          6.878460640925232,
          6.881082242615774,
          6.883745003025083,
          6.88644892215316,
          6.889194
         ]
        },
        {
         "legendgroup": "group_1",
         "line": {
          "color": "#EF553B"
         },
         "mode": "lines",
         "showlegend": false,
         "type": "scatter",
         "x": [
          6.762738142687051,
          6.7750366703873155,
          6.78733519808758,
          6.799633725787844,
          6.811932253488108,
          6.824230781188373,
          6.836529308888637,
          6.848827836588901,
          6.861126364289166,
          6.87342489198943,
          6.885723419689694,
          6.898021947389958,
          6.910320475090222,
          6.922619002790486,
          6.93491753049075,
          6.947216058191015,
          6.959514585891279,
          6.971813113591543,
          6.984111641291808,
          6.996410168992072,
          7.008708696692336,
          7.0210072243926005,
          7.033305752092865,
          7.045604279793129,
          7.057902807493393,
          7.070201335193658,
          7.082499862893922,
          7.094798390594186,
          7.107096918294451,
          7.119395445994715,
          7.131693973694979,
          7.143992501395243,
          7.156291029095508,
          7.168589556795772,
          7.180888084496036,
          7.193186612196301,
          7.205485139896565,
          7.217783667596828,
          7.230082195297093,
          7.242380722997357,
          7.254679250697621,
          7.2669777783978855,
          7.27927630609815,
          7.291574833798414,
          7.303873361498678,
          7.316171889198943,
          7.328470416899207,
          7.340768944599471,
          7.353067472299736,
          7.365366
         ],
         "y": [
          7.718673791346434,
          7.71709679785158,
          7.7155500551134475,
          7.714033563132031,
          7.712547321907335,
          7.711091331439357,
          7.7096655917281,
          7.708270102773561,
          7.706904864575739,
          7.7055698771346375,
          7.704265140450253,
          7.70299065452259,
          7.701746419351643,
          7.700532434937418,
          7.699348701279909,
          7.69819521837912,
          7.697071986235049,
          7.695979004847699,
          7.694916274217068,
          7.693883794343153,
          7.692881565225958,
          7.691909586865481,
          7.690967859261725,
          7.690056382414685,
          7.689175156324366,
          7.688324180990767,
          7.687503456413884,
          7.686712982593722,
          7.685952759530276,
          7.685222787223552,
          7.684523065673544,
          7.683853594880257,
          7.68321437484369,
          7.682605405563838,
          7.6820266870407075,
          7.681478219274295,
          7.680960002264602,
          7.6804720360116265,
          7.6800143205153715,
          7.679586855775834,
          7.679189641793016,
          7.678822678566915,
          7.6784859660975355,
          7.678179504384874,
          7.6779032934289315,
          7.677657333229707,
          7.677441623787201,
          7.677256165101416,
          7.677100957172348,
          7.676976
         ]
        },
        {
         "legendgroup": "group_1",
         "line": {
          "color": "#EF553B"
         },
         "mode": "lines",
         "showlegend": false,
         "type": "scatter",
         "x": [
          6.405735908758155,
          6.406467196334519,
          6.407198483910883,
          6.407929771487248,
          6.408661059063611,
          6.409392346639976,
          6.41012363421634,
          6.410854921792704,
          6.4115862093690685,
          6.412317496945433,
          6.413048784521797,
          6.413780072098161,
          6.414511359674525,
          6.415242647250889,
          6.415973934827254,
          6.416705222403618,
          6.417436509979982,
          6.418167797556346,
          6.41889908513271,
          6.419630372709075,
          6.4203616602854385,
          6.421092947861803,
          6.421824235438167,
          6.422555523014531,
          6.423286810590896,
          6.424018098167259,
          6.424749385743624,
          6.4254806733199885,
          6.426211960896352,
          6.426943248472717,
          6.42767453604908,
          6.428405823625445,
          6.429137111201809,
          6.429868398778173,
          6.430599686354538,
          6.431330973930901,
          6.432062261507266,
          6.43279354908363,
          6.433524836659994,
          6.4342561242363585,
          6.434987411812722,
          6.435718699389087,
          6.436449986965451,
          6.437181274541815,
          6.437912562118179,
          6.438643849694544,
          6.439375137270908,
          6.440106424847272,
          6.440837712423636,
          6.441569
         ],
         "y": [
          7.052822810850388,
          7.052803125310311,
          7.0527835467265385,
          7.05276407509907,
          7.0527447104279055,
          7.052725452713045,
          7.052706301954489,
          7.052687258152234,
          7.052668321306285,
          7.05264949141664,
          7.0526307684833,
          7.05261215250626,
          7.052593643485527,
          7.052575241421097,
          7.052556946312972,
          7.052538758161149,
          7.0525206769656315,
          7.052502702726417,
          7.052484835443507,
          7.0524670751169,
          7.052449421746597,
          7.052431875332598,
          7.052414435874904,
          7.052397103373512,
          7.052379877828426,
          7.052362759239641,
          7.052345747607163,
          7.052328842930987,
          7.052312045211116,
          7.052295354447548,
          7.052278770640283,
          7.0522622937893225,
          7.052245923894667,
          7.052229660956315,
          7.052213504974266,
          7.05219745594852,
          7.052181513879081,
          7.0521656787659435,
          7.052149950609111,
          7.05213432940858,
          7.052118815164356,
          7.052103407876435,
          7.052088107544817,
          7.052072914169503,
          7.052057827750493,
          7.052042848287787,
          7.052027975781385,
          7.052013210231287,
          7.051998551637492,
          7.051984000000002
         ]
        },
        {
         "legendgroup": "group_1",
         "line": {
          "color": "#EF553B"
         },
         "mode": "lines",
         "showlegend": false,
         "type": "scatter",
         "x": [
          5.413654,
          5.435211346938775,
          5.456768693877551,
          5.478326040816326,
          5.499883387755102,
          5.521440734693877,
          5.542998081632653,
          5.5645554285714285,
          5.5861127755102045,
          5.6076701224489796,
          5.6292274693877555,
          5.650784816326531,
          5.672342163265307,
          5.693899510204082,
          5.715456857142858,
          5.737014204081633,
          5.758571551020408,
          5.780128897959184,
          5.801686244897959,
          5.823243591836735,
          5.84480093877551,
          5.866358285714286,
          5.887915632653061,
          5.909472979591837,
          5.931030326530612,
          5.952587673469388,
          5.974145020408163,
          5.995702367346939,
          6.017259714285714,
          6.03881706122449,
          6.060374408163265,
          6.08193175510204,
          6.103489102040816,
          6.125046448979592,
          6.1466037959183675,
          6.168161142857143,
          6.1897184897959185,
          6.211275836734694,
          6.23283318367347,
          6.254390530612245,
          6.275947877551021,
          6.297505224489796,
          6.319062571428572,
          6.340619918367347,
          6.362177265306123,
          6.383734612244898,
          6.405291959183673,
          6.426849306122449,
          6.448406653061225,
          6.469964
         ],
         "y": [
          5.6758880000000005,
          5.671571980459277,
          5.66734890475996,
          5.6632187729020504,
          5.659181584885548,
          5.655237340710455,
          5.651386040376769,
          5.647627683884491,
          5.643962271233621,
          5.640389802424158,
          5.636910277456103,
          5.633523696329455,
          5.630230059044216,
          5.627029365600384,
          5.62392161599796,
          5.620906810236944,
          5.617984948317336,
          5.6151560302391355,
          5.6124200560023425,
          5.609777025606957,
          5.60722693905298,
          5.60476979634041,
          5.602405597469248,
          5.6001343424394925,
          5.597956031251146,
          5.595870663904208,
          5.593878240398677,
          5.591978760734554,
          5.590172224911838,
          5.58845863293053,
          5.58683798479063,
          5.585310280492138,
          5.583875520035054,
          5.582533703419376,
          5.5812848306451075,
          5.580128901712247,
          5.5790659166207925,
          5.578095875370747,
          5.577218777962109,
          5.57643462439488,
          5.575743414669056,
          5.5751451487846415,
          5.574639826741635,
          5.574227448540034,
          5.5739080141798425,
          5.57368152366106,
          5.573547976983683,
          5.573507374147715,
          5.573559715153155,
          5.573705000000002
         ]
        },
        {
         "legendgroup": "group_1",
         "line": {
          "color": "#EF553B"
         },
         "mode": "lines",
         "showlegend": false,
         "type": "scatter",
         "x": [
          5.399382,
          5.423872775510204,
          5.4483635510204085,
          5.472854326530612,
          5.497345102040817,
          5.521835877551021,
          5.546326653061224,
          5.570817428571429,
          5.595308204081633,
          5.619798979591836,
          5.644289755102041,
          5.668780530612245,
          5.693271306122449,
          5.717762081632653,
          5.742252857142857,
          5.7667436326530614,
          5.791234408163265,
          5.81572518367347,
          5.8402159591836735,
          5.864706734693877,
          5.889197510204082,
          5.913688285714286,
          5.93817906122449,
          5.962669836734694,
          5.987160612244898,
          6.011651387755102,
          6.036142163265306,
          6.060632938775511,
          6.085123714285714,
          6.109614489795918,
          6.134105265306123,
          6.1585960408163265,
          6.18308681632653,
          6.207577591836735,
          6.232068367346939,
          6.256559142857142,
          6.281049918367347,
          6.305540693877551,
          6.330031469387755,
          6.354522244897959,
          6.379013020408163,
          6.403503795918367,
          6.427994571428571,
          6.452485346938776,
          6.4769761224489795,
          6.501466897959183,
          6.525957673469388,
          6.5504484489795916,
          6.574939224489796,
          6.59943
         ],
         "y": [
          5.241703000000001,
          5.233295479395645,
          5.225007918408307,
          5.216840317037987,
          5.208792675284686,
          5.200864993148402,
          5.193057270629137,
          5.185369507726891,
          5.177801704441662,
          5.170353860773451,
          5.16302597672226,
          5.155818052288087,
          5.148730087470929,
          5.141762082270795,
          5.134914036687674,
          5.128185950721573,
          5.121577824372492,
          5.115089657640427,
          5.10872145052538,
          5.102473203027351,
          5.096344915146343,
          5.090336586882351,
          5.084448218235378,
          5.078679809205424,
          5.073031359792488,
          5.067502869996567,
          5.062094339817669,
          5.056805769255786,
          5.051637158310923,
          5.046588506983078,
          5.041659815272251,
          5.0368510831784405,
          5.03216231070165,
          5.027593497841878,
          5.023144644599124,
          5.018815750973388,
          5.014606816964671,
          5.0105178425729715,
          5.006548827798291,
          5.002699772640628,
          4.998970677099982,
          4.995361541176355,
          4.991872364869748,
          4.988503148180157,
          4.985253891107585,
          4.982124593652033,
          4.979115255813497,
          4.97622587759198,
          4.9734564589874815,
          4.970807000000001
         ]
        },
        {
         "legendgroup": "group_1",
         "line": {
          "color": "#EF553B"
         },
         "mode": "lines",
         "showlegend": false,
         "type": "scatter",
         "x": [
          6.983968405463916,
          6.988698438005469,
          6.9934284705470215,
          6.998158503088574,
          7.0028885356301265,
          7.007618568171679,
          7.012348600713232,
          7.017078633254785,
          7.021808665796338,
          7.02653869833789,
          7.031268730879443,
          7.035998763420996,
          7.040728795962549,
          7.045458828504102,
          7.050188861045654,
          7.054918893587207,
          7.05964892612876,
          7.0643789586703125,
          7.069108991211865,
          7.073839023753418,
          7.07856905629497,
          7.083299088836523,
          7.088029121378076,
          7.092759153919629,
          7.097489186461182,
          7.102219219002734,
          7.106949251544287,
          7.11167928408584,
          7.116409316627393,
          7.121139349168946,
          7.125869381710498,
          7.130599414252051,
          7.1353294467936035,
          7.140059479335156,
          7.144789511876709,
          7.149519544418262,
          7.154249576959814,
          7.158979609501367,
          7.16370964204292,
          7.168439674584473,
          7.173169707126026,
          7.177899739667578,
          7.182629772209131,
          7.187359804750684,
          7.192089837292237,
          7.1968198698337895,
          7.201549902375342,
          7.2062799349168944,
          7.211009967458447,
          7.21574
         ],
         "y": [
          8.741652856396206,
          8.742365529153732,
          8.74308267655283,
          8.743804298593496,
          8.74453039527573,
          8.745260966599531,
          8.745996012564902,
          8.746735533171844,
          8.747479528420353,
          8.74822799831043,
          8.748980942842078,
          8.749738362015295,
          8.75050025583008,
          8.751266624286433,
          8.752037467384355,
          8.752812785123846,
          8.753592577504907,
          8.754376844527535,
          8.755165586191731,
          8.7559588024975,
          8.756756493444836,
          8.757558659033739,
          8.758365299264211,
          8.759176414136252,
          8.759992003649863,
          8.760812067805043,
          8.76163660660179,
          8.762465620040109,
          8.763299108119995,
          8.76413707084145,
          8.764979508204473,
          8.765826420209066,
          8.766677806855228,
          8.767533668142956,
          8.768394004072256,
          8.769258814643123,
          8.770128099855562,
          8.771001859709568,
          8.771880094205141,
          8.772762803342282,
          8.773649987120994,
          8.774541645541277,
          8.775437778603127,
          8.776338386306543,
          8.77724346865153,
          8.778153025638087,
          8.779067057266213,
          8.779985563535906,
          8.780908544447168,
          8.781836
         ]
        },
        {
         "legendgroup": "group_1",
         "line": {
          "color": "#EF553B"
         },
         "mode": "lines",
         "showlegend": false,
         "type": "scatter",
         "x": [
          6.537678,
          6.544504020408163,
          6.551330040816326,
          6.55815606122449,
          6.564982081632653,
          6.571808102040816,
          6.578634122448979,
          6.585460142857142,
          6.592286163265306,
          6.599112183673469,
          6.605938204081633,
          6.612764224489796,
          6.619590244897959,
          6.626416265306122,
          6.633242285714285,
          6.640068306122449,
          6.646894326530612,
          6.653720346938775,
          6.660546367346939,
          6.667372387755102,
          6.6741984081632655,
          6.681024428571428,
          6.687850448979591,
          6.694676469387755,
          6.701502489795918,
          6.7083285102040815,
          6.715154530612245,
          6.721980551020408,
          6.728806571428572,
          6.735632591836734,
          6.7424586122448975,
          6.749284632653061,
          6.756110653061224,
          6.762936673469388,
          6.769762693877551,
          6.776588714285714,
          6.783414734693878,
          6.79024075510204,
          6.797066775510204,
          6.803892795918367,
          6.81071881632653,
          6.817544836734694,
          6.824370857142857,
          6.831196877551021,
          6.838022897959184,
          6.844848918367347,
          6.85167493877551,
          6.858500959183673,
          6.865326979591837,
          6.872153
         ],
         "y": [
          8.380589,
          8.376348876750107,
          8.372118072411133,
          8.367896586983083,
          8.363684420465953,
          8.359481572859748,
          8.355288044164464,
          8.351103834380103,
          8.346928943506665,
          8.342763371544148,
          8.338607118492556,
          8.334460184351887,
          8.330322569122139,
          8.326194272803313,
          8.322075295395411,
          8.317965636898428,
          8.313865297312372,
          8.309774276637235,
          8.305692574873023,
          8.301620192019731,
          8.297557128077365,
          8.29350338304592,
          8.289458956925397,
          8.285423849715798,
          8.28139806141712,
          8.277381592029364,
          8.273374441552532,
          8.269376609986622,
          8.265388097331634,
          8.261408903587569,
          8.257439028754426,
          8.253478472832207,
          8.24952723582091,
          8.245585317720534,
          8.241652718531082,
          8.237729438252552,
          8.233815476884946,
          8.22991083442826,
          8.226015510882497,
          8.222129506247658,
          8.218252820523743,
          8.214385453710747,
          8.210527405808676,
          8.206678676817525,
          8.2028392667373,
          8.199009175567994,
          8.195188403309611,
          8.191376949962152,
          8.187574815525615,
          8.183782
         ]
        },
        {
         "legendgroup": "group_1",
         "line": {
          "color": "#EF553B"
         },
         "mode": "lines",
         "showlegend": false,
         "type": "scatter",
         "x": [
          6.286802,
          6.293796367346938,
          6.300790734693877,
          6.307785102040816,
          6.314779469387755,
          6.321773836734693,
          6.328768204081633,
          6.335762571428571,
          6.34275693877551,
          6.349751306122449,
          6.356745673469388,
          6.363740040816326,
          6.3707344081632655,
          6.377728775510204,
          6.384723142857143,
          6.3917175102040815,
          6.398711877551021,
          6.405706244897959,
          6.4127006122448975,
          6.419694979591837,
          6.426689346938775,
          6.433683714285714,
          6.440678081632653,
          6.447672448979592,
          6.45466681632653,
          6.46166118367347,
          6.468655551020408,
          6.475649918367347,
          6.482644285714286,
          6.489638653061225,
          6.496633020408163,
          6.5036273877551025,
          6.510621755102041,
          6.517616122448979,
          6.5246104897959185,
          6.531604857142857,
          6.538599224489796,
          6.5455935918367345,
          6.552587959183674,
          6.559582326530612,
          6.566576693877551,
          6.57357106122449,
          6.580565428571429,
          6.587559795918367,
          6.594554163265307,
          6.601548530612245,
          6.608542897959184,
          6.615537265306123,
          6.622531632653062,
          6.629526
         ],
         "y": [
          8.043899,
          8.032436300810978,
          8.02098338585687,
          8.00954025513768,
          7.998106908653405,
          7.98668334640405,
          7.9752695683896135,
          7.9638655746100895,
          7.952471365065483,
          7.941086939755795,
          7.92971229868102,
          7.918347441841169,
          7.906992369236228,
          7.895647080866208,
          7.8843115767311005,
          7.872985856830912,
          7.8616699211656424,
          7.850363769735289,
          7.83906740253985,
          7.827780819579328,
          7.816504020853724,
          7.8052370063630345,
          7.793979776107264,
          7.782732330086411,
          7.771494668300475,
          7.760266790749453,
          7.749048697433349,
          7.737840388352165,
          7.726641863505895,
          7.715453122894541,
          7.704274166518104,
          7.693104994376583,
          7.681945606469981,
          7.670796002798294,
          7.659656183361527,
          7.648526148159675,
          7.637405897192735,
          7.6262954304607184,
          7.615194747963617,
          7.604103849701431,
          7.593022735674161,
          7.58195140588181,
          7.570889860324375,
          7.559838099001855,
          7.548796121914256,
          7.5377639290615726,
          7.526741520443803,
          7.515728896060953,
          7.5047260559130144,
          7.493732999999999
         ]
        },
        {
         "legendgroup": "group_1",
         "line": {
          "color": "#EF553B"
         },
         "mode": "lines",
         "showlegend": false,
         "type": "scatter",
         "x": [
          6.613331922318475,
          6.624298372883405,
          6.635264823448334,
          6.646231274013263,
          6.657197724578192,
          6.66816417514312,
          6.67913062570805,
          6.690097076272979,
          6.701063526837908,
          6.712029977402837,
          6.722996427967766,
          6.7339628785326955,
          6.744929329097625,
          6.755895779662553,
          6.766862230227482,
          6.777828680792411,
          6.7887951313573405,
          6.79976158192227,
          6.810728032487199,
          6.821694483052128,
          6.832660933617057,
          6.8436273841819855,
          6.854593834746915,
          6.865560285311844,
          6.876526735876773,
          6.887493186441702,
          6.898459637006631,
          6.9094260875715605,
          6.92039253813649,
          6.931358988701418,
          6.942325439266347,
          6.953291889831276,
          6.9642583403962055,
          6.975224790961135,
          6.986191241526064,
          6.997157692090993,
          7.008124142655922,
          7.0190905932208505,
          7.03005704378578,
          7.041023494350709,
          7.051989944915638,
          7.062956395480567,
          7.073922846045496,
          7.0848892966104255,
          7.095855747175355,
          7.106822197740283,
          7.117788648305212,
          7.128755098870141,
          7.1397215494350705,
          7.150688
         ],
         "y": [
          7.46333088057461,
          7.461888069409087,
          7.460469310851166,
          7.459074604900841,
          7.457703951558114,
          7.456357350822986,
          7.455034802695457,
          7.453736307175526,
          7.452461864263197,
          7.4512114739584625,
          7.449985136261328,
          7.448782851171791,
          7.447604618689856,
          7.446450438815518,
          7.445320311548778,
          7.444214236889636,
          7.4431322148380925,
          7.44207424539415,
          7.441040328557803,
          7.440030464329056,
          7.439044652707907,
          7.438082893694358,
          7.437145187288408,
          7.436231533490055,
          7.435341932299301,
          7.434476383716145,
          7.43363488774059,
          7.432817444372631,
          7.432024053612271,
          7.431254715459511,
          7.430509429914348,
          7.429788196976786,
          7.4290910166468205,
          7.428417888924454,
          7.427768813809685,
          7.427143791302518,
          7.426542821402946,
          7.425965904110974,
          7.4254130394266005,
          7.424884227349825,
          7.424379467880648,
          7.423898761019073,
          7.423442106765092,
          7.423009505118712,
          7.42260095607993,
          7.422216459648747,
          7.421856015825164,
          7.421519624609177,
          7.42120728600079,
          7.4209190000000005
         ]
        },
        {
         "legendgroup": "group_1",
         "line": {
          "color": "#EF553B"
         },
         "mode": "lines",
         "showlegend": false,
         "type": "scatter",
         "x": [
          5.410469,
          5.434733510204081,
          5.458998020408163,
          5.483262530612245,
          5.507527040816327,
          5.531791551020408,
          5.556056061224489,
          5.5803205714285715,
          5.604585081632653,
          5.628849591836735,
          5.653114102040816,
          5.6773786122448975,
          5.70164312244898,
          5.725907632653061,
          5.750172142857143,
          5.774436653061224,
          5.7987011632653065,
          5.822965673469388,
          5.847230183673469,
          5.871494693877551,
          5.8957592040816325,
          5.920023714285714,
          5.944288224489796,
          5.968552734693877,
          5.992817244897959,
          6.017081755102041,
          6.041346265306123,
          6.065610775510204,
          6.089875285714285,
          6.114139795918367,
          6.138404306122449,
          6.162668816326531,
          6.186933326530612,
          6.211197836734693,
          6.2354623469387755,
          6.259726857142857,
          6.283991367346939,
          6.30825587755102,
          6.3325203877551015,
          6.356784897959184,
          6.381049408163265,
          6.405313918367347,
          6.429578428571428,
          6.4538429387755105,
          6.478107448979592,
          6.502371959183673,
          6.526636469387755,
          6.5509009795918365,
          6.575165489795918,
          6.59943
         ],
         "y": [
          5.243087999999999,
          5.234705165911827,
          5.226440085114744,
          5.21829275760875,
          5.210263183393845,
          5.2023513624700275,
          5.1945572948373,
          5.18688098049566,
          5.179322419445111,
          5.17188161168565,
          5.164558557217276,
          5.157353256039993,
          5.150265708153796,
          5.14329591355869,
          5.136443872254674,
          5.129709584241743,
          5.123093049519904,
          5.116594268089154,
          5.11021323994949,
          5.103949965100917,
          5.097804443543431,
          5.091776675277036,
          5.085866660301729,
          5.08007439861751,
          5.074399890224381,
          5.068843135122341,
          5.063404133311389,
          5.058082884791524,
          5.052879389562751,
          5.047793647625063,
          5.042825658978469,
          5.03797542362296,
          5.033242941558541,
          5.02862821278521,
          5.024131237302969,
          5.019752015111815,
          5.015490546211751,
          5.0113468306027755,
          5.007320868284889,
          5.0034126592580925,
          4.9996222035223825,
          4.995949501077763,
          4.9923945519242325,
          4.988957356061788,
          4.985637913490436,
          4.982436224210171,
          4.979352288220994,
          4.9763861055229075,
          4.9735376761159085,
          4.970806999999999
         ]
        }
       ],
       "layout": {
        "autosize": true,
        "template": {
         "data": {
          "bar": [
           {
            "error_x": {
             "color": "#2a3f5f"
            },
            "error_y": {
             "color": "#2a3f5f"
            },
            "marker": {
             "line": {
              "color": "#E5ECF6",
              "width": 0.5
             },
             "pattern": {
              "fillmode": "overlay",
              "size": 10,
              "solidity": 0.2
             }
            },
            "type": "bar"
           }
          ],
          "barpolar": [
           {
            "marker": {
             "line": {
              "color": "#E5ECF6",
              "width": 0.5
             },
             "pattern": {
              "fillmode": "overlay",
              "size": 10,
              "solidity": 0.2
             }
            },
            "type": "barpolar"
           }
          ],
          "carpet": [
           {
            "aaxis": {
             "endlinecolor": "#2a3f5f",
             "gridcolor": "white",
             "linecolor": "white",
             "minorgridcolor": "white",
             "startlinecolor": "#2a3f5f"
            },
            "baxis": {
             "endlinecolor": "#2a3f5f",
             "gridcolor": "white",
             "linecolor": "white",
             "minorgridcolor": "white",
             "startlinecolor": "#2a3f5f"
            },
            "type": "carpet"
           }
          ],
          "choropleth": [
           {
            "colorbar": {
             "outlinewidth": 0,
             "ticks": ""
            },
            "type": "choropleth"
           }
          ],
          "contour": [
           {
            "colorbar": {
             "outlinewidth": 0,
             "ticks": ""
            },
            "colorscale": [
             [
              0,
              "#0d0887"
             ],
             [
              0.1111111111111111,
              "#46039f"
             ],
             [
              0.2222222222222222,
              "#7201a8"
             ],
             [
              0.3333333333333333,
              "#9c179e"
             ],
             [
              0.4444444444444444,
              "#bd3786"
             ],
             [
              0.5555555555555556,
              "#d8576b"
             ],
             [
              0.6666666666666666,
              "#ed7953"
             ],
             [
              0.7777777777777778,
              "#fb9f3a"
             ],
             [
              0.8888888888888888,
              "#fdca26"
             ],
             [
              1,
              "#f0f921"
             ]
            ],
            "type": "contour"
           }
          ],
          "contourcarpet": [
           {
            "colorbar": {
             "outlinewidth": 0,
             "ticks": ""
            },
            "type": "contourcarpet"
           }
          ],
          "heatmap": [
           {
            "colorbar": {
             "outlinewidth": 0,
             "ticks": ""
            },
            "colorscale": [
             [
              0,
              "#0d0887"
             ],
             [
              0.1111111111111111,
              "#46039f"
             ],
             [
              0.2222222222222222,
              "#7201a8"
             ],
             [
              0.3333333333333333,
              "#9c179e"
             ],
             [
              0.4444444444444444,
              "#bd3786"
             ],
             [
              0.5555555555555556,
              "#d8576b"
             ],
             [
              0.6666666666666666,
              "#ed7953"
             ],
             [
              0.7777777777777778,
              "#fb9f3a"
             ],
             [
              0.8888888888888888,
              "#fdca26"
             ],
             [
              1,
              "#f0f921"
             ]
            ],
            "type": "heatmap"
           }
          ],
          "heatmapgl": [
           {
            "colorbar": {
             "outlinewidth": 0,
             "ticks": ""
            },
            "colorscale": [
             [
              0,
              "#0d0887"
             ],
             [
              0.1111111111111111,
              "#46039f"
             ],
             [
              0.2222222222222222,
              "#7201a8"
             ],
             [
              0.3333333333333333,
              "#9c179e"
             ],
             [
              0.4444444444444444,
              "#bd3786"
             ],
             [
              0.5555555555555556,
              "#d8576b"
             ],
             [
              0.6666666666666666,
              "#ed7953"
             ],
             [
              0.7777777777777778,
              "#fb9f3a"
             ],
             [
              0.8888888888888888,
              "#fdca26"
             ],
             [
              1,
              "#f0f921"
             ]
            ],
            "type": "heatmapgl"
           }
          ],
          "histogram": [
           {
            "marker": {
             "pattern": {
              "fillmode": "overlay",
              "size": 10,
              "solidity": 0.2
             }
            },
            "type": "histogram"
           }
          ],
          "histogram2d": [
           {
            "colorbar": {
             "outlinewidth": 0,
             "ticks": ""
            },
            "colorscale": [
             [
              0,
              "#0d0887"
             ],
             [
              0.1111111111111111,
              "#46039f"
             ],
             [
              0.2222222222222222,
              "#7201a8"
             ],
             [
              0.3333333333333333,
              "#9c179e"
             ],
             [
              0.4444444444444444,
              "#bd3786"
             ],
             [
              0.5555555555555556,
              "#d8576b"
             ],
             [
              0.6666666666666666,
              "#ed7953"
             ],
             [
              0.7777777777777778,
              "#fb9f3a"
             ],
             [
              0.8888888888888888,
              "#fdca26"
             ],
             [
              1,
              "#f0f921"
             ]
            ],
            "type": "histogram2d"
           }
          ],
          "histogram2dcontour": [
           {
            "colorbar": {
             "outlinewidth": 0,
             "ticks": ""
            },
            "colorscale": [
             [
              0,
              "#0d0887"
             ],
             [
              0.1111111111111111,
              "#46039f"
             ],
             [
              0.2222222222222222,
              "#7201a8"
             ],
             [
              0.3333333333333333,
              "#9c179e"
             ],
             [
              0.4444444444444444,
              "#bd3786"
             ],
             [
              0.5555555555555556,
              "#d8576b"
             ],
             [
              0.6666666666666666,
              "#ed7953"
             ],
             [
              0.7777777777777778,
              "#fb9f3a"
             ],
             [
              0.8888888888888888,
              "#fdca26"
             ],
             [
              1,
              "#f0f921"
             ]
            ],
            "type": "histogram2dcontour"
           }
          ],
          "mesh3d": [
           {
            "colorbar": {
             "outlinewidth": 0,
             "ticks": ""
            },
            "type": "mesh3d"
           }
          ],
          "parcoords": [
           {
            "line": {
             "colorbar": {
              "outlinewidth": 0,
              "ticks": ""
             }
            },
            "type": "parcoords"
           }
          ],
          "pie": [
           {
            "automargin": true,
            "type": "pie"
           }
          ],
          "scatter": [
           {
            "fillpattern": {
             "fillmode": "overlay",
             "size": 10,
             "solidity": 0.2
            },
            "type": "scatter"
           }
          ],
          "scatter3d": [
           {
            "line": {
             "colorbar": {
              "outlinewidth": 0,
              "ticks": ""
             }
            },
            "marker": {
             "colorbar": {
              "outlinewidth": 0,
              "ticks": ""
             }
            },
            "type": "scatter3d"
           }
          ],
          "scattercarpet": [
           {
            "marker": {
             "colorbar": {
              "outlinewidth": 0,
              "ticks": ""
             }
            },
            "type": "scattercarpet"
           }
          ],
          "scattergeo": [
           {
            "marker": {
             "colorbar": {
              "outlinewidth": 0,
              "ticks": ""
             }
            },
            "type": "scattergeo"
           }
          ],
          "scattergl": [
           {
            "marker": {
             "colorbar": {
              "outlinewidth": 0,
              "ticks": ""
             }
            },
            "type": "scattergl"
           }
          ],
          "scattermapbox": [
           {
            "marker": {
             "colorbar": {
              "outlinewidth": 0,
              "ticks": ""
             }
            },
            "type": "scattermapbox"
           }
          ],
          "scatterpolar": [
           {
            "marker": {
             "colorbar": {
              "outlinewidth": 0,
              "ticks": ""
             }
            },
            "type": "scatterpolar"
           }
          ],
          "scatterpolargl": [
           {
            "marker": {
             "colorbar": {
              "outlinewidth": 0,
              "ticks": ""
             }
            },
            "type": "scatterpolargl"
           }
          ],
          "scatterternary": [
           {
            "marker": {
             "colorbar": {
              "outlinewidth": 0,
              "ticks": ""
             }
            },
            "type": "scatterternary"
           }
          ],
          "surface": [
           {
            "colorbar": {
             "outlinewidth": 0,
             "ticks": ""
            },
            "colorscale": [
             [
              0,
              "#0d0887"
             ],
             [
              0.1111111111111111,
              "#46039f"
             ],
             [
              0.2222222222222222,
              "#7201a8"
             ],
             [
              0.3333333333333333,
              "#9c179e"
             ],
             [
              0.4444444444444444,
              "#bd3786"
             ],
             [
              0.5555555555555556,
              "#d8576b"
             ],
             [
              0.6666666666666666,
              "#ed7953"
             ],
             [
              0.7777777777777778,
              "#fb9f3a"
             ],
             [
              0.8888888888888888,
              "#fdca26"
             ],
             [
              1,
              "#f0f921"
             ]
            ],
            "type": "surface"
           }
          ],
          "table": [
           {
            "cells": {
             "fill": {
              "color": "#EBF0F8"
             },
             "line": {
              "color": "white"
             }
            },
            "header": {
             "fill": {
              "color": "#C8D4E3"
             },
             "line": {
              "color": "white"
             }
            },
            "type": "table"
           }
          ]
         },
         "layout": {
          "annotationdefaults": {
           "arrowcolor": "#2a3f5f",
           "arrowhead": 0,
           "arrowwidth": 1
          },
          "autotypenumbers": "strict",
          "coloraxis": {
           "colorbar": {
            "outlinewidth": 0,
            "ticks": ""
           }
          },
          "colorscale": {
           "diverging": [
            [
             0,
             "#8e0152"
            ],
            [
             0.1,
             "#c51b7d"
            ],
            [
             0.2,
             "#de77ae"
            ],
            [
             0.3,
             "#f1b6da"
            ],
            [
             0.4,
             "#fde0ef"
            ],
            [
             0.5,
             "#f7f7f7"
            ],
            [
             0.6,
             "#e6f5d0"
            ],
            [
             0.7,
             "#b8e186"
            ],
            [
             0.8,
             "#7fbc41"
            ],
            [
             0.9,
             "#4d9221"
            ],
            [
             1,
             "#276419"
            ]
           ],
           "sequential": [
            [
             0,
             "#0d0887"
            ],
            [
             0.1111111111111111,
             "#46039f"
            ],
            [
             0.2222222222222222,
             "#7201a8"
            ],
            [
             0.3333333333333333,
             "#9c179e"
            ],
            [
             0.4444444444444444,
             "#bd3786"
            ],
            [
             0.5555555555555556,
             "#d8576b"
            ],
            [
             0.6666666666666666,
             "#ed7953"
            ],
            [
             0.7777777777777778,
             "#fb9f3a"
            ],
            [
             0.8888888888888888,
             "#fdca26"
            ],
            [
             1,
             "#f0f921"
            ]
           ],
           "sequentialminus": [
            [
             0,
             "#0d0887"
            ],
            [
             0.1111111111111111,
             "#46039f"
            ],
            [
             0.2222222222222222,
             "#7201a8"
            ],
            [
             0.3333333333333333,
             "#9c179e"
            ],
            [
             0.4444444444444444,
             "#bd3786"
            ],
            [
             0.5555555555555556,
             "#d8576b"
            ],
            [
             0.6666666666666666,
             "#ed7953"
            ],
            [
             0.7777777777777778,
             "#fb9f3a"
            ],
            [
             0.8888888888888888,
             "#fdca26"
            ],
            [
             1,
             "#f0f921"
            ]
           ]
          },
          "colorway": [
           "#636efa",
           "#EF553B",
           "#00cc96",
           "#ab63fa",
           "#FFA15A",
           "#19d3f3",
           "#FF6692",
           "#B6E880",
           "#FF97FF",
           "#FECB52"
          ],
          "font": {
           "color": "#2a3f5f"
          },
          "geo": {
           "bgcolor": "white",
           "lakecolor": "white",
           "landcolor": "#E5ECF6",
           "showlakes": true,
           "showland": true,
           "subunitcolor": "white"
          },
          "hoverlabel": {
           "align": "left"
          },
          "hovermode": "closest",
          "mapbox": {
           "style": "light"
          },
          "paper_bgcolor": "white",
          "plot_bgcolor": "#E5ECF6",
          "polar": {
           "angularaxis": {
            "gridcolor": "white",
            "linecolor": "white",
            "ticks": ""
           },
           "bgcolor": "#E5ECF6",
           "radialaxis": {
            "gridcolor": "white",
            "linecolor": "white",
            "ticks": ""
           }
          },
          "scene": {
           "xaxis": {
            "backgroundcolor": "#E5ECF6",
            "gridcolor": "white",
            "gridwidth": 2,
            "linecolor": "white",
            "showbackground": true,
            "ticks": "",
            "zerolinecolor": "white"
           },
           "yaxis": {
            "backgroundcolor": "#E5ECF6",
            "gridcolor": "white",
            "gridwidth": 2,
            "linecolor": "white",
            "showbackground": true,
            "ticks": "",
            "zerolinecolor": "white"
           },
           "zaxis": {
            "backgroundcolor": "#E5ECF6",
            "gridcolor": "white",
            "gridwidth": 2,
            "linecolor": "white",
            "showbackground": true,
            "ticks": "",
            "zerolinecolor": "white"
           }
          },
          "shapedefaults": {
           "line": {
            "color": "#2a3f5f"
           }
          },
          "ternary": {
           "aaxis": {
            "gridcolor": "white",
            "linecolor": "white",
            "ticks": ""
           },
           "baxis": {
            "gridcolor": "white",
            "linecolor": "white",
            "ticks": ""
           },
           "bgcolor": "#E5ECF6",
           "caxis": {
            "gridcolor": "white",
            "linecolor": "white",
            "ticks": ""
           }
          },
          "title": {
           "x": 0.05
          },
          "xaxis": {
           "automargin": true,
           "gridcolor": "white",
           "linecolor": "white",
           "ticks": "",
           "title": {
            "standoff": 15
           },
           "zerolinecolor": "white",
           "zerolinewidth": 2
          },
          "yaxis": {
           "automargin": true,
           "gridcolor": "white",
           "linecolor": "white",
           "ticks": "",
           "title": {
            "standoff": 15
           },
           "zerolinecolor": "white",
           "zerolinewidth": 2
          }
         }
        },
        "xaxis": {
         "autorange": true,
         "range": [
          4.2419200760549565,
          10.531224923945045
         ],
         "type": "linear"
        },
        "yaxis": {
         "autorange": true,
         "range": [
          4.553819388888888,
          12.893571611111112
         ],
         "type": "linear"
        }
       }
      },
      "image/png": "[encoded data removed]",
      "text/html": [
       "<div>                            <div id=\"95b5f85d-2970-41c2-8325-c217c61bb65d\" class=\"plotly-graph-div\" style=\"height:525px; width:100%;\"></div>            <script type=\"text/javascript\">                require([\"plotly\"], function(Plotly) {                    window.PLOTLYENV=window.PLOTLYENV || {};                                    if (document.getElementById(\"95b5f85d-2970-41c2-8325-c217c61bb65d\")) {                    Plotly.newPlot(                        \"95b5f85d-2970-41c2-8325-c217c61bb65d\",                        [{\"legendgroup\":\"observed_arbor\",\"line\":{\"color\":\"black\"},\"mode\":\"lines\",\"name\":\"Observed Arbor\",\"showlegend\":true,\"x\":[6.59943,6.580209],\"y\":[4.970807,5.240603],\"type\":\"scatter\"},{\"legendgroup\":\"observed_arbor\",\"line\":{\"color\":\"black\"},\"mode\":\"lines\",\"showlegend\":false,\"x\":[6.59943,6.75415],\"y\":[4.970807,5.061972],\"type\":\"scatter\"},{\"legendgroup\":\"observed_arbor\",\"line\":{\"color\":\"black\"},\"mode\":\"lines\",\"showlegend\":false,\"x\":[6.580209,6.545251],\"y\":[5.240603,5.359293],\"type\":\"scatter\"},{\"legendgroup\":\"observed_arbor\",\"line\":{\"color\":\"black\"},\"mode\":\"lines\",\"showlegend\":false,\"x\":[6.580209,6.585236],\"y\":[5.240603,5.225407],\"type\":\"scatter\"},{\"legendgroup\":\"observed_arbor\",\"line\":{\"color\":\"black\"},\"mode\":\"lines\",\"showlegend\":false,\"x\":[6.580209,6.574815],\"y\":[5.240603,5.171033],\"type\":\"scatter\"},{\"legendgroup\":\"observed_arbor\",\"line\":{\"color\":\"black\"},\"mode\":\"lines\",\"showlegend\":false,\"x\":[6.545251,6.469964],\"y\":[5.359293,5.573705],\"type\":\"scatter\"},{\"legendgroup\":\"observed_arbor\",\"line\":{\"color\":\"black\"},\"mode\":\"lines\",\"showlegend\":false,\"x\":[6.545251,6.570166],\"y\":[5.359293,5.336647],\"type\":\"scatter\"},{\"legendgroup\":\"observed_arbor\",\"line\":{\"color\":\"black\"},\"mode\":\"lines\",\"showlegend\":false,\"x\":[6.545251,6.609631],\"y\":[5.359293,5.44671],\"type\":\"scatter\"},{\"legendgroup\":\"observed_arbor\",\"line\":{\"color\":\"black\"},\"mode\":\"lines\",\"showlegend\":false,\"x\":[6.545251,6.521944],\"y\":[5.359293,5.341106],\"type\":\"scatter\"},{\"legendgroup\":\"observed_arbor\",\"line\":{\"color\":\"black\"},\"mode\":\"lines\",\"showlegend\":false,\"x\":[6.545251,6.468895],\"y\":[5.359293,5.421427],\"type\":\"scatter\"},{\"legendgroup\":\"observed_arbor\",\"line\":{\"color\":\"black\"},\"mode\":\"lines\",\"showlegend\":false,\"x\":[6.469964,6.412194],\"y\":[5.573705,5.721106],\"type\":\"scatter\"},{\"legendgroup\":\"observed_arbor\",\"line\":{\"color\":\"black\"},\"mode\":\"lines\",\"showlegend\":false,\"x\":[6.469964,6.471485],\"y\":[5.573705,5.505564],\"type\":\"scatter\"},{\"legendgroup\":\"observed_arbor\",\"line\":{\"color\":\"black\"},\"mode\":\"lines\",\"showlegend\":false,\"x\":[6.412194,6.374385],\"y\":[5.721106,5.829156],\"type\":\"scatter\"},{\"legendgroup\":\"observed_arbor\",\"line\":{\"color\":\"black\"},\"mode\":\"lines\",\"showlegend\":false,\"x\":[6.412194,6.43287],\"y\":[5.721106,5.674511],\"type\":\"scatter\"},{\"legendgroup\":\"observed_arbor\",\"line\":{\"color\":\"black\"},\"mode\":\"lines\",\"showlegend\":false,\"x\":[6.374385,6.341991],\"y\":[5.829156,5.934545],\"type\":\"scatter\"},{\"legendgroup\":\"observed_arbor\",\"line\":{\"color\":\"black\"},\"mode\":\"lines\",\"showlegend\":false,\"x\":[6.374385,6.395472],\"y\":[5.829156,5.850314],\"type\":\"scatter\"},{\"legendgroup\":\"observed_arbor\",\"line\":{\"color\":\"black\"},\"mode\":\"lines\",\"showlegend\":false,\"x\":[6.341991,6.298894],\"y\":[5.934545,6.05332],\"type\":\"scatter\"},{\"legendgroup\":\"observed_arbor\",\"line\":{\"color\":\"black\"},\"mode\":\"lines\",\"showlegend\":false,\"x\":[6.341991,6.355509],\"y\":[5.934545,5.945794],\"type\":\"scatter\"},{\"legendgroup\":\"observed_arbor\",\"line\":{\"color\":\"black\"},\"mode\":\"lines\",\"showlegend\":false,\"x\":[6.298894,6.274678],\"y\":[6.05332,6.152486],\"type\":\"scatter\"},{\"legendgroup\":\"observed_arbor\",\"line\":{\"color\":\"black\"},\"mode\":\"lines\",\"showlegend\":false,\"x\":[6.274678,6.255685],\"y\":[6.152486,6.248068],\"type\":\"scatter\"},{\"legendgroup\":\"observed_arbor\",\"line\":{\"color\":\"black\"},\"mode\":\"lines\",\"showlegend\":false,\"x\":[6.255685,6.247029],\"y\":[6.248068,6.335054],\"type\":\"scatter\"},{\"legendgroup\":\"observed_arbor\",\"line\":{\"color\":\"black\"},\"mode\":\"lines\",\"showlegend\":false,\"x\":[6.247029,6.247491],\"y\":[6.335054,6.436426],\"type\":\"scatter\"},{\"legendgroup\":\"observed_arbor\",\"line\":{\"color\":\"black\"},\"mode\":\"lines\",\"showlegend\":false,\"x\":[6.247491,6.252254],\"y\":[6.436426,6.555284],\"type\":\"scatter\"},{\"legendgroup\":\"observed_arbor\",\"line\":{\"color\":\"black\"},\"mode\":\"lines\",\"showlegend\":false,\"x\":[6.252254,6.264871],\"y\":[6.555284,6.6588],\"type\":\"scatter\"},{\"legendgroup\":\"observed_arbor\",\"line\":{\"color\":\"black\"},\"mode\":\"lines\",\"showlegend\":false,\"x\":[6.264871,6.294867],\"y\":[6.6588,6.76606],\"type\":\"scatter\"},{\"legendgroup\":\"observed_arbor\",\"line\":{\"color\":\"black\"},\"mode\":\"lines\",\"showlegend\":false,\"x\":[6.294867,6.331164],\"y\":[6.76606,6.888063],\"type\":\"scatter\"},{\"legendgroup\":\"observed_arbor\",\"line\":{\"color\":\"black\"},\"mode\":\"lines\",\"showlegend\":false,\"x\":[6.294867,6.323501],\"y\":[6.76606,6.726165],\"type\":\"scatter\"},{\"legendgroup\":\"observed_arbor\",\"line\":{\"color\":\"black\"},\"mode\":\"lines\",\"showlegend\":false,\"x\":[6.294867,6.316069],\"y\":[6.76606,6.73862],\"type\":\"scatter\"},{\"legendgroup\":\"observed_arbor\",\"line\":{\"color\":\"black\"},\"mode\":\"lines\",\"showlegend\":false,\"x\":[6.331164,6.373338],\"y\":[6.888063,6.983088],\"type\":\"scatter\"},{\"legendgroup\":\"observed_arbor\",\"line\":{\"color\":\"black\"},\"mode\":\"lines\",\"showlegend\":false,\"x\":[6.331164,6.395408],\"y\":[6.888063,6.843528],\"type\":\"scatter\"},{\"legendgroup\":\"observed_arbor\",\"line\":{\"color\":\"black\"},\"mode\":\"lines\",\"showlegend\":false,\"x\":[6.331164,6.293637],\"y\":[6.888063,6.835186],\"type\":\"scatter\"},{\"legendgroup\":\"observed_arbor\",\"line\":{\"color\":\"black\"},\"mode\":\"lines\",\"showlegend\":false,\"x\":[6.373338,6.424831],\"y\":[6.983088,7.093924],\"type\":\"scatter\"},{\"legendgroup\":\"observed_arbor\",\"line\":{\"color\":\"black\"},\"mode\":\"lines\",\"showlegend\":false,\"x\":[6.424831,6.46764],\"y\":[7.093924,7.186065],\"type\":\"scatter\"},{\"legendgroup\":\"observed_arbor\",\"line\":{\"color\":\"black\"},\"mode\":\"lines\",\"showlegend\":false,\"x\":[6.46764,6.515958],\"y\":[7.186065,7.285043],\"type\":\"scatter\"},{\"legendgroup\":\"observed_arbor\",\"line\":{\"color\":\"black\"},\"mode\":\"lines\",\"showlegend\":false,\"x\":[6.46764,6.557433],\"y\":[7.186065,7.183967],\"type\":\"scatter\"},{\"legendgroup\":\"observed_arbor\",\"line\":{\"color\":\"black\"},\"mode\":\"lines\",\"showlegend\":false,\"x\":[6.515958,6.573867],\"y\":[7.285043,7.389241],\"type\":\"scatter\"},{\"legendgroup\":\"observed_arbor\",\"line\":{\"color\":\"black\"},\"mode\":\"lines\",\"showlegend\":false,\"x\":[6.573867,6.629526],\"y\":[7.389241,7.493733],\"type\":\"scatter\"},{\"legendgroup\":\"observed_arbor\",\"line\":{\"color\":\"black\"},\"mode\":\"lines\",\"showlegend\":false,\"x\":[6.629526,6.715141],\"y\":[7.493733,7.627152],\"type\":\"scatter\"},{\"legendgroup\":\"observed_arbor\",\"line\":{\"color\":\"black\"},\"mode\":\"lines\",\"showlegend\":false,\"x\":[6.629526,6.592369],\"y\":[7.493733,7.507527],\"type\":\"scatter\"},{\"legendgroup\":\"observed_arbor\",\"line\":{\"color\":\"black\"},\"mode\":\"lines\",\"showlegend\":false,\"x\":[6.629526,6.73737],\"y\":[7.493733,7.506947],\"type\":\"scatter\"},{\"legendgroup\":\"observed_arbor\",\"line\":{\"color\":\"black\"},\"mode\":\"lines\",\"showlegend\":false,\"x\":[6.715141,6.769199],\"y\":[7.627152,7.731097],\"type\":\"scatter\"},{\"legendgroup\":\"observed_arbor\",\"line\":{\"color\":\"black\"},\"mode\":\"lines\",\"showlegend\":false,\"x\":[6.769199,6.792194],\"y\":[7.731097,7.832047],\"type\":\"scatter\"},{\"legendgroup\":\"observed_arbor\",\"line\":{\"color\":\"black\"},\"mode\":\"lines\",\"showlegend\":false,\"x\":[6.769199,6.831848],\"y\":[7.731097,7.745255],\"type\":\"scatter\"},{\"legendgroup\":\"observed_arbor\",\"line\":{\"color\":\"black\"},\"mode\":\"lines\",\"showlegend\":false,\"x\":[6.792194,6.836556],\"y\":[7.832047,8.017311],\"type\":\"scatter\"},{\"legendgroup\":\"observed_arbor\",\"line\":{\"color\":\"black\"},\"mode\":\"lines\",\"showlegend\":false,\"x\":[6.836556,6.872153],\"y\":[8.017311,8.183782],\"type\":\"scatter\"},{\"legendgroup\":\"observed_arbor\",\"line\":{\"color\":\"black\"},\"mode\":\"lines\",\"showlegend\":false,\"x\":[6.836556,6.787929],\"y\":[8.017311,7.984837],\"type\":\"scatter\"},{\"legendgroup\":\"observed_arbor\",\"line\":{\"color\":\"black\"},\"mode\":\"lines\",\"showlegend\":false,\"x\":[6.872153,6.891629],\"y\":[8.183782,8.27486],\"type\":\"scatter\"},{\"legendgroup\":\"observed_arbor\",\"line\":{\"color\":\"black\"},\"mode\":\"lines\",\"showlegend\":false,\"x\":[6.891629,6.901803],\"y\":[8.27486,8.329596],\"type\":\"scatter\"},{\"legendgroup\":\"observed_arbor\",\"line\":{\"color\":\"black\"},\"mode\":\"lines\",\"showlegend\":false,\"x\":[6.891629,6.829374],\"y\":[8.27486,8.252129],\"type\":\"scatter\"},{\"legendgroup\":\"observed_arbor\",\"line\":{\"color\":\"black\"},\"mode\":\"lines\",\"showlegend\":false,\"x\":[6.901803,6.933577],\"y\":[8.329596,8.467127],\"type\":\"scatter\"},{\"legendgroup\":\"observed_arbor\",\"line\":{\"color\":\"black\"},\"mode\":\"lines\",\"showlegend\":false,\"x\":[6.933577,6.94522],\"y\":[8.467127,8.583188],\"type\":\"scatter\"},{\"legendgroup\":\"observed_arbor\",\"line\":{\"color\":\"black\"},\"mode\":\"lines\",\"showlegend\":false,\"x\":[6.94522,6.97398],\"y\":[8.583188,8.700806],\"type\":\"scatter\"},{\"legendgroup\":\"observed_arbor\",\"line\":{\"color\":\"black\"},\"mode\":\"lines\",\"showlegend\":false,\"x\":[6.97398,7.002137],\"y\":[8.700806,8.815952],\"type\":\"scatter\"},{\"legendgroup\":\"observed_arbor\",\"line\":{\"color\":\"black\"},\"mode\":\"lines\",\"showlegend\":false,\"x\":[6.97398,6.97883],\"y\":[8.700806,8.728493],\"type\":\"scatter\"},{\"legendgroup\":\"observed_arbor\",\"line\":{\"color\":\"black\"},\"mode\":\"lines\",\"showlegend\":false,\"x\":[7.002137,7.044922],\"y\":[8.815952,8.937892],\"type\":\"scatter\"},{\"legendgroup\":\"observed_arbor\",\"line\":{\"color\":\"black\"},\"mode\":\"lines\",\"showlegend\":false,\"x\":[7.044922,7.091109],\"y\":[8.937892,9.056844],\"type\":\"scatter\"},{\"legendgroup\":\"observed_arbor\",\"line\":{\"color\":\"black\"},\"mode\":\"lines\",\"showlegend\":false,\"x\":[7.091109,7.109639],\"y\":[9.056844,9.162564],\"type\":\"scatter\"},{\"legendgroup\":\"observed_arbor\",\"line\":{\"color\":\"black\"},\"mode\":\"lines\",\"showlegend\":false,\"x\":[7.109639,7.173016],\"y\":[9.162564,9.340207],\"type\":\"scatter\"},{\"legendgroup\":\"observed_arbor\",\"line\":{\"color\":\"black\"},\"mode\":\"lines\",\"showlegend\":false,\"x\":[7.173016,7.192662],\"y\":[9.340207,9.404181],\"type\":\"scatter\"},{\"legendgroup\":\"observed_arbor\",\"line\":{\"color\":\"black\"},\"mode\":\"lines\",\"showlegend\":false,\"x\":[7.192662,7.202366],\"y\":[9.404181,9.466071],\"type\":\"scatter\"},{\"legendgroup\":\"observed_arbor\",\"line\":{\"color\":\"black\"},\"mode\":\"lines\",\"showlegend\":false,\"x\":[7.202366,7.257385],\"y\":[9.466071,9.65101],\"type\":\"scatter\"},{\"legendgroup\":\"observed_arbor\",\"line\":{\"color\":\"black\"},\"mode\":\"lines\",\"showlegend\":false,\"x\":[7.257385,7.26974],\"y\":[9.65101,9.695241],\"type\":\"scatter\"},{\"legendgroup\":\"observed_arbor\",\"line\":{\"color\":\"black\"},\"mode\":\"lines\",\"showlegend\":false,\"x\":[7.26974,7.277663],\"y\":[9.695241,9.737595],\"type\":\"scatter\"},{\"legendgroup\":\"observed_arbor\",\"line\":{\"color\":\"black\"},\"mode\":\"lines\",\"showlegend\":false,\"x\":[7.277663,7.288843],\"y\":[9.737595,9.785263],\"type\":\"scatter\"},{\"legendgroup\":\"observed_arbor\",\"line\":{\"color\":\"black\"},\"mode\":\"lines\",\"showlegend\":false,\"x\":[7.288843,7.29498],\"y\":[9.785263,9.827912],\"type\":\"scatter\"},{\"legendgroup\":\"observed_arbor\",\"line\":{\"color\":\"black\"},\"mode\":\"lines\",\"showlegend\":false,\"x\":[7.29498,7.304147],\"y\":[9.827912,9.876008],\"type\":\"scatter\"},{\"legendgroup\":\"observed_arbor\",\"line\":{\"color\":\"black\"},\"mode\":\"lines\",\"showlegend\":false,\"x\":[7.304147,7.311989],\"y\":[9.876008,9.921259],\"type\":\"scatter\"},{\"legendgroup\":\"observed_arbor\",\"line\":{\"color\":\"black\"},\"mode\":\"lines\",\"showlegend\":false,\"x\":[7.311989,7.319071],\"y\":[9.921259,9.966633],\"type\":\"scatter\"},{\"legendgroup\":\"observed_arbor\",\"line\":{\"color\":\"black\"},\"mode\":\"lines\",\"showlegend\":false,\"x\":[7.319071,7.328812],\"y\":[9.966633,10.014615],\"type\":\"scatter\"},{\"legendgroup\":\"observed_arbor\",\"line\":{\"color\":\"black\"},\"mode\":\"lines\",\"showlegend\":false,\"x\":[7.328812,7.333664],\"y\":[10.014615,10.05743],\"type\":\"scatter\"},{\"legendgroup\":\"observed_arbor\",\"line\":{\"color\":\"black\"},\"mode\":\"lines\",\"showlegend\":false,\"x\":[7.333664,7.344693],\"y\":[10.05743,10.108418],\"type\":\"scatter\"},{\"legendgroup\":\"observed_arbor\",\"line\":{\"color\":\"black\"},\"mode\":\"lines\",\"showlegend\":false,\"x\":[7.344693,7.352281],\"y\":[10.108418,10.147137],\"type\":\"scatter\"},{\"legendgroup\":\"observed_arbor\",\"line\":{\"color\":\"black\"},\"mode\":\"lines\",\"showlegend\":false,\"x\":[7.352281,7.356843],\"y\":[10.147137,10.189984],\"type\":\"scatter\"},{\"legendgroup\":\"observed_arbor\",\"line\":{\"color\":\"black\"},\"mode\":\"lines\",\"showlegend\":false,\"x\":[7.356843,7.360938],\"y\":[10.189984,10.235724],\"type\":\"scatter\"},{\"legendgroup\":\"observed_arbor\",\"line\":{\"color\":\"black\"},\"mode\":\"lines\",\"showlegend\":false,\"x\":[7.360938,7.367515],\"y\":[10.235724,10.284245],\"type\":\"scatter\"},{\"legendgroup\":\"observed_arbor\",\"line\":{\"color\":\"black\"},\"mode\":\"lines\",\"showlegend\":false,\"x\":[7.367515,7.368114],\"y\":[10.284245,10.316678],\"type\":\"scatter\"},{\"legendgroup\":\"observed_arbor\",\"line\":{\"color\":\"black\"},\"mode\":\"lines\",\"showlegend\":false,\"x\":[7.368114,7.368194],\"y\":[10.316678,10.362601],\"type\":\"scatter\"},{\"legendgroup\":\"observed_arbor\",\"line\":{\"color\":\"black\"},\"mode\":\"lines\",\"showlegend\":false,\"x\":[7.368194,7.370502],\"y\":[10.362601,10.411509],\"type\":\"scatter\"},{\"legendgroup\":\"observed_arbor\",\"line\":{\"color\":\"black\"},\"mode\":\"lines\",\"showlegend\":false,\"x\":[7.370502,7.37816],\"y\":[10.411509,10.463111],\"type\":\"scatter\"},{\"legendgroup\":\"observed_arbor\",\"line\":{\"color\":\"black\"},\"mode\":\"lines\",\"showlegend\":false,\"x\":[7.37816,7.38414],\"y\":[10.463111,10.508644],\"type\":\"scatter\"},{\"legendgroup\":\"observed_arbor\",\"line\":{\"color\":\"black\"},\"mode\":\"lines\",\"showlegend\":false,\"x\":[7.38414,7.396073],\"y\":[10.508644,10.55943],\"type\":\"scatter\"},{\"legendgroup\":\"observed_arbor\",\"line\":{\"color\":\"black\"},\"mode\":\"lines\",\"showlegend\":false,\"x\":[7.396073,7.387497],\"y\":[10.55943,10.600176],\"type\":\"scatter\"},{\"legendgroup\":\"observed_arbor\",\"line\":{\"color\":\"black\"},\"mode\":\"lines\",\"showlegend\":false,\"x\":[7.387497,7.458849],\"y\":[10.600176,10.87086],\"type\":\"scatter\"},{\"legendgroup\":\"observed_arbor\",\"line\":{\"color\":\"black\"},\"mode\":\"lines\",\"showlegend\":false,\"x\":[7.458849,7.473466],\"y\":[10.87086,10.917589],\"type\":\"scatter\"},{\"legendgroup\":\"observed_arbor\",\"line\":{\"color\":\"black\"},\"mode\":\"lines\",\"showlegend\":false,\"x\":[7.473466,7.478271],\"y\":[10.917589,10.955581],\"type\":\"scatter\"},{\"legendgroup\":\"observed_arbor\",\"line\":{\"color\":\"black\"},\"mode\":\"lines\",\"showlegend\":false,\"x\":[7.478271,7.48996],\"y\":[10.955581,11.00642],\"type\":\"scatter\"},{\"legendgroup\":\"observed_arbor\",\"line\":{\"color\":\"black\"},\"mode\":\"lines\",\"showlegend\":false,\"x\":[7.48996,7.499499],\"y\":[11.00642,11.051343],\"type\":\"scatter\"},{\"legendgroup\":\"observed_arbor\",\"line\":{\"color\":\"black\"},\"mode\":\"lines\",\"showlegend\":false,\"x\":[7.499499,7.511833],\"y\":[11.051343,11.098726],\"type\":\"scatter\"},{\"legendgroup\":\"observed_arbor\",\"line\":{\"color\":\"black\"},\"mode\":\"lines\",\"showlegend\":false,\"x\":[7.511833,7.519003],\"y\":[11.098726,11.141213],\"type\":\"scatter\"},{\"legendgroup\":\"observed_arbor\",\"line\":{\"color\":\"black\"},\"mode\":\"lines\",\"showlegend\":false,\"x\":[7.519003,7.529336],\"y\":[11.141213,11.189072],\"type\":\"scatter\"},{\"legendgroup\":\"observed_arbor\",\"line\":{\"color\":\"black\"},\"mode\":\"lines\",\"showlegend\":false,\"x\":[7.529336,7.531159],\"y\":[11.189072,11.229529],\"type\":\"scatter\"},{\"legendgroup\":\"observed_arbor\",\"line\":{\"color\":\"black\"},\"mode\":\"lines\",\"showlegend\":false,\"x\":[7.531159,7.544955],\"y\":[11.229529,11.286858],\"type\":\"scatter\"},{\"legendgroup\":\"observed_arbor\",\"line\":{\"color\":\"black\"},\"mode\":\"lines\",\"showlegend\":false,\"x\":[7.544955,7.55134],\"y\":[11.286858,11.329471],\"type\":\"scatter\"},{\"legendgroup\":\"observed_arbor\",\"line\":{\"color\":\"black\"},\"mode\":\"lines\",\"showlegend\":false,\"x\":[7.55134,7.564189],\"y\":[11.329471,11.380029],\"type\":\"scatter\"},{\"legendgroup\":\"observed_arbor\",\"line\":{\"color\":\"black\"},\"mode\":\"lines\",\"showlegend\":false,\"x\":[7.564189,7.578393],\"y\":[11.380029,11.426885],\"type\":\"scatter\"},{\"legendgroup\":\"observed_arbor\",\"line\":{\"color\":\"black\"},\"mode\":\"lines\",\"showlegend\":false,\"x\":[7.578393,7.583511],\"y\":[11.426885,11.467058],\"type\":\"scatter\"},{\"legendgroup\":\"observed_arbor\",\"line\":{\"color\":\"black\"},\"mode\":\"lines\",\"showlegend\":false,\"x\":[7.583511,7.589412],\"y\":[11.467058,11.513371],\"type\":\"scatter\"},{\"legendgroup\":\"observed_arbor\",\"line\":{\"color\":\"black\"},\"mode\":\"lines\",\"showlegend\":false,\"x\":[7.589412,7.610983],\"y\":[11.513371,11.591783],\"type\":\"scatter\"},{\"legendgroup\":\"observed_arbor\",\"line\":{\"color\":\"black\"},\"mode\":\"lines\",\"showlegend\":false,\"x\":[7.610983,7.626102],\"y\":[11.591783,11.638351],\"type\":\"scatter\"},{\"legendgroup\":\"observed_arbor\",\"line\":{\"color\":\"black\"},\"mode\":\"lines\",\"showlegend\":false,\"x\":[7.626102,7.629857],\"y\":[11.638351,11.662106],\"type\":\"scatter\"},{\"legendgroup\":\"observed_arbor\",\"line\":{\"color\":\"black\"},\"mode\":\"lines\",\"showlegend\":false,\"x\":[7.629857,7.643114],\"y\":[11.662106,11.712561],\"type\":\"scatter\"},{\"legendgroup\":\"observed_arbor\",\"line\":{\"color\":\"black\"},\"mode\":\"lines\",\"showlegend\":false,\"x\":[7.643114,7.654037],\"y\":[11.712561,11.757165],\"type\":\"scatter\"},{\"legendgroup\":\"observed_arbor\",\"line\":{\"color\":\"black\"},\"mode\":\"lines\",\"showlegend\":false,\"x\":[7.654037,7.664211],\"y\":[11.757165,11.801949],\"type\":\"scatter\"},{\"legendgroup\":\"observed_arbor\",\"line\":{\"color\":\"black\"},\"mode\":\"lines\",\"showlegend\":false,\"x\":[7.664211,7.673634],\"y\":[11.801949,11.846895],\"type\":\"scatter\"},{\"legendgroup\":\"observed_arbor\",\"line\":{\"color\":\"black\"},\"mode\":\"lines\",\"showlegend\":false,\"x\":[7.673634,7.682301],\"y\":[11.846895,11.891993],\"type\":\"scatter\"},{\"legendgroup\":\"observed_arbor\",\"line\":{\"color\":\"black\"},\"mode\":\"lines\",\"showlegend\":false,\"x\":[7.682301,7.693716],\"y\":[11.891993,11.939606],\"type\":\"scatter\"},{\"legendgroup\":\"observed_arbor\",\"line\":{\"color\":\"black\"},\"mode\":\"lines\",\"showlegend\":false,\"x\":[7.693716,7.703673],\"y\":[11.939606,11.984438],\"type\":\"scatter\"},{\"legendgroup\":\"observed_arbor\",\"line\":{\"color\":\"black\"},\"mode\":\"lines\",\"showlegend\":false,\"x\":[7.703673,7.709305],\"y\":[11.984438,12.027158],\"type\":\"scatter\"},{\"legendgroup\":\"observed_arbor\",\"line\":{\"color\":\"black\"},\"mode\":\"lines\",\"showlegend\":false,\"x\":[7.709305,7.717903],\"y\":[12.027158,12.07536],\"type\":\"scatter\"},{\"legendgroup\":\"observed_arbor\",\"line\":{\"color\":\"black\"},\"mode\":\"lines\",\"showlegend\":false,\"x\":[7.717903,7.725208],\"y\":[12.07536,12.1207],\"type\":\"scatter\"},{\"legendgroup\":\"observed_arbor\",\"line\":{\"color\":\"black\"},\"mode\":\"lines\",\"showlegend\":false,\"x\":[7.725208,7.731753],\"y\":[12.1207,12.166156],\"type\":\"scatter\"},{\"legendgroup\":\"observed_arbor\",\"line\":{\"color\":\"black\"},\"mode\":\"lines\",\"showlegend\":false,\"x\":[7.731753,7.744314],\"y\":[12.166156,12.216787],\"type\":\"scatter\"},{\"legendgroup\":\"observed_arbor\",\"line\":{\"color\":\"black\"},\"mode\":\"lines\",\"showlegend\":false,\"x\":[7.744314,7.754624],\"y\":[12.216787,12.261539],\"type\":\"scatter\"},{\"legendgroup\":\"observed_arbor\",\"line\":{\"color\":\"black\"},\"mode\":\"lines\",\"showlegend\":false,\"x\":[7.754624,7.764182],\"y\":[12.261539,12.306458],\"type\":\"scatter\"},{\"legendgroup\":\"observed_arbor\",\"line\":{\"color\":\"black\"},\"mode\":\"lines\",\"showlegend\":false,\"x\":[7.764182,7.776535],\"y\":[12.306458,12.353835],\"type\":\"scatter\"},{\"legendgroup\":\"observed_arbor\",\"line\":{\"color\":\"black\"},\"mode\":\"lines\",\"showlegend\":false,\"x\":[7.776535,7.787377],\"y\":[12.353835,12.398461],\"type\":\"scatter\"},{\"legendgroup\":\"observed_arbor\",\"line\":{\"color\":\"black\"},\"mode\":\"lines\",\"showlegend\":false,\"x\":[7.787377,7.794942],\"y\":[12.398461,12.432861],\"type\":\"scatter\"},{\"legendgroup\":\"observed_arbor\",\"line\":{\"color\":\"black\"},\"mode\":\"lines\",\"showlegend\":false,\"x\":[7.794942,7.793114],\"y\":[12.432861,12.476584],\"type\":\"scatter\"},{\"legendgroup\":\"observed_arbor\",\"line\":{\"color\":\"black\"},\"mode\":\"lines\",\"showlegend\":false,\"x\":[6.585236,6.719047],\"y\":[5.225407,5.312712],\"type\":\"scatter\"},{\"legendgroup\":\"observed_arbor\",\"line\":{\"color\":\"black\"},\"mode\":\"lines\",\"showlegend\":false,\"x\":[6.719047,6.737978],\"y\":[5.312712,5.338742],\"type\":\"scatter\"},{\"legendgroup\":\"observed_arbor\",\"line\":{\"color\":\"black\"},\"mode\":\"lines\",\"showlegend\":false,\"x\":[6.737978,6.758697],\"y\":[5.338742,5.372319],\"type\":\"scatter\"},{\"legendgroup\":\"observed_arbor\",\"line\":{\"color\":\"black\"},\"mode\":\"lines\",\"showlegend\":false,\"x\":[6.758697,6.785047],\"y\":[5.372319,5.409322],\"type\":\"scatter\"},{\"legendgroup\":\"observed_arbor\",\"line\":{\"color\":\"black\"},\"mode\":\"lines\",\"showlegend\":false,\"x\":[6.785047,6.805429],\"y\":[5.409322,5.443105],\"type\":\"scatter\"},{\"legendgroup\":\"observed_arbor\",\"line\":{\"color\":\"black\"},\"mode\":\"lines\",\"showlegend\":false,\"x\":[6.805429,6.835516],\"y\":[5.443105,5.481386],\"type\":\"scatter\"},{\"legendgroup\":\"observed_arbor\",\"line\":{\"color\":\"black\"},\"mode\":\"lines\",\"showlegend\":false,\"x\":[6.835516,6.859575],\"y\":[5.481386,5.514419],\"type\":\"scatter\"},{\"legendgroup\":\"observed_arbor\",\"line\":{\"color\":\"black\"},\"mode\":\"lines\",\"showlegend\":false,\"x\":[6.859575,6.912486],\"y\":[5.514419,5.559099],\"type\":\"scatter\"},{\"legendgroup\":\"observed_arbor\",\"line\":{\"color\":\"black\"},\"mode\":\"lines\",\"showlegend\":false,\"x\":[6.912486,6.954532],\"y\":[5.559099,5.615945],\"type\":\"scatter\"},{\"legendgroup\":\"observed_arbor\",\"line\":{\"color\":\"black\"},\"mode\":\"lines\",\"showlegend\":false,\"x\":[6.954532,6.978461],\"y\":[5.615945,5.655849],\"type\":\"scatter\"},{\"legendgroup\":\"observed_arbor\",\"line\":{\"color\":\"black\"},\"mode\":\"lines\",\"showlegend\":false,\"x\":[6.978461,6.998772],\"y\":[5.655849,5.68099],\"type\":\"scatter\"},{\"legendgroup\":\"observed_arbor\",\"line\":{\"color\":\"black\"},\"mode\":\"lines\",\"showlegend\":false,\"x\":[6.998772,7.01684],\"y\":[5.68099,5.700971],\"type\":\"scatter\"},{\"legendgroup\":\"observed_arbor\",\"line\":{\"color\":\"black\"},\"mode\":\"lines\",\"showlegend\":false,\"x\":[7.01684,7.041271],\"y\":[5.700971,5.704776],\"type\":\"scatter\"},{\"legendgroup\":\"observed_arbor\",\"line\":{\"color\":\"black\"},\"mode\":\"lines\",\"showlegend\":false,\"x\":[7.041271,7.060223],\"y\":[5.704776,5.721838],\"type\":\"scatter\"},{\"legendgroup\":\"observed_arbor\",\"line\":{\"color\":\"black\"},\"mode\":\"lines\",\"showlegend\":false,\"x\":[7.060223,7.087428],\"y\":[5.721838,5.744279],\"type\":\"scatter\"},{\"legendgroup\":\"observed_arbor\",\"line\":{\"color\":\"black\"},\"mode\":\"lines\",\"showlegend\":false,\"x\":[7.087428,7.104955],\"y\":[5.744279,5.76064],\"type\":\"scatter\"},{\"legendgroup\":\"observed_arbor\",\"line\":{\"color\":\"black\"},\"mode\":\"lines\",\"showlegend\":false,\"x\":[7.104955,7.123289],\"y\":[5.76064,5.783859],\"type\":\"scatter\"},{\"legendgroup\":\"observed_arbor\",\"line\":{\"color\":\"black\"},\"mode\":\"lines\",\"showlegend\":false,\"x\":[7.123289,7.149311],\"y\":[5.783859,5.809523],\"type\":\"scatter\"},{\"legendgroup\":\"observed_arbor\",\"line\":{\"color\":\"black\"},\"mode\":\"lines\",\"showlegend\":false,\"x\":[7.149311,7.321192],\"y\":[5.809523,6.004523],\"type\":\"scatter\"},{\"legendgroup\":\"observed_arbor\",\"line\":{\"color\":\"black\"},\"mode\":\"lines\",\"showlegend\":false,\"x\":[7.321192,7.373056],\"y\":[6.004523,6.049433],\"type\":\"scatter\"},{\"legendgroup\":\"observed_arbor\",\"line\":{\"color\":\"black\"},\"mode\":\"lines\",\"showlegend\":false,\"x\":[7.373056,7.397057],\"y\":[6.049433,6.070218],\"type\":\"scatter\"},{\"legendgroup\":\"observed_arbor\",\"line\":{\"color\":\"black\"},\"mode\":\"lines\",\"showlegend\":false,\"x\":[7.397057,7.500263],\"y\":[6.070218,6.097297],\"type\":\"scatter\"},{\"legendgroup\":\"observed_arbor\",\"line\":{\"color\":\"black\"},\"mode\":\"lines\",\"showlegend\":false,\"x\":[7.500263,7.550313],\"y\":[6.097297,6.144691],\"type\":\"scatter\"},{\"legendgroup\":\"observed_arbor\",\"line\":{\"color\":\"black\"},\"mode\":\"lines\",\"showlegend\":false,\"x\":[7.550313,7.601776],\"y\":[6.144691,6.185158],\"type\":\"scatter\"},{\"legendgroup\":\"observed_arbor\",\"line\":{\"color\":\"black\"},\"mode\":\"lines\",\"showlegend\":false,\"x\":[7.601776,7.652526],\"y\":[6.185158,6.221242],\"type\":\"scatter\"},{\"legendgroup\":\"observed_arbor\",\"line\":{\"color\":\"black\"},\"mode\":\"lines\",\"showlegend\":false,\"x\":[7.652526,7.704961],\"y\":[6.221242,6.254833],\"type\":\"scatter\"},{\"legendgroup\":\"observed_arbor\",\"line\":{\"color\":\"black\"},\"mode\":\"lines\",\"showlegend\":false,\"x\":[7.704961,7.750686],\"y\":[6.254833,6.287663],\"type\":\"scatter\"},{\"legendgroup\":\"observed_arbor\",\"line\":{\"color\":\"black\"},\"mode\":\"lines\",\"showlegend\":false,\"x\":[7.750686,7.798785],\"y\":[6.287663,6.322184],\"type\":\"scatter\"},{\"legendgroup\":\"observed_arbor\",\"line\":{\"color\":\"black\"},\"mode\":\"lines\",\"showlegend\":false,\"x\":[7.798785,7.842533],\"y\":[6.322184,6.34988],\"type\":\"scatter\"},{\"legendgroup\":\"observed_arbor\",\"line\":{\"color\":\"black\"},\"mode\":\"lines\",\"showlegend\":false,\"x\":[7.842533,7.947735],\"y\":[6.34988,6.497203],\"type\":\"scatter\"},{\"legendgroup\":\"observed_arbor\",\"line\":{\"color\":\"black\"},\"mode\":\"lines\",\"showlegend\":false,\"x\":[7.947735,7.991165],\"y\":[6.497203,6.55287],\"type\":\"scatter\"},{\"legendgroup\":\"observed_arbor\",\"line\":{\"color\":\"black\"},\"mode\":\"lines\",\"showlegend\":false,\"x\":[7.991165,8.01577],\"y\":[6.55287,6.596627],\"type\":\"scatter\"},{\"legendgroup\":\"observed_arbor\",\"line\":{\"color\":\"black\"},\"mode\":\"lines\",\"showlegend\":false,\"x\":[8.01577,8.02822],\"y\":[6.596627,6.618766],\"type\":\"scatter\"},{\"legendgroup\":\"observed_arbor\",\"line\":{\"color\":\"black\"},\"mode\":\"lines\",\"showlegend\":false,\"x\":[8.02822,8.07434],\"y\":[6.618766,6.630505],\"type\":\"scatter\"},{\"legendgroup\":\"observed_arbor\",\"line\":{\"color\":\"black\"},\"mode\":\"lines\",\"showlegend\":false,\"x\":[8.07434,8.13176],\"y\":[6.630505,6.645116],\"type\":\"scatter\"},{\"legendgroup\":\"observed_arbor\",\"line\":{\"color\":\"black\"},\"mode\":\"lines\",\"showlegend\":false,\"x\":[8.13176,8.175304],\"y\":[6.645116,6.659281],\"type\":\"scatter\"},{\"legendgroup\":\"observed_arbor\",\"line\":{\"color\":\"black\"},\"mode\":\"lines\",\"showlegend\":false,\"x\":[8.175304,8.209781],\"y\":[6.659281,6.673641],\"type\":\"scatter\"},{\"legendgroup\":\"observed_arbor\",\"line\":{\"color\":\"black\"},\"mode\":\"lines\",\"showlegend\":false,\"x\":[8.209781,8.242997],\"y\":[6.673641,6.690714],\"type\":\"scatter\"},{\"legendgroup\":\"observed_arbor\",\"line\":{\"color\":\"black\"},\"mode\":\"lines\",\"showlegend\":false,\"x\":[8.242997,8.274069],\"y\":[6.690714,6.720837],\"type\":\"scatter\"},{\"legendgroup\":\"observed_arbor\",\"line\":{\"color\":\"black\"},\"mode\":\"lines\",\"showlegend\":false,\"x\":[6.570166,6.669973],\"y\":[5.336647,5.396446],\"type\":\"scatter\"},{\"legendgroup\":\"observed_arbor\",\"line\":{\"color\":\"black\"},\"mode\":\"lines\",\"showlegend\":false,\"x\":[6.669973,6.722329],\"y\":[5.396446,5.445036],\"type\":\"scatter\"},{\"legendgroup\":\"observed_arbor\",\"line\":{\"color\":\"black\"},\"mode\":\"lines\",\"showlegend\":false,\"x\":[6.722329,6.76337],\"y\":[5.445036,5.474958],\"type\":\"scatter\"},{\"legendgroup\":\"observed_arbor\",\"line\":{\"color\":\"black\"},\"mode\":\"lines\",\"showlegend\":false,\"x\":[6.76337,6.82494],\"y\":[5.474958,5.519847],\"type\":\"scatter\"},{\"legendgroup\":\"observed_arbor\",\"line\":{\"color\":\"black\"},\"mode\":\"lines\",\"showlegend\":false,\"x\":[6.82494,6.894875],\"y\":[5.519847,5.563426],\"type\":\"scatter\"},{\"legendgroup\":\"observed_arbor\",\"line\":{\"color\":\"black\"},\"mode\":\"lines\",\"showlegend\":false,\"x\":[6.894875,6.982505],\"y\":[5.563426,5.651537],\"type\":\"scatter\"},{\"legendgroup\":\"observed_arbor\",\"line\":{\"color\":\"black\"},\"mode\":\"lines\",\"showlegend\":false,\"x\":[6.982505,7.032765],\"y\":[5.651537,5.693582],\"type\":\"scatter\"},{\"legendgroup\":\"observed_arbor\",\"line\":{\"color\":\"black\"},\"mode\":\"lines\",\"showlegend\":false,\"x\":[7.032765,7.060534],\"y\":[5.693582,5.722667],\"type\":\"scatter\"},{\"legendgroup\":\"observed_arbor\",\"line\":{\"color\":\"black\"},\"mode\":\"lines\",\"showlegend\":false,\"x\":[7.060534,7.095615],\"y\":[5.722667,5.759411],\"type\":\"scatter\"},{\"legendgroup\":\"observed_arbor\",\"line\":{\"color\":\"black\"},\"mode\":\"lines\",\"showlegend\":false,\"x\":[7.095615,7.129233],\"y\":[5.759411,5.794623],\"type\":\"scatter\"},{\"legendgroup\":\"observed_arbor\",\"line\":{\"color\":\"black\"},\"mode\":\"lines\",\"showlegend\":false,\"x\":[7.129233,7.158355],\"y\":[5.794623,5.833484],\"type\":\"scatter\"},{\"legendgroup\":\"observed_arbor\",\"line\":{\"color\":\"black\"},\"mode\":\"lines\",\"showlegend\":false,\"x\":[7.158355,7.37566],\"y\":[5.833484,5.931583],\"type\":\"scatter\"},{\"legendgroup\":\"observed_arbor\",\"line\":{\"color\":\"black\"},\"mode\":\"lines\",\"showlegend\":false,\"x\":[7.37566,7.414242],\"y\":[5.931583,5.949],\"type\":\"scatter\"},{\"legendgroup\":\"observed_arbor\",\"line\":{\"color\":\"black\"},\"mode\":\"lines\",\"showlegend\":false,\"x\":[7.414242,7.448864],\"y\":[5.949,5.967913],\"type\":\"scatter\"},{\"legendgroup\":\"observed_arbor\",\"line\":{\"color\":\"black\"},\"mode\":\"lines\",\"showlegend\":false,\"x\":[7.448864,7.490077],\"y\":[5.967913,5.987013],\"type\":\"scatter\"},{\"legendgroup\":\"observed_arbor\",\"line\":{\"color\":\"black\"},\"mode\":\"lines\",\"showlegend\":false,\"x\":[7.490077,7.524509],\"y\":[5.987013,6.00627],\"type\":\"scatter\"},{\"legendgroup\":\"observed_arbor\",\"line\":{\"color\":\"black\"},\"mode\":\"lines\",\"showlegend\":false,\"x\":[7.524509,7.569602],\"y\":[6.00627,6.024629],\"type\":\"scatter\"},{\"legendgroup\":\"observed_arbor\",\"line\":{\"color\":\"black\"},\"mode\":\"lines\",\"showlegend\":false,\"x\":[7.569602,7.589226],\"y\":[6.024629,6.035851],\"type\":\"scatter\"},{\"legendgroup\":\"observed_arbor\",\"line\":{\"color\":\"black\"},\"mode\":\"lines\",\"showlegend\":false,\"x\":[7.589226,7.61597],\"y\":[6.035851,6.058042],\"type\":\"scatter\"},{\"legendgroup\":\"observed_arbor\",\"line\":{\"color\":\"black\"},\"mode\":\"lines\",\"showlegend\":false,\"x\":[7.61597,7.656978],\"y\":[6.058042,6.084287],\"type\":\"scatter\"},{\"legendgroup\":\"observed_arbor\",\"line\":{\"color\":\"black\"},\"mode\":\"lines\",\"showlegend\":false,\"x\":[7.656978,7.688497],\"y\":[6.084287,6.108013],\"type\":\"scatter\"},{\"legendgroup\":\"observed_arbor\",\"line\":{\"color\":\"black\"},\"mode\":\"lines\",\"showlegend\":false,\"x\":[7.688497,7.72651],\"y\":[6.108013,6.132878],\"type\":\"scatter\"},{\"legendgroup\":\"observed_arbor\",\"line\":{\"color\":\"black\"},\"mode\":\"lines\",\"showlegend\":false,\"x\":[7.72651,7.761937],\"y\":[6.132878,6.15605],\"type\":\"scatter\"},{\"legendgroup\":\"observed_arbor\",\"line\":{\"color\":\"black\"},\"mode\":\"lines\",\"showlegend\":false,\"x\":[7.761937,7.801507],\"y\":[6.15605,6.178354],\"type\":\"scatter\"},{\"legendgroup\":\"observed_arbor\",\"line\":{\"color\":\"black\"},\"mode\":\"lines\",\"showlegend\":false,\"x\":[7.801507,7.834307],\"y\":[6.178354,6.200277],\"type\":\"scatter\"},{\"legendgroup\":\"observed_arbor\",\"line\":{\"color\":\"black\"},\"mode\":\"lines\",\"showlegend\":false,\"x\":[7.834307,7.873653],\"y\":[6.200277,6.222974],\"type\":\"scatter\"},{\"legendgroup\":\"observed_arbor\",\"line\":{\"color\":\"black\"},\"mode\":\"lines\",\"showlegend\":false,\"x\":[7.873653,7.8934],\"y\":[6.222974,6.237821],\"type\":\"scatter\"},{\"legendgroup\":\"observed_arbor\",\"line\":{\"color\":\"black\"},\"mode\":\"lines\",\"showlegend\":false,\"x\":[7.8934,7.913703],\"y\":[6.237821,6.253084],\"type\":\"scatter\"},{\"legendgroup\":\"observed_arbor\",\"line\":{\"color\":\"black\"},\"mode\":\"lines\",\"showlegend\":false,\"x\":[7.913703,8.056676],\"y\":[6.253084,6.300773],\"type\":\"scatter\"},{\"legendgroup\":\"observed_arbor\",\"line\":{\"color\":\"black\"},\"mode\":\"lines\",\"showlegend\":false,\"x\":[8.056676,8.125499],\"y\":[6.300773,6.343224],\"type\":\"scatter\"},{\"legendgroup\":\"observed_arbor\",\"line\":{\"color\":\"black\"},\"mode\":\"lines\",\"showlegend\":false,\"x\":[8.125499,8.194357],\"y\":[6.343224,6.395433],\"type\":\"scatter\"},{\"legendgroup\":\"observed_arbor\",\"line\":{\"color\":\"black\"},\"mode\":\"lines\",\"showlegend\":false,\"x\":[8.194357,8.268572],\"y\":[6.395433,6.451705],\"type\":\"scatter\"},{\"legendgroup\":\"observed_arbor\",\"line\":{\"color\":\"black\"},\"mode\":\"lines\",\"showlegend\":false,\"x\":[8.268572,8.341699],\"y\":[6.451705,6.509791],\"type\":\"scatter\"},{\"legendgroup\":\"observed_arbor\",\"line\":{\"color\":\"black\"},\"mode\":\"lines\",\"showlegend\":false,\"x\":[8.341699,8.406856],\"y\":[6.509791,6.550952],\"type\":\"scatter\"},{\"legendgroup\":\"observed_arbor\",\"line\":{\"color\":\"black\"},\"mode\":\"lines\",\"showlegend\":false,\"x\":[8.406856,8.488368],\"y\":[6.550952,6.59498],\"type\":\"scatter\"},{\"legendgroup\":\"observed_arbor\",\"line\":{\"color\":\"black\"},\"mode\":\"lines\",\"showlegend\":false,\"x\":[8.488368,8.581509],\"y\":[6.59498,6.635674],\"type\":\"scatter\"},{\"legendgroup\":\"observed_arbor\",\"line\":{\"color\":\"black\"},\"mode\":\"lines\",\"showlegend\":false,\"x\":[8.581509,8.665604],\"y\":[6.635674,6.677006],\"type\":\"scatter\"},{\"legendgroup\":\"observed_arbor\",\"line\":{\"color\":\"black\"},\"mode\":\"lines\",\"showlegend\":false,\"x\":[8.665604,8.733991],\"y\":[6.677006,6.710618],\"type\":\"scatter\"},{\"legendgroup\":\"observed_arbor\",\"line\":{\"color\":\"black\"},\"mode\":\"lines\",\"showlegend\":false,\"x\":[8.733991,8.804382],\"y\":[6.710618,6.743548],\"type\":\"scatter\"},{\"legendgroup\":\"observed_arbor\",\"line\":{\"color\":\"black\"},\"mode\":\"lines\",\"showlegend\":false,\"x\":[8.804382,8.866826],\"y\":[6.743548,6.775095],\"type\":\"scatter\"},{\"legendgroup\":\"observed_arbor\",\"line\":{\"color\":\"black\"},\"mode\":\"lines\",\"showlegend\":false,\"x\":[8.866826,8.896933],\"y\":[6.775095,6.791982],\"type\":\"scatter\"},{\"legendgroup\":\"observed_arbor\",\"line\":{\"color\":\"black\"},\"mode\":\"lines\",\"showlegend\":false,\"x\":[8.896933,9.02568],\"y\":[6.791982,6.875429],\"type\":\"scatter\"},{\"legendgroup\":\"observed_arbor\",\"line\":{\"color\":\"black\"},\"mode\":\"lines\",\"showlegend\":false,\"x\":[9.02568,9.097843],\"y\":[6.875429,6.912371],\"type\":\"scatter\"},{\"legendgroup\":\"observed_arbor\",\"line\":{\"color\":\"black\"},\"mode\":\"lines\",\"showlegend\":false,\"x\":[9.097843,9.182241],\"y\":[6.912371,6.95085],\"type\":\"scatter\"},{\"legendgroup\":\"observed_arbor\",\"line\":{\"color\":\"black\"},\"mode\":\"lines\",\"showlegend\":false,\"x\":[9.182241,9.267639],\"y\":[6.95085,6.987473],\"type\":\"scatter\"},{\"legendgroup\":\"observed_arbor\",\"line\":{\"color\":\"black\"},\"mode\":\"lines\",\"showlegend\":false,\"x\":[9.267639,9.352008],\"y\":[6.987473,7.028233],\"type\":\"scatter\"},{\"legendgroup\":\"observed_arbor\",\"line\":{\"color\":\"black\"},\"mode\":\"lines\",\"showlegend\":false,\"x\":[9.352008,9.45827],\"y\":[7.028233,7.095891],\"type\":\"scatter\"},{\"legendgroup\":\"observed_arbor\",\"line\":{\"color\":\"black\"},\"mode\":\"lines\",\"showlegend\":false,\"x\":[9.45827,9.642565],\"y\":[7.095891,7.15395],\"type\":\"scatter\"},{\"legendgroup\":\"observed_arbor\",\"line\":{\"color\":\"black\"},\"mode\":\"lines\",\"showlegend\":false,\"x\":[9.642565,9.764585],\"y\":[7.15395,7.190189],\"type\":\"scatter\"},{\"legendgroup\":\"observed_arbor\",\"line\":{\"color\":\"black\"},\"mode\":\"lines\",\"showlegend\":false,\"x\":[9.764585,9.878204],\"y\":[7.190189,7.223934],\"type\":\"scatter\"},{\"legendgroup\":\"observed_arbor\",\"line\":{\"color\":\"black\"},\"mode\":\"lines\",\"showlegend\":false,\"x\":[9.878204,9.965992],\"y\":[7.223934,7.258784],\"type\":\"scatter\"},{\"legendgroup\":\"observed_arbor\",\"line\":{\"color\":\"black\"},\"mode\":\"lines\",\"showlegend\":false,\"x\":[9.965992,10.036816],\"y\":[7.258784,7.286899],\"type\":\"scatter\"},{\"legendgroup\":\"observed_arbor\",\"line\":{\"color\":\"black\"},\"mode\":\"lines\",\"showlegend\":false,\"x\":[10.036816,10.09586],\"y\":[7.286899,7.311948],\"type\":\"scatter\"},{\"legendgroup\":\"observed_arbor\",\"line\":{\"color\":\"black\"},\"mode\":\"lines\",\"showlegend\":false,\"x\":[10.09586,10.148987],\"y\":[7.311948,7.339929],\"type\":\"scatter\"},{\"legendgroup\":\"observed_arbor\",\"line\":{\"color\":\"black\"},\"mode\":\"lines\",\"showlegend\":false,\"x\":[6.609631,6.643175],\"y\":[5.44671,5.511134],\"type\":\"scatter\"},{\"legendgroup\":\"observed_arbor\",\"line\":{\"color\":\"black\"},\"mode\":\"lines\",\"showlegend\":false,\"x\":[6.643175,6.649155],\"y\":[5.511134,5.533419],\"type\":\"scatter\"},{\"legendgroup\":\"observed_arbor\",\"line\":{\"color\":\"black\"},\"mode\":\"lines\",\"showlegend\":false,\"x\":[6.649155,6.662953],\"y\":[5.533419,5.539674],\"type\":\"scatter\"},{\"legendgroup\":\"observed_arbor\",\"line\":{\"color\":\"black\"},\"mode\":\"lines\",\"showlegend\":false,\"x\":[6.662953,6.715248],\"y\":[5.539674,5.591262],\"type\":\"scatter\"},{\"legendgroup\":\"observed_arbor\",\"line\":{\"color\":\"black\"},\"mode\":\"lines\",\"showlegend\":false,\"x\":[6.715248,6.751799],\"y\":[5.591262,5.650039],\"type\":\"scatter\"},{\"legendgroup\":\"observed_arbor\",\"line\":{\"color\":\"black\"},\"mode\":\"lines\",\"showlegend\":false,\"x\":[6.751799,6.776912],\"y\":[5.650039,5.698925],\"type\":\"scatter\"},{\"legendgroup\":\"observed_arbor\",\"line\":{\"color\":\"black\"},\"mode\":\"lines\",\"showlegend\":false,\"x\":[6.776912,6.800124],\"y\":[5.698925,5.744111],\"type\":\"scatter\"},{\"legendgroup\":\"observed_arbor\",\"line\":{\"color\":\"black\"},\"mode\":\"lines\",\"showlegend\":false,\"x\":[6.800124,6.820597],\"y\":[5.744111,5.777413],\"type\":\"scatter\"},{\"legendgroup\":\"observed_arbor\",\"line\":{\"color\":\"black\"},\"mode\":\"lines\",\"showlegend\":false,\"x\":[6.820597,7.077187],\"y\":[5.777413,5.968529],\"type\":\"scatter\"},{\"legendgroup\":\"observed_arbor\",\"line\":{\"color\":\"black\"},\"mode\":\"lines\",\"showlegend\":false,\"x\":[7.077187,7.118346],\"y\":[5.968529,6.019734],\"type\":\"scatter\"},{\"legendgroup\":\"observed_arbor\",\"line\":{\"color\":\"black\"},\"mode\":\"lines\",\"showlegend\":false,\"x\":[7.118346,7.151266],\"y\":[6.019734,6.065468],\"type\":\"scatter\"},{\"legendgroup\":\"observed_arbor\",\"line\":{\"color\":\"black\"},\"mode\":\"lines\",\"showlegend\":false,\"x\":[7.151266,7.181713],\"y\":[6.065468,6.112889],\"type\":\"scatter\"},{\"legendgroup\":\"observed_arbor\",\"line\":{\"color\":\"black\"},\"mode\":\"lines\",\"showlegend\":false,\"x\":[7.181713,7.215798],\"y\":[6.112889,6.163209],\"type\":\"scatter\"},{\"legendgroup\":\"observed_arbor\",\"line\":{\"color\":\"black\"},\"mode\":\"lines\",\"showlegend\":false,\"x\":[7.215798,7.247258],\"y\":[6.163209,6.204315],\"type\":\"scatter\"},{\"legendgroup\":\"observed_arbor\",\"line\":{\"color\":\"black\"},\"mode\":\"lines\",\"showlegend\":false,\"x\":[7.247258,7.287812],\"y\":[6.204315,6.247452],\"type\":\"scatter\"},{\"legendgroup\":\"observed_arbor\",\"line\":{\"color\":\"black\"},\"mode\":\"lines\",\"showlegend\":false,\"x\":[7.287812,7.32841],\"y\":[6.247452,6.290636],\"type\":\"scatter\"},{\"legendgroup\":\"observed_arbor\",\"line\":{\"color\":\"black\"},\"mode\":\"lines\",\"showlegend\":false,\"x\":[7.32841,7.369004],\"y\":[6.290636,6.333816],\"type\":\"scatter\"},{\"legendgroup\":\"observed_arbor\",\"line\":{\"color\":\"black\"},\"mode\":\"lines\",\"showlegend\":false,\"x\":[7.369004,7.411715],\"y\":[6.333816,6.377062],\"type\":\"scatter\"},{\"legendgroup\":\"observed_arbor\",\"line\":{\"color\":\"black\"},\"mode\":\"lines\",\"showlegend\":false,\"x\":[7.411715,7.440832],\"y\":[6.377062,6.408674],\"type\":\"scatter\"},{\"legendgroup\":\"observed_arbor\",\"line\":{\"color\":\"black\"},\"mode\":\"lines\",\"showlegend\":false,\"x\":[7.440832,7.465355],\"y\":[6.408674,6.444135],\"type\":\"scatter\"},{\"legendgroup\":\"observed_arbor\",\"line\":{\"color\":\"black\"},\"mode\":\"lines\",\"showlegend\":false,\"x\":[7.465355,7.503229],\"y\":[6.444135,6.493639],\"type\":\"scatter\"},{\"legendgroup\":\"observed_arbor\",\"line\":{\"color\":\"black\"},\"mode\":\"lines\",\"showlegend\":false,\"x\":[7.503229,7.555684],\"y\":[6.493639,6.547915],\"type\":\"scatter\"},{\"legendgroup\":\"observed_arbor\",\"line\":{\"color\":\"black\"},\"mode\":\"lines\",\"showlegend\":false,\"x\":[7.555684,7.589156],\"y\":[6.547915,6.573934],\"type\":\"scatter\"},{\"legendgroup\":\"observed_arbor\",\"line\":{\"color\":\"black\"},\"mode\":\"lines\",\"showlegend\":false,\"x\":[7.589156,7.64932],\"y\":[6.573934,6.620702],\"type\":\"scatter\"},{\"legendgroup\":\"observed_arbor\",\"line\":{\"color\":\"black\"},\"mode\":\"lines\",\"showlegend\":false,\"x\":[7.64932,7.708462],\"y\":[6.620702,6.673745],\"type\":\"scatter\"},{\"legendgroup\":\"observed_arbor\",\"line\":{\"color\":\"black\"},\"mode\":\"lines\",\"showlegend\":false,\"x\":[7.708462,7.834613],\"y\":[6.673745,6.809653],\"type\":\"scatter\"},{\"legendgroup\":\"observed_arbor\",\"line\":{\"color\":\"black\"},\"mode\":\"lines\",\"showlegend\":false,\"x\":[7.834613,7.856123],\"y\":[6.809653,6.828428],\"type\":\"scatter\"},{\"legendgroup\":\"observed_arbor\",\"line\":{\"color\":\"black\"},\"mode\":\"lines\",\"showlegend\":false,\"x\":[7.856123,7.87592],\"y\":[6.828428,6.829783],\"type\":\"scatter\"},{\"legendgroup\":\"observed_arbor\",\"line\":{\"color\":\"black\"},\"mode\":\"lines\",\"showlegend\":false,\"x\":[7.87592,7.932409],\"y\":[6.829783,6.851531],\"type\":\"scatter\"},{\"legendgroup\":\"observed_arbor\",\"line\":{\"color\":\"black\"},\"mode\":\"lines\",\"showlegend\":false,\"x\":[7.932409,7.959982],\"y\":[6.851531,6.858939],\"type\":\"scatter\"},{\"legendgroup\":\"observed_arbor\",\"line\":{\"color\":\"black\"},\"mode\":\"lines\",\"showlegend\":false,\"x\":[7.959982,7.995514],\"y\":[6.858939,6.859187],\"type\":\"scatter\"},{\"legendgroup\":\"observed_arbor\",\"line\":{\"color\":\"black\"},\"mode\":\"lines\",\"showlegend\":false,\"x\":[7.995514,8.0179],\"y\":[6.859187,6.862337],\"type\":\"scatter\"},{\"legendgroup\":\"observed_arbor\",\"line\":{\"color\":\"black\"},\"mode\":\"lines\",\"showlegend\":false,\"x\":[8.0179,8.048461],\"y\":[6.862337,6.871171],\"type\":\"scatter\"},{\"legendgroup\":\"observed_arbor\",\"line\":{\"color\":\"black\"},\"mode\":\"lines\",\"showlegend\":false,\"x\":[8.048461,8.097259],\"y\":[6.871171,6.885278],\"type\":\"scatter\"},{\"legendgroup\":\"observed_arbor\",\"line\":{\"color\":\"black\"},\"mode\":\"lines\",\"showlegend\":false,\"x\":[8.097259,8.156045],\"y\":[6.885278,6.900714],\"type\":\"scatter\"},{\"legendgroup\":\"observed_arbor\",\"line\":{\"color\":\"black\"},\"mode\":\"lines\",\"showlegend\":false,\"x\":[8.156045,8.203348],\"y\":[6.900714,6.914683],\"type\":\"scatter\"},{\"legendgroup\":\"observed_arbor\",\"line\":{\"color\":\"black\"},\"mode\":\"lines\",\"showlegend\":false,\"x\":[8.203348,8.268137],\"y\":[6.914683,6.932255],\"type\":\"scatter\"},{\"legendgroup\":\"observed_arbor\",\"line\":{\"color\":\"black\"},\"mode\":\"lines\",\"showlegend\":false,\"x\":[8.268137,8.386637],\"y\":[6.932255,6.997203],\"type\":\"scatter\"},{\"legendgroup\":\"observed_arbor\",\"line\":{\"color\":\"black\"},\"mode\":\"lines\",\"showlegend\":false,\"x\":[8.386637,8.425089],\"y\":[6.997203,7.0234],\"type\":\"scatter\"},{\"legendgroup\":\"observed_arbor\",\"line\":{\"color\":\"black\"},\"mode\":\"lines\",\"showlegend\":false,\"x\":[8.425089,8.475674],\"y\":[7.0234,7.029318],\"type\":\"scatter\"},{\"legendgroup\":\"observed_arbor\",\"line\":{\"color\":\"black\"},\"mode\":\"lines\",\"showlegend\":false,\"x\":[8.475674,8.573792],\"y\":[7.029318,7.046171],\"type\":\"scatter\"},{\"legendgroup\":\"observed_arbor\",\"line\":{\"color\":\"black\"},\"mode\":\"lines\",\"showlegend\":false,\"x\":[8.573792,8.648517],\"y\":[7.046171,7.059007],\"type\":\"scatter\"},{\"legendgroup\":\"observed_arbor\",\"line\":{\"color\":\"black\"},\"mode\":\"lines\",\"showlegend\":false,\"x\":[8.648517,8.713187],\"y\":[7.059007,7.070115],\"type\":\"scatter\"},{\"legendgroup\":\"observed_arbor\",\"line\":{\"color\":\"black\"},\"mode\":\"lines\",\"showlegend\":false,\"x\":[8.713187,8.748651],\"y\":[7.070115,7.076207],\"type\":\"scatter\"},{\"legendgroup\":\"observed_arbor\",\"line\":{\"color\":\"black\"},\"mode\":\"lines\",\"showlegend\":false,\"x\":[6.471485,6.38206],\"y\":[5.505564,5.499619],\"type\":\"scatter\"},{\"legendgroup\":\"observed_arbor\",\"line\":{\"color\":\"black\"},\"mode\":\"lines\",\"showlegend\":false,\"x\":[6.38206,6.241064],\"y\":[5.499619,5.464654],\"type\":\"scatter\"},{\"legendgroup\":\"observed_arbor\",\"line\":{\"color\":\"black\"},\"mode\":\"lines\",\"showlegend\":false,\"x\":[6.241064,6.192747],\"y\":[5.464654,5.466297],\"type\":\"scatter\"},{\"legendgroup\":\"observed_arbor\",\"line\":{\"color\":\"black\"},\"mode\":\"lines\",\"showlegend\":false,\"x\":[6.192747,6.121018],\"y\":[5.466297,5.464244],\"type\":\"scatter\"},{\"legendgroup\":\"observed_arbor\",\"line\":{\"color\":\"black\"},\"mode\":\"lines\",\"showlegend\":false,\"x\":[6.121018,6.063946],\"y\":[5.464244,5.468959],\"type\":\"scatter\"},{\"legendgroup\":\"observed_arbor\",\"line\":{\"color\":\"black\"},\"mode\":\"lines\",\"showlegend\":false,\"x\":[6.063946,6.016987],\"y\":[5.468959,5.464129],\"type\":\"scatter\"},{\"legendgroup\":\"observed_arbor\",\"line\":{\"color\":\"black\"},\"mode\":\"lines\",\"showlegend\":false,\"x\":[6.016987,5.785907],\"y\":[5.464129,5.418758],\"type\":\"scatter\"},{\"legendgroup\":\"observed_arbor\",\"line\":{\"color\":\"black\"},\"mode\":\"lines\",\"showlegend\":false,\"x\":[5.785907,5.699641],\"y\":[5.418758,5.426225],\"type\":\"scatter\"},{\"legendgroup\":\"observed_arbor\",\"line\":{\"color\":\"black\"},\"mode\":\"lines\",\"showlegend\":false,\"x\":[5.699641,5.604626],\"y\":[5.426225,5.421718],\"type\":\"scatter\"},{\"legendgroup\":\"observed_arbor\",\"line\":{\"color\":\"black\"},\"mode\":\"lines\",\"showlegend\":false,\"x\":[5.604626,5.569779],\"y\":[5.421718,5.423063],\"type\":\"scatter\"},{\"legendgroup\":\"observed_arbor\",\"line\":{\"color\":\"black\"},\"mode\":\"lines\",\"showlegend\":false,\"x\":[5.569779,5.496505],\"y\":[5.423063,5.409999],\"type\":\"scatter\"},{\"legendgroup\":\"observed_arbor\",\"line\":{\"color\":\"black\"},\"mode\":\"lines\",\"showlegend\":false,\"x\":[5.496505,5.445801],\"y\":[5.409999,5.407041],\"type\":\"scatter\"},{\"legendgroup\":\"observed_arbor\",\"line\":{\"color\":\"black\"},\"mode\":\"lines\",\"showlegend\":false,\"x\":[5.445801,5.186149],\"y\":[5.407041,5.3828],\"type\":\"scatter\"},{\"legendgroup\":\"observed_arbor\",\"line\":{\"color\":\"black\"},\"mode\":\"lines\",\"showlegend\":false,\"x\":[5.186149,5.123882],\"y\":[5.3828,5.379992],\"type\":\"scatter\"},{\"legendgroup\":\"observed_arbor\",\"line\":{\"color\":\"black\"},\"mode\":\"lines\",\"showlegend\":false,\"x\":[5.123882,5.064679],\"y\":[5.379992,5.377321],\"type\":\"scatter\"},{\"legendgroup\":\"observed_arbor\",\"line\":{\"color\":\"black\"},\"mode\":\"lines\",\"showlegend\":false,\"x\":[5.064679,5.008601],\"y\":[5.377321,5.371794],\"type\":\"scatter\"},{\"legendgroup\":\"observed_arbor\",\"line\":{\"color\":\"black\"},\"mode\":\"lines\",\"showlegend\":false,\"x\":[5.008601,4.951726],\"y\":[5.371794,5.366188],\"type\":\"scatter\"},{\"legendgroup\":\"observed_arbor\",\"line\":{\"color\":\"black\"},\"mode\":\"lines\",\"showlegend\":false,\"x\":[4.951726,4.89158],\"y\":[5.366188,5.363267],\"type\":\"scatter\"},{\"legendgroup\":\"observed_arbor\",\"line\":{\"color\":\"black\"},\"mode\":\"lines\",\"showlegend\":false,\"x\":[4.89158,4.844048],\"y\":[5.363267,5.363955],\"type\":\"scatter\"},{\"legendgroup\":\"observed_arbor\",\"line\":{\"color\":\"black\"},\"mode\":\"lines\",\"showlegend\":false,\"x\":[4.844048,4.781839],\"y\":[5.363955,5.367849],\"type\":\"scatter\"},{\"legendgroup\":\"observed_arbor\",\"line\":{\"color\":\"black\"},\"mode\":\"lines\",\"showlegend\":false,\"x\":[4.781839,4.71849],\"y\":[5.367849,5.376313],\"type\":\"scatter\"},{\"legendgroup\":\"observed_arbor\",\"line\":{\"color\":\"black\"},\"mode\":\"lines\",\"showlegend\":false,\"x\":[4.71849,4.682484],\"y\":[5.376313,5.376593],\"type\":\"scatter\"},{\"legendgroup\":\"observed_arbor\",\"line\":{\"color\":\"black\"},\"mode\":\"lines\",\"showlegend\":false,\"x\":[4.682484,4.624158],\"y\":[5.376593,5.371758],\"type\":\"scatter\"},{\"legendgroup\":\"observed_arbor\",\"line\":{\"color\":\"black\"},\"mode\":\"lines\",\"showlegend\":false,\"x\":[6.43287,6.586821],\"y\":[5.674511,5.72903],\"type\":\"scatter\"},{\"legendgroup\":\"observed_arbor\",\"line\":{\"color\":\"black\"},\"mode\":\"lines\",\"showlegend\":false,\"x\":[6.586821,6.682537],\"y\":[5.72903,5.787177],\"type\":\"scatter\"},{\"legendgroup\":\"observed_arbor\",\"line\":{\"color\":\"black\"},\"mode\":\"lines\",\"showlegend\":false,\"x\":[6.682537,6.72531],\"y\":[5.787177,5.8201],\"type\":\"scatter\"},{\"legendgroup\":\"observed_arbor\",\"line\":{\"color\":\"black\"},\"mode\":\"lines\",\"showlegend\":false,\"x\":[6.72531,6.753902],\"y\":[5.8201,5.842039],\"type\":\"scatter\"},{\"legendgroup\":\"observed_arbor\",\"line\":{\"color\":\"black\"},\"mode\":\"lines\",\"showlegend\":false,\"x\":[6.753902,6.786723],\"y\":[5.842039,5.855836],\"type\":\"scatter\"},{\"legendgroup\":\"observed_arbor\",\"line\":{\"color\":\"black\"},\"mode\":\"lines\",\"showlegend\":false,\"x\":[6.786723,6.841722],\"y\":[5.855836,5.878895],\"type\":\"scatter\"},{\"legendgroup\":\"observed_arbor\",\"line\":{\"color\":\"black\"},\"mode\":\"lines\",\"showlegend\":false,\"x\":[6.841722,6.896742],\"y\":[5.878895,5.901902],\"type\":\"scatter\"},{\"legendgroup\":\"observed_arbor\",\"line\":{\"color\":\"black\"},\"mode\":\"lines\",\"showlegend\":false,\"x\":[6.896742,6.935815],\"y\":[5.901902,5.913373],\"type\":\"scatter\"},{\"legendgroup\":\"observed_arbor\",\"line\":{\"color\":\"black\"},\"mode\":\"lines\",\"showlegend\":false,\"x\":[6.935815,7.134645],\"y\":[5.913373,5.954287],\"type\":\"scatter\"},{\"legendgroup\":\"observed_arbor\",\"line\":{\"color\":\"black\"},\"mode\":\"lines\",\"showlegend\":false,\"x\":[7.134645,7.200007],\"y\":[5.954287,5.961681],\"type\":\"scatter\"},{\"legendgroup\":\"observed_arbor\",\"line\":{\"color\":\"black\"},\"mode\":\"lines\",\"showlegend\":false,\"x\":[7.200007,7.284846],\"y\":[5.961681,5.989336],\"type\":\"scatter\"},{\"legendgroup\":\"observed_arbor\",\"line\":{\"color\":\"black\"},\"mode\":\"lines\",\"showlegend\":false,\"x\":[7.284846,7.341424],\"y\":[5.989336,6.007836],\"type\":\"scatter\"},{\"legendgroup\":\"observed_arbor\",\"line\":{\"color\":\"black\"},\"mode\":\"lines\",\"showlegend\":false,\"x\":[7.341424,7.397985],\"y\":[6.007836,6.026389],\"type\":\"scatter\"},{\"legendgroup\":\"observed_arbor\",\"line\":{\"color\":\"black\"},\"mode\":\"lines\",\"showlegend\":false,\"x\":[7.397985,7.454529],\"y\":[6.026389,6.044994],\"type\":\"scatter\"},{\"legendgroup\":\"observed_arbor\",\"line\":{\"color\":\"black\"},\"mode\":\"lines\",\"showlegend\":false,\"x\":[7.454529,7.505457],\"y\":[6.044994,6.066479],\"type\":\"scatter\"},{\"legendgroup\":\"observed_arbor\",\"line\":{\"color\":\"black\"},\"mode\":\"lines\",\"showlegend\":false,\"x\":[7.505457,7.546462],\"y\":[6.066479,6.086967],\"type\":\"scatter\"},{\"legendgroup\":\"observed_arbor\",\"line\":{\"color\":\"black\"},\"mode\":\"lines\",\"showlegend\":false,\"x\":[7.546462,7.579223],\"y\":[6.086967,6.094969],\"type\":\"scatter\"},{\"legendgroup\":\"observed_arbor\",\"line\":{\"color\":\"black\"},\"mode\":\"lines\",\"showlegend\":false,\"x\":[7.579223,7.801775],\"y\":[6.094969,6.190308],\"type\":\"scatter\"},{\"legendgroup\":\"observed_arbor\",\"line\":{\"color\":\"black\"},\"mode\":\"lines\",\"showlegend\":false,\"x\":[7.801775,8.069708],\"y\":[6.190308,6.349544],\"type\":\"scatter\"},{\"legendgroup\":\"observed_arbor\",\"line\":{\"color\":\"black\"},\"mode\":\"lines\",\"showlegend\":false,\"x\":[8.069708,8.297223],\"y\":[6.349544,6.399724],\"type\":\"scatter\"},{\"legendgroup\":\"observed_arbor\",\"line\":{\"color\":\"black\"},\"mode\":\"lines\",\"showlegend\":false,\"x\":[8.297223,8.355701],\"y\":[6.399724,6.404949],\"type\":\"scatter\"},{\"legendgroup\":\"observed_arbor\",\"line\":{\"color\":\"black\"},\"mode\":\"lines\",\"showlegend\":false,\"x\":[8.355701,8.382466],\"y\":[6.404949,6.411837],\"type\":\"scatter\"},{\"legendgroup\":\"observed_arbor\",\"line\":{\"color\":\"black\"},\"mode\":\"lines\",\"showlegend\":false,\"x\":[8.382466,8.433438],\"y\":[6.411837,6.423399],\"type\":\"scatter\"},{\"legendgroup\":\"observed_arbor\",\"line\":{\"color\":\"black\"},\"mode\":\"lines\",\"showlegend\":false,\"x\":[8.433438,8.458899],\"y\":[6.423399,6.435293],\"type\":\"scatter\"},{\"legendgroup\":\"observed_arbor\",\"line\":{\"color\":\"black\"},\"mode\":\"lines\",\"showlegend\":false,\"x\":[6.323501,6.389922],\"y\":[6.726165,6.711655],\"type\":\"scatter\"},{\"legendgroup\":\"observed_arbor\",\"line\":{\"color\":\"black\"},\"mode\":\"lines\",\"showlegend\":false,\"x\":[6.389922,6.432912],\"y\":[6.711655,6.708392],\"type\":\"scatter\"},{\"legendgroup\":\"observed_arbor\",\"line\":{\"color\":\"black\"},\"mode\":\"lines\",\"showlegend\":false,\"x\":[6.432912,6.477234],\"y\":[6.708392,6.705026],\"type\":\"scatter\"},{\"legendgroup\":\"observed_arbor\",\"line\":{\"color\":\"black\"},\"mode\":\"lines\",\"showlegend\":false,\"x\":[6.477234,6.619101],\"y\":[6.705026,6.650136],\"type\":\"scatter\"},{\"legendgroup\":\"observed_arbor\",\"line\":{\"color\":\"black\"},\"mode\":\"lines\",\"showlegend\":false,\"x\":[6.619101,6.720359],\"y\":[6.650136,6.657959],\"type\":\"scatter\"},{\"legendgroup\":\"observed_arbor\",\"line\":{\"color\":\"black\"},\"mode\":\"lines\",\"showlegend\":false,\"x\":[6.720359,6.802743],\"y\":[6.657959,6.658314],\"type\":\"scatter\"},{\"legendgroup\":\"observed_arbor\",\"line\":{\"color\":\"black\"},\"mode\":\"lines\",\"showlegend\":false,\"x\":[6.802743,6.875916],\"y\":[6.658314,6.661618],\"type\":\"scatter\"},{\"legendgroup\":\"observed_arbor\",\"line\":{\"color\":\"black\"},\"mode\":\"lines\",\"showlegend\":false,\"x\":[6.875916,6.941074],\"y\":[6.661618,6.675048],\"type\":\"scatter\"},{\"legendgroup\":\"observed_arbor\",\"line\":{\"color\":\"black\"},\"mode\":\"lines\",\"showlegend\":false,\"x\":[6.941074,7.011803],\"y\":[6.675048,6.680456],\"type\":\"scatter\"},{\"legendgroup\":\"observed_arbor\",\"line\":{\"color\":\"black\"},\"mode\":\"lines\",\"showlegend\":false,\"x\":[7.011803,7.068787],\"y\":[6.680456,6.684813],\"type\":\"scatter\"},{\"legendgroup\":\"observed_arbor\",\"line\":{\"color\":\"black\"},\"mode\":\"lines\",\"showlegend\":false,\"x\":[7.068787,7.116154],\"y\":[6.684813,6.695832],\"type\":\"scatter\"},{\"legendgroup\":\"observed_arbor\",\"line\":{\"color\":\"black\"},\"mode\":\"lines\",\"showlegend\":false,\"x\":[7.116154,7.244714],\"y\":[6.695832,6.739197],\"type\":\"scatter\"},{\"legendgroup\":\"observed_arbor\",\"line\":{\"color\":\"black\"},\"mode\":\"lines\",\"showlegend\":false,\"x\":[7.244714,7.332492],\"y\":[6.739197,6.728891],\"type\":\"scatter\"},{\"legendgroup\":\"observed_arbor\",\"line\":{\"color\":\"black\"},\"mode\":\"lines\",\"showlegend\":false,\"x\":[7.332492,7.502521],\"y\":[6.728891,6.711175],\"type\":\"scatter\"},{\"legendgroup\":\"observed_arbor\",\"line\":{\"color\":\"black\"},\"mode\":\"lines\",\"showlegend\":false,\"x\":[7.502521,7.785586],\"y\":[6.711175,6.672185],\"type\":\"scatter\"},{\"legendgroup\":\"observed_arbor\",\"line\":{\"color\":\"black\"},\"mode\":\"lines\",\"showlegend\":false,\"x\":[6.355509,6.416111],\"y\":[5.945794,5.990503],\"type\":\"scatter\"},{\"legendgroup\":\"observed_arbor\",\"line\":{\"color\":\"black\"},\"mode\":\"lines\",\"showlegend\":false,\"x\":[6.416111,6.467035],\"y\":[5.990503,6.01861],\"type\":\"scatter\"},{\"legendgroup\":\"observed_arbor\",\"line\":{\"color\":\"black\"},\"mode\":\"lines\",\"showlegend\":false,\"x\":[6.467035,6.509001],\"y\":[6.01861,6.043329],\"type\":\"scatter\"},{\"legendgroup\":\"observed_arbor\",\"line\":{\"color\":\"black\"},\"mode\":\"lines\",\"showlegend\":false,\"x\":[6.509001,6.537506],\"y\":[6.043329,6.06533],\"type\":\"scatter\"},{\"legendgroup\":\"observed_arbor\",\"line\":{\"color\":\"black\"},\"mode\":\"lines\",\"showlegend\":false,\"x\":[6.537506,6.577719],\"y\":[6.06533,6.096368],\"type\":\"scatter\"},{\"legendgroup\":\"observed_arbor\",\"line\":{\"color\":\"black\"},\"mode\":\"lines\",\"showlegend\":false,\"x\":[6.577719,6.623807],\"y\":[6.096368,6.128161],\"type\":\"scatter\"},{\"legendgroup\":\"observed_arbor\",\"line\":{\"color\":\"black\"},\"mode\":\"lines\",\"showlegend\":false,\"x\":[6.623807,6.670127],\"y\":[6.128161,6.154658],\"type\":\"scatter\"},{\"legendgroup\":\"observed_arbor\",\"line\":{\"color\":\"black\"},\"mode\":\"lines\",\"showlegend\":false,\"x\":[6.670127,6.730959],\"y\":[6.154658,6.187732],\"type\":\"scatter\"},{\"legendgroup\":\"observed_arbor\",\"line\":{\"color\":\"black\"},\"mode\":\"lines\",\"showlegend\":false,\"x\":[6.730959,6.771528],\"y\":[6.187732,6.213197],\"type\":\"scatter\"},{\"legendgroup\":\"observed_arbor\",\"line\":{\"color\":\"black\"},\"mode\":\"lines\",\"showlegend\":false,\"x\":[6.771528,6.799941],\"y\":[6.213197,6.232799],\"type\":\"scatter\"},{\"legendgroup\":\"observed_arbor\",\"line\":{\"color\":\"black\"},\"mode\":\"lines\",\"showlegend\":false,\"x\":[6.799941,6.946573],\"y\":[6.232799,6.258134],\"type\":\"scatter\"},{\"legendgroup\":\"observed_arbor\",\"line\":{\"color\":\"black\"},\"mode\":\"lines\",\"showlegend\":false,\"x\":[6.946573,6.971958],\"y\":[6.258134,6.264039],\"type\":\"scatter\"},{\"legendgroup\":\"observed_arbor\",\"line\":{\"color\":\"black\"},\"mode\":\"lines\",\"showlegend\":false,\"x\":[6.971958,7.002087],\"y\":[6.264039,6.26644],\"type\":\"scatter\"},{\"legendgroup\":\"observed_arbor\",\"line\":{\"color\":\"black\"},\"mode\":\"lines\",\"showlegend\":false,\"x\":[7.002087,7.01763],\"y\":[6.26644,6.293005],\"type\":\"scatter\"},{\"legendgroup\":\"observed_arbor\",\"line\":{\"color\":\"black\"},\"mode\":\"lines\",\"showlegend\":false,\"x\":[7.01763,7.065412],\"y\":[6.293005,6.322753],\"type\":\"scatter\"},{\"legendgroup\":\"observed_arbor\",\"line\":{\"color\":\"black\"},\"mode\":\"lines\",\"showlegend\":false,\"x\":[7.065412,7.177811],\"y\":[6.322753,6.355164],\"type\":\"scatter\"},{\"legendgroup\":\"observed_arbor\",\"line\":{\"color\":\"black\"},\"mode\":\"lines\",\"showlegend\":false,\"x\":[7.177811,7.2595],\"y\":[6.355164,6.374402],\"type\":\"scatter\"},{\"legendgroup\":\"observed_arbor\",\"line\":{\"color\":\"black\"},\"mode\":\"lines\",\"showlegend\":false,\"x\":[7.2595,7.307407],\"y\":[6.374402,6.38876],\"type\":\"scatter\"},{\"legendgroup\":\"observed_arbor\",\"line\":{\"color\":\"black\"},\"mode\":\"lines\",\"showlegend\":false,\"x\":[7.307407,7.351938],\"y\":[6.38876,6.408132],\"type\":\"scatter\"},{\"legendgroup\":\"observed_arbor\",\"line\":{\"color\":\"black\"},\"mode\":\"lines\",\"showlegend\":false,\"x\":[7.351938,7.609648],\"y\":[6.408132,6.479369],\"type\":\"scatter\"},{\"legendgroup\":\"observed_arbor\",\"line\":{\"color\":\"black\"},\"mode\":\"lines\",\"showlegend\":false,\"x\":[7.609648,7.677764],\"y\":[6.479369,6.493738],\"type\":\"scatter\"},{\"legendgroup\":\"observed_arbor\",\"line\":{\"color\":\"black\"},\"mode\":\"lines\",\"showlegend\":false,\"x\":[7.677764,7.73429],\"y\":[6.493738,6.499214],\"type\":\"scatter\"},{\"legendgroup\":\"observed_arbor\",\"line\":{\"color\":\"black\"},\"mode\":\"lines\",\"showlegend\":false,\"x\":[7.73429,7.811576],\"y\":[6.499214,6.50045],\"type\":\"scatter\"},{\"legendgroup\":\"observed_arbor\",\"line\":{\"color\":\"black\"},\"mode\":\"lines\",\"showlegend\":false,\"x\":[7.811576,7.894664],\"y\":[6.50045,6.493483],\"type\":\"scatter\"},{\"legendgroup\":\"observed_arbor\",\"line\":{\"color\":\"black\"},\"mode\":\"lines\",\"showlegend\":false,\"x\":[7.894664,8.009473],\"y\":[6.493483,6.487069],\"type\":\"scatter\"},{\"legendgroup\":\"observed_arbor\",\"line\":{\"color\":\"black\"},\"mode\":\"lines\",\"showlegend\":false,\"x\":[6.395472,6.432838],\"y\":[5.850314,5.894408],\"type\":\"scatter\"},{\"legendgroup\":\"observed_arbor\",\"line\":{\"color\":\"black\"},\"mode\":\"lines\",\"showlegend\":false,\"x\":[6.432838,6.458207],\"y\":[5.894408,5.936734],\"type\":\"scatter\"},{\"legendgroup\":\"observed_arbor\",\"line\":{\"color\":\"black\"},\"mode\":\"lines\",\"showlegend\":false,\"x\":[6.458207,6.435015],\"y\":[5.936734,6.132924],\"type\":\"scatter\"},{\"legendgroup\":\"observed_arbor\",\"line\":{\"color\":\"black\"},\"mode\":\"lines\",\"showlegend\":false,\"x\":[6.435015,6.445985],\"y\":[6.132924,6.238193],\"type\":\"scatter\"},{\"legendgroup\":\"observed_arbor\",\"line\":{\"color\":\"black\"},\"mode\":\"lines\",\"showlegend\":false,\"x\":[6.445985,6.449513],\"y\":[6.238193,6.338064],\"type\":\"scatter\"},{\"legendgroup\":\"observed_arbor\",\"line\":{\"color\":\"black\"},\"mode\":\"lines\",\"showlegend\":false,\"x\":[6.449513,6.455646],\"y\":[6.338064,6.393863],\"type\":\"scatter\"},{\"legendgroup\":\"observed_arbor\",\"line\":{\"color\":\"black\"},\"mode\":\"lines\",\"showlegend\":false,\"x\":[6.521944,6.381818],\"y\":[5.341106,5.337106],\"type\":\"scatter\"},{\"legendgroup\":\"observed_arbor\",\"line\":{\"color\":\"black\"},\"mode\":\"lines\",\"showlegend\":false,\"x\":[6.381818,6.327313],\"y\":[5.337106,5.356081],\"type\":\"scatter\"},{\"legendgroup\":\"observed_arbor\",\"line\":{\"color\":\"black\"},\"mode\":\"lines\",\"showlegend\":false,\"x\":[6.327313,6.285537],\"y\":[5.356081,5.373804],\"type\":\"scatter\"},{\"legendgroup\":\"observed_arbor\",\"line\":{\"color\":\"black\"},\"mode\":\"lines\",\"showlegend\":false,\"x\":[6.285537,6.250819],\"y\":[5.373804,5.391795],\"type\":\"scatter\"},{\"legendgroup\":\"observed_arbor\",\"line\":{\"color\":\"black\"},\"mode\":\"lines\",\"showlegend\":false,\"x\":[6.250819,6.231708],\"y\":[5.391795,5.385034],\"type\":\"scatter\"},{\"legendgroup\":\"observed_arbor\",\"line\":{\"color\":\"black\"},\"mode\":\"lines\",\"showlegend\":false,\"x\":[6.231708,6.183337],\"y\":[5.385034,5.391424],\"type\":\"scatter\"},{\"legendgroup\":\"observed_arbor\",\"line\":{\"color\":\"black\"},\"mode\":\"lines\",\"showlegend\":false,\"x\":[6.183337,6.149518],\"y\":[5.391424,5.399056],\"type\":\"scatter\"},{\"legendgroup\":\"observed_arbor\",\"line\":{\"color\":\"black\"},\"mode\":\"lines\",\"showlegend\":false,\"x\":[6.149518,6.056586],\"y\":[5.399056,5.413557],\"type\":\"scatter\"},{\"legendgroup\":\"observed_arbor\",\"line\":{\"color\":\"black\"},\"mode\":\"lines\",\"showlegend\":false,\"x\":[6.056586,5.99344],\"y\":[5.413557,5.42644],\"type\":\"scatter\"},{\"legendgroup\":\"observed_arbor\",\"line\":{\"color\":\"black\"},\"mode\":\"lines\",\"showlegend\":false,\"x\":[5.99344,5.94624],\"y\":[5.42644,5.427211],\"type\":\"scatter\"},{\"legendgroup\":\"observed_arbor\",\"line\":{\"color\":\"black\"},\"mode\":\"lines\",\"showlegend\":false,\"x\":[5.94624,5.752057],\"y\":[5.427211,5.392792],\"type\":\"scatter\"},{\"legendgroup\":\"observed_arbor\",\"line\":{\"color\":\"black\"},\"mode\":\"lines\",\"showlegend\":false,\"x\":[5.752057,5.708988],\"y\":[5.392792,5.388199],\"type\":\"scatter\"},{\"legendgroup\":\"observed_arbor\",\"line\":{\"color\":\"black\"},\"mode\":\"lines\",\"showlegend\":false,\"x\":[5.708988,5.672291],\"y\":[5.388199,5.381275],\"type\":\"scatter\"},{\"legendgroup\":\"observed_arbor\",\"line\":{\"color\":\"black\"},\"mode\":\"lines\",\"showlegend\":false,\"x\":[5.672291,5.644979],\"y\":[5.381275,5.406259],\"type\":\"scatter\"},{\"legendgroup\":\"observed_arbor\",\"line\":{\"color\":\"black\"},\"mode\":\"lines\",\"showlegend\":false,\"x\":[5.644979,5.524896],\"y\":[5.406259,5.39873],\"type\":\"scatter\"},{\"legendgroup\":\"observed_arbor\",\"line\":{\"color\":\"black\"},\"mode\":\"lines\",\"showlegend\":false,\"x\":[5.524896,5.461508],\"y\":[5.39873,5.400754],\"type\":\"scatter\"},{\"legendgroup\":\"observed_arbor\",\"line\":{\"color\":\"black\"},\"mode\":\"lines\",\"showlegend\":false,\"x\":[5.461508,5.4162],\"y\":[5.400754,5.393607],\"type\":\"scatter\"},{\"legendgroup\":\"observed_arbor\",\"line\":{\"color\":\"black\"},\"mode\":\"lines\",\"showlegend\":false,\"x\":[5.4162,5.220518],\"y\":[5.393607,5.408209],\"type\":\"scatter\"},{\"legendgroup\":\"observed_arbor\",\"line\":{\"color\":\"black\"},\"mode\":\"lines\",\"showlegend\":false,\"x\":[5.220518,4.995216],\"y\":[5.408209,5.392813],\"type\":\"scatter\"},{\"legendgroup\":\"observed_arbor\",\"line\":{\"color\":\"black\"},\"mode\":\"lines\",\"showlegend\":false,\"x\":[6.395408,6.445052],\"y\":[6.843528,6.850138],\"type\":\"scatter\"},{\"legendgroup\":\"observed_arbor\",\"line\":{\"color\":\"black\"},\"mode\":\"lines\",\"showlegend\":false,\"x\":[6.445052,6.505121],\"y\":[6.850138,6.873237],\"type\":\"scatter\"},{\"legendgroup\":\"observed_arbor\",\"line\":{\"color\":\"black\"},\"mode\":\"lines\",\"showlegend\":false,\"x\":[6.505121,6.530763],\"y\":[6.873237,6.881494],\"type\":\"scatter\"},{\"legendgroup\":\"observed_arbor\",\"line\":{\"color\":\"black\"},\"mode\":\"lines\",\"showlegend\":false,\"x\":[6.530763,6.615412],\"y\":[6.881494,6.926705],\"type\":\"scatter\"},{\"legendgroup\":\"observed_arbor\",\"line\":{\"color\":\"black\"},\"mode\":\"lines\",\"showlegend\":false,\"x\":[6.615412,6.641077],\"y\":[6.926705,6.945502],\"type\":\"scatter\"},{\"legendgroup\":\"observed_arbor\",\"line\":{\"color\":\"black\"},\"mode\":\"lines\",\"showlegend\":false,\"x\":[6.641077,6.666095],\"y\":[6.945502,6.940152],\"type\":\"scatter\"},{\"legendgroup\":\"observed_arbor\",\"line\":{\"color\":\"black\"},\"mode\":\"lines\",\"showlegend\":false,\"x\":[6.666095,6.730665],\"y\":[6.940152,6.959422],\"type\":\"scatter\"},{\"legendgroup\":\"observed_arbor\",\"line\":{\"color\":\"black\"},\"mode\":\"lines\",\"showlegend\":false,\"x\":[6.730665,6.806824],\"y\":[6.959422,6.962098],\"type\":\"scatter\"},{\"legendgroup\":\"observed_arbor\",\"line\":{\"color\":\"black\"},\"mode\":\"lines\",\"showlegend\":false,\"x\":[6.806824,6.871742],\"y\":[6.962098,6.945579],\"type\":\"scatter\"},{\"legendgroup\":\"observed_arbor\",\"line\":{\"color\":\"black\"},\"mode\":\"lines\",\"showlegend\":false,\"x\":[6.871742,6.913738],\"y\":[6.945579,6.936437],\"type\":\"scatter\"},{\"legendgroup\":\"observed_arbor\",\"line\":{\"color\":\"black\"},\"mode\":\"lines\",\"showlegend\":false,\"x\":[6.913738,6.966696],\"y\":[6.936437,6.933728],\"type\":\"scatter\"},{\"legendgroup\":\"observed_arbor\",\"line\":{\"color\":\"black\"},\"mode\":\"lines\",\"showlegend\":false,\"x\":[6.293637,6.245868],\"y\":[6.835186,6.867628],\"type\":\"scatter\"},{\"legendgroup\":\"observed_arbor\",\"line\":{\"color\":\"black\"},\"mode\":\"lines\",\"showlegend\":false,\"x\":[6.245868,6.16558],\"y\":[6.867628,6.909529],\"type\":\"scatter\"},{\"legendgroup\":\"observed_arbor\",\"line\":{\"color\":\"black\"},\"mode\":\"lines\",\"showlegend\":false,\"x\":[6.16558,6.091855],\"y\":[6.909529,6.950343],\"type\":\"scatter\"},{\"legendgroup\":\"observed_arbor\",\"line\":{\"color\":\"black\"},\"mode\":\"lines\",\"showlegend\":false,\"x\":[6.091855,6.042808],\"y\":[6.950343,6.972753],\"type\":\"scatter\"},{\"legendgroup\":\"observed_arbor\",\"line\":{\"color\":\"black\"},\"mode\":\"lines\",\"showlegend\":false,\"x\":[6.042808,6.004597],\"y\":[6.972753,6.985278],\"type\":\"scatter\"},{\"legendgroup\":\"observed_arbor\",\"line\":{\"color\":\"black\"},\"mode\":\"lines\",\"showlegend\":false,\"x\":[6.004597,5.907025],\"y\":[6.985278,7.029032],\"type\":\"scatter\"},{\"legendgroup\":\"observed_arbor\",\"line\":{\"color\":\"black\"},\"mode\":\"lines\",\"showlegend\":false,\"x\":[5.907025,5.805574],\"y\":[7.029032,7.036252],\"type\":\"scatter\"},{\"legendgroup\":\"observed_arbor\",\"line\":{\"color\":\"black\"},\"mode\":\"lines\",\"showlegend\":false,\"x\":[5.805574,5.735901],\"y\":[7.036252,7.041212],\"type\":\"scatter\"},{\"legendgroup\":\"observed_arbor\",\"line\":{\"color\":\"black\"},\"mode\":\"lines\",\"showlegend\":false,\"x\":[5.735901,5.676182],\"y\":[7.041212,7.037669],\"type\":\"scatter\"},{\"legendgroup\":\"observed_arbor\",\"line\":{\"color\":\"black\"},\"mode\":\"lines\",\"showlegend\":false,\"x\":[5.676182,5.647066],\"y\":[7.037669,7.068737],\"type\":\"scatter\"},{\"legendgroup\":\"observed_arbor\",\"line\":{\"color\":\"black\"},\"mode\":\"lines\",\"showlegend\":false,\"x\":[5.647066,5.605154],\"y\":[7.068737,7.082501],\"type\":\"scatter\"},{\"legendgroup\":\"observed_arbor\",\"line\":{\"color\":\"black\"},\"mode\":\"lines\",\"showlegend\":false,\"x\":[6.592369,6.537003],\"y\":[7.507527,7.530586],\"type\":\"scatter\"},{\"legendgroup\":\"observed_arbor\",\"line\":{\"color\":\"black\"},\"mode\":\"lines\",\"showlegend\":false,\"x\":[6.537003,6.506204],\"y\":[7.530586,7.538549],\"type\":\"scatter\"},{\"legendgroup\":\"observed_arbor\",\"line\":{\"color\":\"black\"},\"mode\":\"lines\",\"showlegend\":false,\"x\":[6.506204,6.458099],\"y\":[7.538549,7.549441],\"type\":\"scatter\"},{\"legendgroup\":\"observed_arbor\",\"line\":{\"color\":\"black\"},\"mode\":\"lines\",\"showlegend\":false,\"x\":[6.458099,6.412876],\"y\":[7.549441,7.556611],\"type\":\"scatter\"},{\"legendgroup\":\"observed_arbor\",\"line\":{\"color\":\"black\"},\"mode\":\"lines\",\"showlegend\":false,\"x\":[6.412876,6.3744],\"y\":[7.556611,7.561196],\"type\":\"scatter\"},{\"legendgroup\":\"observed_arbor\",\"line\":{\"color\":\"black\"},\"mode\":\"lines\",\"showlegend\":false,\"x\":[6.3744,6.327948],\"y\":[7.561196,7.560806],\"type\":\"scatter\"},{\"legendgroup\":\"observed_arbor\",\"line\":{\"color\":\"black\"},\"mode\":\"lines\",\"showlegend\":false,\"x\":[6.327948,6.191866],\"y\":[7.560806,7.586615],\"type\":\"scatter\"},{\"legendgroup\":\"observed_arbor\",\"line\":{\"color\":\"black\"},\"mode\":\"lines\",\"showlegend\":false,\"x\":[6.191866,6.138485],\"y\":[7.586615,7.599449],\"type\":\"scatter\"},{\"legendgroup\":\"observed_arbor\",\"line\":{\"color\":\"black\"},\"mode\":\"lines\",\"showlegend\":false,\"x\":[6.138485,6.098482],\"y\":[7.599449,7.607527],\"type\":\"scatter\"},{\"legendgroup\":\"observed_arbor\",\"line\":{\"color\":\"black\"},\"mode\":\"lines\",\"showlegend\":false,\"x\":[6.098482,6.058209],\"y\":[7.607527,7.614134],\"type\":\"scatter\"},{\"legendgroup\":\"observed_arbor\",\"line\":{\"color\":\"black\"},\"mode\":\"lines\",\"showlegend\":false,\"x\":[6.058209,6.009313],\"y\":[7.614134,7.620637],\"type\":\"scatter\"},{\"legendgroup\":\"observed_arbor\",\"line\":{\"color\":\"black\"},\"mode\":\"lines\",\"showlegend\":false,\"x\":[6.009313,5.957667],\"y\":[7.620637,7.629017],\"type\":\"scatter\"},{\"legendgroup\":\"observed_arbor\",\"line\":{\"color\":\"black\"},\"mode\":\"lines\",\"showlegend\":false,\"x\":[5.957667,5.908758],\"y\":[7.629017,7.635437],\"type\":\"scatter\"},{\"legendgroup\":\"observed_arbor\",\"line\":{\"color\":\"black\"},\"mode\":\"lines\",\"showlegend\":false,\"x\":[5.908758,5.875989],\"y\":[7.635437,7.641248],\"type\":\"scatter\"},{\"legendgroup\":\"observed_arbor\",\"line\":{\"color\":\"black\"},\"mode\":\"lines\",\"showlegend\":false,\"x\":[6.557433,6.590447],\"y\":[7.183967,7.150862],\"type\":\"scatter\"},{\"legendgroup\":\"observed_arbor\",\"line\":{\"color\":\"black\"},\"mode\":\"lines\",\"showlegend\":false,\"x\":[6.590447,6.6142],\"y\":[7.150862,7.13435],\"type\":\"scatter\"},{\"legendgroup\":\"observed_arbor\",\"line\":{\"color\":\"black\"},\"mode\":\"lines\",\"showlegend\":false,\"x\":[6.6142,6.656868],\"y\":[7.13435,7.118578],\"type\":\"scatter\"},{\"legendgroup\":\"observed_arbor\",\"line\":{\"color\":\"black\"},\"mode\":\"lines\",\"showlegend\":false,\"x\":[6.656868,6.680693],\"y\":[7.118578,7.109772],\"type\":\"scatter\"},{\"legendgroup\":\"observed_arbor\",\"line\":{\"color\":\"black\"},\"mode\":\"lines\",\"showlegend\":false,\"x\":[6.680693,6.733785],\"y\":[7.109772,7.102745],\"type\":\"scatter\"},{\"legendgroup\":\"observed_arbor\",\"line\":{\"color\":\"black\"},\"mode\":\"lines\",\"showlegend\":false,\"x\":[6.733785,6.808611],\"y\":[7.102745,7.059789],\"type\":\"scatter\"},{\"legendgroup\":\"observed_arbor\",\"line\":{\"color\":\"black\"},\"mode\":\"lines\",\"showlegend\":false,\"x\":[6.808611,6.868442],\"y\":[7.059789,7.020034],\"type\":\"scatter\"},{\"legendgroup\":\"observed_arbor\",\"line\":{\"color\":\"black\"},\"mode\":\"lines\",\"showlegend\":false,\"x\":[6.868442,7.008813],\"y\":[7.020034,6.889194],\"type\":\"scatter\"},{\"legendgroup\":\"observed_arbor\",\"line\":{\"color\":\"black\"},\"mode\":\"lines\",\"showlegend\":false,\"x\":[6.831848,6.900356],\"y\":[7.745255,7.746144],\"type\":\"scatter\"},{\"legendgroup\":\"observed_arbor\",\"line\":{\"color\":\"black\"},\"mode\":\"lines\",\"showlegend\":false,\"x\":[6.900356,6.995709],\"y\":[7.746144,7.758375],\"type\":\"scatter\"},{\"legendgroup\":\"observed_arbor\",\"line\":{\"color\":\"black\"},\"mode\":\"lines\",\"showlegend\":false,\"x\":[6.995709,7.081379],\"y\":[7.758375,7.74509],\"type\":\"scatter\"},{\"legendgroup\":\"observed_arbor\",\"line\":{\"color\":\"black\"},\"mode\":\"lines\",\"showlegend\":false,\"x\":[7.081379,7.161684],\"y\":[7.74509,7.72658],\"type\":\"scatter\"},{\"legendgroup\":\"observed_arbor\",\"line\":{\"color\":\"black\"},\"mode\":\"lines\",\"showlegend\":false,\"x\":[7.161684,7.238185],\"y\":[7.72658,7.705875],\"type\":\"scatter\"},{\"legendgroup\":\"observed_arbor\",\"line\":{\"color\":\"black\"},\"mode\":\"lines\",\"showlegend\":false,\"x\":[7.238185,7.309637],\"y\":[7.705875,7.689639],\"type\":\"scatter\"},{\"legendgroup\":\"observed_arbor\",\"line\":{\"color\":\"black\"},\"mode\":\"lines\",\"showlegend\":false,\"x\":[7.309637,7.365366],\"y\":[7.689639,7.676976],\"type\":\"scatter\"},{\"legendgroup\":\"observed_arbor\",\"line\":{\"color\":\"black\"},\"mode\":\"lines\",\"showlegend\":false,\"x\":[6.316069,6.401516],\"y\":[6.73862,6.776808],\"type\":\"scatter\"},{\"legendgroup\":\"observed_arbor\",\"line\":{\"color\":\"black\"},\"mode\":\"lines\",\"showlegend\":false,\"x\":[6.401516,6.414413],\"y\":[6.776808,6.814446],\"type\":\"scatter\"},{\"legendgroup\":\"observed_arbor\",\"line\":{\"color\":\"black\"},\"mode\":\"lines\",\"showlegend\":false,\"x\":[6.414413,6.441569],\"y\":[6.814446,7.051984],\"type\":\"scatter\"},{\"legendgroup\":\"observed_arbor\",\"line\":{\"color\":\"black\"},\"mode\":\"lines\",\"showlegend\":false,\"x\":[6.468895,6.342071],\"y\":[5.421427,5.413311],\"type\":\"scatter\"},{\"legendgroup\":\"observed_arbor\",\"line\":{\"color\":\"black\"},\"mode\":\"lines\",\"showlegend\":false,\"x\":[6.342071,6.227042],\"y\":[5.413311,5.414516],\"type\":\"scatter\"},{\"legendgroup\":\"observed_arbor\",\"line\":{\"color\":\"black\"},\"mode\":\"lines\",\"showlegend\":false,\"x\":[6.227042,6.031954],\"y\":[5.414516,5.396681],\"type\":\"scatter\"},{\"legendgroup\":\"observed_arbor\",\"line\":{\"color\":\"black\"},\"mode\":\"lines\",\"showlegend\":false,\"x\":[6.031954,5.894488],\"y\":[5.396681,5.467156],\"type\":\"scatter\"},{\"legendgroup\":\"observed_arbor\",\"line\":{\"color\":\"black\"},\"mode\":\"lines\",\"showlegend\":false,\"x\":[5.894488,5.674871],\"y\":[5.467156,5.565054],\"type\":\"scatter\"},{\"legendgroup\":\"observed_arbor\",\"line\":{\"color\":\"black\"},\"mode\":\"lines\",\"showlegend\":false,\"x\":[5.674871,5.640833],\"y\":[5.565054,5.573366],\"type\":\"scatter\"},{\"legendgroup\":\"observed_arbor\",\"line\":{\"color\":\"black\"},\"mode\":\"lines\",\"showlegend\":false,\"x\":[5.640833,5.608563],\"y\":[5.573366,5.571712],\"type\":\"scatter\"},{\"legendgroup\":\"observed_arbor\",\"line\":{\"color\":\"black\"},\"mode\":\"lines\",\"showlegend\":false,\"x\":[5.608563,5.596135],\"y\":[5.571712,5.600489],\"type\":\"scatter\"},{\"legendgroup\":\"observed_arbor\",\"line\":{\"color\":\"black\"},\"mode\":\"lines\",\"showlegend\":false,\"x\":[5.596135,5.500686],\"y\":[5.600489,5.636174],\"type\":\"scatter\"},{\"legendgroup\":\"observed_arbor\",\"line\":{\"color\":\"black\"},\"mode\":\"lines\",\"showlegend\":false,\"x\":[5.500686,5.413654],\"y\":[5.636174,5.675888],\"type\":\"scatter\"},{\"legendgroup\":\"observed_arbor\",\"line\":{\"color\":\"black\"},\"mode\":\"lines\",\"showlegend\":false,\"x\":[6.75415,6.251796],\"y\":[5.061972,5.080044],\"type\":\"scatter\"},{\"legendgroup\":\"observed_arbor\",\"line\":{\"color\":\"black\"},\"mode\":\"lines\",\"showlegend\":false,\"x\":[6.251796,6.098362],\"y\":[5.080044,5.063229],\"type\":\"scatter\"},{\"legendgroup\":\"observed_arbor\",\"line\":{\"color\":\"black\"},\"mode\":\"lines\",\"showlegend\":false,\"x\":[6.098362,6.059643],\"y\":[5.063229,5.055965],\"type\":\"scatter\"},{\"legendgroup\":\"observed_arbor\",\"line\":{\"color\":\"black\"},\"mode\":\"lines\",\"showlegend\":false,\"x\":[6.059643,6.031195],\"y\":[5.055965,5.053665],\"type\":\"scatter\"},{\"legendgroup\":\"observed_arbor\",\"line\":{\"color\":\"black\"},\"mode\":\"lines\",\"showlegend\":false,\"x\":[6.031195,5.982601],\"y\":[5.053665,5.055743],\"type\":\"scatter\"},{\"legendgroup\":\"observed_arbor\",\"line\":{\"color\":\"black\"},\"mode\":\"lines\",\"showlegend\":false,\"x\":[5.982601,5.944653],\"y\":[5.055743,5.052871],\"type\":\"scatter\"},{\"legendgroup\":\"observed_arbor\",\"line\":{\"color\":\"black\"},\"mode\":\"lines\",\"showlegend\":false,\"x\":[5.944653,5.90134],\"y\":[5.052871,5.052596],\"type\":\"scatter\"},{\"legendgroup\":\"observed_arbor\",\"line\":{\"color\":\"black\"},\"mode\":\"lines\",\"showlegend\":false,\"x\":[5.90134,5.86263],\"y\":[5.052596,5.050853],\"type\":\"scatter\"},{\"legendgroup\":\"observed_arbor\",\"line\":{\"color\":\"black\"},\"mode\":\"lines\",\"showlegend\":false,\"x\":[5.86263,5.829444],\"y\":[5.050853,5.056851],\"type\":\"scatter\"},{\"legendgroup\":\"observed_arbor\",\"line\":{\"color\":\"black\"},\"mode\":\"lines\",\"showlegend\":false,\"x\":[5.829444,5.777917],\"y\":[5.056851,5.070728],\"type\":\"scatter\"},{\"legendgroup\":\"observed_arbor\",\"line\":{\"color\":\"black\"},\"mode\":\"lines\",\"showlegend\":false,\"x\":[5.777917,5.738028],\"y\":[5.070728,5.083021],\"type\":\"scatter\"},{\"legendgroup\":\"observed_arbor\",\"line\":{\"color\":\"black\"},\"mode\":\"lines\",\"showlegend\":false,\"x\":[5.738028,5.710786],\"y\":[5.083021,5.096115],\"type\":\"scatter\"},{\"legendgroup\":\"observed_arbor\",\"line\":{\"color\":\"black\"},\"mode\":\"lines\",\"showlegend\":false,\"x\":[5.710786,5.664298],\"y\":[5.096115,5.120122],\"type\":\"scatter\"},{\"legendgroup\":\"observed_arbor\",\"line\":{\"color\":\"black\"},\"mode\":\"lines\",\"showlegend\":false,\"x\":[5.664298,5.621088],\"y\":[5.120122,5.137383],\"type\":\"scatter\"},{\"legendgroup\":\"observed_arbor\",\"line\":{\"color\":\"black\"},\"mode\":\"lines\",\"showlegend\":false,\"x\":[5.621088,5.576713],\"y\":[5.137383,5.153496],\"type\":\"scatter\"},{\"legendgroup\":\"observed_arbor\",\"line\":{\"color\":\"black\"},\"mode\":\"lines\",\"showlegend\":false,\"x\":[5.576713,5.55015],\"y\":[5.153496,5.167919],\"type\":\"scatter\"},{\"legendgroup\":\"observed_arbor\",\"line\":{\"color\":\"black\"},\"mode\":\"lines\",\"showlegend\":false,\"x\":[5.55015,5.501897],\"y\":[5.167919,5.204338],\"type\":\"scatter\"},{\"legendgroup\":\"observed_arbor\",\"line\":{\"color\":\"black\"},\"mode\":\"lines\",\"showlegend\":false,\"x\":[5.501897,5.441133],\"y\":[5.204338,5.234073],\"type\":\"scatter\"},{\"legendgroup\":\"observed_arbor\",\"line\":{\"color\":\"black\"},\"mode\":\"lines\",\"showlegend\":false,\"x\":[5.441133,5.399382],\"y\":[5.234073,5.241703],\"type\":\"scatter\"},{\"legendgroup\":\"observed_arbor\",\"line\":{\"color\":\"black\"},\"mode\":\"lines\",\"showlegend\":false,\"x\":[6.97883,7.073882],\"y\":[8.728493,8.74642],\"type\":\"scatter\"},{\"legendgroup\":\"observed_arbor\",\"line\":{\"color\":\"black\"},\"mode\":\"lines\",\"showlegend\":false,\"x\":[7.073882,7.146368],\"y\":[8.74642,8.764373],\"type\":\"scatter\"},{\"legendgroup\":\"observed_arbor\",\"line\":{\"color\":\"black\"},\"mode\":\"lines\",\"showlegend\":false,\"x\":[7.146368,7.21574],\"y\":[8.764373,8.781836],\"type\":\"scatter\"},{\"legendgroup\":\"observed_arbor\",\"line\":{\"color\":\"black\"},\"mode\":\"lines\",\"showlegend\":false,\"x\":[6.829374,6.537678],\"y\":[8.252129,8.380589],\"type\":\"scatter\"},{\"legendgroup\":\"observed_arbor\",\"line\":{\"color\":\"black\"},\"mode\":\"lines\",\"showlegend\":false,\"x\":[6.787929,6.734371],\"y\":[7.984837,7.989159],\"type\":\"scatter\"},{\"legendgroup\":\"observed_arbor\",\"line\":{\"color\":\"black\"},\"mode\":\"lines\",\"showlegend\":false,\"x\":[6.734371,6.708973],\"y\":[7.989159,7.989526],\"type\":\"scatter\"},{\"legendgroup\":\"observed_arbor\",\"line\":{\"color\":\"black\"},\"mode\":\"lines\",\"showlegend\":false,\"x\":[6.708973,6.550063],\"y\":[7.989526,8.024072],\"type\":\"scatter\"},{\"legendgroup\":\"observed_arbor\",\"line\":{\"color\":\"black\"},\"mode\":\"lines\",\"showlegend\":false,\"x\":[6.550063,6.481965],\"y\":[8.024072,8.03525],\"type\":\"scatter\"},{\"legendgroup\":\"observed_arbor\",\"line\":{\"color\":\"black\"},\"mode\":\"lines\",\"showlegend\":false,\"x\":[6.481965,6.406987],\"y\":[8.03525,8.037218],\"type\":\"scatter\"},{\"legendgroup\":\"observed_arbor\",\"line\":{\"color\":\"black\"},\"mode\":\"lines\",\"showlegend\":false,\"x\":[6.406987,6.331656],\"y\":[8.037218,8.0391],\"type\":\"scatter\"},{\"legendgroup\":\"observed_arbor\",\"line\":{\"color\":\"black\"},\"mode\":\"lines\",\"showlegend\":false,\"x\":[6.331656,6.286802],\"y\":[8.0391,8.043899],\"type\":\"scatter\"},{\"legendgroup\":\"observed_arbor\",\"line\":{\"color\":\"black\"},\"mode\":\"lines\",\"showlegend\":false,\"x\":[6.73737,6.818215],\"y\":[7.506947,7.491163],\"type\":\"scatter\"},{\"legendgroup\":\"observed_arbor\",\"line\":{\"color\":\"black\"},\"mode\":\"lines\",\"showlegend\":false,\"x\":[6.818215,6.925082],\"y\":[7.491163,7.486597],\"type\":\"scatter\"},{\"legendgroup\":\"observed_arbor\",\"line\":{\"color\":\"black\"},\"mode\":\"lines\",\"showlegend\":false,\"x\":[6.925082,6.984362],\"y\":[7.486597,7.475761],\"type\":\"scatter\"},{\"legendgroup\":\"observed_arbor\",\"line\":{\"color\":\"black\"},\"mode\":\"lines\",\"showlegend\":false,\"x\":[6.984362,7.038749],\"y\":[7.475761,7.459404],\"type\":\"scatter\"},{\"legendgroup\":\"observed_arbor\",\"line\":{\"color\":\"black\"},\"mode\":\"lines\",\"showlegend\":false,\"x\":[7.038749,7.115748],\"y\":[7.459404,7.429621],\"type\":\"scatter\"},{\"legendgroup\":\"observed_arbor\",\"line\":{\"color\":\"black\"},\"mode\":\"lines\",\"showlegend\":false,\"x\":[7.115748,7.150688],\"y\":[7.429621,7.420919],\"type\":\"scatter\"},{\"legendgroup\":\"observed_arbor\",\"line\":{\"color\":\"black\"},\"mode\":\"lines\",\"showlegend\":false,\"x\":[6.574815,6.450144],\"y\":[5.171033,5.131309],\"type\":\"scatter\"},{\"legendgroup\":\"observed_arbor\",\"line\":{\"color\":\"black\"},\"mode\":\"lines\",\"showlegend\":false,\"x\":[6.450144,6.371719],\"y\":[5.131309,5.107229],\"type\":\"scatter\"},{\"legendgroup\":\"observed_arbor\",\"line\":{\"color\":\"black\"},\"mode\":\"lines\",\"showlegend\":false,\"x\":[6.371719,6.072011],\"y\":[5.107229,5.0927],\"type\":\"scatter\"},{\"legendgroup\":\"observed_arbor\",\"line\":{\"color\":\"black\"},\"mode\":\"lines\",\"showlegend\":false,\"x\":[6.072011,6.009795],\"y\":[5.0927,5.097787],\"type\":\"scatter\"},{\"legendgroup\":\"observed_arbor\",\"line\":{\"color\":\"black\"},\"mode\":\"lines\",\"showlegend\":false,\"x\":[6.009795,5.967616],\"y\":[5.097787,5.101236],\"type\":\"scatter\"},{\"legendgroup\":\"observed_arbor\",\"line\":{\"color\":\"black\"},\"mode\":\"lines\",\"showlegend\":false,\"x\":[5.967616,5.925435],\"y\":[5.101236,5.104685],\"type\":\"scatter\"},{\"legendgroup\":\"observed_arbor\",\"line\":{\"color\":\"black\"},\"mode\":\"lines\",\"showlegend\":false,\"x\":[5.925435,5.885243],\"y\":[5.104685,5.103466],\"type\":\"scatter\"},{\"legendgroup\":\"observed_arbor\",\"line\":{\"color\":\"black\"},\"mode\":\"lines\",\"showlegend\":false,\"x\":[5.885243,5.837554],\"y\":[5.103466,5.099026],\"type\":\"scatter\"},{\"legendgroup\":\"observed_arbor\",\"line\":{\"color\":\"black\"},\"mode\":\"lines\",\"showlegend\":false,\"x\":[5.837554,5.76225],\"y\":[5.099026,5.107048],\"type\":\"scatter\"},{\"legendgroup\":\"observed_arbor\",\"line\":{\"color\":\"black\"},\"mode\":\"lines\",\"showlegend\":false,\"x\":[5.76225,5.700656],\"y\":[5.107048,5.116619],\"type\":\"scatter\"},{\"legendgroup\":\"observed_arbor\",\"line\":{\"color\":\"black\"},\"mode\":\"lines\",\"showlegend\":false,\"x\":[5.700656,5.663415],\"y\":[5.116619,5.119378],\"type\":\"scatter\"},{\"legendgroup\":\"observed_arbor\",\"line\":{\"color\":\"black\"},\"mode\":\"lines\",\"showlegend\":false,\"x\":[5.663415,5.632556],\"y\":[5.119378,5.127667],\"type\":\"scatter\"},{\"legendgroup\":\"observed_arbor\",\"line\":{\"color\":\"black\"},\"mode\":\"lines\",\"showlegend\":false,\"x\":[5.632556,5.603796],\"y\":[5.127667,5.141591],\"type\":\"scatter\"},{\"legendgroup\":\"observed_arbor\",\"line\":{\"color\":\"black\"},\"mode\":\"lines\",\"showlegend\":false,\"x\":[5.603796,5.546978],\"y\":[5.141591,5.177415],\"type\":\"scatter\"},{\"legendgroup\":\"observed_arbor\",\"line\":{\"color\":\"black\"},\"mode\":\"lines\",\"showlegend\":false,\"x\":[5.546978,5.496844],\"y\":[5.177415,5.209024],\"type\":\"scatter\"},{\"legendgroup\":\"observed_arbor\",\"line\":{\"color\":\"black\"},\"mode\":\"lines\",\"showlegend\":false,\"x\":[5.496844,5.460648],\"y\":[5.209024,5.226538],\"type\":\"scatter\"},{\"legendgroup\":\"observed_arbor\",\"line\":{\"color\":\"black\"},\"mode\":\"lines\",\"showlegend\":false,\"x\":[5.460648,5.410469],\"y\":[5.226538,5.243088],\"type\":\"scatter\"},{\"line\":{\"color\":\"orange\"},\"showlegend\":false,\"x\":[8.274069],\"y\":[6.720837],\"type\":\"scatter\"},{\"line\":{\"color\":\"orange\"},\"showlegend\":false,\"x\":[10.148987],\"y\":[7.339929],\"type\":\"scatter\"},{\"line\":{\"color\":\"orange\"},\"showlegend\":false,\"x\":[8.748651],\"y\":[7.076207],\"type\":\"scatter\"},{\"line\":{\"color\":\"orange\"},\"showlegend\":false,\"x\":[4.624158],\"y\":[5.371758],\"type\":\"scatter\"},{\"line\":{\"color\":\"orange\"},\"showlegend\":false,\"x\":[8.458899],\"y\":[6.435293],\"type\":\"scatter\"},{\"line\":{\"color\":\"orange\"},\"showlegend\":false,\"x\":[7.785586],\"y\":[6.672185],\"type\":\"scatter\"},{\"line\":{\"color\":\"orange\"},\"showlegend\":false,\"x\":[8.009473],\"y\":[6.487069],\"type\":\"scatter\"},{\"line\":{\"color\":\"orange\"},\"showlegend\":false,\"x\":[6.455646],\"y\":[6.393863],\"type\":\"scatter\"},{\"line\":{\"color\":\"orange\"},\"showlegend\":false,\"x\":[4.995216],\"y\":[5.392813],\"type\":\"scatter\"},{\"line\":{\"color\":\"orange\"},\"showlegend\":false,\"x\":[6.966696],\"y\":[6.933728],\"type\":\"scatter\"},{\"line\":{\"color\":\"orange\"},\"showlegend\":false,\"x\":[5.605154],\"y\":[7.082501],\"type\":\"scatter\"},{\"line\":{\"color\":\"orange\"},\"showlegend\":false,\"x\":[5.875989],\"y\":[7.641248],\"type\":\"scatter\"},{\"line\":{\"color\":\"orange\"},\"showlegend\":false,\"x\":[7.008813],\"y\":[6.889194],\"type\":\"scatter\"},{\"line\":{\"color\":\"orange\"},\"showlegend\":false,\"x\":[7.365366],\"y\":[7.676976],\"type\":\"scatter\"},{\"line\":{\"color\":\"orange\"},\"showlegend\":false,\"x\":[6.441569],\"y\":[7.051984],\"type\":\"scatter\"},{\"line\":{\"color\":\"orange\"},\"showlegend\":false,\"x\":[5.413654],\"y\":[5.675888],\"type\":\"scatter\"},{\"line\":{\"color\":\"orange\"},\"showlegend\":false,\"x\":[5.399382],\"y\":[5.241703],\"type\":\"scatter\"},{\"line\":{\"color\":\"orange\"},\"showlegend\":false,\"x\":[7.21574],\"y\":[8.781836],\"type\":\"scatter\"},{\"line\":{\"color\":\"orange\"},\"showlegend\":false,\"x\":[6.537678],\"y\":[8.380589],\"type\":\"scatter\"},{\"line\":{\"color\":\"orange\"},\"showlegend\":false,\"x\":[6.286802],\"y\":[8.043899],\"type\":\"scatter\"},{\"line\":{\"color\":\"orange\"},\"showlegend\":false,\"x\":[7.150688],\"y\":[7.420919],\"type\":\"scatter\"},{\"line\":{\"color\":\"orange\"},\"showlegend\":false,\"x\":[5.410469],\"y\":[5.243088],\"type\":\"scatter\"},{\"legendgroup\":\"group_0\",\"line\":{\"color\":\"#636EFA\"},\"mode\":\"lines\",\"name\":\"(-0.1, 0.7)\",\"showlegend\":true,\"x\":[6.545251,6.580533,6.6158150000000004,6.651097,6.6863790000000005,6.721661,6.756943000000001,6.792225,6.827507000000001,6.862789,6.898071000000001,6.933353,6.968635000000001,7.003917,7.039199000000001,7.0744810000000005,7.109763000000001,7.1450450000000005,7.180327,7.215609000000001,7.250891,7.286173000000001,7.321455,7.356737000000001,7.392019,7.427301000000001,7.462583,7.497865000000001,7.5331470000000005,7.568429,7.6037110000000006,7.638993000000001,7.674275000000001,7.709557,7.744839000000001,7.780121000000001,7.815403000000001,7.850685,7.885967000000001,7.921249,7.956531000000001,7.9918130000000005,8.027095000000001,8.062377000000001,8.097659,8.132941,8.168223000000001,8.203505,8.238787,8.274069],\"y\":[5.359293000000001,5.3930547459601,5.426567528015397,5.459831346165895,5.492846200411593,5.525612090752491,5.558129017188589,5.590396979719888,5.622415978346385,5.6541860130680845,5.6857070838849815,5.71697919079708,5.748002333804376,5.778776512906875,5.809301728104574,5.839577979397472,5.869605266785568,5.899383590268869,5.928912949847366,5.958193345521064,5.98722477728996,6.016007245154061,6.044540749113356,6.072825289167856,6.100860865317554,6.128647477562453,6.1561851259025495,6.183473810337848,6.210513530868344,6.237304287494041,6.26384608021494,6.29013890903104,6.3161827739423355,6.341977674948836,6.367523612050531,6.392820585247431,6.417868594539531,6.442667639926828,6.467217721409327,6.491518838987023,6.515570992659921,6.53937418242802,6.562928408291317,6.5862336702498165,6.609289968303511,6.6320973024524115,6.65465567269651,6.676965079035806,6.699025521470304,6.720837000000001],\"type\":\"scatter\"},{\"legendgroup\":\"group_0\",\"line\":{\"color\":\"#636EFA\"},\"mode\":\"lines\",\"showlegend\":false,\"x\":[6.580209,6.6530412040816325,6.725873408163265,6.798705612244898,6.871537816326531,6.944370020408163,7.017202224489796,7.090034428571428,7.162866632653062,7.235698836734694,7.308531040816327,7.381363244897959,7.454195448979592,7.527027653061225,7.599859857142857,7.67269206122449,7.7455242653061225,7.818356469387755,7.891188673469388,7.96402087755102,8.036853081632653,8.109685285714285,8.182517489795918,8.255349693877552,8.328181897959183,8.401014102040817,8.47384630612245,8.546678510204082,8.619510714285713,8.692342918367347,8.76517512244898,8.838007326530612,8.910839530612245,8.983671734693878,9.05650393877551,9.129336142857143,9.202168346938777,9.275000551020408,9.34783275510204,9.420664959183673,9.493497163265307,9.566329367346938,9.639161571428572,9.711993775510205,9.784825979591837,9.85765818367347,9.930490387755102,10.003322591836735,10.076154795918367,10.148987],\"y\":[5.240603,5.308908131521768,5.3761523570532574,5.442335676594471,5.507458090145404,5.571519597706061,5.634520199276437,5.696459894856542,5.757338684446363,5.817156568045908,5.875913545655177,5.933609617274165,5.990244782902879,6.045819042541314,6.100332396189469,6.153784843847349,6.206176385514951,6.257507021192275,6.30777675087932,6.356985574576088,6.405133492282577,6.452220503998792,6.498246609724731,6.543211809460388,6.587116103205766,6.629959490960868,6.671741972725691,6.712463548500239,6.752124218284507,6.790723982078498,6.828262839882212,6.864740791695645,6.900157837518805,6.934513977351685,6.967809211194288,7.000043539046613,7.031216960908663,7.061329476780433,7.090381086661923,7.118371790553136,7.145301588454073,7.171170480364731,7.195978466285112,7.219725546215214,7.24241172015504,7.264036988104587,7.284601350063857,7.30410480603285,7.3225473560115635,7.339929],\"type\":\"scatter\"},{\"legendgroup\":\"group_0\",\"line\":{\"color\":\"#636EFA\"},\"mode\":\"lines\",\"showlegend\":false,\"x\":[6.545251,6.590218346938776,6.635185693877552,6.680153040816327,6.725120387755102,6.770087734693878,6.815055081632654,6.860022428571429,6.904989775510204,6.94995712244898,6.9949244693877555,7.039891816326531,7.084859163265307,7.129826510204082,7.174793857142857,7.2197612040816335,7.264728551020409,7.309695897959184,7.35466324489796,7.399630591836735,7.444597938775511,7.489565285714286,7.534532632653062,7.579499979591837,7.624467326530612,7.669434673469388,7.714402020408164,7.759369367346939,7.804336714285714,7.84930406122449,7.894271408163266,7.939238755102041,7.984206102040817,8.029173448979591,8.074140795918368,8.119108142857144,8.16407548979592,8.209042836734694,8.25401018367347,8.298977530612245,8.34394487755102,8.388912224489797,8.433879571428571,8.478846918367347,8.523814265306124,8.568781612244898,8.613748959183674,8.65871630612245,8.703683653061224,8.748651],\"y\":[5.359292999999997,5.404037960219906,5.448378507981673,5.492314643285297,5.535846366130778,5.5789736765181175,5.621696574447313,5.664015059918366,5.705929132931278,5.747438793486047,5.788544041582673,5.829244877221157,5.869541300401497,5.909433311123696,5.948920909387754,5.98800409519367,6.026682868541439,6.064957229431069,6.102827177862558,6.140292713835901,6.177353837351104,6.214010548408162,6.250262847007079,6.286110733147854,6.321554206830488,6.356593268054976,6.391227916821322,6.425458153129529,6.459283976979592,6.492705388371508,6.5257223873052865,6.558334973780923,6.590543147798417,6.622346909357766,6.653746258458977,6.684741195102042,6.715331719286965,6.7455178310137445,6.775299530282382,6.8046768170928775,6.833649691445231,6.862218153339445,6.890382202775509,6.918141839753433,6.945497064273219,6.972447876334858,6.998994275938358,7.025136263083715,7.050873837770929,7.076207],\"type\":\"scatter\"},{\"legendgroup\":\"group_0\",\"line\":{\"color\":\"#636EFA\"},\"mode\":\"lines\",\"showlegend\":false,\"x\":[4.624158,4.664469673469388,4.704781346938776,4.745093020408164,4.785404693877552,4.825716367346939,4.866028040816327,4.906339714285715,4.946651387755102,4.98696306122449,5.0272747346938775,5.067586408163265,5.107898081632653,5.148209755102041,5.188521428571429,5.2288331020408165,5.269144775510204,5.309456448979592,5.34976812244898,5.390079795918368,5.4303914693877555,5.470703142857143,5.511014816326531,5.551326489795919,5.591638163265307,5.6319498367346945,5.672261510204082,5.712573183673469,5.752884857142857,5.793196530612245,5.833508204081633,5.87381987755102,5.914131551020408,5.954443224489796,5.994754897959184,6.035066571428572,6.075378244897959,6.115689918367347,6.156001591836734,6.196313265306122,6.23662493877551,6.2769366122448975,6.317248285714285,6.357559959183673,6.397871632653061,6.438183306122449,6.4784949795918365,6.518806653061224,6.559118326530612,6.59943],\"y\":[5.371757999999999,5.371375475416544,5.370667944629508,5.36963540763889,5.3682778644446945,5.366595315046917,5.364587759445558,5.36225519764062,5.359597629632101,5.356615055420001,5.35330747500432,5.34967488838506,5.345717295562219,5.3414346965357975,5.3368270913057945,5.331894479872212,5.326636862235049,5.321054238394305,5.315146608349981,5.308913972102077,5.302356329650591,5.295473680995526,5.2882660261368795,5.280733365074653,5.272875697808845,5.264693024339458,5.2561853446664895,5.24735265878994,5.238194966709811,5.228712268426102,5.2189045639388105,5.20877185324794,5.198314136353489,5.187531413255457,5.1764236839538444,5.164990948448652,5.153233206739879,5.141150458827525,5.128742704711591,5.116009944392076,5.10295217786898,5.089569405142305,5.075861626212048,5.061828841078211,5.047471049740794,5.032788252199796,5.017780448455217,5.002447638507059,4.986789822355319,4.970806999999999],\"type\":\"scatter\"},{\"legendgroup\":\"group_0\",\"line\":{\"color\":\"#636EFA\"},\"mode\":\"lines\",\"showlegend\":false,\"x\":[6.580209,6.618549612244898,6.656890224489796,6.6952308367346935,6.733571448979592,6.77191206122449,6.810252673469388,6.848593285714286,6.886933897959183,6.925274510204082,6.96361512244898,7.001955734693878,7.040296346938776,7.078636959183673,7.1169775714285715,7.15531818367347,7.193658795918368,7.231999408163265,7.270340020408163,7.308680632653061,7.3470212448979595,7.385361857142858,7.423702469387756,7.462043081632653,7.500383693877551,7.538724306122449,7.5770649183673475,7.615405530612245,7.653746142857143,7.692086755102041,7.730427367346939,7.768767979591837,7.807108591836736,7.845449204081633,7.883789816326531,7.922130428571429,7.960471040816327,7.9988116530612245,8.037152265306123,8.07549287755102,8.113833489795919,8.152174102040817,8.190514714285715,8.228855326530613,8.267195938775512,8.305536551020408,8.343877163265306,8.382217775510204,8.420558387755102,8.458899],\"y\":[5.240603000000004,5.272040440798536,5.303183881087607,5.3340333208672135,5.364588760137362,5.394850198898045,5.424817637149264,5.454491074891022,5.4838705121233176,5.512955948846148,5.541747385059519,5.570244820763426,5.598448255957869,5.62635769064285,5.653973124818368,5.681294558484424,5.708321991641018,5.735055424288149,5.761494856425816,5.787640288054019,5.813491719172763,5.839049149782042,5.86431257988186,5.889282009472213,5.913957438553105,5.938338867124534,5.962426295186498,5.986219722739001,6.009719149782043,6.032924576315622,6.055836002339735,6.078453427854388,6.100776852859575,6.122806277355302,6.144541701341566,6.165983124818371,6.187130547785706,6.207983970243582,6.228543392191996,6.248808813630948,6.268780234560435,6.28845765498046,6.307841074891019,6.326930494292123,6.34572591318376,6.364227331565932,6.382434749438644,6.400348166801891,6.417967583655679,6.4352930000000015],\"type\":\"scatter\"},{\"legendgroup\":\"group_0\",\"line\":{\"color\":\"#636EFA\"},\"mode\":\"lines\",\"showlegend\":false,\"x\":[6.469964,6.4968134285714285,6.523662857142857,6.5505122857142855,6.577361714285714,6.604211142857143,6.631060571428572,6.65791,6.684759428571429,6.711608857142857,6.738458285714286,6.765307714285714,6.792157142857143,6.819006571428572,6.845856,6.872705428571429,6.899554857142857,6.926404285714286,6.953253714285714,6.980103142857143,7.006952571428571,7.033802,7.060651428571429,7.0875008571428575,7.114350285714286,7.141199714285714,7.168049142857143,7.194898571428571,7.221748,7.248597428571429,7.275446857142858,7.302296285714286,7.329145714285715,7.355995142857143,7.3828445714285715,7.409694,7.4365434285714285,7.463392857142857,7.490242285714286,7.517091714285715,7.543941142857143,7.570790571428572,7.59764,7.624489428571429,7.651338857142857,7.6781882857142865,7.705037714285714,7.731887142857143,7.758736571428572,7.785586],\"y\":[5.573704999999999,5.599583239893811,5.625317301424701,5.650907184592667,5.676352889397712,5.701654415839835,5.726811763919034,5.751824933635312,5.776693924988669,5.8014187379791,5.82599937260661,5.850435828871198,5.874728106772864,5.898876206311607,5.922880127487426,5.946739870300323,5.970455434750299,5.9940268208373535,6.017454028561485,6.040737057922691,6.063875908920977,6.08687058155634,6.109721075828782,6.1324273917382985,6.154989529284897,6.1774074884685675,6.1996812692893215,6.221810871747149,6.243796295842053,6.265637541574037,6.287334608943102,6.3088874979492395,6.330296208592458,6.351560740872749,6.372681094790119,6.393657270344569,6.414489267536094,6.4351770863647,6.455720726830382,6.476120188933141,6.496375472672977,6.516486578049893,6.536453505063882,6.556276253714955,6.5759548240031,6.595489215928325,6.614879429490628,6.634125464690008,6.653227321526462,6.672184999999999],\"type\":\"scatter\"},{\"legendgroup\":\"group_0\",\"line\":{\"color\":\"#636EFA\"},\"mode\":\"lines\",\"showlegend\":false,\"x\":[6.545251,6.575133081632654,6.605015163265307,6.634897244897959,6.664779326530613,6.694661408163266,6.724543489795919,6.7544255714285715,6.784307653061225,6.814189734693878,6.844071816326531,6.873953897959184,6.903835979591837,6.93371806122449,6.9636001428571435,6.993482224489796,7.023364306122449,7.053246387755102,7.083128469387756,7.113010551020408,7.142892632653061,7.172774714285715,7.202656795918368,7.23253887755102,7.2624209591836735,7.292303040816327,7.32218512244898,7.352067204081632,7.381949285714286,7.411831367346939,7.441713448979592,7.471595530612245,7.501477612244898,7.531359693877551,7.561241775510204,7.591123857142858,7.62100593877551,7.650888020408163,7.680770102040817,7.710652183673469,7.740534265306122,7.7704163469387755,7.800298428571429,7.830180510204082,7.860062591836734,7.889944673469388,7.919826755102041,7.949708836734693,7.979590918367347,8.009473],\"y\":[5.359292999999997,5.3865949429876565,5.413718298214773,5.440663065681349,5.467429245387384,5.494016837332879,5.520425841517834,5.546656257942253,5.572708086606127,5.598581327509464,5.624275980652257,5.649792046034513,5.67512952365623,5.700288413517406,5.725268715618039,5.750070429958134,5.774693556537692,5.799138095356705,5.823404046415179,5.847491409713113,5.871400185250508,5.895130373027364,5.918681973043677,5.94205498529945,5.965249409794687,5.988265246529377,6.011102495503533,6.033761156717146,6.056241230170221,6.078542715862753,6.100665613794746,6.122609923966198,6.14437564637711,6.165962781027485,6.187371327917319,6.20860128704661,6.229652658415361,6.2505254420235765,6.271219637871251,6.291735245958382,6.3120722662849715,6.332230698851026,6.35221054365654,6.372011800701509,6.3916344699859415,6.411078551509835,6.430344045273184,6.449430951275998,6.4683392695182675,6.487069],\"type\":\"scatter\"},{\"legendgroup\":\"group_0\",\"line\":{\"color\":\"#636EFA\"},\"mode\":\"lines\",\"showlegend\":false,\"x\":[6.247029,6.251286489795919,6.255543979591837,6.259801469387756,6.264058959183674,6.268316448979592,6.27257393877551,6.276831428571429,6.281088918367347,6.2853464081632655,6.289603897959184,6.293861387755102,6.298118877551021,6.302376367346939,6.306633857142858,6.310891346938775,6.315148836734694,6.319406326530612,6.323663816326531,6.327921306122449,6.3321787959183675,6.336436285714286,6.340693775510204,6.344951265306123,6.349208755102041,6.353466244897959,6.357723734693877,6.361981224489796,6.366238714285714,6.370496204081633,6.374753693877551,6.3790111836734695,6.383268673469388,6.387526163265306,6.391783653061225,6.396041142857142,6.400298632653061,6.404556122448979,6.408813612244898,6.413071102040816,6.417328591836735,6.421586081632653,6.4258435714285715,6.43010106122449,6.434358551020408,6.438616040816326,6.442873530612244,6.447131020408163,6.451388510204081,6.455646],\"y\":[6.3350539999999995,6.336341189526408,6.337624753808944,6.338904692847608,6.3401810066424,6.3414536951933185,6.342722758500363,6.343988196563538,6.3452500093828395,6.346508196958269,6.347762759289825,6.34901369637751,6.350261008221321,6.351504694821259,6.352744756177326,6.3539811922895195,6.355214003157842,6.35644318878229,6.357668749162867,6.358890684299571,6.360108994192403,6.361323678841362,6.362534738246449,6.3637421724076635,6.364945981325005,6.366146164998473,6.367342723428071,6.368535656613796,6.369724964555648,6.370910647253627,6.372092704707734,6.37327113691797,6.37444594388433,6.37561712560682,6.376784682085439,6.377948613320183,6.3791089193110535,6.3802656000580535,6.381418655561182,6.382568085820437,6.383713890835819,6.384856070607329,6.385994625134967,6.38712955441873,6.388260858458623,6.389388537254643,6.390512590806791,6.3916330191150665,6.392749822179468,6.393862999999999],\"type\":\"scatter\"},{\"legendgroup\":\"group_0\",\"line\":{\"color\":\"#636EFA\"},\"mode\":\"lines\",\"showlegend\":false,\"x\":[4.995216,5.02795506122449,5.06069412244898,5.093433183673469,5.126172244897959,5.158911306122449,5.191650367346939,5.2243894285714285,5.257128489795918,5.289867551020408,5.322606612244898,5.355345673469388,5.388084734693877,5.420823795918367,5.453562857142857,5.486301918367347,5.5190409795918365,5.551780040816326,5.584519102040816,5.617258163265307,5.6499972244897965,5.682736285714286,5.715475346938776,5.748214408163266,5.780953469387756,5.813692530612245,5.846431591836735,5.879170653061225,5.911909714285715,5.944648775510204,5.977387836734694,6.010126897959184,6.042865959183674,6.0756050204081635,6.108344081632653,6.141083142857143,6.173822204081633,6.206561265306123,6.239300326530612,6.272039387755102,6.304778448979592,6.337517510204082,6.3702565714285715,6.402995632653061,6.435734693877551,6.468473755102041,6.501212816326531,6.53395187755102,6.56669093877551,6.59943],\"y\":[5.392813,5.3893454940763945,5.385663618926815,5.381767374551264,5.3776567609497405,5.373331778122246,5.3687924260687785,5.364038704789339,5.359070614283928,5.353888154552544,5.348491325595187,5.342880127411858,5.337054560002558,5.3310146233672855,5.3247603175060405,5.318291642418824,5.311608598105635,5.304711184566473,5.297599401801341,5.290273249810234,5.282732728593156,5.274977838150106,5.267008578481083,5.2588249495860895,5.250426951465123,5.241814584118185,5.232987847545274,5.223946741746389,5.214691266721534,5.205221422470707,5.1955372089939065,5.185638626291135,5.175525674362392,5.165198353207675,5.154656662826987,5.143900603220326,5.132930174387693,5.1217453763290886,5.110346209044511,5.098732672533963,5.086904766797441,5.074862491834947,5.062605847646482,5.050134834232044,5.037449451591633,5.024549699725251,5.011435578632896,4.998107088314569,4.984564228770271,4.970807],\"type\":\"scatter\"},{\"legendgroup\":\"group_0\",\"line\":{\"color\":\"#636EFA\"},\"mode\":\"lines\",\"showlegend\":false,\"x\":[6.385996744976355,6.397847750180919,6.409698755385484,6.421549760590048,6.4334007657946115,6.4452517709991755,6.45710277620374,6.468953781408304,6.480804786612868,6.492655791817432,6.504506797021997,6.516357802226561,6.528208807431125,6.540059812635689,6.551910817840254,6.563761823044818,6.5756128282493815,6.5874638334539455,6.59931483865851,6.611165843863074,6.623016849067638,6.634867854272203,6.646718859476767,6.658569864681331,6.670420869885895,6.68227187509046,6.694122880295024,6.705973885499588,6.717824890704152,6.729675895908716,6.74152690111328,6.753377906317844,6.765228911522408,6.777079916726973,6.788930921931537,6.800781927136101,6.812632932340666,6.82448393754523,6.836334942749794,6.848185947954358,6.8600369531589225,6.871887958363486,6.88373896356805,6.895589968772614,6.907440973977179,6.919291979181743,6.931142984386307,6.942993989590871,6.954844994795436,6.966696],\"y\":[7.010335289111128,7.009446017404557,7.008528656433114,7.0075832061968,7.006609666695614,7.005608037929557,7.004578319898626,7.003520512602824,7.002434616042152,7.001320630216607,7.00017855512619,6.999008390770903,6.997810137150743,6.99658379426571,6.995329362115807,6.994046840701031,6.992736230021385,6.991397530076867,6.990030740867477,6.988635862393214,6.98721289465408,6.985761837650075,6.984282691381198,6.982775455847448,6.9812401310488275,6.9796767169853355,6.978085213656972,6.976465621063735,6.974817939205628,6.973142168082649,6.9714383076947986,6.9697063580420755,6.96794631912448,6.966158190942015,6.964341973494677,6.962497666782468,6.9606252708053855,6.958724785563433,6.956796211056608,6.954839547284912,6.952854794248343,6.950841951946903,6.948801020380592,6.946731999549408,6.9446348894533525,6.942509690092426,6.9403564014666275,6.938175023575958,6.935965556420416,6.933728000000001],\"type\":\"scatter\"},{\"legendgroup\":\"group_0\",\"line\":{\"color\":\"#636EFA\"},\"mode\":\"lines\",\"showlegend\":false,\"x\":[5.605154,5.618617612244898,5.632081224489796,5.645544836734694,5.659008448979591,5.672472061224489,5.6859356734693876,5.699399285714286,5.712862897959184,5.726326510204082,5.739790122448979,5.753253734693877,5.766717346938775,5.7801809591836735,5.793644571428572,5.80710818367347,5.820571795918367,5.834035408163265,5.847499020408163,5.860962632653061,5.874426244897959,5.8878898571428575,5.901353469387755,5.914817081632653,5.928280693877551,5.941744306122449,5.955207918367347,5.968671530612245,5.9821351428571425,5.995598755102041,6.009062367346939,6.022525979591837,6.035989591836735,6.049453204081633,6.06291681632653,6.0763804285714285,6.089844040816327,6.103307653061225,6.116771265306123,6.130234877551021,6.143698489795918,6.157162102040816,6.170625714285714,6.1840893265306125,6.197552938775511,6.211016551020409,6.224480163265307,6.237943775510204,6.251407387755102,6.264871],\"y\":[7.082501000000001,7.074724131318796,7.066911008866654,7.059061632643577,7.051176002649564,7.043254118884615,7.035295981348728,7.0273015900419065,7.019270944964148,7.011204046115454,7.003100893495824,6.9949614871052574,6.986785826943754,6.978573913011315,6.970325745307939,6.962041323833628,6.95372064858838,6.945363719572196,6.936970536785076,6.9285411002270205,6.920075409898027,6.9115734657980985,6.903035267927233,6.894460816285433,6.8858501108726955,6.877203151689022,6.868519938734412,6.859800472008867,6.851044751512385,6.842252777244967,6.833424549206612,6.8245600673973215,6.815659331817095,6.806722342465932,6.797749099343832,6.788739602450796,6.779693851786825,6.770611847351917,6.761493589146074,6.752339077169293,6.743148311421577,6.733921291902925,6.7246580186133365,6.715358491552811,6.706022710721349,6.696650676118953,6.687242387745618,6.677797845601349,6.668317049686143,6.658800000000001],\"type\":\"scatter\"},{\"legendgroup\":\"group_0\",\"line\":{\"color\":\"#636EFA\"},\"mode\":\"lines\",\"showlegend\":false,\"x\":[5.875989,5.8871898571428565,5.898390714285714,5.909591571428571,5.920792428571429,5.931993285714285,5.943194142857142,5.954395,5.965595857142857,5.976796714285714,5.987997571428571,5.999198428571428,6.010399285714286,6.021600142857142,6.032801,6.044001857142857,6.0552027142857145,6.066403571428571,6.077604428571428,6.088805285714286,6.100006142857143,6.111207,6.122407857142857,6.133608714285714,6.1448095714285715,6.156010428571428,6.167211285714286,6.178412142857143,6.189613,6.200813857142857,6.212014714285714,6.223215571428572,6.2344164285714285,6.245617285714285,6.256818142857143,6.268019,6.2792198571428575,6.290420714285714,6.301621571428571,6.312822428571429,6.3240232857142855,6.335224142857143,6.346425,6.357625857142858,6.3688267142857145,6.380027571428571,6.391228428571429,6.402429285714286,6.413630142857143,6.424831],\"y\":[7.641247999999999,7.630680326612506,7.6200875613848655,7.609469704317077,7.598826755409142,7.588158714661061,7.577465582072833,7.566747357644457,7.556004041375934,7.545235633267264,7.534442133318448,7.523623541529485,7.512779857900375,7.501911082431119,7.491017215121714,7.480098255972163,7.469154204982464,7.45818506215262,7.447190827482628,7.436171500972489,7.425127082622204,7.41405757243177,7.402962970401191,7.391843276530465,7.380698490819591,7.369528613268571,7.358333643877403,7.347113582646089,7.335868429574628,7.32459818466302,7.313302847911265,7.301982419319363,7.290636898887314,7.279266286615118,7.267870582502775,7.256449786550286,7.245003898757648,7.2335329191248645,7.2220368476519345,7.210515684338857,7.198969429185633,7.187398082192261,7.175801643358742,7.164180112685076,7.1525334901712645,7.1408617758173065,7.1291649696232,7.117443071588947,7.105696081714546,7.0939239999999995],\"type\":\"scatter\"},{\"legendgroup\":\"group_0\",\"line\":{\"color\":\"#636EFA\"},\"mode\":\"lines\",\"showlegend\":false,\"x\":[6.364440976843855,6.377591426296021,6.390741875748187,6.403892325200354,6.417042774652519,6.430193224104686,6.443343673556853,6.456494123009018,6.469644572461185,6.4827950219133506,6.495945471365517,6.509095920817684,6.522246370269849,6.535396819722016,6.548547269174182,6.561697718626348,6.574848168078514,6.587998617530681,6.601149066982847,6.614299516435013,6.6274499658871795,6.640600415339345,6.653750864791512,6.666901314243678,6.680051763695844,6.693202213148011,6.706352662600176,6.719503112052343,6.7326535615045096,6.745804010956675,6.758954460408842,6.7721049098610075,6.785255359313174,6.79840580876534,6.811556258217506,6.824706707669673,6.837857157121839,6.851007606574005,6.864158056026172,6.877308505478338,6.890458954930504,6.90360940438267,6.9167598538348365,6.929910303287002,6.943060752739169,6.956211202191335,6.969361651643501,6.982512101095668,6.995662550547833,7.008813],\"y\":[6.9630415347509675,6.96236452694484,6.961652932274555,6.960906750740111,6.9601259823415065,6.959310627078745,6.958460684951824,6.957576155960743,6.956657040105505,6.955703337386107,6.9547150478025515,6.953692171354837,6.952634708042963,6.951542657866931,6.950416020826738,6.949254796922388,6.948058986153881,6.946828588521211,6.945563604024385,6.944264032663401,6.942929874438257,6.941561129348954,6.940157797395492,6.938719878577872,6.937247372896092,6.935740280350154,6.934198600940056,6.9326223346658,6.931011481527386,6.929366041524813,6.92768601465808,6.925971400927191,6.924222200332141,6.922438412872932,6.920620038549565,6.918767077362039,6.9168795293103535,6.91495739439451,6.9130006726145075,6.911009363970346,6.908983468462026,6.906922986089547,6.904827916852909,6.902698260752114,6.900534017787157,6.898335187958043,6.896101771264772,6.89383376770734,6.891531177285749,6.889194],\"type\":\"scatter\"},{\"legendgroup\":\"group_0\",\"line\":{\"color\":\"#636EFA\"},\"mode\":\"lines\",\"showlegend\":false,\"x\":[6.769199,6.781365673469388,6.793532346938776,6.805699020408164,6.817865693877551,6.830032367346939,6.842199040816327,6.854365714285715,6.866532387755102,6.8786990612244905,6.890865734693878,6.9030324081632655,6.915199081632653,6.927365755102041,6.939532428571429,6.951699102040816,6.963865775510205,6.976032448979592,6.98819912244898,7.000365795918367,7.0125324693877555,7.024699142857143,7.0368658163265305,7.049032489795919,7.061199163265306,7.073365836734694,7.085532510204081,7.09769918367347,7.109865857142857,7.122032530612245,7.134199204081633,7.146365877551021,7.158532551020408,7.170699224489796,7.182865897959184,7.195032571428571,7.207199244897959,7.219365918367347,7.231532591836735,7.243699265306122,7.25586593877551,7.268032612244898,7.280199285714286,7.292365959183673,7.304532632653061,7.316699306122449,7.3288659795918365,7.341032653061224,7.353199326530612,7.365366],\"y\":[7.731097000000001,7.73070302392381,7.730279442258959,7.7298262550054435,7.729343462163267,7.728831063732429,7.7282890597129255,7.727717450104763,7.727116234907938,7.726485414122451,7.725824987748302,7.72513495578549,7.724415318234016,7.723666075093881,7.722887226365082,7.722078772047622,7.7212407121414985,7.720373046646714,7.719475775563268,7.718548898891159,7.717592416630389,7.716606328780956,7.715590635342861,7.714545336316103,7.713470431700684,7.712365921496602,7.711231805703859,7.710068084322451,7.708874757352383,7.707651824793654,7.706399286646262,7.705117142910207,7.70380539358549,7.702464038672112,7.70109307817007,7.699692512079367,7.698262340400001,7.696802563131975,7.695313180275285,7.693794191829934,7.69224559779592,7.690667398173245,7.6890595929619066,7.687422182161907,7.685755165773244,7.684058543795919,7.682332316229933,7.680576483075283,7.678791044331973,7.676976],\"type\":\"scatter\"},{\"legendgroup\":\"group_0\",\"line\":{\"color\":\"#636EFA\"},\"mode\":\"lines\",\"showlegend\":false,\"x\":[6.407423840596,6.408120680583837,6.408817520571673,6.40951436055951,6.410211200547346,6.410908040535183,6.41160488052302,6.412301720510857,6.412998560498694,6.413695400486531,6.414392240474367,6.415089080462204,6.41578592045004,6.416482760437877,6.4171796004257144,6.417876440413551,6.418573280401388,6.419270120389224,6.419966960377061,6.420663800364898,6.421360640352734,6.4220574803405714,6.422754320328408,6.423451160316245,6.424148000304082,6.424844840291918,6.425541680279755,6.426238520267592,6.426935360255428,6.4276322002432655,6.428329040231102,6.429025880218939,6.429722720206776,6.430419560194612,6.431116400182449,6.431813240170285,6.4325100801581225,6.43320692014596,6.433903760133796,6.434600600121633,6.435297440109469,6.435994280097306,6.436691120085143,6.4373879600729795,6.438084800060817,6.438781640048654,6.43947848003649,6.440175320024327,6.440872160012163,6.441569],\"y\":[7.056455996199448,7.056367061783537,7.056278030250433,7.056188901600135,7.056099675832643,7.056010352947957,7.055920932946077,7.055831415827004,7.055741801590738,7.055652090237277,7.0555622817666235,7.055472376178774,7.0553823734737335,7.055292273651498,7.055202076712068,7.055111782655446,7.055021391481629,7.054930903190619,7.054840317782414,7.054749635257017,7.054658855614425,7.0545679788546405,7.054477004977661,7.054385933983488,7.054294765872122,7.0542035006435615,7.054112138297809,7.054020678834861,7.0539291222547185,7.053837468557385,7.053745717742855,7.053653869811132,7.053561924762216,7.053469882596106,7.053377743312803,7.053285506912305,7.053193173394614,7.053100742759728,7.053008215007651,7.052915590138378,7.052822868151912,7.052730049048252,7.052637132827398,7.052544119489351,7.05245100903411,7.0523578014616755,7.052264496772048,7.052171094965224,7.052077596041209,7.051983999999998],\"type\":\"scatter\"},{\"legendgroup\":\"group_0\",\"line\":{\"color\":\"#636EFA\"},\"mode\":\"lines\",\"showlegend\":false,\"x\":[5.413654,5.434032367346939,5.4544107346938775,5.474789102040816,5.495167469387756,5.515545836734694,5.535924204081633,5.556302571428572,5.57668093877551,5.597059306122449,5.617437673469388,5.637816040816327,5.658194408163266,5.6785727755102045,5.698951142857143,5.719329510204082,5.73970787755102,5.760086244897959,5.780464612244899,5.800842979591837,5.821221346938776,5.841599714285715,5.861978081632653,5.882356448979592,5.9027348163265305,5.92311318367347,5.943491551020409,5.963869918367347,5.984248285714286,6.004626653061225,6.025005020408163,6.045383387755102,6.0657617551020415,6.08614012244898,6.106518489795919,6.1268968571428575,6.147275224489796,6.167653591836735,6.188031959183673,6.208410326530613,6.228788693877552,6.24916706122449,6.269545428571429,6.289923795918368,6.310302163265306,6.330680530612245,6.351058897959184,6.371437265306123,6.391815632653062,6.412194],\"y\":[5.675887999999999,5.6788041500340185,5.681637244496892,5.68438728338862,5.687054266709204,5.689638194458642,5.692139066636933,5.694556883244081,5.6968916442800825,5.699143349744939,5.70131199963865,5.703397593961215,5.705400132712635,5.70731961589291,5.709156043502039,5.710909415540025,5.712579732006862,5.714166992902557,5.7156711982271045,5.717092347980507,5.718430442162765,5.719685480773876,5.720857463813843,5.721946391282664,5.722952263180341,5.723875079506872,5.724714840262257,5.725471545446497,5.7261451950595905,5.72673578910154,5.727243327572344,5.727667810472003,5.728009237800515,5.728267609557884,5.728442925744105,5.728535186359182,5.7285443914031156,5.7284705408759,5.7283136347775425,5.728073673108037,5.727750655867387,5.727344583055592,5.726855454672652,5.726283270718566,5.7256280311933345,5.724889736096959,5.724068385429437,5.72316397919077,5.722176517380957,5.721105999999999],\"type\":\"scatter\"},{\"legendgroup\":\"group_0\",\"line\":{\"color\":\"#636EFA\"},\"mode\":\"lines\",\"showlegend\":false,\"x\":[5.399382,5.423872775510204,5.4483635510204085,5.472854326530612,5.497345102040817,5.521835877551021,5.546326653061224,5.570817428571429,5.595308204081633,5.619798979591836,5.644289755102041,5.668780530612245,5.693271306122449,5.717762081632653,5.742252857142857,5.7667436326530614,5.791234408163265,5.81572518367347,5.8402159591836735,5.864706734693877,5.889197510204082,5.913688285714286,5.93817906122449,5.962669836734694,5.987160612244898,6.011651387755102,6.036142163265306,6.060632938775511,6.085123714285714,6.109614489795918,6.134105265306123,6.1585960408163265,6.18308681632653,6.207577591836735,6.232068367346939,6.256559142857142,6.281049918367347,6.305540693877551,6.330031469387755,6.354522244897959,6.379013020408163,6.403503795918367,6.427994571428571,6.452485346938776,6.4769761224489795,6.501466897959183,6.525957673469388,6.5504484489795916,6.574939224489796,6.59943],\"y\":[5.241703000000001,5.23905354101252,5.236284122408021,5.233394744186504,5.230385406347969,5.227256108892416,5.224006851819844,5.220637635130254,5.217148458823646,5.2135393229000195,5.209810227359375,5.205961172201711,5.20199215742703,5.197903183035331,5.193694249026613,5.189365355400877,5.1849165021581225,5.180347689298351,5.17565891682156,5.170850184727751,5.165921493016924,5.160872841689079,5.155704230744215,5.150415660182333,5.1450071300034335,5.139478640207514,5.133830190794577,5.128061781764623,5.122173413117649,5.116165084853659,5.110036796972648,5.103788549474621,5.097420342359575,5.09093217562751,5.084324049278428,5.077595963312326,5.070747917729208,5.06377991252907,5.056691947711915,5.049484023277741,5.04215613922655,5.034708295558339,5.027140492273111,5.019452729370864,5.011645006851599,5.003717324715316,4.995669682962014,4.987502081591694,4.979214520604357,4.970807000000001],\"type\":\"scatter\"},{\"legendgroup\":\"group_0\",\"line\":{\"color\":\"#636EFA\"},\"mode\":\"lines\",\"showlegend\":false,\"x\":[6.990214812766288,6.9948173676077925,6.999419922449297,7.004022477290801,7.008625032132305,7.01322758697381,7.017830141815314,7.022432696656819,7.027035251498322,7.031637806339827,7.036240361181331,7.040842916022836,7.04544547086434,7.050048025705844,7.0546505805473485,7.059253135388853,7.0638556902303575,7.068458245071862,7.073060799913366,7.07766335475487,7.082265909596375,7.086868464437879,7.091471019279384,7.096073574120887,7.100676128962392,7.105278683803896,7.109881238645401,7.1144837934869045,7.119086348328409,7.1236889031699135,7.128291458011418,7.132894012852923,7.137496567694426,7.142099122535931,7.146701677377435,7.15130423221894,7.155906787060444,7.160509341901948,7.165111896743452,7.169714451584957,7.174317006426461,7.178919561267966,7.18352211610947,7.188124670950974,7.192727225792479,7.197329780633983,7.201932335475488,7.206534890316991,7.211137445158496,7.21574],\"y\":[8.767197083950242,8.767597518192144,8.767993715731834,8.768385676569306,8.768773400704568,8.769156888137614,8.769536138868446,8.769911152897066,8.770281930223472,8.770648470847664,8.77101077476964,8.771368841989405,8.771722672506955,8.77207226632229,8.772417623435413,8.772758743846323,8.773095627555017,8.773428274561498,8.773756684865765,8.77408085846782,8.774400795367658,8.774716495565283,8.775027959060697,8.775335185853896,8.77563817594488,8.77593692933365,8.776231446020205,8.77652172600455,8.77680776928668,8.777089575866595,8.777367145744297,8.777640478919784,8.777909575393057,8.778174435164118,8.778435058232965,8.778691444599596,8.778943594264016,8.77919150722622,8.77943518348621,8.779674623043988,8.779909825899551,8.7801407920529,8.780367521504036,8.780590014252958,8.780808270299667,8.781022289644161,8.781232072286443,8.781437618226509,8.78163892746436,8.781836],\"type\":\"scatter\"},{\"legendgroup\":\"group_0\",\"line\":{\"color\":\"#636EFA\"},\"mode\":\"lines\",\"showlegend\":false,\"x\":[6.537678,6.544504020408163,6.551330040816326,6.55815606122449,6.564982081632653,6.571808102040816,6.578634122448979,6.585460142857142,6.592286163265306,6.599112183673469,6.605938204081633,6.612764224489796,6.619590244897959,6.626416265306122,6.633242285714285,6.640068306122449,6.646894326530612,6.653720346938775,6.660546367346939,6.667372387755102,6.6741984081632655,6.681024428571428,6.687850448979591,6.694676469387755,6.701502489795918,6.7083285102040815,6.715154530612245,6.721980551020408,6.728806571428572,6.735632591836734,6.7424586122448975,6.749284632653061,6.756110653061224,6.762936673469388,6.769762693877551,6.776588714285714,6.783414734693878,6.79024075510204,6.797066775510204,6.803892795918367,6.81071881632653,6.817544836734694,6.824370857142857,6.831196877551021,6.838022897959184,6.844848918367347,6.85167493877551,6.858500959183673,6.865326979591837,6.872153],\"y\":[8.380589,8.376796184474387,8.37299405003785,8.36918259669039,8.365361824432007,8.361531733262703,8.357692323182476,8.353843594191328,8.349985546289254,8.34611817947626,8.342241493752343,8.338355489117504,8.334460165571741,8.330555523115056,8.32664156174745,8.32271828146892,8.318785682279469,8.314843764179091,8.310892527167795,8.306931971245575,8.302962096412433,8.298982902668367,8.294994390013382,8.290996558447471,8.286989407970637,8.282972938582883,8.278947150284203,8.274912043074604,8.270867616954082,8.266813871922636,8.26275080798027,8.25867842512698,8.254596723362766,8.250505702687631,8.246405363101573,8.242295704604594,8.23817672719669,8.234048430877865,8.229910815648116,8.225763881507447,8.221607628455853,8.217442056493336,8.213267165619898,8.209082955835537,8.204889427140255,8.200686579534048,8.196474413016922,8.192252927588871,8.188022123249898,8.183782],\"type\":\"scatter\"},{\"legendgroup\":\"group_0\",\"line\":{\"color\":\"#636EFA\"},\"mode\":\"lines\",\"showlegend\":false,\"x\":[6.286802,6.295543612244898,6.304285224489796,6.313026836734694,6.321768448979592,6.33051006122449,6.339251673469388,6.347993285714286,6.356734897959184,6.365476510204082,6.37421812244898,6.382959734693878,6.391701346938776,6.400442959183673,6.409184571428571,6.417926183673469,6.426667795918367,6.435409408163265,6.444151020408163,6.452892632653061,6.461634244897959,6.470375857142857,6.479117469387755,6.487859081632653,6.496600693877551,6.505342306122449,6.514083918367347,6.522825530612245,6.531567142857143,6.540308755102041,6.549050367346939,6.557791979591837,6.566533591836735,6.575275204081633,6.584016816326531,6.592758428571429,6.601500040816326,6.610241653061225,6.618983265306122,6.62772487755102,6.636466489795918,6.645208102040816,6.653949714285714,6.662691326530612,6.67143293877551,6.680174551020408,6.688916163265306,6.697657775510204,6.706399387755102,6.715141],\"y\":[8.043899,8.035760754949944,8.027607226742964,8.019438415379053,8.011254320858214,8.003054943180448,7.994840282345756,7.986610338354133,7.978365111205583,7.970104600900105,7.9618288074376995,7.953537730818365,7.945231371042103,7.936909728108914,7.928572802018795,7.920220592771749,7.911853100367774,7.9034703248068725,7.895072266089042,7.886658924214283,7.878230299182597,7.8697863909939825,7.86132719964844,7.8528527251459685,7.844362967486571,7.835857926670245,7.82733760269699,7.818801995566807,7.810251105279695,7.801684931835657,7.793103475234691,7.784506735476796,7.775894712561973,7.767267406490223,7.758624817261543,7.749966944875937,7.741293789333403,7.732605350633939,7.723901628777549,7.71518262376423,7.706448335593983,7.697698764266807,7.688933909782705,7.680153772141674,7.671358351343715,7.662547647388827,7.653721660277013,7.64488039000827,7.636023836582598,7.627151999999999],\"type\":\"scatter\"},{\"legendgroup\":\"group_0\",\"line\":{\"color\":\"#636EFA\"},\"mode\":\"lines\",\"showlegend\":false,\"x\":[6.667509337558057,6.677370126587484,6.687230915616912,6.697091704646339,6.706952493675766,6.716813282705194,6.726674071734621,6.736534860764049,6.7463956497934765,6.756256438822904,6.766117227852331,6.7759780168817585,6.785838805911186,6.795699594940613,6.8055603839700405,6.815421172999468,6.825281962028895,6.8351427510583225,6.84500354008775,6.854864329117178,6.864725118146605,6.874585907176033,6.88444669620546,6.894307485234887,6.904168274264315,6.914029063293742,6.923889852323169,6.933750641352597,6.943611430382024,6.953472219411451,6.963333008440879,6.973193797470307,6.983054586499734,6.9929153755291615,7.002776164558589,7.012636953588016,7.0224977426174435,7.032358531646871,7.042219320676298,7.0520801097057255,7.061940898735153,7.07180168776458,7.0816624767940075,7.091523265823435,7.101384054852863,7.11124484388229,7.121105632911718,7.130966421941145,7.140827210970572,7.150688],\"y\":[7.552924717732388,7.55069745226231,7.548450739760175,7.546184580225983,7.543898973659735,7.54159392006143,7.5392694194310685,7.53692547176865,7.534562077074175,7.532179235347644,7.529776946589055,7.527355210798412,7.5249140279757105,7.522453398120954,7.519973321234138,7.517473797315268,7.514954826364341,7.512416408381357,7.509858543366317,7.50728123131922,7.504684472240066,7.5020682661288545,7.499432612985588,7.496777512810265,7.4941029656028855,7.491408971363449,7.488695530091956,7.485962641788407,7.4832103064528,7.480438524085137,7.4776472946854184,7.474836618253642,7.4720064947898095,7.46915692429392,7.466287906765975,7.463399442205972,7.460491530613913,7.457564171989798,7.454617366333626,7.451651113645398,7.448665413925113,7.44566026717277,7.442635673388373,7.439591632571918,7.436528144723406,7.433445209842838,7.430342827930215,7.427220998985533,7.424079723008796,7.4209190000000005],\"type\":\"scatter\"},{\"legendgroup\":\"group_0\",\"line\":{\"color\":\"#636EFA\"},\"mode\":\"lines\",\"showlegend\":false,\"x\":[5.410469,5.434733510204081,5.458998020408163,5.483262530612245,5.507527040816327,5.531791551020408,5.556056061224489,5.5803205714285715,5.604585081632653,5.628849591836735,5.653114102040816,5.6773786122448975,5.70164312244898,5.725907632653061,5.750172142857143,5.774436653061224,5.7987011632653065,5.822965673469388,5.847230183673469,5.871494693877551,5.8957592040816325,5.920023714285714,5.944288224489796,5.968552734693877,5.992817244897959,6.017081755102041,6.041346265306123,6.065610775510204,6.089875285714285,6.114139795918367,6.138404306122449,6.162668816326531,6.186933326530612,6.211197836734693,6.2354623469387755,6.259726857142857,6.283991367346939,6.30825587755102,6.3325203877551015,6.356784897959184,6.381049408163265,6.405313918367347,6.429578428571428,6.4538429387755105,6.478107448979592,6.502371959183673,6.526636469387755,6.5509009795918365,6.575165489795918,6.59943],\"y\":[5.243088,5.240357323884091,5.237508894477092,5.234542711779005,5.231458775789829,5.228257086509563,5.22493764393821,5.221500448075767,5.217945498922236,5.214272796477616,5.2104823407419065,5.20657413171511,5.202548169397223,5.198404453788248,5.194142984888183,5.189763762697032,5.18526678721479,5.180652058441459,5.17591957637704,5.171069341021532,5.166101352374935,5.161015610437249,5.155812115208475,5.150490866688611,5.14505186487766,5.139495109775618,5.133820601382489,5.12802833969827,5.122118324722964,5.116090556456568,5.1099450348990825,5.103681760050509,5.097300731910845,5.090801950480095,5.084185415758255,5.077451127745326,5.070599086441309,5.063629291846202,5.0565417439600076,5.049336442782723,5.04201338831435,5.034572580554888,5.027014019504339,5.0193377051627,5.011543637529972,5.0036318166061555,4.995602242391249,4.987454914885255,4.979189834088172,4.970807],\"type\":\"scatter\"},{\"line\":{\"color\":\"orange\"},\"showlegend\":false,\"x\":[8.274069],\"y\":[6.720837],\"type\":\"scatter\"},{\"line\":{\"color\":\"orange\"},\"showlegend\":false,\"x\":[10.148987],\"y\":[7.339929],\"type\":\"scatter\"},{\"line\":{\"color\":\"orange\"},\"showlegend\":false,\"x\":[8.748651],\"y\":[7.076207],\"type\":\"scatter\"},{\"line\":{\"color\":\"orange\"},\"showlegend\":false,\"x\":[4.624158],\"y\":[5.371758],\"type\":\"scatter\"},{\"line\":{\"color\":\"orange\"},\"showlegend\":false,\"x\":[8.458899],\"y\":[6.435293],\"type\":\"scatter\"},{\"line\":{\"color\":\"orange\"},\"showlegend\":false,\"x\":[7.785586],\"y\":[6.672185],\"type\":\"scatter\"},{\"line\":{\"color\":\"orange\"},\"showlegend\":false,\"x\":[8.009473],\"y\":[6.487069],\"type\":\"scatter\"},{\"line\":{\"color\":\"orange\"},\"showlegend\":false,\"x\":[6.455646],\"y\":[6.393863],\"type\":\"scatter\"},{\"line\":{\"color\":\"orange\"},\"showlegend\":false,\"x\":[4.995216],\"y\":[5.392813],\"type\":\"scatter\"},{\"line\":{\"color\":\"orange\"},\"showlegend\":false,\"x\":[6.966696],\"y\":[6.933728],\"type\":\"scatter\"},{\"line\":{\"color\":\"orange\"},\"showlegend\":false,\"x\":[5.605154],\"y\":[7.082501],\"type\":\"scatter\"},{\"line\":{\"color\":\"orange\"},\"showlegend\":false,\"x\":[5.875989],\"y\":[7.641248],\"type\":\"scatter\"},{\"line\":{\"color\":\"orange\"},\"showlegend\":false,\"x\":[7.008813],\"y\":[6.889194],\"type\":\"scatter\"},{\"line\":{\"color\":\"orange\"},\"showlegend\":false,\"x\":[7.365366],\"y\":[7.676976],\"type\":\"scatter\"},{\"line\":{\"color\":\"orange\"},\"showlegend\":false,\"x\":[6.441569],\"y\":[7.051984],\"type\":\"scatter\"},{\"line\":{\"color\":\"orange\"},\"showlegend\":false,\"x\":[5.413654],\"y\":[5.675888],\"type\":\"scatter\"},{\"line\":{\"color\":\"orange\"},\"showlegend\":false,\"x\":[5.399382],\"y\":[5.241703],\"type\":\"scatter\"},{\"line\":{\"color\":\"orange\"},\"showlegend\":false,\"x\":[7.21574],\"y\":[8.781836],\"type\":\"scatter\"},{\"line\":{\"color\":\"orange\"},\"showlegend\":false,\"x\":[6.537678],\"y\":[8.380589],\"type\":\"scatter\"},{\"line\":{\"color\":\"orange\"},\"showlegend\":false,\"x\":[6.286802],\"y\":[8.043899],\"type\":\"scatter\"},{\"line\":{\"color\":\"orange\"},\"showlegend\":false,\"x\":[7.150688],\"y\":[7.420919],\"type\":\"scatter\"},{\"line\":{\"color\":\"orange\"},\"showlegend\":false,\"x\":[5.410469],\"y\":[5.243088],\"type\":\"scatter\"},{\"legendgroup\":\"group_1\",\"line\":{\"color\":\"#EF553B\"},\"mode\":\"lines\",\"name\":\"(0.1, 0.6)\",\"showlegend\":true,\"x\":[6.580209,6.614777571428571,6.6493461428571425,6.683914714285715,6.718483285714286,6.753051857142857,6.7876204285714286,6.822189,6.856757571428572,6.891326142857143,6.925894714285715,6.960463285714286,6.995031857142857,7.029600428571428,7.064169000000001,7.098737571428572,7.133306142857143,7.167874714285714,7.202443285714286,7.237011857142857,7.271580428571429,7.3061490000000004,7.340717571428572,7.375286142857143,7.409854714285714,7.4444232857142865,7.478991857142858,7.513560428571429,7.548129,7.582697571428572,7.617266142857144,7.651834714285715,7.686403285714286,7.720971857142858,7.755540428571429,7.790109000000001,7.824677571428572,7.859246142857144,7.893814714285715,7.928383285714286,7.962951857142858,7.99752042857143,8.032089000000001,8.066657571428571,8.101226142857143,8.135794714285716,8.170363285714286,8.204931857142858,8.239500428571429,8.274069],\"y\":[5.240603,5.265075923715919,5.28978784465796,5.314738762826123,5.339928678220409,5.365357590840817,5.3910255006873475,5.41693240776,5.443078312058777,5.4694632135836745,5.496087112334695,5.522950008311836,5.550051901515102,5.57739279194449,5.604972679600001,5.632791564481634,5.660849446589388,5.689146325923266,5.717682202483266,5.7464570762693885,5.775470947281634,5.804723815520001,5.8342156809844905,5.863946543675103,5.893916403591836,5.924125260734694,5.954573115103674,5.985259966698776,6.01618581552,6.047350661567347,6.078754504840818,6.1103973453404095,6.142279183066123,6.17440001801796,6.206759850195919,6.239358679600001,6.272196506230205,6.305273330086531,6.33858915116898,6.372143969477551,6.405937785012246,6.439970597773062,6.474242407760001,6.508753214973061,6.543503019412245,6.578491821077551,6.61371961996898,6.64918641608653,6.684892209430204,6.720837],\"type\":\"scatter\"},{\"legendgroup\":\"group_1\",\"line\":{\"color\":\"#EF553B\"},\"mode\":\"lines\",\"showlegend\":false,\"x\":[6.580209,6.6530412040816325,6.725873408163265,6.798705612244898,6.871537816326531,6.944370020408163,7.017202224489796,7.090034428571428,7.162866632653062,7.235698836734694,7.308531040816327,7.381363244897959,7.454195448979592,7.527027653061225,7.599859857142857,7.67269206122449,7.7455242653061225,7.818356469387755,7.891188673469388,7.96402087755102,8.036853081632653,8.109685285714285,8.182517489795918,8.255349693877552,8.328181897959183,8.401014102040817,8.47384630612245,8.546678510204082,8.619510714285713,8.692342918367347,8.76517512244898,8.838007326530612,8.910839530612245,8.983671734693878,9.05650393877551,9.129336142857143,9.202168346938777,9.275000551020408,9.34783275510204,9.420664959183673,9.493497163265307,9.566329367346938,9.639161571428572,9.711993775510205,9.784825979591837,9.85765818367347,9.930490387755102,10.003322591836735,10.076154795918367,10.148987],\"y\":[5.240603,5.257984643988437,5.276427193967152,5.295930649936144,5.316495011895414,5.338120279844961,5.360806453784788,5.38455353371489,5.409361519635271,5.43523041154593,5.462160209446866,5.490150913338081,5.519202523219571,5.54931503909134,5.580488460953387,5.612722788805712,5.646018022648316,5.680374162481196,5.7157912083043545,5.752269160117789,5.789808017921504,5.828407781715493,5.868068451499762,5.908790027274309,5.950572509039133,5.993415896794236,6.037320190539616,6.082285390275272,6.128311496001208,6.175398507717421,6.223546425423912,6.272755249120681,6.323024978807727,6.374355614485051,6.426747156152651,6.480199603810529,6.534712957458687,6.590287217097121,6.646922382725833,6.704618454344825,6.763375431954092,6.823193315553638,6.884072105143462,6.946011800723564,7.009012402293941,7.073073909854598,7.138196323405531,7.204379642946742,7.2716238684782315,7.339929],\"type\":\"scatter\"},{\"legendgroup\":\"group_1\",\"line\":{\"color\":\"#EF553B\"},\"mode\":\"lines\",\"showlegend\":false,\"x\":[6.580209,6.624462918367347,6.668716836734694,6.712970755102041,6.757224673469388,6.801478591836735,6.845732510204082,6.8899864285714285,6.9342403469387754,6.978494265306122,7.022748183673469,7.067002102040816,7.111256020408163,7.15550993877551,7.199763857142857,7.244017775510204,7.288271693877551,7.332525612244898,7.376779530612245,7.421033448979593,7.465287367346939,7.5095412857142865,7.5537952040816325,7.59804912244898,7.642303040816326,7.686556959183674,7.73081087755102,7.775064795918368,7.819318714285715,7.863572632653062,7.907826551020409,7.952080469387756,7.996334387755103,8.04058830612245,8.084842224489796,8.129096142857144,8.17335006122449,8.217603979591837,8.261857897959185,8.306111816326531,8.350365734693877,8.394619653061225,8.438873571428573,8.483127489795919,8.527381408163265,8.571635326530613,8.61588924489796,8.660143163265307,8.704397081632653,8.748651],\"y\":[5.240603000000001,5.268663941526305,5.29711656491078,5.325960870153428,5.355196857254249,5.384824526213244,5.4148438770304095,5.445254909705748,5.476057624239261,5.507252020630945,5.538838098880803,5.5708158589888335,5.603185300955037,5.635946424779412,5.66909923046196,5.702643718002682,5.736579887401576,5.770907738658643,5.805627271773882,5.840738486747296,5.87624138357888,5.912135962268639,5.9484222228165695,5.985100165222673,6.022169789486949,6.059631095609398,6.097484083590019,6.135728753428814,6.174365105125782,6.213393138680922,6.252812854094234,6.292624251365719,6.332827330495379,6.373422091483209,6.414408534329212,6.455786659033389,6.497556465595737,6.539717954016261,6.582271124294957,6.625215976431823,6.6685525104268635,6.712280726280076,6.756400623991464,6.800912203561022,6.845815464988752,6.891110408274656,6.936797033418735,6.982875340420984,7.029345329281405,7.076207000000001],\"type\":\"scatter\"},{\"legendgroup\":\"group_1\",\"line\":{\"color\":\"#EF553B\"},\"mode\":\"lines\",\"showlegend\":false,\"x\":[4.624158,4.664469673469388,4.704781346938776,4.745093020408164,4.785404693877552,4.825716367346939,4.866028040816327,4.906339714285715,4.946651387755102,4.98696306122449,5.0272747346938775,5.067586408163265,5.107898081632653,5.148209755102041,5.188521428571429,5.2288331020408165,5.269144775510204,5.309456448979592,5.34976812244898,5.390079795918368,5.4303914693877555,5.470703142857143,5.511014816326531,5.551326489795919,5.591638163265307,5.6319498367346945,5.672261510204082,5.712573183673469,5.752884857142857,5.793196530612245,5.833508204081633,5.87381987755102,5.914131551020408,5.954443224489796,5.994754897959184,6.035066571428572,6.075378244897959,6.115689918367347,6.156001591836734,6.196313265306122,6.23662493877551,6.2769366122448975,6.317248285714285,6.357559959183673,6.397871632653061,6.438183306122449,6.4784949795918365,6.518806653061224,6.559118326530612,6.59943],\"y\":[5.371758000000001,5.355775177644681,5.340117361492942,5.3247845515447825,5.309776747800203,5.295093950259206,5.280736158921788,5.266703373787951,5.252995594857695,5.239612822131019,5.226555055607924,5.213822295288409,5.201414541172475,5.18933179326012,5.177574051551348,5.166141316046154,5.155033586744542,5.14425086364651,5.133793146752058,5.123660436061188,5.113852731573898,5.104370033290188,5.095212341210059,5.086379655333509,5.077871975660542,5.069689302191153,5.061831634925348,5.05429897386312,5.047091319004474,5.040208670349408,5.033651027897923,5.027418391650018,5.021510761605693,5.01592813776495,5.010670520127787,5.005737908694205,5.001130303464203,4.996847704437781,4.9928901116149405,4.989257524995679,4.985949944579998,4.9829673703678985,4.980309802359379,4.977977240554442,4.975969684953083,4.974287135555305,4.972929592361108,4.971897055370491,4.9711895245834565,4.970807000000001],\"type\":\"scatter\"},{\"legendgroup\":\"group_1\",\"line\":{\"color\":\"#EF553B\"},\"mode\":\"lines\",\"showlegend\":false,\"x\":[6.580209,6.618549612244898,6.656890224489796,6.6952308367346935,6.733571448979592,6.77191206122449,6.810252673469388,6.848593285714286,6.886933897959183,6.925274510204082,6.96361512244898,7.001955734693878,7.040296346938776,7.078636959183673,7.1169775714285715,7.15531818367347,7.193658795918368,7.231999408163265,7.270340020408163,7.308680632653061,7.3470212448979595,7.385361857142858,7.423702469387756,7.462043081632653,7.500383693877551,7.538724306122449,7.5770649183673475,7.615405530612245,7.653746142857143,7.692086755102041,7.730427367346939,7.768767979591837,7.807108591836736,7.845449204081633,7.883789816326531,7.922130428571429,7.960471040816327,7.9988116530612245,8.037152265306123,8.07549287755102,8.113833489795919,8.152174102040817,8.190514714285715,8.228855326530613,8.267195938775512,8.305536551020408,8.343877163265306,8.382217775510204,8.420558387755102,8.458899],\"y\":[5.240602999999999,5.257928416344323,5.275547833198109,5.293461250561358,5.311668668434069,5.330170086816243,5.34896550570788,5.3680549251089795,5.387438345019541,5.407115765439567,5.427087186369055,5.447352607808005,5.467912029756418,5.4887654522142935,5.509912875181633,5.531354298658434,5.553089722644698,5.575119147140425,5.597442572145614,5.620059997660267,5.642971423684381,5.666176850217959,5.6896762772609994,5.713469704813503,5.737557132875469,5.761938561446898,5.786613990527788,5.811583420118142,5.836846850217959,5.8624042808272385,5.88825571194598,5.914401143574186,5.940840575711854,5.967574008358983,5.994601441515576,6.021922875181632,6.0495383093571515,6.077447744042132,6.105651179236577,6.134148614940482,6.162940051153852,6.192025487876685,6.22140492510898,6.251078362850737,6.281045801101958,6.31130723986264,6.3418626791327855,6.372712118912394,6.403855559201465,6.435292999999999],\"type\":\"scatter\"},{\"legendgroup\":\"group_1\",\"line\":{\"color\":\"#EF553B\"},\"mode\":\"lines\",\"showlegend\":false,\"x\":[6.469964,6.4968134285714285,6.523662857142857,6.5505122857142855,6.577361714285714,6.604211142857143,6.631060571428572,6.65791,6.684759428571429,6.711608857142857,6.738458285714286,6.765307714285714,6.792157142857143,6.819006571428572,6.845856,6.872705428571429,6.899554857142857,6.926404285714286,6.953253714285714,6.980103142857143,7.006952571428571,7.033802,7.060651428571429,7.0875008571428575,7.114350285714286,7.141199714285714,7.168049142857143,7.194898571428571,7.221748,7.248597428571429,7.275446857142858,7.302296285714286,7.329145714285715,7.355995142857143,7.3828445714285715,7.409694,7.4365434285714285,7.463392857142857,7.490242285714286,7.517091714285715,7.543941142857143,7.570790571428572,7.59764,7.624489428571429,7.651338857142857,7.6781882857142865,7.705037714285714,7.731887142857143,7.758736571428572,7.785586],\"y\":[5.5737049999999995,5.592662678473534,5.611764535309993,5.631010570509371,5.650400784071673,5.669935175996898,5.689613746285045,5.709436494936114,5.7294034219501055,5.749514527327019,5.7697698110668565,5.790169273169616,5.810712913635297,5.8314007324639014,5.852232729655428,5.873208905209878,5.8943292591272485,5.9155937914075425,5.937002502050758,5.958555391056898,5.980252458425959,6.002093704157942,6.024079128252849,6.046208730710678,6.068482511531428,6.090900470715102,6.113462608261697,6.136168924171216,6.159019418443657,6.1820140910790204,6.205152942077306,6.228435971438514,6.251863179162644,6.2754345652496974,6.299150129699672,6.3230098725125705,6.347013793688392,6.371161893227134,6.3954541711288,6.419890627393388,6.444471262020897,6.46919607501133,6.494065066364684,6.519078236080962,6.5442355841601625,6.569537110602286,6.594982815407329,6.620572698575297,6.646306760106187,6.672185],\"type\":\"scatter\"},{\"legendgroup\":\"group_1\",\"line\":{\"color\":\"#EF553B\"},\"mode\":\"lines\",\"showlegend\":false,\"x\":[6.580209,6.609377653061224,6.638546306122449,6.667714959183673,6.696883612244898,6.726052265306122,6.755220918367347,6.784389571428571,6.813558224489796,6.84272687755102,6.871895530612245,6.901064183673469,6.930232836734694,6.959401489795918,6.988570142857143,7.017738795918367,7.046907448979592,7.076076102040816,7.10524475510204,7.134413408163265,7.163582061224489,7.192750714285714,7.221919367346938,7.251088020408163,7.280256673469387,7.309425326530612,7.3385939795918365,7.367762632653061,7.3969312857142855,7.4260999387755104,7.4552685918367345,7.4844372448979595,7.5136058979591835,7.542774551020408,7.571943204081633,7.6011118571428575,7.630280510204082,7.659449163265306,7.688617816326531,7.717786469387755,7.74695512244898,7.776123775510204,7.805292428571429,7.834461081632653,7.863629734693877,7.892798387755102,7.921967040816327,7.951135693877551,7.980304346938775,8.009473],\"y\":[5.240603,5.261957192089904,5.28348154624409,5.3051760624625555,5.3270407407453035,5.349075581092331,5.371280583503642,5.393655747979233,5.416201074519106,5.43891656312326,5.461802213791693,5.484858026524409,5.508084001321407,5.531480138182686,5.555046437108246,5.578782898098086,5.602689521152208,5.626766306270612,5.651013253453296,5.675430362700262,5.700017634011509,5.7247750673870375,5.749702662826846,5.774800420330937,5.800068339899308,5.825506421531963,5.851114665228897,5.876893070990112,5.902841638815609,5.928960368705387,5.955249260659446,5.981708314677786,6.008337530760407,6.03513690890731,6.062106449118494,6.08924615139396,6.116556015733706,6.144036042137733,6.171686230606043,6.199506581138632,6.227497093735504,6.255657768396656,6.28398860512209,6.312489603911805,6.341160764765801,6.370002087684078,6.399013572666638,6.428195219713477,6.457547028824598,6.487069],\"type\":\"scatter\"},{\"legendgroup\":\"group_1\",\"line\":{\"color\":\"#EF553B\"},\"mode\":\"lines\",\"showlegend\":false,\"x\":[6.255685,6.259765836734694,6.263846673469388,6.267927510204081,6.272008346938775,6.276089183673469,6.280170020408163,6.284250857142857,6.28833169387755,6.2924125306122445,6.2964933673469385,6.300574204081633,6.304655040816327,6.30873587755102,6.312816714285714,6.316897551020408,6.320978387755102,6.325059224489796,6.329140061224489,6.333220897959183,6.337301734693877,6.341382571428571,6.3454634081632655,6.349544244897959,6.353625081632653,6.357705918367347,6.361786755102041,6.365867591836734,6.369948428571428,6.374029265306122,6.378110102040816,6.38219093877551,6.386271775510203,6.3903526122448975,6.3944334489795915,6.398514285714286,6.40259512244898,6.406675959183673,6.410756795918367,6.414837632653061,6.418918469387755,6.422999306122449,6.427080142857142,6.431160979591836,6.43524181632653,6.439322653061224,6.4434034897959185,6.447484326530612,6.451565163265306,6.455646],\"y\":[6.248068,6.2509634726666805,6.253862275979052,6.256764409937114,6.259669874540867,6.262578669790312,6.265490795685447,6.268406252226274,6.27132503941279,6.274247157245,6.2771726057229,6.28010138484649,6.283033494615772,6.285968935030745,6.288907706091408,6.291849807797764,6.294795240149809,6.297744003147546,6.300696096790973,6.303651521080093,6.306610276014903,6.309572361595404,6.312537777821596,6.315506524693479,6.318478602211053,6.321454010374319,6.324432749183275,6.327414818637922,6.330400218738261,6.33338894948429,6.336381010876011,6.339376402913423,6.342375125596526,6.345377178925318,6.348382562899804,6.35139127751998,6.354403322785846,6.357418698697403,6.360437405254652,6.363459442457593,6.366484810306224,6.369513508800546,6.3725455379405584,6.3755808977262625,6.378619588157658,6.381661609234745,6.384706960957522,6.38775564332599,6.390807656340149,6.393863],\"type\":\"scatter\"},{\"legendgroup\":\"group_1\",\"line\":{\"color\":\"#EF553B\"},\"mode\":\"lines\",\"showlegend\":false,\"x\":[4.995216,5.02795506122449,5.06069412244898,5.093433183673469,5.126172244897959,5.158911306122449,5.191650367346939,5.2243894285714285,5.257128489795918,5.289867551020408,5.322606612244898,5.355345673469388,5.388084734693877,5.420823795918367,5.453562857142857,5.486301918367347,5.5190409795918365,5.551780040816326,5.584519102040816,5.617258163265307,5.6499972244897965,5.682736285714286,5.715475346938776,5.748214408163266,5.780953469387756,5.813692530612245,5.846431591836735,5.879170653061225,5.911909714285715,5.944648775510204,5.977387836734694,6.010126897959184,6.042865959183674,6.0756050204081635,6.108344081632653,6.141083142857143,6.173822204081633,6.206561265306123,6.239300326530612,6.272039387755102,6.304778448979592,6.337517510204082,6.3702565714285715,6.402995632653061,6.435734693877551,6.468473755102041,6.501212816326531,6.53395187755102,6.56669093877551,6.59943],\"y\":[5.392813,5.37905577122973,5.36551291168543,5.352184421367104,5.3390703002747495,5.326170548408367,5.313485165767957,5.3010141523535195,5.2887575081650535,5.276715233202559,5.264887327466038,5.253273790955489,5.2418746236709115,5.230689825612306,5.219719396779674,5.208963337173014,5.198421646792325,5.188094325637609,5.177981373708866,5.168082791006093,5.158398577529294,5.148928733278465,5.139673258253611,5.130632152454727,5.121805415881815,5.113193048534876,5.104795050413911,5.096611421518917,5.088642161849894,5.080887271406844,5.073346750189767,5.06602059819866,5.058908815433526,5.052011401894365,5.045328357581177,5.038859682493959,5.032605376632715,5.026565439997442,5.020739872588142,5.015128674404812,5.009731845447456,5.004549385716073,4.999581295210661,4.994827573931221,4.990288221877754,4.9859632390502595,4.981852625448737,4.977956381073185,4.974274505923606,4.970807000000001],\"type\":\"scatter\"},{\"legendgroup\":\"group_1\",\"line\":{\"color\":\"#EF553B\"},\"mode\":\"lines\",\"showlegend\":false,\"x\":[6.353344955211787,6.365862323472771,6.3783796917337545,6.390897059994739,6.403414428255723,6.415931796516706,6.428449164777691,6.440966533038674,6.453483901299658,6.466001269560643,6.478518637821626,6.49103600608261,6.5035533743435945,6.516070742604578,6.528588110865562,6.541105479126546,6.55362284738753,6.566140215648514,6.578657583909497,6.591174952170482,6.603692320431466,6.616209688692449,6.628727056953434,6.641244425214418,6.653761793475401,6.6662791617363855,6.678796529997369,6.691313898258353,6.703831266519337,6.716348634780321,6.728866003041305,6.741383371302289,6.753900739563273,6.766418107824257,6.778935476085241,6.7914528443462245,6.803970212607209,6.816487580868192,6.829004949129176,6.841522317390161,6.854039685651144,6.866557053912128,6.879074422173113,6.891591790434096,6.90410915869508,6.916626526956064,6.929143895217048,6.941661263478032,6.9541786317390155,6.966696],\"y\":[6.938040362095127,6.937200269066162,6.936391512938833,6.935614093713139,6.9348680113890815,6.9341532659666605,6.933469857445876,6.932817785826727,6.932197051109214,6.93160765329334,6.931049592379101,6.930522868366496,6.930027481255529,6.929563431046198,6.929130717738502,6.928729341332446,6.928359301828022,6.928020599225237,6.927713233524086,6.927437204724572,6.927192512826694,6.926979157830453,6.926797139735847,6.92664645854288,6.926527114251545,6.92643910686185,6.92638243637379,6.926357102787365,6.926363106102577,6.926400446319426,6.92646912343791,6.926569137458032,6.926700488379788,6.926863176203182,6.9270572009282105,6.927282562554876,6.927539261083178,6.927827296513117,6.92814666884469,6.9284973780779024,6.928879424212747,6.929292807249232,6.929737527187351,6.930213584027106,6.930720977768497,6.931259708411525,6.931829775956189,6.9324311804024905,6.933063921750426,6.9337279999999994],\"type\":\"scatter\"},{\"legendgroup\":\"group_1\",\"line\":{\"color\":\"#EF553B\"},\"mode\":\"lines\",\"showlegend\":false,\"x\":[5.605154,5.618617612244898,5.632081224489796,5.645544836734694,5.659008448979591,5.672472061224489,5.6859356734693876,5.699399285714286,5.712862897959184,5.726326510204082,5.739790122448979,5.753253734693877,5.766717346938775,5.7801809591836735,5.793644571428572,5.80710818367347,5.820571795918367,5.834035408163265,5.847499020408163,5.860962632653061,5.874426244897959,5.8878898571428575,5.901353469387755,5.914817081632653,5.928280693877551,5.941744306122449,5.955207918367347,5.968671530612245,5.9821351428571425,5.995598755102041,6.009062367346939,6.022525979591837,6.035989591836735,6.049453204081633,6.06291681632653,6.0763804285714285,6.089844040816327,6.103307653061225,6.116771265306123,6.130234877551021,6.143698489795918,6.157162102040816,6.170625714285714,6.1840893265306125,6.197552938775511,6.211016551020409,6.224480163265307,6.237943775510204,6.251407387755102,6.264871],\"y\":[7.082500999999999,7.072983950313857,7.063503154398651,7.054058612254382,7.044650323881048,7.035278289278651,7.025942508447189,7.016642981386665,7.007379708097076,6.998152688578423,6.988961922830708,6.979807410853926,6.970689152648083,6.961607148213174,6.9525613975492035,6.943551900656168,6.934578657534068,6.925641668182907,6.9167409326026785,6.907876450793388,6.899048222755033,6.890256248487615,6.881500527991134,6.872781061265588,6.864097848310978,6.8554508891273045,6.846840183714567,6.838265732072767,6.8297275342019015,6.821225590101973,6.8127598997729795,6.804330463214924,6.795937280427802,6.78758035141162,6.779259676166372,6.770975254692061,6.762727086988686,6.754515173056246,6.7463395128947425,6.738200106504177,6.730096953884546,6.722030055035852,6.713999409958093,6.706005018651272,6.698046881115385,6.690124997350436,6.682239367356423,6.674389991133346,6.666576868681204,6.658799999999999],\"type\":\"scatter\"},{\"legendgroup\":\"group_1\",\"line\":{\"color\":\"#EF553B\"},\"mode\":\"lines\",\"showlegend\":false,\"x\":[5.875989,5.8871898571428565,5.898390714285714,5.909591571428571,5.920792428571429,5.931993285714285,5.943194142857142,5.954395,5.965595857142857,5.976796714285714,5.987997571428571,5.999198428571428,6.010399285714286,6.021600142857142,6.032801,6.044001857142857,6.0552027142857145,6.066403571428571,6.077604428571428,6.088805285714286,6.100006142857143,6.111207,6.122407857142857,6.133608714285714,6.1448095714285715,6.156010428571428,6.167211285714286,6.178412142857143,6.189613,6.200813857142857,6.212014714285714,6.223215571428572,6.2344164285714285,6.245617285714285,6.256818142857143,6.268019,6.2792198571428575,6.290420714285714,6.301621571428571,6.312822428571429,6.3240232857142855,6.335224142857143,6.346425,6.357625857142858,6.3688267142857145,6.380027571428571,6.391228428571429,6.402429285714286,6.413630142857143,6.424831],\"y\":[7.641248000000001,7.629475918285452,7.617728928411051,7.6060070303768,7.594310224182692,7.582638509828733,7.570991887314921,7.5593703566412564,7.5477739178077385,7.536202570814366,7.524656315661144,7.513135152348065,7.501639080875133,7.49016810124235,7.478722213449712,7.467301417497223,7.45590571338488,7.444535101112685,7.4331895806806365,7.421869152088734,7.41057381533698,7.399303570425371,7.388058417353909,7.376838356122596,7.365643386731428,7.3544735091804085,7.343328723469533,7.332209029598808,7.321114427568229,7.310044917377795,7.29900049902751,7.2879811725173695,7.2769869378473775,7.266017795017534,7.255073744027836,7.244154784878285,7.233260917568881,7.222392142099624,7.211548458470514,7.2007298666815505,7.189936366732734,7.179167958624063,7.168424642355543,7.157706417927166,7.147013285338938,7.136345244590856,7.12570229568292,7.115084438615133,7.104491673387493,7.093923999999998],\"type\":\"scatter\"},{\"legendgroup\":\"group_1\",\"line\":{\"color\":\"#EF553B\"},\"mode\":\"lines\",\"showlegend\":false,\"x\":[6.3058831181606605,6.3202286259533,6.33457413374594,6.348919641538579,6.363265149331219,6.377610657123858,6.391956164916498,6.406301672709137,6.420647180501777,6.434992688294416,6.449338196087056,6.4636837038796955,6.478029211672336,6.4923747194649755,6.506720227257615,6.5210657350502546,6.535411242842894,6.549756750635534,6.564102258428173,6.578447766220813,6.592793274013452,6.607138781806092,6.621484289598731,6.635829797391371,6.6501753051840105,6.66452081297665,6.6788663207692895,6.693211828561929,6.707557336354569,6.721902844147208,6.736248351939848,6.750593859732487,6.764939367525127,6.779284875317766,6.793630383110406,6.8079758909030454,6.822321398695685,6.836666906488325,6.851012414280964,6.8653579220736045,6.879703429866244,6.894048937658884,6.908394445451523,6.922739953244163,6.937085461036802,6.951430968829442,6.965776476622081,6.980121984414721,6.99446749220736,7.008813],\"y\":[6.803087838773316,6.803857298119402,6.804667916184253,6.805519692967869,6.806412628470252,6.8073467226914,6.808321975631314,6.809338387289993,6.810395957667439,6.81149468676365,6.8126345745786265,6.81381562111237,6.815037826364878,6.816301190336152,6.817605713026191,6.818951394434998,6.820338234562569,6.821766233408906,6.823235390974009,6.824745707257876,6.826297182260512,6.827889815981911,6.829523608422076,6.831198559581008,6.832914669458706,6.834671938055169,6.836470365370397,6.838309951404391,6.84019069615715,6.8421125996286785,6.8440756618189695,6.846079882728026,6.848125262355849,6.8502118007024375,6.852339497767793,6.854508353551913,6.856718368054799,6.858969541276451,6.8612618732168675,6.863595363876051,6.8659700132540005,6.8683858213507145,6.870842788166195,6.873340913700442,6.875880197953454,6.878460640925232,6.881082242615774,6.883745003025083,6.88644892215316,6.889194],\"type\":\"scatter\"},{\"legendgroup\":\"group_1\",\"line\":{\"color\":\"#EF553B\"},\"mode\":\"lines\",\"showlegend\":false,\"x\":[6.762738142687051,6.7750366703873155,6.78733519808758,6.799633725787844,6.811932253488108,6.824230781188373,6.836529308888637,6.848827836588901,6.861126364289166,6.87342489198943,6.885723419689694,6.898021947389958,6.910320475090222,6.922619002790486,6.93491753049075,6.947216058191015,6.959514585891279,6.971813113591543,6.984111641291808,6.996410168992072,7.008708696692336,7.0210072243926005,7.033305752092865,7.045604279793129,7.057902807493393,7.070201335193658,7.082499862893922,7.094798390594186,7.107096918294451,7.119395445994715,7.131693973694979,7.143992501395243,7.156291029095508,7.168589556795772,7.180888084496036,7.193186612196301,7.205485139896565,7.217783667596828,7.230082195297093,7.242380722997357,7.254679250697621,7.2669777783978855,7.27927630609815,7.291574833798414,7.303873361498678,7.316171889198943,7.328470416899207,7.340768944599471,7.353067472299736,7.365366],\"y\":[7.718673791346434,7.71709679785158,7.7155500551134475,7.714033563132031,7.712547321907335,7.711091331439357,7.7096655917281,7.708270102773561,7.706904864575739,7.7055698771346375,7.704265140450253,7.70299065452259,7.701746419351643,7.700532434937418,7.699348701279909,7.69819521837912,7.697071986235049,7.695979004847699,7.694916274217068,7.693883794343153,7.692881565225958,7.691909586865481,7.690967859261725,7.690056382414685,7.689175156324366,7.688324180990767,7.687503456413884,7.686712982593722,7.685952759530276,7.685222787223552,7.684523065673544,7.683853594880257,7.68321437484369,7.682605405563838,7.6820266870407075,7.681478219274295,7.680960002264602,7.6804720360116265,7.6800143205153715,7.679586855775834,7.679189641793016,7.678822678566915,7.6784859660975355,7.678179504384874,7.6779032934289315,7.677657333229707,7.677441623787201,7.677256165101416,7.677100957172348,7.676976],\"type\":\"scatter\"},{\"legendgroup\":\"group_1\",\"line\":{\"color\":\"#EF553B\"},\"mode\":\"lines\",\"showlegend\":false,\"x\":[6.405735908758155,6.406467196334519,6.407198483910883,6.407929771487248,6.408661059063611,6.409392346639976,6.41012363421634,6.410854921792704,6.4115862093690685,6.412317496945433,6.413048784521797,6.413780072098161,6.414511359674525,6.415242647250889,6.415973934827254,6.416705222403618,6.417436509979982,6.418167797556346,6.41889908513271,6.419630372709075,6.4203616602854385,6.421092947861803,6.421824235438167,6.422555523014531,6.423286810590896,6.424018098167259,6.424749385743624,6.4254806733199885,6.426211960896352,6.426943248472717,6.42767453604908,6.428405823625445,6.429137111201809,6.429868398778173,6.430599686354538,6.431330973930901,6.432062261507266,6.43279354908363,6.433524836659994,6.4342561242363585,6.434987411812722,6.435718699389087,6.436449986965451,6.437181274541815,6.437912562118179,6.438643849694544,6.439375137270908,6.440106424847272,6.440837712423636,6.441569],\"y\":[7.052822810850388,7.052803125310311,7.0527835467265385,7.05276407509907,7.0527447104279055,7.052725452713045,7.052706301954489,7.052687258152234,7.052668321306285,7.05264949141664,7.0526307684833,7.05261215250626,7.052593643485527,7.052575241421097,7.052556946312972,7.052538758161149,7.0525206769656315,7.052502702726417,7.052484835443507,7.0524670751169,7.052449421746597,7.052431875332598,7.052414435874904,7.052397103373512,7.052379877828426,7.052362759239641,7.052345747607163,7.052328842930987,7.052312045211116,7.052295354447548,7.052278770640283,7.0522622937893225,7.052245923894667,7.052229660956315,7.052213504974266,7.05219745594852,7.052181513879081,7.0521656787659435,7.052149950609111,7.05213432940858,7.052118815164356,7.052103407876435,7.052088107544817,7.052072914169503,7.052057827750493,7.052042848287787,7.052027975781385,7.052013210231287,7.051998551637492,7.051984000000002],\"type\":\"scatter\"},{\"legendgroup\":\"group_1\",\"line\":{\"color\":\"#EF553B\"},\"mode\":\"lines\",\"showlegend\":false,\"x\":[5.413654,5.435211346938775,5.456768693877551,5.478326040816326,5.499883387755102,5.521440734693877,5.542998081632653,5.5645554285714285,5.5861127755102045,5.6076701224489796,5.6292274693877555,5.650784816326531,5.672342163265307,5.693899510204082,5.715456857142858,5.737014204081633,5.758571551020408,5.780128897959184,5.801686244897959,5.823243591836735,5.84480093877551,5.866358285714286,5.887915632653061,5.909472979591837,5.931030326530612,5.952587673469388,5.974145020408163,5.995702367346939,6.017259714285714,6.03881706122449,6.060374408163265,6.08193175510204,6.103489102040816,6.125046448979592,6.1466037959183675,6.168161142857143,6.1897184897959185,6.211275836734694,6.23283318367347,6.254390530612245,6.275947877551021,6.297505224489796,6.319062571428572,6.340619918367347,6.362177265306123,6.383734612244898,6.405291959183673,6.426849306122449,6.448406653061225,6.469964],\"y\":[5.6758880000000005,5.671571980459277,5.66734890475996,5.6632187729020504,5.659181584885548,5.655237340710455,5.651386040376769,5.647627683884491,5.643962271233621,5.640389802424158,5.636910277456103,5.633523696329455,5.630230059044216,5.627029365600384,5.62392161599796,5.620906810236944,5.617984948317336,5.6151560302391355,5.6124200560023425,5.609777025606957,5.60722693905298,5.60476979634041,5.602405597469248,5.6001343424394925,5.597956031251146,5.595870663904208,5.593878240398677,5.591978760734554,5.590172224911838,5.58845863293053,5.58683798479063,5.585310280492138,5.583875520035054,5.582533703419376,5.5812848306451075,5.580128901712247,5.5790659166207925,5.578095875370747,5.577218777962109,5.57643462439488,5.575743414669056,5.5751451487846415,5.574639826741635,5.574227448540034,5.5739080141798425,5.57368152366106,5.573547976983683,5.573507374147715,5.573559715153155,5.573705000000002],\"type\":\"scatter\"},{\"legendgroup\":\"group_1\",\"line\":{\"color\":\"#EF553B\"},\"mode\":\"lines\",\"showlegend\":false,\"x\":[5.399382,5.423872775510204,5.4483635510204085,5.472854326530612,5.497345102040817,5.521835877551021,5.546326653061224,5.570817428571429,5.595308204081633,5.619798979591836,5.644289755102041,5.668780530612245,5.693271306122449,5.717762081632653,5.742252857142857,5.7667436326530614,5.791234408163265,5.81572518367347,5.8402159591836735,5.864706734693877,5.889197510204082,5.913688285714286,5.93817906122449,5.962669836734694,5.987160612244898,6.011651387755102,6.036142163265306,6.060632938775511,6.085123714285714,6.109614489795918,6.134105265306123,6.1585960408163265,6.18308681632653,6.207577591836735,6.232068367346939,6.256559142857142,6.281049918367347,6.305540693877551,6.330031469387755,6.354522244897959,6.379013020408163,6.403503795918367,6.427994571428571,6.452485346938776,6.4769761224489795,6.501466897959183,6.525957673469388,6.5504484489795916,6.574939224489796,6.59943],\"y\":[5.241703000000001,5.233295479395645,5.225007918408307,5.216840317037987,5.208792675284686,5.200864993148402,5.193057270629137,5.185369507726891,5.177801704441662,5.170353860773451,5.16302597672226,5.155818052288087,5.148730087470929,5.141762082270795,5.134914036687674,5.128185950721573,5.121577824372492,5.115089657640427,5.10872145052538,5.102473203027351,5.096344915146343,5.090336586882351,5.084448218235378,5.078679809205424,5.073031359792488,5.067502869996567,5.062094339817669,5.056805769255786,5.051637158310923,5.046588506983078,5.041659815272251,5.0368510831784405,5.03216231070165,5.027593497841878,5.023144644599124,5.018815750973388,5.014606816964671,5.0105178425729715,5.006548827798291,5.002699772640628,4.998970677099982,4.995361541176355,4.991872364869748,4.988503148180157,4.985253891107585,4.982124593652033,4.979115255813497,4.97622587759198,4.9734564589874815,4.970807000000001],\"type\":\"scatter\"},{\"legendgroup\":\"group_1\",\"line\":{\"color\":\"#EF553B\"},\"mode\":\"lines\",\"showlegend\":false,\"x\":[6.983968405463916,6.988698438005469,6.9934284705470215,6.998158503088574,7.0028885356301265,7.007618568171679,7.012348600713232,7.017078633254785,7.021808665796338,7.02653869833789,7.031268730879443,7.035998763420996,7.040728795962549,7.045458828504102,7.050188861045654,7.054918893587207,7.05964892612876,7.0643789586703125,7.069108991211865,7.073839023753418,7.07856905629497,7.083299088836523,7.088029121378076,7.092759153919629,7.097489186461182,7.102219219002734,7.106949251544287,7.11167928408584,7.116409316627393,7.121139349168946,7.125869381710498,7.130599414252051,7.1353294467936035,7.140059479335156,7.144789511876709,7.149519544418262,7.154249576959814,7.158979609501367,7.16370964204292,7.168439674584473,7.173169707126026,7.177899739667578,7.182629772209131,7.187359804750684,7.192089837292237,7.1968198698337895,7.201549902375342,7.2062799349168944,7.211009967458447,7.21574],\"y\":[8.741652856396206,8.742365529153732,8.74308267655283,8.743804298593496,8.74453039527573,8.745260966599531,8.745996012564902,8.746735533171844,8.747479528420353,8.74822799831043,8.748980942842078,8.749738362015295,8.75050025583008,8.751266624286433,8.752037467384355,8.752812785123846,8.753592577504907,8.754376844527535,8.755165586191731,8.7559588024975,8.756756493444836,8.757558659033739,8.758365299264211,8.759176414136252,8.759992003649863,8.760812067805043,8.76163660660179,8.762465620040109,8.763299108119995,8.76413707084145,8.764979508204473,8.765826420209066,8.766677806855228,8.767533668142956,8.768394004072256,8.769258814643123,8.770128099855562,8.771001859709568,8.771880094205141,8.772762803342282,8.773649987120994,8.774541645541277,8.775437778603127,8.776338386306543,8.77724346865153,8.778153025638087,8.779067057266213,8.779985563535906,8.780908544447168,8.781836],\"type\":\"scatter\"},{\"legendgroup\":\"group_1\",\"line\":{\"color\":\"#EF553B\"},\"mode\":\"lines\",\"showlegend\":false,\"x\":[6.537678,6.544504020408163,6.551330040816326,6.55815606122449,6.564982081632653,6.571808102040816,6.578634122448979,6.585460142857142,6.592286163265306,6.599112183673469,6.605938204081633,6.612764224489796,6.619590244897959,6.626416265306122,6.633242285714285,6.640068306122449,6.646894326530612,6.653720346938775,6.660546367346939,6.667372387755102,6.6741984081632655,6.681024428571428,6.687850448979591,6.694676469387755,6.701502489795918,6.7083285102040815,6.715154530612245,6.721980551020408,6.728806571428572,6.735632591836734,6.7424586122448975,6.749284632653061,6.756110653061224,6.762936673469388,6.769762693877551,6.776588714285714,6.783414734693878,6.79024075510204,6.797066775510204,6.803892795918367,6.81071881632653,6.817544836734694,6.824370857142857,6.831196877551021,6.838022897959184,6.844848918367347,6.85167493877551,6.858500959183673,6.865326979591837,6.872153],\"y\":[8.380589,8.376348876750107,8.372118072411133,8.367896586983083,8.363684420465953,8.359481572859748,8.355288044164464,8.351103834380103,8.346928943506665,8.342763371544148,8.338607118492556,8.334460184351887,8.330322569122139,8.326194272803313,8.322075295395411,8.317965636898428,8.313865297312372,8.309774276637235,8.305692574873023,8.301620192019731,8.297557128077365,8.29350338304592,8.289458956925397,8.285423849715798,8.28139806141712,8.277381592029364,8.273374441552532,8.269376609986622,8.265388097331634,8.261408903587569,8.257439028754426,8.253478472832207,8.24952723582091,8.245585317720534,8.241652718531082,8.237729438252552,8.233815476884946,8.22991083442826,8.226015510882497,8.222129506247658,8.218252820523743,8.214385453710747,8.210527405808676,8.206678676817525,8.2028392667373,8.199009175567994,8.195188403309611,8.191376949962152,8.187574815525615,8.183782],\"type\":\"scatter\"},{\"legendgroup\":\"group_1\",\"line\":{\"color\":\"#EF553B\"},\"mode\":\"lines\",\"showlegend\":false,\"x\":[6.286802,6.293796367346938,6.300790734693877,6.307785102040816,6.314779469387755,6.321773836734693,6.328768204081633,6.335762571428571,6.34275693877551,6.349751306122449,6.356745673469388,6.363740040816326,6.3707344081632655,6.377728775510204,6.384723142857143,6.3917175102040815,6.398711877551021,6.405706244897959,6.4127006122448975,6.419694979591837,6.426689346938775,6.433683714285714,6.440678081632653,6.447672448979592,6.45466681632653,6.46166118367347,6.468655551020408,6.475649918367347,6.482644285714286,6.489638653061225,6.496633020408163,6.5036273877551025,6.510621755102041,6.517616122448979,6.5246104897959185,6.531604857142857,6.538599224489796,6.5455935918367345,6.552587959183674,6.559582326530612,6.566576693877551,6.57357106122449,6.580565428571429,6.587559795918367,6.594554163265307,6.601548530612245,6.608542897959184,6.615537265306123,6.622531632653062,6.629526],\"y\":[8.043899,8.032436300810978,8.02098338585687,8.00954025513768,7.998106908653405,7.98668334640405,7.9752695683896135,7.9638655746100895,7.952471365065483,7.941086939755795,7.92971229868102,7.918347441841169,7.906992369236228,7.895647080866208,7.8843115767311005,7.872985856830912,7.8616699211656424,7.850363769735289,7.83906740253985,7.827780819579328,7.816504020853724,7.8052370063630345,7.793979776107264,7.782732330086411,7.771494668300475,7.760266790749453,7.749048697433349,7.737840388352165,7.726641863505895,7.715453122894541,7.704274166518104,7.693104994376583,7.681945606469981,7.670796002798294,7.659656183361527,7.648526148159675,7.637405897192735,7.6262954304607184,7.615194747963617,7.604103849701431,7.593022735674161,7.58195140588181,7.570889860324375,7.559838099001855,7.548796121914256,7.5377639290615726,7.526741520443803,7.515728896060953,7.5047260559130144,7.493732999999999],\"type\":\"scatter\"},{\"legendgroup\":\"group_1\",\"line\":{\"color\":\"#EF553B\"},\"mode\":\"lines\",\"showlegend\":false,\"x\":[6.613331922318475,6.624298372883405,6.635264823448334,6.646231274013263,6.657197724578192,6.66816417514312,6.67913062570805,6.690097076272979,6.701063526837908,6.712029977402837,6.722996427967766,6.7339628785326955,6.744929329097625,6.755895779662553,6.766862230227482,6.777828680792411,6.7887951313573405,6.79976158192227,6.810728032487199,6.821694483052128,6.832660933617057,6.8436273841819855,6.854593834746915,6.865560285311844,6.876526735876773,6.887493186441702,6.898459637006631,6.9094260875715605,6.92039253813649,6.931358988701418,6.942325439266347,6.953291889831276,6.9642583403962055,6.975224790961135,6.986191241526064,6.997157692090993,7.008124142655922,7.0190905932208505,7.03005704378578,7.041023494350709,7.051989944915638,7.062956395480567,7.073922846045496,7.0848892966104255,7.095855747175355,7.106822197740283,7.117788648305212,7.128755098870141,7.1397215494350705,7.150688],\"y\":[7.46333088057461,7.461888069409087,7.460469310851166,7.459074604900841,7.457703951558114,7.456357350822986,7.455034802695457,7.453736307175526,7.452461864263197,7.4512114739584625,7.449985136261328,7.448782851171791,7.447604618689856,7.446450438815518,7.445320311548778,7.444214236889636,7.4431322148380925,7.44207424539415,7.441040328557803,7.440030464329056,7.439044652707907,7.438082893694358,7.437145187288408,7.436231533490055,7.435341932299301,7.434476383716145,7.43363488774059,7.432817444372631,7.432024053612271,7.431254715459511,7.430509429914348,7.429788196976786,7.4290910166468205,7.428417888924454,7.427768813809685,7.427143791302518,7.426542821402946,7.425965904110974,7.4254130394266005,7.424884227349825,7.424379467880648,7.423898761019073,7.423442106765092,7.423009505118712,7.42260095607993,7.422216459648747,7.421856015825164,7.421519624609177,7.42120728600079,7.4209190000000005],\"type\":\"scatter\"},{\"legendgroup\":\"group_1\",\"line\":{\"color\":\"#EF553B\"},\"mode\":\"lines\",\"showlegend\":false,\"x\":[5.410469,5.434733510204081,5.458998020408163,5.483262530612245,5.507527040816327,5.531791551020408,5.556056061224489,5.5803205714285715,5.604585081632653,5.628849591836735,5.653114102040816,5.6773786122448975,5.70164312244898,5.725907632653061,5.750172142857143,5.774436653061224,5.7987011632653065,5.822965673469388,5.847230183673469,5.871494693877551,5.8957592040816325,5.920023714285714,5.944288224489796,5.968552734693877,5.992817244897959,6.017081755102041,6.041346265306123,6.065610775510204,6.089875285714285,6.114139795918367,6.138404306122449,6.162668816326531,6.186933326530612,6.211197836734693,6.2354623469387755,6.259726857142857,6.283991367346939,6.30825587755102,6.3325203877551015,6.356784897959184,6.381049408163265,6.405313918367347,6.429578428571428,6.4538429387755105,6.478107448979592,6.502371959183673,6.526636469387755,6.5509009795918365,6.575165489795918,6.59943],\"y\":[5.243087999999999,5.234705165911827,5.226440085114744,5.21829275760875,5.210263183393845,5.2023513624700275,5.1945572948373,5.18688098049566,5.179322419445111,5.17188161168565,5.164558557217276,5.157353256039993,5.150265708153796,5.14329591355869,5.136443872254674,5.129709584241743,5.123093049519904,5.116594268089154,5.11021323994949,5.103949965100917,5.097804443543431,5.091776675277036,5.085866660301729,5.08007439861751,5.074399890224381,5.068843135122341,5.063404133311389,5.058082884791524,5.052879389562751,5.047793647625063,5.042825658978469,5.03797542362296,5.033242941558541,5.02862821278521,5.024131237302969,5.019752015111815,5.015490546211751,5.0113468306027755,5.007320868284889,5.0034126592580925,4.9996222035223825,4.995949501077763,4.9923945519242325,4.988957356061788,4.985637913490436,4.982436224210171,4.979352288220994,4.9763861055229075,4.9735376761159085,4.970806999999999],\"type\":\"scatter\"}],                        {\"template\":{\"data\":{\"histogram2dcontour\":[{\"type\":\"histogram2dcontour\",\"colorbar\":{\"outlinewidth\":0,\"ticks\":\"\"},\"colorscale\":[[0.0,\"#0d0887\"],[0.1111111111111111,\"#46039f\"],[0.2222222222222222,\"#7201a8\"],[0.3333333333333333,\"#9c179e\"],[0.4444444444444444,\"#bd3786\"],[0.5555555555555556,\"#d8576b\"],[0.6666666666666666,\"#ed7953\"],[0.7777777777777778,\"#fb9f3a\"],[0.8888888888888888,\"#fdca26\"],[1.0,\"#f0f921\"]]}],\"choropleth\":[{\"type\":\"choropleth\",\"colorbar\":{\"outlinewidth\":0,\"ticks\":\"\"}}],\"histogram2d\":[{\"type\":\"histogram2d\",\"colorbar\":{\"outlinewidth\":0,\"ticks\":\"\"},\"colorscale\":[[0.0,\"#0d0887\"],[0.1111111111111111,\"#46039f\"],[0.2222222222222222,\"#7201a8\"],[0.3333333333333333,\"#9c179e\"],[0.4444444444444444,\"#bd3786\"],[0.5555555555555556,\"#d8576b\"],[0.6666666666666666,\"#ed7953\"],[0.7777777777777778,\"#fb9f3a\"],[0.8888888888888888,\"#fdca26\"],[1.0,\"#f0f921\"]]}],\"heatmap\":[{\"type\":\"heatmap\",\"colorbar\":{\"outlinewidth\":0,\"ticks\":\"\"},\"colorscale\":[[0.0,\"#0d0887\"],[0.1111111111111111,\"#46039f\"],[0.2222222222222222,\"#7201a8\"],[0.3333333333333333,\"#9c179e\"],[0.4444444444444444,\"#bd3786\"],[0.5555555555555556,\"#d8576b\"],[0.6666666666666666,\"#ed7953\"],[0.7777777777777778,\"#fb9f3a\"],[0.8888888888888888,\"#fdca26\"],[1.0,\"#f0f921\"]]}],\"heatmapgl\":[{\"type\":\"heatmapgl\",\"colorbar\":{\"outlinewidth\":0,\"ticks\":\"\"},\"colorscale\":[[0.0,\"#0d0887\"],[0.1111111111111111,\"#46039f\"],[0.2222222222222222,\"#7201a8\"],[0.3333333333333333,\"#9c179e\"],[0.4444444444444444,\"#bd3786\"],[0.5555555555555556,\"#d8576b\"],[0.6666666666666666,\"#ed7953\"],[0.7777777777777778,\"#fb9f3a\"],[0.8888888888888888,\"#fdca26\"],[1.0,\"#f0f921\"]]}],\"contourcarpet\":[{\"type\":\"contourcarpet\",\"colorbar\":{\"outlinewidth\":0,\"ticks\":\"\"}}],\"contour\":[{\"type\":\"contour\",\"colorbar\":{\"outlinewidth\":0,\"ticks\":\"\"},\"colorscale\":[[0.0,\"#0d0887\"],[0.1111111111111111,\"#46039f\"],[0.2222222222222222,\"#7201a8\"],[0.3333333333333333,\"#9c179e\"],[0.4444444444444444,\"#bd3786\"],[0.5555555555555556,\"#d8576b\"],[0.6666666666666666,\"#ed7953\"],[0.7777777777777778,\"#fb9f3a\"],[0.8888888888888888,\"#fdca26\"],[1.0,\"#f0f921\"]]}],\"surface\":[{\"type\":\"surface\",\"colorbar\":{\"outlinewidth\":0,\"ticks\":\"\"},\"colorscale\":[[0.0,\"#0d0887\"],[0.1111111111111111,\"#46039f\"],[0.2222222222222222,\"#7201a8\"],[0.3333333333333333,\"#9c179e\"],[0.4444444444444444,\"#bd3786\"],[0.5555555555555556,\"#d8576b\"],[0.6666666666666666,\"#ed7953\"],[0.7777777777777778,\"#fb9f3a\"],[0.8888888888888888,\"#fdca26\"],[1.0,\"#f0f921\"]]}],\"mesh3d\":[{\"type\":\"mesh3d\",\"colorbar\":{\"outlinewidth\":0,\"ticks\":\"\"}}],\"scatter\":[{\"fillpattern\":{\"fillmode\":\"overlay\",\"size\":10,\"solidity\":0.2},\"type\":\"scatter\"}],\"parcoords\":[{\"type\":\"parcoords\",\"line\":{\"colorbar\":{\"outlinewidth\":0,\"ticks\":\"\"}}}],\"scatterpolargl\":[{\"type\":\"scatterpolargl\",\"marker\":{\"colorbar\":{\"outlinewidth\":0,\"ticks\":\"\"}}}],\"bar\":[{\"error_x\":{\"color\":\"#2a3f5f\"},\"error_y\":{\"color\":\"#2a3f5f\"},\"marker\":{\"line\":{\"color\":\"#E5ECF6\",\"width\":0.5},\"pattern\":{\"fillmode\":\"overlay\",\"size\":10,\"solidity\":0.2}},\"type\":\"bar\"}],\"scattergeo\":[{\"type\":\"scattergeo\",\"marker\":{\"colorbar\":{\"outlinewidth\":0,\"ticks\":\"\"}}}],\"scatterpolar\":[{\"type\":\"scatterpolar\",\"marker\":{\"colorbar\":{\"outlinewidth\":0,\"ticks\":\"\"}}}],\"histogram\":[{\"marker\":{\"pattern\":{\"fillmode\":\"overlay\",\"size\":10,\"solidity\":0.2}},\"type\":\"histogram\"}],\"scattergl\":[{\"type\":\"scattergl\",\"marker\":{\"colorbar\":{\"outlinewidth\":0,\"ticks\":\"\"}}}],\"scatter3d\":[{\"type\":\"scatter3d\",\"line\":{\"colorbar\":{\"outlinewidth\":0,\"ticks\":\"\"}},\"marker\":{\"colorbar\":{\"outlinewidth\":0,\"ticks\":\"\"}}}],\"scattermapbox\":[{\"type\":\"scattermapbox\",\"marker\":{\"colorbar\":{\"outlinewidth\":0,\"ticks\":\"\"}}}],\"scatterternary\":[{\"type\":\"scatterternary\",\"marker\":{\"colorbar\":{\"outlinewidth\":0,\"ticks\":\"\"}}}],\"scattercarpet\":[{\"type\":\"scattercarpet\",\"marker\":{\"colorbar\":{\"outlinewidth\":0,\"ticks\":\"\"}}}],\"carpet\":[{\"aaxis\":{\"endlinecolor\":\"#2a3f5f\",\"gridcolor\":\"white\",\"linecolor\":\"white\",\"minorgridcolor\":\"white\",\"startlinecolor\":\"#2a3f5f\"},\"baxis\":{\"endlinecolor\":\"#2a3f5f\",\"gridcolor\":\"white\",\"linecolor\":\"white\",\"minorgridcolor\":\"white\",\"startlinecolor\":\"#2a3f5f\"},\"type\":\"carpet\"}],\"table\":[{\"cells\":{\"fill\":{\"color\":\"#EBF0F8\"},\"line\":{\"color\":\"white\"}},\"header\":{\"fill\":{\"color\":\"#C8D4E3\"},\"line\":{\"color\":\"white\"}},\"type\":\"table\"}],\"barpolar\":[{\"marker\":{\"line\":{\"color\":\"#E5ECF6\",\"width\":0.5},\"pattern\":{\"fillmode\":\"overlay\",\"size\":10,\"solidity\":0.2}},\"type\":\"barpolar\"}],\"pie\":[{\"automargin\":true,\"type\":\"pie\"}]},\"layout\":{\"autotypenumbers\":\"strict\",\"colorway\":[\"#636efa\",\"#EF553B\",\"#00cc96\",\"#ab63fa\",\"#FFA15A\",\"#19d3f3\",\"#FF6692\",\"#B6E880\",\"#FF97FF\",\"#FECB52\"],\"font\":{\"color\":\"#2a3f5f\"},\"hovermode\":\"closest\",\"hoverlabel\":{\"align\":\"left\"},\"paper_bgcolor\":\"white\",\"plot_bgcolor\":\"#E5ECF6\",\"polar\":{\"bgcolor\":\"#E5ECF6\",\"angularaxis\":{\"gridcolor\":\"white\",\"linecolor\":\"white\",\"ticks\":\"\"},\"radialaxis\":{\"gridcolor\":\"white\",\"linecolor\":\"white\",\"ticks\":\"\"}},\"ternary\":{\"bgcolor\":\"#E5ECF6\",\"aaxis\":{\"gridcolor\":\"white\",\"linecolor\":\"white\",\"ticks\":\"\"},\"baxis\":{\"gridcolor\":\"white\",\"linecolor\":\"white\",\"ticks\":\"\"},\"caxis\":{\"gridcolor\":\"white\",\"linecolor\":\"white\",\"ticks\":\"\"}},\"coloraxis\":{\"colorbar\":{\"outlinewidth\":0,\"ticks\":\"\"}},\"colorscale\":{\"sequential\":[[0.0,\"#0d0887\"],[0.1111111111111111,\"#46039f\"],[0.2222222222222222,\"#7201a8\"],[0.3333333333333333,\"#9c179e\"],[0.4444444444444444,\"#bd3786\"],[0.5555555555555556,\"#d8576b\"],[0.6666666666666666,\"#ed7953\"],[0.7777777777777778,\"#fb9f3a\"],[0.8888888888888888,\"#fdca26\"],[1.0,\"#f0f921\"]],\"sequentialminus\":[[0.0,\"#0d0887\"],[0.1111111111111111,\"#46039f\"],[0.2222222222222222,\"#7201a8\"],[0.3333333333333333,\"#9c179e\"],[0.4444444444444444,\"#bd3786\"],[0.5555555555555556,\"#d8576b\"],[0.6666666666666666,\"#ed7953\"],[0.7777777777777778,\"#fb9f3a\"],[0.8888888888888888,\"#fdca26\"],[1.0,\"#f0f921\"]],\"diverging\":[[0,\"#8e0152\"],[0.1,\"#c51b7d\"],[0.2,\"#de77ae\"],[0.3,\"#f1b6da\"],[0.4,\"#fde0ef\"],[0.5,\"#f7f7f7\"],[0.6,\"#e6f5d0\"],[0.7,\"#b8e186\"],[0.8,\"#7fbc41\"],[0.9,\"#4d9221\"],[1,\"#276419\"]]},\"xaxis\":{\"gridcolor\":\"white\",\"linecolor\":\"white\",\"ticks\":\"\",\"title\":{\"standoff\":15},\"zerolinecolor\":\"white\",\"automargin\":true,\"zerolinewidth\":2},\"yaxis\":{\"gridcolor\":\"white\",\"linecolor\":\"white\",\"ticks\":\"\",\"title\":{\"standoff\":15},\"zerolinecolor\":\"white\",\"automargin\":true,\"zerolinewidth\":2},\"scene\":{\"xaxis\":{\"backgroundcolor\":\"#E5ECF6\",\"gridcolor\":\"white\",\"linecolor\":\"white\",\"showbackground\":true,\"ticks\":\"\",\"zerolinecolor\":\"white\",\"gridwidth\":2},\"yaxis\":{\"backgroundcolor\":\"#E5ECF6\",\"gridcolor\":\"white\",\"linecolor\":\"white\",\"showbackground\":true,\"ticks\":\"\",\"zerolinecolor\":\"white\",\"gridwidth\":2},\"zaxis\":{\"backgroundcolor\":\"#E5ECF6\",\"gridcolor\":\"white\",\"linecolor\":\"white\",\"showbackground\":true,\"ticks\":\"\",\"zerolinecolor\":\"white\",\"gridwidth\":2}},\"shapedefaults\":{\"line\":{\"color\":\"#2a3f5f\"}},\"annotationdefaults\":{\"arrowcolor\":\"#2a3f5f\",\"arrowhead\":0,\"arrowwidth\":1},\"geo\":{\"bgcolor\":\"white\",\"landcolor\":\"#E5ECF6\",\"subunitcolor\":\"white\",\"showland\":true,\"showlakes\":true,\"lakecolor\":\"white\"},\"title\":{\"x\":0.05},\"mapbox\":{\"style\":\"light\"}}}},                        {\"responsive\": true}                    ).then(function(){\n",
       "                            \n",
       "var gd = document.getElementById('95b5f85d-2970-41c2-8325-c217c61bb65d');\n",
       "var x = new MutationObserver(function (mutations, observer) {{\n",
       "        var display = window.getComputedStyle(gd).display;\n",
       "        if (!display || display === 'none') {{\n",
       "            console.log([gd, 'removed!']);\n",
       "            Plotly.purge(gd);\n",
       "            observer.disconnect();\n",
       "        }}\n",
       "}});\n",
       "\n",
       "// Listen for the removal of the full notebook cells\n",
       "var notebookContainer = gd.closest('#notebook-container');\n",
       "if (notebookContainer) {{\n",
       "    x.observe(notebookContainer, {childList: true});\n",
       "}}\n",
       "\n",
       "// Listen for the clearing of the current output cell\n",
       "var outputEl = gd.closest('.output');\n",
       "if (outputEl) {{\n",
       "    x.observe(outputEl, {childList: true});\n",
       "}}\n",
       "\n",
       "                        })                };                });            </script>        </div>"
      ]
     },
     "metadata": {},
     "output_type": "display_data"
    }
   ],
   "source": [
    "combos = [\"opt\", (0.1, 0.6)]\n",
    "arbor_comparison('001_1_C_day5.csv', combos)"
   ]
  },
  {
   "cell_type": "code",
   "execution_count": 231,
   "id": "6d5f7784-bc0a-484c-bffd-82e7ec7b50c5",
   "metadata": {},
   "outputs": [
    {
     "data": {
      "text/plain": [
       "['043_5_S_day5', '  -0.20', '  0.73', '  0.000022']"
      ]
     },
     "execution_count": 231,
     "metadata": {},
     "output_type": "execute_result"
    }
   ],
   "source": [
    "import csv\n",
    "with open(\"data/results/best_of_best.csv\", 'r') as f:\n",
    "    reader = csv.reader(f)\n",
    "    for num, row in enumerate(reader):\n",
    "        if num == 1:\n",
    "            test = row\n",
    "            break\n",
    "test"
   ]
  }
 ],
 "metadata": {
  "kernelspec": {
   "display_name": "Python 3 (ipykernel)",
   "language": "python",
   "name": "python3"
  },
  "language_info": {
   "codemirror_mode": {
    "name": "ipython",
    "version": 3
   },
   "file_extension": ".py",
   "mimetype": "text/x-python",
   "name": "python",
   "nbconvert_exporter": "python",
   "pygments_lexer": "ipython3",
   "version": "3.12.3"
  }
 },
 "nbformat": 4,
 "nbformat_minor": 5
}
