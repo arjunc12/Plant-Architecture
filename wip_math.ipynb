{
 "cells": [
  {
   "cell_type": "code",
   "execution_count": 1823,
   "id": "935daa55-3eab-4c6d-89de-e4b4ae68c931",
   "metadata": {},
   "outputs": [],
   "source": [
    "import math\n",
    "import point_similarity as ps\n",
    "import scipy.integrate as integrate\n",
    "import pylab\n",
    "import mpmath\n",
    "from scipy.misc import derivative\n",
    "import plotly\n",
    "from plotly import graph_objs as go\n",
    "import sys\n",
    "import read_arbor_reconstruction as rar\n",
    "import networkx as nx"
   ]
  },
  {
   "cell_type": "code",
   "execution_count": 1454,
   "id": "cc2dea07-b4e2-4d9b-9543-72dcc2d640c0",
   "metadata": {},
   "outputs": [],
   "source": [
    "def calc_coeff(G, x, y, p, q):\n",
    "    b = ((q - y - G*(p*p - x*x))/(p-x))\n",
    "    c = (q - G*p*p - b*p)\n",
    "\n",
    "    # assert (G * x * x) + (b * x) + c == y\n",
    "    # assert (G * p * p) + (b * p) + c == q\n",
    "    \n",
    "    return b, c"
   ]
  },
  {
   "cell_type": "code",
   "execution_count": 1455,
   "id": "aff1c6ae-e180-4624-bb13-4fde7339db53",
   "metadata": {},
   "outputs": [
    {
     "data": {
      "text/plain": [
       "(-1.8333333333333333, 14.833333333333332)"
      ]
     },
     "execution_count": 1455,
     "metadata": {},
     "output_type": "execute_result"
    }
   ],
   "source": [
    "calc_coeff(0, 4, 7.5, 7, 2)"
   ]
  },
  {
   "cell_type": "code",
   "execution_count": 1524,
   "id": "b6874299-7f48-4a07-a2fe-9b78d561d10c",
   "metadata": {},
   "outputs": [],
   "source": [
    "def curve_length(G, x0, y0, p, q):        \n",
    "    b, c = calc_coeff(G, x0, y0, p, q)\n",
    "    def differential(x):\n",
    "        return pylab.sqrt(1 + (2*G*x + b)**2)\n",
    "    curve, tolerance = integrate.quad(differential, min(x0, p), max(x0, p))\n",
    "    return curve"
   ]
  },
  {
   "cell_type": "code",
   "execution_count": 1525,
   "id": "a60f1a32-e187-475f-9a18-895f33f080a5",
   "metadata": {},
   "outputs": [
    {
     "data": {
      "text/plain": [
       "6.276941930590086"
      ]
     },
     "execution_count": 1525,
     "metadata": {},
     "output_type": "execute_result"
    }
   ],
   "source": [
    "curve_length(0, 3.8, 7.4, 7, 2)"
   ]
  },
  {
   "cell_type": "code",
   "execution_count": 1526,
   "id": "70e05ce2-3452-4a72-be83-4207e994d0f5",
   "metadata": {},
   "outputs": [],
   "source": [
    "def distance_from_base(root_distance, x, y, x1, y1):\n",
    "    pair1 = [x, y]\n",
    "    pair2 = [x1, y1]\n",
    "    distance = math.dist(pair1, pair2)\n",
    "    if(x,y) == (x1, y1):\n",
    "        assert distance == 0\n",
    "    return distance + root_distance"
   ]
  },
  {
   "cell_type": "code",
   "execution_count": 1527,
   "id": "a2c2f857-9484-46c1-8265-6d0477b09dce",
   "metadata": {},
   "outputs": [
    {
     "data": {
      "text/plain": [
       "100.89442719099992"
      ]
     },
     "execution_count": 1527,
     "metadata": {},
     "output_type": "execute_result"
    }
   ],
   "source": [
    "distance_from_base(100, 3, 7, 3.8, 7.4)"
   ]
  },
  {
   "cell_type": "code",
   "execution_count": 1573,
   "id": "21a953bd-5571-486b-b07f-4de0aede332f",
   "metadata": {},
   "outputs": [],
   "source": [
    "def total_cost(alpha, G, root_distance, x0, y0, x1, y1, p, q):\n",
    "    curve = curve_length(G, x1, y1, p, q)\n",
    "    to_root = distance_from_base(root_distance, x0, y0, x1, y1)\n",
    "    wiring = curve\n",
    "    delay = (curve + to_root)\n",
    "    cost = (alpha * wiring) +  ((1 - alpha) * delay)\n",
    "    #print(\"curve = \", curve, \"to root = \" , to_root, \"wiring = \", wiring, \"delay = \", delay, \"total cost = \", cost)\n",
    "   # cost = curve + (1 - alpha) * distance_from_base(root_distance, x0, y0, x1, y1)\n",
    "    return cost"
   ]
  },
  {
   "cell_type": "code",
   "execution_count": 1569,
   "id": "406f5db0-5936-4d02-8b5b-a2ad533007a4",
   "metadata": {},
   "outputs": [],
   "source": [
    "#for i in pylab.arange(3, 8, 0.01):\n",
    "   # total_cost(0.8, 0, 0, 3, 7, i, 7, 7, 2)"
   ]
  },
  {
   "cell_type": "code",
   "execution_count": 1553,
   "id": "21bf2d3a-eb37-43a7-8574-48e7cd807cde",
   "metadata": {},
   "outputs": [],
   "source": [
    "def length_func(x0, y0, x1, y1):\n",
    "    length = pylab.sqrt((x1 - x0)**2 + (y1 - y0)**2)\n",
    "    return length"
   ]
  },
  {
   "cell_type": "code",
   "execution_count": 1554,
   "id": "1eebfee0-014b-4b18-87ff-5fe5832e54c6",
   "metadata": {},
   "outputs": [],
   "source": [
    "def get_theta(x0, y0, x1, y1):\n",
    "    theta = pylab.arctan((abs(y1 - y0)/abs(x1 - x0)))\n",
    "    return theta"
   ]
  },
  {
   "cell_type": "code",
   "execution_count": 1802,
   "id": "f463389c-6230-46bc-bf11-1eb0746b24fa",
   "metadata": {},
   "outputs": [],
   "source": [
    "def find_best_cost(alpha, G, root_distance, x0, y0, x1, y1, p, q):\n",
    "    results = []\n",
    "    min_t = 0\n",
    "    delta = 0.01\n",
    "    max_t = 1\n",
    "    best_t = math.inf\n",
    "    best_cost = math.inf\n",
    "    l = length_func(x0, y0, x1, y1)\n",
    "    theta = get_theta(x0, y0, x1, y1)\n",
    "    x_opt = None\n",
    "    y_opt = None\n",
    "    best_x = None\n",
    "    best_y = None\n",
    "    for t in pylab.arange(min_t, max_t + delta, delta):\n",
    "        new_x = x0 + t*l*cos(theta)\n",
    "        new_y = y0 + t*l*sin(theta)\n",
    "        x_curr = pylab.linspace(min(p, new_x), max(p, new_x))\n",
    "        cost = total_cost(alpha, G, root_distance, x0, y0, new_x, new_y, p, q)\n",
    "        if cost < best_cost:\n",
    "            best_cost = cost\n",
    "            best_t = t\n",
    "            b, c = calc_coeff(G, new_x, new_y, p, q)\n",
    "            best_x = new_x\n",
    "            best_y = new_y\n",
    "            #x_opt = x_curr\n",
    "            #y_opt = G * x_opt ** 2 + b * x_opt + c\n",
    "        '''\n",
    "        if t % 0.2 == 0:\n",
    "            b, c = calc_coeff(G, new_x, new_y, p, q)\n",
    "            y_inter =  G * x_curr ** 2 + b * x_curr + c\n",
    "            intermediate_line = go.Scatter(x = x_curr,y = y_inter, mode = \"lines\", name = str(cost))\n",
    "            fig.add_trace(intermediate_line)\n",
    "           ''' \n",
    "        results.append(cost)\n",
    "    ##opt_line = go.Scatter(x = x_opt, y = y_opt, mode = \"lines\", name = \"Optimal: \" + str(best_cost))\n",
    "    ##fig.add_trace(opt_line)\n",
    "    return best_cost, best_t, best_x, best_y"
   ]
  },
  {
   "cell_type": "code",
   "execution_count": 1801,
   "id": "369dfb7e-09f1-474a-bd01-856797ee68c1",
   "metadata": {},
   "outputs": [
    {
     "data": {
      "text/plain": [
       "'\\npt1 = [5, 0.1]\\npt2 = [-13, 2]\\n\\np_pt = 7\\nq_pt = 2\\nG = 0\\nalpha = 0.5\\nDroot = 0\\nmain = go.Scatter(x=pt1, y=pt2, name=\"main root segment\")\\npq = go.Scatter(x = [p_pt], y= [q_pt], name=\"(p,q)\")\\n\\nexample_fig = go.Figure()\\nexample_fig.add_trace(main)\\nexample_fig.add_trace(pq)\\n\\nfind_best_cost(alpha, G, Droot, pt1[0], pt2[0], pt1[1], pt2[1], p_pt, q_pt)\\nexample_fig.update_layout(xaxis_range=[2.5, 6.5])\\nexample_fig.update_layout(yaxis_range=[5.5, 8.5])\\nexample_fig.show()\\n'"
      ]
     },
     "execution_count": 1801,
     "metadata": {},
     "output_type": "execute_result"
    }
   ],
   "source": [
    "'''\n",
    "pt1 = [5, 0.1]\n",
    "pt2 = [-13, 2]\n",
    "\n",
    "p_pt = 7\n",
    "q_pt = 2\n",
    "G = 0\n",
    "alpha = 0.5\n",
    "Droot = 0\n",
    "main = go.Scatter(x=pt1, y=pt2, name=\"main root segment\")\n",
    "pq = go.Scatter(x = [p_pt], y= [q_pt], name=\"(p,q)\")\n",
    "\n",
    "example_fig = go.Figure()\n",
    "example_fig.add_trace(main)\n",
    "example_fig.add_trace(pq)\n",
    "\n",
    "find_best_cost(alpha, G, Droot, pt1[0], pt2[0], pt1[1], pt2[1], p_pt, q_pt)\n",
    "example_fig.update_layout(xaxis_range=[2.5, 6.5])\n",
    "example_fig.update_layout(yaxis_range=[5.5, 8.5])\n",
    "example_fig.show()\n",
    "'''"
   ]
  },
  {
   "cell_type": "code",
   "execution_count": 1563,
   "id": "4fa17d2e-5c5d-4ce0-9b78-3212fe29f0e0",
   "metadata": {},
   "outputs": [],
   "source": [
    "def get_length_and_theta(x0, y0, x1, y1):\n",
    "    length = length_func(x0, y0, x1, y1)\n",
    "    theta = get_theta(x0, y0, x1, y1)\n",
    "    return length, theta"
   ]
  },
  {
   "cell_type": "code",
   "execution_count": 1811,
   "id": "0ea6a695-986a-4363-b9c1-5ef68e566672",
   "metadata": {},
   "outputs": [],
   "source": [
    "def three_line_segments(alpha, G, root_distance, x0, y0, x1, y1, x2, y2, x3, y3, p, q):\n",
    "    min_t = 0\n",
    "    delta = 0.01\n",
    "    max_t = 1\n",
    "    \n",
    "    s1 = find_best_cost(alpha, G, root_distance, x0, y0, x1, y1, p, q)\n",
    "    \n",
    "    segment1_length = length_func(x0, y0, x1, y1)\n",
    "    s2 = find_best_cost(alpha, G, root_distance + segment1_length, x1, y1, x2, y2, p, q)\n",
    "\n",
    "    segment2_length = length_func(x1, y1, x2, y2)\n",
    "    s3 = find_best_cost(alpha, G, root_distance + segment1_length + segment2_length, x2, y2, x3, y3, p, q)\n",
    "    print(s1)\n",
    "    print(s2)\n",
    "    print(s3)\n",
    "    \n",
    "    \n",
    "    return min(s1[0], s2[0], s3[0])"
   ]
  },
  {
   "cell_type": "code",
   "execution_count": 1812,
   "id": "80b46853-a740-4816-b575-f9690eabc57d",
   "metadata": {},
   "outputs": [
    {
     "name": "stdout",
     "output_type": "stream",
     "text": [
      "(4.428317965096906, 1.0, 0.09999999999999934, 6.0)\n",
      "(1.7850086834522678, 0.58, 0.21600000000000036, 10.06)\n",
      "(3.448187929913334, 0.0, 0.3, 13.0)\n"
     ]
    },
    {
     "data": {
      "text/plain": [
       "1.7850086834522678"
      ]
     },
     "execution_count": 1812,
     "metadata": {},
     "output_type": "execute_result"
    }
   ],
   "source": [
    "three_line_segments(1, 0, 10, 0, 0, 0.1, 6, 0.3, 13, 0.2, 19, 2, 10)"
   ]
  },
  {
   "cell_type": "code",
   "execution_count": 1766,
   "id": "8327497e-4b59-4148-a85d-d659e2c71828",
   "metadata": {},
   "outputs": [],
   "source": [
    "def get_xy_coords(t, x0, y0, x1, y1):\n",
    "    x = x0 + t * get_length_and_theta(x0, y0, x1, y1)[0] * cos(get_length_and_theta(x0, y0, x1, y1)[1])\n",
    "    y = y0 + t * get_length_and_theta(x0, y0, x1, y1)[0] * sin(get_length_and_theta(x0, y0, x1, y1)[1])\n",
    "    return x, y"
   ]
  },
  {
   "cell_type": "code",
   "execution_count": 1767,
   "id": "00aea3f1-976f-4ed8-b9e0-4b2a18e1ffdd",
   "metadata": {},
   "outputs": [
    {
     "data": {
      "text/plain": [
       "(0.30000000000000066, 13.0)"
      ]
     },
     "execution_count": 1767,
     "metadata": {},
     "output_type": "execute_result"
    }
   ],
   "source": [
    "get_xy_coords(1, 0.1, 6, 0.3, 13)"
   ]
  },
  {
   "cell_type": "code",
   "execution_count": 1805,
   "id": "bbbc9489-d2e3-46e0-89d4-4be19e87866f",
   "metadata": {},
   "outputs": [
    {
     "data": {
      "text/plain": [
       "10.06"
      ]
     },
     "execution_count": 1805,
     "metadata": {},
     "output_type": "execute_result"
    }
   ],
   "source": [
    "s2_t = find_best_cost(1, 0, 10, 0.1, 6, 0.3, 13, 2, 10)[3]\n",
    "s2_t"
   ]
  },
  {
   "cell_type": "code",
   "execution_count": 1817,
   "id": "dcbb7ad6-1e1c-4392-81d6-b79af509c0b7",
   "metadata": {},
   "outputs": [
    {
     "data": {
      "application/vnd.plotly.v1+json": {
       "config": {
        "plotlyServerURL": "https://plot.ly"
       },
       "data": [
        {
         "name": "main root segment1",
         "type": "scatter",
         "x": [
          0,
          0.1
         ],
         "y": [
          0,
          6
         ]
        },
        {
         "name": "main root segment2",
         "type": "scatter",
         "x": [
          0.1,
          0.3
         ],
         "y": [
          6,
          13
         ]
        },
        {
         "name": "main root segment3",
         "type": "scatter",
         "x": [
          0.3,
          0.2
         ],
         "y": [
          13,
          19
         ]
        },
        {
         "name": "(p,q)",
         "type": "scatter",
         "x": [
          2
         ],
         "y": [
          10
         ]
        },
        {
         "name": "segment1 optimal point",
         "type": "scatter",
         "x": [
          0.09999999999999934
         ],
         "y": [
          6
         ]
        },
        {
         "name": "segment2 optimal point",
         "type": "scatter",
         "x": [
          0.21600000000000036
         ],
         "y": [
          10.06
         ]
        },
        {
         "name": "segment3 optimal point",
         "type": "scatter",
         "x": [
          0.3
         ],
         "y": [
          13
         ]
        },
        {
         "name": "PQ - optimal s1 point",
         "type": "scatter",
         "x": [
          0.09999999999999934,
          2
         ],
         "y": [
          6,
          10
         ]
        },
        {
         "name": "PQ - optimal s2 point",
         "type": "scatter",
         "x": [
          0.21600000000000036,
          2
         ],
         "y": [
          10.06,
          10
         ]
        },
        {
         "name": "PQ - optimal s3 point",
         "type": "scatter",
         "x": [
          0.3,
          2
         ],
         "y": [
          13,
          10
         ]
        }
       ],
       "layout": {
        "autosize": true,
        "template": {
         "data": {
          "bar": [
           {
            "error_x": {
             "color": "#2a3f5f"
            },
            "error_y": {
             "color": "#2a3f5f"
            },
            "marker": {
             "line": {
              "color": "#E5ECF6",
              "width": 0.5
             },
             "pattern": {
              "fillmode": "overlay",
              "size": 10,
              "solidity": 0.2
             }
            },
            "type": "bar"
           }
          ],
          "barpolar": [
           {
            "marker": {
             "line": {
              "color": "#E5ECF6",
              "width": 0.5
             },
             "pattern": {
              "fillmode": "overlay",
              "size": 10,
              "solidity": 0.2
             }
            },
            "type": "barpolar"
           }
          ],
          "carpet": [
           {
            "aaxis": {
             "endlinecolor": "#2a3f5f",
             "gridcolor": "white",
             "linecolor": "white",
             "minorgridcolor": "white",
             "startlinecolor": "#2a3f5f"
            },
            "baxis": {
             "endlinecolor": "#2a3f5f",
             "gridcolor": "white",
             "linecolor": "white",
             "minorgridcolor": "white",
             "startlinecolor": "#2a3f5f"
            },
            "type": "carpet"
           }
          ],
          "choropleth": [
           {
            "colorbar": {
             "outlinewidth": 0,
             "ticks": ""
            },
            "type": "choropleth"
           }
          ],
          "contour": [
           {
            "colorbar": {
             "outlinewidth": 0,
             "ticks": ""
            },
            "colorscale": [
             [
              0,
              "#0d0887"
             ],
             [
              0.1111111111111111,
              "#46039f"
             ],
             [
              0.2222222222222222,
              "#7201a8"
             ],
             [
              0.3333333333333333,
              "#9c179e"
             ],
             [
              0.4444444444444444,
              "#bd3786"
             ],
             [
              0.5555555555555556,
              "#d8576b"
             ],
             [
              0.6666666666666666,
              "#ed7953"
             ],
             [
              0.7777777777777778,
              "#fb9f3a"
             ],
             [
              0.8888888888888888,
              "#fdca26"
             ],
             [
              1,
              "#f0f921"
             ]
            ],
            "type": "contour"
           }
          ],
          "contourcarpet": [
           {
            "colorbar": {
             "outlinewidth": 0,
             "ticks": ""
            },
            "type": "contourcarpet"
           }
          ],
          "heatmap": [
           {
            "colorbar": {
             "outlinewidth": 0,
             "ticks": ""
            },
            "colorscale": [
             [
              0,
              "#0d0887"
             ],
             [
              0.1111111111111111,
              "#46039f"
             ],
             [
              0.2222222222222222,
              "#7201a8"
             ],
             [
              0.3333333333333333,
              "#9c179e"
             ],
             [
              0.4444444444444444,
              "#bd3786"
             ],
             [
              0.5555555555555556,
              "#d8576b"
             ],
             [
              0.6666666666666666,
              "#ed7953"
             ],
             [
              0.7777777777777778,
              "#fb9f3a"
             ],
             [
              0.8888888888888888,
              "#fdca26"
             ],
             [
              1,
              "#f0f921"
             ]
            ],
            "type": "heatmap"
           }
          ],
          "heatmapgl": [
           {
            "colorbar": {
             "outlinewidth": 0,
             "ticks": ""
            },
            "colorscale": [
             [
              0,
              "#0d0887"
             ],
             [
              0.1111111111111111,
              "#46039f"
             ],
             [
              0.2222222222222222,
              "#7201a8"
             ],
             [
              0.3333333333333333,
              "#9c179e"
             ],
             [
              0.4444444444444444,
              "#bd3786"
             ],
             [
              0.5555555555555556,
              "#d8576b"
             ],
             [
              0.6666666666666666,
              "#ed7953"
             ],
             [
              0.7777777777777778,
              "#fb9f3a"
             ],
             [
              0.8888888888888888,
              "#fdca26"
             ],
             [
              1,
              "#f0f921"
             ]
            ],
            "type": "heatmapgl"
           }
          ],
          "histogram": [
           {
            "marker": {
             "pattern": {
              "fillmode": "overlay",
              "size": 10,
              "solidity": 0.2
             }
            },
            "type": "histogram"
           }
          ],
          "histogram2d": [
           {
            "colorbar": {
             "outlinewidth": 0,
             "ticks": ""
            },
            "colorscale": [
             [
              0,
              "#0d0887"
             ],
             [
              0.1111111111111111,
              "#46039f"
             ],
             [
              0.2222222222222222,
              "#7201a8"
             ],
             [
              0.3333333333333333,
              "#9c179e"
             ],
             [
              0.4444444444444444,
              "#bd3786"
             ],
             [
              0.5555555555555556,
              "#d8576b"
             ],
             [
              0.6666666666666666,
              "#ed7953"
             ],
             [
              0.7777777777777778,
              "#fb9f3a"
             ],
             [
              0.8888888888888888,
              "#fdca26"
             ],
             [
              1,
              "#f0f921"
             ]
            ],
            "type": "histogram2d"
           }
          ],
          "histogram2dcontour": [
           {
            "colorbar": {
             "outlinewidth": 0,
             "ticks": ""
            },
            "colorscale": [
             [
              0,
              "#0d0887"
             ],
             [
              0.1111111111111111,
              "#46039f"
             ],
             [
              0.2222222222222222,
              "#7201a8"
             ],
             [
              0.3333333333333333,
              "#9c179e"
             ],
             [
              0.4444444444444444,
              "#bd3786"
             ],
             [
              0.5555555555555556,
              "#d8576b"
             ],
             [
              0.6666666666666666,
              "#ed7953"
             ],
             [
              0.7777777777777778,
              "#fb9f3a"
             ],
             [
              0.8888888888888888,
              "#fdca26"
             ],
             [
              1,
              "#f0f921"
             ]
            ],
            "type": "histogram2dcontour"
           }
          ],
          "mesh3d": [
           {
            "colorbar": {
             "outlinewidth": 0,
             "ticks": ""
            },
            "type": "mesh3d"
           }
          ],
          "parcoords": [
           {
            "line": {
             "colorbar": {
              "outlinewidth": 0,
              "ticks": ""
             }
            },
            "type": "parcoords"
           }
          ],
          "pie": [
           {
            "automargin": true,
            "type": "pie"
           }
          ],
          "scatter": [
           {
            "fillpattern": {
             "fillmode": "overlay",
             "size": 10,
             "solidity": 0.2
            },
            "type": "scatter"
           }
          ],
          "scatter3d": [
           {
            "line": {
             "colorbar": {
              "outlinewidth": 0,
              "ticks": ""
             }
            },
            "marker": {
             "colorbar": {
              "outlinewidth": 0,
              "ticks": ""
             }
            },
            "type": "scatter3d"
           }
          ],
          "scattercarpet": [
           {
            "marker": {
             "colorbar": {
              "outlinewidth": 0,
              "ticks": ""
             }
            },
            "type": "scattercarpet"
           }
          ],
          "scattergeo": [
           {
            "marker": {
             "colorbar": {
              "outlinewidth": 0,
              "ticks": ""
             }
            },
            "type": "scattergeo"
           }
          ],
          "scattergl": [
           {
            "marker": {
             "colorbar": {
              "outlinewidth": 0,
              "ticks": ""
             }
            },
            "type": "scattergl"
           }
          ],
          "scattermapbox": [
           {
            "marker": {
             "colorbar": {
              "outlinewidth": 0,
              "ticks": ""
             }
            },
            "type": "scattermapbox"
           }
          ],
          "scatterpolar": [
           {
            "marker": {
             "colorbar": {
              "outlinewidth": 0,
              "ticks": ""
             }
            },
            "type": "scatterpolar"
           }
          ],
          "scatterpolargl": [
           {
            "marker": {
             "colorbar": {
              "outlinewidth": 0,
              "ticks": ""
             }
            },
            "type": "scatterpolargl"
           }
          ],
          "scatterternary": [
           {
            "marker": {
             "colorbar": {
              "outlinewidth": 0,
              "ticks": ""
             }
            },
            "type": "scatterternary"
           }
          ],
          "surface": [
           {
            "colorbar": {
             "outlinewidth": 0,
             "ticks": ""
            },
            "colorscale": [
             [
              0,
              "#0d0887"
             ],
             [
              0.1111111111111111,
              "#46039f"
             ],
             [
              0.2222222222222222,
              "#7201a8"
             ],
             [
              0.3333333333333333,
              "#9c179e"
             ],
             [
              0.4444444444444444,
              "#bd3786"
             ],
             [
              0.5555555555555556,
              "#d8576b"
             ],
             [
              0.6666666666666666,
              "#ed7953"
             ],
             [
              0.7777777777777778,
              "#fb9f3a"
             ],
             [
              0.8888888888888888,
              "#fdca26"
             ],
             [
              1,
              "#f0f921"
             ]
            ],
            "type": "surface"
           }
          ],
          "table": [
           {
            "cells": {
             "fill": {
              "color": "#EBF0F8"
             },
             "line": {
              "color": "white"
             }
            },
            "header": {
             "fill": {
              "color": "#C8D4E3"
             },
             "line": {
              "color": "white"
             }
            },
            "type": "table"
           }
          ]
         },
         "layout": {
          "annotationdefaults": {
           "arrowcolor": "#2a3f5f",
           "arrowhead": 0,
           "arrowwidth": 1
          },
          "autotypenumbers": "strict",
          "coloraxis": {
           "colorbar": {
            "outlinewidth": 0,
            "ticks": ""
           }
          },
          "colorscale": {
           "diverging": [
            [
             0,
             "#8e0152"
            ],
            [
             0.1,
             "#c51b7d"
            ],
            [
             0.2,
             "#de77ae"
            ],
            [
             0.3,
             "#f1b6da"
            ],
            [
             0.4,
             "#fde0ef"
            ],
            [
             0.5,
             "#f7f7f7"
            ],
            [
             0.6,
             "#e6f5d0"
            ],
            [
             0.7,
             "#b8e186"
            ],
            [
             0.8,
             "#7fbc41"
            ],
            [
             0.9,
             "#4d9221"
            ],
            [
             1,
             "#276419"
            ]
           ],
           "sequential": [
            [
             0,
             "#0d0887"
            ],
            [
             0.1111111111111111,
             "#46039f"
            ],
            [
             0.2222222222222222,
             "#7201a8"
            ],
            [
             0.3333333333333333,
             "#9c179e"
            ],
            [
             0.4444444444444444,
             "#bd3786"
            ],
            [
             0.5555555555555556,
             "#d8576b"
            ],
            [
             0.6666666666666666,
             "#ed7953"
            ],
            [
             0.7777777777777778,
             "#fb9f3a"
            ],
            [
             0.8888888888888888,
             "#fdca26"
            ],
            [
             1,
             "#f0f921"
            ]
           ],
           "sequentialminus": [
            [
             0,
             "#0d0887"
            ],
            [
             0.1111111111111111,
             "#46039f"
            ],
            [
             0.2222222222222222,
             "#7201a8"
            ],
            [
             0.3333333333333333,
             "#9c179e"
            ],
            [
             0.4444444444444444,
             "#bd3786"
            ],
            [
             0.5555555555555556,
             "#d8576b"
            ],
            [
             0.6666666666666666,
             "#ed7953"
            ],
            [
             0.7777777777777778,
             "#fb9f3a"
            ],
            [
             0.8888888888888888,
             "#fdca26"
            ],
            [
             1,
             "#f0f921"
            ]
           ]
          },
          "colorway": [
           "#636efa",
           "#EF553B",
           "#00cc96",
           "#ab63fa",
           "#FFA15A",
           "#19d3f3",
           "#FF6692",
           "#B6E880",
           "#FF97FF",
           "#FECB52"
          ],
          "font": {
           "color": "#2a3f5f"
          },
          "geo": {
           "bgcolor": "white",
           "lakecolor": "white",
           "landcolor": "#E5ECF6",
           "showlakes": true,
           "showland": true,
           "subunitcolor": "white"
          },
          "hoverlabel": {
           "align": "left"
          },
          "hovermode": "closest",
          "mapbox": {
           "style": "light"
          },
          "paper_bgcolor": "white",
          "plot_bgcolor": "#E5ECF6",
          "polar": {
           "angularaxis": {
            "gridcolor": "white",
            "linecolor": "white",
            "ticks": ""
           },
           "bgcolor": "#E5ECF6",
           "radialaxis": {
            "gridcolor": "white",
            "linecolor": "white",
            "ticks": ""
           }
          },
          "scene": {
           "xaxis": {
            "backgroundcolor": "#E5ECF6",
            "gridcolor": "white",
            "gridwidth": 2,
            "linecolor": "white",
            "showbackground": true,
            "ticks": "",
            "zerolinecolor": "white"
           },
           "yaxis": {
            "backgroundcolor": "#E5ECF6",
            "gridcolor": "white",
            "gridwidth": 2,
            "linecolor": "white",
            "showbackground": true,
            "ticks": "",
            "zerolinecolor": "white"
           },
           "zaxis": {
            "backgroundcolor": "#E5ECF6",
            "gridcolor": "white",
            "gridwidth": 2,
            "linecolor": "white",
            "showbackground": true,
            "ticks": "",
            "zerolinecolor": "white"
           }
          },
          "shapedefaults": {
           "line": {
            "color": "#2a3f5f"
           }
          },
          "ternary": {
           "aaxis": {
            "gridcolor": "white",
            "linecolor": "white",
            "ticks": ""
           },
           "baxis": {
            "gridcolor": "white",
            "linecolor": "white",
            "ticks": ""
           },
           "bgcolor": "#E5ECF6",
           "caxis": {
            "gridcolor": "white",
            "linecolor": "white",
            "ticks": ""
           }
          },
          "title": {
           "x": 0.05
          },
          "xaxis": {
           "automargin": true,
           "gridcolor": "white",
           "linecolor": "white",
           "ticks": "",
           "title": {
            "standoff": 15
           },
           "zerolinecolor": "white",
           "zerolinewidth": 2
          },
          "yaxis": {
           "automargin": true,
           "gridcolor": "white",
           "linecolor": "white",
           "ticks": "",
           "title": {
            "standoff": 15
           },
           "zerolinecolor": "white",
           "zerolinewidth": 2
          }
         }
        },
        "xaxis": {
         "autorange": true,
         "range": [
          -0.1245758603974794,
          2.1245758603974796
         ],
         "type": "linear"
        },
        "yaxis": {
         "autorange": true,
         "range": [
          -1.5679611650485437,
          20.567961165048544
         ],
         "type": "linear"
        }
       }
      },
      "image/png": "[encoded data removed]",
      "text/html": [
       "<div>                            <div id=\"51bd496d-58d8-45b8-8169-746ee8744602\" class=\"plotly-graph-div\" style=\"height:525px; width:100%;\"></div>            <script type=\"text/javascript\">                require([\"plotly\"], function(Plotly) {                    window.PLOTLYENV=window.PLOTLYENV || {};                                    if (document.getElementById(\"51bd496d-58d8-45b8-8169-746ee8744602\")) {                    Plotly.newPlot(                        \"51bd496d-58d8-45b8-8169-746ee8744602\",                        [{\"name\":\"main root segment1\",\"x\":[0,0.1],\"y\":[0,6],\"type\":\"scatter\"},{\"name\":\"main root segment2\",\"x\":[0.1,0.3],\"y\":[6,13],\"type\":\"scatter\"},{\"name\":\"main root segment3\",\"x\":[0.3,0.2],\"y\":[13,19],\"type\":\"scatter\"},{\"name\":\"(p,q)\",\"x\":[2],\"y\":[10],\"type\":\"scatter\"},{\"name\":\"segment1 optimal point\",\"x\":[0.09999999999999934],\"y\":[6.0],\"type\":\"scatter\"},{\"name\":\"segment2 optimal point\",\"x\":[0.21600000000000036],\"y\":[10.06],\"type\":\"scatter\"},{\"name\":\"segment3 optimal point\",\"x\":[0.3],\"y\":[13.0],\"type\":\"scatter\"},{\"name\":\"PQ - optimal s1 point\",\"x\":[0.09999999999999934,2],\"y\":[6.0,10],\"type\":\"scatter\"},{\"name\":\"PQ - optimal s2 point\",\"x\":[0.21600000000000036,2],\"y\":[10.06,10],\"type\":\"scatter\"},{\"name\":\"PQ - optimal s3 point\",\"x\":[0.3,2],\"y\":[13.0,10],\"type\":\"scatter\"}],                        {\"template\":{\"data\":{\"histogram2dcontour\":[{\"type\":\"histogram2dcontour\",\"colorbar\":{\"outlinewidth\":0,\"ticks\":\"\"},\"colorscale\":[[0.0,\"#0d0887\"],[0.1111111111111111,\"#46039f\"],[0.2222222222222222,\"#7201a8\"],[0.3333333333333333,\"#9c179e\"],[0.4444444444444444,\"#bd3786\"],[0.5555555555555556,\"#d8576b\"],[0.6666666666666666,\"#ed7953\"],[0.7777777777777778,\"#fb9f3a\"],[0.8888888888888888,\"#fdca26\"],[1.0,\"#f0f921\"]]}],\"choropleth\":[{\"type\":\"choropleth\",\"colorbar\":{\"outlinewidth\":0,\"ticks\":\"\"}}],\"histogram2d\":[{\"type\":\"histogram2d\",\"colorbar\":{\"outlinewidth\":0,\"ticks\":\"\"},\"colorscale\":[[0.0,\"#0d0887\"],[0.1111111111111111,\"#46039f\"],[0.2222222222222222,\"#7201a8\"],[0.3333333333333333,\"#9c179e\"],[0.4444444444444444,\"#bd3786\"],[0.5555555555555556,\"#d8576b\"],[0.6666666666666666,\"#ed7953\"],[0.7777777777777778,\"#fb9f3a\"],[0.8888888888888888,\"#fdca26\"],[1.0,\"#f0f921\"]]}],\"heatmap\":[{\"type\":\"heatmap\",\"colorbar\":{\"outlinewidth\":0,\"ticks\":\"\"},\"colorscale\":[[0.0,\"#0d0887\"],[0.1111111111111111,\"#46039f\"],[0.2222222222222222,\"#7201a8\"],[0.3333333333333333,\"#9c179e\"],[0.4444444444444444,\"#bd3786\"],[0.5555555555555556,\"#d8576b\"],[0.6666666666666666,\"#ed7953\"],[0.7777777777777778,\"#fb9f3a\"],[0.8888888888888888,\"#fdca26\"],[1.0,\"#f0f921\"]]}],\"heatmapgl\":[{\"type\":\"heatmapgl\",\"colorbar\":{\"outlinewidth\":0,\"ticks\":\"\"},\"colorscale\":[[0.0,\"#0d0887\"],[0.1111111111111111,\"#46039f\"],[0.2222222222222222,\"#7201a8\"],[0.3333333333333333,\"#9c179e\"],[0.4444444444444444,\"#bd3786\"],[0.5555555555555556,\"#d8576b\"],[0.6666666666666666,\"#ed7953\"],[0.7777777777777778,\"#fb9f3a\"],[0.8888888888888888,\"#fdca26\"],[1.0,\"#f0f921\"]]}],\"contourcarpet\":[{\"type\":\"contourcarpet\",\"colorbar\":{\"outlinewidth\":0,\"ticks\":\"\"}}],\"contour\":[{\"type\":\"contour\",\"colorbar\":{\"outlinewidth\":0,\"ticks\":\"\"},\"colorscale\":[[0.0,\"#0d0887\"],[0.1111111111111111,\"#46039f\"],[0.2222222222222222,\"#7201a8\"],[0.3333333333333333,\"#9c179e\"],[0.4444444444444444,\"#bd3786\"],[0.5555555555555556,\"#d8576b\"],[0.6666666666666666,\"#ed7953\"],[0.7777777777777778,\"#fb9f3a\"],[0.8888888888888888,\"#fdca26\"],[1.0,\"#f0f921\"]]}],\"surface\":[{\"type\":\"surface\",\"colorbar\":{\"outlinewidth\":0,\"ticks\":\"\"},\"colorscale\":[[0.0,\"#0d0887\"],[0.1111111111111111,\"#46039f\"],[0.2222222222222222,\"#7201a8\"],[0.3333333333333333,\"#9c179e\"],[0.4444444444444444,\"#bd3786\"],[0.5555555555555556,\"#d8576b\"],[0.6666666666666666,\"#ed7953\"],[0.7777777777777778,\"#fb9f3a\"],[0.8888888888888888,\"#fdca26\"],[1.0,\"#f0f921\"]]}],\"mesh3d\":[{\"type\":\"mesh3d\",\"colorbar\":{\"outlinewidth\":0,\"ticks\":\"\"}}],\"scatter\":[{\"fillpattern\":{\"fillmode\":\"overlay\",\"size\":10,\"solidity\":0.2},\"type\":\"scatter\"}],\"parcoords\":[{\"type\":\"parcoords\",\"line\":{\"colorbar\":{\"outlinewidth\":0,\"ticks\":\"\"}}}],\"scatterpolargl\":[{\"type\":\"scatterpolargl\",\"marker\":{\"colorbar\":{\"outlinewidth\":0,\"ticks\":\"\"}}}],\"bar\":[{\"error_x\":{\"color\":\"#2a3f5f\"},\"error_y\":{\"color\":\"#2a3f5f\"},\"marker\":{\"line\":{\"color\":\"#E5ECF6\",\"width\":0.5},\"pattern\":{\"fillmode\":\"overlay\",\"size\":10,\"solidity\":0.2}},\"type\":\"bar\"}],\"scattergeo\":[{\"type\":\"scattergeo\",\"marker\":{\"colorbar\":{\"outlinewidth\":0,\"ticks\":\"\"}}}],\"scatterpolar\":[{\"type\":\"scatterpolar\",\"marker\":{\"colorbar\":{\"outlinewidth\":0,\"ticks\":\"\"}}}],\"histogram\":[{\"marker\":{\"pattern\":{\"fillmode\":\"overlay\",\"size\":10,\"solidity\":0.2}},\"type\":\"histogram\"}],\"scattergl\":[{\"type\":\"scattergl\",\"marker\":{\"colorbar\":{\"outlinewidth\":0,\"ticks\":\"\"}}}],\"scatter3d\":[{\"type\":\"scatter3d\",\"line\":{\"colorbar\":{\"outlinewidth\":0,\"ticks\":\"\"}},\"marker\":{\"colorbar\":{\"outlinewidth\":0,\"ticks\":\"\"}}}],\"scattermapbox\":[{\"type\":\"scattermapbox\",\"marker\":{\"colorbar\":{\"outlinewidth\":0,\"ticks\":\"\"}}}],\"scatterternary\":[{\"type\":\"scatterternary\",\"marker\":{\"colorbar\":{\"outlinewidth\":0,\"ticks\":\"\"}}}],\"scattercarpet\":[{\"type\":\"scattercarpet\",\"marker\":{\"colorbar\":{\"outlinewidth\":0,\"ticks\":\"\"}}}],\"carpet\":[{\"aaxis\":{\"endlinecolor\":\"#2a3f5f\",\"gridcolor\":\"white\",\"linecolor\":\"white\",\"minorgridcolor\":\"white\",\"startlinecolor\":\"#2a3f5f\"},\"baxis\":{\"endlinecolor\":\"#2a3f5f\",\"gridcolor\":\"white\",\"linecolor\":\"white\",\"minorgridcolor\":\"white\",\"startlinecolor\":\"#2a3f5f\"},\"type\":\"carpet\"}],\"table\":[{\"cells\":{\"fill\":{\"color\":\"#EBF0F8\"},\"line\":{\"color\":\"white\"}},\"header\":{\"fill\":{\"color\":\"#C8D4E3\"},\"line\":{\"color\":\"white\"}},\"type\":\"table\"}],\"barpolar\":[{\"marker\":{\"line\":{\"color\":\"#E5ECF6\",\"width\":0.5},\"pattern\":{\"fillmode\":\"overlay\",\"size\":10,\"solidity\":0.2}},\"type\":\"barpolar\"}],\"pie\":[{\"automargin\":true,\"type\":\"pie\"}]},\"layout\":{\"autotypenumbers\":\"strict\",\"colorway\":[\"#636efa\",\"#EF553B\",\"#00cc96\",\"#ab63fa\",\"#FFA15A\",\"#19d3f3\",\"#FF6692\",\"#B6E880\",\"#FF97FF\",\"#FECB52\"],\"font\":{\"color\":\"#2a3f5f\"},\"hovermode\":\"closest\",\"hoverlabel\":{\"align\":\"left\"},\"paper_bgcolor\":\"white\",\"plot_bgcolor\":\"#E5ECF6\",\"polar\":{\"bgcolor\":\"#E5ECF6\",\"angularaxis\":{\"gridcolor\":\"white\",\"linecolor\":\"white\",\"ticks\":\"\"},\"radialaxis\":{\"gridcolor\":\"white\",\"linecolor\":\"white\",\"ticks\":\"\"}},\"ternary\":{\"bgcolor\":\"#E5ECF6\",\"aaxis\":{\"gridcolor\":\"white\",\"linecolor\":\"white\",\"ticks\":\"\"},\"baxis\":{\"gridcolor\":\"white\",\"linecolor\":\"white\",\"ticks\":\"\"},\"caxis\":{\"gridcolor\":\"white\",\"linecolor\":\"white\",\"ticks\":\"\"}},\"coloraxis\":{\"colorbar\":{\"outlinewidth\":0,\"ticks\":\"\"}},\"colorscale\":{\"sequential\":[[0.0,\"#0d0887\"],[0.1111111111111111,\"#46039f\"],[0.2222222222222222,\"#7201a8\"],[0.3333333333333333,\"#9c179e\"],[0.4444444444444444,\"#bd3786\"],[0.5555555555555556,\"#d8576b\"],[0.6666666666666666,\"#ed7953\"],[0.7777777777777778,\"#fb9f3a\"],[0.8888888888888888,\"#fdca26\"],[1.0,\"#f0f921\"]],\"sequentialminus\":[[0.0,\"#0d0887\"],[0.1111111111111111,\"#46039f\"],[0.2222222222222222,\"#7201a8\"],[0.3333333333333333,\"#9c179e\"],[0.4444444444444444,\"#bd3786\"],[0.5555555555555556,\"#d8576b\"],[0.6666666666666666,\"#ed7953\"],[0.7777777777777778,\"#fb9f3a\"],[0.8888888888888888,\"#fdca26\"],[1.0,\"#f0f921\"]],\"diverging\":[[0,\"#8e0152\"],[0.1,\"#c51b7d\"],[0.2,\"#de77ae\"],[0.3,\"#f1b6da\"],[0.4,\"#fde0ef\"],[0.5,\"#f7f7f7\"],[0.6,\"#e6f5d0\"],[0.7,\"#b8e186\"],[0.8,\"#7fbc41\"],[0.9,\"#4d9221\"],[1,\"#276419\"]]},\"xaxis\":{\"gridcolor\":\"white\",\"linecolor\":\"white\",\"ticks\":\"\",\"title\":{\"standoff\":15},\"zerolinecolor\":\"white\",\"automargin\":true,\"zerolinewidth\":2},\"yaxis\":{\"gridcolor\":\"white\",\"linecolor\":\"white\",\"ticks\":\"\",\"title\":{\"standoff\":15},\"zerolinecolor\":\"white\",\"automargin\":true,\"zerolinewidth\":2},\"scene\":{\"xaxis\":{\"backgroundcolor\":\"#E5ECF6\",\"gridcolor\":\"white\",\"linecolor\":\"white\",\"showbackground\":true,\"ticks\":\"\",\"zerolinecolor\":\"white\",\"gridwidth\":2},\"yaxis\":{\"backgroundcolor\":\"#E5ECF6\",\"gridcolor\":\"white\",\"linecolor\":\"white\",\"showbackground\":true,\"ticks\":\"\",\"zerolinecolor\":\"white\",\"gridwidth\":2},\"zaxis\":{\"backgroundcolor\":\"#E5ECF6\",\"gridcolor\":\"white\",\"linecolor\":\"white\",\"showbackground\":true,\"ticks\":\"\",\"zerolinecolor\":\"white\",\"gridwidth\":2}},\"shapedefaults\":{\"line\":{\"color\":\"#2a3f5f\"}},\"annotationdefaults\":{\"arrowcolor\":\"#2a3f5f\",\"arrowhead\":0,\"arrowwidth\":1},\"geo\":{\"bgcolor\":\"white\",\"landcolor\":\"#E5ECF6\",\"subunitcolor\":\"white\",\"showland\":true,\"showlakes\":true,\"lakecolor\":\"white\"},\"title\":{\"x\":0.05},\"mapbox\":{\"style\":\"light\"}}}},                        {\"responsive\": true}                    ).then(function(){\n",
       "                            \n",
       "var gd = document.getElementById('51bd496d-58d8-45b8-8169-746ee8744602');\n",
       "var x = new MutationObserver(function (mutations, observer) {{\n",
       "        var display = window.getComputedStyle(gd).display;\n",
       "        if (!display || display === 'none') {{\n",
       "            console.log([gd, 'removed!']);\n",
       "            Plotly.purge(gd);\n",
       "            observer.disconnect();\n",
       "        }}\n",
       "}});\n",
       "\n",
       "// Listen for the removal of the full notebook cells\n",
       "var notebookContainer = gd.closest('#notebook-container');\n",
       "if (notebookContainer) {{\n",
       "    x.observe(notebookContainer, {childList: true});\n",
       "}}\n",
       "\n",
       "// Listen for the clearing of the current output cell\n",
       "var outputEl = gd.closest('.output');\n",
       "if (outputEl) {{\n",
       "    x.observe(outputEl, {childList: true});\n",
       "}}\n",
       "\n",
       "                        })                };                });            </script>        </div>"
      ]
     },
     "metadata": {},
     "output_type": "display_data"
    }
   ],
   "source": [
    "pt1 = [0, 0.1]\n",
    "pt2 = [0, 6]\n",
    "\n",
    "pt3 = [0.1, 0.3]\n",
    "pt4 = [6, 13]\n",
    "\n",
    "pt5 = [0.3, 0.2]\n",
    "pt6 = [13, 19]\n",
    "p_pt = 2\n",
    "q_pt = 10\n",
    "G = 0\n",
    "alpha = 1\n",
    "Droot = 10\n",
    "\n",
    "s1_t = find_best_cost(alpha, G, Droot, pt1[0], pt2[0], pt1[1], pt2[1], p_pt, q_pt)[1]\n",
    "s1_opt = get_xy_coords(s1_t, pt1[0], pt2[0], pt1[1], pt2[1])\n",
    "\n",
    "s2_t = find_best_cost(alpha, G, Droot, pt1[1], pt2[1], pt3[1], pt4[1], p_pt, q_pt)[1]\n",
    "s2_opt = get_xy_coords(s2_t, pt1[1], pt2[1], pt3[1], pt4[1])\n",
    "\n",
    "s3_t = find_best_cost(alpha, G, Droot, pt3[1], pt4[1], pt5[1], pt6[1], p_pt, q_pt)[1]\n",
    "s3_opt = get_xy_coords(s3_t, pt3[1], pt4[1], pt5[1], pt6[1])\n",
    "\n",
    "segment1 = go.Scatter(x=pt1, y=pt2, name=\"main root segment1\")\n",
    "segment2 = go.Scatter(x=pt3, y=pt4, name=\"main root segment2\")\n",
    "segment3 = go.Scatter(x=pt5, y=pt6, name=\"main root segment3\")\n",
    "\n",
    "pq = go.Scatter(x = [p_pt], y= [q_pt], name=\"(p,q)\")\n",
    "\n",
    "s1_pt = go.Scatter(x = [s1_opt[0]], y = [s1_opt[1]], name = \"segment1 optimal point\")\n",
    "s2_pt = go.Scatter(x = [s2_opt[0]], y = [s2_opt[1]], name = \"segment2 optimal point\")\n",
    "s3_pt = go.Scatter(x = [s3_opt[0]], y = [s3_opt[1]], name = \"segment3 optimal point\")\n",
    "\n",
    "s1_pq_x = [s1_opt[0], p_pt]\n",
    "s1_pq_y = [s1_opt[1], q_pt]\n",
    "\n",
    "s1_pq = go.Scatter(x=s1_pq_x, y=s1_pq_y, name=\"PQ - optimal s1 point\")\n",
    "\n",
    "s2_pq_x = [s2_opt[0], p_pt]\n",
    "s2_pq_y = [s2_opt[1], q_pt]\n",
    "\n",
    "s2_pq = go.Scatter(x=s2_pq_x, y=s2_pq_y, name=\"PQ - optimal s2 point\")\n",
    "\n",
    "\n",
    "s3_pq_x = [s3_opt[0], p_pt]\n",
    "s3_pq_y = [s3_opt[1], q_pt]\n",
    "\n",
    "s3_pq = go.Scatter(x=s3_pq_x, y=s3_pq_y, name=\"PQ - optimal s3 point\")\n",
    "\n",
    "example_fig = go.Figure()\n",
    "example_fig.add_trace(segment1)\n",
    "example_fig.add_trace(segment2)\n",
    "example_fig.add_trace(segment3)\n",
    "example_fig.add_trace(pq)\n",
    "example_fig.add_trace(s1_pt)\n",
    "example_fig.add_trace(s2_pt)\n",
    "example_fig.add_trace(s3_pt)\n",
    "example_fig.add_trace(s1_pq)\n",
    "example_fig.add_trace(s2_pq)\n",
    "example_fig.add_trace(s3_pq)\n",
    "# find_best_cost(alpha, G, Droot, pt1[0], pt2[0], pt1[1], pt2[1], p_pt, q_pt, example_fig)\n",
    "#three_line_segments(alpha, G, Droot, pt1[0], pt2[0], pt1[1], pt2[1], pt3[1], pt4[1], pt5[1], pt6[1], p_pt, q_pt)\n",
    "example_fig.show()"
   ]
  },
  {
   "cell_type": "code",
   "execution_count": 1880,
   "id": "e96305a6-e356-4f44-9bec-4981e0851af0",
   "metadata": {},
   "outputs": [],
   "source": [
    "def arbor_best_cost(fname, alpha, G, root_distance):\n",
    "    arbor = rar.read_arbor_full(fname)\n",
    "    main_root = []\n",
    "    lat_root = []\n",
    "    line_segments = {}\n",
    "    for node in arbor.nodes():\n",
    "        if arbor.nodes[node][\"label\"] == (\"main root\") or arbor.nodes[node][\"label\"] == (\"main root base\"):\n",
    "            main_root.append(node)\n",
    "        if arbor.nodes[node][\"label\"] == (\"lateral root tip\"):\n",
    "            lat_root.append(node)\n",
    "    for i in range(1, len(main_root)):\n",
    "        line_segments[i] = main_root[i - 1], main_root[i]\n",
    "\n",
    "\n",
    "    # loop through lateral root tips and go through each line segment, return best cost and point\n",
    "    results = []\n",
    "    for tip in lat_root:\n",
    "        for seg in line_segments:\n",
    "    \n",
    "            print(line_segments[seg])\n",
    "            x0 = line_segments[seg][0][0]\n",
    "            y0 = line_segments[seg][0][1] \n",
    "            x1 = line_segments[seg][1][0]\n",
    "            y1 = line_segments[seg][1][1]\n",
    "            p = tip[0]\n",
    "            q = tip[1]\n",
    "            result = find_best_cost(alpha, G, root_distance, x0, y0, x1, y1, p, q)\n",
    "            results.append(result)\n",
    "    return results"
   ]
  },
  {
   "cell_type": "code",
   "execution_count": 1881,
   "id": "23336a7d-f6fa-4172-95c5-e119ca477f51",
   "metadata": {},
   "outputs": [
    {
     "name": "stdout",
     "output_type": "stream",
     "text": [
      "((6.316246, 4.788182), (6.248517, 5.230901))\n",
      "((6.248517, 5.230901), (6.172466, 5.448168))\n",
      "((6.172466, 5.448168), (6.078373, 5.719055))\n",
      "((6.078373, 5.719055), (6.051647, 5.865528))\n",
      "((6.051647, 5.865528), (6.02648, 5.978601))\n",
      "((6.02648, 5.978601), (6.009377, 6.051857))\n",
      "((6.009377, 6.051857), (5.988092, 6.152656))\n",
      "((5.988092, 6.152656), (5.888783, 6.313534))\n",
      "((5.888783, 6.313534), (5.857484, 6.399435))\n",
      "((5.857484, 6.399435), (5.805855, 6.535716))\n",
      "((5.805855, 6.535716), (5.771865, 6.631406))\n",
      "((5.771865, 6.631406), (5.703528, 6.716372))\n",
      "((5.703528, 6.716372), (5.67063, 6.775653))\n",
      "((5.67063, 6.775653), (5.644983, 6.913284))\n",
      "((5.644983, 6.913284), (5.611528, 6.990774))\n",
      "((5.611528, 6.990774), (5.590928, 7.125623))\n",
      "((5.590928, 7.125623), (5.565074, 7.224829))\n",
      "((5.565074, 7.224829), (5.492228, 7.511988))\n",
      "((6.316246, 4.788182), (6.248517, 5.230901))\n",
      "((6.248517, 5.230901), (6.172466, 5.448168))\n",
      "((6.172466, 5.448168), (6.078373, 5.719055))\n",
      "((6.078373, 5.719055), (6.051647, 5.865528))\n",
      "((6.051647, 5.865528), (6.02648, 5.978601))\n",
      "((6.02648, 5.978601), (6.009377, 6.051857))\n",
      "((6.009377, 6.051857), (5.988092, 6.152656))\n",
      "((5.988092, 6.152656), (5.888783, 6.313534))\n",
      "((5.888783, 6.313534), (5.857484, 6.399435))\n",
      "((5.857484, 6.399435), (5.805855, 6.535716))\n",
      "((5.805855, 6.535716), (5.771865, 6.631406))\n",
      "((5.771865, 6.631406), (5.703528, 6.716372))\n",
      "((5.703528, 6.716372), (5.67063, 6.775653))\n",
      "((5.67063, 6.775653), (5.644983, 6.913284))\n",
      "((5.644983, 6.913284), (5.611528, 6.990774))\n",
      "((5.611528, 6.990774), (5.590928, 7.125623))\n",
      "((5.590928, 7.125623), (5.565074, 7.224829))\n",
      "((5.565074, 7.224829), (5.492228, 7.511988))\n",
      "((6.316246, 4.788182), (6.248517, 5.230901))\n",
      "((6.248517, 5.230901), (6.172466, 5.448168))\n",
      "((6.172466, 5.448168), (6.078373, 5.719055))\n",
      "((6.078373, 5.719055), (6.051647, 5.865528))\n",
      "((6.051647, 5.865528), (6.02648, 5.978601))\n",
      "((6.02648, 5.978601), (6.009377, 6.051857))\n",
      "((6.009377, 6.051857), (5.988092, 6.152656))\n",
      "((5.988092, 6.152656), (5.888783, 6.313534))\n",
      "((5.888783, 6.313534), (5.857484, 6.399435))\n",
      "((5.857484, 6.399435), (5.805855, 6.535716))\n",
      "((5.805855, 6.535716), (5.771865, 6.631406))\n",
      "((5.771865, 6.631406), (5.703528, 6.716372))\n",
      "((5.703528, 6.716372), (5.67063, 6.775653))\n",
      "((5.67063, 6.775653), (5.644983, 6.913284))\n",
      "((5.644983, 6.913284), (5.611528, 6.990774))\n",
      "((5.611528, 6.990774), (5.590928, 7.125623))\n",
      "((5.590928, 7.125623), (5.565074, 7.224829))\n",
      "((5.565074, 7.224829), (5.492228, 7.511988))\n",
      "((6.316246, 4.788182), (6.248517, 5.230901))\n",
      "((6.248517, 5.230901), (6.172466, 5.448168))\n",
      "((6.172466, 5.448168), (6.078373, 5.719055))\n",
      "((6.078373, 5.719055), (6.051647, 5.865528))\n",
      "((6.051647, 5.865528), (6.02648, 5.978601))\n",
      "((6.02648, 5.978601), (6.009377, 6.051857))\n",
      "((6.009377, 6.051857), (5.988092, 6.152656))\n",
      "((5.988092, 6.152656), (5.888783, 6.313534))\n",
      "((5.888783, 6.313534), (5.857484, 6.399435))\n",
      "((5.857484, 6.399435), (5.805855, 6.535716))\n",
      "((5.805855, 6.535716), (5.771865, 6.631406))\n",
      "((5.771865, 6.631406), (5.703528, 6.716372))\n",
      "((5.703528, 6.716372), (5.67063, 6.775653))\n",
      "((5.67063, 6.775653), (5.644983, 6.913284))\n",
      "((5.644983, 6.913284), (5.611528, 6.990774))\n",
      "((5.611528, 6.990774), (5.590928, 7.125623))\n",
      "((5.590928, 7.125623), (5.565074, 7.224829))\n",
      "((5.565074, 7.224829), (5.492228, 7.511988))\n",
      "((6.316246, 4.788182), (6.248517, 5.230901))\n",
      "((6.248517, 5.230901), (6.172466, 5.448168))\n",
      "((6.172466, 5.448168), (6.078373, 5.719055))\n",
      "((6.078373, 5.719055), (6.051647, 5.865528))\n",
      "((6.051647, 5.865528), (6.02648, 5.978601))\n",
      "((6.02648, 5.978601), (6.009377, 6.051857))\n",
      "((6.009377, 6.051857), (5.988092, 6.152656))\n",
      "((5.988092, 6.152656), (5.888783, 6.313534))\n",
      "((5.888783, 6.313534), (5.857484, 6.399435))\n",
      "((5.857484, 6.399435), (5.805855, 6.535716))\n",
      "((5.805855, 6.535716), (5.771865, 6.631406))\n",
      "((5.771865, 6.631406), (5.703528, 6.716372))\n",
      "((5.703528, 6.716372), (5.67063, 6.775653))\n",
      "((5.67063, 6.775653), (5.644983, 6.913284))\n",
      "((5.644983, 6.913284), (5.611528, 6.990774))\n",
      "((5.611528, 6.990774), (5.590928, 7.125623))\n",
      "((5.590928, 7.125623), (5.565074, 7.224829))\n",
      "((5.565074, 7.224829), (5.492228, 7.511988))\n",
      "((6.316246, 4.788182), (6.248517, 5.230901))\n",
      "((6.248517, 5.230901), (6.172466, 5.448168))\n",
      "((6.172466, 5.448168), (6.078373, 5.719055))\n",
      "((6.078373, 5.719055), (6.051647, 5.865528))\n",
      "((6.051647, 5.865528), (6.02648, 5.978601))\n",
      "((6.02648, 5.978601), (6.009377, 6.051857))\n",
      "((6.009377, 6.051857), (5.988092, 6.152656))\n",
      "((5.988092, 6.152656), (5.888783, 6.313534))\n",
      "((5.888783, 6.313534), (5.857484, 6.399435))\n",
      "((5.857484, 6.399435), (5.805855, 6.535716))\n",
      "((5.805855, 6.535716), (5.771865, 6.631406))\n",
      "((5.771865, 6.631406), (5.703528, 6.716372))\n",
      "((5.703528, 6.716372), (5.67063, 6.775653))\n",
      "((5.67063, 6.775653), (5.644983, 6.913284))\n",
      "((5.644983, 6.913284), (5.611528, 6.990774))\n",
      "((5.611528, 6.990774), (5.590928, 7.125623))\n",
      "((5.590928, 7.125623), (5.565074, 7.224829))\n",
      "((5.565074, 7.224829), (5.492228, 7.511988))\n",
      "((6.316246, 4.788182), (6.248517, 5.230901))\n",
      "((6.248517, 5.230901), (6.172466, 5.448168))\n",
      "((6.172466, 5.448168), (6.078373, 5.719055))\n",
      "((6.078373, 5.719055), (6.051647, 5.865528))\n",
      "((6.051647, 5.865528), (6.02648, 5.978601))\n",
      "((6.02648, 5.978601), (6.009377, 6.051857))\n",
      "((6.009377, 6.051857), (5.988092, 6.152656))\n",
      "((5.988092, 6.152656), (5.888783, 6.313534))\n",
      "((5.888783, 6.313534), (5.857484, 6.399435))\n",
      "((5.857484, 6.399435), (5.805855, 6.535716))\n",
      "((5.805855, 6.535716), (5.771865, 6.631406))\n",
      "((5.771865, 6.631406), (5.703528, 6.716372))\n",
      "((5.703528, 6.716372), (5.67063, 6.775653))\n",
      "((5.67063, 6.775653), (5.644983, 6.913284))\n",
      "((5.644983, 6.913284), (5.611528, 6.990774))\n",
      "((5.611528, 6.990774), (5.590928, 7.125623))\n",
      "((5.590928, 7.125623), (5.565074, 7.224829))\n",
      "((5.565074, 7.224829), (5.492228, 7.511988))\n",
      "((6.316246, 4.788182), (6.248517, 5.230901))\n",
      "((6.248517, 5.230901), (6.172466, 5.448168))\n",
      "((6.172466, 5.448168), (6.078373, 5.719055))\n",
      "((6.078373, 5.719055), (6.051647, 5.865528))\n",
      "((6.051647, 5.865528), (6.02648, 5.978601))\n",
      "((6.02648, 5.978601), (6.009377, 6.051857))\n",
      "((6.009377, 6.051857), (5.988092, 6.152656))\n",
      "((5.988092, 6.152656), (5.888783, 6.313534))\n",
      "((5.888783, 6.313534), (5.857484, 6.399435))\n",
      "((5.857484, 6.399435), (5.805855, 6.535716))\n",
      "((5.805855, 6.535716), (5.771865, 6.631406))\n",
      "((5.771865, 6.631406), (5.703528, 6.716372))\n",
      "((5.703528, 6.716372), (5.67063, 6.775653))\n",
      "((5.67063, 6.775653), (5.644983, 6.913284))\n",
      "((5.644983, 6.913284), (5.611528, 6.990774))\n",
      "((5.611528, 6.990774), (5.590928, 7.125623))\n",
      "((5.590928, 7.125623), (5.565074, 7.224829))\n",
      "((5.565074, 7.224829), (5.492228, 7.511988))\n",
      "((6.316246, 4.788182), (6.248517, 5.230901))\n",
      "((6.248517, 5.230901), (6.172466, 5.448168))\n",
      "((6.172466, 5.448168), (6.078373, 5.719055))\n",
      "((6.078373, 5.719055), (6.051647, 5.865528))\n",
      "((6.051647, 5.865528), (6.02648, 5.978601))\n",
      "((6.02648, 5.978601), (6.009377, 6.051857))\n",
      "((6.009377, 6.051857), (5.988092, 6.152656))\n",
      "((5.988092, 6.152656), (5.888783, 6.313534))\n",
      "((5.888783, 6.313534), (5.857484, 6.399435))\n",
      "((5.857484, 6.399435), (5.805855, 6.535716))\n",
      "((5.805855, 6.535716), (5.771865, 6.631406))\n",
      "((5.771865, 6.631406), (5.703528, 6.716372))\n",
      "((5.703528, 6.716372), (5.67063, 6.775653))\n",
      "((5.67063, 6.775653), (5.644983, 6.913284))\n",
      "((5.644983, 6.913284), (5.611528, 6.990774))\n",
      "((5.611528, 6.990774), (5.590928, 7.125623))\n",
      "((5.590928, 7.125623), (5.565074, 7.224829))\n",
      "((5.565074, 7.224829), (5.492228, 7.511988))\n",
      "((6.316246, 4.788182), (6.248517, 5.230901))\n",
      "((6.248517, 5.230901), (6.172466, 5.448168))\n",
      "((6.172466, 5.448168), (6.078373, 5.719055))\n",
      "((6.078373, 5.719055), (6.051647, 5.865528))\n",
      "((6.051647, 5.865528), (6.02648, 5.978601))\n",
      "((6.02648, 5.978601), (6.009377, 6.051857))\n",
      "((6.009377, 6.051857), (5.988092, 6.152656))\n",
      "((5.988092, 6.152656), (5.888783, 6.313534))\n",
      "((5.888783, 6.313534), (5.857484, 6.399435))\n",
      "((5.857484, 6.399435), (5.805855, 6.535716))\n",
      "((5.805855, 6.535716), (5.771865, 6.631406))\n",
      "((5.771865, 6.631406), (5.703528, 6.716372))\n",
      "((5.703528, 6.716372), (5.67063, 6.775653))\n",
      "((5.67063, 6.775653), (5.644983, 6.913284))\n",
      "((5.644983, 6.913284), (5.611528, 6.990774))\n",
      "((5.611528, 6.990774), (5.590928, 7.125623))\n",
      "((5.590928, 7.125623), (5.565074, 7.224829))\n",
      "((5.565074, 7.224829), (5.492228, 7.511988))\n",
      "((6.316246, 4.788182), (6.248517, 5.230901))\n",
      "((6.248517, 5.230901), (6.172466, 5.448168))\n",
      "((6.172466, 5.448168), (6.078373, 5.719055))\n",
      "((6.078373, 5.719055), (6.051647, 5.865528))\n",
      "((6.051647, 5.865528), (6.02648, 5.978601))\n",
      "((6.02648, 5.978601), (6.009377, 6.051857))\n",
      "((6.009377, 6.051857), (5.988092, 6.152656))\n",
      "((5.988092, 6.152656), (5.888783, 6.313534))\n",
      "((5.888783, 6.313534), (5.857484, 6.399435))\n",
      "((5.857484, 6.399435), (5.805855, 6.535716))\n",
      "((5.805855, 6.535716), (5.771865, 6.631406))\n",
      "((5.771865, 6.631406), (5.703528, 6.716372))\n",
      "((5.703528, 6.716372), (5.67063, 6.775653))\n",
      "((5.67063, 6.775653), (5.644983, 6.913284))\n",
      "((5.644983, 6.913284), (5.611528, 6.990774))\n",
      "((5.611528, 6.990774), (5.590928, 7.125623))\n",
      "((5.590928, 7.125623), (5.565074, 7.224829))\n",
      "((5.565074, 7.224829), (5.492228, 7.511988))\n",
      "((6.316246, 4.788182), (6.248517, 5.230901))\n",
      "((6.248517, 5.230901), (6.172466, 5.448168))\n",
      "((6.172466, 5.448168), (6.078373, 5.719055))\n",
      "((6.078373, 5.719055), (6.051647, 5.865528))\n",
      "((6.051647, 5.865528), (6.02648, 5.978601))\n",
      "((6.02648, 5.978601), (6.009377, 6.051857))\n",
      "((6.009377, 6.051857), (5.988092, 6.152656))\n",
      "((5.988092, 6.152656), (5.888783, 6.313534))\n",
      "((5.888783, 6.313534), (5.857484, 6.399435))\n",
      "((5.857484, 6.399435), (5.805855, 6.535716))\n",
      "((5.805855, 6.535716), (5.771865, 6.631406))\n",
      "((5.771865, 6.631406), (5.703528, 6.716372))\n",
      "((5.703528, 6.716372), (5.67063, 6.775653))\n",
      "((5.67063, 6.775653), (5.644983, 6.913284))\n",
      "((5.644983, 6.913284), (5.611528, 6.990774))\n",
      "((5.611528, 6.990774), (5.590928, 7.125623))\n",
      "((5.590928, 7.125623), (5.565074, 7.224829))\n",
      "((5.565074, 7.224829), (5.492228, 7.511988))\n"
     ]
    },
    {
     "data": {
      "text/plain": [
       "[(3.5518459464516474, 1.0, 6.3839749999999995, 5.230901),\n",
       " (3.4489087285373325, 1.0, 6.324567999999999, 5.448168),\n",
       " (3.324556043544009, 1.0, 6.266559, 5.719055),\n",
       " (3.373468226167544, 1.0, 6.105099, 5.865528),\n",
       " (3.337408346710363, 1.0, 6.076814, 5.978601),\n",
       " (3.32895894389297, 1.0, 6.043583000000001, 6.051857),\n",
       " (3.291512815253345, 1.0, 6.0306619999999995, 6.152656),\n",
       " (3.1677678146508788, 1.0, 6.087401, 6.313534),\n",
       " (3.283891679053985, 1.0, 5.920082, 6.399435),\n",
       " (3.242432066573793, 1.0, 5.9091130000000005, 6.535716),\n",
       " (3.274587177671408, 1.0, 5.839845, 6.631406),\n",
       " (3.2474263061509188, 1.0, 5.840202, 6.716372),\n",
       " (3.329440440785808, 1.0, 5.736426000000001, 6.775653),\n",
       " (3.3327368220323064, 1.0, 5.696277, 6.913284),\n",
       " (3.3326465330438215, 1.0, 5.678438, 6.990774),\n",
       " (3.352047058696521, 1.0, 5.632128, 7.125623),\n",
       " (3.3515690378836007, 1.0, 5.616782, 7.224829),\n",
       " (3.301646958492837, 1.0, 5.63792, 7.511988),\n",
       " (2.352563455557575, 1.0, 6.3839749999999995, 5.230901),\n",
       " (2.318324128930422, 1.0, 6.324567999999999, 5.448168),\n",
       " (2.2903824684897063, 1.0, 6.266559, 5.719055),\n",
       " (2.417095886546911, 1.0, 6.105099, 5.865528),\n",
       " (2.4278668416929294, 1.0, 6.076814, 5.978601),\n",
       " (2.4526313705131053, 1.0, 6.043583000000001, 6.051857),\n",
       " (2.4578007610823547, 1.0, 6.0306619999999995, 6.152656),\n",
       " (2.3973317617588927, 1.0, 6.087401, 6.313534),\n",
       " (2.5668665854422583, 1.0, 5.920082, 6.399435),\n",
       " (2.5871924016868157, 1.0, 5.9091130000000005, 6.535716),\n",
       " (2.666707653225226, 1.0, 5.839845, 6.631406),\n",
       " (2.678556217084308, 1.0, 5.840202, 6.716372),\n",
       " (2.790760348120202, 1.0, 5.736426000000001, 6.775653),\n",
       " (2.8553209519892735, 0.27, 5.67755469, 6.81281337),\n",
       " (2.8923385829133137, 1.0, 5.678438, 6.990774),\n",
       " (2.9572998552580017, 0.0, 5.611528, 6.990774),\n",
       " (3.011906196118331, 0.0, 5.590928, 7.125623),\n",
       " (3.0655339615538426, 0.0, 5.565074, 7.224829),\n",
       " (2.4600967399828, 1.0, 6.3839749999999995, 5.230901),\n",
       " (2.4111494038818915, 1.0, 6.324567999999999, 5.448168),\n",
       " (2.363538826658449, 1.0, 6.266559, 5.719055),\n",
       " (2.476883382272366, 1.0, 6.105099, 5.865528),\n",
       " (2.479146838322611, 1.0, 6.076814, 5.978601),\n",
       " (2.4982218643863465, 1.0, 6.043583000000001, 6.051857),\n",
       " (2.4958893825143775, 1.0, 6.0306619999999995, 6.152656),\n",
       " (2.4235405908672125, 1.0, 6.087401, 6.313534),\n",
       " (2.586524654621525, 1.0, 5.920082, 6.399435),\n",
       " (2.597023472052764, 1.0, 5.9091130000000005, 6.535716),\n",
       " (2.6701154562432303, 1.0, 5.839845, 6.631406),\n",
       " (2.6760354354432603, 1.0, 5.840202, 6.716372),\n",
       " (2.785152656289595, 1.0, 5.736426000000001, 6.775653),\n",
       " (2.8429453587941143, 1.0, 5.696277, 6.913284),\n",
       " (2.873428046320979, 1.0, 5.678438, 6.990774),\n",
       " (2.9392818458807244, 0.0, 5.611528, 6.990774),\n",
       " (2.9840477033568016, 1.0, 5.616782, 7.224829),\n",
       " (3.0341308371955544, 0.0, 5.565074, 7.224829),\n",
       " (1.818706901603444, 1.0, 6.3839749999999995, 5.230901),\n",
       " (1.7990636274823635, 1.0, 6.324567999999999, 5.448168),\n",
       " (1.7979680770580988, 1.0, 6.266559, 5.719055),\n",
       " (1.9449813123433852, 1.0, 6.105099, 5.865528),\n",
       " (1.9707069740560104, 1.0, 6.076814, 5.978601),\n",
       " (2.0057343311784823, 1.0, 6.043583000000001, 6.051857),\n",
       " (2.0254335464808513, 1.0, 6.0306619999999995, 6.152656),\n",
       " (1.9906429694008412, 1.0, 6.087401, 6.313534),\n",
       " (2.1710941781039805, 1.0, 5.920082, 6.399435),\n",
       " (2.2129478516930745, 1.0, 5.9091130000000005, 6.535716),\n",
       " (2.3057225865105706, 1.0, 5.839845, 6.631406),\n",
       " (2.331322626358265, 1.0, 5.840202, 6.716372),\n",
       " (2.4487616972341337, 1.0, 5.736426000000001, 6.775653),\n",
       " (2.5109518738950367, 0.0, 5.67063, 6.775653),\n",
       " (2.5811669699539865, 0.98, 5.6777689, 6.9892242),\n",
       " (2.6427123081852852, 0.0, 5.611528, 6.990774),\n",
       " (2.716480168027184, 0.0, 5.590928, 7.125623),\n",
       " (2.783320247842313, 0.0, 5.565074, 7.224829),\n",
       " (2.833288206575534, 1.0, 6.3839749999999995, 5.230901),\n",
       " (2.6745493483190783, 1.0, 6.324567999999999, 5.448168),\n",
       " (2.481559927343284, 1.0, 6.266559, 5.719055),\n",
       " (2.4675261416051906, 1.0, 6.105099, 5.865528),\n",
       " (2.402723460595705, 1.0, 6.076814, 5.978601),\n",
       " (2.373400874168542, 1.0, 6.043583000000001, 6.051857),\n",
       " (2.312837115302762, 1.0, 6.0306619999999995, 6.152656),\n",
       " (2.163239034255115, 1.0, 6.087401, 6.313534),\n",
       " (2.2406184215927976, 1.0, 5.920082, 6.399435),\n",
       " (2.171856454423496, 1.0, 5.9091130000000005, 6.535716),\n",
       " (2.1805151258097246, 1.0, 5.839845, 6.631406),\n",
       " (2.1387909894447383, 1.0, 5.840202, 6.716372),\n",
       " (2.204592613593949, 1.0, 5.736426000000001, 6.775653),\n",
       " (2.186037942067109, 1.0, 5.696277, 6.913284),\n",
       " (2.175189116970293, 1.0, 5.678438, 6.990774),\n",
       " (2.1778299141459607, 1.0, 5.632128, 7.125623),\n",
       " (2.167497560749955, 1.0, 5.616782, 7.224829),\n",
       " (2.0984962040227755, 1.0, 5.63792, 7.511988),\n",
       " (2.782632114962378, 1.0, 6.3839749999999995, 5.230901),\n",
       " (2.611916810176388, 1.0, 6.324567999999999, 5.448168),\n",
       " (2.425845642106686, 1.0, 6.266559, 5.719055),\n",
       " (2.215446368194229, 1.0, 6.105099, 5.865528),\n",
       " (2.1418025020167004, 1.0, 6.076814, 5.978601),\n",
       " (2.082388697884236, 1.0, 6.043583000000001, 6.051857),\n",
       " (2.0338350580088833, 1.0, 6.0306619999999995, 6.152656),\n",
       " (1.9938817626393996, 0.0, 5.988092, 6.152656),\n",
       " (1.848369979897153, 0.0, 5.888783, 6.313534),\n",
       " (1.7950706947730501, 0.0, 5.857484, 6.399435),\n",
       " (1.7151770944555553, 0.0, 5.805855, 6.535716),\n",
       " (1.666663937488599, 0.0, 5.771865, 6.631406),\n",
       " (1.5896622531424722, 0.0, 5.703528, 6.716372),\n",
       " (1.5529991514115518, 0.0, 5.67063, 6.775653),\n",
       " (1.5270812401391747, 0.0, 5.644983, 6.913284),\n",
       " (1.4990559679378217, 0.0, 5.611528, 6.990774),\n",
       " (1.4976185130189195, 0.0, 5.590928, 7.125623),\n",
       " (1.4941227821210006, 0.0, 5.565074, 7.224829),\n",
       " (1.8767216328534173, 1.0, 6.3839749999999995, 5.230901),\n",
       " (1.7271330227478128, 1.0, 6.324567999999999, 5.448168),\n",
       " (1.578288391549812, 0.64, 6.23268552, 5.62153568),\n",
       " (1.3905812483767352, 1.0, 6.105099, 5.865528),\n",
       " (1.3382163415296493, 0.0, 6.051647, 5.865528),\n",
       " (1.294761633029416, 0.0, 6.02648, 5.978601),\n",
       " (1.2706626915967898, 0.0, 6.009377, 6.051857),\n",
       " (1.2464411279486887, 0.0, 5.988092, 6.152656),\n",
       " (1.1602252376021647, 0.0, 5.888783, 6.313534),\n",
       " (1.1456964713505056, 0.0, 5.857484, 6.399435),\n",
       " (1.1355899706254013, 0.0, 5.805855, 6.535716),\n",
       " (1.1416711529354673, 0.0, 5.771865, 6.631406),\n",
       " (1.121669346844247, 0.0, 5.703528, 6.716372),\n",
       " (1.1260021365366053, 0.0, 5.67063, 6.775653),\n",
       " (1.1895427293582181, 0.0, 5.644983, 6.913284),\n",
       " (1.2172341474646526, 0.0, 5.611528, 6.990774),\n",
       " (1.301570876057466, 0.0, 5.590928, 7.125623),\n",
       " (1.3624959258379452, 0.0, 5.565074, 7.224829),\n",
       " (1.0993889009522513, 1.0, 6.3839749999999995, 5.230901),\n",
       " (0.9151667376631429, 1.0, 6.324567999999999, 5.448168),\n",
       " (0.7092210127971387, 1.0, 6.266559, 5.719055),\n",
       " (0.7224671924039173, 1.0, 6.105099, 5.865528),\n",
       " (0.6882327288715642, 1.0, 6.076814, 5.978601),\n",
       " (0.6899305955884247, 1.0, 6.043583000000001, 6.051857),\n",
       " (0.6751876835939769, 1.0, 6.0306619999999995, 6.152656),\n",
       " (0.605751460191389, 1.0, 6.087401, 6.313534),\n",
       " (0.7807187883546802, 1.0, 5.920082, 6.399435),\n",
       " (0.8222231520213956, 1.0, 5.9091130000000005, 6.535716),\n",
       " (0.9190812908445148, 0.61, 5.8265889, 6.5940869),\n",
       " (0.9547758884371768, 1.0, 5.840202, 6.716372),\n",
       " (1.0741494088933805, 1.0, 5.736426000000001, 6.775653),\n",
       " (1.1331115723537555, 0.0, 5.67063, 6.775653),\n",
       " (1.2209480224104547, 0.0, 5.644983, 6.913284),\n",
       " (1.2903992070646202, 0.0, 5.611528, 6.990774),\n",
       " (1.3850359847491334, 0.0, 5.590928, 7.125623),\n",
       " (1.467094975582017, 0.0, 5.565074, 7.224829),\n",
       " (1.0674219117673196, 1.0, 6.3839749999999995, 5.230901),\n",
       " (0.9004395595069107, 1.0, 6.324567999999999, 5.448168),\n",
       " (0.7461856477242143, 0.65, 6.23362645, 5.62424455),\n",
       " (0.5674545917743009, 0.34, 6.08745984, 5.76885582),\n",
       " (0.5225531855591353, 0.0, 6.051647, 5.865528),\n",
       " (0.509058786738821, 0.0, 6.02648, 5.978601),\n",
       " (0.513498318268911, 0.0, 6.009377, 6.051857),\n",
       " (0.5389683021375192, 0.0, 5.988092, 6.152656),\n",
       " (0.5709438484912502, 0.0, 5.888783, 6.313534),\n",
       " (0.6228965945451947, 0.0, 5.857484, 6.399435),\n",
       " (0.7208344366815448, 0.0, 5.805855, 6.535716),\n",
       " (0.7990512494364803, 0.0, 5.771865, 6.631406),\n",
       " (0.8640376139943211, 0.0, 5.703528, 6.716372),\n",
       " (0.9165233119130141, 0.0, 5.67063, 6.775653),\n",
       " (1.0495783294876089, 0.0, 5.644983, 6.913284),\n",
       " (1.123679319826168, 0.0, 5.611528, 6.990774),\n",
       " (1.2570227693244063, 0.0, 5.590928, 7.125623),\n",
       " (1.355185185450313, 0.0, 5.565074, 7.224829),\n",
       " (0.918862448214094, 1.0, 6.3839749999999995, 5.230901),\n",
       " (0.7369280941557316, 1.0, 6.324567999999999, 5.448168),\n",
       " (0.5696326313465045, 0.8200000000000001, 6.24962226, 5.67029534),\n",
       " (0.38571296844317354, 0.47000000000000003, 6.09093422, 5.78789731),\n",
       " (0.34028502770030894, 0.0, 6.051647, 5.865528),\n",
       " (0.33765529113727855, 0.0, 6.02648, 5.978601),\n",
       " (0.35595754467351864, 0.0, 6.009377, 6.051857),\n",
       " (0.4048619570421509, 0.0, 5.988092, 6.152656),\n",
       " (0.48972733150703385, 0.0, 5.888783, 6.313534),\n",
       " (0.5617112399240386, 0.0, 5.857484, 6.399435),\n",
       " (0.68521395409974, 0.0, 5.805855, 6.535716),\n",
       " (0.7767237552650239, 0.0, 5.771865, 6.631406),\n",
       " (0.8593746807091772, 0.0, 5.703528, 6.716372),\n",
       " (0.9195262962009303, 0.0, 5.67063, 6.775653),\n",
       " (1.0583403600567263, 0.0, 5.644983, 6.913284),\n",
       " (1.1381363675763994, 0.0, 5.611528, 6.990774),\n",
       " (1.274302924159323, 0.0, 5.590928, 7.125623),\n",
       " (1.3756069079722593, 0.0, 5.565074, 7.224829),\n",
       " (1.1486744046007986, 1.0, 6.3839749999999995, 5.230901),\n",
       " (0.93727230745659, 1.0, 6.324567999999999, 5.448168),\n",
       " (0.6818561100620864, 1.0, 6.266559, 5.719055),\n",
       " (0.6130213684513776, 1.0, 6.105099, 5.865528),\n",
       " (0.5408071106781048, 1.0, 6.076814, 5.978601),\n",
       " (0.5144204054516106, 1.0, 6.043583000000001, 6.051857),\n",
       " (0.46845925492085255, 1.0, 6.0306619999999995, 6.152656),\n",
       " (0.359730932061729, 1.0, 6.087401, 6.313534),\n",
       " (0.521634646184473, 1.0, 5.920082, 6.399435),\n",
       " (0.5550067248259246, 1.0, 5.9091130000000005, 6.535716),\n",
       " (0.6515162611933643, 0.63, 5.8272687, 6.5960007),\n",
       " (0.6897062200161751, 1.0, 5.840202, 6.716372),\n",
       " (0.8091994793922792, 0.92, 5.73379416, 6.77091052),\n",
       " (0.8671315443276184, 0.0, 5.67063, 6.775653),\n",
       " (0.9594091133202773, 0.0, 5.644983, 6.913284),\n",
       " (1.031409711102722, 0.0, 5.611528, 6.990774),\n",
       " (1.1321772325038164, 0.0, 5.590928, 7.125623),\n",
       " (1.218447477374384, 0.0, 5.565074, 7.224829),\n",
       " (0.9710448483200973, 1.0, 6.3839749999999995, 5.230901),\n",
       " (1.064863267771502, 1.0, 6.324567999999999, 5.448168),\n",
       " (1.2057035684810116, 0.45, 6.21480785, 5.57006715),\n",
       " (1.3868920958073845, 0.0, 6.078373, 5.719055),\n",
       " (1.474351168627746, 0.0, 6.051647, 5.865528),\n",
       " (1.5521694531925307, 0.0, 6.02648, 5.978601),\n",
       " (1.60570386376349, 0.0, 6.009377, 6.051857),\n",
       " (1.680255394513882, 0.0, 5.988092, 6.152656),\n",
       " (1.856158528814282, 0.0, 5.888783, 6.313534),\n",
       " (1.9342394115155446, 0.0, 5.857484, 6.399435),\n",
       " (2.0618483115675597, 0.0, 5.805855, 6.535716),\n",
       " (2.151161733053561, 0.0, 5.771865, 6.631406),\n",
       " (2.259056055768647, 0.0, 5.703528, 6.716372),\n",
       " (2.3236713793692947, 0.0, 5.67063, 6.775653),\n",
       " (2.438539004258492, 0.0, 5.644983, 6.913284),\n",
       " (2.5174567533256655, 0.0, 5.611528, 6.990774),\n",
       " (2.6302418646360257, 0.0, 5.590928, 7.125623),\n",
       " (2.7216187652740786, 0.0, 5.565074, 7.224829)]"
      ]
     },
     "execution_count": 1881,
     "metadata": {},
     "output_type": "execute_result"
    }
   ],
   "source": [
    "arbor_best_cost('002_1_c_day4.csv', 1, 0, 10)"
   ]
  },
  {
   "cell_type": "code",
   "execution_count": 1833,
   "id": "2a8aa91f-b380-49e1-93ef-3decf4126247",
   "metadata": {},
   "outputs": [
    {
     "data": {
      "image/png": "[encoded data removed]",
      "text/plain": [
       "<Figure size 640x480 with 1 Axes>"
      ]
     },
     "metadata": {},
     "output_type": "display_data"
    }
   ],
   "source": [
    "G = rar.read_arbor_full('002_1_c_day4.csv')\n",
    "coords = {}\n",
    "for coordinate in list(G.nodes):\n",
    "    coords[coordinate] = coordinate\n",
    "\n",
    "nx.draw_networkx(G, pos = coords, with_labels = False, node_size = 2)"
   ]
  },
  {
   "cell_type": "code",
   "execution_count": 1834,
   "id": "6c10ee99-cfb5-4a2c-ad3a-07505d120296",
   "metadata": {},
   "outputs": [
    {
     "data": {
      "text/plain": [
       "[((6.316246, 4.788182), {'label': 'main root base'}),\n",
       " ((6.248517, 5.230901), {'label': 'main root'}),\n",
       " ((6.172466, 5.448168), {'label': 'main root'}),\n",
       " ((6.078373, 5.719055), {'label': 'main root'}),\n",
       " ((6.051647, 5.865528), {'label': 'main root'}),\n",
       " ((6.02648, 5.978601), {'label': 'main root'}),\n",
       " ((6.009377, 6.051857), {'label': 'main root'}),\n",
       " ((5.988092, 6.152656), {'label': 'main root'}),\n",
       " ((5.888783, 6.313534), {'label': 'main root'}),\n",
       " ((5.857484, 6.399435), {'label': 'main root'}),\n",
       " ((5.805855, 6.535716), {'label': 'main root'}),\n",
       " ((5.771865, 6.631406), {'label': 'main root'}),\n",
       " ((5.703528, 6.716372), {'label': 'main root'}),\n",
       " ((5.67063, 6.775653), {'label': 'main root'}),\n",
       " ((5.644983, 6.913284), {'label': 'main root'}),\n",
       " ((5.611528, 6.990774), {'label': 'main root'}),\n",
       " ((5.590928, 7.125623), {'label': 'main root'}),\n",
       " ((5.565074, 7.224829), {'label': 'main root'}),\n",
       " ((5.492228, 7.511988), {'label': 'main root'}),\n",
       " ((6.370103, 4.928189), {'label': 'lateral root'}),\n",
       " ((6.481349, 4.974761), {'label': 'lateral root'}),\n",
       " ((6.543856, 4.994439), {'label': 'lateral root'}),\n",
       " ((6.578745, 5.0117), {'label': 'lateral root'}),\n",
       " ((6.63187, 5.037984), {'label': 'lateral root'}),\n",
       " ((6.939182, 5.186365), {'label': 'lateral root'}),\n",
       " ((6.996552, 5.210743), {'label': 'lateral root'}),\n",
       " ((7.029639, 5.228055), {'label': 'lateral root'}),\n",
       " ((7.072194, 5.257081), {'label': 'lateral root'}),\n",
       " ((7.125318, 5.289694), {'label': 'lateral root'}),\n",
       " ((7.147239, 5.313688), {'label': 'lateral root'}),\n",
       " ((7.170994, 5.329711), {'label': 'lateral root'}),\n",
       " ((7.274441, 5.401329), {'label': 'lateral root'}),\n",
       " ((7.337065, 5.444691), {'label': 'lateral root'}),\n",
       " ((7.403858, 5.487298), {'label': 'lateral root'}),\n",
       " ((7.457745, 5.53055), {'label': 'lateral root'}),\n",
       " ((7.536984, 5.59415), {'label': 'lateral root'}),\n",
       " ((7.604825, 5.640924), {'label': 'lateral root'}),\n",
       " ((7.671722, 5.683409), {'label': 'lateral root'}),\n",
       " ((7.763452, 5.744174), {'label': 'lateral root'}),\n",
       " ((7.821995, 5.781161), {'label': 'lateral root'}),\n",
       " ((7.903128, 5.834834), {'label': 'lateral root'}),\n",
       " ((7.953089, 5.875062), {'label': 'lateral root'}),\n",
       " ((8.022221, 5.938828), {'label': 'lateral root'}),\n",
       " ((8.072009, 5.984753), {'label': 'lateral root'}),\n",
       " ((8.115453, 6.030933), {'label': 'lateral root'}),\n",
       " ((8.162554, 6.090082), {'label': 'lateral root'}),\n",
       " ((8.198688, 6.137861), {'label': 'lateral root'}),\n",
       " ((8.222678, 6.183326), {'label': 'lateral root'}),\n",
       " ((8.292385, 6.27119), {'label': 'lateral root'}),\n",
       " ((8.325863, 6.32302), {'label': 'lateral root'}),\n",
       " ((8.356141, 6.378282), {'label': 'lateral root'}),\n",
       " ((8.394542, 6.439147), {'label': 'lateral root'}),\n",
       " ((8.432488, 6.496597), {'label': 'lateral root'}),\n",
       " ((8.469633, 6.552835), {'label': 'lateral root'}),\n",
       " ((8.490502, 6.595294), {'label': 'lateral root'}),\n",
       " ((8.528018, 6.681157), {'label': 'lateral root'}),\n",
       " ((8.560497, 6.751755), {'label': 'lateral root'}),\n",
       " ((8.588377, 6.819513), {'label': 'lateral root'}),\n",
       " ((8.627362, 6.882796), {'label': 'lateral root'}),\n",
       " ((8.659093, 6.945716), {'label': 'lateral root'}),\n",
       " ((8.701029, 7.028872), {'label': 'lateral root'}),\n",
       " ((8.729313, 7.09493), {'label': 'lateral root'}),\n",
       " ((8.75931, 7.164987), {'label': 'lateral root'}),\n",
       " ((8.792293, 7.252703), {'label': 'lateral root'}),\n",
       " ((8.815255, 7.322278), {'label': 'lateral root'}),\n",
       " ((8.839137, 7.394637), {'label': 'lateral root'}),\n",
       " ((8.870248, 7.482189), {'label': 'lateral root'}),\n",
       " ((8.889105, 7.544195), {'label': 'lateral root'}),\n",
       " ((8.908812, 7.608998), {'label': 'lateral root'}),\n",
       " ((8.934018, 7.703327), {'label': 'lateral root tip'}),\n",
       " ((6.340221, 5.102323), {'label': 'lateral root'}),\n",
       " ((6.416235, 5.114431), {'label': 'lateral root'}),\n",
       " ((6.506852, 5.121914), {'label': 'lateral root'}),\n",
       " ((6.610738, 5.078939), {'label': 'lateral root'}),\n",
       " ((6.756836, 5.108183), {'label': 'lateral root'}),\n",
       " ((6.832091, 5.130653), {'label': 'lateral root'}),\n",
       " ((7.014539, 5.208246), {'label': 'lateral root'}),\n",
       " ((7.355398, 5.341647), {'label': 'lateral root'}),\n",
       " ((7.515414, 5.399963), {'label': 'lateral root'}),\n",
       " ((7.74379, 5.522742), {'label': 'lateral root'}),\n",
       " ((7.953052, 5.663151), {'label': 'lateral root'}),\n",
       " ((8.106366, 5.847214), {'label': 'lateral root'}),\n",
       " ((8.247676, 6.04208), {'label': 'lateral root'}),\n",
       " ((8.335615, 6.132074), {'label': 'lateral root'}),\n",
       " ((8.484618, 6.290077), {'label': 'lateral root tip'}),\n",
       " ((6.313668, 4.960806), {'label': 'lateral root'}),\n",
       " ((6.473669, 5.029045), {'label': 'lateral root'}),\n",
       " ((6.555546, 5.054204), {'label': 'lateral root'}),\n",
       " ((6.62839, 5.076588), {'label': 'lateral root'}),\n",
       " ((6.898631, 5.149863), {'label': 'lateral root'}),\n",
       " ((6.997109, 5.172802), {'label': 'lateral root'}),\n",
       " ((7.225574, 5.271719), {'label': 'lateral root'}),\n",
       " ((7.320051, 5.288947), {'label': 'lateral root'}),\n",
       " ((7.413072, 5.324652), {'label': 'lateral root'}),\n",
       " ((7.477252, 5.351662), {'label': 'lateral root'}),\n",
       " ((7.53662, 5.382301), {'label': 'lateral root'}),\n",
       " ((7.597448, 5.416191), {'label': 'lateral root'}),\n",
       " ((7.637333, 5.437524), {'label': 'lateral root'}),\n",
       " ((7.666507, 5.466764), {'label': 'lateral root'}),\n",
       " ((7.803735, 5.54325), {'label': 'lateral root'}),\n",
       " ((7.863439, 5.579063), {'label': 'lateral root'}),\n",
       " ((7.921971, 5.616757), {'label': 'lateral root'}),\n",
       " ((7.966957, 5.648364), {'label': 'lateral root'}),\n",
       " ((8.03089, 5.712212), {'label': 'lateral root'}),\n",
       " ((8.054975, 5.743627), {'label': 'lateral root'}),\n",
       " ((8.095554, 5.800198), {'label': 'lateral root'}),\n",
       " ((8.134312, 5.858032), {'label': 'lateral root'}),\n",
       " ((8.175363, 5.917891), {'label': 'lateral root'}),\n",
       " ((8.221214, 5.978082), {'label': 'lateral root'}),\n",
       " ((8.270008, 6.035914), {'label': 'lateral root'}),\n",
       " ((8.321624, 6.091241), {'label': 'lateral root'}),\n",
       " ((8.354589, 6.129825), {'label': 'lateral root'}),\n",
       " ((8.378869, 6.166262), {'label': 'lateral root'}),\n",
       " ((8.419764, 6.226229), {'label': 'lateral root'}),\n",
       " ((8.437794, 6.264673), {'label': 'lateral root'}),\n",
       " ((8.46231, 6.327521), {'label': 'lateral root'}),\n",
       " ((8.486926, 6.390623), {'label': 'lateral root'}),\n",
       " ((8.499203, 6.430333), {'label': 'lateral root'}),\n",
       " ((8.50546, 6.476444), {'label': 'lateral root tip'}),\n",
       " ((6.326009, 5.276277), {'label': 'lateral root'}),\n",
       " ((6.406137, 5.354631), {'label': 'lateral root'}),\n",
       " ((6.438495, 5.388695), {'label': 'lateral root'}),\n",
       " ((6.589768, 5.42728), {'label': 'lateral root'}),\n",
       " ((6.659543, 5.417724), {'label': 'lateral root'}),\n",
       " ((6.720307, 5.40627), {'label': 'lateral root'}),\n",
       " ((6.778266, 5.405115), {'label': 'lateral root'}),\n",
       " ((6.808483, 5.410389), {'label': 'lateral root'}),\n",
       " ((6.869852, 5.417955), {'label': 'lateral root'}),\n",
       " ((6.914952, 5.426424), {'label': 'lateral root'}),\n",
       " ((6.967752, 5.439274), {'label': 'lateral root'}),\n",
       " ((7.019796, 5.454909), {'label': 'lateral root'}),\n",
       " ((7.063344, 5.47737), {'label': 'lateral root'}),\n",
       " ((7.105135, 5.493872), {'label': 'lateral root'}),\n",
       " ((7.19379, 5.53501), {'label': 'lateral root'}),\n",
       " ((7.306538, 5.570594), {'label': 'lateral root'}),\n",
       " ((7.380996, 5.592524), {'label': 'lateral root'}),\n",
       " ((7.430586, 5.614932), {'label': 'lateral root'}),\n",
       " ((7.506337, 5.655986), {'label': 'lateral root'}),\n",
       " ((7.583857, 5.686206), {'label': 'lateral root'}),\n",
       " ((7.662385, 5.719045), {'label': 'lateral root'}),\n",
       " ((7.788944, 5.780196), {'label': 'lateral root'}),\n",
       " ((7.857917, 5.825239), {'label': 'lateral root'}),\n",
       " ((7.940803, 5.884419), {'label': 'lateral root'}),\n",
       " ((8.017627, 5.936687), {'label': 'lateral root'}),\n",
       " ((8.047481, 5.966049), {'label': 'lateral root tip'}),\n",
       " ((6.272002, 5.398737), {'label': 'lateral root'}),\n",
       " ((6.325836, 5.448095), {'label': 'lateral root'}),\n",
       " ((6.34033, 5.468338), {'label': 'lateral root'}),\n",
       " ((6.366544, 5.507987), {'label': 'lateral root'}),\n",
       " ((6.396758, 5.54012), {'label': 'lateral root'}),\n",
       " ((6.428392, 5.575945), {'label': 'lateral root'}),\n",
       " ((6.46477, 5.626189), {'label': 'lateral root'}),\n",
       " ((6.497436, 5.673857), {'label': 'lateral root'}),\n",
       " ((6.518088, 5.706643), {'label': 'lateral root'}),\n",
       " ((6.625593, 5.879592), {'label': 'lateral root'}),\n",
       " ((6.669865, 5.933992), {'label': 'lateral root'}),\n",
       " ((6.70514, 5.991625), {'label': 'lateral root'}),\n",
       " ((6.789588, 6.068896), {'label': 'lateral root'}),\n",
       " ((6.858335, 6.119627), {'label': 'lateral root'}),\n",
       " ((6.904073, 6.162681), {'label': 'lateral root'}),\n",
       " ((6.976658, 6.23391), {'label': 'lateral root'}),\n",
       " ((7.01865, 6.281409), {'label': 'lateral root'}),\n",
       " ((7.065624, 6.332285), {'label': 'lateral root'}),\n",
       " ((7.094541, 6.366661), {'label': 'lateral root'}),\n",
       " ((7.159663, 6.418584), {'label': 'lateral root'}),\n",
       " ((7.190653, 6.455997), {'label': 'lateral root'}),\n",
       " ((7.236861, 6.502378), {'label': 'lateral root'}),\n",
       " ((7.26103, 6.530861), {'label': 'lateral root'}),\n",
       " ((7.286846, 6.57052), {'label': 'lateral root'}),\n",
       " ((7.319159, 6.620133), {'label': 'lateral root'}),\n",
       " ((7.351481, 6.66974), {'label': 'lateral root'}),\n",
       " ((7.38771, 6.746843), {'label': 'lateral root'}),\n",
       " ((7.408918, 6.798988), {'label': 'lateral root'}),\n",
       " ((7.435136, 6.855474), {'label': 'lateral root'}),\n",
       " ((7.44948, 6.900569), {'label': 'lateral root'}),\n",
       " ((7.471199, 6.958932), {'label': 'lateral root'}),\n",
       " ((7.488012, 7.012656), {'label': 'lateral root'}),\n",
       " ((7.509457, 7.071121), {'label': 'lateral root'}),\n",
       " ((7.526017, 7.124923), {'label': 'lateral root'}),\n",
       " ((7.547187, 7.183487), {'label': 'lateral root'}),\n",
       " ((7.567327, 7.239164), {'label': 'lateral root'}),\n",
       " ((7.591313, 7.296635), {'label': 'lateral root'}),\n",
       " ((7.600409, 7.345629), {'label': 'lateral root'}),\n",
       " ((7.610826, 7.401809), {'label': 'lateral root'}),\n",
       " ((7.622807, 7.433649), {'label': 'lateral root'}),\n",
       " ((7.649438, 7.491673), {'label': 'lateral root'}),\n",
       " ((7.668176, 7.543265), {'label': 'lateral root'}),\n",
       " ((7.697079, 7.622846), {'label': 'lateral root'}),\n",
       " ((7.717061, 7.67348), {'label': 'lateral root'}),\n",
       " ((7.725423, 7.726505), {'label': 'lateral root tip'}),\n",
       " ((6.259285, 5.191661), {'label': 'lateral root'}),\n",
       " ((6.021831, 5.365509), {'label': 'lateral root'}),\n",
       " ((5.967216, 5.408028), {'label': 'lateral root'}),\n",
       " ((5.910131, 5.44678), {'label': 'lateral root'}),\n",
       " ((5.8139, 5.501012), {'label': 'lateral root'}),\n",
       " ((5.770077, 5.518838), {'label': 'lateral root'}),\n",
       " ((5.663145, 5.554154), {'label': 'lateral root'}),\n",
       " ((5.632997, 5.56411), {'label': 'lateral root'}),\n",
       " ((5.516108, 5.66225), {'label': 'lateral root'}),\n",
       " ((5.270888, 5.776328), {'label': 'lateral root'}),\n",
       " ((5.201816, 5.808459), {'label': 'lateral root'}),\n",
       " ((5.129842, 5.848545), {'label': 'lateral root'}),\n",
       " ((5.049571, 5.900518), {'label': 'lateral root'}),\n",
       " ((4.970508, 5.955275), {'label': 'lateral root'}),\n",
       " ((4.715591, 6.157532), {'label': 'lateral root'}),\n",
       " ((4.657593, 6.213213), {'label': 'lateral root'}),\n",
       " ((4.602513, 6.272317), {'label': 'lateral root'}),\n",
       " ((4.550654, 6.33016), {'label': 'lateral root'}),\n",
       " ((4.477947, 6.401749), {'label': 'lateral root'}),\n",
       " ((4.429697, 6.447156), {'label': 'lateral root'}),\n",
       " ((4.380306, 6.495692), {'label': 'lateral root'}),\n",
       " ((4.320004, 6.563848), {'label': 'lateral root'}),\n",
       " ((4.274992, 6.612462), {'label': 'lateral root'}),\n",
       " ((4.239122, 6.653405), {'label': 'lateral root'}),\n",
       " ((4.20746, 6.696359), {'label': 'lateral root'}),\n",
       " ((4.169805, 6.767623), {'label': 'lateral root'}),\n",
       " ((4.119307, 6.847787), {'label': 'lateral root tip'}),\n",
       " ((6.234476, 5.303656), {'label': 'lateral root'}),\n",
       " ((6.041799, 5.408616), {'label': 'lateral root'}),\n",
       " ((6.003414, 5.448783), {'label': 'lateral root'}),\n",
       " ((5.980262, 5.47301), {'label': 'lateral root'}),\n",
       " ((5.962618, 5.487141), {'label': 'lateral root'}),\n",
       " ((5.937836, 5.506989), {'label': 'lateral root'}),\n",
       " ((5.918475, 5.518659), {'label': 'lateral root'}),\n",
       " ((5.806523, 5.576972), {'label': 'lateral root'}),\n",
       " ((5.763834, 5.610979), {'label': 'lateral root'}),\n",
       " ((5.729541, 5.634493), {'label': 'lateral root'}),\n",
       " ((5.369185, 5.743284), {'label': 'lateral root'}),\n",
       " ((5.219866, 5.818283), {'label': 'lateral root'}),\n",
       " ((5.126347, 5.876819), {'label': 'lateral root'}),\n",
       " ((5.023603, 5.939566), {'label': 'lateral root'}),\n",
       " ((4.98116, 5.970183), {'label': 'lateral root'}),\n",
       " ((4.855888, 6.05819), {'label': 'lateral root'}),\n",
       " ((4.741723, 6.139247), {'label': 'lateral root tip'}),\n",
       " ((6.146365, 5.637581), {'label': 'lateral root'}),\n",
       " ((6.187208, 5.685703), {'label': 'lateral root'}),\n",
       " ((6.214601, 5.717977), {'label': 'lateral root'}),\n",
       " ((6.239883, 5.75008), {'label': 'lateral root'}),\n",
       " ((6.269213, 5.789741), {'label': 'lateral root'}),\n",
       " ((6.299419, 5.830585), {'label': 'lateral root'}),\n",
       " ((6.32838, 5.877298), {'label': 'lateral root'}),\n",
       " ((6.357209, 5.920959), {'label': 'lateral root'}),\n",
       " ((6.37937, 5.954519), {'label': 'lateral root'}),\n",
       " ((6.498755, 6.043727), {'label': 'lateral root'}),\n",
       " ((6.52937, 6.082392), {'label': 'lateral root'}),\n",
       " ((6.54724, 6.114605), {'label': 'lateral root'}),\n",
       " ((6.568766, 6.147235), {'label': 'lateral root'}),\n",
       " ((6.592077, 6.182572), {'label': 'lateral root'}),\n",
       " ((6.615524, 6.20724), {'label': 'lateral root'}),\n",
       " ((6.64469, 6.237923), {'label': 'lateral root'}),\n",
       " ((6.678087, 6.268714), {'label': 'lateral root'}),\n",
       " ((6.692531, 6.286102), {'label': 'lateral root tip'}),\n",
       " ((5.979358, 5.854474), {'label': 'lateral root'}),\n",
       " ((5.937029, 5.859282), {'label': 'lateral root'}),\n",
       " ((5.824336, 5.843), {'label': 'lateral root'}),\n",
       " ((5.696261, 5.85637), {'label': 'lateral root'}),\n",
       " ((5.626125, 5.856167), {'label': 'lateral root'}),\n",
       " ((5.578695, 5.862252), {'label': 'lateral root'}),\n",
       " ((5.529114, 5.870121), {'label': 'lateral root tip'}),\n",
       " ((6.056457, 5.729982), {'label': 'lateral root'}),\n",
       " ((5.975684, 5.746938), {'label': 'lateral root'}),\n",
       " ((5.950825, 5.752156), {'label': 'lateral root'}),\n",
       " ((5.900218, 5.807666), {'label': 'lateral root'}),\n",
       " ((5.821339, 5.842897), {'label': 'lateral root'}),\n",
       " ((5.711468, 5.857034), {'label': 'lateral root tip'}),\n",
       " ((6.038162, 6.085598), {'label': 'lateral root'}),\n",
       " ((6.115444, 6.136664), {'label': 'lateral root'}),\n",
       " ((6.182615, 6.190983), {'label': 'lateral root'}),\n",
       " ((6.217177, 6.218933), {'label': 'lateral root'}),\n",
       " ((6.246991, 6.235345), {'label': 'lateral root'}),\n",
       " ((6.29891, 6.263926), {'label': 'lateral root'}),\n",
       " ((6.342697, 6.294864), {'label': 'lateral root'}),\n",
       " ((6.397658, 6.33553), {'label': 'lateral root'}),\n",
       " ((6.441282, 6.378145), {'label': 'lateral root tip'}),\n",
       " ((6.371126, 4.933895), {'label': 'lateral root'}),\n",
       " ((6.795211, 5.12263), {'label': 'lateral root'}),\n",
       " ((6.940474, 5.085118), {'label': 'lateral root'}),\n",
       " ((7.093905, 5.134315), {'label': 'lateral root'}),\n",
       " ((7.147778, 5.142603), {'label': 'lateral root'}),\n",
       " ((7.19121, 5.14777), {'label': 'lateral root'}),\n",
       " ((7.231468, 5.154068), {'label': 'lateral root'}),\n",
       " ((7.279947, 5.163166), {'label': 'lateral root'}),\n",
       " ((7.3533, 5.173133), {'label': 'lateral root tip'})]"
      ]
     },
     "execution_count": 1834,
     "metadata": {},
     "output_type": "execute_result"
    }
   ],
   "source": [
    "list(G.nodes(data = True))"
   ]
  },
  {
   "cell_type": "code",
   "execution_count": null,
   "id": "c26a7502-e7c4-46e3-8bcc-ce0bca1f90e4",
   "metadata": {},
   "outputs": [],
   "source": []
  }
 ],
 "metadata": {
  "kernelspec": {
   "display_name": "Python 3 (ipykernel)",
   "language": "python",
   "name": "python3"
  },
  "language_info": {
   "codemirror_mode": {
    "name": "ipython",
    "version": 3
   },
   "file_extension": ".py",
   "mimetype": "text/x-python",
   "name": "python",
   "nbconvert_exporter": "python",
   "pygments_lexer": "ipython3",
   "version": "3.12.3"
  }
 },
 "nbformat": 4,
 "nbformat_minor": 5
}
