{
 "cells": [
  {
   "cell_type": "code",
   "execution_count": 87,
   "id": "935daa55-3eab-4c6d-89de-e4b4ae68c931",
   "metadata": {},
   "outputs": [],
   "source": [
    "from math import *\n",
    "import point_similarity as ps\n",
    "from scipy.integrate import quad\n",
    "from sympy import *"
   ]
  },
  {
   "cell_type": "code",
   "execution_count": 44,
   "id": "1fe6ba30-a9d0-4d78-b52a-032c52c334b8",
   "metadata": {},
   "outputs": [
    {
     "data": {
      "text/plain": [
       "'\\nx0, y0 = 4,7.5\\nx1, y1 = 5,8\\np, q = 7,8\\nt = -24.5-4*b\\nb = ((q + 24.5 - 2*p*p)/(p-4))\\nb\\n'"
      ]
     },
     "execution_count": 44,
     "metadata": {},
     "output_type": "execute_result"
    }
   ],
   "source": [
    "#based on an x0, y0 and x1, y1, split the path between them into sections, then for each point, use it to complete qudratic to a certain point\n",
    "'''\n",
    "x0, y0 = 4,7.5\n",
    "x1, y1 = 5,8\n",
    "p, q = 7,8\n",
    "t = -24.5-4*b\n",
    "b = ((q + 24.5 - 2*p*p)/(p-4))\n",
    "b\n",
    "'''"
   ]
  },
  {
   "cell_type": "code",
   "execution_count": 10,
   "id": "cc2dea07-b4e2-4d9b-9543-72dcc2d640c0",
   "metadata": {},
   "outputs": [],
   "source": [
    "def calc_coeff(x, y, p, q):\n",
    "    c1 = y -2*x*x #-2 can be replaced by whatever G is\n",
    "    b = ((q - c1 - 2*p*p)/(p-x))\n",
    "    c = c1 - x * b\n",
    "    return b, c"
   ]
  },
  {
   "cell_type": "code",
   "execution_count": 46,
   "id": "aff1c6ae-e180-4624-bb13-4fde7339db53",
   "metadata": {},
   "outputs": [
    {
     "data": {
      "text/plain": [
       "(-19.75, 48.25)"
      ]
     },
     "execution_count": 46,
     "metadata": {},
     "output_type": "execute_result"
    }
   ],
   "source": [
    "calc_coeff(3, 7, 7, 8)"
   ]
  },
  {
   "cell_type": "code",
   "execution_count": 31,
   "id": "9349cacd-8b96-44e8-ae98-c2b629f36005",
   "metadata": {},
   "outputs": [],
   "source": [
    "x = symbols('x')"
   ]
  },
  {
   "cell_type": "code",
   "execution_count": 43,
   "id": "a0bb1905-48ae-4285-ac7a-da2005db2e93",
   "metadata": {},
   "outputs": [
    {
     "name": "stdout",
     "output_type": "stream",
     "text": [
      "4*x - 19.75\n"
     ]
    }
   ],
   "source": [
    "b,c = calc_coeff(3, 7, 7, 8)\n",
    "f = 2*x*x + b*x + c\n",
    "f_prime = diff(f, x)\n",
    "print(f_prime)"
   ]
  },
  {
   "cell_type": "code",
   "execution_count": 61,
   "id": "ee3b970c-3a85-4460-b49f-dfe196108d5d",
   "metadata": {},
   "outputs": [],
   "source": [
    "def derivative(b, c):\n",
    "    x = symbols('x')\n",
    "    f = 2*x*x + b*x + c\n",
    "    f_prime = diff(f, x)\n",
    "    return f_prime"
   ]
  },
  {
   "cell_type": "code",
   "execution_count": 67,
   "id": "8ab02060-a2d4-4267-8ed5-d2191c6ee396",
   "metadata": {},
   "outputs": [
    {
     "data": {
      "text/latex": [
       "$\\displaystyle 4 x - 19.75$"
      ],
      "text/plain": [
       "4*x - 19.75"
      ]
     },
     "execution_count": 67,
     "metadata": {},
     "output_type": "execute_result"
    }
   ],
   "source": [
    "derivative(-19.75, 48.25)"
   ]
  },
  {
   "cell_type": "code",
   "execution_count": 96,
   "id": "11fc1c5b-e166-4804-8211-949a0df4eaf7",
   "metadata": {},
   "outputs": [
    {
     "data": {
      "text/latex": [
       "$\\displaystyle 16.8341378512273$"
      ],
      "text/plain": [
       "16.8341378512273"
      ]
     },
     "execution_count": 96,
     "metadata": {},
     "output_type": "execute_result"
    }
   ],
   "source": [
    "der = derivative(-19.75, 48.25)\n",
    "function = sqrt(1 + der * der)\n",
    "integrate(function, (x, 3, 7))"
   ]
  },
  {
   "cell_type": "code",
   "execution_count": 109,
   "id": "b6874299-7f48-4a07-a2fe-9b78d561d10c",
   "metadata": {},
   "outputs": [],
   "source": [
    "def curve_length(x0, y0, p, q):\n",
    "    b, c = calc_coeff(x0, y0, p, q)\n",
    "    der = derivative(b, c)\n",
    "    f = sqrt(1 + der * der)\n",
    "    dist = integrate(f, (x, x0, p))\n",
    "    return dist"
   ]
  },
  {
   "cell_type": "code",
   "execution_count": 110,
   "id": "a60f1a32-e187-475f-9a18-895f33f080a5",
   "metadata": {},
   "outputs": [
    {
     "data": {
      "text/latex": [
       "$\\displaystyle 16.8341378512273$"
      ],
      "text/plain": [
       "16.8341378512273"
      ]
     },
     "execution_count": 110,
     "metadata": {},
     "output_type": "execute_result"
    }
   ],
   "source": [
    "curve_length(3, 7, 7, 8)"
   ]
  },
  {
   "cell_type": "code",
   "execution_count": 118,
   "id": "70e05ce2-3452-4a72-be83-4207e994d0f5",
   "metadata": {},
   "outputs": [],
   "source": [
    "def distance_from_base(x0, y0, x1, y1):\n",
    "    pair1 = [x0, y0]\n",
    "    pair2 = [x1, y1]\n",
    "    distance = dist(pair1, pair2)\n",
    "    return distance + 10 # 10 is the set distance from the base to the lateral root"
   ]
  },
  {
   "cell_type": "code",
   "execution_count": 117,
   "id": "a2c2f857-9484-46c1-8265-6d0477b09dce",
   "metadata": {},
   "outputs": [
    {
     "data": {
      "text/plain": [
       "12.23606797749979"
      ]
     },
     "execution_count": 117,
     "metadata": {},
     "output_type": "execute_result"
    }
   ],
   "source": [
    "distance_from_base(3, 7, 5, 8)"
   ]
  },
  {
   "cell_type": "code",
   "execution_count": 124,
   "id": "21a953bd-5571-486b-b07f-4de0aede332f",
   "metadata": {},
   "outputs": [],
   "source": [
    "def total_cost(alpha, x0, y0, x1, y1, p, q):\n",
    "    cost = alpha * curve_length(x0, y0, p, q) + (1 - alpha) * (curve_length(x0, y0, p, q) + distance_from_base(x0, y0, x1, y1))\n",
    "    return cost"
   ]
  },
  {
   "cell_type": "code",
   "execution_count": 125,
   "id": "406f5db0-5936-4d02-8b5b-a2ad533007a4",
   "metadata": {},
   "outputs": [
    {
     "data": {
      "text/latex": [
       "$\\displaystyle 22.9521718399772$"
      ],
      "text/plain": [
       "22.9521718399772"
      ]
     },
     "execution_count": 125,
     "metadata": {},
     "output_type": "execute_result"
    }
   ],
   "source": [
    "total_cost(0.5, 3, 7, 5, 8, 7, 8)"
   ]
  },
  {
   "cell_type": "code",
   "execution_count": null,
   "id": "ee71e20e-97d3-4974-b653-597f77edb886",
   "metadata": {},
   "outputs": [],
   "source": [
    "## def best_cost() todo: iterate through many points on the lateral root to minimize total cost"
   ]
  }
 ],
 "metadata": {
  "kernelspec": {
   "display_name": "Python 3 (ipykernel)",
   "language": "python",
   "name": "python3"
  },
  "language_info": {
   "codemirror_mode": {
    "name": "ipython",
    "version": 3
   },
   "file_extension": ".py",
   "mimetype": "text/x-python",
   "name": "python",
   "nbconvert_exporter": "python",
   "pygments_lexer": "ipython3",
   "version": "3.12.3"
  }
 },
 "nbformat": 4,
 "nbformat_minor": 5
}
