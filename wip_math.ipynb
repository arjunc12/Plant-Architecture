{
 "cells": [
  {
   "cell_type": "code",
   "execution_count": 2,
   "id": "935daa55-3eab-4c6d-89de-e4b4ae68c931",
   "metadata": {},
   "outputs": [],
   "source": [
    "import math\n",
    "import point_similarity as ps\n",
    "import scipy.integrate as integrate\n",
    "import pylab\n",
    "import mpmath\n",
    "from scipy.misc import derivative\n",
    "import plotly\n",
    "from plotly import graph_objs as go\n",
    "import sys\n",
    "import read_arbor_reconstruction as rar\n",
    "import networkx as nx\n",
    "import pareto_functions as pf"
   ]
  },
  {
   "cell_type": "code",
   "execution_count": null,
   "id": "2b535573-d6d8-4e10-b570-89c658e8ef4d",
   "metadata": {},
   "outputs": [],
   "source": []
  },
  {
   "cell_type": "code",
   "execution_count": 287,
   "id": "28a97b2a-441b-48b7-af60-81a3d9149d8a",
   "metadata": {},
   "outputs": [
    {
     "data": {
      "text/plain": [
       "'test/test/blah/skjlkds.csv'"
      ]
     },
     "execution_count": 287,
     "metadata": {},
     "output_type": "execute_result"
    }
   ],
   "source": [
    "arbor = 'skjlkds.csv'\n",
    "path = 'test/test/blah'\n",
    "fname = '%s/%s' % (path, arbor)\n",
    "fname"
   ]
  },
  {
   "cell_type": "code",
   "execution_count": 3,
   "id": "cc2dea07-b4e2-4d9b-9543-72dcc2d640c0",
   "metadata": {},
   "outputs": [],
   "source": [
    "def calc_coeff(G, x, y, p, q):\n",
    "    b = ((q - y - G*(p*p - x*x))/(p-x))\n",
    "    c = (q - G*p*p - b*p)\n",
    "\n",
    "    # assert (G * x * x) + (b * x) + c == y\n",
    "    # assert (G * p * p) + (b * p) + c == q\n",
    "    \n",
    "    return b, c"
   ]
  },
  {
   "cell_type": "code",
   "execution_count": 101,
   "id": "aff1c6ae-e180-4624-bb13-4fde7339db53",
   "metadata": {},
   "outputs": [
    {
     "data": {
      "text/plain": [
       "(-1.8333333333333333, 14.833333333333332)"
      ]
     },
     "execution_count": 101,
     "metadata": {},
     "output_type": "execute_result"
    }
   ],
   "source": [
    "calc_coeff(0, 4, 7.5, 7, 2)"
   ]
  },
  {
   "cell_type": "code",
   "execution_count": 4,
   "id": "b6874299-7f48-4a07-a2fe-9b78d561d10c",
   "metadata": {},
   "outputs": [],
   "source": [
    "def curve_length(G, x0, y0, p, q):        \n",
    "    b, c = calc_coeff(G, x0, y0, p, q)\n",
    "    def differential(x):\n",
    "        return pylab.sqrt(1 + (2*G*x + b)**2)\n",
    "    curve, tolerance = integrate.quad(differential, min(x0, p), max(x0, p))\n",
    "    return curve"
   ]
  },
  {
   "cell_type": "code",
   "execution_count": 103,
   "id": "a60f1a32-e187-475f-9a18-895f33f080a5",
   "metadata": {},
   "outputs": [
    {
     "data": {
      "text/plain": [
       "6.276941930590086"
      ]
     },
     "execution_count": 103,
     "metadata": {},
     "output_type": "execute_result"
    }
   ],
   "source": [
    "curve_length(0, 3.8, 7.4, 7, 2)"
   ]
  },
  {
   "cell_type": "code",
   "execution_count": 5,
   "id": "70e05ce2-3452-4a72-be83-4207e994d0f5",
   "metadata": {},
   "outputs": [],
   "source": [
    "def distance_from_base(root_distance, x, y, x1, y1):\n",
    "    pair1 = [x, y]\n",
    "    pair2 = [x1, y1]\n",
    "    distance = math.dist(pair1, pair2)\n",
    "    if(x,y) == (x1, y1):\n",
    "        assert distance == 0\n",
    "    return distance + root_distance"
   ]
  },
  {
   "cell_type": "code",
   "execution_count": 105,
   "id": "a2c2f857-9484-46c1-8265-6d0477b09dce",
   "metadata": {},
   "outputs": [
    {
     "data": {
      "text/plain": [
       "100.89442719099992"
      ]
     },
     "execution_count": 105,
     "metadata": {},
     "output_type": "execute_result"
    }
   ],
   "source": [
    "distance_from_base(100, 3, 7, 3.8, 7.4)"
   ]
  },
  {
   "cell_type": "code",
   "execution_count": 24,
   "id": "21a953bd-5571-486b-b07f-4de0aede332f",
   "metadata": {},
   "outputs": [],
   "source": [
    "def total_cost(seg_length, alpha, G, root_distance, x0, y0, x1, y1, p, q):\n",
    "    if G == 0:\n",
    "        edge = length_func(x1, y1, p, q)\n",
    "    else:\n",
    "        edge = curve_length(G, x1, y1, p, q)\n",
    "        \n",
    "    to_root = distance_from_base(root_distance, x0, y0, x1, y1)\n",
    "    wiring = edge\n",
    "    delay = (edge + to_root)\n",
    "    cost = (alpha * wiring) +  ((1 - alpha) * delay)\n",
    "    #print(\"curve = \", curve, \"to root = \" , to_root, \"wiring = \", wiring, \"delay = \", delay, \"total cost = \", cost)\n",
    "    #cost = curve + (1 - alpha) * distance_from_base(root_distance, x0, y0, x1, y1)\n",
    "    return cost, wiring, delay"
   ]
  },
  {
   "cell_type": "code",
   "execution_count": 298,
   "id": "406f5db0-5936-4d02-8b5b-a2ad533007a4",
   "metadata": {},
   "outputs": [
    {
     "data": {
      "text/plain": [
       "(8.599019513592784, 5.0990195135927845, 10.099019513592784)"
      ]
     },
     "execution_count": 298,
     "metadata": {},
     "output_type": "execute_result"
    }
   ],
   "source": [
    "total_cost(0.3, 0, 0, 3, 7, 8, 7, 7, 2)"
   ]
  },
  {
   "cell_type": "code",
   "execution_count": 6,
   "id": "21bf2d3a-eb37-43a7-8574-48e7cd807cde",
   "metadata": {},
   "outputs": [],
   "source": [
    "def length_func(x0, y0, x1, y1):\n",
    "    length = pylab.sqrt((x1 - x0)**2 + (y1 - y0)**2)\n",
    "    return length"
   ]
  },
  {
   "cell_type": "code",
   "execution_count": 7,
   "id": "1eebfee0-014b-4b18-87ff-5fe5832e54c6",
   "metadata": {},
   "outputs": [],
   "source": [
    "def get_theta(x0, y0, x1, y1):\n",
    "    theta = pylab.arctan((abs(y1 - y0))/(abs(x1 - x0)))\n",
    "    return theta"
   ]
  },
  {
   "cell_type": "code",
   "execution_count": 8,
   "id": "5ea8abfd-5983-4e96-8e95-f434b6709e85",
   "metadata": {},
   "outputs": [],
   "source": [
    "def positive_slope(x0, y0, x1, y1):\n",
    "    slope = (y1 - y0)/(x1 - x0)\n",
    "    if slope >= 0:\n",
    "        return True\n",
    "    return False"
   ]
  },
  {
   "cell_type": "code",
   "execution_count": 9,
   "id": "f463389c-6230-46bc-bf11-1eb0746b24fa",
   "metadata": {},
   "outputs": [],
   "source": [
    "def find_best_cost(root_length, alpha, G, root_distance, x0, y0, x1, y1, p, q):\n",
    "    results = []\n",
    "    min_t = 0\n",
    "    delta = 0.01\n",
    "    max_t = 1\n",
    "    best_t = math.inf\n",
    "    best_cost = math.inf\n",
    "    best_wiring = math.inf\n",
    "    best_delay = math.inf\n",
    "    l = length_func(x0, y0, x1, y1)\n",
    "    theta = get_theta(x0, y0, x1, y1)\n",
    "    x_opt = None\n",
    "    y_opt = None\n",
    "    best_x = None\n",
    "    best_y = None\n",
    "    for t in pylab.arange(min_t, max_t + delta, delta):\n",
    "        is_positive = positive_slope(x0, y0, x1, y1)\n",
    "        new_x = None\n",
    "        new_y = None\n",
    "        if is_positive:\n",
    "            new_x = x0 + t*l*math.cos(theta)\n",
    "            new_y = y0 + t*l*math.sin(theta)\n",
    "        else: \n",
    "            new_x = x0 - (t*l*math.cos(theta))\n",
    "            new_y = y0 + (t*l*math.sin(theta))\n",
    "        x_curr = pylab.linspace(min(p, new_x), max(p, new_x))\n",
    "        cost, wiring, delay = total_cost(l, alpha, G, root_distance, x0, y0, new_x, new_y, p, q)\n",
    "        if cost <= best_cost:\n",
    "            best_cost = cost\n",
    "            best_wiring = wiring\n",
    "            best_delay = delay\n",
    "            best_t = t\n",
    "            b, c = calc_coeff(G, new_x, new_y, p, q)\n",
    "            best_x = new_x\n",
    "            best_y = new_y\n",
    "            #x_opt = x_curr\n",
    "            #y_opt = G * x_opt ** 2 + b * x_opt + c\n",
    "        '''\n",
    "        if t % 0.2 == 0:\n",
    "            b, c = calc_coeff(G, new_x, new_y, p, q)\n",
    "            y_inter =  G * x_curr ** 2 + b * x_curr + c\n",
    "            intermediate_line = go.Scatter(x = x_curr,y = y_inter, mode = \"lines\", name = str(cost))\n",
    "            fig.add_trace(intermediate_line)\n",
    "           ''' \n",
    "        results.append(cost)\n",
    "    ##opt_line = go.Scatter(x = x_opt, y = y_opt, mode = \"lines\", name = \"Optimal: \" + str(best_cost))\n",
    "    ##fig.add_trace(opt_line)\n",
    "    return best_cost, best_wiring, best_delay, best_t, best_x, best_y, p, q"
   ]
  },
  {
   "cell_type": "code",
   "execution_count": 112,
   "id": "369dfb7e-09f1-474a-bd01-856797ee68c1",
   "metadata": {},
   "outputs": [
    {
     "data": {
      "text/plain": [
       "'\\npt1 = [5, 0.1]\\npt2 = [-13, 2]\\n\\np_pt = 7\\nq_pt = 2\\nG = 0\\nalpha = 0.5\\nDroot = 0\\nmain = go.Scatter(x=pt1, y=pt2, name=\"main root segment\")\\npq = go.Scatter(x = [p_pt], y= [q_pt], name=\"(p,q)\")\\n\\nexample_fig = go.Figure()\\nexample_fig.add_trace(main)\\nexample_fig.add_trace(pq)\\n\\nfind_best_cost(alpha, G, Droot, pt1[0], pt2[0], pt1[1], pt2[1], p_pt, q_pt)\\nexample_fig.update_layout(xaxis_range=[2.5, 6.5])\\nexample_fig.update_layout(yaxis_range=[5.5, 8.5])\\nexample_fig.show()\\n'"
      ]
     },
     "execution_count": 112,
     "metadata": {},
     "output_type": "execute_result"
    }
   ],
   "source": [
    "'''\n",
    "pt1 = [5, 0.1]\n",
    "pt2 = [-13, 2]\n",
    "\n",
    "p_pt = 7\n",
    "q_pt = 2\n",
    "G = 0\n",
    "alpha = 0.5\n",
    "Droot = 0\n",
    "main = go.Scatter(x=pt1, y=pt2, name=\"main root segment\")\n",
    "pq = go.Scatter(x = [p_pt], y= [q_pt], name=\"(p,q)\")\n",
    "\n",
    "example_fig = go.Figure()\n",
    "example_fig.add_trace(main)\n",
    "example_fig.add_trace(pq)\n",
    "\n",
    "find_best_cost(alpha, G, Droot, pt1[0], pt2[0], pt1[1], pt2[1], p_pt, q_pt)\n",
    "example_fig.update_layout(xaxis_range=[2.5, 6.5])\n",
    "example_fig.update_layout(yaxis_range=[5.5, 8.5])\n",
    "example_fig.show()\n",
    "'''"
   ]
  },
  {
   "cell_type": "code",
   "execution_count": 10,
   "id": "4fa17d2e-5c5d-4ce0-9b78-3212fe29f0e0",
   "metadata": {},
   "outputs": [],
   "source": [
    "def get_length_and_theta(x0, y0, x1, y1):\n",
    "    length = length_func(x0, y0, x1, y1)\n",
    "    theta = get_theta(x0, y0, x1, y1)\n",
    "    return length, theta"
   ]
  },
  {
   "cell_type": "code",
   "execution_count": 11,
   "id": "0ea6a695-986a-4363-b9c1-5ef68e566672",
   "metadata": {},
   "outputs": [],
   "source": [
    "def three_line_segments(alpha, G, root_distance, x0, y0, x1, y1, x2, y2, x3, y3, p, q):\n",
    "    min_t = 0\n",
    "    delta = 0.01\n",
    "    max_t = 1\n",
    "    \n",
    "    s1 = find_best_cost(alpha, G, root_distance, x0, y0, x1, y1, p, q)\n",
    "    \n",
    "    segment1_length = length_func(x0, y0, x1, y1)\n",
    "    s2 = find_best_cost(alpha, G, root_distance + segment1_length, x1, y1, x2, y2, p, q)\n",
    "\n",
    "    segment2_length = length_func(x1, y1, x2, y2)\n",
    "    s3 = find_best_cost(alpha, G, root_distance + segment1_length + segment2_length, x2, y2, x3, y3, p, q)\n",
    "    print(s1)\n",
    "    print(s2)\n",
    "    print(s3)\n",
    "    \n",
    "    \n",
    "    return min(s1[0], s2[0], s3[0])"
   ]
  },
  {
   "cell_type": "code",
   "execution_count": null,
   "id": "51d46610-26ab-40ea-9ba7-2b38a935dc56",
   "metadata": {},
   "outputs": [],
   "source": []
  },
  {
   "cell_type": "code",
   "execution_count": 119,
   "id": "80b46853-a740-4816-b575-f9690eabc57d",
   "metadata": {},
   "outputs": [
    {
     "name": "stdout",
     "output_type": "stream",
     "text": [
      "(4.428317965096906, 1.0, 0.09999999999999934, 6.0, 2, 10)\n",
      "(1.7850086834522678, 0.58, 0.21600000000000036, 10.06, 2, 10)\n",
      "(3.448187929913334, 0.0, 0.3, 13.0, 2, 10)\n"
     ]
    },
    {
     "data": {
      "text/plain": [
       "1.7850086834522678"
      ]
     },
     "execution_count": 119,
     "metadata": {},
     "output_type": "execute_result"
    }
   ],
   "source": [
    "three_line_segments(1, 0, 10, 0, 0, 0.1, 6, 0.3, 13, 0.2, 19, 2, 10)"
   ]
  },
  {
   "cell_type": "code",
   "execution_count": 12,
   "id": "8327497e-4b59-4148-a85d-d659e2c71828",
   "metadata": {},
   "outputs": [],
   "source": [
    "def get_xy_coords(t, x0, y0, x1, y1):\n",
    "    x = x0 + t * get_length_and_theta(x0, y0, x1, y1)[0] * math.cos(get_length_and_theta(x0, y0, x1, y1)[1])\n",
    "    y = y0 + t * get_length_and_theta(x0, y0, x1, y1)[0] * math.sin(get_length_and_theta(x0, y0, x1, y1)[1])\n",
    "    return x, y"
   ]
  },
  {
   "cell_type": "code",
   "execution_count": 122,
   "id": "00aea3f1-976f-4ed8-b9e0-4b2a18e1ffdd",
   "metadata": {},
   "outputs": [
    {
     "data": {
      "text/plain": [
       "(0.30000000000000066, 13.0)"
      ]
     },
     "execution_count": 122,
     "metadata": {},
     "output_type": "execute_result"
    }
   ],
   "source": [
    "get_xy_coords(1, 0.1, 6, 0.3, 13)"
   ]
  },
  {
   "cell_type": "code",
   "execution_count": 353,
   "id": "bbbc9489-d2e3-46e0-89d4-4be19e87866f",
   "metadata": {},
   "outputs": [
    {
     "name": "stdout",
     "output_type": "stream",
     "text": [
      "7.002856560004639\n"
     ]
    },
    {
     "data": {
      "text/plain": [
       "(1.7850086834522678,\n",
       " 1.7850086834522678,\n",
       " 15.84666548825496,\n",
       " 0.58,\n",
       " 0.21600000000000036,\n",
       " 10.06,\n",
       " 2,\n",
       " 10)"
      ]
     },
     "execution_count": 353,
     "metadata": {},
     "output_type": "execute_result"
    }
   ],
   "source": [
    "find_best_cost(1, 0, 10, 0.1, 6, 0.3, 13, 2, 10)"
   ]
  },
  {
   "cell_type": "code",
   "execution_count": 13,
   "id": "dcbb7ad6-1e1c-4392-81d6-b79af509c0b7",
   "metadata": {},
   "outputs": [
    {
     "ename": "TypeError",
     "evalue": "find_best_cost() missing 1 required positional argument: 'q'",
     "output_type": "error",
     "traceback": [
      "\u001b[1;31m---------------------------------------------------------------------------\u001b[0m",
      "\u001b[1;31mTypeError\u001b[0m                                 Traceback (most recent call last)",
      "Cell \u001b[1;32mIn[13], line 15\u001b[0m\n\u001b[0;32m     12\u001b[0m alpha \u001b[38;5;241m=\u001b[39m \u001b[38;5;241m1\u001b[39m\n\u001b[0;32m     13\u001b[0m Droot \u001b[38;5;241m=\u001b[39m \u001b[38;5;241m10\u001b[39m\n\u001b[1;32m---> 15\u001b[0m s1_t \u001b[38;5;241m=\u001b[39m find_best_cost(alpha, G, Droot, pt1[\u001b[38;5;241m0\u001b[39m], pt2[\u001b[38;5;241m0\u001b[39m], pt1[\u001b[38;5;241m1\u001b[39m], pt2[\u001b[38;5;241m1\u001b[39m], p_pt, q_pt)[\u001b[38;5;241m1\u001b[39m]\n\u001b[0;32m     16\u001b[0m s1_opt \u001b[38;5;241m=\u001b[39m get_xy_coords(s1_t, pt1[\u001b[38;5;241m0\u001b[39m], pt2[\u001b[38;5;241m0\u001b[39m], pt1[\u001b[38;5;241m1\u001b[39m], pt2[\u001b[38;5;241m1\u001b[39m])\n\u001b[0;32m     18\u001b[0m s2_t \u001b[38;5;241m=\u001b[39m find_best_cost(alpha, G, Droot, pt1[\u001b[38;5;241m1\u001b[39m], pt2[\u001b[38;5;241m1\u001b[39m], pt3[\u001b[38;5;241m1\u001b[39m], pt4[\u001b[38;5;241m1\u001b[39m], p_pt, q_pt)[\u001b[38;5;241m1\u001b[39m]\n",
      "\u001b[1;31mTypeError\u001b[0m: find_best_cost() missing 1 required positional argument: 'q'"
     ]
    }
   ],
   "source": [
    "pt1 = [0, 0.1]\n",
    "pt2 = [0, 6]\n",
    "\n",
    "pt3 = [0.1, 0.3]\n",
    "pt4 = [6, 13]\n",
    "\n",
    "pt5 = [0.3, 0.2]\n",
    "pt6 = [13, 19]\n",
    "p_pt = 2\n",
    "q_pt = 10\n",
    "G = 0\n",
    "alpha = 1\n",
    "Droot = 10\n",
    "\n",
    "s1_t = find_best_cost(alpha, G, Droot, pt1[0], pt2[0], pt1[1], pt2[1], p_pt, q_pt)[1]\n",
    "s1_opt = get_xy_coords(s1_t, pt1[0], pt2[0], pt1[1], pt2[1])\n",
    "\n",
    "s2_t = find_best_cost(alpha, G, Droot, pt1[1], pt2[1], pt3[1], pt4[1], p_pt, q_pt)[1]\n",
    "s2_opt = get_xy_coords(s2_t, pt1[1], pt2[1], pt3[1], pt4[1])\n",
    "\n",
    "s3_t = find_best_cost(alpha, G, Droot, pt3[1], pt4[1], pt5[1], pt6[1], p_pt, q_pt)[1]\n",
    "s3_opt = get_xy_coords(s3_t, pt3[1], pt4[1], pt5[1], pt6[1])\n",
    "\n",
    "segment1 = go.Scatter(x=pt1, y=pt2, name=\"main root segment1\")\n",
    "segment2 = go.Scatter(x=pt3, y=pt4, name=\"main root segment2\")\n",
    "segment3 = go.Scatter(x=pt5, y=pt6, name=\"main root segment3\")\n",
    "\n",
    "pq = go.Scatter(x = [p_pt], y= [q_pt], name=\"(p,q)\")\n",
    "\n",
    "s1_pt = go.Scatter(x = [s1_opt[0]], y = [s1_opt[1]], name = \"segment1 optimal point\")\n",
    "s2_pt = go.Scatter(x = [s2_opt[0]], y = [s2_opt[1]], name = \"segment2 optimal point\")\n",
    "s3_pt = go.Scatter(x = [s3_opt[0]], y = [s3_opt[1]], name = \"segment3 optimal point\")\n",
    "\n",
    "s1_pq_x = [s1_opt[0], p_pt]\n",
    "s1_pq_y = [s1_opt[1], q_pt]\n",
    "\n",
    "s1_pq = go.Scatter(x=s1_pq_x, y=s1_pq_y, name=\"PQ - optimal s1 point\")\n",
    "\n",
    "s2_pq_x = [s2_opt[0], p_pt]\n",
    "s2_pq_y = [s2_opt[1], q_pt]\n",
    "\n",
    "s2_pq = go.Scatter(x=s2_pq_x, y=s2_pq_y, name=\"PQ - optimal s2 point\")\n",
    "\n",
    "\n",
    "s3_pq_x = [s3_opt[0], p_pt]\n",
    "s3_pq_y = [s3_opt[1], q_pt]\n",
    "\n",
    "s3_pq = go.Scatter(x=s3_pq_x, y=s3_pq_y, name=\"PQ - optimal s3 point\")\n",
    "\n",
    "example_fig = go.Figure()\n",
    "example_fig.add_trace(segment1)\n",
    "example_fig.add_trace(segment2)\n",
    "example_fig.add_trace(segment3)\n",
    "example_fig.add_trace(pq)\n",
    "example_fig.add_trace(s1_pt)\n",
    "example_fig.add_trace(s2_pt)\n",
    "example_fig.add_trace(s3_pt)\n",
    "example_fig.add_trace(s1_pq)\n",
    "example_fig.add_trace(s2_pq)\n",
    "example_fig.add_trace(s3_pq)\n",
    "# find_best_cost(alpha, G, Droot, pt1[0], pt2[0], pt1[1], pt2[1], p_pt, q_pt, example_fig)\n",
    "#three_line_segments(alpha, G, Droot, pt1[0], pt2[0], pt1[1], pt2[1], pt3[1], pt4[1], pt5[1], pt6[1], p_pt, q_pt)\n",
    "example_fig.show()"
   ]
  },
  {
   "cell_type": "code",
   "execution_count": 14,
   "id": "d1fdad0d-c5e2-45b1-995d-0d5f69fac510",
   "metadata": {},
   "outputs": [],
   "source": [
    "test_figure = go.Figure()"
   ]
  },
  {
   "cell_type": "code",
   "execution_count": 15,
   "id": "e96305a6-e356-4f44-9bec-4981e0851af0",
   "metadata": {},
   "outputs": [],
   "source": [
    "def arbor_best_cost(root_length, fname, alpha, G, root_distance):\n",
    "    arbor = rar.read_arbor_full(fname)\n",
    "    main_root = []\n",
    "    lat_tips = []\n",
    "    line_segments = {}\n",
    "    point_drawing = go.Figure()\n",
    "    for node in arbor.nodes():\n",
    "        if arbor.nodes[node][\"label\"] == (\"main root\") or arbor.nodes[node][\"label\"] == (\"main root base\"):\n",
    "            main_root.append(node)\n",
    "        if arbor.nodes[node][\"label\"] == (\"lateral root tip\"):\n",
    "            lat_tips.append(node)\n",
    "    for i in range(1, len(main_root)):\n",
    "        line_segments[i] = main_root[i - 1], main_root[i]\n",
    "        \n",
    "    # for each lateral root tip iterate through every line segment to find lowest costing point on main root\n",
    "    final = []\n",
    "    for tip in lat_tips:\n",
    "        curr_dist = 0\n",
    "        results = []\n",
    "        firstTime = True\n",
    "        p = tip[0]\n",
    "        q = tip[1]\n",
    "        for seg in line_segments:\n",
    "            main_root_length = 0\n",
    "            x0 = line_segments[seg][0][0]\n",
    "            y0 = line_segments[seg][0][1] \n",
    "            x1 = line_segments[seg][1][0]\n",
    "            y1 = line_segments[seg][1][1]\n",
    "            main_root_length += length_func(x0, y0, x1, y1)\n",
    "            if firstTime == True:\n",
    "                result = find_best_cost(root_length, alpha, G, root_distance, x0, y0, x1, y1, p, q)\n",
    "                curr_dist += length_func(x0, y0, x1, y1)\n",
    "                firstTime = False\n",
    "            else: \n",
    "                result = find_best_cost(root_length, alpha, G, root_distance + curr_dist, x0, y0, x1, y1, p, q)\n",
    "                curr_dist += length_func(x0, y0, x1, y1)\n",
    "            results.append(result)\n",
    "        final.append(min(results))\n",
    "    \n",
    "    pq_drawings = get_tip_drawings(lat_tips)\n",
    "    for p_and_q in pq_drawings:\n",
    "        point_drawing.add_trace(p_and_q)\n",
    "    \n",
    "    segment_drawings = get_line_segment_drawings(line_segments)\n",
    "    for line in segment_drawings:\n",
    "        point_drawing.add_trace(line)\n",
    "\n",
    "    opt_lines = get_opt_to_pq_drawings(G, final)\n",
    "    for opt in opt_lines:\n",
    "        point_drawing.add_trace(opt)\n",
    "    point_drawing.show()\n",
    "    \n",
    "    return final"
   ]
  },
  {
   "cell_type": "code",
   "execution_count": 40,
   "id": "a4135397-6075-4fc5-869e-a40459e71eb1",
   "metadata": {},
   "outputs": [
    {
     "data": {
      "image/png": "[encoded data removed]",
      "text/plain": [
       "<Figure size 640x480 with 1 Axes>"
      ]
     },
     "metadata": {},
     "output_type": "display_data"
    }
   ],
   "source": [
    "coords = {}\n",
    "for coordinate in list(G_tas.nodes):\n",
    "    coords[coordinate] = coordinate\n",
    "nx.draw_networkx(G_tas, pos = coords, with_labels = False, node_size = 2)"
   ]
  },
  {
   "cell_type": "code",
   "execution_count": 39,
   "id": "dcb92898-5a70-4e93-ab6a-36d6892018ef",
   "metadata": {},
   "outputs": [
    {
     "data": {
      "application/vnd.plotly.v1+json": {
       "config": {
        "plotlyServerURL": "https://plot.ly"
       },
       "data": [
        {
         "name": "(6.795978, 5.04262)",
         "type": "scatter",
         "x": [
          6.795978
         ],
         "y": [
          5.04262
         ]
        },
        {
         "name": "(7.21053, 4.974351)",
         "type": "scatter",
         "x": [
          7.21053
         ],
         "y": [
          4.974351
         ]
        },
        {
         "name": "(7.381384, 5.700248)",
         "type": "scatter",
         "x": [
          7.381384
         ],
         "y": [
          5.700248
         ]
        },
        {
         "name": "(7.056723, 5.416277)",
         "type": "scatter",
         "x": [
          7.056723
         ],
         "y": [
          5.416277
         ]
        },
        {
         "name": "(7.227181, 6.171193)",
         "type": "scatter",
         "x": [
          7.227181
         ],
         "y": [
          6.171193
         ]
        },
        {
         "name": "(7.27555, 5.963157)",
         "type": "scatter",
         "x": [
          7.27555
         ],
         "y": [
          5.963157
         ]
        },
        {
         "name": "(6.653354, 9.441504)",
         "type": "scatter",
         "x": [
          6.653354
         ],
         "y": [
          9.441504
         ]
        },
        {
         "name": "(6.700901, 9.128885)",
         "type": "scatter",
         "x": [
          6.700901
         ],
         "y": [
          9.128885
         ]
        },
        {
         "name": "(6.789741, 8.845415)",
         "type": "scatter",
         "x": [
          6.789741
         ],
         "y": [
          8.845415
         ]
        },
        {
         "name": "(7.035074, 8.602878)",
         "type": "scatter",
         "x": [
          7.035074
         ],
         "y": [
          8.602878
         ]
        },
        {
         "name": "(7.310675, 8.115669)",
         "type": "scatter",
         "x": [
          7.310675
         ],
         "y": [
          8.115669
         ]
        },
        {
         "name": "(7.245521, 7.672477)",
         "type": "scatter",
         "x": [
          7.245521
         ],
         "y": [
          7.672477
         ]
        },
        {
         "name": "(7.274608, 7.405149)",
         "type": "scatter",
         "x": [
          7.274608
         ],
         "y": [
          7.405149
         ]
        },
        {
         "name": "(7.350009, 6.959372)",
         "type": "scatter",
         "x": [
          7.350009
         ],
         "y": [
          6.959372
         ]
        },
        {
         "name": "(6.967276, 7.160967)",
         "type": "scatter",
         "x": [
          6.967276
         ],
         "y": [
          7.160967
         ]
        },
        {
         "name": "(7.128563, 6.794169)",
         "type": "scatter",
         "x": [
          7.128563
         ],
         "y": [
          6.794169
         ]
        },
        {
         "name": "(7.278742, 6.448806)",
         "type": "scatter",
         "x": [
          7.278742
         ],
         "y": [
          6.448806
         ]
        },
        {
         "name": "segment",
         "type": "scatter",
         "x": [
          6.179355,
          6.340915
         ],
         "y": [
          5.22461,
          5.295401
         ]
        },
        {
         "name": "segment",
         "type": "scatter",
         "x": [
          6.340915,
          6.532445
         ],
         "y": [
          5.295401,
          5.401175
         ]
        },
        {
         "name": "segment",
         "type": "scatter",
         "x": [
          6.532445,
          6.800559
         ],
         "y": [
          5.401175,
          5.660763
         ]
        },
        {
         "name": "segment",
         "type": "scatter",
         "x": [
          6.800559,
          6.863478
         ],
         "y": [
          5.660763,
          5.771467
         ]
        },
        {
         "name": "segment",
         "type": "scatter",
         "x": [
          6.863478,
          6.907945
         ],
         "y": [
          5.771467,
          5.868953
         ]
        },
        {
         "name": "segment",
         "type": "scatter",
         "x": [
          6.907945,
          6.930995
         ],
         "y": [
          5.868953,
          5.947434
         ]
        },
        {
         "name": "segment",
         "type": "scatter",
         "x": [
          6.930995,
          6.964135
         ],
         "y": [
          5.947434,
          6.08664
         ]
        },
        {
         "name": "segment",
         "type": "scatter",
         "x": [
          6.964135,
          6.96829
         ],
         "y": [
          6.08664,
          6.185928
         ]
        },
        {
         "name": "segment",
         "type": "scatter",
         "x": [
          6.96829,
          6.986552
         ],
         "y": [
          6.185928,
          6.322889
         ]
        },
        {
         "name": "segment",
         "type": "scatter",
         "x": [
          6.986552,
          6.998994
         ],
         "y": [
          6.322889,
          6.432212
         ]
        },
        {
         "name": "segment",
         "type": "scatter",
         "x": [
          6.998994,
          7.012398
         ],
         "y": [
          6.432212,
          6.54999
         ]
        },
        {
         "name": "segment",
         "type": "scatter",
         "x": [
          7.012398,
          7.024644
         ],
         "y": [
          6.54999,
          6.676152
         ]
        },
        {
         "name": "segment",
         "type": "scatter",
         "x": [
          7.024644,
          7.041954
         ],
         "y": [
          6.676152,
          6.811285
         ]
        },
        {
         "name": "segment",
         "type": "scatter",
         "x": [
          7.041954,
          7.047507
         ],
         "y": [
          6.811285,
          6.937257
         ]
        },
        {
         "name": "segment",
         "type": "scatter",
         "x": [
          7.047507,
          7.047877
         ],
         "y": [
          6.937257,
          7.075594
         ]
        },
        {
         "name": "segment",
         "type": "scatter",
         "x": [
          7.047877,
          7.050304
         ],
         "y": [
          7.075594,
          7.19429
         ]
        },
        {
         "name": "segment",
         "type": "scatter",
         "x": [
          7.050304,
          7.043928
         ],
         "y": [
          7.19429,
          7.296351
         ]
        },
        {
         "name": "segment",
         "type": "scatter",
         "x": [
          7.043928,
          7.03285
         ],
         "y": [
          7.296351,
          7.405823
         ]
        },
        {
         "name": "segment",
         "type": "scatter",
         "x": [
          7.03285,
          7.025589
         ],
         "y": [
          7.405823,
          7.498461
         ]
        },
        {
         "name": "segment",
         "type": "scatter",
         "x": [
          7.025589,
          7.014772
         ],
         "y": [
          7.498461,
          7.583394
         ]
        },
        {
         "name": "segment",
         "type": "scatter",
         "x": [
          7.014772,
          7.005144
         ],
         "y": [
          7.583394,
          7.658984
         ]
        },
        {
         "name": "segment",
         "type": "scatter",
         "x": [
          7.005144,
          6.992925
         ],
         "y": [
          7.658984,
          7.731225
         ]
        },
        {
         "name": "segment",
         "type": "scatter",
         "x": [
          6.992925,
          6.977764
         ],
         "y": [
          7.731225,
          7.802907
         ]
        },
        {
         "name": "segment",
         "type": "scatter",
         "x": [
          6.977764,
          6.964305
         ],
         "y": [
          7.802907,
          7.881008
         ]
        },
        {
         "name": "segment",
         "type": "scatter",
         "x": [
          6.964305,
          6.953807
         ],
         "y": [
          7.881008,
          7.95956
         ]
        },
        {
         "name": "segment",
         "type": "scatter",
         "x": [
          6.953807,
          6.911751
         ],
         "y": [
          7.95956,
          8.022716
         ]
        },
        {
         "name": "segment",
         "type": "scatter",
         "x": [
          6.911751,
          6.887563
         ],
         "y": [
          8.022716,
          8.088256
         ]
        },
        {
         "name": "segment",
         "type": "scatter",
         "x": [
          6.887563,
          6.871934
         ],
         "y": [
          8.088256,
          8.165192
         ]
        },
        {
         "name": "segment",
         "type": "scatter",
         "x": [
          6.871934,
          6.864948
         ],
         "y": [
          8.165192,
          8.252221
         ]
        },
        {
         "name": "segment",
         "type": "scatter",
         "x": [
          6.864948,
          6.855225
         ],
         "y": [
          8.252221,
          8.298522
         ]
        },
        {
         "name": "segment",
         "type": "scatter",
         "x": [
          6.855225,
          6.839565
         ],
         "y": [
          8.298522,
          8.373096
         ]
        },
        {
         "name": "segment",
         "type": "scatter",
         "x": [
          6.839565,
          6.819275
         ],
         "y": [
          8.373096,
          8.440582
         ]
        },
        {
         "name": "segment",
         "type": "scatter",
         "x": [
          6.819275,
          6.80335
         ],
         "y": [
          8.440582,
          8.524741
         ]
        },
        {
         "name": "segment",
         "type": "scatter",
         "x": [
          6.80335,
          6.784414
         ],
         "y": [
          8.524741,
          8.592619
         ]
        },
        {
         "name": "segment",
         "type": "scatter",
         "x": [
          6.784414,
          6.766016
         ],
         "y": [
          8.592619,
          8.669705
         ]
        },
        {
         "name": "segment",
         "type": "scatter",
         "x": [
          6.766016,
          6.74611
         ],
         "y": [
          8.669705,
          8.740219
         ]
        },
        {
         "name": "segment",
         "type": "scatter",
         "x": [
          6.74611,
          6.72334
         ],
         "y": [
          8.740219,
          8.809859
         ]
        },
        {
         "name": "segment",
         "type": "scatter",
         "x": [
          6.72334,
          6.699658
         ],
         "y": [
          8.809859,
          8.882287
         ]
        },
        {
         "name": "segment",
         "type": "scatter",
         "x": [
          6.699658,
          6.674061
         ],
         "y": [
          8.882287,
          8.950939
         ]
        },
        {
         "name": "segment",
         "type": "scatter",
         "x": [
          6.674061,
          6.647439
         ],
         "y": [
          8.950939,
          9.022339
         ]
        },
        {
         "name": "segment",
         "type": "scatter",
         "x": [
          6.647439,
          6.61906
         ],
         "y": [
          9.022339,
          9.08989
         ]
        },
        {
         "name": "segment",
         "type": "scatter",
         "x": [
          6.61906,
          6.591145
         ],
         "y": [
          9.08989,
          9.164062
         ]
        },
        {
         "name": "segment",
         "type": "scatter",
         "x": [
          6.591145,
          6.559063
         ],
         "y": [
          9.164062,
          9.223811
         ]
        },
        {
         "name": "segment",
         "type": "scatter",
         "x": [
          6.559063,
          6.521795
         ],
         "y": [
          9.223811,
          9.286894
         ]
        },
        {
         "name": "segment",
         "type": "scatter",
         "x": [
          6.521795,
          6.475114
         ],
         "y": [
          9.286894,
          9.391013
         ]
        },
        {
         "name": "segment",
         "type": "scatter",
         "x": [
          6.475114,
          6.445447
         ],
         "y": [
          9.391013,
          9.464501
         ]
        },
        {
         "name": "segment",
         "type": "scatter",
         "x": [
          6.445447,
          6.41692
         ],
         "y": [
          9.464501,
          9.535162
         ]
        },
        {
         "name": "segment",
         "type": "scatter",
         "x": [
          6.41692,
          6.391704
         ],
         "y": [
          9.535162,
          9.613615
         ]
        },
        {
         "name": "segment",
         "type": "scatter",
         "x": [
          6.391704,
          6.364519
         ],
         "y": [
          9.613615,
          9.678628
         ]
        },
        {
         "name": "segment",
         "type": "scatter",
         "x": [
          6.364519,
          6.322055
         ],
         "y": [
          9.678628,
          9.780181
         ]
        },
        {
         "name": "segment",
         "type": "scatter",
         "x": [
          6.322055,
          6.286126
         ],
         "y": [
          9.780181,
          9.866105
         ]
        },
        {
         "name": "segment",
         "type": "scatter",
         "x": [
          6.286126,
          6.248167
         ],
         "y": [
          9.866105,
          9.951434
         ]
        },
        {
         "name": "segment",
         "type": "scatter",
         "x": [
          6.248167,
          6.213756
         ],
         "y": [
          9.951434,
          10.028784
         ]
        },
        {
         "name": "segment",
         "type": "scatter",
         "x": [
          6.213756,
          6.179936
         ],
         "y": [
          10.028784,
          10.115157
         ]
        },
        {
         "name": "segment",
         "type": "scatter",
         "x": [
          6.179936,
          6.150067
         ],
         "y": [
          10.115157,
          10.20298
         ]
        },
        {
         "name": "segment",
         "type": "scatter",
         "x": [
          6.150067,
          6.138629
         ],
         "y": [
          10.20298,
          10.295754
         ]
        },
        {
         "name": "segment",
         "type": "scatter",
         "x": [
          6.138629,
          6.118881
         ],
         "y": [
          10.295754,
          10.404058
         ]
        },
        {
         "name": "segment",
         "type": "scatter",
         "x": [
          6.118881,
          6.099665
         ],
         "y": [
          10.404058,
          10.52121
         ]
        },
        {
         "name": "segment",
         "type": "scatter",
         "x": [
          6.099665,
          6.086641
         ],
         "y": [
          10.52121,
          10.639707
         ]
        },
        {
         "name": "segment",
         "type": "scatter",
         "x": [
          6.086641,
          6.079765
         ],
         "y": [
          10.639707,
          10.741002
         ]
        },
        {
         "name": "segment",
         "type": "scatter",
         "x": [
          6.079765,
          6.070202
         ],
         "y": [
          10.741002,
          10.850624
         ]
        },
        {
         "name": "segment",
         "type": "scatter",
         "x": [
          6.070202,
          6.057814
         ],
         "y": [
          10.850624,
          10.96836
         ]
        },
        {
         "name": "segment",
         "type": "scatter",
         "x": [
          6.057814,
          6.047492
         ],
         "y": [
          10.96836,
          11.086626
         ]
        },
        {
         "name": "segment",
         "type": "scatter",
         "x": [
          6.047492,
          6.028087
         ],
         "y": [
          11.086626,
          11.187313
         ]
        },
        {
         "name": "segment",
         "type": "scatter",
         "x": [
          6.028087,
          6.018414
         ],
         "y": [
          11.187313,
          11.270381
         ]
        },
        {
         "name": "segment",
         "type": "scatter",
         "x": [
          6.018414,
          6.006512
         ],
         "y": [
          11.270381,
          11.354653
         ]
        },
        {
         "name": "segment",
         "type": "scatter",
         "x": [
          6.006512,
          6.00101
         ],
         "y": [
          11.354653,
          11.438101
         ]
        },
        {
         "name": "segment",
         "type": "scatter",
         "x": [
          6.00101,
          5.997537
         ],
         "y": [
          11.438101,
          11.522304
         ]
        },
        {
         "name": "segment",
         "type": "scatter",
         "x": [
          5.997537,
          6.008165
         ],
         "y": [
          11.522304,
          11.623883
         ]
        },
        {
         "name": "segment",
         "type": "scatter",
         "x": [
          6.008165,
          6.020501
         ],
         "y": [
          11.623883,
          11.741775
         ]
        },
        {
         "name": "segment",
         "type": "scatter",
         "x": [
          6.020501,
          6.02737
         ],
         "y": [
          11.741775,
          11.867943
         ]
        },
        {
         "name": "segment",
         "type": "scatter",
         "x": [
          6.02737,
          6.035001
         ],
         "y": [
          11.867943,
          11.969202
         ]
        },
        {
         "name": "segment",
         "type": "scatter",
         "x": [
          6.035001,
          6.047472
         ],
         "y": [
          11.969202,
          12.051897
         ]
        },
        {
         "name": "segment",
         "type": "scatter",
         "x": [
          6.047472,
          6.056122
         ],
         "y": [
          12.051897,
          12.137069
         ]
        },
        {
         "name": "segment",
         "type": "scatter",
         "x": [
          6.056122,
          6.05726
         ],
         "y": [
          12.137069,
          12.207525
         ]
        },
        {
         "name": "segment",
         "type": "scatter",
         "x": [
          6.05726,
          6.064574
         ],
         "y": [
          12.207525,
          12.289604
         ]
        },
        {
         "name": "segment",
         "type": "scatter",
         "x": [
          6.064574,
          6.071336
         ],
         "y": [
          12.289604,
          12.365502
         ]
        },
        {
         "name": "segment",
         "type": "scatter",
         "x": [
          6.071336,
          6.071415
         ],
         "y": [
          12.365502,
          12.43386
         ]
        },
        {
         "name": "segment",
         "type": "scatter",
         "x": [
          6.071415,
          6.080446
         ],
         "y": [
          12.43386,
          12.478813
         ]
        },
        {
         "name": "segment",
         "type": "scatter",
         "x": [
          6.080446,
          6.07073
         ],
         "y": [
          12.478813,
          12.754375
         ]
        },
        {
         "name": "segment",
         "type": "scatter",
         "x": [
          6.07073,
          6.052544
         ],
         "y": [
          12.754375,
          12.802915
         ]
        },
        {
         "name": "segment",
         "type": "scatter",
         "x": [
          6.052544,
          6.050128
         ],
         "y": [
          12.802915,
          12.87568
         ]
        },
        {
         "name": "segment",
         "type": "scatter",
         "x": [
          6.050128,
          6.031938
         ],
         "y": [
          12.87568,
          12.977289
         ]
        },
        {
         "name": "segment",
         "type": "scatter",
         "x": [
          6.031938,
          6.053504
         ],
         "y": [
          12.977289,
          13.048995
         ]
        },
        {
         "name": "segment",
         "type": "scatter",
         "x": [
          6.053504,
          6.121253
         ],
         "y": [
          13.048995,
          13.131782
         ]
        },
        {
         "name": "segment",
         "type": "scatter",
         "x": [
          6.121253,
          6.159928
         ],
         "y": [
          13.131782,
          13.160585
         ]
        },
        {
         "name": "segment",
         "type": "scatter",
         "x": [
          6.159928,
          6.237763
         ],
         "y": [
          13.160585,
          13.205876
         ]
        },
        {
         "name": "0.5230455585755234",
         "type": "scatter",
         "x": [
          6.795978,
          6.5056308
         ],
         "y": [
          5.04262,
          5.38636664
         ]
        },
        {
         "name": "0.8836909755601231",
         "type": "scatter",
         "x": [
          7.21053,
          6.56729982
         ],
         "y": [
          4.974351,
          5.43492144
         ]
        },
        {
         "name": "0.7028092238489295",
         "type": "scatter",
         "x": [
          7.381384,
          6.885711499999999
         ],
         "y": [
          5.700248,
          5.82021
         ]
        },
        {
         "name": "0.5035471600431631",
         "type": "scatter",
         "x": [
          7.056723,
          6.7603419
         ],
         "y": [
          5.416277,
          5.621824800000001
         ]
        },
        {
         "name": "0.519145132179337",
         "type": "scatter",
         "x": [
          7.227181,
          6.965921649999999
         ],
         "y": [
          6.171193,
          6.12933384
         ]
        },
        {
         "name": "0.5618233671288276",
         "type": "scatter",
         "x": [
          7.27555,
          6.937623
         ],
         "y": [
          5.963157,
          5.9752752000000005
         ]
        },
        {
         "name": "1.100858562543487",
         "type": "scatter",
         "x": [
          6.653354,
          6.50125536
         ],
         "y": [
          9.441504,
          9.33270636
         ]
        },
        {
         "name": "0.9492788214453285",
         "type": "scatter",
         "x": [
          6.700901,
          6.624452010000001
         ],
         "y": [
          9.128885,
          9.07705531
         ]
        },
        {
         "name": "0.8752075666407696",
         "type": "scatter",
         "x": [
          6.789741,
          6.7240231
         ],
         "y": [
          8.845415,
          8.807769799999999
         ]
        },
        {
         "name": "0.9849626160037903",
         "type": "scatter",
         "x": [
          7.035074,
          6.80637575
         ],
         "y": [
          8.602878,
          8.50875079
         ]
        },
        {
         "name": "1.0128665233023575",
         "type": "scatter",
         "x": [
          7.310675,
          6.953807
         ],
         "y": [
          8.115669,
          7.95956
         ]
        },
        {
         "name": "0.7935968882051633",
         "type": "scatter",
         "x": [
          7.245521,
          7.013520359999999
         ],
         "y": [
          7.672477,
          7.5932207
         ]
        },
        {
         "name": "0.7413598499123399",
         "type": "scatter",
         "x": [
          7.274608,
          7.04038304
         ],
         "y": [
          7.405149,
          7.331382039999999
         ]
        },
        {
         "name": "0.7195399422201919",
         "type": "scatter",
         "x": [
          7.350009,
          7.04634087
         ],
         "y": [
          6.959372,
          6.910802879999999
         ]
        },
        {
         "name": "0.541680180680731",
         "type": "scatter",
         "x": [
          6.967276,
          7.04923612
         ],
         "y": [
          7.160967,
          7.14206376
         ]
        },
        {
         "name": "0.47650010054795505",
         "type": "scatter",
         "x": [
          7.128563,
          7.0388382
         ],
         "y": [
          6.794169,
          6.786961059999999
         ]
        },
        {
         "name": "0.5957714162814924",
         "type": "scatter",
         "x": [
          7.278742,
          6.998123059999999
         ],
         "y": [
          6.448806,
          6.42455939
         ]
        }
       ],
       "layout": {
        "autosize": true,
        "template": {
         "data": {
          "bar": [
           {
            "error_x": {
             "color": "#2a3f5f"
            },
            "error_y": {
             "color": "#2a3f5f"
            },
            "marker": {
             "line": {
              "color": "#E5ECF6",
              "width": 0.5
             },
             "pattern": {
              "fillmode": "overlay",
              "size": 10,
              "solidity": 0.2
             }
            },
            "type": "bar"
           }
          ],
          "barpolar": [
           {
            "marker": {
             "line": {
              "color": "#E5ECF6",
              "width": 0.5
             },
             "pattern": {
              "fillmode": "overlay",
              "size": 10,
              "solidity": 0.2
             }
            },
            "type": "barpolar"
           }
          ],
          "carpet": [
           {
            "aaxis": {
             "endlinecolor": "#2a3f5f",
             "gridcolor": "white",
             "linecolor": "white",
             "minorgridcolor": "white",
             "startlinecolor": "#2a3f5f"
            },
            "baxis": {
             "endlinecolor": "#2a3f5f",
             "gridcolor": "white",
             "linecolor": "white",
             "minorgridcolor": "white",
             "startlinecolor": "#2a3f5f"
            },
            "type": "carpet"
           }
          ],
          "choropleth": [
           {
            "colorbar": {
             "outlinewidth": 0,
             "ticks": ""
            },
            "type": "choropleth"
           }
          ],
          "contour": [
           {
            "colorbar": {
             "outlinewidth": 0,
             "ticks": ""
            },
            "colorscale": [
             [
              0,
              "#0d0887"
             ],
             [
              0.1111111111111111,
              "#46039f"
             ],
             [
              0.2222222222222222,
              "#7201a8"
             ],
             [
              0.3333333333333333,
              "#9c179e"
             ],
             [
              0.4444444444444444,
              "#bd3786"
             ],
             [
              0.5555555555555556,
              "#d8576b"
             ],
             [
              0.6666666666666666,
              "#ed7953"
             ],
             [
              0.7777777777777778,
              "#fb9f3a"
             ],
             [
              0.8888888888888888,
              "#fdca26"
             ],
             [
              1,
              "#f0f921"
             ]
            ],
            "type": "contour"
           }
          ],
          "contourcarpet": [
           {
            "colorbar": {
             "outlinewidth": 0,
             "ticks": ""
            },
            "type": "contourcarpet"
           }
          ],
          "heatmap": [
           {
            "colorbar": {
             "outlinewidth": 0,
             "ticks": ""
            },
            "colorscale": [
             [
              0,
              "#0d0887"
             ],
             [
              0.1111111111111111,
              "#46039f"
             ],
             [
              0.2222222222222222,
              "#7201a8"
             ],
             [
              0.3333333333333333,
              "#9c179e"
             ],
             [
              0.4444444444444444,
              "#bd3786"
             ],
             [
              0.5555555555555556,
              "#d8576b"
             ],
             [
              0.6666666666666666,
              "#ed7953"
             ],
             [
              0.7777777777777778,
              "#fb9f3a"
             ],
             [
              0.8888888888888888,
              "#fdca26"
             ],
             [
              1,
              "#f0f921"
             ]
            ],
            "type": "heatmap"
           }
          ],
          "heatmapgl": [
           {
            "colorbar": {
             "outlinewidth": 0,
             "ticks": ""
            },
            "colorscale": [
             [
              0,
              "#0d0887"
             ],
             [
              0.1111111111111111,
              "#46039f"
             ],
             [
              0.2222222222222222,
              "#7201a8"
             ],
             [
              0.3333333333333333,
              "#9c179e"
             ],
             [
              0.4444444444444444,
              "#bd3786"
             ],
             [
              0.5555555555555556,
              "#d8576b"
             ],
             [
              0.6666666666666666,
              "#ed7953"
             ],
             [
              0.7777777777777778,
              "#fb9f3a"
             ],
             [
              0.8888888888888888,
              "#fdca26"
             ],
             [
              1,
              "#f0f921"
             ]
            ],
            "type": "heatmapgl"
           }
          ],
          "histogram": [
           {
            "marker": {
             "pattern": {
              "fillmode": "overlay",
              "size": 10,
              "solidity": 0.2
             }
            },
            "type": "histogram"
           }
          ],
          "histogram2d": [
           {
            "colorbar": {
             "outlinewidth": 0,
             "ticks": ""
            },
            "colorscale": [
             [
              0,
              "#0d0887"
             ],
             [
              0.1111111111111111,
              "#46039f"
             ],
             [
              0.2222222222222222,
              "#7201a8"
             ],
             [
              0.3333333333333333,
              "#9c179e"
             ],
             [
              0.4444444444444444,
              "#bd3786"
             ],
             [
              0.5555555555555556,
              "#d8576b"
             ],
             [
              0.6666666666666666,
              "#ed7953"
             ],
             [
              0.7777777777777778,
              "#fb9f3a"
             ],
             [
              0.8888888888888888,
              "#fdca26"
             ],
             [
              1,
              "#f0f921"
             ]
            ],
            "type": "histogram2d"
           }
          ],
          "histogram2dcontour": [
           {
            "colorbar": {
             "outlinewidth": 0,
             "ticks": ""
            },
            "colorscale": [
             [
              0,
              "#0d0887"
             ],
             [
              0.1111111111111111,
              "#46039f"
             ],
             [
              0.2222222222222222,
              "#7201a8"
             ],
             [
              0.3333333333333333,
              "#9c179e"
             ],
             [
              0.4444444444444444,
              "#bd3786"
             ],
             [
              0.5555555555555556,
              "#d8576b"
             ],
             [
              0.6666666666666666,
              "#ed7953"
             ],
             [
              0.7777777777777778,
              "#fb9f3a"
             ],
             [
              0.8888888888888888,
              "#fdca26"
             ],
             [
              1,
              "#f0f921"
             ]
            ],
            "type": "histogram2dcontour"
           }
          ],
          "mesh3d": [
           {
            "colorbar": {
             "outlinewidth": 0,
             "ticks": ""
            },
            "type": "mesh3d"
           }
          ],
          "parcoords": [
           {
            "line": {
             "colorbar": {
              "outlinewidth": 0,
              "ticks": ""
             }
            },
            "type": "parcoords"
           }
          ],
          "pie": [
           {
            "automargin": true,
            "type": "pie"
           }
          ],
          "scatter": [
           {
            "fillpattern": {
             "fillmode": "overlay",
             "size": 10,
             "solidity": 0.2
            },
            "type": "scatter"
           }
          ],
          "scatter3d": [
           {
            "line": {
             "colorbar": {
              "outlinewidth": 0,
              "ticks": ""
             }
            },
            "marker": {
             "colorbar": {
              "outlinewidth": 0,
              "ticks": ""
             }
            },
            "type": "scatter3d"
           }
          ],
          "scattercarpet": [
           {
            "marker": {
             "colorbar": {
              "outlinewidth": 0,
              "ticks": ""
             }
            },
            "type": "scattercarpet"
           }
          ],
          "scattergeo": [
           {
            "marker": {
             "colorbar": {
              "outlinewidth": 0,
              "ticks": ""
             }
            },
            "type": "scattergeo"
           }
          ],
          "scattergl": [
           {
            "marker": {
             "colorbar": {
              "outlinewidth": 0,
              "ticks": ""
             }
            },
            "type": "scattergl"
           }
          ],
          "scattermapbox": [
           {
            "marker": {
             "colorbar": {
              "outlinewidth": 0,
              "ticks": ""
             }
            },
            "type": "scattermapbox"
           }
          ],
          "scatterpolar": [
           {
            "marker": {
             "colorbar": {
              "outlinewidth": 0,
              "ticks": ""
             }
            },
            "type": "scatterpolar"
           }
          ],
          "scatterpolargl": [
           {
            "marker": {
             "colorbar": {
              "outlinewidth": 0,
              "ticks": ""
             }
            },
            "type": "scatterpolargl"
           }
          ],
          "scatterternary": [
           {
            "marker": {
             "colorbar": {
              "outlinewidth": 0,
              "ticks": ""
             }
            },
            "type": "scatterternary"
           }
          ],
          "surface": [
           {
            "colorbar": {
             "outlinewidth": 0,
             "ticks": ""
            },
            "colorscale": [
             [
              0,
              "#0d0887"
             ],
             [
              0.1111111111111111,
              "#46039f"
             ],
             [
              0.2222222222222222,
              "#7201a8"
             ],
             [
              0.3333333333333333,
              "#9c179e"
             ],
             [
              0.4444444444444444,
              "#bd3786"
             ],
             [
              0.5555555555555556,
              "#d8576b"
             ],
             [
              0.6666666666666666,
              "#ed7953"
             ],
             [
              0.7777777777777778,
              "#fb9f3a"
             ],
             [
              0.8888888888888888,
              "#fdca26"
             ],
             [
              1,
              "#f0f921"
             ]
            ],
            "type": "surface"
           }
          ],
          "table": [
           {
            "cells": {
             "fill": {
              "color": "#EBF0F8"
             },
             "line": {
              "color": "white"
             }
            },
            "header": {
             "fill": {
              "color": "#C8D4E3"
             },
             "line": {
              "color": "white"
             }
            },
            "type": "table"
           }
          ]
         },
         "layout": {
          "annotationdefaults": {
           "arrowcolor": "#2a3f5f",
           "arrowhead": 0,
           "arrowwidth": 1
          },
          "autotypenumbers": "strict",
          "coloraxis": {
           "colorbar": {
            "outlinewidth": 0,
            "ticks": ""
           }
          },
          "colorscale": {
           "diverging": [
            [
             0,
             "#8e0152"
            ],
            [
             0.1,
             "#c51b7d"
            ],
            [
             0.2,
             "#de77ae"
            ],
            [
             0.3,
             "#f1b6da"
            ],
            [
             0.4,
             "#fde0ef"
            ],
            [
             0.5,
             "#f7f7f7"
            ],
            [
             0.6,
             "#e6f5d0"
            ],
            [
             0.7,
             "#b8e186"
            ],
            [
             0.8,
             "#7fbc41"
            ],
            [
             0.9,
             "#4d9221"
            ],
            [
             1,
             "#276419"
            ]
           ],
           "sequential": [
            [
             0,
             "#0d0887"
            ],
            [
             0.1111111111111111,
             "#46039f"
            ],
            [
             0.2222222222222222,
             "#7201a8"
            ],
            [
             0.3333333333333333,
             "#9c179e"
            ],
            [
             0.4444444444444444,
             "#bd3786"
            ],
            [
             0.5555555555555556,
             "#d8576b"
            ],
            [
             0.6666666666666666,
             "#ed7953"
            ],
            [
             0.7777777777777778,
             "#fb9f3a"
            ],
            [
             0.8888888888888888,
             "#fdca26"
            ],
            [
             1,
             "#f0f921"
            ]
           ],
           "sequentialminus": [
            [
             0,
             "#0d0887"
            ],
            [
             0.1111111111111111,
             "#46039f"
            ],
            [
             0.2222222222222222,
             "#7201a8"
            ],
            [
             0.3333333333333333,
             "#9c179e"
            ],
            [
             0.4444444444444444,
             "#bd3786"
            ],
            [
             0.5555555555555556,
             "#d8576b"
            ],
            [
             0.6666666666666666,
             "#ed7953"
            ],
            [
             0.7777777777777778,
             "#fb9f3a"
            ],
            [
             0.8888888888888888,
             "#fdca26"
            ],
            [
             1,
             "#f0f921"
            ]
           ]
          },
          "colorway": [
           "#636efa",
           "#EF553B",
           "#00cc96",
           "#ab63fa",
           "#FFA15A",
           "#19d3f3",
           "#FF6692",
           "#B6E880",
           "#FF97FF",
           "#FECB52"
          ],
          "font": {
           "color": "#2a3f5f"
          },
          "geo": {
           "bgcolor": "white",
           "lakecolor": "white",
           "landcolor": "#E5ECF6",
           "showlakes": true,
           "showland": true,
           "subunitcolor": "white"
          },
          "hoverlabel": {
           "align": "left"
          },
          "hovermode": "closest",
          "mapbox": {
           "style": "light"
          },
          "paper_bgcolor": "white",
          "plot_bgcolor": "#E5ECF6",
          "polar": {
           "angularaxis": {
            "gridcolor": "white",
            "linecolor": "white",
            "ticks": ""
           },
           "bgcolor": "#E5ECF6",
           "radialaxis": {
            "gridcolor": "white",
            "linecolor": "white",
            "ticks": ""
           }
          },
          "scene": {
           "xaxis": {
            "backgroundcolor": "#E5ECF6",
            "gridcolor": "white",
            "gridwidth": 2,
            "linecolor": "white",
            "showbackground": true,
            "ticks": "",
            "zerolinecolor": "white"
           },
           "yaxis": {
            "backgroundcolor": "#E5ECF6",
            "gridcolor": "white",
            "gridwidth": 2,
            "linecolor": "white",
            "showbackground": true,
            "ticks": "",
            "zerolinecolor": "white"
           },
           "zaxis": {
            "backgroundcolor": "#E5ECF6",
            "gridcolor": "white",
            "gridwidth": 2,
            "linecolor": "white",
            "showbackground": true,
            "ticks": "",
            "zerolinecolor": "white"
           }
          },
          "shapedefaults": {
           "line": {
            "color": "#2a3f5f"
           }
          },
          "ternary": {
           "aaxis": {
            "gridcolor": "white",
            "linecolor": "white",
            "ticks": ""
           },
           "baxis": {
            "gridcolor": "white",
            "linecolor": "white",
            "ticks": ""
           },
           "bgcolor": "#E5ECF6",
           "caxis": {
            "gridcolor": "white",
            "linecolor": "white",
            "ticks": ""
           }
          },
          "title": {
           "x": 0.05
          },
          "xaxis": {
           "automargin": true,
           "gridcolor": "white",
           "linecolor": "white",
           "ticks": "",
           "title": {
            "standoff": 15
           },
           "zerolinecolor": "white",
           "zerolinewidth": 2
          },
          "yaxis": {
           "automargin": true,
           "gridcolor": "white",
           "linecolor": "white",
           "ticks": "",
           "title": {
            "standoff": 15
           },
           "zerolinecolor": "white",
           "zerolinewidth": 2
          }
         }
        },
        "xaxis": {
         "autorange": true,
         "range": [
          5.905353985934183,
          7.473567014065817
         ],
         "type": "linear"
        },
        "yaxis": {
         "autorange": true,
         "range": [
          4.2950503932038835,
          13.885176606796117
         ],
         "type": "linear"
        }
       }
      },
      "image/png": "[encoded data removed]",
      "text/html": [
       "<div>                            <div id=\"4121ad6d-430d-4812-b3d8-acb5d3a63ce3\" class=\"plotly-graph-div\" style=\"height:525px; width:100%;\"></div>            <script type=\"text/javascript\">                require([\"plotly\"], function(Plotly) {                    window.PLOTLYENV=window.PLOTLYENV || {};                                    if (document.getElementById(\"4121ad6d-430d-4812-b3d8-acb5d3a63ce3\")) {                    Plotly.newPlot(                        \"4121ad6d-430d-4812-b3d8-acb5d3a63ce3\",                        [{\"name\":\"(6.795978, 5.04262)\",\"x\":[6.795978],\"y\":[5.04262],\"type\":\"scatter\"},{\"name\":\"(7.21053, 4.974351)\",\"x\":[7.21053],\"y\":[4.974351],\"type\":\"scatter\"},{\"name\":\"(7.381384, 5.700248)\",\"x\":[7.381384],\"y\":[5.700248],\"type\":\"scatter\"},{\"name\":\"(7.056723, 5.416277)\",\"x\":[7.056723],\"y\":[5.416277],\"type\":\"scatter\"},{\"name\":\"(7.227181, 6.171193)\",\"x\":[7.227181],\"y\":[6.171193],\"type\":\"scatter\"},{\"name\":\"(7.27555, 5.963157)\",\"x\":[7.27555],\"y\":[5.963157],\"type\":\"scatter\"},{\"name\":\"(6.653354, 9.441504)\",\"x\":[6.653354],\"y\":[9.441504],\"type\":\"scatter\"},{\"name\":\"(6.700901, 9.128885)\",\"x\":[6.700901],\"y\":[9.128885],\"type\":\"scatter\"},{\"name\":\"(6.789741, 8.845415)\",\"x\":[6.789741],\"y\":[8.845415],\"type\":\"scatter\"},{\"name\":\"(7.035074, 8.602878)\",\"x\":[7.035074],\"y\":[8.602878],\"type\":\"scatter\"},{\"name\":\"(7.310675, 8.115669)\",\"x\":[7.310675],\"y\":[8.115669],\"type\":\"scatter\"},{\"name\":\"(7.245521, 7.672477)\",\"x\":[7.245521],\"y\":[7.672477],\"type\":\"scatter\"},{\"name\":\"(7.274608, 7.405149)\",\"x\":[7.274608],\"y\":[7.405149],\"type\":\"scatter\"},{\"name\":\"(7.350009, 6.959372)\",\"x\":[7.350009],\"y\":[6.959372],\"type\":\"scatter\"},{\"name\":\"(6.967276, 7.160967)\",\"x\":[6.967276],\"y\":[7.160967],\"type\":\"scatter\"},{\"name\":\"(7.128563, 6.794169)\",\"x\":[7.128563],\"y\":[6.794169],\"type\":\"scatter\"},{\"name\":\"(7.278742, 6.448806)\",\"x\":[7.278742],\"y\":[6.448806],\"type\":\"scatter\"},{\"name\":\"segment\",\"x\":[6.179355,6.340915],\"y\":[5.22461,5.295401],\"type\":\"scatter\"},{\"name\":\"segment\",\"x\":[6.340915,6.532445],\"y\":[5.295401,5.401175],\"type\":\"scatter\"},{\"name\":\"segment\",\"x\":[6.532445,6.800559],\"y\":[5.401175,5.660763],\"type\":\"scatter\"},{\"name\":\"segment\",\"x\":[6.800559,6.863478],\"y\":[5.660763,5.771467],\"type\":\"scatter\"},{\"name\":\"segment\",\"x\":[6.863478,6.907945],\"y\":[5.771467,5.868953],\"type\":\"scatter\"},{\"name\":\"segment\",\"x\":[6.907945,6.930995],\"y\":[5.868953,5.947434],\"type\":\"scatter\"},{\"name\":\"segment\",\"x\":[6.930995,6.964135],\"y\":[5.947434,6.08664],\"type\":\"scatter\"},{\"name\":\"segment\",\"x\":[6.964135,6.96829],\"y\":[6.08664,6.185928],\"type\":\"scatter\"},{\"name\":\"segment\",\"x\":[6.96829,6.986552],\"y\":[6.185928,6.322889],\"type\":\"scatter\"},{\"name\":\"segment\",\"x\":[6.986552,6.998994],\"y\":[6.322889,6.432212],\"type\":\"scatter\"},{\"name\":\"segment\",\"x\":[6.998994,7.012398],\"y\":[6.432212,6.54999],\"type\":\"scatter\"},{\"name\":\"segment\",\"x\":[7.012398,7.024644],\"y\":[6.54999,6.676152],\"type\":\"scatter\"},{\"name\":\"segment\",\"x\":[7.024644,7.041954],\"y\":[6.676152,6.811285],\"type\":\"scatter\"},{\"name\":\"segment\",\"x\":[7.041954,7.047507],\"y\":[6.811285,6.937257],\"type\":\"scatter\"},{\"name\":\"segment\",\"x\":[7.047507,7.047877],\"y\":[6.937257,7.075594],\"type\":\"scatter\"},{\"name\":\"segment\",\"x\":[7.047877,7.050304],\"y\":[7.075594,7.19429],\"type\":\"scatter\"},{\"name\":\"segment\",\"x\":[7.050304,7.043928],\"y\":[7.19429,7.296351],\"type\":\"scatter\"},{\"name\":\"segment\",\"x\":[7.043928,7.03285],\"y\":[7.296351,7.405823],\"type\":\"scatter\"},{\"name\":\"segment\",\"x\":[7.03285,7.025589],\"y\":[7.405823,7.498461],\"type\":\"scatter\"},{\"name\":\"segment\",\"x\":[7.025589,7.014772],\"y\":[7.498461,7.583394],\"type\":\"scatter\"},{\"name\":\"segment\",\"x\":[7.014772,7.005144],\"y\":[7.583394,7.658984],\"type\":\"scatter\"},{\"name\":\"segment\",\"x\":[7.005144,6.992925],\"y\":[7.658984,7.731225],\"type\":\"scatter\"},{\"name\":\"segment\",\"x\":[6.992925,6.977764],\"y\":[7.731225,7.802907],\"type\":\"scatter\"},{\"name\":\"segment\",\"x\":[6.977764,6.964305],\"y\":[7.802907,7.881008],\"type\":\"scatter\"},{\"name\":\"segment\",\"x\":[6.964305,6.953807],\"y\":[7.881008,7.95956],\"type\":\"scatter\"},{\"name\":\"segment\",\"x\":[6.953807,6.911751],\"y\":[7.95956,8.022716],\"type\":\"scatter\"},{\"name\":\"segment\",\"x\":[6.911751,6.887563],\"y\":[8.022716,8.088256],\"type\":\"scatter\"},{\"name\":\"segment\",\"x\":[6.887563,6.871934],\"y\":[8.088256,8.165192],\"type\":\"scatter\"},{\"name\":\"segment\",\"x\":[6.871934,6.864948],\"y\":[8.165192,8.252221],\"type\":\"scatter\"},{\"name\":\"segment\",\"x\":[6.864948,6.855225],\"y\":[8.252221,8.298522],\"type\":\"scatter\"},{\"name\":\"segment\",\"x\":[6.855225,6.839565],\"y\":[8.298522,8.373096],\"type\":\"scatter\"},{\"name\":\"segment\",\"x\":[6.839565,6.819275],\"y\":[8.373096,8.440582],\"type\":\"scatter\"},{\"name\":\"segment\",\"x\":[6.819275,6.80335],\"y\":[8.440582,8.524741],\"type\":\"scatter\"},{\"name\":\"segment\",\"x\":[6.80335,6.784414],\"y\":[8.524741,8.592619],\"type\":\"scatter\"},{\"name\":\"segment\",\"x\":[6.784414,6.766016],\"y\":[8.592619,8.669705],\"type\":\"scatter\"},{\"name\":\"segment\",\"x\":[6.766016,6.74611],\"y\":[8.669705,8.740219],\"type\":\"scatter\"},{\"name\":\"segment\",\"x\":[6.74611,6.72334],\"y\":[8.740219,8.809859],\"type\":\"scatter\"},{\"name\":\"segment\",\"x\":[6.72334,6.699658],\"y\":[8.809859,8.882287],\"type\":\"scatter\"},{\"name\":\"segment\",\"x\":[6.699658,6.674061],\"y\":[8.882287,8.950939],\"type\":\"scatter\"},{\"name\":\"segment\",\"x\":[6.674061,6.647439],\"y\":[8.950939,9.022339],\"type\":\"scatter\"},{\"name\":\"segment\",\"x\":[6.647439,6.61906],\"y\":[9.022339,9.08989],\"type\":\"scatter\"},{\"name\":\"segment\",\"x\":[6.61906,6.591145],\"y\":[9.08989,9.164062],\"type\":\"scatter\"},{\"name\":\"segment\",\"x\":[6.591145,6.559063],\"y\":[9.164062,9.223811],\"type\":\"scatter\"},{\"name\":\"segment\",\"x\":[6.559063,6.521795],\"y\":[9.223811,9.286894],\"type\":\"scatter\"},{\"name\":\"segment\",\"x\":[6.521795,6.475114],\"y\":[9.286894,9.391013],\"type\":\"scatter\"},{\"name\":\"segment\",\"x\":[6.475114,6.445447],\"y\":[9.391013,9.464501],\"type\":\"scatter\"},{\"name\":\"segment\",\"x\":[6.445447,6.41692],\"y\":[9.464501,9.535162],\"type\":\"scatter\"},{\"name\":\"segment\",\"x\":[6.41692,6.391704],\"y\":[9.535162,9.613615],\"type\":\"scatter\"},{\"name\":\"segment\",\"x\":[6.391704,6.364519],\"y\":[9.613615,9.678628],\"type\":\"scatter\"},{\"name\":\"segment\",\"x\":[6.364519,6.322055],\"y\":[9.678628,9.780181],\"type\":\"scatter\"},{\"name\":\"segment\",\"x\":[6.322055,6.286126],\"y\":[9.780181,9.866105],\"type\":\"scatter\"},{\"name\":\"segment\",\"x\":[6.286126,6.248167],\"y\":[9.866105,9.951434],\"type\":\"scatter\"},{\"name\":\"segment\",\"x\":[6.248167,6.213756],\"y\":[9.951434,10.028784],\"type\":\"scatter\"},{\"name\":\"segment\",\"x\":[6.213756,6.179936],\"y\":[10.028784,10.115157],\"type\":\"scatter\"},{\"name\":\"segment\",\"x\":[6.179936,6.150067],\"y\":[10.115157,10.20298],\"type\":\"scatter\"},{\"name\":\"segment\",\"x\":[6.150067,6.138629],\"y\":[10.20298,10.295754],\"type\":\"scatter\"},{\"name\":\"segment\",\"x\":[6.138629,6.118881],\"y\":[10.295754,10.404058],\"type\":\"scatter\"},{\"name\":\"segment\",\"x\":[6.118881,6.099665],\"y\":[10.404058,10.52121],\"type\":\"scatter\"},{\"name\":\"segment\",\"x\":[6.099665,6.086641],\"y\":[10.52121,10.639707],\"type\":\"scatter\"},{\"name\":\"segment\",\"x\":[6.086641,6.079765],\"y\":[10.639707,10.741002],\"type\":\"scatter\"},{\"name\":\"segment\",\"x\":[6.079765,6.070202],\"y\":[10.741002,10.850624],\"type\":\"scatter\"},{\"name\":\"segment\",\"x\":[6.070202,6.057814],\"y\":[10.850624,10.96836],\"type\":\"scatter\"},{\"name\":\"segment\",\"x\":[6.057814,6.047492],\"y\":[10.96836,11.086626],\"type\":\"scatter\"},{\"name\":\"segment\",\"x\":[6.047492,6.028087],\"y\":[11.086626,11.187313],\"type\":\"scatter\"},{\"name\":\"segment\",\"x\":[6.028087,6.018414],\"y\":[11.187313,11.270381],\"type\":\"scatter\"},{\"name\":\"segment\",\"x\":[6.018414,6.006512],\"y\":[11.270381,11.354653],\"type\":\"scatter\"},{\"name\":\"segment\",\"x\":[6.006512,6.00101],\"y\":[11.354653,11.438101],\"type\":\"scatter\"},{\"name\":\"segment\",\"x\":[6.00101,5.997537],\"y\":[11.438101,11.522304],\"type\":\"scatter\"},{\"name\":\"segment\",\"x\":[5.997537,6.008165],\"y\":[11.522304,11.623883],\"type\":\"scatter\"},{\"name\":\"segment\",\"x\":[6.008165,6.020501],\"y\":[11.623883,11.741775],\"type\":\"scatter\"},{\"name\":\"segment\",\"x\":[6.020501,6.02737],\"y\":[11.741775,11.867943],\"type\":\"scatter\"},{\"name\":\"segment\",\"x\":[6.02737,6.035001],\"y\":[11.867943,11.969202],\"type\":\"scatter\"},{\"name\":\"segment\",\"x\":[6.035001,6.047472],\"y\":[11.969202,12.051897],\"type\":\"scatter\"},{\"name\":\"segment\",\"x\":[6.047472,6.056122],\"y\":[12.051897,12.137069],\"type\":\"scatter\"},{\"name\":\"segment\",\"x\":[6.056122,6.05726],\"y\":[12.137069,12.207525],\"type\":\"scatter\"},{\"name\":\"segment\",\"x\":[6.05726,6.064574],\"y\":[12.207525,12.289604],\"type\":\"scatter\"},{\"name\":\"segment\",\"x\":[6.064574,6.071336],\"y\":[12.289604,12.365502],\"type\":\"scatter\"},{\"name\":\"segment\",\"x\":[6.071336,6.071415],\"y\":[12.365502,12.43386],\"type\":\"scatter\"},{\"name\":\"segment\",\"x\":[6.071415,6.080446],\"y\":[12.43386,12.478813],\"type\":\"scatter\"},{\"name\":\"segment\",\"x\":[6.080446,6.07073],\"y\":[12.478813,12.754375],\"type\":\"scatter\"},{\"name\":\"segment\",\"x\":[6.07073,6.052544],\"y\":[12.754375,12.802915],\"type\":\"scatter\"},{\"name\":\"segment\",\"x\":[6.052544,6.050128],\"y\":[12.802915,12.87568],\"type\":\"scatter\"},{\"name\":\"segment\",\"x\":[6.050128,6.031938],\"y\":[12.87568,12.977289],\"type\":\"scatter\"},{\"name\":\"segment\",\"x\":[6.031938,6.053504],\"y\":[12.977289,13.048995],\"type\":\"scatter\"},{\"name\":\"segment\",\"x\":[6.053504,6.121253],\"y\":[13.048995,13.131782],\"type\":\"scatter\"},{\"name\":\"segment\",\"x\":[6.121253,6.159928],\"y\":[13.131782,13.160585],\"type\":\"scatter\"},{\"name\":\"segment\",\"x\":[6.159928,6.237763],\"y\":[13.160585,13.205876],\"type\":\"scatter\"},{\"name\":\"0.5230455585755234\",\"x\":[6.795978,6.5056308],\"y\":[5.04262,5.38636664],\"type\":\"scatter\"},{\"name\":\"0.8836909755601231\",\"x\":[7.21053,6.56729982],\"y\":[4.974351,5.43492144],\"type\":\"scatter\"},{\"name\":\"0.7028092238489295\",\"x\":[7.381384,6.885711499999999],\"y\":[5.700248,5.82021],\"type\":\"scatter\"},{\"name\":\"0.5035471600431631\",\"x\":[7.056723,6.7603419],\"y\":[5.416277,5.621824800000001],\"type\":\"scatter\"},{\"name\":\"0.519145132179337\",\"x\":[7.227181,6.965921649999999],\"y\":[6.171193,6.12933384],\"type\":\"scatter\"},{\"name\":\"0.5618233671288276\",\"x\":[7.27555,6.937623],\"y\":[5.963157,5.9752752000000005],\"type\":\"scatter\"},{\"name\":\"1.100858562543487\",\"x\":[6.653354,6.50125536],\"y\":[9.441504,9.33270636],\"type\":\"scatter\"},{\"name\":\"0.9492788214453285\",\"x\":[6.700901,6.624452010000001],\"y\":[9.128885,9.07705531],\"type\":\"scatter\"},{\"name\":\"0.8752075666407696\",\"x\":[6.789741,6.7240231],\"y\":[8.845415,8.807769799999999],\"type\":\"scatter\"},{\"name\":\"0.9849626160037903\",\"x\":[7.035074,6.80637575],\"y\":[8.602878,8.50875079],\"type\":\"scatter\"},{\"name\":\"1.0128665233023575\",\"x\":[7.310675,6.953807],\"y\":[8.115669,7.95956],\"type\":\"scatter\"},{\"name\":\"0.7935968882051633\",\"x\":[7.245521,7.013520359999999],\"y\":[7.672477,7.5932207],\"type\":\"scatter\"},{\"name\":\"0.7413598499123399\",\"x\":[7.274608,7.04038304],\"y\":[7.405149,7.331382039999999],\"type\":\"scatter\"},{\"name\":\"0.7195399422201919\",\"x\":[7.350009,7.04634087],\"y\":[6.959372,6.910802879999999],\"type\":\"scatter\"},{\"name\":\"0.541680180680731\",\"x\":[6.967276,7.04923612],\"y\":[7.160967,7.14206376],\"type\":\"scatter\"},{\"name\":\"0.47650010054795505\",\"x\":[7.128563,7.0388382],\"y\":[6.794169,6.786961059999999],\"type\":\"scatter\"},{\"name\":\"0.5957714162814924\",\"x\":[7.278742,6.998123059999999],\"y\":[6.448806,6.42455939],\"type\":\"scatter\"}],                        {\"template\":{\"data\":{\"histogram2dcontour\":[{\"type\":\"histogram2dcontour\",\"colorbar\":{\"outlinewidth\":0,\"ticks\":\"\"},\"colorscale\":[[0.0,\"#0d0887\"],[0.1111111111111111,\"#46039f\"],[0.2222222222222222,\"#7201a8\"],[0.3333333333333333,\"#9c179e\"],[0.4444444444444444,\"#bd3786\"],[0.5555555555555556,\"#d8576b\"],[0.6666666666666666,\"#ed7953\"],[0.7777777777777778,\"#fb9f3a\"],[0.8888888888888888,\"#fdca26\"],[1.0,\"#f0f921\"]]}],\"choropleth\":[{\"type\":\"choropleth\",\"colorbar\":{\"outlinewidth\":0,\"ticks\":\"\"}}],\"histogram2d\":[{\"type\":\"histogram2d\",\"colorbar\":{\"outlinewidth\":0,\"ticks\":\"\"},\"colorscale\":[[0.0,\"#0d0887\"],[0.1111111111111111,\"#46039f\"],[0.2222222222222222,\"#7201a8\"],[0.3333333333333333,\"#9c179e\"],[0.4444444444444444,\"#bd3786\"],[0.5555555555555556,\"#d8576b\"],[0.6666666666666666,\"#ed7953\"],[0.7777777777777778,\"#fb9f3a\"],[0.8888888888888888,\"#fdca26\"],[1.0,\"#f0f921\"]]}],\"heatmap\":[{\"type\":\"heatmap\",\"colorbar\":{\"outlinewidth\":0,\"ticks\":\"\"},\"colorscale\":[[0.0,\"#0d0887\"],[0.1111111111111111,\"#46039f\"],[0.2222222222222222,\"#7201a8\"],[0.3333333333333333,\"#9c179e\"],[0.4444444444444444,\"#bd3786\"],[0.5555555555555556,\"#d8576b\"],[0.6666666666666666,\"#ed7953\"],[0.7777777777777778,\"#fb9f3a\"],[0.8888888888888888,\"#fdca26\"],[1.0,\"#f0f921\"]]}],\"heatmapgl\":[{\"type\":\"heatmapgl\",\"colorbar\":{\"outlinewidth\":0,\"ticks\":\"\"},\"colorscale\":[[0.0,\"#0d0887\"],[0.1111111111111111,\"#46039f\"],[0.2222222222222222,\"#7201a8\"],[0.3333333333333333,\"#9c179e\"],[0.4444444444444444,\"#bd3786\"],[0.5555555555555556,\"#d8576b\"],[0.6666666666666666,\"#ed7953\"],[0.7777777777777778,\"#fb9f3a\"],[0.8888888888888888,\"#fdca26\"],[1.0,\"#f0f921\"]]}],\"contourcarpet\":[{\"type\":\"contourcarpet\",\"colorbar\":{\"outlinewidth\":0,\"ticks\":\"\"}}],\"contour\":[{\"type\":\"contour\",\"colorbar\":{\"outlinewidth\":0,\"ticks\":\"\"},\"colorscale\":[[0.0,\"#0d0887\"],[0.1111111111111111,\"#46039f\"],[0.2222222222222222,\"#7201a8\"],[0.3333333333333333,\"#9c179e\"],[0.4444444444444444,\"#bd3786\"],[0.5555555555555556,\"#d8576b\"],[0.6666666666666666,\"#ed7953\"],[0.7777777777777778,\"#fb9f3a\"],[0.8888888888888888,\"#fdca26\"],[1.0,\"#f0f921\"]]}],\"surface\":[{\"type\":\"surface\",\"colorbar\":{\"outlinewidth\":0,\"ticks\":\"\"},\"colorscale\":[[0.0,\"#0d0887\"],[0.1111111111111111,\"#46039f\"],[0.2222222222222222,\"#7201a8\"],[0.3333333333333333,\"#9c179e\"],[0.4444444444444444,\"#bd3786\"],[0.5555555555555556,\"#d8576b\"],[0.6666666666666666,\"#ed7953\"],[0.7777777777777778,\"#fb9f3a\"],[0.8888888888888888,\"#fdca26\"],[1.0,\"#f0f921\"]]}],\"mesh3d\":[{\"type\":\"mesh3d\",\"colorbar\":{\"outlinewidth\":0,\"ticks\":\"\"}}],\"scatter\":[{\"fillpattern\":{\"fillmode\":\"overlay\",\"size\":10,\"solidity\":0.2},\"type\":\"scatter\"}],\"parcoords\":[{\"type\":\"parcoords\",\"line\":{\"colorbar\":{\"outlinewidth\":0,\"ticks\":\"\"}}}],\"scatterpolargl\":[{\"type\":\"scatterpolargl\",\"marker\":{\"colorbar\":{\"outlinewidth\":0,\"ticks\":\"\"}}}],\"bar\":[{\"error_x\":{\"color\":\"#2a3f5f\"},\"error_y\":{\"color\":\"#2a3f5f\"},\"marker\":{\"line\":{\"color\":\"#E5ECF6\",\"width\":0.5},\"pattern\":{\"fillmode\":\"overlay\",\"size\":10,\"solidity\":0.2}},\"type\":\"bar\"}],\"scattergeo\":[{\"type\":\"scattergeo\",\"marker\":{\"colorbar\":{\"outlinewidth\":0,\"ticks\":\"\"}}}],\"scatterpolar\":[{\"type\":\"scatterpolar\",\"marker\":{\"colorbar\":{\"outlinewidth\":0,\"ticks\":\"\"}}}],\"histogram\":[{\"marker\":{\"pattern\":{\"fillmode\":\"overlay\",\"size\":10,\"solidity\":0.2}},\"type\":\"histogram\"}],\"scattergl\":[{\"type\":\"scattergl\",\"marker\":{\"colorbar\":{\"outlinewidth\":0,\"ticks\":\"\"}}}],\"scatter3d\":[{\"type\":\"scatter3d\",\"line\":{\"colorbar\":{\"outlinewidth\":0,\"ticks\":\"\"}},\"marker\":{\"colorbar\":{\"outlinewidth\":0,\"ticks\":\"\"}}}],\"scattermapbox\":[{\"type\":\"scattermapbox\",\"marker\":{\"colorbar\":{\"outlinewidth\":0,\"ticks\":\"\"}}}],\"scatterternary\":[{\"type\":\"scatterternary\",\"marker\":{\"colorbar\":{\"outlinewidth\":0,\"ticks\":\"\"}}}],\"scattercarpet\":[{\"type\":\"scattercarpet\",\"marker\":{\"colorbar\":{\"outlinewidth\":0,\"ticks\":\"\"}}}],\"carpet\":[{\"aaxis\":{\"endlinecolor\":\"#2a3f5f\",\"gridcolor\":\"white\",\"linecolor\":\"white\",\"minorgridcolor\":\"white\",\"startlinecolor\":\"#2a3f5f\"},\"baxis\":{\"endlinecolor\":\"#2a3f5f\",\"gridcolor\":\"white\",\"linecolor\":\"white\",\"minorgridcolor\":\"white\",\"startlinecolor\":\"#2a3f5f\"},\"type\":\"carpet\"}],\"table\":[{\"cells\":{\"fill\":{\"color\":\"#EBF0F8\"},\"line\":{\"color\":\"white\"}},\"header\":{\"fill\":{\"color\":\"#C8D4E3\"},\"line\":{\"color\":\"white\"}},\"type\":\"table\"}],\"barpolar\":[{\"marker\":{\"line\":{\"color\":\"#E5ECF6\",\"width\":0.5},\"pattern\":{\"fillmode\":\"overlay\",\"size\":10,\"solidity\":0.2}},\"type\":\"barpolar\"}],\"pie\":[{\"automargin\":true,\"type\":\"pie\"}]},\"layout\":{\"autotypenumbers\":\"strict\",\"colorway\":[\"#636efa\",\"#EF553B\",\"#00cc96\",\"#ab63fa\",\"#FFA15A\",\"#19d3f3\",\"#FF6692\",\"#B6E880\",\"#FF97FF\",\"#FECB52\"],\"font\":{\"color\":\"#2a3f5f\"},\"hovermode\":\"closest\",\"hoverlabel\":{\"align\":\"left\"},\"paper_bgcolor\":\"white\",\"plot_bgcolor\":\"#E5ECF6\",\"polar\":{\"bgcolor\":\"#E5ECF6\",\"angularaxis\":{\"gridcolor\":\"white\",\"linecolor\":\"white\",\"ticks\":\"\"},\"radialaxis\":{\"gridcolor\":\"white\",\"linecolor\":\"white\",\"ticks\":\"\"}},\"ternary\":{\"bgcolor\":\"#E5ECF6\",\"aaxis\":{\"gridcolor\":\"white\",\"linecolor\":\"white\",\"ticks\":\"\"},\"baxis\":{\"gridcolor\":\"white\",\"linecolor\":\"white\",\"ticks\":\"\"},\"caxis\":{\"gridcolor\":\"white\",\"linecolor\":\"white\",\"ticks\":\"\"}},\"coloraxis\":{\"colorbar\":{\"outlinewidth\":0,\"ticks\":\"\"}},\"colorscale\":{\"sequential\":[[0.0,\"#0d0887\"],[0.1111111111111111,\"#46039f\"],[0.2222222222222222,\"#7201a8\"],[0.3333333333333333,\"#9c179e\"],[0.4444444444444444,\"#bd3786\"],[0.5555555555555556,\"#d8576b\"],[0.6666666666666666,\"#ed7953\"],[0.7777777777777778,\"#fb9f3a\"],[0.8888888888888888,\"#fdca26\"],[1.0,\"#f0f921\"]],\"sequentialminus\":[[0.0,\"#0d0887\"],[0.1111111111111111,\"#46039f\"],[0.2222222222222222,\"#7201a8\"],[0.3333333333333333,\"#9c179e\"],[0.4444444444444444,\"#bd3786\"],[0.5555555555555556,\"#d8576b\"],[0.6666666666666666,\"#ed7953\"],[0.7777777777777778,\"#fb9f3a\"],[0.8888888888888888,\"#fdca26\"],[1.0,\"#f0f921\"]],\"diverging\":[[0,\"#8e0152\"],[0.1,\"#c51b7d\"],[0.2,\"#de77ae\"],[0.3,\"#f1b6da\"],[0.4,\"#fde0ef\"],[0.5,\"#f7f7f7\"],[0.6,\"#e6f5d0\"],[0.7,\"#b8e186\"],[0.8,\"#7fbc41\"],[0.9,\"#4d9221\"],[1,\"#276419\"]]},\"xaxis\":{\"gridcolor\":\"white\",\"linecolor\":\"white\",\"ticks\":\"\",\"title\":{\"standoff\":15},\"zerolinecolor\":\"white\",\"automargin\":true,\"zerolinewidth\":2},\"yaxis\":{\"gridcolor\":\"white\",\"linecolor\":\"white\",\"ticks\":\"\",\"title\":{\"standoff\":15},\"zerolinecolor\":\"white\",\"automargin\":true,\"zerolinewidth\":2},\"scene\":{\"xaxis\":{\"backgroundcolor\":\"#E5ECF6\",\"gridcolor\":\"white\",\"linecolor\":\"white\",\"showbackground\":true,\"ticks\":\"\",\"zerolinecolor\":\"white\",\"gridwidth\":2},\"yaxis\":{\"backgroundcolor\":\"#E5ECF6\",\"gridcolor\":\"white\",\"linecolor\":\"white\",\"showbackground\":true,\"ticks\":\"\",\"zerolinecolor\":\"white\",\"gridwidth\":2},\"zaxis\":{\"backgroundcolor\":\"#E5ECF6\",\"gridcolor\":\"white\",\"linecolor\":\"white\",\"showbackground\":true,\"ticks\":\"\",\"zerolinecolor\":\"white\",\"gridwidth\":2}},\"shapedefaults\":{\"line\":{\"color\":\"#2a3f5f\"}},\"annotationdefaults\":{\"arrowcolor\":\"#2a3f5f\",\"arrowhead\":0,\"arrowwidth\":1},\"geo\":{\"bgcolor\":\"white\",\"landcolor\":\"#E5ECF6\",\"subunitcolor\":\"white\",\"showland\":true,\"showlakes\":true,\"lakecolor\":\"white\"},\"title\":{\"x\":0.05},\"mapbox\":{\"style\":\"light\"}}}},                        {\"responsive\": true}                    ).then(function(){\n",
       "                            \n",
       "var gd = document.getElementById('4121ad6d-430d-4812-b3d8-acb5d3a63ce3');\n",
       "var x = new MutationObserver(function (mutations, observer) {{\n",
       "        var display = window.getComputedStyle(gd).display;\n",
       "        if (!display || display === 'none') {{\n",
       "            console.log([gd, 'removed!']);\n",
       "            Plotly.purge(gd);\n",
       "            observer.disconnect();\n",
       "        }}\n",
       "}});\n",
       "\n",
       "// Listen for the removal of the full notebook cells\n",
       "var notebookContainer = gd.closest('#notebook-container');\n",
       "if (notebookContainer) {{\n",
       "    x.observe(notebookContainer, {childList: true});\n",
       "}}\n",
       "\n",
       "// Listen for the clearing of the current output cell\n",
       "var outputEl = gd.closest('.output');\n",
       "if (outputEl) {{\n",
       "    x.observe(outputEl, {childList: true});\n",
       "}}\n",
       "\n",
       "                        })                };                });            </script>        </div>"
      ]
     },
     "metadata": {},
     "output_type": "display_data"
    },
    {
     "data": {
      "text/plain": [
       "[(0.5230455585755234,\n",
       "  0.4501348171296663,\n",
       "  0.8146885243589521,\n",
       "  0.86,\n",
       "  6.5056308,\n",
       "  5.38636664,\n",
       "  6.795978,\n",
       "  5.04262),\n",
       " (0.8836909755601231,\n",
       "  0.794950984506113,\n",
       "  1.2386509397761634,\n",
       "  0.13,\n",
       "  6.56729982,\n",
       "  5.43492144,\n",
       "  7.21053,\n",
       "  4.974351),\n",
       " (0.7028092238489295,\n",
       "  0.5129522646504375,\n",
       "  1.4622370606428978,\n",
       "  0.5,\n",
       "  6.885711499999999,\n",
       "  5.82021,\n",
       "  7.381384,\n",
       "  5.700248),\n",
       " (0.5035471600431631,\n",
       "  0.3610677567742744,\n",
       "  1.0734647731187184,\n",
       "  0.85,\n",
       "  6.7603419,\n",
       "  5.621824800000001,\n",
       "  7.056723,\n",
       "  5.416277),\n",
       " (0.519145132179337,\n",
       "  0.265048611988213,\n",
       "  1.5355312129438334,\n",
       "  0.43,\n",
       "  6.965921649999999,\n",
       "  6.12933384,\n",
       "  7.227181,\n",
       "  6.171193),\n",
       " (0.5618233671288276,\n",
       "  0.33916850703360524,\n",
       "  1.4524428075097173,\n",
       "  0.2,\n",
       "  6.937623,\n",
       "  5.9752752000000005,\n",
       "  7.27555,\n",
       "  5.963157),\n",
       " (1.100858562543487,\n",
       "  0.18705563854913923,\n",
       "  4.75607025852088,\n",
       "  0.44,\n",
       "  6.50125536,\n",
       "  9.33270636,\n",
       "  6.653354,\n",
       "  9.441504),\n",
       " (0.9492788214453285,\n",
       "  0.09236889643555349,\n",
       "  4.37691852148443,\n",
       "  0.81,\n",
       "  6.624452010000001,\n",
       "  9.07705531,\n",
       "  6.700901,\n",
       "  9.128885),\n",
       " (0.8752075666407696,\n",
       "  0.07574135276154367,\n",
       "  4.073072422157674,\n",
       "  0.97,\n",
       "  6.7240231,\n",
       "  8.807769799999999,\n",
       "  6.789741,\n",
       "  8.845415),\n",
       " (0.9849626160037903,\n",
       "  0.24756334822531034,\n",
       "  3.9345596871177113,\n",
       "  0.81,\n",
       "  6.80637575,\n",
       "  8.50875079,\n",
       "  7.035074,\n",
       "  8.602878),\n",
       " (1.0128665233023575,\n",
       "  0.39045021188729173,\n",
       "  3.502531768962621,\n",
       "  0.0,\n",
       "  6.953807,\n",
       "  7.95956,\n",
       "  7.310675,\n",
       "  8.115669),\n",
       " (0.7935968882051633,\n",
       "  0.2454469863920206,\n",
       "  2.986196495457735,\n",
       "  0.13,\n",
       "  7.013520359999999,\n",
       "  7.5932207,\n",
       "  7.245521,\n",
       "  7.672477),\n",
       " (0.7413598499123399,\n",
       "  0.24586362970538972,\n",
       "  2.7233447307401417,\n",
       "  0.32,\n",
       "  7.04038304,\n",
       "  7.331382039999999,\n",
       "  7.274608,\n",
       "  7.405149),\n",
       " (0.7195399422201919,\n",
       "  0.30824532836869856,\n",
       "  2.3647183976261656,\n",
       "  0.79,\n",
       "  7.04634087,\n",
       "  6.910802879999999,\n",
       "  7.350009,\n",
       "  6.959372),\n",
       " (0.541680180680731,\n",
       "  0.08412537519064295,\n",
       "  2.3718994026410836,\n",
       "  0.56,\n",
       "  7.04923612,\n",
       "  7.14206376,\n",
       "  6.967276,\n",
       "  7.160967),\n",
       " (0.47650010054795505,\n",
       "  0.09003292893474263,\n",
       "  2.022368787000805,\n",
       "  0.8200000000000001,\n",
       "  7.0388382,\n",
       "  6.786961059999999,\n",
       "  7.128563,\n",
       "  6.794169),\n",
       " (0.5957714162814924,\n",
       "  0.28224618568604376,\n",
       "  1.8498723386632872,\n",
       "  0.93,\n",
       "  6.998123059999999,\n",
       "  6.42455939,\n",
       "  7.278742,\n",
       "  6.448806)]"
      ]
     },
     "execution_count": 39,
     "metadata": {},
     "output_type": "execute_result"
    }
   ],
   "source": [
    "G_tas = rar.read_arbor_full(\"008_2_C_day3.csv\")\n",
    "d_tas = pf.get_root_distances(G_tas)\n",
    "last_key, root_length = list(d_tas.items())[-1]\n",
    "tas_results = arbor_best_cost(root_length, \"008_2_C_day3.csv\", 0.8, 0.4, 0)\n",
    "tas_results"
   ]
  },
  {
   "cell_type": "code",
   "execution_count": 16,
   "id": "7c717af4-1264-4b00-8e9a-06f9ac16adf7",
   "metadata": {},
   "outputs": [],
   "source": [
    "def get_line_segment_drawings(line_segments):\n",
    "    segment_drawings = []\n",
    "    for seg in line_segments:\n",
    "        x0 = line_segments[seg][0][0]\n",
    "        y0 = line_segments[seg][0][1] \n",
    "        x1 = line_segments[seg][1][0]\n",
    "        y1 = line_segments[seg][1][1]\n",
    "\n",
    "        xpoints = [x0, x1]\n",
    "        ypoints = [y0, y1]\n",
    "\n",
    "        segment = go.Scatter(x= xpoints, y=ypoints, name=\"segment\")\n",
    "        segment_drawings.append(segment)\n",
    "    return segment_drawings"
   ]
  },
  {
   "cell_type": "code",
   "execution_count": 17,
   "id": "f991e730-9919-4d59-83a3-33c8fa7fa890",
   "metadata": {},
   "outputs": [],
   "source": [
    "def get_tip_drawings(lat_tips):\n",
    "    pq_drawings = []\n",
    "    for tip in lat_tips:\n",
    "        p = tip[0]\n",
    "        q = tip[1]\n",
    "        pq = go.Scatter(x = [p], y= [q], name= str(tip))\n",
    "        pq_drawings.append(pq)\n",
    "    return pq_drawings"
   ]
  },
  {
   "cell_type": "code",
   "execution_count": 251,
   "id": "391dd640-2351-409e-9676-ff78e2e04b92",
   "metadata": {},
   "outputs": [
    {
     "name": "stdout",
     "output_type": "stream",
     "text": [
      "(2.1673118567075633, 1.9433769719742997, 2.3912467414408267, 0.0, 6.248517, 5.230901, 8.047481, 5.966049)\n"
     ]
    },
    {
     "data": {
      "text/plain": [
       "(1.0583403600567263,\n",
       " 1.0583403600567263,\n",
       " 1.0583403600567263,\n",
       " 0.0,\n",
       " 5.644983,\n",
       " 6.913284,\n",
       " 5.711468,\n",
       " 5.857034)"
      ]
     },
     "execution_count": 251,
     "metadata": {},
     "output_type": "execute_result"
    }
   ],
   "source": [
    "dist1 = length_func(6.316246, 4.788182, 6.248517, 5.230901)\n",
    "print(find_best_cost(0.5, 0, dist1, 6.248517, 5.230901, 6.172466, 5.448168, 8.047481, 5.966049))\n",
    "le, the = get_length_and_theta(6.248517, 5.230901, 6.172466, 5.448168)\n",
    "le, the\n",
    "supposed_x = 6.248517 + (1 * le * math.cos(the))\n",
    "supposed_y = 5.230901 + 1 * (le * math.sin(the))\n",
    "supposed_x, supposed_y, the\n",
    "get_theta(6.248517, 5.230901, 6.172466, 5.448168)\n",
    "supposed_x, supposed_y\n",
    "total_cost(0.5, 0, dist1, 6.248517, 5.230901, 6.172466, 5.448168, 8.934018, 7.703327)\n",
    "find_best_cost(0, 0, 0, 5.644983, 6.913284, 5.611528, 6.990774, 5.711468, 5.857034)"
   ]
  },
  {
   "cell_type": "code",
   "execution_count": 177,
   "id": "d5c775da-8168-4c5e-a395-f22f0b8c7684",
   "metadata": {},
   "outputs": [
    {
     "ename": "NameError",
     "evalue": "name 'results' is not defined",
     "output_type": "error",
     "traceback": [
      "\u001b[1;31m---------------------------------------------------------------------------\u001b[0m",
      "\u001b[1;31mNameError\u001b[0m                                 Traceback (most recent call last)",
      "Cell \u001b[1;32mIn[177], line 1\u001b[0m\n\u001b[1;32m----> 1\u001b[0m \u001b[38;5;28;01mfor\u001b[39;00m result \u001b[38;5;129;01min\u001b[39;00m results:\n\u001b[0;32m      2\u001b[0m     b, c \u001b[38;5;241m=\u001b[39m calc_coeff(\u001b[38;5;241m0\u001b[39m, result[\u001b[38;5;241m2\u001b[39m], result[\u001b[38;5;241m3\u001b[39m], result[\u001b[38;5;241m4\u001b[39m], result[\u001b[38;5;241m5\u001b[39m])\n",
      "\u001b[1;31mNameError\u001b[0m: name 'results' is not defined"
     ]
    }
   ],
   "source": [
    "for result in results:\n",
    "    b, c = calc_coeff(0, result[2], result[3], result[4], result[5])\n",
    "    xcoords = []\n",
    "    "
   ]
  },
  {
   "cell_type": "code",
   "execution_count": 377,
   "id": "23336a7d-f6fa-4172-95c5-e119ca477f51",
   "metadata": {},
   "outputs": [
    {
     "ename": "TypeError",
     "evalue": "arbor_best_cost() missing 1 required positional argument: 'root_distance'",
     "output_type": "error",
     "traceback": [
      "\u001b[1;31m---------------------------------------------------------------------------\u001b[0m",
      "\u001b[1;31mTypeError\u001b[0m                                 Traceback (most recent call last)",
      "Cell \u001b[1;32mIn[377], line 1\u001b[0m\n\u001b[1;32m----> 1\u001b[0m arbor_best_cost(\u001b[38;5;124m'\u001b[39m\u001b[38;5;124m002_1_c_day4.csv\u001b[39m\u001b[38;5;124m'\u001b[39m, \u001b[38;5;241m0\u001b[39m, \u001b[38;5;241m0\u001b[39m, \u001b[38;5;241m0\u001b[39m)\n",
      "\u001b[1;31mTypeError\u001b[0m: arbor_best_cost() missing 1 required positional argument: 'root_distance'"
     ]
    }
   ],
   "source": [
    "arbor_best_cost('002_1_c_day4.csv', 0, 0, 0)"
   ]
  },
  {
   "cell_type": "code",
   "execution_count": 18,
   "id": "f7dc4cbc-626c-40c5-a19b-05dd73d37502",
   "metadata": {},
   "outputs": [],
   "source": [
    "# if i understand correctly, based on alpha and Gravity constant, code above will return a point (many) that optimizes cost for a lateral root tip\n",
    "# my task is to use this point to create a line (or curve) from that point to the lateral root tip and then conduct point similarity analysis\n",
    "\n",
    "# for fill_lateral_root, need to know whether or not G is 0, that way we can properly fill in the optimal line by determining whether it's straight or curved\n",
    "# need to understand what the graph attributes are for \n",
    "# need to make gravity and b, c graph attributes\n",
    "# also will need to manually write code to draw nodes and edges since plotly and networkx only use straight lines\n",
    "def calc_pareto_front(fname):\n",
    "    G = rar.read_arbor_full(fname)\n",
    "    d = pf.get_root_distances(G)\n",
    "    last_key, root_length = list(d.items())[-1]\n",
    "    delta = 0.01\n",
    "    epsilon = 0.1\n",
    "    min_alpha = 0.0\n",
    "    max_alpha = 0.10\n",
    "    min_gravity = 0\n",
    "    max_gravity = 0.1\n",
    "    values = []\n",
    "    for alpha in pylab.arange(min_alpha, max_alpha + delta, delta):\n",
    "        for g in pylab.arange(min_gravity, max_gravity + epsilon, epsilon):\n",
    "            G_opt = nx.Graph(Gravity = g)\n",
    "            line_segs = get_line_segments(G)\n",
    "            graph_main_root(G_opt, line_segs)\n",
    "            final = arbor_best_cost(root_length, fname, alpha, g, 0) # 0 is the root distance but I figured it doesn't matter as code calculates proper root distance\n",
    "            graph_opt_lines(G_opt, final)\n",
    "            point_dist = 0\n",
    "            print(\"Calculating distances for alpha: \" + str(alpha) + \" and G = \" + str(g))\n",
    "            wiring = 0\n",
    "            delay = 0\n",
    "            cost = 0\n",
    "            for result in final:\n",
    "                cost += result[0]\n",
    "                wiring += result[1]\n",
    "                delay += result[2]\n",
    "                main_root = result[4], result[5]\n",
    "                lateral_tip = result[6], result[7]\n",
    "                point_dist += modified_calculate_distance(g, G, G_opt, main_root, lateral_tip)\n",
    "            wiring += main_root_distance(line_segs) # earlier, did not account for the main root when calculating wiring cost\n",
    "            values.append((cost, alpha, g, wiring, delay, point_dist))\n",
    "            \n",
    "    return values"
   ]
  },
  {
   "cell_type": "code",
   "execution_count": 387,
   "id": "df9e251b-5ee3-4868-a7ce-f3bb5b46a33a",
   "metadata": {},
   "outputs": [
    {
     "data": {
      "text/plain": [
       "[(3.918009777298801,\n",
       "  3.918009777298801,\n",
       "  3.918009777298801,\n",
       "  0.0,\n",
       "  6.316246,\n",
       "  4.788182,\n",
       "  8.934018,\n",
       "  7.703327),\n",
       " (2.637712213530695,\n",
       "  2.637712213530695,\n",
       "  2.637712213530695,\n",
       "  0.0,\n",
       "  6.316246,\n",
       "  4.788182,\n",
       "  8.484618,\n",
       "  6.290077),\n",
       " (2.7645770957670903,\n",
       "  2.7645770957670903,\n",
       "  2.7645770957670903,\n",
       "  0.0,\n",
       "  6.316246,\n",
       "  4.788182,\n",
       "  8.50546,\n",
       "  6.476444),\n",
       " (2.0939305850275933,\n",
       "  2.0939305850275933,\n",
       "  2.0939305850275933,\n",
       "  0.0,\n",
       "  6.316246,\n",
       "  4.788182,\n",
       "  8.047481,\n",
       "  5.966049),\n",
       " (3.258760787424877,\n",
       "  3.258760787424877,\n",
       "  3.258760787424877,\n",
       "  0.0,\n",
       "  6.316246,\n",
       "  4.788182,\n",
       "  7.725423,\n",
       "  7.726505),\n",
       " (3.011397304532565,\n",
       "  3.011397304532565,\n",
       "  3.011397304532565,\n",
       "  0.0,\n",
       "  6.316246,\n",
       "  4.788182,\n",
       "  4.119307,\n",
       "  6.847787),\n",
       " (2.074728732088607,\n",
       "  2.074728732088607,\n",
       "  2.074728732088607,\n",
       "  0.0,\n",
       "  6.316246,\n",
       "  4.788182,\n",
       "  4.741723,\n",
       "  6.139247),\n",
       " (1.5444593641870281,\n",
       "  1.5444593641870281,\n",
       "  1.5444593641870281,\n",
       "  0.0,\n",
       "  6.316246,\n",
       "  4.788182,\n",
       "  6.692531,\n",
       "  6.286102),\n",
       " (1.3379718925093307,\n",
       "  1.3379718925093307,\n",
       "  1.3379718925093307,\n",
       "  0.0,\n",
       "  6.316246,\n",
       "  4.788182,\n",
       "  5.529114,\n",
       "  5.870121),\n",
       " (1.2280883629397352,\n",
       "  1.2280883629397352,\n",
       "  1.2280883629397352,\n",
       "  0.0,\n",
       "  6.316246,\n",
       "  4.788182,\n",
       "  5.711468,\n",
       "  5.857034),\n",
       " (1.5948718891073979,\n",
       "  1.5948718891073979,\n",
       "  1.5948718891073979,\n",
       "  0.0,\n",
       "  6.316246,\n",
       "  4.788182,\n",
       "  6.441282,\n",
       "  6.378145),\n",
       " (1.1061954037677977,\n",
       "  1.1061954037677977,\n",
       "  1.1061954037677977,\n",
       "  0.0,\n",
       "  6.316246,\n",
       "  4.788182,\n",
       "  7.3533,\n",
       "  5.173133)]"
      ]
     },
     "execution_count": 387,
     "metadata": {},
     "output_type": "execute_result"
    }
   ],
   "source": [
    "testingout = rar.read_arbor_full('002_1_c_day4.csv')\n",
    "d = pf.get_root_distances(testingout)\n",
    "last_key, last_value = list(d.items())[-1]\n",
    "last_value\n",
    "arbor_best_cost(last_value, '002_1_c_day4.csv', 0, 0, 0)"
   ]
  },
  {
   "cell_type": "code",
   "execution_count": 390,
   "id": "c9a7c47a-003c-4380-8c08-e670f685c56e",
   "metadata": {},
   "outputs": [
    {
     "name": "stdout",
     "output_type": "stream",
     "text": [
      "Calculating distances for alpha: 0.0 and G = 0.0\n",
      "Calculating distances for alpha: 0.0 and G = 0.1\n",
      "Calculating distances for alpha: 0.01 and G = 0.0\n",
      "Calculating distances for alpha: 0.01 and G = 0.1\n",
      "Calculating distances for alpha: 0.02 and G = 0.0\n",
      "Calculating distances for alpha: 0.02 and G = 0.1\n",
      "Calculating distances for alpha: 0.03 and G = 0.0\n",
      "Calculating distances for alpha: 0.03 and G = 0.1\n",
      "Calculating distances for alpha: 0.04 and G = 0.0\n",
      "Calculating distances for alpha: 0.04 and G = 0.1\n",
      "Calculating distances for alpha: 0.05 and G = 0.0\n",
      "Calculating distances for alpha: 0.05 and G = 0.1\n",
      "Calculating distances for alpha: 0.06 and G = 0.0\n",
      "Calculating distances for alpha: 0.06 and G = 0.1\n",
      "Calculating distances for alpha: 0.07 and G = 0.0\n",
      "Calculating distances for alpha: 0.07 and G = 0.1\n",
      "Calculating distances for alpha: 0.08 and G = 0.0\n",
      "Calculating distances for alpha: 0.08 and G = 0.1\n",
      "Calculating distances for alpha: 0.09 and G = 0.0\n",
      "Calculating distances for alpha: 0.09 and G = 0.1\n",
      "Calculating distances for alpha: 0.1 and G = 0.0\n",
      "Calculating distances for alpha: 0.1 and G = 0.1\n"
     ]
    },
    {
     "data": {
      "text/plain": [
       "[(26.57070340818152,\n",
       "  0.0,\n",
       "  0.0,\n",
       "  29.44270132437781,\n",
       "  26.57070340818152,\n",
       "  106.07722956983068),\n",
       " (26.6146403047349,\n",
       "  0.0,\n",
       "  0.1,\n",
       "  29.48663822093119,\n",
       "  26.6146403047349,\n",
       "  100.8102481240575),\n",
       " (26.57070340818152,\n",
       "  0.01,\n",
       "  0.0,\n",
       "  29.44270132437781,\n",
       "  26.57070340818152,\n",
       "  106.07722956983068),\n",
       " (26.6146403047349,\n",
       "  0.01,\n",
       "  0.1,\n",
       "  29.48663822093119,\n",
       "  26.6146403047349,\n",
       "  100.8102481240575),\n",
       " (26.57070340818152,\n",
       "  0.02,\n",
       "  0.0,\n",
       "  29.44270132437781,\n",
       "  26.57070340818152,\n",
       "  106.07722956983068),\n",
       " (26.6146403047349,\n",
       "  0.02,\n",
       "  0.1,\n",
       "  29.48663822093119,\n",
       "  26.6146403047349,\n",
       "  100.8102481240575),\n",
       " (26.570517308186925,\n",
       "  0.03,\n",
       "  0.0,\n",
       "  29.34693981557906,\n",
       "  26.573473248665405,\n",
       "  85.61854084245536),\n",
       " (26.61445420688514,\n",
       "  0.03,\n",
       "  0.1,\n",
       "  29.390876714277276,\n",
       "  26.617410147363618,\n",
       "  80.39903669130736),\n",
       " (26.568420840698373,\n",
       "  0.04,\n",
       "  0.0,\n",
       "  29.148049371386914,\n",
       "  26.580602898427863,\n",
       "  61.75044963181284),\n",
       " (26.61235775470019,\n",
       "  0.04,\n",
       "  0.1,\n",
       "  29.19198628538874,\n",
       "  26.624539812429685,\n",
       "  56.59793186132253),\n",
       " (26.564633534785955,\n",
       "  0.05,\n",
       "  0.0,\n",
       "  29.01540993279898,\n",
       "  26.586803088374552,\n",
       "  53.303878095243675),\n",
       " (26.608570482369704,\n",
       "  0.05,\n",
       "  0.1,\n",
       "  29.059346880382726,\n",
       "  26.630740035958297,\n",
       "  48.18046843912395),\n",
       " (26.560154998568983,\n",
       "  0.06,\n",
       "  0.0,\n",
       "  29.011155331466746,\n",
       "  26.58702718473698,\n",
       "  53.09376815271975),\n",
       " (26.604091947866987,\n",
       "  0.06,\n",
       "  0.1,\n",
       "  29.055092280764743,\n",
       "  26.630964134034976,\n",
       "  47.971141435639254),\n",
       " (26.555567977110147,\n",
       "  0.07,\n",
       "  0.0,\n",
       "  28.969395119142185,\n",
       "  26.59005394935907,\n",
       "  53.050291073332005),\n",
       " (26.599506550764378,\n",
       "  0.07,\n",
       "  0.1,\n",
       "  29.013333692796415,\n",
       "  26.6339925230133,\n",
       "  47.926075326947),\n",
       " (26.550216482013273,\n",
       "  0.08,\n",
       "  0.0,\n",
       "  28.87832135016942,\n",
       "  26.59751152966894,\n",
       "  52.229295724282665),\n",
       " (26.594158525838616,\n",
       "  0.08,\n",
       "  0.1,\n",
       "  28.922263393994758,\n",
       "  26.641453573494278,\n",
       "  47.10633424269557),\n",
       " (26.54349649576274,\n",
       "  0.09,\n",
       "  0.0,\n",
       "  28.730791108398606,\n",
       "  26.611214404906075,\n",
       "  48.73145885676276),\n",
       " (26.58744252653559,\n",
       "  0.09,\n",
       "  0.1,\n",
       "  28.7788127540736,\n",
       "  26.654757352886406,\n",
       "  43.62910132611993),\n",
       " (26.53531875140738,\n",
       "  0.1,\n",
       "  0.0,\n",
       "  28.613243566339523,\n",
       "  26.623549095992285,\n",
       "  46.4181132711815),\n",
       " (26.57926863694258,\n",
       "  0.1,\n",
       "  0.1,\n",
       "  28.65719345187472,\n",
       "  26.667498981527483,\n",
       "  41.32199688486823)]"
      ]
     },
     "execution_count": 390,
     "metadata": {},
     "output_type": "execute_result"
    }
   ],
   "source": [
    "calc_pareto_front('002_1_c_day4.csv')"
   ]
  },
  {
   "cell_type": "code",
   "execution_count": 33,
   "id": "c740e259-fb9e-4f13-8f76-687e78a804ea",
   "metadata": {},
   "outputs": [],
   "source": [
    "def modified_calculate_distance(gravity, G, G_opt, main_root, lateral_tip):\n",
    "    opt_y_coords, actual_y_coords = modified_fill_lateral_root(gravity, G, G_opt, main_root, lateral_tip)\n",
    "    distances = []\n",
    "    \n",
    "    for x in range(len(opt_y_coords)):\n",
    "        diff_square = (opt_y_coords[x] - actual_y_coords[x]) ** 2\n",
    "        distances.append(diff_square)\n",
    "\n",
    "    return sum(distances)"
   ]
  },
  {
   "cell_type": "code",
   "execution_count": 32,
   "id": "7a257333-3e86-461b-be62-07901058d1e7",
   "metadata": {},
   "outputs": [],
   "source": [
    "\n",
    "## NEXT STEP IS TO WORK ON THIS\n",
    "def modified_fill_lateral_root(gravity, G, G_opt, main_root, lateral_tip) :\n",
    "\n",
    "    ## This method uses the lateral tip and main root to fill in points of the lateral root\n",
    "    ## in order to perform distance calculation\n",
    "\n",
    "    # get coefficients\n",
    "    if gravity == 0:\n",
    "        m, y_int = modified_line_equation(gravity, main_root, lateral_tip)\n",
    "    else: \n",
    "        b, c = modified_line_equation(gravity, main_root, lateral_tip)\n",
    "                    \n",
    "\n",
    "    observed = {}\n",
    "    optimal = {}\n",
    "    observed, optimal = ps.create_dict(G, G_opt)\n",
    "    backwards = {}\n",
    "\n",
    "    ## reverses observed dictionary\n",
    "    for node in reversed(observed):\n",
    "        backwards[node] = observed[node]\n",
    "\n",
    "    tip_found = False\n",
    "    encountered_observed = []\n",
    "    index = len(G.nodes) - 2\n",
    "    \n",
    "    ## loop backwards\n",
    "    for node in backwards :\n",
    "        if G.nodes[node]['label'] == \"lateral root tip\" and tip_found:\n",
    "            break\n",
    "        if lateral_tip == node:\n",
    "            tip_found = True\n",
    "           # print(\"tip was found\")\n",
    "            continue\n",
    "        if tip_found == True and (list(G.nodes(data = True))[index][1][\"label\"] == \"lateral root\"): \n",
    "           # print(\"not a tip\")\n",
    "            encountered_observed.append(node)\n",
    "        index -= 1\n",
    "\n",
    "    ## need to calculate points based on observed x-coordinates and line equation\n",
    "    x_coords = []\n",
    "    y_coords = []\n",
    "    count = -1\n",
    "    for point in encountered_observed:\n",
    "        for coords in point:\n",
    "          count += 1\n",
    "          if count % 2 == 0 :\n",
    "              x_coords.append(coords)\n",
    "          else :\n",
    "              y_coords.append(coords)\n",
    "    added_nodes = []\n",
    "    if gravity == 0:\n",
    "        for x in x_coords:\n",
    "            added_nodes.append(m * x + y_int)\n",
    "    else:\n",
    "        for x in x_coords:\n",
    "            added_nodes.append(gravity*x*x + b*x + c)\n",
    "\n",
    "    return added_nodes, y_coords\n"
   ]
  },
  {
   "cell_type": "code",
   "execution_count": 31,
   "id": "fd0cf65d-8a28-4248-8224-266975bb4b96",
   "metadata": {},
   "outputs": [],
   "source": [
    "# given a point on the main_root and lateral root, get equation of line or curve\n",
    "def modified_line_equation(G, main_root, lateral_tip) :\n",
    "    x, y = main_root\n",
    "    p, q = lateral_tip\n",
    "    if G == 0:\n",
    "        m = (q - y) / (p - x)\n",
    "        y_int = y - m * x\n",
    "        return m, y_int\n",
    "    else:\n",
    "        b, c = calc_coeff(G, x, y, p, q)\n",
    "        return b, c"
   ]
  },
  {
   "cell_type": "code",
   "execution_count": 87,
   "id": "eb6f60ca-d545-45fa-9261-ba37036cc65f",
   "metadata": {},
   "outputs": [
    {
     "data": {
      "text/plain": [
       "(-14.261877737165243, 55.30252179330955)"
      ]
     },
     "execution_count": 87,
     "metadata": {},
     "output_type": "execute_result"
    }
   ],
   "source": [
    "modified_line_equation(1, (6.248517, 5.230901), ((8.934018, 7.703327)))"
   ]
  },
  {
   "cell_type": "code",
   "execution_count": 30,
   "id": "981e8166-ad2a-4644-b432-318fc43846e3",
   "metadata": {},
   "outputs": [],
   "source": [
    "def main_root_distance(line_segments):\n",
    "    distance = 0\n",
    "    for seg in line_segments:\n",
    "        x0 = line_segments[seg][0][0]\n",
    "        y0 = line_segments[seg][0][1] \n",
    "        x1 = line_segments[seg][1][0]\n",
    "        y1 = line_segments[seg][1][1]\n",
    "        distance += length_func(x0, y0, x1, y1)\n",
    "    return distance"
   ]
  },
  {
   "cell_type": "code",
   "execution_count": 29,
   "id": "a94f989c-b441-4577-89d9-1c57179ee818",
   "metadata": {},
   "outputs": [],
   "source": [
    "def get_line_segments(arbor):\n",
    "    line_segments = {}\n",
    "    main_root = []\n",
    "    for node in arbor.nodes():\n",
    "        if arbor.nodes[node][\"label\"] == (\"main root\") or arbor.nodes[node][\"label\"] == (\"main root base\"):\n",
    "            main_root.append(node)\n",
    "    for i in range(1, len(main_root)):\n",
    "        line_segments[i] = main_root[i - 1], main_root[i]\n",
    "    return line_segments"
   ]
  },
  {
   "cell_type": "code",
   "execution_count": 28,
   "id": "31ea31ab-a6a8-42da-ae22-8580eaf92098",
   "metadata": {},
   "outputs": [],
   "source": [
    "def graph_main_root(graph, line_segments):\n",
    "     for seg in line_segments:\n",
    "        x0 = line_segments[seg][0][0]\n",
    "        y0 = line_segments[seg][0][1] \n",
    "        x1 = line_segments[seg][1][0]\n",
    "        y1 = line_segments[seg][1][1]\n",
    "        first_point = x0, y0\n",
    "        second_point = x1, y1\n",
    "        \n",
    "         \n",
    "        graph.add_node(first_point, pos=first_point)\n",
    "        graph.add_node(second_point, pos=second_point)\n",
    "        graph.add_edge(first_point, second_point)\n",
    "        coords = {}\n",
    "      #  for coordinate in list(graph.nodes):\n",
    "        #    coords[coordinate] = coordinate\n",
    "       # nx.draw_networkx(graph, pos = coords, with_labels = False, node_size = 2)"
   ]
  },
  {
   "cell_type": "code",
   "execution_count": 89,
   "id": "03a61afd-fb45-4002-a0b9-88be07d56155",
   "metadata": {},
   "outputs": [
    {
     "name": "stdout",
     "output_type": "stream",
     "text": [
      "0\n"
     ]
    },
    {
     "data": {
      "image/png": "[encoded data removed]",
      "text/plain": [
       "<Figure size 640x480 with 1 Axes>"
      ]
     },
     "metadata": {},
     "output_type": "display_data"
    }
   ],
   "source": [
    "graph = nx.Graph(G = 0)\n",
    "print(graph.graph['G'])\n",
    "arbor = rar.read_arbor_full('002_1_c_day4.csv')\n",
    "test_main_root = []\n",
    "test_lat_tips = []\n",
    "test_line_segments = {}\n",
    "test_point_drawing = go.Figure()\n",
    "for test_node in arbor.nodes():\n",
    "    if arbor.nodes[test_node][\"label\"] == (\"main root\") or arbor.nodes[test_node][\"label\"] == (\"main root base\"):\n",
    "        test_main_root.append(test_node)\n",
    "    if arbor.nodes[test_node][\"label\"] == (\"lateral root tip\"):\n",
    "        test_lat_tips.append(test_node)\n",
    "for i in range(1, len(test_main_root)):\n",
    "    test_line_segments[i] = test_main_root[i - 1], test_main_root[i]\n",
    "graph_main_root(graph, test_line_segments)"
   ]
  },
  {
   "cell_type": "code",
   "execution_count": 140,
   "id": "aca617a2-929f-4b22-9c3f-79ed411d5625",
   "metadata": {},
   "outputs": [
    {
     "data": {
      "application/vnd.plotly.v1+json": {
       "config": {
        "plotlyServerURL": "https://plot.ly"
       },
       "data": [
        {
         "name": "(8.934018, 7.703327)",
         "type": "scatter",
         "x": [
          8.934018
         ],
         "y": [
          7.703327
         ]
        },
        {
         "name": "(8.484618, 6.290077)",
         "type": "scatter",
         "x": [
          8.484618
         ],
         "y": [
          6.290077
         ]
        },
        {
         "name": "(8.50546, 6.476444)",
         "type": "scatter",
         "x": [
          8.50546
         ],
         "y": [
          6.476444
         ]
        },
        {
         "name": "(8.047481, 5.966049)",
         "type": "scatter",
         "x": [
          8.047481
         ],
         "y": [
          5.966049
         ]
        },
        {
         "name": "(7.725423, 7.726505)",
         "type": "scatter",
         "x": [
          7.725423
         ],
         "y": [
          7.726505
         ]
        },
        {
         "name": "(4.119307, 6.847787)",
         "type": "scatter",
         "x": [
          4.119307
         ],
         "y": [
          6.847787
         ]
        },
        {
         "name": "(4.741723, 6.139247)",
         "type": "scatter",
         "x": [
          4.741723
         ],
         "y": [
          6.139247
         ]
        },
        {
         "name": "(6.692531, 6.286102)",
         "type": "scatter",
         "x": [
          6.692531
         ],
         "y": [
          6.286102
         ]
        },
        {
         "name": "(5.529114, 5.870121)",
         "type": "scatter",
         "x": [
          5.529114
         ],
         "y": [
          5.870121
         ]
        },
        {
         "name": "(5.711468, 5.857034)",
         "type": "scatter",
         "x": [
          5.711468
         ],
         "y": [
          5.857034
         ]
        },
        {
         "name": "(6.441282, 6.378145)",
         "type": "scatter",
         "x": [
          6.441282
         ],
         "y": [
          6.378145
         ]
        },
        {
         "name": "(7.3533, 5.173133)",
         "type": "scatter",
         "x": [
          7.3533
         ],
         "y": [
          5.173133
         ]
        },
        {
         "name": "segment",
         "type": "scatter",
         "x": [
          6.316246,
          6.248517
         ],
         "y": [
          4.788182,
          5.230901
         ]
        },
        {
         "name": "segment",
         "type": "scatter",
         "x": [
          6.248517,
          6.172466
         ],
         "y": [
          5.230901,
          5.448168
         ]
        },
        {
         "name": "segment",
         "type": "scatter",
         "x": [
          6.172466,
          6.078373
         ],
         "y": [
          5.448168,
          5.719055
         ]
        },
        {
         "name": "segment",
         "type": "scatter",
         "x": [
          6.078373,
          6.051647
         ],
         "y": [
          5.719055,
          5.865528
         ]
        },
        {
         "name": "segment",
         "type": "scatter",
         "x": [
          6.051647,
          6.02648
         ],
         "y": [
          5.865528,
          5.978601
         ]
        },
        {
         "name": "segment",
         "type": "scatter",
         "x": [
          6.02648,
          6.009377
         ],
         "y": [
          5.978601,
          6.051857
         ]
        },
        {
         "name": "segment",
         "type": "scatter",
         "x": [
          6.009377,
          5.988092
         ],
         "y": [
          6.051857,
          6.152656
         ]
        },
        {
         "name": "segment",
         "type": "scatter",
         "x": [
          5.988092,
          5.888783
         ],
         "y": [
          6.152656,
          6.313534
         ]
        },
        {
         "name": "segment",
         "type": "scatter",
         "x": [
          5.888783,
          5.857484
         ],
         "y": [
          6.313534,
          6.399435
         ]
        },
        {
         "name": "segment",
         "type": "scatter",
         "x": [
          5.857484,
          5.805855
         ],
         "y": [
          6.399435,
          6.535716
         ]
        },
        {
         "name": "segment",
         "type": "scatter",
         "x": [
          5.805855,
          5.771865
         ],
         "y": [
          6.535716,
          6.631406
         ]
        },
        {
         "name": "segment",
         "type": "scatter",
         "x": [
          5.771865,
          5.703528
         ],
         "y": [
          6.631406,
          6.716372
         ]
        },
        {
         "name": "segment",
         "type": "scatter",
         "x": [
          5.703528,
          5.67063
         ],
         "y": [
          6.716372,
          6.775653
         ]
        },
        {
         "name": "segment",
         "type": "scatter",
         "x": [
          5.67063,
          5.644983
         ],
         "y": [
          6.775653,
          6.913284
         ]
        },
        {
         "name": "segment",
         "type": "scatter",
         "x": [
          5.644983,
          5.611528
         ],
         "y": [
          6.913284,
          6.990774
         ]
        },
        {
         "name": "segment",
         "type": "scatter",
         "x": [
          5.611528,
          5.590928
         ],
         "y": [
          6.990774,
          7.125623
         ]
        },
        {
         "name": "segment",
         "type": "scatter",
         "x": [
          5.590928,
          5.565074
         ],
         "y": [
          7.125623,
          7.224829
         ]
        },
        {
         "name": "segment",
         "type": "scatter",
         "x": [
          5.565074,
          5.492228
         ],
         "y": [
          7.224829,
          7.511988
         ]
        },
        {
         "name": "3.329123089901753",
         "type": "scatter",
         "x": [
          8.934018,
          5.988092
         ],
         "y": [
          7.703327,
          6.152656
         ]
        },
        {
         "name": "2.4603894218864917",
         "type": "scatter",
         "x": [
          8.484618,
          6.16023391
         ],
         "y": [
          6.290077,
          5.48338331
         ]
        },
        {
         "name": "2.527928107598541",
         "type": "scatter",
         "x": [
          8.50546,
          6.0378051500000005
         ],
         "y": [
          6.476444,
          5.9277181500000005
         ]
        },
        {
         "name": "1.9408268165157183",
         "type": "scatter",
         "x": [
          8.047481,
          6.21581507
         ],
         "y": [
          5.966049,
          5.32432581
         ]
        },
        {
         "name": "2.217039549796344",
         "type": "scatter",
         "x": [
          7.725423,
          5.58006932
         ],
         "y": [
          7.726505,
          7.16728952
         ]
        },
        {
         "name": "1.4941227821210006",
         "type": "scatter",
         "x": [
          4.119307,
          5.565074
         ],
         "y": [
          6.847787,
          7.224829
         ]
        },
        {
         "name": "1.121669346844247",
         "type": "scatter",
         "x": [
          4.741723,
          5.703528
         ],
         "y": [
          6.139247,
          6.716372
         ]
        },
        {
         "name": "0.7168110733835552",
         "type": "scatter",
         "x": [
          6.692531,
          5.99128475
         ],
         "y": [
          6.286102,
          6.13753615
         ]
        },
        {
         "name": "0.5090044301711434",
         "type": "scatter",
         "x": [
          5.529114,
          6.0247697
         ],
         "y": [
          5.870121,
          5.9859266
         ]
        },
        {
         "name": "0.3338992868476783",
         "type": "scatter",
         "x": [
          5.711468,
          6.03730181
         ],
         "y": [
          5.857034,
          5.92997961
         ]
        },
        {
         "name": "0.5061881717513755",
         "type": "scatter",
         "x": [
          6.441282,
          5.988092
         ],
         "y": [
          6.378145,
          6.152656
         ]
        },
        {
         "name": "1.0833414108740145",
         "type": "scatter",
         "x": [
          7.3533,
          6.2823815
         ],
         "y": [
          5.173133,
          5.0095415
         ]
        }
       ],
       "layout": {
        "autosize": true,
        "template": {
         "data": {
          "bar": [
           {
            "error_x": {
             "color": "#2a3f5f"
            },
            "error_y": {
             "color": "#2a3f5f"
            },
            "marker": {
             "line": {
              "color": "#E5ECF6",
              "width": 0.5
             },
             "pattern": {
              "fillmode": "overlay",
              "size": 10,
              "solidity": 0.2
             }
            },
            "type": "bar"
           }
          ],
          "barpolar": [
           {
            "marker": {
             "line": {
              "color": "#E5ECF6",
              "width": 0.5
             },
             "pattern": {
              "fillmode": "overlay",
              "size": 10,
              "solidity": 0.2
             }
            },
            "type": "barpolar"
           }
          ],
          "carpet": [
           {
            "aaxis": {
             "endlinecolor": "#2a3f5f",
             "gridcolor": "white",
             "linecolor": "white",
             "minorgridcolor": "white",
             "startlinecolor": "#2a3f5f"
            },
            "baxis": {
             "endlinecolor": "#2a3f5f",
             "gridcolor": "white",
             "linecolor": "white",
             "minorgridcolor": "white",
             "startlinecolor": "#2a3f5f"
            },
            "type": "carpet"
           }
          ],
          "choropleth": [
           {
            "colorbar": {
             "outlinewidth": 0,
             "ticks": ""
            },
            "type": "choropleth"
           }
          ],
          "contour": [
           {
            "colorbar": {
             "outlinewidth": 0,
             "ticks": ""
            },
            "colorscale": [
             [
              0,
              "#0d0887"
             ],
             [
              0.1111111111111111,
              "#46039f"
             ],
             [
              0.2222222222222222,
              "#7201a8"
             ],
             [
              0.3333333333333333,
              "#9c179e"
             ],
             [
              0.4444444444444444,
              "#bd3786"
             ],
             [
              0.5555555555555556,
              "#d8576b"
             ],
             [
              0.6666666666666666,
              "#ed7953"
             ],
             [
              0.7777777777777778,
              "#fb9f3a"
             ],
             [
              0.8888888888888888,
              "#fdca26"
             ],
             [
              1,
              "#f0f921"
             ]
            ],
            "type": "contour"
           }
          ],
          "contourcarpet": [
           {
            "colorbar": {
             "outlinewidth": 0,
             "ticks": ""
            },
            "type": "contourcarpet"
           }
          ],
          "heatmap": [
           {
            "colorbar": {
             "outlinewidth": 0,
             "ticks": ""
            },
            "colorscale": [
             [
              0,
              "#0d0887"
             ],
             [
              0.1111111111111111,
              "#46039f"
             ],
             [
              0.2222222222222222,
              "#7201a8"
             ],
             [
              0.3333333333333333,
              "#9c179e"
             ],
             [
              0.4444444444444444,
              "#bd3786"
             ],
             [
              0.5555555555555556,
              "#d8576b"
             ],
             [
              0.6666666666666666,
              "#ed7953"
             ],
             [
              0.7777777777777778,
              "#fb9f3a"
             ],
             [
              0.8888888888888888,
              "#fdca26"
             ],
             [
              1,
              "#f0f921"
             ]
            ],
            "type": "heatmap"
           }
          ],
          "heatmapgl": [
           {
            "colorbar": {
             "outlinewidth": 0,
             "ticks": ""
            },
            "colorscale": [
             [
              0,
              "#0d0887"
             ],
             [
              0.1111111111111111,
              "#46039f"
             ],
             [
              0.2222222222222222,
              "#7201a8"
             ],
             [
              0.3333333333333333,
              "#9c179e"
             ],
             [
              0.4444444444444444,
              "#bd3786"
             ],
             [
              0.5555555555555556,
              "#d8576b"
             ],
             [
              0.6666666666666666,
              "#ed7953"
             ],
             [
              0.7777777777777778,
              "#fb9f3a"
             ],
             [
              0.8888888888888888,
              "#fdca26"
             ],
             [
              1,
              "#f0f921"
             ]
            ],
            "type": "heatmapgl"
           }
          ],
          "histogram": [
           {
            "marker": {
             "pattern": {
              "fillmode": "overlay",
              "size": 10,
              "solidity": 0.2
             }
            },
            "type": "histogram"
           }
          ],
          "histogram2d": [
           {
            "colorbar": {
             "outlinewidth": 0,
             "ticks": ""
            },
            "colorscale": [
             [
              0,
              "#0d0887"
             ],
             [
              0.1111111111111111,
              "#46039f"
             ],
             [
              0.2222222222222222,
              "#7201a8"
             ],
             [
              0.3333333333333333,
              "#9c179e"
             ],
             [
              0.4444444444444444,
              "#bd3786"
             ],
             [
              0.5555555555555556,
              "#d8576b"
             ],
             [
              0.6666666666666666,
              "#ed7953"
             ],
             [
              0.7777777777777778,
              "#fb9f3a"
             ],
             [
              0.8888888888888888,
              "#fdca26"
             ],
             [
              1,
              "#f0f921"
             ]
            ],
            "type": "histogram2d"
           }
          ],
          "histogram2dcontour": [
           {
            "colorbar": {
             "outlinewidth": 0,
             "ticks": ""
            },
            "colorscale": [
             [
              0,
              "#0d0887"
             ],
             [
              0.1111111111111111,
              "#46039f"
             ],
             [
              0.2222222222222222,
              "#7201a8"
             ],
             [
              0.3333333333333333,
              "#9c179e"
             ],
             [
              0.4444444444444444,
              "#bd3786"
             ],
             [
              0.5555555555555556,
              "#d8576b"
             ],
             [
              0.6666666666666666,
              "#ed7953"
             ],
             [
              0.7777777777777778,
              "#fb9f3a"
             ],
             [
              0.8888888888888888,
              "#fdca26"
             ],
             [
              1,
              "#f0f921"
             ]
            ],
            "type": "histogram2dcontour"
           }
          ],
          "mesh3d": [
           {
            "colorbar": {
             "outlinewidth": 0,
             "ticks": ""
            },
            "type": "mesh3d"
           }
          ],
          "parcoords": [
           {
            "line": {
             "colorbar": {
              "outlinewidth": 0,
              "ticks": ""
             }
            },
            "type": "parcoords"
           }
          ],
          "pie": [
           {
            "automargin": true,
            "type": "pie"
           }
          ],
          "scatter": [
           {
            "fillpattern": {
             "fillmode": "overlay",
             "size": 10,
             "solidity": 0.2
            },
            "type": "scatter"
           }
          ],
          "scatter3d": [
           {
            "line": {
             "colorbar": {
              "outlinewidth": 0,
              "ticks": ""
             }
            },
            "marker": {
             "colorbar": {
              "outlinewidth": 0,
              "ticks": ""
             }
            },
            "type": "scatter3d"
           }
          ],
          "scattercarpet": [
           {
            "marker": {
             "colorbar": {
              "outlinewidth": 0,
              "ticks": ""
             }
            },
            "type": "scattercarpet"
           }
          ],
          "scattergeo": [
           {
            "marker": {
             "colorbar": {
              "outlinewidth": 0,
              "ticks": ""
             }
            },
            "type": "scattergeo"
           }
          ],
          "scattergl": [
           {
            "marker": {
             "colorbar": {
              "outlinewidth": 0,
              "ticks": ""
             }
            },
            "type": "scattergl"
           }
          ],
          "scattermapbox": [
           {
            "marker": {
             "colorbar": {
              "outlinewidth": 0,
              "ticks": ""
             }
            },
            "type": "scattermapbox"
           }
          ],
          "scatterpolar": [
           {
            "marker": {
             "colorbar": {
              "outlinewidth": 0,
              "ticks": ""
             }
            },
            "type": "scatterpolar"
           }
          ],
          "scatterpolargl": [
           {
            "marker": {
             "colorbar": {
              "outlinewidth": 0,
              "ticks": ""
             }
            },
            "type": "scatterpolargl"
           }
          ],
          "scatterternary": [
           {
            "marker": {
             "colorbar": {
              "outlinewidth": 0,
              "ticks": ""
             }
            },
            "type": "scatterternary"
           }
          ],
          "surface": [
           {
            "colorbar": {
             "outlinewidth": 0,
             "ticks": ""
            },
            "colorscale": [
             [
              0,
              "#0d0887"
             ],
             [
              0.1111111111111111,
              "#46039f"
             ],
             [
              0.2222222222222222,
              "#7201a8"
             ],
             [
              0.3333333333333333,
              "#9c179e"
             ],
             [
              0.4444444444444444,
              "#bd3786"
             ],
             [
              0.5555555555555556,
              "#d8576b"
             ],
             [
              0.6666666666666666,
              "#ed7953"
             ],
             [
              0.7777777777777778,
              "#fb9f3a"
             ],
             [
              0.8888888888888888,
              "#fdca26"
             ],
             [
              1,
              "#f0f921"
             ]
            ],
            "type": "surface"
           }
          ],
          "table": [
           {
            "cells": {
             "fill": {
              "color": "#EBF0F8"
             },
             "line": {
              "color": "white"
             }
            },
            "header": {
             "fill": {
              "color": "#C8D4E3"
             },
             "line": {
              "color": "white"
             }
            },
            "type": "table"
           }
          ]
         },
         "layout": {
          "annotationdefaults": {
           "arrowcolor": "#2a3f5f",
           "arrowhead": 0,
           "arrowwidth": 1
          },
          "autotypenumbers": "strict",
          "coloraxis": {
           "colorbar": {
            "outlinewidth": 0,
            "ticks": ""
           }
          },
          "colorscale": {
           "diverging": [
            [
             0,
             "#8e0152"
            ],
            [
             0.1,
             "#c51b7d"
            ],
            [
             0.2,
             "#de77ae"
            ],
            [
             0.3,
             "#f1b6da"
            ],
            [
             0.4,
             "#fde0ef"
            ],
            [
             0.5,
             "#f7f7f7"
            ],
            [
             0.6,
             "#e6f5d0"
            ],
            [
             0.7,
             "#b8e186"
            ],
            [
             0.8,
             "#7fbc41"
            ],
            [
             0.9,
             "#4d9221"
            ],
            [
             1,
             "#276419"
            ]
           ],
           "sequential": [
            [
             0,
             "#0d0887"
            ],
            [
             0.1111111111111111,
             "#46039f"
            ],
            [
             0.2222222222222222,
             "#7201a8"
            ],
            [
             0.3333333333333333,
             "#9c179e"
            ],
            [
             0.4444444444444444,
             "#bd3786"
            ],
            [
             0.5555555555555556,
             "#d8576b"
            ],
            [
             0.6666666666666666,
             "#ed7953"
            ],
            [
             0.7777777777777778,
             "#fb9f3a"
            ],
            [
             0.8888888888888888,
             "#fdca26"
            ],
            [
             1,
             "#f0f921"
            ]
           ],
           "sequentialminus": [
            [
             0,
             "#0d0887"
            ],
            [
             0.1111111111111111,
             "#46039f"
            ],
            [
             0.2222222222222222,
             "#7201a8"
            ],
            [
             0.3333333333333333,
             "#9c179e"
            ],
            [
             0.4444444444444444,
             "#bd3786"
            ],
            [
             0.5555555555555556,
             "#d8576b"
            ],
            [
             0.6666666666666666,
             "#ed7953"
            ],
            [
             0.7777777777777778,
             "#fb9f3a"
            ],
            [
             0.8888888888888888,
             "#fdca26"
            ],
            [
             1,
             "#f0f921"
            ]
           ]
          },
          "colorway": [
           "#636efa",
           "#EF553B",
           "#00cc96",
           "#ab63fa",
           "#FFA15A",
           "#19d3f3",
           "#FF6692",
           "#B6E880",
           "#FF97FF",
           "#FECB52"
          ],
          "font": {
           "color": "#2a3f5f"
          },
          "geo": {
           "bgcolor": "white",
           "lakecolor": "white",
           "landcolor": "#E5ECF6",
           "showlakes": true,
           "showland": true,
           "subunitcolor": "white"
          },
          "hoverlabel": {
           "align": "left"
          },
          "hovermode": "closest",
          "mapbox": {
           "style": "light"
          },
          "paper_bgcolor": "white",
          "plot_bgcolor": "#E5ECF6",
          "polar": {
           "angularaxis": {
            "gridcolor": "white",
            "linecolor": "white",
            "ticks": ""
           },
           "bgcolor": "#E5ECF6",
           "radialaxis": {
            "gridcolor": "white",
            "linecolor": "white",
            "ticks": ""
           }
          },
          "scene": {
           "xaxis": {
            "backgroundcolor": "#E5ECF6",
            "gridcolor": "white",
            "gridwidth": 2,
            "linecolor": "white",
            "showbackground": true,
            "ticks": "",
            "zerolinecolor": "white"
           },
           "yaxis": {
            "backgroundcolor": "#E5ECF6",
            "gridcolor": "white",
            "gridwidth": 2,
            "linecolor": "white",
            "showbackground": true,
            "ticks": "",
            "zerolinecolor": "white"
           },
           "zaxis": {
            "backgroundcolor": "#E5ECF6",
            "gridcolor": "white",
            "gridwidth": 2,
            "linecolor": "white",
            "showbackground": true,
            "ticks": "",
            "zerolinecolor": "white"
           }
          },
          "shapedefaults": {
           "line": {
            "color": "#2a3f5f"
           }
          },
          "ternary": {
           "aaxis": {
            "gridcolor": "white",
            "linecolor": "white",
            "ticks": ""
           },
           "baxis": {
            "gridcolor": "white",
            "linecolor": "white",
            "ticks": ""
           },
           "bgcolor": "#E5ECF6",
           "caxis": {
            "gridcolor": "white",
            "linecolor": "white",
            "ticks": ""
           }
          },
          "title": {
           "x": 0.05
          },
          "xaxis": {
           "automargin": true,
           "gridcolor": "white",
           "linecolor": "white",
           "ticks": "",
           "title": {
            "standoff": 15
           },
           "zerolinecolor": "white",
           "zerolinewidth": 2
          },
          "yaxis": {
           "automargin": true,
           "gridcolor": "white",
           "linecolor": "white",
           "ticks": "",
           "title": {
            "standoff": 15
           },
           "zerolinecolor": "white",
           "zerolinewidth": 2
          }
         }
        },
        "xaxis": {
         "autorange": true,
         "range": [
          3.799334055468341,
          9.253990944531658
         ],
         "type": "linear"
        },
        "yaxis": {
         "autorange": true,
         "range": [
          4.545699033980583,
          7.968987966019418
         ],
         "type": "linear"
        }
       }
      },
      "image/png": "[encoded data removed]",
      "text/html": [
       "<div>                            <div id=\"146b7972-27af-4816-8680-ed7ce79c3536\" class=\"plotly-graph-div\" style=\"height:525px; width:100%;\"></div>            <script type=\"text/javascript\">                require([\"plotly\"], function(Plotly) {                    window.PLOTLYENV=window.PLOTLYENV || {};                                    if (document.getElementById(\"146b7972-27af-4816-8680-ed7ce79c3536\")) {                    Plotly.newPlot(                        \"146b7972-27af-4816-8680-ed7ce79c3536\",                        [{\"name\":\"(8.934018, 7.703327)\",\"x\":[8.934018],\"y\":[7.703327],\"type\":\"scatter\"},{\"name\":\"(8.484618, 6.290077)\",\"x\":[8.484618],\"y\":[6.290077],\"type\":\"scatter\"},{\"name\":\"(8.50546, 6.476444)\",\"x\":[8.50546],\"y\":[6.476444],\"type\":\"scatter\"},{\"name\":\"(8.047481, 5.966049)\",\"x\":[8.047481],\"y\":[5.966049],\"type\":\"scatter\"},{\"name\":\"(7.725423, 7.726505)\",\"x\":[7.725423],\"y\":[7.726505],\"type\":\"scatter\"},{\"name\":\"(4.119307, 6.847787)\",\"x\":[4.119307],\"y\":[6.847787],\"type\":\"scatter\"},{\"name\":\"(4.741723, 6.139247)\",\"x\":[4.741723],\"y\":[6.139247],\"type\":\"scatter\"},{\"name\":\"(6.692531, 6.286102)\",\"x\":[6.692531],\"y\":[6.286102],\"type\":\"scatter\"},{\"name\":\"(5.529114, 5.870121)\",\"x\":[5.529114],\"y\":[5.870121],\"type\":\"scatter\"},{\"name\":\"(5.711468, 5.857034)\",\"x\":[5.711468],\"y\":[5.857034],\"type\":\"scatter\"},{\"name\":\"(6.441282, 6.378145)\",\"x\":[6.441282],\"y\":[6.378145],\"type\":\"scatter\"},{\"name\":\"(7.3533, 5.173133)\",\"x\":[7.3533],\"y\":[5.173133],\"type\":\"scatter\"},{\"name\":\"segment\",\"x\":[6.316246,6.248517],\"y\":[4.788182,5.230901],\"type\":\"scatter\"},{\"name\":\"segment\",\"x\":[6.248517,6.172466],\"y\":[5.230901,5.448168],\"type\":\"scatter\"},{\"name\":\"segment\",\"x\":[6.172466,6.078373],\"y\":[5.448168,5.719055],\"type\":\"scatter\"},{\"name\":\"segment\",\"x\":[6.078373,6.051647],\"y\":[5.719055,5.865528],\"type\":\"scatter\"},{\"name\":\"segment\",\"x\":[6.051647,6.02648],\"y\":[5.865528,5.978601],\"type\":\"scatter\"},{\"name\":\"segment\",\"x\":[6.02648,6.009377],\"y\":[5.978601,6.051857],\"type\":\"scatter\"},{\"name\":\"segment\",\"x\":[6.009377,5.988092],\"y\":[6.051857,6.152656],\"type\":\"scatter\"},{\"name\":\"segment\",\"x\":[5.988092,5.888783],\"y\":[6.152656,6.313534],\"type\":\"scatter\"},{\"name\":\"segment\",\"x\":[5.888783,5.857484],\"y\":[6.313534,6.399435],\"type\":\"scatter\"},{\"name\":\"segment\",\"x\":[5.857484,5.805855],\"y\":[6.399435,6.535716],\"type\":\"scatter\"},{\"name\":\"segment\",\"x\":[5.805855,5.771865],\"y\":[6.535716,6.631406],\"type\":\"scatter\"},{\"name\":\"segment\",\"x\":[5.771865,5.703528],\"y\":[6.631406,6.716372],\"type\":\"scatter\"},{\"name\":\"segment\",\"x\":[5.703528,5.67063],\"y\":[6.716372,6.775653],\"type\":\"scatter\"},{\"name\":\"segment\",\"x\":[5.67063,5.644983],\"y\":[6.775653,6.913284],\"type\":\"scatter\"},{\"name\":\"segment\",\"x\":[5.644983,5.611528],\"y\":[6.913284,6.990774],\"type\":\"scatter\"},{\"name\":\"segment\",\"x\":[5.611528,5.590928],\"y\":[6.990774,7.125623],\"type\":\"scatter\"},{\"name\":\"segment\",\"x\":[5.590928,5.565074],\"y\":[7.125623,7.224829],\"type\":\"scatter\"},{\"name\":\"segment\",\"x\":[5.565074,5.492228],\"y\":[7.224829,7.511988],\"type\":\"scatter\"},{\"name\":\"3.329123089901753\",\"x\":[8.934018,5.988092],\"y\":[7.703327,6.152656],\"type\":\"scatter\"},{\"name\":\"2.4603894218864917\",\"x\":[8.484618,6.16023391],\"y\":[6.290077,5.48338331],\"type\":\"scatter\"},{\"name\":\"2.527928107598541\",\"x\":[8.50546,6.0378051500000005],\"y\":[6.476444,5.9277181500000005],\"type\":\"scatter\"},{\"name\":\"1.9408268165157183\",\"x\":[8.047481,6.21581507],\"y\":[5.966049,5.32432581],\"type\":\"scatter\"},{\"name\":\"2.217039549796344\",\"x\":[7.725423,5.58006932],\"y\":[7.726505,7.16728952],\"type\":\"scatter\"},{\"name\":\"1.4941227821210006\",\"x\":[4.119307,5.565074],\"y\":[6.847787,7.224829],\"type\":\"scatter\"},{\"name\":\"1.121669346844247\",\"x\":[4.741723,5.703528],\"y\":[6.139247,6.716372],\"type\":\"scatter\"},{\"name\":\"0.7168110733835552\",\"x\":[6.692531,5.99128475],\"y\":[6.286102,6.13753615],\"type\":\"scatter\"},{\"name\":\"0.5090044301711434\",\"x\":[5.529114,6.0247697],\"y\":[5.870121,5.9859266],\"type\":\"scatter\"},{\"name\":\"0.3338992868476783\",\"x\":[5.711468,6.03730181],\"y\":[5.857034,5.92997961],\"type\":\"scatter\"},{\"name\":\"0.5061881717513755\",\"x\":[6.441282,5.988092],\"y\":[6.378145,6.152656],\"type\":\"scatter\"},{\"name\":\"1.0833414108740145\",\"x\":[7.3533,6.2823815],\"y\":[5.173133,5.0095415],\"type\":\"scatter\"}],                        {\"template\":{\"data\":{\"histogram2dcontour\":[{\"type\":\"histogram2dcontour\",\"colorbar\":{\"outlinewidth\":0,\"ticks\":\"\"},\"colorscale\":[[0.0,\"#0d0887\"],[0.1111111111111111,\"#46039f\"],[0.2222222222222222,\"#7201a8\"],[0.3333333333333333,\"#9c179e\"],[0.4444444444444444,\"#bd3786\"],[0.5555555555555556,\"#d8576b\"],[0.6666666666666666,\"#ed7953\"],[0.7777777777777778,\"#fb9f3a\"],[0.8888888888888888,\"#fdca26\"],[1.0,\"#f0f921\"]]}],\"choropleth\":[{\"type\":\"choropleth\",\"colorbar\":{\"outlinewidth\":0,\"ticks\":\"\"}}],\"histogram2d\":[{\"type\":\"histogram2d\",\"colorbar\":{\"outlinewidth\":0,\"ticks\":\"\"},\"colorscale\":[[0.0,\"#0d0887\"],[0.1111111111111111,\"#46039f\"],[0.2222222222222222,\"#7201a8\"],[0.3333333333333333,\"#9c179e\"],[0.4444444444444444,\"#bd3786\"],[0.5555555555555556,\"#d8576b\"],[0.6666666666666666,\"#ed7953\"],[0.7777777777777778,\"#fb9f3a\"],[0.8888888888888888,\"#fdca26\"],[1.0,\"#f0f921\"]]}],\"heatmap\":[{\"type\":\"heatmap\",\"colorbar\":{\"outlinewidth\":0,\"ticks\":\"\"},\"colorscale\":[[0.0,\"#0d0887\"],[0.1111111111111111,\"#46039f\"],[0.2222222222222222,\"#7201a8\"],[0.3333333333333333,\"#9c179e\"],[0.4444444444444444,\"#bd3786\"],[0.5555555555555556,\"#d8576b\"],[0.6666666666666666,\"#ed7953\"],[0.7777777777777778,\"#fb9f3a\"],[0.8888888888888888,\"#fdca26\"],[1.0,\"#f0f921\"]]}],\"heatmapgl\":[{\"type\":\"heatmapgl\",\"colorbar\":{\"outlinewidth\":0,\"ticks\":\"\"},\"colorscale\":[[0.0,\"#0d0887\"],[0.1111111111111111,\"#46039f\"],[0.2222222222222222,\"#7201a8\"],[0.3333333333333333,\"#9c179e\"],[0.4444444444444444,\"#bd3786\"],[0.5555555555555556,\"#d8576b\"],[0.6666666666666666,\"#ed7953\"],[0.7777777777777778,\"#fb9f3a\"],[0.8888888888888888,\"#fdca26\"],[1.0,\"#f0f921\"]]}],\"contourcarpet\":[{\"type\":\"contourcarpet\",\"colorbar\":{\"outlinewidth\":0,\"ticks\":\"\"}}],\"contour\":[{\"type\":\"contour\",\"colorbar\":{\"outlinewidth\":0,\"ticks\":\"\"},\"colorscale\":[[0.0,\"#0d0887\"],[0.1111111111111111,\"#46039f\"],[0.2222222222222222,\"#7201a8\"],[0.3333333333333333,\"#9c179e\"],[0.4444444444444444,\"#bd3786\"],[0.5555555555555556,\"#d8576b\"],[0.6666666666666666,\"#ed7953\"],[0.7777777777777778,\"#fb9f3a\"],[0.8888888888888888,\"#fdca26\"],[1.0,\"#f0f921\"]]}],\"surface\":[{\"type\":\"surface\",\"colorbar\":{\"outlinewidth\":0,\"ticks\":\"\"},\"colorscale\":[[0.0,\"#0d0887\"],[0.1111111111111111,\"#46039f\"],[0.2222222222222222,\"#7201a8\"],[0.3333333333333333,\"#9c179e\"],[0.4444444444444444,\"#bd3786\"],[0.5555555555555556,\"#d8576b\"],[0.6666666666666666,\"#ed7953\"],[0.7777777777777778,\"#fb9f3a\"],[0.8888888888888888,\"#fdca26\"],[1.0,\"#f0f921\"]]}],\"mesh3d\":[{\"type\":\"mesh3d\",\"colorbar\":{\"outlinewidth\":0,\"ticks\":\"\"}}],\"scatter\":[{\"fillpattern\":{\"fillmode\":\"overlay\",\"size\":10,\"solidity\":0.2},\"type\":\"scatter\"}],\"parcoords\":[{\"type\":\"parcoords\",\"line\":{\"colorbar\":{\"outlinewidth\":0,\"ticks\":\"\"}}}],\"scatterpolargl\":[{\"type\":\"scatterpolargl\",\"marker\":{\"colorbar\":{\"outlinewidth\":0,\"ticks\":\"\"}}}],\"bar\":[{\"error_x\":{\"color\":\"#2a3f5f\"},\"error_y\":{\"color\":\"#2a3f5f\"},\"marker\":{\"line\":{\"color\":\"#E5ECF6\",\"width\":0.5},\"pattern\":{\"fillmode\":\"overlay\",\"size\":10,\"solidity\":0.2}},\"type\":\"bar\"}],\"scattergeo\":[{\"type\":\"scattergeo\",\"marker\":{\"colorbar\":{\"outlinewidth\":0,\"ticks\":\"\"}}}],\"scatterpolar\":[{\"type\":\"scatterpolar\",\"marker\":{\"colorbar\":{\"outlinewidth\":0,\"ticks\":\"\"}}}],\"histogram\":[{\"marker\":{\"pattern\":{\"fillmode\":\"overlay\",\"size\":10,\"solidity\":0.2}},\"type\":\"histogram\"}],\"scattergl\":[{\"type\":\"scattergl\",\"marker\":{\"colorbar\":{\"outlinewidth\":0,\"ticks\":\"\"}}}],\"scatter3d\":[{\"type\":\"scatter3d\",\"line\":{\"colorbar\":{\"outlinewidth\":0,\"ticks\":\"\"}},\"marker\":{\"colorbar\":{\"outlinewidth\":0,\"ticks\":\"\"}}}],\"scattermapbox\":[{\"type\":\"scattermapbox\",\"marker\":{\"colorbar\":{\"outlinewidth\":0,\"ticks\":\"\"}}}],\"scatterternary\":[{\"type\":\"scatterternary\",\"marker\":{\"colorbar\":{\"outlinewidth\":0,\"ticks\":\"\"}}}],\"scattercarpet\":[{\"type\":\"scattercarpet\",\"marker\":{\"colorbar\":{\"outlinewidth\":0,\"ticks\":\"\"}}}],\"carpet\":[{\"aaxis\":{\"endlinecolor\":\"#2a3f5f\",\"gridcolor\":\"white\",\"linecolor\":\"white\",\"minorgridcolor\":\"white\",\"startlinecolor\":\"#2a3f5f\"},\"baxis\":{\"endlinecolor\":\"#2a3f5f\",\"gridcolor\":\"white\",\"linecolor\":\"white\",\"minorgridcolor\":\"white\",\"startlinecolor\":\"#2a3f5f\"},\"type\":\"carpet\"}],\"table\":[{\"cells\":{\"fill\":{\"color\":\"#EBF0F8\"},\"line\":{\"color\":\"white\"}},\"header\":{\"fill\":{\"color\":\"#C8D4E3\"},\"line\":{\"color\":\"white\"}},\"type\":\"table\"}],\"barpolar\":[{\"marker\":{\"line\":{\"color\":\"#E5ECF6\",\"width\":0.5},\"pattern\":{\"fillmode\":\"overlay\",\"size\":10,\"solidity\":0.2}},\"type\":\"barpolar\"}],\"pie\":[{\"automargin\":true,\"type\":\"pie\"}]},\"layout\":{\"autotypenumbers\":\"strict\",\"colorway\":[\"#636efa\",\"#EF553B\",\"#00cc96\",\"#ab63fa\",\"#FFA15A\",\"#19d3f3\",\"#FF6692\",\"#B6E880\",\"#FF97FF\",\"#FECB52\"],\"font\":{\"color\":\"#2a3f5f\"},\"hovermode\":\"closest\",\"hoverlabel\":{\"align\":\"left\"},\"paper_bgcolor\":\"white\",\"plot_bgcolor\":\"#E5ECF6\",\"polar\":{\"bgcolor\":\"#E5ECF6\",\"angularaxis\":{\"gridcolor\":\"white\",\"linecolor\":\"white\",\"ticks\":\"\"},\"radialaxis\":{\"gridcolor\":\"white\",\"linecolor\":\"white\",\"ticks\":\"\"}},\"ternary\":{\"bgcolor\":\"#E5ECF6\",\"aaxis\":{\"gridcolor\":\"white\",\"linecolor\":\"white\",\"ticks\":\"\"},\"baxis\":{\"gridcolor\":\"white\",\"linecolor\":\"white\",\"ticks\":\"\"},\"caxis\":{\"gridcolor\":\"white\",\"linecolor\":\"white\",\"ticks\":\"\"}},\"coloraxis\":{\"colorbar\":{\"outlinewidth\":0,\"ticks\":\"\"}},\"colorscale\":{\"sequential\":[[0.0,\"#0d0887\"],[0.1111111111111111,\"#46039f\"],[0.2222222222222222,\"#7201a8\"],[0.3333333333333333,\"#9c179e\"],[0.4444444444444444,\"#bd3786\"],[0.5555555555555556,\"#d8576b\"],[0.6666666666666666,\"#ed7953\"],[0.7777777777777778,\"#fb9f3a\"],[0.8888888888888888,\"#fdca26\"],[1.0,\"#f0f921\"]],\"sequentialminus\":[[0.0,\"#0d0887\"],[0.1111111111111111,\"#46039f\"],[0.2222222222222222,\"#7201a8\"],[0.3333333333333333,\"#9c179e\"],[0.4444444444444444,\"#bd3786\"],[0.5555555555555556,\"#d8576b\"],[0.6666666666666666,\"#ed7953\"],[0.7777777777777778,\"#fb9f3a\"],[0.8888888888888888,\"#fdca26\"],[1.0,\"#f0f921\"]],\"diverging\":[[0,\"#8e0152\"],[0.1,\"#c51b7d\"],[0.2,\"#de77ae\"],[0.3,\"#f1b6da\"],[0.4,\"#fde0ef\"],[0.5,\"#f7f7f7\"],[0.6,\"#e6f5d0\"],[0.7,\"#b8e186\"],[0.8,\"#7fbc41\"],[0.9,\"#4d9221\"],[1,\"#276419\"]]},\"xaxis\":{\"gridcolor\":\"white\",\"linecolor\":\"white\",\"ticks\":\"\",\"title\":{\"standoff\":15},\"zerolinecolor\":\"white\",\"automargin\":true,\"zerolinewidth\":2},\"yaxis\":{\"gridcolor\":\"white\",\"linecolor\":\"white\",\"ticks\":\"\",\"title\":{\"standoff\":15},\"zerolinecolor\":\"white\",\"automargin\":true,\"zerolinewidth\":2},\"scene\":{\"xaxis\":{\"backgroundcolor\":\"#E5ECF6\",\"gridcolor\":\"white\",\"linecolor\":\"white\",\"showbackground\":true,\"ticks\":\"\",\"zerolinecolor\":\"white\",\"gridwidth\":2},\"yaxis\":{\"backgroundcolor\":\"#E5ECF6\",\"gridcolor\":\"white\",\"linecolor\":\"white\",\"showbackground\":true,\"ticks\":\"\",\"zerolinecolor\":\"white\",\"gridwidth\":2},\"zaxis\":{\"backgroundcolor\":\"#E5ECF6\",\"gridcolor\":\"white\",\"linecolor\":\"white\",\"showbackground\":true,\"ticks\":\"\",\"zerolinecolor\":\"white\",\"gridwidth\":2}},\"shapedefaults\":{\"line\":{\"color\":\"#2a3f5f\"}},\"annotationdefaults\":{\"arrowcolor\":\"#2a3f5f\",\"arrowhead\":0,\"arrowwidth\":1},\"geo\":{\"bgcolor\":\"white\",\"landcolor\":\"#E5ECF6\",\"subunitcolor\":\"white\",\"showland\":true,\"showlakes\":true,\"lakecolor\":\"white\"},\"title\":{\"x\":0.05},\"mapbox\":{\"style\":\"light\"}}}},                        {\"responsive\": true}                    ).then(function(){\n",
       "                            \n",
       "var gd = document.getElementById('146b7972-27af-4816-8680-ed7ce79c3536');\n",
       "var x = new MutationObserver(function (mutations, observer) {{\n",
       "        var display = window.getComputedStyle(gd).display;\n",
       "        if (!display || display === 'none') {{\n",
       "            console.log([gd, 'removed!']);\n",
       "            Plotly.purge(gd);\n",
       "            observer.disconnect();\n",
       "        }}\n",
       "}});\n",
       "\n",
       "// Listen for the removal of the full notebook cells\n",
       "var notebookContainer = gd.closest('#notebook-container');\n",
       "if (notebookContainer) {{\n",
       "    x.observe(notebookContainer, {childList: true});\n",
       "}}\n",
       "\n",
       "// Listen for the clearing of the current output cell\n",
       "var outputEl = gd.closest('.output');\n",
       "if (outputEl) {{\n",
       "    x.observe(outputEl, {childList: true});\n",
       "}}\n",
       "\n",
       "                        })                };                });            </script>        </div>"
      ]
     },
     "metadata": {},
     "output_type": "display_data"
    },
    {
     "data": {
      "text/plain": [
       "[((5.988092, 6.152656),\n",
       "  (8.934018, 7.703327),\n",
       "  {'b': -14.395731876449036, 'c': 56.498377083045455}),\n",
       " ((5.988092, 6.152656),\n",
       "  (6.441282, 6.378145),\n",
       "  {'b': -11.931814477503922, 'c': 41.74421301776141}),\n",
       " ((6.16023391, 5.48338331),\n",
       "  (8.484618, 6.290077),\n",
       "  {'b': -14.29779494404047, 'c': 55.612662736590764}),\n",
       " ((6.0378051500000005, 5.9277181500000005),\n",
       "  (8.50546, 6.476444),\n",
       "  {'b': -14.320897807986997, 'c': 55.93941765832109}),\n",
       " ((6.21581507, 5.32432581),\n",
       "  (8.047481, 5.966049),\n",
       "  {'b': -13.912946598794843, 'c': 53.16827196245512}),\n",
       " ((5.58006932, 7.16728952),\n",
       "  (7.725423, 7.726505),\n",
       "  {'b': -13.044828782228455, 'c': 48.8211647763607}),\n",
       " ((5.565074, 7.224829),\n",
       "  (4.119307, 6.847787),\n",
       "  {'b': -9.423590706681644, 'c': 28.697760002919644}),\n",
       " ((5.703528, 6.716372),\n",
       "  (4.741723, 6.139247),\n",
       "  {'b': -9.84520733210474, 'c': 30.33855603768069}),\n",
       " ((5.99128475, 6.13753615),\n",
       "  (6.692531, 6.286102),\n",
       "  {'b': -12.47195600743453, 'c': 44.965083024430825}),\n",
       " ((6.0247697, 5.9859266),\n",
       "  (5.529114, 5.870121),\n",
       "  {'b': -11.32024248493882, 'c': 37.889930581874026}),\n",
       " ((6.03730181, 5.92997961),\n",
       "  (5.711468, 5.857034),\n",
       "  {'b': -11.524896142623376, 'c': 39.06024280689285}),\n",
       " ((6.2823815, 5.0095415),\n",
       "  (7.3533, 5.173133),\n",
       "  {'b': -13.482923376949556, 'c': 50.24609257772317})]"
      ]
     },
     "execution_count": 140,
     "metadata": {},
     "output_type": "execute_result"
    }
   ],
   "source": [
    "mygraph = nx.Graph(G = 1)\n",
    "final_results = arbor_best_cost('002_1_c_day4.csv', 1, 0, 0)\n",
    "graph_opt_lines(mygraph, final_results)\n",
    "list(mygraph.edges(data = True))"
   ]
  },
  {
   "cell_type": "code",
   "execution_count": 26,
   "id": "ea925b49-86b4-4b3b-b3ee-dccad9ee86ca",
   "metadata": {},
   "outputs": [],
   "source": [
    "def graph_opt_lines(graph, final):\n",
    "    for result in final:\n",
    "        x0 = result[4]\n",
    "        y0 = result[5]\n",
    "        p = result[6]\n",
    "        q = result[7]\n",
    "        first_point = x0, y0\n",
    "        second_point = p, q\n",
    "        G = graph.graph['Gravity']\n",
    "        b, c = calc_coeff(G, x0, y0, p, q)\n",
    "        graph.add_node(first_point, pos=first_point)\n",
    "        graph.add_node(second_point, pos=second_point)\n",
    "        graph.add_edge(first_point, second_point, b = b, c = c)\n",
    "    return graph"
   ]
  },
  {
   "cell_type": "code",
   "execution_count": 27,
   "id": "7f6893cf-5648-47b8-983b-b27c60208e97",
   "metadata": {},
   "outputs": [],
   "source": [
    "def get_opt_to_pq_drawings(gravity, final):\n",
    "    drawings = []\n",
    "    for result in final:\n",
    "        if G == 0:\n",
    "            x0 = result[4]\n",
    "            y0 = result[5]\n",
    "            p = result[6]\n",
    "            q = result[7]\n",
    "            xcoords = [p, x0]\n",
    "            ycoords = [q, y0]\n",
    "        \n",
    "            line = go.Scatter(x=xcoords, y=ycoords, name = str(result[0]))\n",
    "            drawings.append(line)\n",
    "        else: \n",
    "            x0 = result[4]\n",
    "            y0 = result[5]\n",
    "            p = result[6]\n",
    "            q = result[7]\n",
    "            b, c = calc_coeff(gravity, x0, y0, p, q)\n",
    "            x_opt = pylab.linspace(min(p, x0), max(p, x0))\n",
    "            y_opt = gravity * x_opt ** 2 + b * x_opt + c\n",
    "            line = go.Scatter(x=x_opt, y=y_opt, name = str(result[0]))\n",
    "            drawings.append(line)\n",
    "    return drawings\n",
    "    "
   ]
  },
  {
   "cell_type": "code",
   "execution_count": 14,
   "id": "2a8aa91f-b380-49e1-93ef-3decf4126247",
   "metadata": {},
   "outputs": [
    {
     "data": {
      "text/plain": [
       "29.774327793633596"
      ]
     },
     "execution_count": 14,
     "metadata": {},
     "output_type": "execute_result"
    }
   ],
   "source": [
    "G = rar.read_arbor_full('002_1_c_day4.csv')\n",
    "droot = {}\n",
    "queue = []\n",
    "curr = None\n",
    "visited = set()\n",
    "\n",
    "root = G.graph['main root base']\n",
    "\n",
    "queue.append(root)\n",
    "droot[root] = 0\n",
    "\n",
    "delay = 0\n",
    "while len(queue) > 0:\n",
    "    curr = queue.pop(0)\n",
    "    # we should never visit a node twice\n",
    "    assert curr not in visited\n",
    "    visited.add(curr)\n",
    "    # we only measure delay for the lateral root tips\n",
    "    if G.nodes[curr]['label'] == 'lateral root tip':\n",
    "        delay += droot[curr]\n",
    "    for u in G.neighbors(curr):\n",
    "        if u not in visited:\n",
    "            queue.append(u)\n",
    "            droot[u] = droot[curr] + G[curr][u]['length']\n",
    "\n",
    "# make sure we visited every node\n",
    "assert len(visited) == G.number_of_nodes()\n",
    "delay"
   ]
  },
  {
   "cell_type": "code",
   "execution_count": 17,
   "id": "22cb3f7f-4130-47f0-9d06-a6d9ae6d4985",
   "metadata": {},
   "outputs": [
    {
     "data": {
      "text/plain": [
       "25.828631820795696"
      ]
     },
     "execution_count": 17,
     "metadata": {},
     "output_type": "execute_result"
    }
   ],
   "source": [
    "wiring = 0\n",
    "for u, v in G.edges():\n",
    "    wiring += G[u][v]['length']\n",
    "wiring"
   ]
  },
  {
   "cell_type": "code",
   "execution_count": 18,
   "id": "6c10ee99-cfb5-4a2c-ad3a-07505d120296",
   "metadata": {},
   "outputs": [
    {
     "data": {
      "text/plain": [
       "{'arbor name': '002_1_c_day4', 'main root base': (6.316246, 4.788182)}"
      ]
     },
     "execution_count": 18,
     "metadata": {},
     "output_type": "execute_result"
    }
   ],
   "source": [
    "G.graph"
   ]
  },
  {
   "cell_type": "code",
   "execution_count": null,
   "id": "c26a7502-e7c4-46e3-8bcc-ce0bca1f90e4",
   "metadata": {},
   "outputs": [],
   "source": []
  }
 ],
 "metadata": {
  "kernelspec": {
   "display_name": "Python 3 (ipykernel)",
   "language": "python",
   "name": "python3"
  },
  "language_info": {
   "codemirror_mode": {
    "name": "ipython",
    "version": 3
   },
   "file_extension": ".py",
   "mimetype": "text/x-python",
   "name": "python",
   "nbconvert_exporter": "python",
   "pygments_lexer": "ipython3",
   "version": "3.12.3"
  }
 },
 "nbformat": 4,
 "nbformat_minor": 5
}
