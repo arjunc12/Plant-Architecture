{
 "cells": [
  {
   "cell_type": "code",
   "execution_count": 35,
   "id": "935daa55-3eab-4c6d-89de-e4b4ae68c931",
   "metadata": {},
   "outputs": [],
   "source": [
    "import math\n",
    "import point_similarity as ps\n",
    "from scipy.integrate import quad"
   ]
  },
  {
   "cell_type": "code",
   "execution_count": 44,
   "id": "1fe6ba30-a9d0-4d78-b52a-032c52c334b8",
   "metadata": {},
   "outputs": [
    {
     "data": {
      "text/plain": [
       "'\\nx0, y0 = 4,7.5\\nx1, y1 = 5,8\\np, q = 7,8\\nt = -24.5-4*b\\nb = ((q + 24.5 - 2*p*p)/(p-4))\\nb\\n'"
      ]
     },
     "execution_count": 44,
     "metadata": {},
     "output_type": "execute_result"
    }
   ],
   "source": [
    "#based on an x0, y0 and x1, y1, split the path between them into sections, then for each point, use it to complete qudratic to a certain point\n",
    "'''\n",
    "x0, y0 = 4,7.5\n",
    "x1, y1 = 5,8\n",
    "p, q = 7,8\n",
    "t = -24.5-4*b\n",
    "b = ((q + 24.5 - 2*p*p)/(p-4))\n",
    "b\n",
    "'''"
   ]
  },
  {
   "cell_type": "code",
   "execution_count": 76,
   "id": "cc2dea07-b4e2-4d9b-9543-72dcc2d640c0",
   "metadata": {},
   "outputs": [],
   "source": [
    "def calc_coeff(x, y, p, q):\n",
    "    c1 = y -2*x*x #-2 can be replaced by whatever G is\n",
    "    b = ((q - c1 - 2*p*p)/(p-x))\n",
    "    c = c1 - x * b\n",
    "    return c1, b, c"
   ]
  },
  {
   "cell_type": "code",
   "execution_count": 77,
   "id": "aff1c6ae-e180-4624-bb13-4fde7339db53",
   "metadata": {},
   "outputs": [
    {
     "data": {
      "text/plain": [
       "(-11, -19.75, 48.25)"
      ]
     },
     "execution_count": 77,
     "metadata": {},
     "output_type": "execute_result"
    }
   ],
   "source": [
    "calc_coeff(3, 7, 7, 8)"
   ]
  },
  {
   "cell_type": "code",
   "execution_count": null,
   "id": "e5d486d9-1c46-4582-a8d0-3bb55e5d1eba",
   "metadata": {},
   "outputs": [],
   "source": [
    "def curve_length"
   ]
  },
  {
   "cell_type": "code",
   "execution_count": null,
   "id": "aff6d2db-bf26-469c-956a-d8f6237f64cf",
   "metadata": {},
   "outputs": [],
   "source": []
  }
 ],
 "metadata": {
  "kernelspec": {
   "display_name": "Python 3 (ipykernel)",
   "language": "python",
   "name": "python3"
  },
  "language_info": {
   "codemirror_mode": {
    "name": "ipython",
    "version": 3
   },
   "file_extension": ".py",
   "mimetype": "text/x-python",
   "name": "python",
   "nbconvert_exporter": "python",
   "pygments_lexer": "ipython3",
   "version": "3.12.3"
  }
 },
 "nbformat": 4,
 "nbformat_minor": 5
}
